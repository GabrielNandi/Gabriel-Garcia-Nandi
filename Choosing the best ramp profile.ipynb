{
 "cells": [
  {
   "cell_type": "markdown",
   "metadata": {},
   "source": [
    "# Choosing the best ramp profile"
   ]
  },
  {
   "cell_type": "code",
   "execution_count": 1,
   "metadata": {
    "collapsed": false
   },
   "outputs": [],
   "source": [
    "from pathlib import Path\n",
    "import os\n",
    "\n",
    "import matplotlib\n",
    "import matplotlib.pyplot as plt\n",
    "import numpy as np\n",
    "from scipy.optimize import minimize, differential_evolution, basinhopping\n",
    "from pandas import Series, DataFrame\n",
    "import pandas as pd\n",
    "\n",
    "import teslamax\n",
    "from teslamax import TeslaMaxGeometry, TeslaMaxPreDesign, TeslaMaxModel\n",
    "\n",
    "import nemplot\n",
    "\n",
    "from IPython.display import display, HTML"
   ]
  },
  {
   "cell_type": "code",
   "execution_count": 2,
   "metadata": {
    "collapsed": true
   },
   "outputs": [],
   "source": [
    "DICT_LINES = 19"
   ]
  },
  {
   "cell_type": "code",
   "execution_count": 3,
   "metadata": {
    "collapsed": true
   },
   "outputs": [],
   "source": [
    "os.chdir(str(Path.home() / \"code\" / \"TeslaMax\"))"
   ]
  },
  {
   "cell_type": "code",
   "execution_count": 4,
   "metadata": {
    "collapsed": false,
    "scrolled": false
   },
   "outputs": [
    {
     "data": {
      "text/plain": [
       "'C:\\\\Users\\\\fabiofortkamp\\\\code\\\\TeslaMax'"
      ]
     },
     "execution_count": 4,
     "metadata": {},
     "output_type": "execute_result"
    }
   ],
   "source": [
    "os.getcwd()"
   ]
  },
  {
   "cell_type": "code",
   "execution_count": 5,
   "metadata": {
    "collapsed": true
   },
   "outputs": [],
   "source": [
    "def filter_table_from_column(table,column,value):\n",
    "    \"\"\"\n",
    "    Return a view into the 'table' DataFrame, selecting only the rows where\n",
    "    'column' equals 'value'\n",
    "    \"\"\"\n",
    "    \n",
    "    return table[table[column] == value]"
   ]
  },
  {
   "cell_type": "markdown",
   "metadata": {},
   "source": [
    "## Results from AMR simulations"
   ]
  },
  {
   "cell_type": "code",
   "execution_count": 6,
   "metadata": {
    "collapsed": true
   },
   "outputs": [],
   "source": [
    "# Fixed parameters\n",
    "\n",
    "PARAMETERS_AMR = {\n",
    "    \"D_p[m]\": 0.35e-3,\n",
    "    \"L[m]\": 85e-3,\n",
    "    \"W[m]\": 25e-3,\n",
    "    \"H[m]\": 22e-3,\n",
    "    \"N_r[]\": 8,\n",
    "    \"T_H[K]\": 305.5,\n",
    "    \"dT[K]\": 35,\n",
    "    \"Casing material\": \"Stainless steel\",\n",
    "    \"t_casing[m]\": 0.5e-3,\n",
    "    \"t_air[m]\": 1e-3,\n",
    "    \"N_layers[]\": 3,\n",
    "    \"T_C_layers[K]\": np.array([273,283,290]),\n",
    "    \"Length_fraction_layers[%]\": np.array([20,20,60]),\n",
    "    \"B_min[T]\": 0.05}"
   ]
  },
  {
   "cell_type": "code",
   "execution_count": 7,
   "metadata": {
    "collapsed": true
   },
   "outputs": [],
   "source": [
    "OPERATIONAL_PARAMETERS = {\n",
    "    \"Q_c[W]\": 100\n",
    "}"
   ]
  },
  {
   "cell_type": "markdown",
   "metadata": {},
   "source": [
    "From our AMR simualtions with the above parameters, for a high field of 1.3 T:"
   ]
  },
  {
   "cell_type": "code",
   "execution_count": 8,
   "metadata": {
    "collapsed": false
   },
   "outputs": [
    {
     "data": {
      "text/html": [
       "<table><tr><td><img src='figures/Qc_FM_ramp_f_1_Phi_40_35K_1.3T.png' width=500></td><td><img src='figures/COP_FM_ramp_f_1_Phi_40_35K_1.3T.png' width=500></td></tr></table>"
      ],
      "text/plain": [
       "<IPython.core.display.HTML object>"
      ]
     },
     "metadata": {},
     "output_type": "display_data"
    }
   ],
   "source": [
    "display(HTML(\"<table><tr><td><img src='figures/Qc_FM_ramp_f_1_Phi_40_35K_1.3T.png' width=500></td><td><img src='figures/COP_FM_ramp_f_1_Phi_40_35K_1.3T.png' width=500></td></tr></table>\"))"
   ]
  },
  {
   "cell_type": "markdown",
   "metadata": {},
   "source": [
    "Notice that, to maximize COP, it is interesting to work with a blow fraction between 70% and 80%, for a magnetization fraction between 30 and 35%; this results in cooling capacities between 140 and 150 W."
   ]
  },
  {
   "cell_type": "markdown",
   "metadata": {},
   "source": [
    "But this only applies for 1.3 T. For more compact magnets, we have to look into how is the performance for smaller magnetic fields:"
   ]
  },
  {
   "cell_type": "code",
   "execution_count": 9,
   "metadata": {
    "collapsed": false
   },
   "outputs": [
    {
     "data": {
      "text/html": [
       "<table><tr><td><img src='figures/Qc_ramp_map_f_1_Phi_40_FB_70_35K.png' width=500></td><td><img src='figures/COP_ramp_map_f_1_Phi_40_FB_70_35K_Valv_4W.png' width=500></td></tr></table>"
      ],
      "text/plain": [
       "<IPython.core.display.HTML object>"
      ]
     },
     "metadata": {},
     "output_type": "display_data"
    }
   ],
   "source": [
    "display(HTML(\"<table><tr><td><img src='figures/Qc_ramp_map_f_1_Phi_40_FB_70_35K.png' width=500></td><td><img src='figures/COP_ramp_map_f_1_Phi_40_FB_70_35K_Valv_4W.png' width=500></td></tr></table>\"))"
   ]
  },
  {
   "cell_type": "code",
   "execution_count": 10,
   "metadata": {
    "collapsed": false,
    "scrolled": false
   },
   "outputs": [
    {
     "data": {
      "text/html": [
       "<table><tr><td><img src='figures/Qc_ramp_map_f_1_Phi_40_FB_80_35K.png' width=500></td><td><img src='figures/COP_ramp_map_f_1_Phi_40_FB_80_35K_Valv_4W.png' width=500></td></tr></table>"
      ],
      "text/plain": [
       "<IPython.core.display.HTML object>"
      ]
     },
     "metadata": {},
     "output_type": "display_data"
    }
   ],
   "source": [
    "display(HTML(\"<table><tr><td><img src='figures/Qc_ramp_map_f_1_Phi_40_FB_80_35K.png' width=500></td><td><img src='figures/COP_ramp_map_f_1_Phi_40_FB_80_35K_Valv_4W.png' width=500></td></tr></table>\"))"
   ]
  },
  {
   "cell_type": "markdown",
   "metadata": {},
   "source": [
    "For this range, a profile of 1.25 T for 40% of the cycle should yield cooling capacities of 140 W, with a COP of 1.7."
   ]
  },
  {
   "cell_type": "markdown",
   "metadata": {},
   "source": [
    "## Maps for R_s"
   ]
  },
  {
   "cell_type": "markdown",
   "metadata": {},
   "source": [
    "From the above maps, then we have to find a geometry that is capable of generating these magnetic profiles. However, a primary concern is the size of the required magnet.\n",
    "\n",
    "These maps shows the minimum value of $R\\ped{s}$ that will yield a cost function less than unity, for a given pair of (magnetization fraction, maximum field) (the same independent variables in the above AMR maps). Some values of $R\\ped{o}$ are tested, and other parameters are fixed (check the files `map_Rs_Ro_XX.txt` for more information)."
   ]
  },
  {
   "cell_type": "code",
   "execution_count": 11,
   "metadata": {
    "collapsed": true
   },
   "outputs": [],
   "source": [
    "def get_Rs_map_vectors(R_o):\n",
    "    \"\"\"\n",
    "    Return (F_M, B_max, R_s) as arrays to be plotted with contourf,\n",
    "    from the results file for 'R_o' (in mm)\n",
    "    \"\"\"\n",
    "    \n",
    "    filename = \"map_Rs_Ro_%d.txt\" %(R_o,)\n",
    "    \n",
    "    file_path = Path(filename)\n",
    "    \n",
    "    # read the parameters at the header of the file,\n",
    "    # to extract the number of segments and format the table\n",
    "    with open(file_path) as f:\n",
    "        flines = f.readlines()\n",
    "        \n",
    "    params = eval(\"\".join(flines[0:DICT_LINES]))\n",
    "    \n",
    "    n = params[\"n_II\"] + params[\"n_IV\"]\n",
    "    \n",
    "    # parse the results file\n",
    "    column_names = [\"B_max[T]\",\n",
    "               \"F_M[%]\",\n",
    "               \"R_s[mm]\",\n",
    "               \"K[]\"] + (\n",
    "    [\"alpha_II_%d\" %(i+1) for i in range(0,params[\"n_II\"])] + \n",
    "    [\"alpha_IV_%d\" %(j+1) for j in range(0,params[\"n_IV\"])])\n",
    "    \n",
    "    map_table = pd.read_csv(filename,sep='\\t',skiprows=20,names=column_names,header=0)\n",
    "    \n",
    "    # tip to use pivot from\n",
    "    # https://stackoverflow.com/questions/24032282/create-contour-plot-from-pandas-groupby-dataframe\n",
    "    mp = map_table.pivot('B_max[T]','F_M[%]','R_s[mm]')\n",
    "    \n",
    "    X=mp.columns.values\n",
    "    Y=mp.index.values\n",
    "    R_s=mp.values\n",
    "    F_M, B_max =np.meshgrid(X, Y)\n",
    "    \n",
    "    return (F_M,B_max,R_s)"
   ]
  },
  {
   "cell_type": "markdown",
   "metadata": {},
   "source": [
    "For the inner magnet radius of 40 mm:"
   ]
  },
  {
   "cell_type": "code",
   "execution_count": 12,
   "metadata": {
    "collapsed": false
   },
   "outputs": [
    {
     "data": {
      "image/png": "[encoded data removed]",
      "text/plain": [
       "<matplotlib.figure.Figure at 0x12abf61fe80>"
      ]
     },
     "metadata": {},
     "output_type": "display_data"
    }
   ],
   "source": [
    "%matplotlib inline\n",
    "\n",
    "fig, ax = nemplot.create_plot(xlabel=r'$F\\ped{M}\\,[\\si{\\percent}]$',\n",
    "                             ylabel=r'$B\\ped{max}\\,[\\si{\\tesla}]$')\n",
    "\n",
    "F_M, B_max, R_s = get_Rs_map_vectors(40)\n",
    "\n",
    "R_s_contour = ax.contourf(F_M,B_max,R_s,cmap='jet')\n",
    "R_s_colorbar = fig.colorbar(R_s_contour,ax=ax)\n",
    "R_s_colorbar.set_label(r'$R\\ped{s}\\,[\\si{\\mm}]$')"
   ]
  },
  {
   "cell_type": "markdown",
   "metadata": {},
   "source": [
    "And for 50 mm:"
   ]
  },
  {
   "cell_type": "code",
   "execution_count": 13,
   "metadata": {
    "collapsed": false
   },
   "outputs": [
    {
     "data": {
      "image/png": "[encoded data removed]",
      "text/plain": [
       "<matplotlib.figure.Figure at 0x12ac0e9fa20>"
      ]
     },
     "metadata": {},
     "output_type": "display_data"
    }
   ],
   "source": [
    "%matplotlib inline\n",
    "\n",
    "fig, ax = nemplot.create_plot(xlabel=r'$F\\ped{M}\\,[\\si{\\percent}]$',\n",
    "                             ylabel=r'$B\\ped{max}\\,[\\si{\\tesla}]$')\n",
    "\n",
    "F_M, B_max, R_s = get_Rs_map_vectors(50)\n",
    "\n",
    "R_s_contour = ax.contourf(F_M,B_max,R_s,cmap='jet')\n",
    "R_s_colorbar = fig.colorbar(R_s_contour,ax=ax)\n",
    "R_s_colorbar.set_label(r'$R\\ped{s}\\,[\\si{\\mm}]$')"
   ]
  },
  {
   "cell_type": "markdown",
   "metadata": {},
   "source": [
    "Due to the computational cost of these simulations, the resolution for the axes are low, and hence these maps should only give loose indications of the required size of the magnet for a given profile. The actual shape of the profile should be checked with other simulations.\n",
    "\n",
    "But from our earlier estimative, these maps indicates that a profile of 1.25 T for 40% of the cycle could be implemented with a magnet smaller than 110 mm in external diamater - and we can further optimize from there."
   ]
  },
  {
   "cell_type": "markdown",
   "metadata": {},
   "source": [
    "## Compact AMRs"
   ]
  },
  {
   "cell_type": "markdown",
   "metadata": {},
   "source": [
    "By keeping other parameters constant, and keeping the magnetization fraction at 35%, we can generate a map of AMR performance as a function of regenerator height:"
   ]
  },
  {
   "cell_type": "code",
   "execution_count": 11,
   "metadata": {
    "collapsed": false
   },
   "outputs": [
    {
     "data": {
      "text/html": [
       "<table><tr><td><img src='figures/Qc_H_reg.png' width=500></td><td><img src='figures/COP_H_reg.png' width=500></td></tr></table>"
      ],
      "text/plain": [
       "<IPython.core.display.HTML object>"
      ]
     },
     "metadata": {},
     "output_type": "display_data"
    }
   ],
   "source": [
    "display(HTML(\"<table><tr><td><img src='figures/Qc_H_reg.png' width=500></td><td><img src='figures/COP_H_reg.png' width=500></td></tr></table>\"))"
   ]
  },
  {
   "cell_type": "markdown",
   "metadata": {},
   "source": [
    "Now, based on the previous magnet and AMR maps, we select an external radius od 120 mm and internal radius of 50 mm, and we vary the air gap height, to see the ability of the TeslaMax model to generate these magnetic profiles."
   ]
  },
  {
   "cell_type": "code",
   "execution_count": 14,
   "metadata": {
    "collapsed": true
   },
   "outputs": [],
   "source": [
    "def get_hgap_map_vectors(phi_S):\n",
    "    \"\"\"\n",
    "    Return (h_gap, B_max, K) as arrays to be plotted with contourf\n",
    "    \"\"\"\n",
    "    \n",
    "    filename = \"map_K.txt\"\n",
    "    \n",
    "    file_path = Path(filename)\n",
    "    \n",
    "    # read the parameters at the header of the file,\n",
    "    # to extract the number of segments and format the table\n",
    "    with open(file_path) as f:\n",
    "        flines = f.readlines()\n",
    "    \n",
    "    hgap_map_dict_lines = 14\n",
    "    \n",
    "    params = eval(\"\".join(flines[0:hgap_map_dict_lines]))\n",
    "    \n",
    "    # parse the results file\n",
    "    column_names = [\"phi_S[deg]\",\n",
    "                    \"h_gap[mm]\",\n",
    "                    \"B_max[T]\",\n",
    "                   \"K[]\"]\n",
    "    \n",
    "    map_table = pd.read_csv(filename,sep='\\t',skiprows=hgap_map_dict_lines,names=column_names,header=0)\n",
    "\n",
    "    map_table = filter_table_from_column(map_table,\"phi_S[deg]\",phi_S)\n",
    "    \n",
    "    # tip to use pivot from\n",
    "    # https://stackoverflow.com/questions/24032282/create-contour-plot-from-pandas-groupby-dataframe\n",
    "    mp = map_table.pivot('B_max[T]','h_gap[mm]','K[]')\n",
    "     \n",
    "    X=mp.columns.values\n",
    "    Y=mp.index.values\n",
    "    K=mp.values\n",
    "    h_gap, B_max =np.meshgrid(X, Y)\n",
    "    \n",
    "    return (h_gap,B_max,K)"
   ]
  },
  {
   "cell_type": "code",
   "execution_count": 17,
   "metadata": {
    "collapsed": true
   },
   "outputs": [],
   "source": [
    "def plot_K_maps(phi_S):\n",
    "    \n",
    "        \n",
    "    fig, ax = nemplot.create_plot(xlabel=r'$h\\ped{gap}\\,[\\si{\\mm}]$',\n",
    "                             ylabel=r'$B\\ped{max}\\,[\\si{\\tesla}]$')\n",
    "\n",
    "    h_gap, B_max, K = get_hgap_map_vectors(phi_S)\n",
    "    \n",
    "    h_gap_contour = ax.contourf(h_gap,B_max,K,cmap='jet')\n",
    "    h_gap_colorbar = fig.colorbar(h_gap_contour,ax=ax)\n",
    "    h_gap_colorbar.set_label(r'$K\\,[]$')\n",
    "\n",
    "    ax.set_xticks(np.linspace(np.min(h_gap),np.max(h_gap),11))\n",
    "    \n",
    "    nemplot.save_figure(fig,\"map_K_hgap_phi_%d\" %(phi_S))"
   ]
  },
  {
   "cell_type": "code",
   "execution_count": 18,
   "metadata": {
    "collapsed": false
   },
   "outputs": [
    {
     "data": {
      "image/png": "[encoded data removed]",
      "text/plain": [
       "<matplotlib.figure.Figure at 0x175753f1048>"
      ]
     },
     "metadata": {},
     "output_type": "display_data"
    }
   ],
   "source": [
    "%matplotlib inline\n",
    "plot_K_maps(35)"
   ]
  },
  {
   "cell_type": "code",
   "execution_count": 19,
   "metadata": {
    "collapsed": false
   },
   "outputs": [
    {
     "data": {
      "image/png": "[encoded data removed]",
      "text/plain": [
       "<matplotlib.figure.Figure at 0x175751c48d0>"
      ]
     },
     "metadata": {},
     "output_type": "display_data"
    }
   ],
   "source": [
    "plot_K_maps(45)"
   ]
  },
  {
   "cell_type": "code",
   "execution_count": 20,
   "metadata": {
    "collapsed": false
   },
   "outputs": [
    {
     "data": {
      "image/png": "[encoded data removed]",
      "text/plain": [
       "<matplotlib.figure.Figure at 0x175003c9080>"
      ]
     },
     "metadata": {},
     "output_type": "display_data"
    }
   ],
   "source": [
    "plot_K_maps(55)"
   ]
  },
  {
   "cell_type": "code",
   "execution_count": null,
   "metadata": {
    "collapsed": true
   },
   "outputs": [],
   "source": []
  }
 ],
 "metadata": {
  "anaconda-cloud": {},
  "kernelspec": {
   "display_name": "Python 3",
   "language": "python",
   "name": "python3"
  },
  "language_info": {
   "codemirror_mode": {
    "name": "ipython",
    "version": 3
   },
   "file_extension": ".py",
   "mimetype": "text/x-python",
   "name": "python",
   "nbconvert_exporter": "python",
   "pygments_lexer": "ipython3",
   "version": "3.6.2"
  }
 },
 "nbformat": 4,
 "nbformat_minor": 1
}
