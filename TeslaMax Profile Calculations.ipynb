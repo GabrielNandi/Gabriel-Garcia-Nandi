{
 "cells": [
  {
   "cell_type": "markdown",
   "metadata": {},
   "source": [
    "$$\n",
    "\\newcommand{\\ped}[1]{_{\\mathrm{#1}}}\n",
    "\\newcommand{\\ap}[1]{^{\\mathrm{#1}}}\n",
    "\\newcommand{\\nvector}[1]{\\mathbf{#1}}\n",
    "\\newcommand{\\nmatrix}[1]{\\mathit{#1}}\n",
    "\\newcommand{\\unitvector}[1]{\\hat{\\nvector{e}}_{#1}}\n",
    "\\newcommand{\\volume}{\\mathcal{V}}\n",
    "\\newcommand{\\average}[1]{\\overline{#1}}\n",
    "\\newcommand{\\rate}[1]{\\dot{#1}}\n",
    "\\newcommand{\\flux}[1]{{#1}''}\n",
    "\\newcommand{\\curl}[1]{\\nabla\\times {#1}}\n",
    "\\newcommand{\\curlv}[1]{\\curl{\\nvector{#1}}}\n",
    "\\newcommand{\\divergent}[1]{\\nabla \\cdot #1}\n",
    "\\newcommand{\\divergentv}[1]{\\divergent{\\nvector{#1}}}\n",
    "\\newcommand{\\divergentpar}[1]{\\divergent{\\left( #1 \\right)}}\n",
    "\\newcommand{\\gradient}[1]{\\nabla {#1}}\n",
    "\\newcommand{\\gradientpar}[1]{\\gradient{\\left( {#1} \\right)}}\n",
    "\\newcommand{\\laplacian}[1]{\\nabla^2 #1}\n",
    "\\newcommand{\\laplacianpar}[1]{\\laplacian{\\left( #1 \\right)}}\n",
    "\\newcommand{\\vectornorm}[1]{\\left\\lVert #1 \\right\\rVert}\n",
    "\\newcommand{\\diffp}[2]{\\frac{\\partial {#1}}{\\partial {#2}}}\n",
    "\\newcommand{\\diffps}[2]{\\frac{\\partial^2 {#1}}{\\partial {#2}^2}}\n",
    "\\newcommand{\\rvec}{\\nvector{r}}\n",
    "\\newcommand{\\nvh}{\\nvector{H}}\n",
    "\\newcommand{\\nvb}{\\nvector{B}}\n",
    "\\newcommand{\\nvrem}{\\nvector{B}\\ped{rem}}\n",
    "\\newcommand{\\nvbrem}{\\nvrem}\n",
    "\\newcommand{\\nvm}{\\nvector{M}}\n",
    "\\newcommand{\\mur}{\\mu\\ped{r}}\n",
    "\\newcommand{\\nvbremhat}{\\hat{\\nvector{B}}\\ped{rem}}\n",
    "\\newcommand{\\acoef}[2]{a_{{#1},\\mathrm{#2}}}\n",
    "\\newcommand{\\bcoef}[2]{b_{{#1},\\mathrm{#2}}}\n",
    "\\newcommand{\\Azexpr}[1]{A_{\\mathrm{#1}\\, z}}\n",
    "\\newcommand{\\bremii}{B_{\\mathrm{rem,II}}}\n",
    "\\newcommand{\\bremiv}{B_{\\mathrm{rem,IV}}}\n",
    "\\newcommand{\\aIII}{\\acoef{1}{III}}\n",
    "\\newcommand{\\bIII}{\\bcoef{1}{III}}\n",
    "\\newcommand{\\nvbIII}{\\nvector{B}\\ped{III}}\n",
    "\\newcommand{\\BIII}{B\\ped{III}}\n",
    "\\newcommand{\\diffd}[1]{\\mathrm{d}\\,{#1}}\n",
    "$$"
   ]
  },
  {
   "cell_type": "markdown",
   "metadata": {},
   "source": [
    "# TeslaMax Sample Calculations"
   ]
  },
  {
   "cell_type": "markdown",
   "metadata": {},
   "source": [
    "Teslamax model:\n",
    "\n",
    "<img src=\"figures/teslamax.png\" width=500>"
   ]
  },
  {
   "cell_type": "markdown",
   "metadata": {},
   "source": [
    "Tell the location of the TeslaMax Java class file:"
   ]
  },
  {
   "cell_type": "code",
   "execution_count": 1,
   "metadata": {},
   "outputs": [],
   "source": [
    "from pathlib import Path\n",
    "import os\n",
    "import matplotlib\n",
    "import matplotlib.pyplot as plt\n",
    "import numpy as np\n",
    "import teslamax\n",
    "from teslamax import TeslaMaxGeometry, TeslaMaxPreDesign, TeslaMaxModel\n",
    "import nemplot"
   ]
  },
  {
   "cell_type": "markdown",
   "metadata": {},
   "source": [
    "## Playground"
   ]
  },
  {
   "cell_type": "code",
   "execution_count": 2,
   "metadata": {},
   "outputs": [],
   "source": [
    "os.chdir(str(Path.home() / \"code\" / \"TeslaMax\"))"
   ]
  },
  {
   "cell_type": "code",
   "execution_count": 3,
   "metadata": {},
   "outputs": [],
   "source": [
    "teslamax_playground = \"teslamax-play\"\n"
   ]
  },
  {
   "cell_type": "code",
   "execution_count": 4,
   "metadata": {},
   "outputs": [
    {
     "data": {
      "text/plain": [
       "'C:\\\\Users\\\\Luis Felipe\\\\code\\\\TeslaMax'"
      ]
     },
     "execution_count": 4,
     "metadata": {},
     "output_type": "execute_result"
    }
   ],
   "source": [
    "os.getcwd()"
   ]
  },
  {
   "cell_type": "markdown",
   "metadata": {},
   "source": [
    "### Magnetic Profile"
   ]
  },
  {
   "cell_type": "code",
   "execution_count": 10,
   "metadata": {},
   "outputs": [],
   "source": [
    "# these are the parameters that are found to produce a near-instantaneous profile\n",
    "param_dict = {\"R_i\": 0.030,\n",
    "                \"R_o\": 185e-3,\n",
    "                \"h_gap\": 30e-3,\n",
    "                \"R_s\": 0.300,\n",
    "                \"h_fc\": 0.040,\n",
    "                \"R_e\": 1,\n",
    "                \"n_IV\": 5,\n",
    "                \"phi_S_IV\": 60,\n",
    "                \"n_II\": 0,\n",
    "                \"phi_C_II\": 0,\n",
    "                \"phi_C_IV\": 0,\n",
    "                \"phi_S_II\": 0,\n",
    "                \"B_rem_II_1\": 1.26,\n",
    "                \"B_rem_II_2\": 1.26,\n",
    "                \"B_rem_II_3\": 1.26,\n",
    "                \"B_rem_II_4\": 1.26,\n",
    "                \"B_rem_II_5\": 1.26,\n",
    "                \"mu_r_II\": 1.05,\n",
    "                \"B_rem_IV_1\": 1.26,\n",
    "                \"B_rem_IV_2\": 1.26,\n",
    "                \"B_rem_IV_3\": 1.26,\n",
    "                \"B_rem_IV_4\": 1.26,\n",
    "                \"B_rem_IV_5\": 1.26,\n",
    "                \"mu_r_IV\": 1.05,\n",
    "              \"linear_iron\": 1,\n",
    "              \"mu_r_iron\": 5e3,\n",
    "             }\n",
    "alpha_rem_vector = np.array([8.40777082,29.76751727,64.81446037,98.54941928,114.30857676])\n",
    "#alpha_rem_vector = np.array([ 8.3185833 , 25.50680646, 59.67154475, 62.89526722, 21.7974797 ])"
   ]
  },
  {
   "cell_type": "code",
   "execution_count": 11,
   "metadata": {
    "scrolled": true
   },
   "outputs": [],
   "source": [
    "tmpd = TeslaMaxPreDesign(params=param_dict)\n",
    "\n",
    "tmm = TeslaMaxModel(tmpd,alpha_rem_vector,\n",
    "                   path=teslamax_playground)"
   ]
  },
  {
   "cell_type": "code",
   "execution_count": null,
   "metadata": {},
   "outputs": [],
   "source": [
    "%%time\n",
    "\n",
    "tmm.run(verbose=True)"
   ]
  },
  {
   "cell_type": "code",
   "execution_count": null,
   "metadata": {},
   "outputs": [],
   "source": [
    "a,b = tmm.get_profile_data()"
   ]
  },
  {
   "cell_type": "code",
   "execution_count": null,
   "metadata": {},
   "outputs": [],
   "source": []
  },
  {
   "cell_type": "code",
   "execution_count": null,
   "metadata": {},
   "outputs": [],
   "source": [
    "%matplotlib inline\n",
    "\n",
    "\n",
    "profile_fig, profile_axes = nemplot.create_plot(xlabel=r'$\\phi [\\si{\\degree}]$',\n",
    "                                               ylabel=r'$B [\\si{\\tesla}]$')\n",
    "\n",
    "phi_vector, B_vector = tmm.get_profile_data()\n",
    "\n",
    "profile_axes.plot(phi_vector,B_vector)\n",
    "profile_axes.set_xlim(0,np.max(phi_vector))\n",
    "profile_axes.set_xticks(np.linspace(0,np.max(phi_vector),9))\n",
    "profile_axes.xaxis.grid(True)"
   ]
  },
  {
   "cell_type": "markdown",
   "metadata": {},
   "source": [
    "### Magnet profile - comparison between linear and non-linear iron regions"
   ]
  },
  {
   "cell_type": "code",
   "execution_count": null,
   "metadata": {},
   "outputs": [],
   "source": [
    "param_dict_linear_5000 = {\"R_i\": 0.015,\n",
    "                \"R_o\": 0.070,\n",
    "                \"h_gap\": 0.020,\n",
    "                \"R_s\": 0.140,\n",
    "                \"h_fc\": 0.010,\n",
    "                \"R_e\": 2,\n",
    "                \"n_IV\": 3,\n",
    "                \"phi_S_IV\": 45,\n",
    "                \"n_II\": 3,\n",
    "                \"phi_C_II\": 15,\n",
    "                \"phi_S_II\": 45,\n",
    "                \"B_rem_II_1\": 1.4,\n",
    "                \"B_rem_II_2\": 1.4,\n",
    "                \"B_rem_II_3\": 1.4,\n",
    "                \"mu_r_II\": 1.05,\n",
    "                \"B_rem_IV_1\": 1.4,\n",
    "                \"B_rem_IV_2\": 1.4,\n",
    "                \"B_rem_IV_3\": 1.4,\n",
    "                \"mu_r_IV\": 1.05,\n",
    "              \"linear_iron\": 1,\n",
    "              \"mu_r_iron\": 5e3,\n",
    "             }\n",
    "\n",
    "tmpd_linear_5000 = TeslaMaxPreDesign(param_dict_linear_5000)\n",
    "\n",
    "param_dict_non_linear = param_dict_linear_5000.copy()\n",
    "param_dict_non_linear[\"linear_iron\"] = 0\n",
    "tmpd_non_linear = TeslaMaxPreDesign(param_dict_non_linear)\n",
    "\n",
    "param_dict_linear_1000 = param_dict_linear_5000.copy()\n",
    "param_dict_linear_1000[\"mu_r_iron\"] = 1e3\n",
    "tmpd_linear_1000 = TeslaMaxPreDesign(param_dict_linear_1000)\n",
    "\n"
   ]
  },
  {
   "cell_type": "code",
   "execution_count": null,
   "metadata": {},
   "outputs": [],
   "source": [
    "tmm_linear_5000 = TeslaMaxModel(tmpd_linear_5000,alpha_rem_vector,\n",
    "                               path=teslamax_playground)\n",
    "tmm_linear_5000.run(verbose=True)\n",
    "\n",
    "phi_vector_linear_5000, B_vector_linear_5000 = tmm_linear_5000.get_profile_data()\n"
   ]
  },
  {
   "cell_type": "code",
   "execution_count": null,
   "metadata": {},
   "outputs": [],
   "source": [
    "tmm_linear_1000 = TeslaMaxModel(tmpd_linear_1000,alpha_rem_vector,\n",
    "                               path=teslamax_playground)\n",
    "tmm_linear_1000.run(verbose=True)\n",
    "\n",
    "phi_vector_linear_1000, B_vector_linear_1000 = tmm_linear_1000.get_profile_data()\n"
   ]
  },
  {
   "cell_type": "code",
   "execution_count": null,
   "metadata": {},
   "outputs": [],
   "source": [
    "tmm_non_linear = TeslaMaxModel(tmpd_non_linear,alpha_rem_vector,\n",
    "                               path=teslamax_playground)\n",
    "tmm_non_linear.run(verbose=True)\n",
    "\n",
    "phi_vector_non_linear, B_vector_non_linear = tmm_non_linear.get_profile_data()\n"
   ]
  },
  {
   "cell_type": "code",
   "execution_count": null,
   "metadata": {},
   "outputs": [],
   "source": [
    "%matplotlib inline\n",
    "\n",
    "profile_fig, profile_axes = nemplot.create_plot(xlabel=r'$\\phi [\\si{\\degree}]$',\n",
    "                                               ylabel=r'$B [\\si{\\tesla}]$')\n",
    "\n",
    "profile_axes.plot(phi_vector_linear_5000,B_vector_linear_5000,label=\"Linear 5000\")\n",
    "profile_axes.plot(phi_vector_linear_1000,B_vector_linear_1000,label=\"Linear 1000\")\n",
    "profile_axes.plot(phi_vector_non_linear,B_vector_non_linear,label=\"Non-linear\")\n",
    "\n",
    "profile_axes.set_xlim(0,np.max(phi_vector))\n",
    "profile_axes.set_xticks(np.linspace(0,np.max(phi_vector),9))\n",
    "profile_axes.xaxis.grid(True)\n",
    "profile_axes.legend(loc='best')\n"
   ]
  },
  {
   "cell_type": "markdown",
   "metadata": {},
   "source": [
    "### Magnet profile - comparison between iron and magnet core"
   ]
  },
  {
   "cell_type": "code",
   "execution_count": null,
   "metadata": {},
   "outputs": [],
   "source": [
    "param_dict_magnet = {\"R_i\": 0.015,\n",
    "                \"R_o\": 0.070,\n",
    "                \"h_gap\": 0.020,\n",
    "                \"R_s\": 0.140,\n",
    "                \"h_fc\": 0.020,\n",
    "                \"R_e\": 2,\n",
    "                \"n_IV\": 3,\n",
    "                \"phi_S_IV\": 45,\n",
    "                \"n_II\": 2,\n",
    "                \"phi_C_II\": 15,\n",
    "                \"phi_S_II\": 45,\n",
    "                 \"B_rem_II_1\": 1.4,\n",
    "                \"B_rem_II_2\": 1.4,\n",
    "                \"B_rem_II_3\": 1.4,\n",
    "                \"mu_r_II\": 1.05,\n",
    "                \"B_rem_IV_1\": 1.4,\n",
    "                \"B_rem_IV_2\": 1.4,\n",
    "                \"B_rem_IV_3\": 1.4,\n",
    "                \"mu_r_IV\": 1.05,\n",
    "                \"linear_iron\": 0\n",
    "             }\n",
    "\n",
    "alpha_rem_vector_2 = [-45, -45, 15, 45, 75]\n",
    "\n",
    "tmpd_magnet = TeslaMaxPreDesign(param_dict_magnet)\n",
    "\n",
    "param_dict_iron = param_dict_magnet.copy()\n",
    "param_dict_iron[\"n_II\"] = 0\n",
    "param_dict_iron[\"phi_C_II\"] = 0\n",
    "param_dict_iron[\"phi_S_II\"] = 0\n",
    "tmpd_iron = TeslaMaxPreDesign(param_dict_iron)\n",
    "alpha_rem_vector_2_iron = np.array([15, 45, 75])\n"
   ]
  },
  {
   "cell_type": "code",
   "execution_count": null,
   "metadata": {},
   "outputs": [],
   "source": [
    "tmm_magnet = TeslaMaxModel(tmpd_magnet,alpha_rem_vector_2,\n",
    "                          path=teslamax_playground)\n",
    "tmm_magnet.run(verbose=True)\n",
    "phi_vector_magnet, B_vector_magnet = tmm_magnet.get_profile_data()"
   ]
  },
  {
   "cell_type": "code",
   "execution_count": null,
   "metadata": {},
   "outputs": [],
   "source": [
    "tmm_iron = TeslaMaxModel(tmpd_iron,alpha_rem_vector_2_iron,\n",
    "                          path=teslamax_playground)\n",
    "tmm_iron.run(verbose=True)\n",
    "phi_vector_iron, B_vector_iron = tmm_iron.get_profile_data()"
   ]
  },
  {
   "cell_type": "code",
   "execution_count": null,
   "metadata": {},
   "outputs": [],
   "source": [
    "%matplotlib inline\n",
    "\n",
    "\n",
    "profile_fig, profile_axes = nemplot.create_plot(xlabel=r'$\\phi [\\si{\\degree}]$',\n",
    "                                               ylabel=r'$B [\\si{\\tesla}]$')\n",
    "\n",
    "profile_axes.plot(phi_vector_magnet,B_vector_magnet,label=\"Magnet\")\n",
    "profile_axes.plot(phi_vector_iron,B_vector_iron,label=\"Iron\")\n",
    "profile_axes.set_xlim(0,np.max(phi_vector))\n",
    "profile_axes.set_xticks(np.linspace(0,np.max(phi_vector),9))\n",
    "profile_axes.xaxis.grid(True)\n",
    "profile_axes.legend(loc='best')\n"
   ]
  },
  {
   "cell_type": "code",
   "execution_count": null,
   "metadata": {},
   "outputs": [],
   "source": []
  }
 ],
 "metadata": {
  "anaconda-cloud": {},
  "kernelspec": {
   "display_name": "Python 3",
   "language": "python",
   "name": "python3"
  },
  "language_info": {
   "codemirror_mode": {
    "name": "ipython",
    "version": 3
   },
   "file_extension": ".py",
   "mimetype": "text/x-python",
   "name": "python",
   "nbconvert_exporter": "python",
   "pygments_lexer": "ipython3",
   "version": "3.7.1"
  }
 },
 "nbformat": 4,
 "nbformat_minor": 1
}
