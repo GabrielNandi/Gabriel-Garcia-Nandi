{
 "cells": [
  {
   "cell_type": "markdown",
   "metadata": {},
   "source": [
    "$$\n",
    "\\newcommand{\\ped}[1]{_{\\mathrm{#1}}}\n",
    "\\newcommand{\\ap}[1]{^{\\mathrm{#1}}}\n",
    "\\newcommand{\\nvector}[1]{\\mathbf{#1}}\n",
    "\\newcommand{\\nmatrix}[1]{\\mathit{#1}}\n",
    "\\newcommand{\\unitvector}[1]{\\hat{\\nvector{e}}_{#1}}\n",
    "\\newcommand{\\volume}{\\mathcal{V}}\n",
    "\\newcommand{\\average}[1]{\\overline{#1}}\n",
    "\\newcommand{\\rate}[1]{\\dot{#1}}\n",
    "\\newcommand{\\flux}[1]{{#1}''}\n",
    "\\newcommand{\\curl}[1]{\\nabla\\times {#1}}\n",
    "\\newcommand{\\curlv}[1]{\\curl{\\nvector{#1}}}\n",
    "\\newcommand{\\divergent}[1]{\\nabla \\cdot #1}\n",
    "\\newcommand{\\divergentv}[1]{\\divergent{\\nvector{#1}}}\n",
    "\\newcommand{\\divergentpar}[1]{\\divergent{\\left( #1 \\right)}}\n",
    "\\newcommand{\\gradient}[1]{\\nabla {#1}}\n",
    "\\newcommand{\\gradientpar}[1]{\\gradient{\\left( {#1} \\right)}}\n",
    "\\newcommand{\\laplacian}[1]{\\nabla^2 #1}\n",
    "\\newcommand{\\laplacianpar}[1]{\\laplacian{\\left( #1 \\right)}}\n",
    "\\newcommand{\\vectornorm}[1]{\\left\\lVert #1 \\right\\rVert}\n",
    "\\newcommand{\\diffp}[2]{\\frac{\\partial {#1}}{\\partial {#2}}}\n",
    "\\newcommand{\\diffps}[2]{\\frac{\\partial^2 {#1}}{\\partial {#2}^2}}\n",
    "\\newcommand{\\rvec}{\\nvector{r}}\n",
    "\\newcommand{\\nvh}{\\nvector{H}}\n",
    "\\newcommand{\\nvb}{\\nvector{B}}\n",
    "\\newcommand{\\nvrem}{\\nvector{B}\\ped{rem}}\n",
    "\\newcommand{\\nvbrem}{\\nvrem}\n",
    "\\newcommand{\\nvm}{\\nvector{M}}\n",
    "\\newcommand{\\mur}{\\mu\\ped{r}}\n",
    "\\newcommand{\\nvbremhat}{\\hat{\\nvector{B}}\\ped{rem}}\n",
    "\\newcommand{\\acoef}[2]{a_{{#1},\\mathrm{#2}}}\n",
    "\\newcommand{\\bcoef}[2]{b_{{#1},\\mathrm{#2}}}\n",
    "\\newcommand{\\Azexpr}[1]{A_{\\mathrm{#1}\\, z}}\n",
    "\\newcommand{\\bremii}{B_{\\mathrm{rem,II}}}\n",
    "\\newcommand{\\bremiv}{B_{\\mathrm{rem,IV}}}\n",
    "\\newcommand{\\aIII}{\\acoef{1}{III}}\n",
    "\\newcommand{\\bIII}{\\bcoef{1}{III}}\n",
    "\\newcommand{\\nvbIII}{\\nvector{B}\\ped{III}}\n",
    "\\newcommand{\\BIII}{B\\ped{III}}\n",
    "\\newcommand{\\diffd}[1]{\\mathrm{d}\\,{#1}}\n",
    "$$"
   ]
  },
  {
   "cell_type": "markdown",
   "metadata": {},
   "source": [
    "# TeslaMax Sample Calculations"
   ]
  },
  {
   "cell_type": "markdown",
   "metadata": {},
   "source": [
    "Teslamax model:\n",
    "\n",
    "<img src=\"figures/teslamax.png\" width=500>"
   ]
  },
  {
   "cell_type": "markdown",
   "metadata": {},
   "source": [
    "Tell the location of the TeslaMax Java class file:"
   ]
  },
  {
   "cell_type": "code",
   "execution_count": 1,
   "metadata": {
    "collapsed": false
   },
   "outputs": [],
   "source": [
    "from pathlib import Path\n",
    "import os\n",
    "import matplotlib\n",
    "import matplotlib.pyplot as plt\n",
    "import numpy as np\n",
    "import teslamax\n",
    "from teslamax import TeslaMaxGeometry, TeslaMaxPreDesign, TeslaMaxModel\n",
    "\n",
    "\n",
    "\n",
    "mpl_params = {'text.usetex': True,\n",
    "              'font.family': 'serif',\n",
    "              'font.serif': 'Computer Modern',\n",
    "              'text.latex.preamble': [r'\\usepackage{engsymbols}',\n",
    "                                      r'\\usepackage{magref}',\n",
    "                                      r'\\usepackage{siunitx}']}\n",
    "matplotlib.rcParams.update(mpl_params)\n"
   ]
  },
  {
   "cell_type": "code",
   "execution_count": 2,
   "metadata": {
    "collapsed": true
   },
   "outputs": [],
   "source": [
    "FIGSIZE_CM = 20\n",
    "FIGSIZE_INCHES = FIGSIZE_CM / 2.54\n",
    "\n",
    "FONTSIZE = 20"
   ]
  },
  {
   "cell_type": "markdown",
   "metadata": {},
   "source": [
    "## Playground"
   ]
  },
  {
   "cell_type": "code",
   "execution_count": 3,
   "metadata": {
    "collapsed": false,
    "scrolled": true
   },
   "outputs": [],
   "source": [
    "os.chdir('C:\\\\Users\\\\fabiofortkamp\\\\code\\\\TeslaMax\\\\')"
   ]
  },
  {
   "cell_type": "code",
   "execution_count": 4,
   "metadata": {
    "collapsed": false
   },
   "outputs": [],
   "source": [
    "teslamax_playground = \"teslamax-play\"\n"
   ]
  },
  {
   "cell_type": "code",
   "execution_count": 5,
   "metadata": {
    "collapsed": false
   },
   "outputs": [
    {
     "data": {
      "text/plain": [
       "'C:\\\\Users\\\\fabiofortkamp\\\\code\\\\TeslaMax'"
      ]
     },
     "execution_count": 5,
     "metadata": {},
     "output_type": "execute_result"
    }
   ],
   "source": [
    "os.getcwd()"
   ]
  },
  {
   "cell_type": "markdown",
   "metadata": {},
   "source": [
    "### Magnetic Profile"
   ]
  },
  {
   "cell_type": "code",
   "execution_count": 8,
   "metadata": {
    "collapsed": false
   },
   "outputs": [],
   "source": [
    "# these are the parameters that are found to produce a near-instantaneous profile\n",
    "param_dict = {\"R_i\": 0.015,\n",
    "                \"R_o\": 0.070,\n",
    "                \"h_gap\": 0.020,\n",
    "                \"R_s\": 0.140,\n",
    "                \"h_fc\": 0.010,\n",
    "                \"R_e\": 2,\n",
    "                \"n_IV\": 3,\n",
    "                \"phi_S_IV\": 45,\n",
    "                \"n_II\": 3,\n",
    "                \"phi_C_II\": 15,\n",
    "                \"phi_S_II\": 45,\n",
    "                \"B_rem_II_1\": 1.4,\n",
    "                \"B_rem_II_2\": 1.4,\n",
    "                \"B_rem_II_3\": 1.4,\n",
    "                \"mu_r_II\": 1.05,\n",
    "                \"B_rem_IV_1\": 1.4,\n",
    "                \"B_rem_IV_2\": 1.4,\n",
    "                \"B_rem_IV_3\": 1.4,\n",
    "                \"mu_r_IV\": 1.05,\n",
    "              \"linear_iron\": 1,\n",
    "              \"mu_r_iron\": 5e3,\n",
    "             }\n",
    "\n",
    "alpha_rem_vector = np.array([15, 30, 45, 15, 45, 135])"
   ]
  },
  {
   "cell_type": "code",
   "execution_count": 9,
   "metadata": {
    "collapsed": false,
    "scrolled": true
   },
   "outputs": [],
   "source": [
    "tmpd = TeslaMaxPreDesign(params=param_dict)\n",
    "\n",
    "tmm = TeslaMaxModel(tmpd,alpha_rem_vector,\n",
    "                   path=teslamax_playground)"
   ]
  },
  {
   "cell_type": "code",
   "execution_count": 10,
   "metadata": {
    "collapsed": false
   },
   "outputs": [
    {
     "name": "stdout",
     "output_type": "stream",
     "text": [
      "*******************************************\n",
      "***COMSOL 5.2.1.229 progress output file***\n",
      "*******************************************\n",
      "Mon Apr 24 14:44:35 BRT 2017\n",
      "COMSOL 5.2a (Build: 229) starting in batch mode\n",
      "Running: C:\\Users\\fabiofortkamp\\code\\teslamax\\java\\TeslaMax.class\n",
      "           Current Progress:   0 % - Circle 1\n",
      "Memory: 370/370 503/508\n",
      "           Current Progress:   8 % - Circle 2\n",
      "Memory: 358/370 489/508\n",
      "-          Current Progress:  17 % - Difference 1\n",
      "Memory: 359/370 489/508\n",
      "----       Current Progress:  44 % - Analyzing edge intersections\n",
      "Memory: 360/370 490/508\n",
      "---------  Current Progress:  93 % - Resolving domains\n",
      "           Current Progress:   0 % - Circle 1\n",
      "Memory: 367/370 495/508\n",
      "           Current Progress:   8 % - Circle 2\n",
      "Memory: 368/370 495/508\n",
      "-          Current Progress:  17 % - Difference 1\n",
      "Memory: 368/370 496/508\n",
      "---------  Current Progress:  93 % - Resolving domains\n",
      "Memory: 369/370 496/508\n",
      "           Current Progress:   0 % - Cylinder Block - Iron II Wedge 1Q\n",
      "Memory: 417/419 525/528\n",
      "           Current Progress:   0 % - Circle 1\n",
      "Memory: 408/419 513/528\n",
      "           Current Progress:   0 % - Circle 2\n",
      "           Current Progress:   1 % - Difference 1\n",
      "           Current Progress:   4 % - Resolving domains\n",
      "Memory: 408/419 514/528\n",
      "           Current Progress:   4 % - Cylinder Block - Iron II Wedge 2Q\n",
      "Memory: 410/419 515/528\n",
      "           Current Progress:   4 % - Circle 1\n",
      "Memory: 400/419 504/528\n",
      "           Current Progress:   5 % - Circle 2\n",
      "Memory: 401/419 505/528\n",
      "           Current Progress:   5 % - Difference 1\n",
      "Memory: 401/419 506/528\n",
      "           Current Progress:   8 % - Resolving domains\n",
      "           Current Progress:   9 % - Cylinder Block 1 - Magnet II - 1Q\n",
      "Memory: 402/419 507/528\n",
      "           Current Progress:   9 % - Circle 1\n",
      "Memory: 404/419 508/528\n",
      "           Current Progress:   9 % - Circle 2\n",
      "Memory: 405/419 509/528\n",
      "           Current Progress:   9 % - Difference 1\n",
      "-          Current Progress:  13 % - Resolving domains\n",
      "Memory: 405/419 510/528\n",
      "-          Current Progress:  13 % - Cylinder Block 1 - Magnet II - 2Q\n",
      "Memory: 406/419 510/528\n",
      "-          Current Progress:  13 % - Circle 1\n",
      "Memory: 406/419 511/528\n",
      "-          Current Progress:  13 % - Circle 2\n",
      "-          Current Progress:  14 % - Difference 1\n",
      "-          Current Progress:  17 % - Resolving domains\n",
      "-          Current Progress:  17 % - Cylinder Block 2 - Magnet II - 1Q\n",
      "Memory: 407/419 512/528\n",
      "-          Current Progress:  17 % - Circle 1\n",
      "Memory: 410/419 515/528\n",
      "-          Current Progress:  18 % - Circle 2\n",
      "-          Current Progress:  18 % - Difference 1\n",
      "--         Current Progress:  22 % - Resolving domains\n",
      "--         Current Progress:  22 % - Cylinder Block 2 - Magnet II - 2Q\n",
      "--         Current Progress:  22 % - Circle 1\n",
      "Memory: 411/419 516/528\n",
      "--         Current Progress:  22 % - Circle 2\n",
      "--         Current Progress:  23 % - Difference 1\n",
      "--         Current Progress:  26 % - Resolving domains\n",
      "Memory: 411/419 517/528\n",
      "--         Current Progress:  26 % - Cylinder Block 3 - Magnet II - 1Q\n",
      "--         Current Progress:  26 % - Circle 1\n",
      "Memory: 412/419 517/528\n",
      "--         Current Progress:  27 % - Circle 2\n",
      "--         Current Progress:  27 % - Difference 1\n",
      "---        Current Progress:  30 % - Resolving domains\n",
      "---        Current Progress:  31 % - Cylinder Block 3 - Magnet II - 2Q\n",
      "---        Current Progress:  31 % - Circle 1\n",
      "Memory: 414/419 519/528\n",
      "---        Current Progress:  31 % - Circle 2\n",
      "---        Current Progress:  31 % - Difference 1\n",
      "---        Current Progress:  35 % - Resolving domains\n",
      "---        Current Progress:  35 % - Cylinder Block - Iron II\n",
      "---        Current Progress:  35 % - Circle 1\n",
      "---        Current Progress:  35 % - Circle 2\n",
      "---        Current Progress:  36 % - Difference 1\n",
      "---        Current Progress:  39 % - Resolving domains\n",
      "---        Current Progress:  39 % - Cylinder Block 1 - Magnet IV - 1Q\n",
      "---        Current Progress:  39 % - Circle 1\n",
      "----       Current Progress:  40 % - Circle 2\n",
      "Memory: 415/419 520/528\n",
      "----       Current Progress:  40 % - Difference 1\n",
      "----       Current Progress:  43 % - Resolving domains\n",
      "----       Current Progress:  44 % - Cylinder Block 1 - Magnet IV - 2Q\n",
      "----       Current Progress:  44 % - Circle 1\n",
      "Memory: 416/419 521/528\n",
      "----       Current Progress:  44 % - Circle 2\n",
      "----       Current Progress:  44 % - Difference 1\n",
      "----       Current Progress:  48 % - Resolving domains\n",
      "----       Current Progress:  48 % - Cylinder Block 2 - Magnet IV - 1Q\n",
      "----       Current Progress:  48 % - Circle 1\n",
      "Memory: 416/419 522/528\n",
      "----       Current Progress:  48 % - Circle 2\n",
      "----       Current Progress:  49 % - Difference 1\n",
      "-----      Current Progress:  52 % - Resolving domains\n",
      "-----      Current Progress:  52 % - Cylinder Block 2 - Magnet IV - 2Q\n",
      "Memory: 417/419 522/528\n",
      "-----      Current Progress:  52 % - Circle 1\n",
      "-----      Current Progress:  53 % - Circle 2\n",
      "-----      Current Progress:  53 % - Difference 1\n",
      "-----      Current Progress:  56 % - Resolving domains\n",
      "-----      Current Progress:  57 % - Cylinder Block 3 - Magnet IV - 1Q\n",
      "-----      Current Progress:  57 % - Circle 1\n",
      "-----      Current Progress:  57 % - Circle 2\n",
      "-----      Current Progress:  57 % - Difference 1\n",
      "------     Current Progress:  61 % - Resolving domains\n",
      "------     Current Progress:  61 % - Cylinder Block 3 - Magnet IV - 2Q\n",
      "Memory: 416/419 521/528\n",
      "------     Current Progress:  61 % - Circle 1\n",
      "Memory: 407/419 512/528\n",
      "------     Current Progress:  61 % - Circle 2\n",
      "------     Current Progress:  62 % - Difference 1\n",
      "------     Current Progress:  65 % - Resolving domains\n",
      "------     Current Progress:  65 % - Cylinder Block - Iron IV\n",
      "------     Current Progress:  65 % - Circle 1\n",
      "Memory: 408/419 513/528\n",
      "------     Current Progress:  66 % - Circle 2\n",
      "------     Current Progress:  66 % - Difference 1\n",
      "-------    Current Progress:  70 % - Resolving domains\n",
      "-------    Current Progress:  70 % - Air Gap Cylinder Block High Field  1Q\n",
      "-------    Current Progress:  70 % - Circle 1\n",
      "Memory: 410/419 515/528\n",
      "-------    Current Progress:  70 % - Circle 2\n",
      "-------    Current Progress:  71 % - Difference 1\n",
      "-------    Current Progress:  74 % - Resolving domains\n",
      "-------    Current Progress:  74 % - Air Gap Cylinder Block Low Field  1Q\n",
      "-------    Current Progress:  74 % - Circle 1\n",
      "Memory: 411/419 516/528\n",
      "-------    Current Progress:  75 % - Circle 2\n",
      "-------    Current Progress:  75 % - Difference 1\n",
      "-------    Current Progress:  78 % - Resolving domains\n",
      "-------    Current Progress:  79 % - Air Gap Cylinder Block High Field  2Q\n",
      "-------    Current Progress:  79 % - Circle 1\n",
      "Memory: 413/419 517/528\n",
      "-------    Current Progress:  79 % - Circle 2\n",
      "-------    Current Progress:  79 % - Difference 1\n",
      "--------   Current Progress:  83 % - Resolving domains\n",
      "--------   Current Progress:  83 % - Air Gap Cylinder Block Low Field  2Q\n",
      "Memory: 414/419 518/528\n",
      "--------   Current Progress:  83 % - Circle 1\n",
      "Memory: 415/419 519/528\n",
      "--------   Current Progress:  83 % - Circle 2\n",
      "--------   Current Progress:  84 % - Difference 1\n",
      "--------   Current Progress:  87 % - Resolving domains\n",
      "--------   Current Progress:  87 % - Flux Concentrator Shell\n",
      "--------   Current Progress:  87 % - Circle 1\n",
      "Memory: 416/419 520/528\n",
      "--------   Current Progress:  88 % - Circle 2\n",
      "--------   Current Progress:  88 % - Difference 1\n",
      "---------  Current Progress:  91 % - Resolving domains\n",
      "---------  Current Progress:  92 % - Environment Cylinder Shell\n",
      "Memory: 417/419 521/528\n",
      "---------  Current Progress:  92 % - Circle 1\n",
      "Memory: 432/432 521/528\n",
      "---------  Current Progress:  92 % - Circle 2\n",
      "---------  Current Progress:  92 % - Difference 1\n",
      "---------  Current Progress:  96 % - Resolving domains\n",
      "---------  Current Progress:  96 % - Form Union\n",
      "Memory: 434/434 522/528\n",
      "---------  Current Progress:  99 % - Resolving domains\n",
      "Memory: 438/438 527/528\n",
      "---------- Current Progress: 100 % - Creating rendering mesh\n",
      "Memory: 440/442 568/568\n",
      "           Current Progress:   0 % - Free Triangular 1\n",
      "Memory: 523/527 632/636\n",
      "Number of vertex elements: 44\n",
      "Number of boundary elements: 967\n",
      "-          Current Progress:  17 % - Improving element quality\n",
      "Memory: 531/531 640/640\n",
      "Number of elements: 8673\n",
      "Minimum element quality: 0.7396\n",
      "-----      Current Progress:  59 % - Improving element quality\n",
      "Memory: 523/531 634/640\n",
      "-----      Current Progress:  59 % - Mapped 1\n",
      "Number of vertex elements: 47\n",
      "Number of boundary elements: 1157\n",
      "Number of elements: 9573\n",
      "Minimum element quality: 0.01933\n",
      "---------- Current Progress: 100 % - Creating mapped mesh\n",
      "Memory: 527/531 637/640\n",
      "Geometry shape order: Quadratic\n",
      "           Current Progress:   5 % - Compiling equations\n",
      "Memory: 592/595 694/703\n",
      "           Current Progress:   5 % - Dependent Variables 1\n",
      "Memory: 614/615 725/727\n",
      "Stationary Solver 1 in Study 1/Solution 1 (sol1) started at 24-abr-2017 14:45:00.\n",
      "Linear solver\n",
      "Number of degrees of freedom solved for: 21240.\n",
      "-          Current Progress:  18 % - Stationary Solver 1\n",
      "Memory: 605/619 719/733\n",
      "Symmetric matrices found.\n",
      "Format not changed since Incomplete LU uses nonsymmetric storage.\n",
      "Scales for dependent variables:\n",
      "Magnetic scalar potential (nhalbach_system.Vm): 1\n",
      "Orthonormal null-space function used.\n",
      "---        Current Progress:  36 % - Preconditioning\n",
      "Memory: 619/619 730/733\n",
      "Iter      SolEst     Damping    Stepsize #Res #Jac #Sol LinIt   LinErr   LinRes\n",
      "-------    Current Progress:  73 % - Solving linear system\n",
      "Memory: 619/619 731/733\n",
      "--------   Current Progress:  86 % - Solving linear system\n",
      "---------  Current Progress:  91 % - Solving linear system\n",
      "--------   Current Progress:  86 % - Solving linear system\n",
      "---------  Current Progress:  90 % - Solving linear system\n",
      "---------  Current Progress:  92 % - Solving linear system\n",
      "--------   Current Progress:  88 % - Solving linear system\n",
      "---------  Current Progress:  90 % - Solving linear system\n",
      "---------  Current Progress:  91 % - Solving linear system\n",
      "---------  Current Progress:  92 % - Solving linear system\n",
      "--------   Current Progress:  87 % - Solving linear system\n",
      "---------  Current Progress:  91 % - Solving linear system\n",
      "--------   Current Progress:  86 % - Solving linear system\n",
      "---------  Current Progress:  93 % - Solving linear system\n",
      "---------  Current Progress:  91 % - Solving linear system\n",
      "---------  Current Progress:  95 % - Solving linear system\n",
      "Memory: 573/619 687/733\n",
      "---------  Current Progress:  94 % - Solving linear system\n",
      "---------  Current Progress:  93 % - Solving linear system\n",
      "---------  Current Progress:  92 % - Solving linear system\n",
      "---------  Current Progress:  97 % - Solving linear system\n",
      "   1        0.66   1.0000000        0.66    1    1    1  1031  0.00044 2.2e-007\n",
      "---------- Current Progress: 100 % - Updating plots\n",
      "Memory: 573/619 682/733\n",
      "Stationary Solver 1 in Study 1/Solution 1 (sol1): Solution time: 8 s\n",
      "                                                  Physical memory: 619 MB\n",
      "                                                  Virtual memory: 731 MB\n",
      "-----      Current Progress:  55 % - Evaluating\n",
      "Memory: 649/650 735/736\n",
      "-          Current Progress:  10 % - Evaluating\n",
      "Memory: 651/651 736/736\n",
      "-----      Current Progress:  55 % - Evaluating\n",
      "Memory: 652/652 737/737\n",
      "Class run time: 34 s.\n",
      "Saving model: C:\\Users\\fabiofortkamp\\code\\teslamax\\java\\TeslaMax_Model.mph\n",
      "Save time: 0 s.\n",
      "Total time: 34 s.\n",
      "---------- Current Progress: 100 % - Done\n",
      "Memory: 658/660 741/744\n",
      "\n"
     ]
    }
   ],
   "source": [
    "tmm.run(verbose=True)"
   ]
  },
  {
   "cell_type": "code",
   "execution_count": 11,
   "metadata": {
    "collapsed": false
   },
   "outputs": [
    {
     "data": {
      "text/plain": [
       "<matplotlib.text.Text at 0x216552a4a20>"
      ]
     },
     "execution_count": 11,
     "metadata": {},
     "output_type": "execute_result"
    },
    {
     "data": {
      "image/png": "[encoded data removed]",
      "text/plain": [
       "<matplotlib.figure.Figure at 0x21655210080>"
      ]
     },
     "metadata": {},
     "output_type": "display_data"
    }
   ],
   "source": [
    "%matplotlib inline\n",
    "plt.rc('font',size=FONTSIZE)\n",
    "\n",
    "profile_fig = plt.figure(figsize=(FIGSIZE_INCHES,FIGSIZE_INCHES))\n",
    "profile_axes = profile_fig.add_subplot(111)\n",
    "\n",
    "phi_vector, B_vector = tmm.get_profile_data().T\n",
    "\n",
    "profile_axes.plot(phi_vector,B_vector)\n",
    "profile_axes.set_xlim(0,np.max(phi_vector))\n",
    "profile_axes.set_xticks(np.linspace(0,np.max(phi_vector),9))\n",
    "profile_axes.xaxis.grid(True)\n",
    "profile_axes.set_xlabel(r'$\\phi [\\si{\\degree}]$')\n",
    "profile_axes.set_ylabel(r'$B [\\si{\\tesla}]$')\n"
   ]
  },
  {
   "cell_type": "markdown",
   "metadata": {},
   "source": [
    "### Magnet profile - comparison between linear and non-linear iron regions"
   ]
  },
  {
   "cell_type": "code",
   "execution_count": 16,
   "metadata": {
    "collapsed": false
   },
   "outputs": [],
   "source": [
    "param_dict_linear_5000 = {\"R_i\": 0.015,\n",
    "                \"R_o\": 0.070,\n",
    "                \"h_gap\": 0.020,\n",
    "                \"R_s\": 0.140,\n",
    "                \"h_fc\": 0.010,\n",
    "                \"R_e\": 2,\n",
    "                \"n_IV\": 3,\n",
    "                \"phi_S_IV\": 45,\n",
    "                \"n_II\": 3,\n",
    "                \"phi_C_II\": 15,\n",
    "                \"phi_S_II\": 45,\n",
    "                \"B_rem_II_1\": 1.4,\n",
    "                \"B_rem_II_2\": 1.4,\n",
    "                \"B_rem_II_3\": 1.4,\n",
    "                \"mu_r_II\": 1.05,\n",
    "                \"B_rem_IV_1\": 1.4,\n",
    "                \"B_rem_IV_2\": 1.4,\n",
    "                \"B_rem_IV_3\": 1.4,\n",
    "                \"mu_r_IV\": 1.05,\n",
    "              \"linear_iron\": 1,\n",
    "              \"mu_r_iron\": 5e3,\n",
    "             }\n",
    "\n",
    "tmpd_linear_5000 = TeslaMaxPreDesign(param_dict_linear_5000)\n",
    "\n",
    "param_dict_non_linear = param_dict_linear_5000.copy()\n",
    "param_dict_non_linear[\"linear_iron\"] = 0\n",
    "tmpd_non_linear = TeslaMaxPreDesign(param_dict_non_linear)\n",
    "\n",
    "param_dict_linear_1000 = param_dict_linear_5000.copy()\n",
    "param_dict_linear_1000[\"mu_r_iron\"] = 1e3\n",
    "tmpd_linear_1000 = TeslaMaxPreDesign(param_dict_linear_1000)\n",
    "\n"
   ]
  },
  {
   "cell_type": "code",
   "execution_count": 17,
   "metadata": {
    "collapsed": false
   },
   "outputs": [],
   "source": [
    "tmm_linear_5000 = TeslaMaxModel(tmpd_linear_5000,alpha_rem_vector,\n",
    "                               path=teslamax_playground)\n",
    "tmm_linear_5000.run()\n",
    "\n",
    "phi_vector_linear_5000, B_vector_linear_5000 = tmm_linear_5000.get_profile_data().T\n"
   ]
  },
  {
   "cell_type": "code",
   "execution_count": 18,
   "metadata": {
    "collapsed": false
   },
   "outputs": [],
   "source": [
    "tmm_linear_1000 = TeslaMaxModel(tmpd_linear_1000,alpha_rem_vector,\n",
    "                               path=teslamax_playground)\n",
    "tmm_linear_1000.run()\n",
    "\n",
    "phi_vector_linear_1000, B_vector_linear_1000 = tmm_linear_1000.get_profile_data().T\n"
   ]
  },
  {
   "cell_type": "code",
   "execution_count": 19,
   "metadata": {
    "collapsed": false
   },
   "outputs": [],
   "source": [
    "tmm_non_linear = TeslaMaxModel(tmpd_non_linear,alpha_rem_vector,\n",
    "                               path=teslamax_playground)\n",
    "tmm_non_linear.run()\n",
    "\n",
    "phi_vector_non_linear, B_vector_non_linear = tmm_non_linear.get_profile_data().T\n"
   ]
  },
  {
   "cell_type": "code",
   "execution_count": 20,
   "metadata": {
    "collapsed": false
   },
   "outputs": [
    {
     "data": {
      "text/plain": [
       "<matplotlib.legend.Legend at 0x216557d5940>"
      ]
     },
     "execution_count": 20,
     "metadata": {},
     "output_type": "execute_result"
    },
    {
     "data": {
      "image/png": "[encoded data removed]",
      "text/plain": [
       "<matplotlib.figure.Figure at 0x2165406e6a0>"
      ]
     },
     "metadata": {},
     "output_type": "display_data"
    }
   ],
   "source": [
    "%matplotlib inline\n",
    "plt.rc('font',size=FONTSIZE)\n",
    "\n",
    "profile_fig = plt.figure(figsize=(FIGSIZE_INCHES,FIGSIZE_INCHES))\n",
    "profile_axes = profile_fig.add_subplot(111)\n",
    "\n",
    "profile_axes.plot(phi_vector_linear_5000,B_vector_linear_5000,label=\"Linear 5000\")\n",
    "profile_axes.plot(phi_vector_linear_1000,B_vector_linear_1000,label=\"Linear 1000\")\n",
    "profile_axes.plot(phi_vector_non_linear,B_vector_non_linear,label=\"Non-linear\")\n",
    "\n",
    "profile_axes.set_xlim(0,np.max(phi_vector))\n",
    "profile_axes.set_xticks(np.linspace(0,np.max(phi_vector),9))\n",
    "profile_axes.xaxis.grid(True)\n",
    "profile_axes.set_xlabel(r'$\\phi [\\si{\\degree}]$')\n",
    "profile_axes.set_ylabel(r'$B [\\si{\\tesla}]$')\n",
    "profile_axes.legend(loc='best')\n"
   ]
  },
  {
   "cell_type": "markdown",
   "metadata": {},
   "source": [
    "### Magnet profile - comparison between iron and magnet core"
   ]
  },
  {
   "cell_type": "code",
   "execution_count": 26,
   "metadata": {
    "collapsed": false
   },
   "outputs": [],
   "source": [
    "param_dict_magnet = {\"R_i\": 0.015,\n",
    "                \"R_o\": 0.070,\n",
    "                \"h_gap\": 0.020,\n",
    "                \"R_s\": 0.140,\n",
    "                \"h_fc\": 0.020,\n",
    "                \"R_e\": 2,\n",
    "                \"n_IV\": 3,\n",
    "                \"phi_S_IV\": 45,\n",
    "                \"n_II\": 2,\n",
    "                \"phi_C_II\": 15,\n",
    "                \"phi_S_II\": 45,\n",
    "                 \"B_rem_II_1\": 1.4,\n",
    "                \"B_rem_II_2\": 1.4,\n",
    "                \"B_rem_II_3\": 1.4,\n",
    "                \"mu_r_II\": 1.05,\n",
    "                \"B_rem_IV_1\": 1.4,\n",
    "                \"B_rem_IV_2\": 1.4,\n",
    "                \"B_rem_IV_3\": 1.4,\n",
    "                \"mu_r_IV\": 1.05,\n",
    "                \"linear_iron\": 0\n",
    "             }\n",
    "\n",
    "alpha_rem_vector_2 = [-45, -45, 15, 45, 75]\n",
    "\n",
    "tmpd_magnet = TeslaMaxPreDesign(param_dict_magnet)\n",
    "\n",
    "param_dict_iron = param_dict_magnet.copy()\n",
    "param_dict_iron[\"n_II\"] = 0\n",
    "param_dict_iron[\"phi_C_II\"] = 0\n",
    "param_dict_iron[\"phi_S_II\"] = 0\n",
    "tmpd_iron = TeslaMaxPreDesign(param_dict_iron)\n",
    "alpha_rem_vector_2_iron = np.array([15, 45, 75])\n"
   ]
  },
  {
   "cell_type": "code",
   "execution_count": 23,
   "metadata": {
    "collapsed": false
   },
   "outputs": [
    {
     "name": "stdout",
     "output_type": "stream",
     "text": [
      "*******************************************\n",
      "***COMSOL 5.2.1.229 progress output file***\n",
      "*******************************************\n",
      "Mon Apr 24 14:53:18 BRT 2017\n",
      "COMSOL 5.2a (Build: 229) starting in batch mode\n",
      "Running: C:\\Users\\fabiofortkamp\\code\\teslamax\\java\\TeslaMax.class\n",
      "           Current Progress:   0 % - Circle 1\n",
      "Memory: 384/387 582/585\n",
      "           Current Progress:   8 % - Circle 2\n",
      "Memory: 376/387 577/585\n",
      "-          Current Progress:  17 % - Difference 1\n",
      "Memory: 380/387 577/585\n",
      "---------  Current Progress:  93 % - Resolving domains\n",
      "Memory: 382/387 578/585\n",
      "           Current Progress:   0 % - Circle 1\n",
      "Memory: 385/387 581/585\n",
      "           Current Progress:   8 % - Circle 2\n",
      "-          Current Progress:  17 % - Difference 1\n",
      "---------  Current Progress:  93 % - Resolving domains\n",
      "           Current Progress:   0 % - Cylinder Block - Iron II Wedge 1Q\n",
      "Memory: 393/394 588/588\n",
      "           Current Progress:   0 % - Circle 1\n",
      "Memory: 397/397 591/591\n",
      "           Current Progress:   0 % - Circle 2\n",
      "           Current Progress:   1 % - Difference 1\n",
      "           Current Progress:   4 % - Resolving domains\n",
      "           Current Progress:   5 % - Cylinder Block - Iron II Wedge 2Q\n",
      "Memory: 396/397 591/591\n",
      "           Current Progress:   5 % - Circle 1\n",
      "Memory: 401/401 593/593\n",
      "           Current Progress:   5 % - Circle 2\n",
      "           Current Progress:   6 % - Difference 1\n",
      "           Current Progress:   9 % - Resolving domains\n",
      "Memory: 402/402 593/593\n",
      "-          Current Progress:  10 % - Cylinder Block 1 - Magnet II - 1Q\n",
      "-          Current Progress:  10 % - Circle 1\n",
      "Memory: 390/402 579/593\n",
      "-          Current Progress:  10 % - Circle 2\n",
      "-          Current Progress:  10 % - Difference 1\n",
      "-          Current Progress:  14 % - Resolving domains\n",
      "Memory: 390/402 580/593\n",
      "-          Current Progress:  14 % - Cylinder Block 1 - Magnet II - 2Q\n",
      "Memory: 391/402 580/593\n",
      "-          Current Progress:  14 % - Circle 1\n",
      "Memory: 397/402 584/593\n",
      "-          Current Progress:  15 % - Circle 2\n",
      "-          Current Progress:  15 % - Difference 1\n",
      "Memory: 398/402 584/593\n",
      "-          Current Progress:  19 % - Resolving domains\n",
      "-          Current Progress:  19 % - Cylinder Block 2 - Magnet II - 1Q\n",
      "Memory: 399/402 585/593\n",
      "-          Current Progress:  19 % - Circle 1\n",
      "Memory: 404/404 585/593\n",
      "--         Current Progress:  20 % - Circle 2\n",
      "--         Current Progress:  20 % - Difference 1\n",
      "Memory: 404/405 585/593\n",
      "--         Current Progress:  24 % - Resolving domains\n",
      "--         Current Progress:  24 % - Cylinder Block 2 - Magnet II - 2Q\n",
      "Memory: 405/405 585/593\n",
      "--         Current Progress:  24 % - Circle 1\n",
      "Memory: 410/410 586/593\n",
      "--         Current Progress:  24 % - Circle 2\n",
      "--         Current Progress:  25 % - Difference 1\n",
      "--         Current Progress:  28 % - Resolving domains\n",
      "--         Current Progress:  29 % - Cylinder Block - Iron II\n",
      "Memory: 412/412 587/593\n",
      "--         Current Progress:  29 % - Circle 1\n",
      "Memory: 415/415 587/593\n",
      "--         Current Progress:  29 % - Circle 2\n",
      "--         Current Progress:  29 % - Difference 1\n",
      "---        Current Progress:  33 % - Resolving domains\n",
      "---        Current Progress:  33 % - Cylinder Block 1 - Magnet IV - 1Q\n",
      "Memory: 416/416 587/593\n",
      "---        Current Progress:  33 % - Circle 1\n",
      "Memory: 420/420 588/593\n",
      "---        Current Progress:  34 % - Circle 2\n",
      "---        Current Progress:  34 % - Difference 1\n",
      "---        Current Progress:  38 % - Resolving domains\n",
      "Memory: 421/421 588/593\n",
      "---        Current Progress:  38 % - Cylinder Block 1 - Magnet IV - 2Q\n",
      "---        Current Progress:  38 % - Circle 1\n",
      "Memory: 426/426 590/593\n",
      "---        Current Progress:  39 % - Circle 2\n",
      "Memory: 427/427 590/593\n",
      "---        Current Progress:  39 % - Difference 1\n",
      "Memory: 428/428 591/593\n",
      "----       Current Progress:  43 % - Resolving domains\n",
      "----       Current Progress:  43 % - Cylinder Block 2 - Magnet IV - 1Q\n",
      "Memory: 429/429 591/593\n",
      "----       Current Progress:  43 % - Circle 1\n",
      "Memory: 432/432 591/593\n",
      "----       Current Progress:  43 % - Circle 2\n",
      "----       Current Progress:  44 % - Difference 1\n",
      "----       Current Progress:  47 % - Resolving domains\n",
      "----       Current Progress:  48 % - Cylinder Block 2 - Magnet IV - 2Q\n",
      "----       Current Progress:  48 % - Circle 1\n",
      "Memory: 436/436 591/593\n",
      "----       Current Progress:  48 % - Circle 2\n",
      "----       Current Progress:  49 % - Difference 1\n",
      "-----      Current Progress:  52 % - Resolving domains\n",
      "-----      Current Progress:  53 % - Cylinder Block 3 - Magnet IV - 1Q\n",
      "Memory: 437/437 591/593\n",
      "-----      Current Progress:  53 % - Circle 1\n",
      "Memory: 440/440 591/593\n",
      "-----      Current Progress:  53 % - Circle 2\n",
      "Memory: 440/440 592/593\n",
      "-----      Current Progress:  53 % - Difference 1\n",
      "-----      Current Progress:  57 % - Resolving domains\n",
      "Memory: 441/441 592/593\n",
      "-----      Current Progress:  57 % - Cylinder Block 3 - Magnet IV - 2Q\n",
      "-----      Current Progress:  57 % - Circle 1\n",
      "Memory: 436/443 583/593\n",
      "-----      Current Progress:  58 % - Circle 2\n",
      "-----      Current Progress:  58 % - Difference 1\n",
      "------     Current Progress:  62 % - Resolving domains\n",
      "Memory: 437/443 583/593\n",
      "------     Current Progress:  62 % - Cylinder Block - Iron IV\n",
      "Memory: 438/443 584/593\n",
      "------     Current Progress:  62 % - Circle 1\n",
      "Memory: 442/443 585/593\n",
      "------     Current Progress:  63 % - Circle 2\n",
      "------     Current Progress:  63 % - Difference 1\n",
      "Memory: 443/443 587/593\n",
      "------     Current Progress:  67 % - Resolving domains\n",
      "Memory: 445/445 588/593\n",
      "------     Current Progress:  67 % - Air Gap Cylinder Block High Field  1Q\n",
      "Memory: 445/445 589/593\n",
      "------     Current Progress:  67 % - Circle 1\n",
      "Memory: 415/446 558/593\n",
      "------     Current Progress:  67 % - Circle 2\n",
      "Memory: 415/446 559/593\n",
      "------     Current Progress:  68 % - Difference 1\n",
      "-------    Current Progress:  71 % - Resolving domains\n",
      "-------    Current Progress:  72 % - Air Gap Cylinder Block Low Field  1Q\n",
      "Memory: 416/446 559/593\n",
      "-------    Current Progress:  72 % - Circle 1\n",
      "Memory: 415/446 558/593\n",
      "-------    Current Progress:  72 % - Circle 2\n",
      "-------    Current Progress:  73 % - Difference 1\n",
      "Memory: 415/446 559/593\n",
      "-------    Current Progress:  76 % - Resolving domains\n",
      "-------    Current Progress:  76 % - Air Gap Cylinder Block High Field  2Q\n",
      "Memory: 416/446 562/593\n",
      "-------    Current Progress:  76 % - Circle 1\n",
      "Memory: 420/446 566/593\n",
      "-------    Current Progress:  77 % - Circle 2\n",
      "-------    Current Progress:  77 % - Difference 1\n",
      "--------   Current Progress:  81 % - Resolving domains\n",
      "--------   Current Progress:  81 % - Air Gap Cylinder Block Low Field  2Q\n",
      "Memory: 421/446 566/593\n",
      "--------   Current Progress:  81 % - Circle 1\n",
      "Memory: 427/446 573/593\n",
      "--------   Current Progress:  82 % - Circle 2\n",
      "--------   Current Progress:  82 % - Difference 1\n",
      "--------   Current Progress:  86 % - Resolving domains\n",
      "--------   Current Progress:  86 % - Flux Concentrator Shell\n",
      "Memory: 429/446 574/593\n",
      "--------   Current Progress:  86 % - Circle 1\n",
      "Memory: 438/446 581/593\n",
      "--------   Current Progress:  86 % - Circle 2\n",
      "Memory: 441/446 584/593\n",
      "--------   Current Progress:  87 % - Difference 1\n",
      "---------  Current Progress:  91 % - Resolving domains\n",
      "Memory: 442/446 585/593\n",
      "---------  Current Progress:  91 % - Environment Cylinder Shell\n",
      "Memory: 454/456 584/593\n",
      "---------  Current Progress:  91 % - Circle 1\n",
      "Memory: 459/459 588/593\n",
      "---------  Current Progress:  91 % - Circle 2\n",
      "---------  Current Progress:  92 % - Difference 1\n",
      "---------  Current Progress:  95 % - Resolving domains\n",
      "---------  Current Progress:  96 % - Form Union\n",
      "---------  Current Progress:  99 % - Resolving domains\n",
      "Memory: 467/468 595/596\n",
      "---------- Current Progress: 100 % - Creating rendering mesh\n",
      "Memory: 474/474 601/601\n",
      "           Current Progress:   0 % - Free Triangular 1\n",
      "Memory: 521/539 621/651\n",
      "Number of vertex elements: 40\n",
      "Number of boundary elements: 622\n",
      "Number of elements: 5147\n",
      "Minimum element quality: 0.7152\n",
      "-----      Current Progress:  59 % - Improving element quality\n",
      "Memory: 536/539 637/651\n",
      "-----      Current Progress:  59 % - Mapped 1\n",
      "Memory: 527/539 625/651\n",
      "Number of vertex elements: 43\n",
      "Number of boundary elements: 726\n",
      "Number of elements: 5617\n",
      "Minimum element quality: 0.0393\n",
      "---------- Current Progress: 100 % - Creating mapped mesh\n",
      "Memory: 529/539 627/651\n",
      "Geometry shape order: Quadratic\n",
      "           Current Progress:   5 % - Compiling equations\n",
      "Memory: 583/585 673/687\n",
      "           Current Progress:   5 % - Dependent Variables 1\n",
      "Memory: 582/597 688/703\n",
      "Stationary Solver 1 in Study 1/Solution 1 (sol1) started at 24-abr-2017 14:53:36.\n",
      "Nonlinear solver\n",
      "Number of degrees of freedom solved for: 12378.\n",
      "Symmetric matrices found.\n",
      "Format not changed since Incomplete LU uses nonsymmetric storage.\n",
      "Scales for dependent variables:\n",
      "Magnetic scalar potential (nhalbach_system.Vm): 1\n",
      "Orthonormal null-space function used.\n",
      "Iter      SolEst      ResEst     Damping    Stepsize #Res #Jac #Sol LinIt   LinErr   LinRes\n",
      "           Current Progress:   9 % - Solving linear system\n",
      "Memory: 621/628 706/714\n",
      "   1         1.2    1.7e+003   1.0000000        0.97    2    1    3   154    0.099 7.7e-005\n",
      "-          Current Progress:  18 % - Solving linear system\n",
      "Memory: 621/628 705/714\n",
      "   2        0.78      2e+003   0.3977722         1.1    3    2    5   370    0.095 8.3e-005\n",
      "--         Current Progress:  27 % - Solving linear system\n",
      "Memory: 578/628 665/714\n",
      "   3        0.73    1.5e+003   0.3268677           1    4    3    7   582    0.067 9.5e-005\n",
      "----       Current Progress:  41 % - Solving linear system\n",
      "Memory: 577/628 661/714\n",
      "   4           1    1.2e+003   0.2849568         1.3    5    4    9   716      0.1  0.00015\n",
      "---        Current Progress:  37 % - Solving linear system\n",
      "Memory: 578/628 662/714\n",
      "   5        0.42    7.3e+002   0.6006593         0.8    6    5   11   864    0.096  0.00015\n",
      "-------    Current Progress:  73 % - Solving linear system\n",
      "Memory: 576/628 661/714\n",
      "   6       0.054    3.2e+002   1.0000000        0.62    7    6   14  1026      0.1 4.2e-005\n",
      "--------   Current Progress:  87 % - Solving linear system\n",
      "Memory: 577/628 661/714\n",
      "   7      0.0018          34   1.0000000       0.058    8    7   17  1198      0.1 2.2e-005\n",
      "---------  Current Progress:  98 % - Solving linear system\n",
      "   8    1.1e-005           3   1.0000000     0.00075    9    8   20  1489    0.074 4.9e-006\n",
      "---------- Current Progress: 100 % - Updating plots\n",
      "Memory: 588/628 674/714\n",
      "Stationary Solver 1 in Study 1/Solution 1 (sol1): Solution time: 7 s\n",
      "                                                  Physical memory: 621 MB\n",
      "                                                  Virtual memory: 706 MB\n",
      "-----      Current Progress:  55 % - Evaluating\n",
      "Memory: 622/628 705/714\n",
      "Class run time: 25 s.\n",
      "Saving model: C:\\Users\\fabiofortkamp\\code\\teslamax\\java\\TeslaMax_Model.mph\n",
      "Save time: 0 s.\n",
      "Total time: 25 s.\n",
      "---------- Current Progress: 100 % - Done\n",
      "Memory: 623/628 705/714\n",
      "\n"
     ]
    }
   ],
   "source": [
    "tmm_magnet = TeslaMaxModel(tmpd_magnet,alpha_rem_vector_2,\n",
    "                          path=teslamax_playground)\n",
    "tmm_magnet.run(verbose=True)\n",
    "phi_vector_magnet, B_vector_magnet = tmm_magnet.get_profile_data().T"
   ]
  },
  {
   "cell_type": "code",
   "execution_count": 27,
   "metadata": {
    "collapsed": false
   },
   "outputs": [],
   "source": [
    "tmm_iron = TeslaMaxModel(tmpd_iron,alpha_rem_vector_2_iron,\n",
    "                          path=teslamax_playground)\n",
    "tmm_iron.run()\n",
    "phi_vector_iron, B_vector_iron = tmm_iron.get_profile_data().T"
   ]
  },
  {
   "cell_type": "code",
   "execution_count": 28,
   "metadata": {
    "collapsed": false
   },
   "outputs": [
    {
     "data": {
      "text/plain": [
       "<matplotlib.legend.Legend at 0x21655928b38>"
      ]
     },
     "execution_count": 28,
     "metadata": {},
     "output_type": "execute_result"
    },
    {
     "data": {
      "image/png": "[encoded data removed]",
      "text/plain": [
       "<matplotlib.figure.Figure at 0x216552b77f0>"
      ]
     },
     "metadata": {},
     "output_type": "display_data"
    }
   ],
   "source": [
    "%matplotlib inline\n",
    "plt.rc('font',size=FONTSIZE)\n",
    "\n",
    "profile_fig = plt.figure(figsize=(FIGSIZE_INCHES,FIGSIZE_INCHES))\n",
    "profile_axes = profile_fig.add_subplot(111)\n",
    "\n",
    "profile_axes.plot(phi_vector_magnet,B_vector_magnet,label=\"Magnet\")\n",
    "profile_axes.plot(phi_vector_iron,B_vector_iron,label=\"Iron\")\n",
    "profile_axes.set_xlim(0,np.max(phi_vector))\n",
    "profile_axes.set_xticks(np.linspace(0,np.max(phi_vector),9))\n",
    "profile_axes.xaxis.grid(True)\n",
    "profile_axes.set_xlabel(r'$\\phi [\\si{\\degree}]$')\n",
    "profile_axes.set_ylabel(r'$B [\\si{\\tesla}]$')\n",
    "profile_axes.legend(loc='best')\n"
   ]
  }
 ],
 "metadata": {
  "anaconda-cloud": {},
  "kernelspec": {
   "display_name": "Python 3",
   "language": "python",
   "name": "python3"
  },
  "language_info": {
   "codemirror_mode": {
    "name": "ipython",
    "version": 3
   },
   "file_extension": ".py",
   "mimetype": "text/x-python",
   "name": "python",
   "nbconvert_exporter": "python",
   "pygments_lexer": "ipython3",
   "version": "3.6.0"
  }
 },
 "nbformat": 4,
 "nbformat_minor": 1
}
