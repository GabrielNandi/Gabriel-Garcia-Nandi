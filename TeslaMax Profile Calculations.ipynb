{
 "cells": [
  {
   "cell_type": "markdown",
   "metadata": {},
   "source": [
    "$$\n",
    "\\newcommand{\\ped}[1]{_{\\mathrm{#1}}}\n",
    "\\newcommand{\\ap}[1]{^{\\mathrm{#1}}}\n",
    "\\newcommand{\\nvector}[1]{\\mathbf{#1}}\n",
    "\\newcommand{\\nmatrix}[1]{\\mathit{#1}}\n",
    "\\newcommand{\\unitvector}[1]{\\hat{\\nvector{e}}_{#1}}\n",
    "\\newcommand{\\volume}{\\mathcal{V}}\n",
    "\\newcommand{\\average}[1]{\\overline{#1}}\n",
    "\\newcommand{\\rate}[1]{\\dot{#1}}\n",
    "\\newcommand{\\flux}[1]{{#1}''}\n",
    "\\newcommand{\\curl}[1]{\\nabla\\times {#1}}\n",
    "\\newcommand{\\curlv}[1]{\\curl{\\nvector{#1}}}\n",
    "\\newcommand{\\divergent}[1]{\\nabla \\cdot #1}\n",
    "\\newcommand{\\divergentv}[1]{\\divergent{\\nvector{#1}}}\n",
    "\\newcommand{\\divergentpar}[1]{\\divergent{\\left( #1 \\right)}}\n",
    "\\newcommand{\\gradient}[1]{\\nabla {#1}}\n",
    "\\newcommand{\\gradientpar}[1]{\\gradient{\\left( {#1} \\right)}}\n",
    "\\newcommand{\\laplacian}[1]{\\nabla^2 #1}\n",
    "\\newcommand{\\laplacianpar}[1]{\\laplacian{\\left( #1 \\right)}}\n",
    "\\newcommand{\\vectornorm}[1]{\\left\\lVert #1 \\right\\rVert}\n",
    "\\newcommand{\\diffp}[2]{\\frac{\\partial {#1}}{\\partial {#2}}}\n",
    "\\newcommand{\\diffps}[2]{\\frac{\\partial^2 {#1}}{\\partial {#2}^2}}\n",
    "\\newcommand{\\rvec}{\\nvector{r}}\n",
    "\\newcommand{\\nvh}{\\nvector{H}}\n",
    "\\newcommand{\\nvb}{\\nvector{B}}\n",
    "\\newcommand{\\nvrem}{\\nvector{B}\\ped{rem}}\n",
    "\\newcommand{\\nvbrem}{\\nvrem}\n",
    "\\newcommand{\\nvm}{\\nvector{M}}\n",
    "\\newcommand{\\mur}{\\mu\\ped{r}}\n",
    "\\newcommand{\\nvbremhat}{\\hat{\\nvector{B}}\\ped{rem}}\n",
    "\\newcommand{\\acoef}[2]{a_{{#1},\\mathrm{#2}}}\n",
    "\\newcommand{\\bcoef}[2]{b_{{#1},\\mathrm{#2}}}\n",
    "\\newcommand{\\Azexpr}[1]{A_{\\mathrm{#1}\\, z}}\n",
    "\\newcommand{\\bremii}{B_{\\mathrm{rem,II}}}\n",
    "\\newcommand{\\bremiv}{B_{\\mathrm{rem,IV}}}\n",
    "\\newcommand{\\aIII}{\\acoef{1}{III}}\n",
    "\\newcommand{\\bIII}{\\bcoef{1}{III}}\n",
    "\\newcommand{\\nvbIII}{\\nvector{B}\\ped{III}}\n",
    "\\newcommand{\\BIII}{B\\ped{III}}\n",
    "\\newcommand{\\diffd}[1]{\\mathrm{d}\\,{#1}}\n",
    "$$"
   ]
  },
  {
   "cell_type": "markdown",
   "metadata": {},
   "source": [
    "# TeslaMax Sample Calculations"
   ]
  },
  {
   "cell_type": "markdown",
   "metadata": {},
   "source": [
    "Teslamax model:\n",
    "\n",
    "<img src=\"figures/teslamax.png\" width=500>"
   ]
  },
  {
   "cell_type": "markdown",
   "metadata": {},
   "source": [
    "Tell the location of the TeslaMax Java class file:"
   ]
  },
  {
   "cell_type": "code",
   "execution_count": 1,
   "metadata": {},
   "outputs": [],
   "source": [
    "from pathlib import Path\n",
    "import os\n",
    "import matplotlib\n",
    "import matplotlib.pyplot as plt\n",
    "import numpy as np\n",
    "import teslamax\n",
    "from teslamax import TeslaMaxGeometry, TeslaMaxPreDesign, TeslaMaxModel\n",
    "import nemplot"
   ]
  },
  {
   "cell_type": "markdown",
   "metadata": {},
   "source": [
    "## Playground"
   ]
  },
  {
   "cell_type": "code",
   "execution_count": 2,
   "metadata": {},
   "outputs": [],
   "source": [
    "os.chdir(str(Path.home() / \"code\" / \"TeslaMax\"))"
   ]
  },
  {
   "cell_type": "code",
   "execution_count": 3,
   "metadata": {},
   "outputs": [],
   "source": [
    "teslamax_playground = \"teslamax-play\"\n"
   ]
  },
  {
   "cell_type": "code",
   "execution_count": 4,
   "metadata": {},
   "outputs": [
    {
     "data": {
      "text/plain": [
       "'C:\\\\Users\\\\Luis Felipe\\\\code\\\\TeslaMax'"
      ]
     },
     "execution_count": 4,
     "metadata": {},
     "output_type": "execute_result"
    }
   ],
   "source": [
    "os.getcwd()"
   ]
  },
  {
   "cell_type": "markdown",
   "metadata": {},
   "source": [
    "### Magnetic Profile"
   ]
  },
  {
   "cell_type": "code",
   "execution_count": 5,
   "metadata": {},
   "outputs": [],
   "source": [
    "# these are the parameters that are found to produce a near-instantaneous profile\n",
    "param_dict = {\"R_i\": 0.030,\n",
    "                \"R_o\": 0.19471,\n",
    "                \"h_gap\": 0.01904,\n",
    "                \"R_s\": 0.250,\n",
    "                \"h_fc\": 0.025,\n",
    "                \"R_e\": 0.7,\n",
    "                \"n_IV\": 5,\n",
    "                \"phi_S_IV\": 60,\n",
    "                \"n_II\": 5,\n",
    "                \"phi_C_II\": 0,\n",
    "                \"phi_C_IV\": 0,\n",
    "                \"phi_S_II\": 60,\n",
    "                \"B_rem_II_1\": 1.26,\n",
    "                \"B_rem_II_2\": 1.26,\n",
    "                \"B_rem_II_3\": 1.26,\n",
    "                \"B_rem_II_4\": 1.26,\n",
    "                \"B_rem_II_5\": 1.26,\n",
    "                \"mu_r_II\": 1.05,\n",
    "                \"B_rem_IV_1\": 1.26,\n",
    "                \"B_rem_IV_2\": 1.26,\n",
    "                \"B_rem_IV_3\": 1.26,\n",
    "                \"B_rem_IV_4\": 1.26,\n",
    "                \"B_rem_IV_5\": 1.26,\n",
    "                \"mu_r_IV\": 1.05,\n",
    "              \"linear_iron\": 1,\n",
    "              \"mu_r_iron\": 5e3,\n",
    "             }\n",
    "\n",
    "alpha_rem_vector = np.array([0,0,0,0,0,0,0,0,0,0])"
   ]
  },
  {
   "cell_type": "code",
   "execution_count": 6,
   "metadata": {
    "scrolled": true
   },
   "outputs": [],
   "source": [
    "tmpd = TeslaMaxPreDesign(params=param_dict)\n",
    "\n",
    "tmm = TeslaMaxModel(tmpd,alpha_rem_vector,\n",
    "                   path=teslamax_playground)"
   ]
  },
  {
   "cell_type": "code",
   "execution_count": 7,
   "metadata": {},
   "outputs": [
    {
     "name": "stdout",
     "output_type": "stream",
     "text": [
      "*******************************************\n",
      "***COMSOL 5.3.1.275 progress output file***\n",
      "*******************************************\n",
      "Fri Feb 08 14:19:56 BRST 2019\n",
      "COMSOL Multiphysics 5.3a (Build: 275) starting in batch mode\n",
      "Running: C:\\Users\\Luis Felipe\\Documents\\GitHub\\TeslaMax\\java\\TeslaMax.class\n",
      "---------- Current Progress: 100 % - Updating selections\n",
      "Memory: 357/357 618/618\n",
      "           Current Progress:   0 % - Circle 1\n",
      "Memory: 362/362 622/622\n",
      "           Current Progress:   8 % - Circle 2\n",
      "Memory: 363/363 622/622\n",
      "-          Current Progress:  17 % - Difference 1\n",
      "---------  Current Progress:  93 % - Resolving domains\n",
      "Memory: 364/364 622/622\n",
      "           Current Progress:   0 % - Circle 1\n",
      "Memory: 365/365 623/623\n",
      "           Current Progress:   8 % - Circle 2\n",
      "-          Current Progress:  17 % - Difference 1\n",
      "---------  Current Progress:  93 % - Resolving domains\n",
      "           Current Progress:   0 % - Cylinder Block 1 - Magnet II - 1Q\n",
      "Memory: 368/368 626/626\n",
      "           Current Progress:   0 % - Circle 1\n",
      "Memory: 342/368 603/627\n",
      "           Current Progress:   0 % - Circle 2\n",
      "           Current Progress:   1 % - Difference 1\n",
      "           Current Progress:   6 % - Resolving domains\n",
      "           Current Progress:   6 % - Cylinder Block 2 - Magnet II - 1Q\n",
      "Memory: 343/368 603/627\n",
      "           Current Progress:   6 % - Circle 1\n",
      "Memory: 346/368 606/627\n",
      "           Current Progress:   6 % - Circle 2\n",
      "           Current Progress:   7 % - Difference 1\n",
      "-          Current Progress:  11 % - Resolving domains\n",
      "-          Current Progress:  12 % - Cylinder Block 3 - Magnet II - 1Q\n",
      "-          Current Progress:  12 % - Circle 1\n",
      "Memory: 352/368 612/627\n",
      "-          Current Progress:  12 % - Circle 2\n",
      "Memory: 357/368 617/627\n",
      "-          Current Progress:  13 % - Difference 1\n",
      "-          Current Progress:  17 % - Resolving domains\n",
      "-          Current Progress:  18 % - Cylinder Block 4 - Magnet II - 1Q\n",
      "Memory: 358/368 618/627\n",
      "-          Current Progress:  18 % - Circle 1\n",
      "Memory: 365/368 622/627\n",
      "-          Current Progress:  18 % - Circle 2\n",
      "-          Current Progress:  19 % - Difference 1\n",
      "--         Current Progress:  23 % - Resolving domains\n",
      "Memory: 365/368 623/627\n",
      "--         Current Progress:  24 % - Cylinder Block 5 - Magnet II - 1Q\n",
      "Memory: 366/368 623/627\n",
      "--         Current Progress:  24 % - Circle 1\n",
      "Memory: 379/379 636/636\n",
      "--         Current Progress:  24 % - Circle 2\n",
      "--         Current Progress:  25 % - Difference 1\n",
      "--         Current Progress:  29 % - Resolving domains\n",
      "---        Current Progress:  30 % - Cylinder Block - Iron II\n",
      "Memory: 375/379 632/636\n",
      "---        Current Progress:  30 % - Circle 1\n",
      "---        Current Progress:  30 % - Circle 2\n",
      "---        Current Progress:  31 % - Difference 1\n",
      "---        Current Progress:  35 % - Resolving domains\n",
      "---        Current Progress:  35 % - Cylinder Block 1 - Magnet IV - 1Q\n",
      "---        Current Progress:  35 % - Circle 1\n",
      "Memory: 376/379 632/636\n",
      "---        Current Progress:  36 % - Circle 2\n",
      "---        Current Progress:  36 % - Difference 1\n",
      "----       Current Progress:  41 % - Resolving domains\n",
      "----       Current Progress:  41 % - Cylinder Block 2 - Magnet IV - 1Q\n",
      "----       Current Progress:  41 % - Circle 1\n",
      "----       Current Progress:  42 % - Circle 2\n",
      "----       Current Progress:  42 % - Difference 1\n",
      "----       Current Progress:  47 % - Resolving domains\n",
      "----       Current Progress:  47 % - Cylinder Block 3 - Magnet IV - 1Q\n",
      "----       Current Progress:  47 % - Circle 1\n",
      "----       Current Progress:  48 % - Circle 2\n",
      "----       Current Progress:  48 % - Difference 1\n",
      "-----      Current Progress:  53 % - Resolving domains\n",
      "-----      Current Progress:  53 % - Cylinder Block 4 - Magnet IV - 1Q\n",
      "-----      Current Progress:  53 % - Circle 1\n",
      "Memory: 378/379 634/636\n",
      "-----      Current Progress:  54 % - Circle 2\n",
      "-----      Current Progress:  54 % - Difference 1\n",
      "-----      Current Progress:  59 % - Resolving domains\n",
      "-----      Current Progress:  59 % - Cylinder Block 5 - Magnet IV - 1Q\n",
      "-----      Current Progress:  59 % - Circle 1\n",
      "Memory: 381/381 637/637\n",
      "------     Current Progress:  60 % - Circle 2\n",
      "------     Current Progress:  60 % - Difference 1\n",
      "------     Current Progress:  65 % - Resolving domains\n",
      "------     Current Progress:  65 % - Cylinder Block - Iron IV\n",
      "------     Current Progress:  65 % - Circle 1\n",
      "Memory: 386/386 643/643\n",
      "------     Current Progress:  66 % - Circle 2\n",
      "------     Current Progress:  66 % - Difference 1\n",
      "-------    Current Progress:  71 % - Resolving domains\n",
      "-------    Current Progress:  71 % - Air Gap Cylinder Block High Field  1Q\n",
      "Memory: 387/387 643/643\n",
      "-------    Current Progress:  71 % - Circle 1\n",
      "Memory: 383/387 640/644\n",
      "-------    Current Progress:  71 % - Circle 2\n",
      "-------    Current Progress:  72 % - Difference 1\n",
      "-------    Current Progress:  76 % - Resolving domains\n",
      "-------    Current Progress:  77 % - Air Gap Cylinder Block Low Field  1Q\n",
      "-------    Current Progress:  77 % - Circle 1\n",
      "Memory: 384/387 640/644\n",
      "-------    Current Progress:  77 % - Circle 2\n",
      "-------    Current Progress:  78 % - Difference 1\n",
      "--------   Current Progress:  82 % - Resolving domains\n",
      "--------   Current Progress:  83 % - Flux Concentrator Shell\n",
      "--------   Current Progress:  83 % - Circle 1\n",
      "Memory: 357/387 620/644\n",
      "--------   Current Progress:  83 % - Circle 2\n",
      "Memory: 358/387 620/644\n",
      "--------   Current Progress:  84 % - Difference 1\n",
      "--------   Current Progress:  88 % - Resolving domains\n",
      "--------   Current Progress:  89 % - Environment Cylinder Shell\n",
      "--------   Current Progress:  89 % - Circle 1\n",
      "Memory: 358/387 621/644\n",
      "--------   Current Progress:  89 % - Circle 2\n",
      "---------  Current Progress:  90 % - Difference 1\n",
      "---------  Current Progress:  94 % - Resolving domains\n",
      "---------  Current Progress:  95 % - Form Union\n",
      "Memory: 359/387 621/644\n",
      "---------  Current Progress:  99 % - Resolving domains\n",
      "---------- Current Progress: 100 % - Updating selections\n",
      "---------- Current Progress: 100 % - Creating visualization mesh\n",
      "Memory: 361/387 622/644\n",
      "           Current Progress:   0 % - Free Triangular 1\n",
      "Memory: 603/610 772/779\n",
      "Number of vertex elements: 33\n",
      "           Current Progress:   0 % - Creating boundary mesh\n",
      "Memory: 607/610 776/779\n",
      "Number of boundary elements: 606\n",
      "-----      Current Progress:  56 % - Improving element quality\n",
      "Memory: 613/614 781/782\n",
      "Number of elements: 5141\n",
      "-----      Current Progress:  58 % - Finalizing mesh\n",
      "Memory: 590/615 765/783\n",
      "Minimum element quality: 0.5843\n",
      "-----      Current Progress:  59 % - Finalizing mesh\n",
      "Memory: 586/615 764/783\n",
      "-----      Current Progress:  59 % - Mapped 1\n",
      "Memory: 586/615 765/783\n",
      "Number of vertex elements: 35\n",
      "Number of boundary elements: 679\n",
      "-------    Current Progress:  72 % - Creating mapped mesh\n",
      "--------   Current Progress:  80 % - Creating mapped mesh\n",
      "--------   Current Progress:  86 % - Creating mapped mesh\n",
      "--------   Current Progress:  89 % - Creating mapped mesh\n",
      "---------  Current Progress:  92 % - Creating mapped mesh\n",
      "---------  Current Progress:  94 % - Creating mapped mesh\n",
      "---------  Current Progress:  97 % - Creating mapped mesh\n",
      "---------- Current Progress: 100 % - Creating mapped mesh\n",
      "Number of elements: 5456\n",
      "Minimum element quality: 0.5843\n",
      "<---- Compile Equations: Stationary in Study 1/Solution 1 (sol1) ---------------\n",
      "Started at 8-fev-2019 14:20:41.\n",
      "Geometry shape order: Quadratic\n",
      "Running on 2 x Intel64 Family 6 Model 45 Stepping 7, GenuineIntel.\n",
      "Using 2 sockets with 12 cores in total on PIV_MEX-PC.\n",
      "Available memory: 65.49 GB.\n",
      "           Current Progress:   0 % - Compiling equations\n",
      "Memory: 662/671 822/831\n",
      "           Current Progress:   5 % - Compiling equations\n",
      "Memory: 663/671 822/831\n",
      "Time: 8 s.\n",
      "Physical memory: 692 MB\n",
      "Virtual memory: 861 MB\n",
      "Ended at 8-fev-2019 14:20:49.\n",
      "----- Compile Equations: Stationary in Study 1/Solution 1 (sol1) -------------->\n",
      "           Current Progress:   5 % - Dependent Variables 1\n",
      "Memory: 634/694 801/863\n",
      "<---- Stationary Solver 1 in Study 1/Solution 1 (sol1) -------------------------\n",
      "Started at 8-fev-2019 14:20:52.\n",
      "           Current Progress:   9 % - Stationary Solver 1\n",
      "Memory: 662/694 829/863\n",
      "Linear solver\n",
      "Number of degrees of freedom solved for: 11718.\n",
      "-          Current Progress:  18 % - Assembling matrices\n",
      "Memory: 671/694 836/863\n",
      "-          Current Progress:  18 % - Constraint handling\n",
      "---        Current Progress:  36 % - \n",
      "Memory: 677/694 842/863\n",
      "Symmetric matrices found.\n",
      "Scales for dependent variables:\n",
      "Magnetic scalar potential (nhalbach_system.Vm): 1\n",
      "Orthonormal null-space function used.\n",
      "---        Current Progress:  36 % - Matrix factorization\n",
      "Memory: 681/694 847/863\n",
      "-------    Current Progress:  76 % - Matrix factorization\n",
      "Memory: 686/694 853/863\n",
      "--------   Current Progress:  85 % - Matrix factorization\n",
      "---------  Current Progress:  91 % - Matrix factorization\n",
      "Memory: 687/694 853/863\n",
      "Iter      SolEst     Damping    Stepsize #Res #Jac #Sol   LinErr   LinRes\n",
      "---------- Current Progress: 100 % - Solving linear system\n",
      "Memory: 659/694 822/863\n",
      "   1        0.81   1.0000000        0.81    1    1    1 1.7e-010 2.2e-014\n",
      "---------- Current Progress: 100 % - Updating plots\n",
      "Memory: 658/694 820/863\n",
      "Solution time: 14 s.\n",
      "Physical memory: 687 MB\n",
      "Virtual memory: 853 MB\n",
      "Ended at 8-fev-2019 14:21:06.\n",
      "----- Stationary Solver 1 in Study 1/Solution 1 (sol1) ------------------------>\n",
      "--         Current Progress:  28 % - Evaluating\n",
      "Memory: 708/709 858/863\n",
      "           Current Progress:   0 % - \n",
      "--         Current Progress:  28 % - Evaluating\n",
      "Memory: 713/713 862/863\n",
      "           Current Progress:   0 % - \n",
      "--         Current Progress:  28 % - Evaluating\n",
      "Memory: 710/713 859/863\n",
      "------     Current Progress:  68 % - Writing file\n",
      "Memory: 712/713 861/863\n",
      "--         Current Progress:  28 % - Evaluating\n",
      "Memory: 710/713 859/863\n",
      "           Current Progress:   0 % - \n",
      "--         Current Progress:  28 % - Evaluating\n",
      "           Current Progress:   0 % - \n",
      "Memory: 712/713 861/863\n",
      "Class run time: 72 s.\n",
      "Saving model: C:\\Users\\Luis Felipe\\Documents\\GitHub\\TeslaMax\\java\\TeslaMax_Model.mph\n",
      "Save time: 0 s.\n",
      "Total time: 72 s.\n",
      "---------- Current Progress: 100 % - Done\n",
      "Memory: 711/713 860/863\n",
      "\n",
      "Wall time: 1min 28s\n"
     ]
    }
   ],
   "source": [
    "%%time\n",
    "\n",
    "tmm.run(verbose=True)"
   ]
  },
  {
   "cell_type": "code",
   "execution_count": 8,
   "metadata": {},
   "outputs": [],
   "source": [
    "a,b = tmm.get_profile_data()"
   ]
  },
  {
   "cell_type": "code",
   "execution_count": null,
   "metadata": {},
   "outputs": [],
   "source": []
  },
  {
   "cell_type": "code",
   "execution_count": 9,
   "metadata": {},
   "outputs": [
    {
     "name": "stderr",
     "output_type": "stream",
     "text": [
      "C:\\Users\\Luis Felipe\\Anaconda3a\\lib\\site-packages\\matplotlib\\font_manager.py:1241: UserWarning: findfont: Font family ['serif'] not found. Falling back to DejaVu Sans.\n",
      "  (prop.get_family(), self.defaultFamily[fontext]))\n"
     ]
    },
    {
     "data": {
      "image/png": "[encoded data removed]",
      "text/plain": [
       "<Figure size 566.929x566.929 with 1 Axes>"
      ]
     },
     "metadata": {
      "needs_background": "light"
     },
     "output_type": "display_data"
    }
   ],
   "source": [
    "%matplotlib inline\n",
    "\n",
    "\n",
    "profile_fig, profile_axes = nemplot.create_plot(xlabel=r'$\\phi [\\si{\\degree}]$',\n",
    "                                               ylabel=r'$B [\\si{\\tesla}]$')\n",
    "\n",
    "phi_vector, B_vector = tmm.get_profile_data()\n",
    "\n",
    "profile_axes.plot(phi_vector,B_vector)\n",
    "profile_axes.set_xlim(0,np.max(phi_vector))\n",
    "profile_axes.set_xticks(np.linspace(0,np.max(phi_vector),9))\n",
    "profile_axes.xaxis.grid(True)"
   ]
  },
  {
   "cell_type": "markdown",
   "metadata": {},
   "source": [
    "### Magnet profile - comparison between linear and non-linear iron regions"
   ]
  },
  {
   "cell_type": "code",
   "execution_count": null,
   "metadata": {},
   "outputs": [],
   "source": [
    "param_dict_linear_5000 = {\"R_i\": 0.015,\n",
    "                \"R_o\": 0.070,\n",
    "                \"h_gap\": 0.020,\n",
    "                \"R_s\": 0.140,\n",
    "                \"h_fc\": 0.010,\n",
    "                \"R_e\": 2,\n",
    "                \"n_IV\": 3,\n",
    "                \"phi_S_IV\": 45,\n",
    "                \"n_II\": 3,\n",
    "                \"phi_C_II\": 15,\n",
    "                \"phi_S_II\": 45,\n",
    "                \"B_rem_II_1\": 1.4,\n",
    "                \"B_rem_II_2\": 1.4,\n",
    "                \"B_rem_II_3\": 1.4,\n",
    "                \"mu_r_II\": 1.05,\n",
    "                \"B_rem_IV_1\": 1.4,\n",
    "                \"B_rem_IV_2\": 1.4,\n",
    "                \"B_rem_IV_3\": 1.4,\n",
    "                \"mu_r_IV\": 1.05,\n",
    "              \"linear_iron\": 1,\n",
    "              \"mu_r_iron\": 5e3,\n",
    "             }\n",
    "\n",
    "tmpd_linear_5000 = TeslaMaxPreDesign(param_dict_linear_5000)\n",
    "\n",
    "param_dict_non_linear = param_dict_linear_5000.copy()\n",
    "param_dict_non_linear[\"linear_iron\"] = 0\n",
    "tmpd_non_linear = TeslaMaxPreDesign(param_dict_non_linear)\n",
    "\n",
    "param_dict_linear_1000 = param_dict_linear_5000.copy()\n",
    "param_dict_linear_1000[\"mu_r_iron\"] = 1e3\n",
    "tmpd_linear_1000 = TeslaMaxPreDesign(param_dict_linear_1000)\n",
    "\n"
   ]
  },
  {
   "cell_type": "code",
   "execution_count": null,
   "metadata": {},
   "outputs": [],
   "source": [
    "tmm_linear_5000 = TeslaMaxModel(tmpd_linear_5000,alpha_rem_vector,\n",
    "                               path=teslamax_playground)\n",
    "tmm_linear_5000.run(verbose=True)\n",
    "\n",
    "phi_vector_linear_5000, B_vector_linear_5000 = tmm_linear_5000.get_profile_data()\n"
   ]
  },
  {
   "cell_type": "code",
   "execution_count": null,
   "metadata": {},
   "outputs": [],
   "source": [
    "tmm_linear_1000 = TeslaMaxModel(tmpd_linear_1000,alpha_rem_vector,\n",
    "                               path=teslamax_playground)\n",
    "tmm_linear_1000.run(verbose=True)\n",
    "\n",
    "phi_vector_linear_1000, B_vector_linear_1000 = tmm_linear_1000.get_profile_data()\n"
   ]
  },
  {
   "cell_type": "code",
   "execution_count": null,
   "metadata": {},
   "outputs": [],
   "source": [
    "tmm_non_linear = TeslaMaxModel(tmpd_non_linear,alpha_rem_vector,\n",
    "                               path=teslamax_playground)\n",
    "tmm_non_linear.run(verbose=True)\n",
    "\n",
    "phi_vector_non_linear, B_vector_non_linear = tmm_non_linear.get_profile_data()\n"
   ]
  },
  {
   "cell_type": "code",
   "execution_count": null,
   "metadata": {},
   "outputs": [],
   "source": [
    "%matplotlib inline\n",
    "\n",
    "profile_fig, profile_axes = nemplot.create_plot(xlabel=r'$\\phi [\\si{\\degree}]$',\n",
    "                                               ylabel=r'$B [\\si{\\tesla}]$')\n",
    "\n",
    "profile_axes.plot(phi_vector_linear_5000,B_vector_linear_5000,label=\"Linear 5000\")\n",
    "profile_axes.plot(phi_vector_linear_1000,B_vector_linear_1000,label=\"Linear 1000\")\n",
    "profile_axes.plot(phi_vector_non_linear,B_vector_non_linear,label=\"Non-linear\")\n",
    "\n",
    "profile_axes.set_xlim(0,np.max(phi_vector))\n",
    "profile_axes.set_xticks(np.linspace(0,np.max(phi_vector),9))\n",
    "profile_axes.xaxis.grid(True)\n",
    "profile_axes.legend(loc='best')\n"
   ]
  },
  {
   "cell_type": "markdown",
   "metadata": {},
   "source": [
    "### Magnet profile - comparison between iron and magnet core"
   ]
  },
  {
   "cell_type": "code",
   "execution_count": null,
   "metadata": {},
   "outputs": [],
   "source": [
    "param_dict_magnet = {\"R_i\": 0.015,\n",
    "                \"R_o\": 0.070,\n",
    "                \"h_gap\": 0.020,\n",
    "                \"R_s\": 0.140,\n",
    "                \"h_fc\": 0.020,\n",
    "                \"R_e\": 2,\n",
    "                \"n_IV\": 3,\n",
    "                \"phi_S_IV\": 45,\n",
    "                \"n_II\": 2,\n",
    "                \"phi_C_II\": 15,\n",
    "                \"phi_S_II\": 45,\n",
    "                 \"B_rem_II_1\": 1.4,\n",
    "                \"B_rem_II_2\": 1.4,\n",
    "                \"B_rem_II_3\": 1.4,\n",
    "                \"mu_r_II\": 1.05,\n",
    "                \"B_rem_IV_1\": 1.4,\n",
    "                \"B_rem_IV_2\": 1.4,\n",
    "                \"B_rem_IV_3\": 1.4,\n",
    "                \"mu_r_IV\": 1.05,\n",
    "                \"linear_iron\": 0\n",
    "             }\n",
    "\n",
    "alpha_rem_vector_2 = [-45, -45, 15, 45, 75]\n",
    "\n",
    "tmpd_magnet = TeslaMaxPreDesign(param_dict_magnet)\n",
    "\n",
    "param_dict_iron = param_dict_magnet.copy()\n",
    "param_dict_iron[\"n_II\"] = 0\n",
    "param_dict_iron[\"phi_C_II\"] = 0\n",
    "param_dict_iron[\"phi_S_II\"] = 0\n",
    "tmpd_iron = TeslaMaxPreDesign(param_dict_iron)\n",
    "alpha_rem_vector_2_iron = np.array([15, 45, 75])\n"
   ]
  },
  {
   "cell_type": "code",
   "execution_count": null,
   "metadata": {},
   "outputs": [],
   "source": [
    "tmm_magnet = TeslaMaxModel(tmpd_magnet,alpha_rem_vector_2,\n",
    "                          path=teslamax_playground)\n",
    "tmm_magnet.run(verbose=True)\n",
    "phi_vector_magnet, B_vector_magnet = tmm_magnet.get_profile_data()"
   ]
  },
  {
   "cell_type": "code",
   "execution_count": null,
   "metadata": {},
   "outputs": [],
   "source": [
    "tmm_iron = TeslaMaxModel(tmpd_iron,alpha_rem_vector_2_iron,\n",
    "                          path=teslamax_playground)\n",
    "tmm_iron.run(verbose=True)\n",
    "phi_vector_iron, B_vector_iron = tmm_iron.get_profile_data()"
   ]
  },
  {
   "cell_type": "code",
   "execution_count": null,
   "metadata": {},
   "outputs": [],
   "source": [
    "%matplotlib inline\n",
    "\n",
    "\n",
    "profile_fig, profile_axes = nemplot.create_plot(xlabel=r'$\\phi [\\si{\\degree}]$',\n",
    "                                               ylabel=r'$B [\\si{\\tesla}]$')\n",
    "\n",
    "profile_axes.plot(phi_vector_magnet,B_vector_magnet,label=\"Magnet\")\n",
    "profile_axes.plot(phi_vector_iron,B_vector_iron,label=\"Iron\")\n",
    "profile_axes.set_xlim(0,np.max(phi_vector))\n",
    "profile_axes.set_xticks(np.linspace(0,np.max(phi_vector),9))\n",
    "profile_axes.xaxis.grid(True)\n",
    "profile_axes.legend(loc='best')\n"
   ]
  },
  {
   "cell_type": "code",
   "execution_count": null,
   "metadata": {},
   "outputs": [],
   "source": []
  }
 ],
 "metadata": {
  "anaconda-cloud": {},
  "kernelspec": {
   "display_name": "Python 3",
   "language": "python",
   "name": "python3"
  },
  "language_info": {
   "codemirror_mode": {
    "name": "ipython",
    "version": 3
   },
   "file_extension": ".py",
   "mimetype": "text/x-python",
   "name": "python",
   "nbconvert_exporter": "python",
   "pygments_lexer": "ipython3",
   "version": "3.7.1"
  }
 },
 "nbformat": 4,
 "nbformat_minor": 1
}
