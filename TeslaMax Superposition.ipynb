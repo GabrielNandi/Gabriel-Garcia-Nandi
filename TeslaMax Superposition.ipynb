{
 "cells": [
  {
   "cell_type": "markdown",
   "metadata": {},
   "source": [
    "$$\n",
    "\\newcommand{\\ped}[1]{_{\\mathrm{#1}}}\n",
    "\\newcommand{\\ap}[1]{^{\\mathrm{#1}}}\n",
    "\\newcommand{\\nvector}[1]{\\mathbf{#1}}\n",
    "\\newcommand{\\nmatrix}[1]{\\mathit{#1}}\n",
    "\\newcommand{\\unitvector}[1]{\\hat{\\nvector{e}}_{#1}}\n",
    "\\newcommand{\\volume}{\\mathcal{V}}\n",
    "\\newcommand{\\average}[1]{\\overline{#1}}\n",
    "\\newcommand{\\rate}[1]{\\dot{#1}}\n",
    "\\newcommand{\\flux}[1]{{#1}''}\n",
    "\\newcommand{\\curl}[1]{\\nabla\\times {#1}}\n",
    "\\newcommand{\\curlv}[1]{\\curl{\\nvector{#1}}}\n",
    "\\newcommand{\\divergent}[1]{\\nabla \\cdot #1}\n",
    "\\newcommand{\\divergentv}[1]{\\divergent{\\nvector{#1}}}\n",
    "\\newcommand{\\divergentpar}[1]{\\divergent{\\left( #1 \\right)}}\n",
    "\\newcommand{\\gradient}[1]{\\nabla {#1}}\n",
    "\\newcommand{\\gradientpar}[1]{\\gradient{\\left( {#1} \\right)}}\n",
    "\\newcommand{\\laplacian}[1]{\\nabla^2 #1}\n",
    "\\newcommand{\\laplacianpar}[1]{\\laplacian{\\left( #1 \\right)}}\n",
    "\\newcommand{\\vectornorm}[1]{\\left\\lVert #1 \\right\\rVert}\n",
    "\\newcommand{\\diffp}[2]{\\frac{\\partial {#1}}{\\partial {#2}}}\n",
    "\\newcommand{\\diffps}[2]{\\frac{\\partial^2 {#1}}{\\partial {#2}^2}}\n",
    "\\newcommand{\\rvec}{\\nvector{r}}\n",
    "\\newcommand{\\nvh}{\\nvector{H}}\n",
    "\\newcommand{\\nvb}{\\nvector{B}}\n",
    "\\newcommand{\\nvrem}{\\nvector{B}\\ped{rem}}\n",
    "\\newcommand{\\nvbrem}{\\nvrem}\n",
    "\\newcommand{\\nvm}{\\nvector{M}}\n",
    "\\newcommand{\\mur}{\\mu\\ped{r}}\n",
    "\\newcommand{\\nvbremhat}{\\hat{\\nvector{B}}\\ped{rem}}\n",
    "\\newcommand{\\acoef}[2]{a_{{#1},\\mathrm{#2}}}\n",
    "\\newcommand{\\bcoef}[2]{b_{{#1},\\mathrm{#2}}}\n",
    "\\newcommand{\\Azexpr}[1]{A_{\\mathrm{#1}\\, z}}\n",
    "\\newcommand{\\bremii}{B_{\\mathrm{rem,II}}}\n",
    "\\newcommand{\\bremiv}{B_{\\mathrm{rem,IV}}}\n",
    "\\newcommand{\\aIII}{\\acoef{1}{III}}\n",
    "\\newcommand{\\bIII}{\\bcoef{1}{III}}\n",
    "\\newcommand{\\nvbIII}{\\nvector{B}\\ped{III}}\n",
    "\\newcommand{\\BIII}{B\\ped{III}}\n",
    "\\newcommand{\\diffd}[1]{\\mathrm{d}\\,{#1}}\n",
    "$$"
   ]
  },
  {
   "cell_type": "markdown",
   "metadata": {},
   "source": [
    "# Demonstration of the principle of superposition"
   ]
  },
  {
   "cell_type": "markdown",
   "metadata": {},
   "source": [
    "Teslamax model:\n",
    "\n",
    "<img src=\"figures/teslamax.png\" width=500>"
   ]
  },
  {
   "cell_type": "markdown",
   "metadata": {},
   "source": [
    "Tell the location of the TeslaMax Java class file:"
   ]
  },
  {
   "cell_type": "code",
   "execution_count": 1,
   "metadata": {
    "collapsed": false
   },
   "outputs": [],
   "source": [
    "from pathlib import Path\n",
    "import os\n",
    "import matplotlib\n",
    "import matplotlib.pyplot as plt\n",
    "import numpy as np\n",
    "import teslamax\n",
    "from teslamax import TeslaMaxModel\n",
    "\n",
    "\n",
    "\n",
    "mpl_params = {'text.usetex': True,\n",
    "              'font.family': 'serif',\n",
    "              'font.serif': 'Computer Modern',\n",
    "              'text.latex.preamble': [r'\\usepackage{engsymbols}',\n",
    "                                      r'\\usepackage{magref}',\n",
    "                                      r'\\usepackage{siunitx}']}\n",
    "matplotlib.rcParams.update(mpl_params)\n"
   ]
  },
  {
   "cell_type": "code",
   "execution_count": 2,
   "metadata": {
    "collapsed": true
   },
   "outputs": [],
   "source": [
    "FIGSIZE_CM = 20\n",
    "FIGSIZE_INCHES = FIGSIZE_CM / 2.54\n",
    "\n",
    "FONTSIZE = 20"
   ]
  },
  {
   "cell_type": "markdown",
   "metadata": {},
   "source": [
    "## Playground"
   ]
  },
  {
   "cell_type": "code",
   "execution_count": 3,
   "metadata": {
    "collapsed": false,
    "scrolled": true
   },
   "outputs": [],
   "source": [
    "os.chdir('C:\\\\Users\\\\fabiofortkamp\\\\code\\\\TeslaMax\\\\')"
   ]
  },
  {
   "cell_type": "code",
   "execution_count": 4,
   "metadata": {
    "collapsed": false
   },
   "outputs": [],
   "source": [
    "teslamax_playground = \"teslamax-play\"\n"
   ]
  },
  {
   "cell_type": "code",
   "execution_count": 5,
   "metadata": {
    "collapsed": false
   },
   "outputs": [
    {
     "data": {
      "text/plain": [
       "'C:\\\\Users\\\\fabiofortkamp\\\\code\\\\TeslaMax'"
      ]
     },
     "execution_count": 5,
     "metadata": {},
     "output_type": "execute_result"
    }
   ],
   "source": [
    "os.getcwd()"
   ]
  },
  {
   "cell_type": "markdown",
   "metadata": {},
   "source": [
    "### Magnetic Profile"
   ]
  },
  {
   "cell_type": "code",
   "execution_count": 6,
   "metadata": {
    "collapsed": false
   },
   "outputs": [],
   "source": [
    "param_dict = {\"R_i\": 0.015,\n",
    "                \"R_o\": 0.070,\n",
    "                \"h_gap\": 0.020,\n",
    "                \"R_s\": 0.140,\n",
    "                \"h_fc\": 0.010,\n",
    "                \"R_e\": 2,\n",
    "                \"n_IV\": 1,\n",
    "                \"alpha_rem_IV_1\": 15,\n",
    "                \"phi_S_IV\": 45,\n",
    "                \"n_II\": 1,\n",
    "                \"alpha_rem_II_1\": 15,\n",
    "                \"phi_C_II\": 0,\n",
    "                \"phi_S_II\": 45,\n",
    "                \"B_rem_II_1\": 1.4,\n",
    "                \"mu_r_II\": 1.05,\n",
    "                \"B_rem_IV_1\": 1.4,\n",
    "                \"mu_r_IV\": 1.05,\n",
    "                \"linear_iron\": 1,\n",
    "                \"mu_r_iron\": 5e3,\n",
    "             }\n"
   ]
  },
  {
   "cell_type": "code",
   "execution_count": 7,
   "metadata": {
    "collapsed": false,
    "scrolled": true
   },
   "outputs": [],
   "source": [
    "tmm = TeslaMaxModel(params=param_dict,\n",
    "                   path=teslamax_playground)"
   ]
  },
  {
   "cell_type": "code",
   "execution_count": 8,
   "metadata": {
    "collapsed": false
   },
   "outputs": [
    {
     "name": "stdout",
     "output_type": "stream",
     "text": [
      "*******************************************\n",
      "***COMSOL 5.2.1.229 progress output file***\n",
      "*******************************************\n",
      "Thu Feb 09 09:43:11 BRST 2017\n",
      "COMSOL 5.2a (Build: 229) starting in batch mode\n",
      "Running: C:\\Users\\fabiofortkamp\\code\\teslamax\\java\\TeslaMax.class\n",
      "           Current Progress:   0 % - Circle 1\n",
      "Memory: 374/375 590/591\n",
      "           Current Progress:   8 % - Circle 2\n",
      "Memory: 366/386 580/603\n",
      "-          Current Progress:  17 % - Difference 1\n",
      "---------  Current Progress:  93 % - Resolving domains\n",
      "Memory: 368/386 581/603\n",
      "           Current Progress:   0 % - Circle 1\n",
      "Memory: 372/386 585/603\n",
      "           Current Progress:   8 % - Circle 2\n",
      "-          Current Progress:  17 % - Difference 1\n",
      "---------  Current Progress:  93 % - Resolving domains\n",
      "Memory: 373/386 585/603\n",
      "           Current Progress:   0 % - Cylinder Block - Iron II Wedge 1Q\n",
      "Memory: 422/422 607/607\n",
      "           Current Progress:   0 % - Circle 1\n",
      "Memory: 427/427 607/607\n",
      "           Current Progress:   0 % - Circle 2\n",
      "           Current Progress:   1 % - Difference 1\n",
      "           Current Progress:   4 % - Resolving domains\n",
      "           Current Progress:   4 % - Cylinder Block - Iron II Wedge 2Q\n",
      "Memory: 424/427 604/608\n",
      "           Current Progress:   4 % - Circle 1\n",
      "Memory: 418/427 595/608\n",
      "           Current Progress:   5 % - Circle 2\n",
      "Memory: 418/427 596/608\n",
      "           Current Progress:   5 % - Difference 1\n",
      "           Current Progress:   8 % - Resolving domains\n",
      "           Current Progress:   9 % - Cylinder Block 1 - Magnet II - 1Q\n",
      "Memory: 419/427 596/608\n",
      "           Current Progress:   9 % - Circle 1\n",
      "Memory: 425/427 597/608\n",
      "           Current Progress:   9 % - Circle 2\n",
      "           Current Progress:   9 % - Difference 1\n",
      "Memory: 426/427 597/608\n",
      "-          Current Progress:  13 % - Resolving domains\n",
      "-          Current Progress:  13 % - Cylinder Block 1 - Magnet II - 2Q\n",
      "-          Current Progress:  13 % - Circle 1\n",
      "Memory: 431/431 598/608\n",
      "-          Current Progress:  13 % - Circle 2\n",
      "Memory: 432/432 598/608\n",
      "-          Current Progress:  14 % - Difference 1\n",
      "-          Current Progress:  17 % - Resolving domains\n",
      "Memory: 432/432 599/608\n",
      "-          Current Progress:  17 % - Cylinder Block 2 - Magnet II - 1Q\n",
      "Memory: 434/434 600/608\n",
      "-          Current Progress:  17 % - Circle 1\n",
      "Memory: 440/440 602/608\n",
      "-          Current Progress:  18 % - Circle 2\n",
      "Memory: 441/441 603/608\n",
      "-          Current Progress:  18 % - Difference 1\n",
      "--         Current Progress:  22 % - Resolving domains\n",
      "--         Current Progress:  22 % - Cylinder Block 2 - Magnet II - 2Q\n",
      "Memory: 442/442 604/608\n",
      "--         Current Progress:  22 % - Circle 1\n",
      "Memory: 446/446 603/608\n",
      "--         Current Progress:  22 % - Circle 2\n",
      "--         Current Progress:  23 % - Difference 1\n",
      "--         Current Progress:  26 % - Resolving domains\n",
      "--         Current Progress:  26 % - Cylinder Block 3 - Magnet II - 1Q\n",
      "Memory: 446/446 604/608\n",
      "--         Current Progress:  26 % - Circle 1\n",
      "Memory: 450/450 604/608\n",
      "--         Current Progress:  27 % - Circle 2\n",
      "Memory: 451/451 605/608\n",
      "--         Current Progress:  27 % - Difference 1\n",
      "Memory: 450/451 604/608\n",
      "---        Current Progress:  30 % - Resolving domains\n",
      "---        Current Progress:  31 % - Cylinder Block 3 - Magnet II - 2Q\n",
      "Memory: 451/451 604/608\n",
      "---        Current Progress:  31 % - Circle 1\n",
      "Memory: 477/477 604/608\n",
      "---        Current Progress:  31 % - Circle 2\n",
      "Memory: 478/478 605/608\n",
      "---        Current Progress:  31 % - Difference 1\n",
      "Memory: 477/478 604/608\n",
      "---        Current Progress:  35 % - Resolving domains\n",
      "---        Current Progress:  35 % - Cylinder Block - Iron II\n",
      "---        Current Progress:  35 % - Circle 1\n",
      "Memory: 477/478 605/608\n",
      "---        Current Progress:  35 % - Circle 2\n",
      "---        Current Progress:  36 % - Difference 1\n",
      "---        Current Progress:  39 % - Resolving domains\n",
      "Memory: 479/479 606/608\n",
      "---        Current Progress:  39 % - Cylinder Block 1 - Magnet IV - 1Q\n",
      "Memory: 477/479 605/608\n",
      "---        Current Progress:  39 % - Circle 1\n",
      "Memory: 479/480 606/608\n",
      "----       Current Progress:  40 % - Circle 2\n",
      "Memory: 480/480 607/608\n",
      "----       Current Progress:  40 % - Difference 1\n",
      "----       Current Progress:  43 % - Resolving domains\n",
      "----       Current Progress:  44 % - Cylinder Block 1 - Magnet IV - 2Q\n",
      "----       Current Progress:  44 % - Circle 1\n",
      "Memory: 481/483 609/610\n",
      "----       Current Progress:  44 % - Circle 2\n",
      "----       Current Progress:  44 % - Difference 1\n",
      "----       Current Progress:  48 % - Resolving domains\n",
      "Memory: 482/483 609/610\n",
      "----       Current Progress:  48 % - Cylinder Block 2 - Magnet IV - 1Q\n",
      "----       Current Progress:  48 % - Circle 1\n",
      "Memory: 482/484 609/611\n",
      "----       Current Progress:  48 % - Circle 2\n",
      "----       Current Progress:  49 % - Difference 1\n",
      "-----      Current Progress:  52 % - Resolving domains\n",
      "-----      Current Progress:  52 % - Cylinder Block 2 - Magnet IV - 2Q\n",
      "-----      Current Progress:  52 % - Circle 1\n",
      "Memory: 483/485 611/612\n",
      "-----      Current Progress:  53 % - Circle 2\n",
      "-----      Current Progress:  53 % - Difference 1\n",
      "Memory: 482/485 611/612\n",
      "-----      Current Progress:  56 % - Resolving domains\n",
      "Memory: 483/485 611/612\n",
      "-----      Current Progress:  57 % - Cylinder Block 3 - Magnet IV - 1Q\n",
      "-----      Current Progress:  57 % - Circle 1\n",
      "Memory: 485/486 612/614\n",
      "-----      Current Progress:  57 % - Circle 2\n",
      "Memory: 485/486 613/614\n",
      "-----      Current Progress:  57 % - Difference 1\n",
      "------     Current Progress:  61 % - Resolving domains\n",
      "------     Current Progress:  61 % - Cylinder Block 3 - Magnet IV - 2Q\n",
      "Memory: 485/486 614/614\n",
      "------     Current Progress:  61 % - Circle 1\n",
      "Memory: 482/486 610/614\n",
      "------     Current Progress:  61 % - Circle 2\n",
      "------     Current Progress:  62 % - Difference 1\n",
      "------     Current Progress:  65 % - Resolving domains\n",
      "------     Current Progress:  65 % - Cylinder Block - Iron IV\n",
      "------     Current Progress:  65 % - Circle 1\n",
      "Memory: 482/486 611/614\n",
      "------     Current Progress:  66 % - Circle 2\n",
      "------     Current Progress:  66 % - Difference 1\n",
      "-------    Current Progress:  70 % - Resolving domains\n",
      "Memory: 485/486 613/614\n",
      "-------    Current Progress:  70 % - Air Gap Cylinder Block High Field  1Q\n",
      "-------    Current Progress:  70 % - Circle 1\n",
      "Memory: 485/486 614/614\n",
      "-------    Current Progress:  70 % - Circle 2\n",
      "-------    Current Progress:  71 % - Difference 1\n",
      "-------    Current Progress:  74 % - Resolving domains\n",
      "-------    Current Progress:  74 % - Air Gap Cylinder Block Low Field  1Q\n",
      "-------    Current Progress:  74 % - Circle 1\n",
      "Memory: 486/486 615/615\n",
      "-------    Current Progress:  75 % - Circle 2\n",
      "-------    Current Progress:  75 % - Difference 1\n",
      "-------    Current Progress:  78 % - Resolving domains\n",
      "-------    Current Progress:  79 % - Air Gap Cylinder Block High Field  2Q\n",
      "-------    Current Progress:  79 % - Circle 1\n",
      "Memory: 478/486 607/615\n",
      "-------    Current Progress:  79 % - Circle 2\n",
      "-------    Current Progress:  79 % - Difference 1\n",
      "--------   Current Progress:  83 % - Resolving domains\n",
      "Memory: 479/486 608/615\n",
      "--------   Current Progress:  83 % - Air Gap Cylinder Block Low Field  2Q\n",
      "--------   Current Progress:  83 % - Circle 1\n",
      "--------   Current Progress:  83 % - Circle 2\n",
      "--------   Current Progress:  84 % - Difference 1\n",
      "--------   Current Progress:  87 % - Resolving domains\n",
      "--------   Current Progress:  87 % - Flux Concentrator Shell\n",
      "Memory: 479/486 609/615\n",
      "--------   Current Progress:  87 % - Circle 1\n",
      "Memory: 480/486 610/615\n",
      "--------   Current Progress:  88 % - Circle 2\n",
      "Memory: 481/486 610/615\n",
      "--------   Current Progress:  88 % - Difference 1\n",
      "Memory: 478/486 611/615\n",
      "---------  Current Progress:  91 % - Resolving domains\n",
      "Memory: 482/486 611/615\n",
      "---------  Current Progress:  92 % - Environment Cylinder Shell\n",
      "---------  Current Progress:  92 % - Circle 1\n",
      "Memory: 484/486 612/615\n",
      "---------  Current Progress:  92 % - Circle 2\n",
      "Memory: 485/486 613/615\n",
      "---------  Current Progress:  92 % - Difference 1\n",
      "---------  Current Progress:  96 % - Resolving domains\n",
      "---------  Current Progress:  96 % - Form Union\n",
      "---------  Current Progress:  99 % - Resolving domains\n",
      "Memory: 487/487 616/616\n",
      "---------- Current Progress: 100 % - Creating rendering mesh\n",
      "Memory: 496/529 647/679\n",
      "           Current Progress:   0 % - Free Triangular 1\n",
      "Memory: 607/607 714/715\n",
      "Number of vertex elements: 44\n",
      "Number of boundary elements: 967\n",
      "--         Current Progress:  26 % - Improving element quality\n",
      "Memory: 609/610 716/718\n",
      "Number of elements: 8673\n",
      "Minimum element quality: 0.7396\n",
      "-----      Current Progress:  59 % - Improving element quality\n",
      "Memory: 607/610 714/718\n",
      "-----      Current Progress:  59 % - Mapped 1\n",
      "Number of vertex elements: 47\n",
      "Number of boundary elements: 1157\n",
      "Number of elements: 9573\n",
      "Minimum element quality: 0.01933\n",
      "---------- Current Progress: 100 % - Creating mapped mesh\n",
      "Memory: 608/610 714/718\n",
      "Geometry shape order: Quadratic\n",
      "           Current Progress:   5 % - Compiling equations\n",
      "Memory: 642/646 758/759\n",
      "           Current Progress:   5 % - Creating rendering mesh\n",
      "Memory: 647/670 750/770\n",
      "           Current Progress:   5 % - Dependent Variables 1\n",
      "Memory: 652/670 753/770\n",
      "Stationary Solver 1 in Study 1/Solution 1 (sol1) started at 9-fev-2017 09:43:33.\n",
      "Linear solver\n",
      "Number of degrees of freedom solved for: 21240.\n",
      "Symmetric matrices found.\n",
      "Format not changed since Incomplete LU uses nonsymmetric storage.\n",
      "Scales for dependent variables:\n",
      "Magnetic scalar potential (nhalbach_system.Vm): 1\n",
      "Orthonormal null-space function used.\n",
      "Iter      SolEst     Damping    Stepsize #Res #Jac #Sol LinIt   LinErr   LinRes\n",
      "-------    Current Progress:  73 % - Solving linear system\n",
      "Memory: 692/692 784/784\n",
      "--------   Current Progress:  84 % - Solving linear system\n",
      "Memory: 706/709 799/801\n",
      "--------   Current Progress:  87 % - Solving linear system\n",
      "Memory: 684/709 777/801\n",
      "--------   Current Progress:  89 % - Solving linear system\n",
      "---------  Current Progress:  91 % - Solving linear system\n",
      "--------   Current Progress:  89 % - Solving linear system\n",
      "---------  Current Progress:  97 % - Solving linear system\n",
      "---------  Current Progress:  98 % - Solving linear system\n",
      "---------  Current Progress:  92 % - Solving linear system\n",
      "Memory: 625/709 721/801\n",
      "---------  Current Progress:  93 % - Solving linear system\n",
      "Memory: 637/709 733/801\n",
      "---------  Current Progress:  92 % - Solving linear system\n",
      "Memory: 649/709 746/801\n",
      "---------  Current Progress:  91 % - Solving linear system\n",
      "Memory: 664/709 761/801\n",
      "---------  Current Progress:  99 % - Solving linear system\n",
      "Memory: 659/709 755/801\n",
      "---------  Current Progress:  93 % - Solving linear system\n",
      "---------  Current Progress:  90 % - Solving linear system\n",
      "---------  Current Progress:  92 % - Solving linear system\n",
      "---------  Current Progress:  94 % - Solving linear system\n",
      "---------  Current Progress:  98 % - Solving linear system\n",
      "   1        0.66   1.0000000        0.66    1    1    1   889  0.00078 4.1e-007\n",
      "---------- Current Progress: 100 % - Updating plots\n",
      "Memory: 652/709 751/801\n",
      "Stationary Solver 1 in Study 1/Solution 1 (sol1): Solution time: 6 s\n",
      "                                                  Physical memory: 706 MB\n",
      "                                                  Virtual memory: 799 MB\n",
      "-----      Current Progress:  55 % - Evaluating\n",
      "Memory: 672/709 764/801\n",
      "-          Current Progress:  10 % - Evaluating\n",
      "Memory: 673/709 764/801\n",
      "-----      Current Progress:  55 % - Evaluating\n",
      "Memory: 673/709 765/801\n",
      "Class run time: 29 s.\n",
      "Saving model: C:\\Users\\fabiofortkamp\\code\\teslamax\\java\\TeslaMax_Model.mph\n",
      "Save time: 0 s.\n",
      "Total time: 29 s.\n",
      "---------- Current Progress: 100 % - Done\n",
      "Memory: 682/709 773/801\n",
      "\n"
     ]
    }
   ],
   "source": [
    "tmm.run(verbose=True)"
   ]
  },
  {
   "cell_type": "code",
   "execution_count": 9,
   "metadata": {
    "collapsed": false
   },
   "outputs": [
    {
     "data": {
      "text/plain": [
       "<matplotlib.text.Text at 0x1f3ae03e128>"
      ]
     },
     "execution_count": 9,
     "metadata": {},
     "output_type": "execute_result"
    },
    {
     "data": {
      "image/png": "[encoded data removed]",
      "text/plain": [
       "<matplotlib.figure.Figure at 0x1f3aaa58f60>"
      ]
     },
     "metadata": {},
     "output_type": "display_data"
    }
   ],
   "source": [
    "%matplotlib inline\n",
    "plt.rc('font',size=FONTSIZE)\n",
    "\n",
    "profile_fig = plt.figure(figsize=(FIGSIZE_INCHES,FIGSIZE_INCHES))\n",
    "profile_axes = profile_fig.add_subplot(111)\n",
    "\n",
    "phi_vector, B_vector = tmm.get_profile_data().T\n",
    "\n",
    "profile_axes.plot(phi_vector,B_vector)\n",
    "profile_axes.set_xlim(0,np.max(phi_vector))\n",
    "profile_axes.set_xticks(np.linspace(0,np.max(phi_vector),9))\n",
    "profile_axes.xaxis.grid(True)\n",
    "profile_axes.set_xlabel(r'$\\phi [\\si{\\degree}]$')\n",
    "profile_axes.set_ylabel(r'$B [\\si{\\tesla}]$')\n"
   ]
  },
  {
   "cell_type": "markdown",
   "metadata": {},
   "source": [
    "### Magnet profile - comparison between linear and non-linear iron regions"
   ]
  },
  {
   "cell_type": "code",
   "execution_count": null,
   "metadata": {
    "collapsed": false
   },
   "outputs": [],
   "source": [
    "param_dict_linear_5000 = {\"R_i\": 0.015,\n",
    "                \"R_o\": 0.070,\n",
    "                \"h_gap\": 0.020,\n",
    "                \"R_s\": 0.140,\n",
    "                \"h_fc\": 0.010,\n",
    "                \"R_e\": 2,\n",
    "                \"n_IV\": 3,\n",
    "                \"alpha_rem_IV_1\": 15,\n",
    "                \"alpha_rem_IV_2\": 45,\n",
    "                \"alpha_rem_IV_3\": 135,\n",
    "                \"phi_S_IV\": 45,\n",
    "                \"n_II\": 3,\n",
    "                \"alpha_rem_II_1\": 15,\n",
    "                \"alpha_rem_II_2\": 30,\n",
    "                \"alpha_rem_II_3\": 45,\n",
    "                \"phi_C_II\": 15,\n",
    "                \"phi_S_II\": 45,\n",
    "                \"B_rem_II_1\": 1.4,\n",
    "                \"B_rem_II_2\": 1.4,\n",
    "                \"B_rem_II_3\": 1.4,\n",
    "                \"mu_r_II\": 1.05,\n",
    "                \"B_rem_IV_1\": 1.4,\n",
    "                \"B_rem_IV_2\": 1.4,\n",
    "                \"B_rem_IV_3\": 1.4,\n",
    "                \"mu_r_IV\": 1.05,\n",
    "              \"linear_iron\": 1,\n",
    "              \"mu_r_iron\": 5e3,\n",
    "             }\n",
    "\n",
    "param_dict_non_linear = param_dict_linear_5000.copy()\n",
    "param_dict_non_linear[\"linear_iron\"] = 0\n",
    "\n",
    "param_dict_linear_1000 = param_dict_linear_5000.copy()\n",
    "param_dict_linear_1000[\"mu_r_iron\"] = 1e3\n",
    "\n"
   ]
  },
  {
   "cell_type": "code",
   "execution_count": null,
   "metadata": {
    "collapsed": false
   },
   "outputs": [],
   "source": [
    "tmm_linear_5000 = TeslaMaxModel(params=param_dict_linear_5000,\n",
    "                               path=teslamax_playground)\n",
    "tmm_linear_5000.run()\n",
    "\n",
    "phi_vector_linear_5000, B_vector_linear_5000 = tmm_linear_5000.get_profile_data().T\n"
   ]
  },
  {
   "cell_type": "code",
   "execution_count": null,
   "metadata": {
    "collapsed": false
   },
   "outputs": [],
   "source": [
    "tmm_linear_1000 = TeslaMaxModel(params=param_dict_linear_1000,\n",
    "                               path=teslamax_playground)\n",
    "tmm_linear_1000.run()\n",
    "\n",
    "phi_vector_linear_1000, B_vector_linear_1000 = tmm_linear_1000.get_profile_data().T\n"
   ]
  },
  {
   "cell_type": "code",
   "execution_count": null,
   "metadata": {
    "collapsed": false
   },
   "outputs": [],
   "source": [
    "tmm_non_linear = TeslaMaxModel(params=param_dict_non_linear,\n",
    "                               path=teslamax_playground)\n",
    "tmm_non_linear.run()\n",
    "\n",
    "phi_vector_non_linear, B_vector_non_linear = tmm_non_linear.get_profile_data().T\n"
   ]
  },
  {
   "cell_type": "code",
   "execution_count": null,
   "metadata": {
    "collapsed": false
   },
   "outputs": [],
   "source": [
    "%matplotlib inline\n",
    "plt.rc('font',size=FONTSIZE)\n",
    "\n",
    "profile_fig = plt.figure(figsize=(FIGSIZE_INCHES,FIGSIZE_INCHES))\n",
    "profile_axes = profile_fig.add_subplot(111)\n",
    "\n",
    "profile_axes.plot(phi_vector_linear_5000,B_vector_linear_5000,label=\"Linear 5000\")\n",
    "profile_axes.plot(phi_vector_linear_1000,B_vector_linear_1000,label=\"Linear 1000\")\n",
    "profile_axes.plot(phi_vector_non_linear,B_vector_non_linear,label=\"Non-linear\")\n",
    "\n",
    "profile_axes.set_xlim(0,np.max(phi_vector))\n",
    "profile_axes.set_xticks(np.linspace(0,np.max(phi_vector),9))\n",
    "profile_axes.xaxis.grid(True)\n",
    "profile_axes.set_xlabel(r'$\\phi [\\si{\\degree}]$')\n",
    "profile_axes.set_ylabel(r'$B [\\si{\\tesla}]$')\n",
    "profile_axes.legend(loc='best')\n"
   ]
  },
  {
   "cell_type": "markdown",
   "metadata": {},
   "source": [
    "### Magnet profile - comparison between iron and magnet core"
   ]
  },
  {
   "cell_type": "code",
   "execution_count": null,
   "metadata": {
    "collapsed": false
   },
   "outputs": [],
   "source": [
    "param_dict_magnet = {\"R_i\": 0.015,\n",
    "                \"R_o\": 0.070,\n",
    "                \"h_gap\": 0.020,\n",
    "                \"R_s\": 0.140,\n",
    "                \"h_fc\": 0.020,\n",
    "                \"R_e\": 2,\n",
    "                \"n_IV\": 3,\n",
    "                \"alpha_rem_IV_1\": 15,\n",
    "                \"alpha_rem_IV_2\": 45,\n",
    "                \"alpha_rem_IV_3\": 75,\n",
    "                \"phi_S_IV\": 45,\n",
    "                \"n_II\": 2,\n",
    "                \"alpha_rem_II_1\": -45,\n",
    "                \"alpha_rem_II_2\": -45,\n",
    "                \"phi_C_II\": 15,\n",
    "                \"phi_S_II\": 45,\n",
    "                 \"B_rem_II_1\": 1.4,\n",
    "                \"B_rem_II_2\": 1.4,\n",
    "                \"B_rem_II_3\": 1.4,\n",
    "                \"mu_r_II\": 1.05,\n",
    "                \"B_rem_IV_1\": 1.4,\n",
    "                \"B_rem_IV_2\": 1.4,\n",
    "                \"B_rem_IV_3\": 1.4,\n",
    "                \"mu_r_IV\": 1.05,\n",
    "                \"linear_iron\": 0\n",
    "             }\n",
    "\n",
    "param_dict_iron = param_dict_magnet.copy()\n",
    "param_dict_iron[\"n_II\"] = 0\n",
    "param_dict_iron[\"phi_C_II\"] = 0\n",
    "param_dict_iron[\"phi_S_II\"] = 0\n",
    "\n"
   ]
  },
  {
   "cell_type": "code",
   "execution_count": null,
   "metadata": {
    "collapsed": false
   },
   "outputs": [],
   "source": [
    "tmm_magnet = TeslaMaxModel(params=param_dict_magnet,\n",
    "                          path=teslamax_playground)\n",
    "tmm_magnet.run(verbose=True)\n",
    "phi_vector_magnet, B_vector_magnet = tmm_magnet.get_profile_data().T"
   ]
  },
  {
   "cell_type": "code",
   "execution_count": null,
   "metadata": {
    "collapsed": false
   },
   "outputs": [],
   "source": [
    "tmm_iron = TeslaMaxModel(params=param_dict_iron,\n",
    "                          path=teslamax_playground)\n",
    "tmm_iron.run()\n",
    "phi_vector_iron, B_vector_iron = tmm_iron.get_profile_data().T"
   ]
  },
  {
   "cell_type": "code",
   "execution_count": null,
   "metadata": {
    "collapsed": false
   },
   "outputs": [],
   "source": [
    "B_vector_iron - B_vector_iron"
   ]
  },
  {
   "cell_type": "code",
   "execution_count": null,
   "metadata": {
    "collapsed": false
   },
   "outputs": [],
   "source": [
    "%matplotlib inline\n",
    "plt.rc('font',size=FONTSIZE)\n",
    "\n",
    "profile_fig = plt.figure(figsize=(FIGSIZE_INCHES,FIGSIZE_INCHES))\n",
    "profile_axes = profile_fig.add_subplot(111)\n",
    "\n",
    "profile_axes.plot(phi_vector_magnet,B_vector_magnet,label=\"Magnet\")\n",
    "profile_axes.plot(phi_vector_iron,B_vector_iron,label=\"Iron\")\n",
    "profile_axes.set_xlim(0,np.max(phi_vector))\n",
    "profile_axes.set_xticks(np.linspace(0,np.max(phi_vector),9))\n",
    "profile_axes.xaxis.grid(True)\n",
    "profile_axes.set_xlabel(r'$\\phi [\\si{\\degree}]$')\n",
    "profile_axes.set_ylabel(r'$B [\\si{\\tesla}]$')\n",
    "profile_axes.legend(loc='best')\n"
   ]
  }
 ],
 "metadata": {
  "anaconda-cloud": {},
  "kernelspec": {
   "display_name": "Python 3",
   "language": "python",
   "name": "python3"
  },
  "language_info": {
   "codemirror_mode": {
    "name": "ipython",
    "version": 3
   },
   "file_extension": ".py",
   "mimetype": "text/x-python",
   "name": "python",
   "nbconvert_exporter": "python",
   "pygments_lexer": "ipython3",
   "version": "3.6.0"
  }
 },
 "nbformat": 4,
 "nbformat_minor": 1
}
