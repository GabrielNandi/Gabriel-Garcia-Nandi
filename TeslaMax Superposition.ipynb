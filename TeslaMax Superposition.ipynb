{
 "cells": [
  {
   "cell_type": "markdown",
   "metadata": {},
   "source": [
    "$$\n",
    "\\newcommand{\\ped}[1]{_{\\mathrm{#1}}}\n",
    "\\newcommand{\\ap}[1]{^{\\mathrm{#1}}}\n",
    "\\newcommand{\\nvector}[1]{\\mathbf{#1}}\n",
    "\\newcommand{\\nmatrix}[1]{\\mathit{#1}}\n",
    "\\newcommand{\\unitvector}[1]{\\hat{\\nvector{e}}_{#1}}\n",
    "\\newcommand{\\volume}{\\mathcal{V}}\n",
    "\\newcommand{\\average}[1]{\\overline{#1}}\n",
    "\\newcommand{\\rate}[1]{\\dot{#1}}\n",
    "\\newcommand{\\flux}[1]{{#1}''}\n",
    "\\newcommand{\\curl}[1]{\\nabla\\times {#1}}\n",
    "\\newcommand{\\curlv}[1]{\\curl{\\nvector{#1}}}\n",
    "\\newcommand{\\divergent}[1]{\\nabla \\cdot #1}\n",
    "\\newcommand{\\divergentv}[1]{\\divergent{\\nvector{#1}}}\n",
    "\\newcommand{\\divergentpar}[1]{\\divergent{\\left( #1 \\right)}}\n",
    "\\newcommand{\\gradient}[1]{\\nabla {#1}}\n",
    "\\newcommand{\\gradientpar}[1]{\\gradient{\\left( {#1} \\right)}}\n",
    "\\newcommand{\\laplacian}[1]{\\nabla^2 #1}\n",
    "\\newcommand{\\laplacianpar}[1]{\\laplacian{\\left( #1 \\right)}}\n",
    "\\newcommand{\\vectornorm}[1]{\\left\\lVert #1 \\right\\rVert}\n",
    "\\newcommand{\\diffp}[2]{\\frac{\\partial {#1}}{\\partial {#2}}}\n",
    "\\newcommand{\\diffps}[2]{\\frac{\\partial^2 {#1}}{\\partial {#2}^2}}\n",
    "\\newcommand{\\rvec}{\\nvector{r}}\n",
    "\\newcommand{\\nvh}{\\nvector{H}}\n",
    "\\newcommand{\\nvb}{\\nvector{B}}\n",
    "\\newcommand{\\nvrem}{\\nvector{B}\\ped{rem}}\n",
    "\\newcommand{\\nvbrem}{\\nvrem}\n",
    "\\newcommand{\\nvm}{\\nvector{M}}\n",
    "\\newcommand{\\mur}{\\mu\\ped{r}}\n",
    "\\newcommand{\\nvbremhat}{\\hat{\\nvector{B}}\\ped{rem}}\n",
    "\\newcommand{\\acoef}[2]{a_{{#1},\\mathrm{#2}}}\n",
    "\\newcommand{\\bcoef}[2]{b_{{#1},\\mathrm{#2}}}\n",
    "\\newcommand{\\Azexpr}[1]{A_{\\mathrm{#1}\\, z}}\n",
    "\\newcommand{\\bremii}{B_{\\mathrm{rem,II}}}\n",
    "\\newcommand{\\bremiv}{B_{\\mathrm{rem,IV}}}\n",
    "\\newcommand{\\aIII}{\\acoef{1}{III}}\n",
    "\\newcommand{\\bIII}{\\bcoef{1}{III}}\n",
    "\\newcommand{\\nvbIII}{\\nvector{B}\\ped{III}}\n",
    "\\newcommand{\\BIII}{B\\ped{III}}\n",
    "\\newcommand{\\diffd}[1]{\\mathrm{d}\\,{#1}}\n",
    "$$"
   ]
  },
  {
   "cell_type": "markdown",
   "metadata": {},
   "source": [
    "# Demonstration of the principle of superposition"
   ]
  },
  {
   "cell_type": "markdown",
   "metadata": {},
   "source": [
    "Teslamax model:\n",
    "\n",
    "<img src=\"figures/teslamax.png\" width=500>"
   ]
  },
  {
   "cell_type": "markdown",
   "metadata": {},
   "source": [
    "Tell the location of the TeslaMax Java class file:"
   ]
  },
  {
   "cell_type": "code",
   "execution_count": 1,
   "metadata": {
    "collapsed": false
   },
   "outputs": [],
   "source": [
    "from pathlib import Path\n",
    "import math\n",
    "import os\n",
    "import matplotlib\n",
    "import matplotlib.pyplot as plt\n",
    "import numpy as np\n",
    "import teslamax\n",
    "from teslamax import TeslaMaxGeometry, TeslaMaxPreDesign,TeslaMaxModel\n",
    "import nemplot"
   ]
  },
  {
   "cell_type": "markdown",
   "metadata": {},
   "source": [
    "## Playground"
   ]
  },
  {
   "cell_type": "code",
   "execution_count": 2,
   "metadata": {
    "collapsed": false,
    "scrolled": true
   },
   "outputs": [],
   "source": [
    "os.chdir('C:\\\\Users\\\\fabiofortkamp\\\\code\\\\TeslaMax\\\\')"
   ]
  },
  {
   "cell_type": "code",
   "execution_count": 3,
   "metadata": {
    "collapsed": false
   },
   "outputs": [],
   "source": [
    "teslamax_playground = \"teslamax-play\"\n"
   ]
  },
  {
   "cell_type": "code",
   "execution_count": 4,
   "metadata": {
    "collapsed": false
   },
   "outputs": [
    {
     "data": {
      "text/plain": [
       "'C:\\\\Users\\\\fabiofortkamp\\\\code\\\\TeslaMax'"
      ]
     },
     "execution_count": 4,
     "metadata": {},
     "output_type": "execute_result"
    }
   ],
   "source": [
    "os.getcwd()"
   ]
  },
  {
   "cell_type": "markdown",
   "metadata": {},
   "source": [
    "We wish to demonstrate the Principle of Superposition to the TeslaMax model.\n",
    "\n",
    "We define a sample geometry, with only one segment in each cylinder."
   ]
  },
  {
   "cell_type": "code",
   "execution_count": 5,
   "metadata": {
    "collapsed": false
   },
   "outputs": [],
   "source": [
    "param_dict = {\"R_i\": 0.015,\n",
    "                \"R_o\": 0.070,\n",
    "                \"h_gap\": 0.020,\n",
    "                \"R_s\": 0.140,\n",
    "                \"h_fc\": 0.010,\n",
    "                \"R_e\": 0.3,\n",
    "                \"n_IV\": 1,\n",
    "                \"phi_S_IV\": 45,\n",
    "                \"n_II\": 1,\n",
    "                \"phi_C_II\": 0,\n",
    "                \"phi_S_II\": 45,\n",
    "                \"B_rem_II_1\": 1.4,\n",
    "                \"mu_r_II\": 1.05,\n",
    "                \"B_rem_IV_1\": 1.4,\n",
    "                \"mu_r_IV\": 1.05,\n",
    "                \"linear_iron\": 1,\n",
    "                \"mu_r_iron\": 5e3,\n",
    "             }\n",
    "\n",
    "alpha_rem_vector = np.array([15, 15])\n",
    "\n",
    "tmpd = TeslaMaxPreDesign(param_dict)"
   ]
  },
  {
   "cell_type": "markdown",
   "metadata": {},
   "source": [
    "We \"run\" the TeslaMax model:"
   ]
  },
  {
   "cell_type": "code",
   "execution_count": 6,
   "metadata": {
    "collapsed": false,
    "scrolled": true
   },
   "outputs": [],
   "source": [
    "tmm = TeslaMaxModel(tmpd, alpha_rem_vector,\n",
    "                   path=teslamax_playground)"
   ]
  },
  {
   "cell_type": "code",
   "execution_count": 7,
   "metadata": {
    "collapsed": false
   },
   "outputs": [
    {
     "name": "stdout",
     "output_type": "stream",
     "text": [
      "Wall time: 17.5 s\n"
     ]
    }
   ],
   "source": [
    "%%time\n",
    "\n",
    "tmm.run()"
   ]
  },
  {
   "cell_type": "markdown",
   "metadata": {},
   "source": [
    "We define an arbitrary point in the air gap region"
   ]
  },
  {
   "cell_type": "code",
   "execution_count": 8,
   "metadata": {
    "collapsed": false
   },
   "outputs": [],
   "source": [
    "x_gap = param_dict[\"R_o\"] + 0.5 * param_dict[\"h_gap\"]\n",
    "y_gap = 0\n",
    "point_gap = np.array([x_gap,y_gap])"
   ]
  },
  {
   "cell_type": "markdown",
   "metadata": {},
   "source": [
    "Then we calculate the value of $\\nvb$ in the air gap at that position:"
   ]
  },
  {
   "cell_type": "code",
   "execution_count": 9,
   "metadata": {
    "collapsed": false
   },
   "outputs": [
    {
     "name": "stdout",
     "output_type": "stream",
     "text": [
      "Wall time: 998 µs\n"
     ]
    }
   ],
   "source": [
    "%%time\n",
    "\n",
    "B_total = tmm.calculate_B_III_from_position(point_gap)[0]\n",
    "B_total"
   ]
  },
  {
   "cell_type": "markdown",
   "metadata": {},
   "source": [
    "In the `teslamax` library, there is a function which performs a FEM simulation to calculate the $\\nvector{F}^B_{\\mathrm{rem},m,k}$ operator, which represents the contribution of segment $k$ in magnet $m$ to the magnetic flux density in the air gap.\n",
    "\n",
    "With this function we can calculate te contribution of the only segment in magnet IV, passing the properties of the above dictionary. Notice that because `param_dict` defines one segment in each magnet, this cell below will nulify the remanence of magnet II:"
   ]
  },
  {
   "cell_type": "code",
   "execution_count": 10,
   "metadata": {
    "collapsed": false
   },
   "outputs": [
    {
     "name": "stdout",
     "output_type": "stream",
     "text": [
      "Wall time: 18.4 s\n"
     ]
    }
   ],
   "source": [
    "%%time\n",
    "B_outer = tmpd.calculate_B_III_from_single_block(point=point_gap,\n",
    "                                           angle=alpha_rem_vector[1],\n",
    "                                           magnet='IV',\n",
    "                                           magnitude=param_dict[\"B_rem_IV_1\"],\n",
    "                                            segment=1)[0]\n",
    "B_outer"
   ]
  },
  {
   "cell_type": "markdown",
   "metadata": {},
   "source": [
    "Now we do the same, but calculating the effect of the single block in the inner magnet:"
   ]
  },
  {
   "cell_type": "code",
   "execution_count": 11,
   "metadata": {
    "collapsed": false
   },
   "outputs": [
    {
     "name": "stdout",
     "output_type": "stream",
     "text": [
      "Wall time: 18.4 s\n"
     ]
    }
   ],
   "source": [
    "%%time\n",
    "\n",
    "B_inner = tmpd.calculate_B_III_from_single_block(point=point_gap,\n",
    "                                           angle=alpha_rem_vector[0],\n",
    "                                           magnet='II',\n",
    "                                           magnitude=param_dict[\"B_rem_II_1\"],\n",
    "                                            segment=1)[0]\n",
    "B_inner"
   ]
  },
  {
   "cell_type": "markdown",
   "metadata": {},
   "source": [
    "The total field should be the sum of the \"partial\" fields calculated below:"
   ]
  },
  {
   "cell_type": "code",
   "execution_count": 12,
   "metadata": {
    "collapsed": false
   },
   "outputs": [
    {
     "data": {
      "text/plain": [
       "array([  1.55431223e-15,  -1.75554016e-15])"
      ]
     },
     "execution_count": 12,
     "metadata": {},
     "output_type": "execute_result"
    }
   ],
   "source": [
    "B_total - (B_outer + B_inner)"
   ]
  },
  {
   "cell_type": "markdown",
   "metadata": {},
   "source": [
    "Notice that this is not exactly zero due to interpolation errors (since for each condition that is a mesh generation, and an interpolation scheme to find the field at the desired point). However, in relation to the total field:"
   ]
  },
  {
   "cell_type": "code",
   "execution_count": 13,
   "metadata": {
    "collapsed": false
   },
   "outputs": [
    {
     "data": {
      "text/plain": [
       "array([  1.46669568e-13,  -1.76912274e-10])"
      ]
     },
     "execution_count": 13,
     "metadata": {},
     "output_type": "execute_result"
    }
   ],
   "source": [
    "(B_total - (B_outer + B_inner))/B_total * 100 # in percentage\n"
   ]
  },
  {
   "cell_type": "markdown",
   "metadata": {
    "collapsed": true
   },
   "source": [
    "## Calculating over a cloud of points"
   ]
  },
  {
   "cell_type": "code",
   "execution_count": 14,
   "metadata": {
    "collapsed": false
   },
   "outputs": [
    {
     "name": "stdout",
     "output_type": "stream",
     "text": [
      "Wall time: 56.2 s\n"
     ]
    }
   ],
   "source": [
    "%%time\n",
    "\n",
    "param_dict = {\"R_i\": 0.015,\n",
    "                \"R_o\": 0.070,\n",
    "                \"h_gap\": 0.020,\n",
    "                \"R_s\": 0.140,\n",
    "                \"h_fc\": 0.010,\n",
    "                \"R_e\": 0.3,\n",
    "                \"n_IV\": 1,\n",
    "                \"phi_S_IV\": 45,\n",
    "                \"n_II\": 1,\n",
    "                \"phi_C_II\": 0,\n",
    "                \"phi_S_II\": 45,\n",
    "                \"B_rem_II_1\": 1.4,\n",
    "                \"mu_r_II\": 1.05,\n",
    "                \"B_rem_IV_1\": 1.4,\n",
    "                \"mu_r_IV\": 1.05,\n",
    "                \"linear_iron\": 1,\n",
    "                \"mu_r_iron\": 5e3,\n",
    "             }\n",
    "\n",
    "alpha_rem_vector = np.array([15, 15])\n",
    "\n",
    "tmpd = TeslaMaxPreDesign(param_dict)\n",
    "\n",
    "tmm = TeslaMaxModel(tmpd, alpha_rem_vector,\n",
    "                   path=teslamax_playground)\n",
    "\n",
    "tmm.run()\n",
    "\n",
    "R_o = param_dict[\"R_o\"]\n",
    "R_g = R_o + param_dict[\"h_gap\"]\n",
    "\n",
    "points_gap = teslamax.generate_sector_mesh_points(R_o,R_g,0,np.pi/2)\n",
    "\n",
    "B_total = tmm.calculate_B_III_from_position(points_gap)\n",
    "\n",
    "B_inner = tmpd.calculate_B_III_from_single_block(point=points_gap,\n",
    "                                           angle=alpha_rem_vector[0],\n",
    "                                           magnet='II',\n",
    "                                           magnitude=param_dict[\"B_rem_II_1\"],\n",
    "                                            segment=1)\n",
    "\n",
    "B_outer = tmpd.calculate_B_III_from_single_block(point=points_gap,\n",
    "                                           angle=alpha_rem_vector[1],\n",
    "                                           magnet='IV',\n",
    "                                           magnitude=param_dict[\"B_rem_IV_1\"],\n",
    "                                            segment=1)\n",
    "\n"
   ]
  },
  {
   "cell_type": "code",
   "execution_count": 15,
   "metadata": {
    "collapsed": false
   },
   "outputs": [
    {
     "data": {
      "image/png": "[encoded data removed]",
      "text/plain": [
       "<matplotlib.figure.Figure at 0x159d3ea26d8>"
      ]
     },
     "metadata": {},
     "output_type": "display_data"
    }
   ],
   "source": [
    "%matplotlib inline\n",
    "\n",
    "nemplot.set_figsize_cm(12)\n",
    "nemplot.set_latex_font('Palatino')\n",
    "nemplot.set_fontsize(14)\n",
    "\n",
    "fig, axes = nemplot.create_plot(xlabel=r'$x\\,[\\si{\\milli\\meter}]$',\n",
    "                                 ylabel=r'$y\\,[\\si{\\milli\\meter}]$')\n",
    "axes.set_aspect('equal')\n",
    "axes.set_xlim(0,1e3*R_g)\n",
    "axes.set_ylim(0,1e3*R_g)\n",
    "nemplot.refine_xticks(axes,5)\n",
    "nemplot.refine_yticks(axes,5)\n",
    "x_vector, y_vector = 1e3*points_gap.T\n",
    "\n",
    "#pcolormesh deals with 2D arrays, so we reshape our vectors\n",
    "number_of_points_per_axes = int(math.sqrt(len(x_vector)))\n",
    "mesh_shape = ( number_of_points_per_axes, number_of_points_per_axes)\n",
    "\n",
    "dev_B_superposition = (B_total - (B_outer + B_inner))/B_total * 100\n",
    "dev_B_x, dev_B_y = dev_B_superposition.T\n",
    "\n",
    "dev_B_superposition_magnitude = teslamax.calculate_magnitude(np.array([x_vector,\n",
    "                                                            y_vector,\n",
    "                                                            dev_B_x,\n",
    "                                                            dev_B_y]).T).T[2]\n",
    "\n",
    "B_mesh = axes.pcolormesh(x_vector.reshape(mesh_shape),\n",
    "                        y_vector.reshape(mesh_shape),\n",
    "                           dev_B_superposition_magnitude.reshape(mesh_shape))\n",
    "\n",
    "#annotate the plot\n",
    "B_colorbar = fig.colorbar(B_mesh,orientation='horizontal')\n",
    "B_colorbar.set_label(r'$\\mathrm{dev}_{B,\\mathrm{superposition}}\\ [\\si{\\percent}]$')\n"
   ]
  },
  {
   "cell_type": "code",
   "execution_count": null,
   "metadata": {
    "collapsed": true
   },
   "outputs": [],
   "source": []
  }
 ],
 "metadata": {
  "anaconda-cloud": {},
  "kernelspec": {
   "display_name": "Python 3",
   "language": "python",
   "name": "python3"
  },
  "language_info": {
   "codemirror_mode": {
    "name": "ipython",
    "version": 3
   },
   "file_extension": ".py",
   "mimetype": "text/x-python",
   "name": "python",
   "nbconvert_exporter": "python",
   "pygments_lexer": "ipython3",
   "version": "3.6.2"
  }
 },
 "nbformat": 4,
 "nbformat_minor": 1
}
