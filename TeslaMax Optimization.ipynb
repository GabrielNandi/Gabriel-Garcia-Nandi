{
 "cells": [
  {
   "cell_type": "markdown",
   "metadata": {},
   "source": [
    "$$\n",
    "\\newcommand{\\ped}[1]{_{\\mathrm{#1}}}\n",
    "\\newcommand{\\ap}[1]{^{\\mathrm{#1}}}\n",
    "\\newcommand{\\nvector}[1]{\\mathbf{#1}}\n",
    "\\newcommand{\\nmatrix}[1]{\\mathit{#1}}\n",
    "\\newcommand{\\unitvector}[1]{\\hat{\\nvector{e}}_{#1}}\n",
    "\\newcommand{\\volume}{\\mathcal{V}}\n",
    "\\newcommand{\\average}[1]{\\overline{#1}}\n",
    "\\newcommand{\\rate}[1]{\\dot{#1}}\n",
    "\\newcommand{\\flux}[1]{{#1}''}\n",
    "\\newcommand{\\curl}[1]{\\nabla\\times {#1}}\n",
    "\\newcommand{\\curlv}[1]{\\curl{\\nvector{#1}}}\n",
    "\\newcommand{\\divergent}[1]{\\nabla \\cdot #1}\n",
    "\\newcommand{\\divergentv}[1]{\\divergent{\\nvector{#1}}}\n",
    "\\newcommand{\\divergentpar}[1]{\\divergent{\\left( #1 \\right)}}\n",
    "\\newcommand{\\gradient}[1]{\\nabla {#1}}\n",
    "\\newcommand{\\gradientpar}[1]{\\gradient{\\left( {#1} \\right)}}\n",
    "\\newcommand{\\laplacian}[1]{\\nabla^2 #1}\n",
    "\\newcommand{\\laplacianpar}[1]{\\laplacian{\\left( #1 \\right)}}\n",
    "\\newcommand{\\vectornorm}[1]{\\left\\lVert #1 \\right\\rVert}\n",
    "\\newcommand{\\diffp}[2]{\\frac{\\partial {#1}}{\\partial {#2}}}\n",
    "\\newcommand{\\diffps}[2]{\\frac{\\partial^2 {#1}}{\\partial {#2}^2}}\n",
    "\\newcommand{\\rvec}{\\nvector{r}}\n",
    "\\newcommand{\\nvh}{\\nvector{H}}\n",
    "\\newcommand{\\nvb}{\\nvector{B}}\n",
    "\\newcommand{\\nvrem}{\\nvector{B}\\ped{rem}}\n",
    "\\newcommand{\\nvbrem}{\\nvrem}\n",
    "\\newcommand{\\nvm}{\\nvector{M}}\n",
    "\\newcommand{\\mur}{\\mu\\ped{r}}\n",
    "\\newcommand{\\nvbremhat}{\\hat{\\nvector{B}}\\ped{rem}}\n",
    "\\newcommand{\\acoef}[2]{a_{{#1},\\mathrm{#2}}}\n",
    "\\newcommand{\\bcoef}[2]{b_{{#1},\\mathrm{#2}}}\n",
    "\\newcommand{\\Azexpr}[1]{A_{\\mathrm{#1}\\, z}}\n",
    "\\newcommand{\\bremii}{B_{\\mathrm{rem,II}}}\n",
    "\\newcommand{\\bremiv}{B_{\\mathrm{rem,IV}}}\n",
    "\\newcommand{\\aIII}{\\acoef{1}{III}}\n",
    "\\newcommand{\\bIII}{\\bcoef{1}{III}}\n",
    "\\newcommand{\\nvbIII}{\\nvector{B}\\ped{III}}\n",
    "\\newcommand{\\BIII}{B\\ped{III}}\n",
    "\\newcommand{\\diffd}[1]{\\mathrm{d}\\,{#1}}\n",
    "$$"
   ]
  },
  {
   "cell_type": "markdown",
   "metadata": {},
   "source": [
    "# TeslaMax Optimization"
   ]
  },
  {
   "cell_type": "markdown",
   "metadata": {},
   "source": [
    "Teslamax model:\n",
    "\n",
    "<img src=\"figures/teslamax.png\" width=500>"
   ]
  },
  {
   "cell_type": "markdown",
   "metadata": {},
   "source": [
    "We are intererested in finding the optimal set of remanence angles $\\alpha_{\\mathrm{rem},m,k}$ that will maximize some metric in the air gap."
   ]
  },
  {
   "cell_type": "code",
   "execution_count": 1,
   "metadata": {
    "collapsed": false
   },
   "outputs": [],
   "source": [
    "from pathlib import Path\n",
    "import os\n",
    "import matplotlib\n",
    "import matplotlib.pyplot as plt\n",
    "import numpy as np\n",
    "from scipy.optimize import minimize, differential_evolution, basinhopping\n",
    "import teslamax\n",
    "from teslamax import TeslaMaxGeometry, TeslaMaxPreDesign, TeslaMaxModel\n",
    "\n",
    "\n",
    "\n",
    "mpl_params = {'text.usetex': True,\n",
    "              'font.family': 'serif',\n",
    "              'font.serif': 'Computer Modern',\n",
    "              'text.latex.preamble': [r'\\usepackage{engsymbols}',\n",
    "                                      r'\\usepackage{magref}',\n",
    "                                      r'\\usepackage{siunitx}']}\n",
    "matplotlib.rcParams.update(mpl_params)"
   ]
  },
  {
   "cell_type": "code",
   "execution_count": 2,
   "metadata": {
    "collapsed": false
   },
   "outputs": [],
   "source": [
    "FIGSIZE_CM = 20\n",
    "FIGSIZE_INCHES = FIGSIZE_CM / 2.54\n",
    "\n",
    "FONTSIZE = 20\n",
    "\n",
    "\n",
    "\n",
    "PAPER_FILE_PATH = Path('.')\n",
    "FIGURES_DIR_NAME = \"figures\"\n",
    "FIG_FILE_PATH = PAPER_FILE_PATH / Path(FIGURES_DIR_NAME)\n",
    "\n",
    "\n",
    "PLOT_EXTENSION = \".png\"\n",
    "\n",
    "DPI = 800"
   ]
  },
  {
   "cell_type": "code",
   "execution_count": 3,
   "metadata": {
    "collapsed": false
   },
   "outputs": [],
   "source": [
    "os.chdir(str(Path.home() / \"code\" / \"TeslaMax\"))"
   ]
  },
  {
   "cell_type": "code",
   "execution_count": 4,
   "metadata": {
    "collapsed": false
   },
   "outputs": [
    {
     "data": {
      "text/plain": [
       "'C:\\\\Users\\\\Fabio\\\\code\\\\TeslaMax'"
      ]
     },
     "execution_count": 4,
     "metadata": {},
     "output_type": "execute_result"
    }
   ],
   "source": [
    "os.getcwd()"
   ]
  },
  {
   "cell_type": "code",
   "execution_count": 5,
   "metadata": {
    "collapsed": true
   },
   "outputs": [],
   "source": [
    "def save_figure(fig,name):\n",
    "    \"\"\"\n",
    "    Save the 'fig' Figure object as 'name' (with extension PLOT_EXTENSION), inside FIG_FILE_PATH,\n",
    "    and close the figure\"\"\"\n",
    "    \n",
    "    \n",
    "    file_path = str(FIG_FILE_PATH / (name + PLOT_EXTENSION))\n",
    "    fig.savefig(file_path,dpi=DPI,bbox_inches='tight')"
   ]
  },
  {
   "cell_type": "markdown",
   "metadata": {},
   "source": [
    "## AMR simulations"
   ]
  },
  {
   "cell_type": "markdown",
   "metadata": {},
   "source": [
    "To help determine the best magnetic profile for an AMR device, simulations using the AMR model from Trevizoli (2015) were performed, and can be found in [this repository](https://github.com/PoloMag/paper-magnetic-profiles). We wish then to design the magnet to be able to provide the desired profile.\n",
    "\n",
    "All simulations considered a ramp profile like this one:"
   ]
  },
  {
   "cell_type": "code",
   "execution_count": 6,
   "metadata": {
    "collapsed": false
   },
   "outputs": [
    {
     "data": {
      "text/plain": [
       "<matplotlib.text.Text at 0x268a433a470>"
      ]
     },
     "execution_count": 6,
     "metadata": {},
     "output_type": "execute_result"
    },
    {
     "data": {
      "image/png": "[encoded data removed]",
      "text/plain": [
       "<matplotlib.figure.Figure at 0x268a25ddf98>"
      ]
     },
     "metadata": {},
     "output_type": "display_data"
    }
   ],
   "source": [
    "%matplotlib inline\n",
    "plt.rc('font',size=FONTSIZE)\n",
    "\n",
    "ramp_profile_fig = plt.figure(figsize=(FIGSIZE_INCHES,FIGSIZE_INCHES))\n",
    "ramp_profile_axes = ramp_profile_fig.add_subplot(111)\n",
    "\n",
    "B_high = 1.2\n",
    "B_low = 0.0\n",
    "field_fraction = 0.6\n",
    "\n",
    "phi_vector = np.linspace(0,360,200)\n",
    "B_ramp_vector = teslamax.calculate_ramp_profile(phi_vector,B_high,B_low,field_fraction)\n",
    "\n",
    "ramp_profile_axes.plot(phi_vector,B_ramp_vector)\n",
    "ramp_profile_axes.set_xlim(0,np.max(phi_vector))\n",
    "ramp_profile_axes.set_xticks(np.linspace(0,np.max(phi_vector),9))\n",
    "ramp_profile_axes.xaxis.grid(True)\n",
    "ramp_profile_axes.set_ylim(0,B_high+0.1)\n",
    "ramp_profile_axes.set_yticks(np.arange(0,B_high+0.2,0.2))\n",
    "ramp_profile_axes.set_xlabel(r'$\\phi [\\si{\\degree}]$')\n",
    "ramp_profile_axes.set_ylabel(r'$B [\\si{\\tesla}]$')\n"
   ]
  },
  {
   "cell_type": "markdown",
   "metadata": {},
   "source": [
    "The following parameters were kept fixed in all simulations:"
   ]
  },
  {
   "cell_type": "code",
   "execution_count": 7,
   "metadata": {
    "collapsed": true
   },
   "outputs": [],
   "source": [
    "FIXED_PARAMETERS_AMR = {\n",
    "    \"D_p[m]\": 0.5e-3,\n",
    "    \"L[m]\": 100e-3,\n",
    "    \"W[m]\": 25e-3,\n",
    "    \"H[m]\": 20e-3,\n",
    "    \"N_r[]\": 11,\n",
    "    \"T_H[K]\": 298,\n",
    "    \"dT[K]\": 20,\n",
    "\"t_csg[m]\": 1e-3,\n",
    "\"t_air[m]\": 0.5e-3,\n",
    "\"casing_material\": \"G10\"\n",
    "}\n",
    "\n",
    "FIXED_PARAMETERS_AMR[\"hgap[m]\"] = FIXED_PARAMETERS_AMR[\"H[m]\"] + 2*(FIXED_PARAMETERS_AMR[\"t_csg[m]\"] + \n",
    "                                                                    FIXED_PARAMETERS_AMR[\"t_air[m]\"])"
   ]
  },
  {
   "cell_type": "markdown",
   "metadata": {},
   "source": [
    "Thermal losses were included in the simulations"
   ]
  },
  {
   "cell_type": "markdown",
   "metadata": {},
   "source": [
    "By varying the field fraction $F_M$ (the fraction of the cycle where the field is at the maximum level) and the maximum magnetic field, the following map can be generated, for a combination of frequency, utilization and blow fraction:\n",
    "\n",
    "<img src=\"figures/ramp_map_f_1_Phi_40_FB_70.png\" width=500>"
   ]
  },
  {
   "cell_type": "markdown",
   "metadata": {},
   "source": [
    "Notice how the results are sensitive to the magnitude of the field. It is more advantangeous to keep the field at 1.4 T during  30% of the cycle than keeping the field at 1.2 T for the entire cycle.\n",
    "\n",
    "Our current estimative for the cooling capacity for the wine cooler is 180 W @ 0 K and 100 W @ 25 K."
   ]
  },
  {
   "cell_type": "markdown",
   "metadata": {},
   "source": [
    "## Objective function"
   ]
  },
  {
   "cell_type": "markdown",
   "metadata": {},
   "source": [
    "We consider that the magnetic profile is a good representation of what the regenerators experience, and it is what is used as an input to AMR models. Therefore, the optimization procedure that is developed here is denoted *profile matching*: we calculate the optimal remanence angles for each magnet segments, such that the deviation between the resulting profile and a *target* ramp profile is minimized:\n",
    "\n",
    "\\begin{equation}\n",
    "\\mathcal{K}(\\nvector{x}) = \\left(\\int_0^{2\\pi}\\left(\\average{B}(\\phi,\\nvector{x}) - \\average{B}\\ped{ramp} (\\phi,B\\ped{l},B\\ped{h},F\\ped{M})\\right)^{2}\\diffd{\\phi}\\right)\n",
    "\\end{equation}\n",
    "\n",
    "where $\\average{B}(\\phi,\\nvector{x})$ is the magnetic profile calculated at position $\\phi$ when the remanence angles are represented by $\\nvector{x}$, and $\\average{B}\\ped{ramp} \\left(\\phi,B\\ped{l},B\\ped{h},F\\ped{M})\\right)$ is the ramp profile at angle $\\phi$, between plateaus $B\\ped{l}$ and $B\\ped{h}$ for the low and high field regions, with a high field fraction $F\\ped{M}$ (the fraction of the entire cycle where the field is at the high level)."
   ]
  },
  {
   "cell_type": "markdown",
   "metadata": {},
   "source": [
    "## Optimization using Scipy"
   ]
  },
  {
   "cell_type": "code",
   "execution_count": 8,
   "metadata": {
    "collapsed": false
   },
   "outputs": [],
   "source": [
    "params_optimization = {\"R_i\": 0.015,\n",
    "                \"R_o\": 0.060,\n",
    "                \"h_gap\": FIXED_PARAMETERS_AMR[\"hgap[m]\"],\n",
    "                \"R_s\": 0.150,\n",
    "                \"h_fc\": 0.010,\n",
    "                \"R_e\": 2,\n",
    "                \"n_IV\": 4,\n",
    "                \"phi_S_IV\": 45,\n",
    "                \"n_II\": 3,\n",
    "                \"phi_C_II\": 15,\n",
    "                \"phi_S_II\": 45,\n",
    "                \"mu_r_II\": 1.05,\n",
    "                \"mu_r_IV\": 1.05,\n",
    "              \"linear_iron\": 1,\n",
    "              \"mu_r_iron\": 5e3,\n",
    "             }\n",
    "\n",
    "n_II = params_optimization[\"n_II\"]\n",
    "n_IV = params_optimization[\"n_IV\"]\n",
    "\n",
    "n = n_II + n_IV\n",
    "\n",
    "B_rem = 1.4\n",
    "\n",
    "# expand parameters to include remanence magnitudes for each segment\n",
    "params_optimization = teslamax.expand_parameters_from_remanence_array(B_rem*np.ones(n), \n",
    "                                                                      params_optimization, \n",
    "                                                                      \"B_rem\")\n",
    "\n",
    "alpha_B_rem_0 = np.zeros(n)\n",
    "\n",
    "\n",
    "tmpd = TeslaMaxPreDesign(params_optimization)"
   ]
  },
  {
   "cell_type": "code",
   "execution_count": 9,
   "metadata": {
    "collapsed": false
   },
   "outputs": [
    {
     "name": "stdout",
     "output_type": "stream",
     "text": [
      "Exception reporting mode: Verbose\n"
     ]
    },
    {
     "ename": "FileNotFoundError",
     "evalue": "File b'COMSOL Main Results.txt' does not exist",
     "output_type": "error",
     "traceback": [
      "\u001b[0;31m---------------------------------------------------------------------------\u001b[0m",
      "\u001b[0;31mFileNotFoundError\u001b[0m                         Traceback (most recent call last)",
      "\u001b[0;32m<ipython-input-9-67393a989013>\u001b[0m in \u001b[0;36m<module>\u001b[0;34m()\u001b[0m\n\u001b[1;32m     20\u001b[0m                     \u001b[0margs\u001b[0m\u001b[1;33m=\u001b[0m\u001b[1;33m(\u001b[0m\u001b[0mfunctional_args\u001b[0m\u001b[1;33m,\u001b[0m\u001b[1;33m)\u001b[0m\u001b[1;33m,\u001b[0m\u001b[1;33m\u001b[0m\u001b[0m\n\u001b[1;32m     21\u001b[0m                     \u001b[0mbounds\u001b[0m\u001b[1;33m=\u001b[0m\u001b[0mbounds\u001b[0m\u001b[1;33m,\u001b[0m\u001b[1;33m\u001b[0m\u001b[0m\n\u001b[0;32m---> 22\u001b[0;31m                     options={'disp': True})\n\u001b[0m        \u001b[0;36mglobal\u001b[0m \u001b[0;36moptions\u001b[0m \u001b[0;34m= \u001b[0;36mundefined\u001b[0m\u001b[0m\n",
      "\u001b[0;32mC:\\Users\\Fabio\\Anaconda3\\lib\\site-packages\\scipy\\optimize\\_minimize.py\u001b[0m in \u001b[0;36mminimize\u001b[0;34m(fun=<bound method TeslaMaxPreDesign.calculate_functional of <teslamax.TeslaMaxPreDesign object>>, x0=array([ 0.,  0.,  0.,  0.,  0.,  0.,  0.]), args=((<function calculate_ramp_profile>, (1.4, 0.0, 0.6)),), method='L-BFGS-B', jac=None, hess=None, hessp=None, bounds=[(0.0, 360.0), (0.0, 360.0), (0.0, 360.0), (0.0, 360.0), (0.0, 360.0), (0.0, 360.0), (0.0, 360.0)], constraints=(), tol=None, callback=None, options={'disp': True})\u001b[0m\n\u001b[1;32m    448\u001b[0m     \u001b[1;32melif\u001b[0m \u001b[0mmeth\u001b[0m \u001b[1;33m==\u001b[0m \u001b[1;34m'l-bfgs-b'\u001b[0m\u001b[1;33m:\u001b[0m\u001b[1;33m\u001b[0m\u001b[0m\n\u001b[1;32m    449\u001b[0m         return _minimize_lbfgsb(fun, x0, args, jac, bounds,\n\u001b[0;32m--> 450\u001b[0;31m                                 callback=callback, **options)\n\u001b[0m        \u001b[0;36mcallback\u001b[0m \u001b[0;34m= None\u001b[0m\u001b[0;34m\n        \u001b[0m\u001b[0;36moptions\u001b[0m \u001b[0;34m= {'disp': True}\u001b[0m\n\u001b[1;32m    451\u001b[0m     \u001b[1;32melif\u001b[0m \u001b[0mmeth\u001b[0m \u001b[1;33m==\u001b[0m \u001b[1;34m'tnc'\u001b[0m\u001b[1;33m:\u001b[0m\u001b[1;33m\u001b[0m\u001b[0m\n\u001b[1;32m    452\u001b[0m         return _minimize_tnc(fun, x0, args, jac, bounds, callback=callback,\n",
      "\u001b[0;32mC:\\Users\\Fabio\\Anaconda3\\lib\\site-packages\\scipy\\optimize\\lbfgsb.py\u001b[0m in \u001b[0;36m_minimize_lbfgsb\u001b[0;34m(fun=<function wrap_function.<locals>.function_wrapper>, x0=array([ 0.,  0.,  0.,  0.,  0.,  0.,  0.]), args=((<function calculate_ramp_profile>, (1.4, 0.0, 0.6)),), jac=None, bounds=[(0.0, 360.0), (0.0, 360.0), (0.0, 360.0), (0.0, 360.0), (0.0, 360.0), (0.0, 360.0), (0.0, 360.0)], disp=True, maxcor=10, ftol=2.220446049250313e-09, gtol=1e-05, eps=1e-08, maxfun=15000, maxiter=15000, iprint=True, callback=None, maxls=20, **unknown_options={})\u001b[0m\n\u001b[1;32m    326\u001b[0m             \u001b[1;31m# until the completion of the current minimization iteration.\u001b[0m\u001b[1;33m\u001b[0m\u001b[1;33m\u001b[0m\u001b[0m\n\u001b[1;32m    327\u001b[0m             \u001b[1;31m# Overwrite f and g:\u001b[0m\u001b[1;33m\u001b[0m\u001b[1;33m\u001b[0m\u001b[0m\n\u001b[0;32m--> 328\u001b[0;31m             \u001b[0mf\u001b[0m\u001b[1;33m,\u001b[0m \u001b[0mg\u001b[0m \u001b[1;33m=\u001b[0m \u001b[0mfunc_and_grad\u001b[0m\u001b[1;33m(\u001b[0m\u001b[0mx\u001b[0m\u001b[1;33m)\u001b[0m\u001b[1;33m\u001b[0m\u001b[0m\n\u001b[0m        \u001b[0;36mf\u001b[0m \u001b[0;34m= array(0.0)\u001b[0m\u001b[0;34m\n        \u001b[0m\u001b[0;36mg\u001b[0m \u001b[0;34m= array([ 0.,  0.,  0.,  0.,  0.,  0.,  0.])\u001b[0m\u001b[0;34m\n        \u001b[0m\u001b[0;36mfunc_and_grad\u001b[0m \u001b[0;34m= <function _minimize_lbfgsb.<locals>.func_and_grad at 0x00000268A455AD08>\u001b[0m\u001b[0;34m\n        \u001b[0m\u001b[0;36mx\u001b[0m \u001b[0;34m= array([ 0.,  0.,  0.,  0.,  0.,  0.,  0.])\u001b[0m\n\u001b[1;32m    329\u001b[0m         \u001b[1;32melif\u001b[0m \u001b[0mtask_str\u001b[0m\u001b[1;33m.\u001b[0m\u001b[0mstartswith\u001b[0m\u001b[1;33m(\u001b[0m\u001b[1;34mb'NEW_X'\u001b[0m\u001b[1;33m)\u001b[0m\u001b[1;33m:\u001b[0m\u001b[1;33m\u001b[0m\u001b[0m\n\u001b[1;32m    330\u001b[0m             \u001b[1;31m# new iteration\u001b[0m\u001b[1;33m\u001b[0m\u001b[1;33m\u001b[0m\u001b[0m\n",
      "\u001b[0;32mC:\\Users\\Fabio\\Anaconda3\\lib\\site-packages\\scipy\\optimize\\lbfgsb.py\u001b[0m in \u001b[0;36mfunc_and_grad\u001b[0;34m(x=array([ 0.,  0.,  0.,  0.,  0.,  0.,  0.]))\u001b[0m\n\u001b[1;32m    271\u001b[0m     \u001b[1;32mif\u001b[0m \u001b[0mjac\u001b[0m \u001b[1;32mis\u001b[0m \u001b[1;32mNone\u001b[0m\u001b[1;33m:\u001b[0m\u001b[1;33m\u001b[0m\u001b[0m\n\u001b[1;32m    272\u001b[0m         \u001b[1;32mdef\u001b[0m \u001b[0mfunc_and_grad\u001b[0m\u001b[1;33m(\u001b[0m\u001b[0mx\u001b[0m\u001b[1;33m)\u001b[0m\u001b[1;33m:\u001b[0m\u001b[1;33m\u001b[0m\u001b[0m\n\u001b[0;32m--> 273\u001b[0;31m             \u001b[0mf\u001b[0m \u001b[1;33m=\u001b[0m \u001b[0mfun\u001b[0m\u001b[1;33m(\u001b[0m\u001b[0mx\u001b[0m\u001b[1;33m,\u001b[0m \u001b[1;33m*\u001b[0m\u001b[0margs\u001b[0m\u001b[1;33m)\u001b[0m\u001b[1;33m\u001b[0m\u001b[0m\n\u001b[0m        \u001b[0;36mf\u001b[0m \u001b[0;34m= \u001b[0;36mundefined\u001b[0m\u001b[0m\u001b[0;34m\n        \u001b[0m\u001b[0;36mglobal\u001b[0m \u001b[0;36mfun\u001b[0m \u001b[0;34m= \u001b[0;36mundefined\u001b[0m\u001b[0m\u001b[0;34m\n        \u001b[0m\u001b[0;36mx\u001b[0m \u001b[0;34m= array([ 0.,  0.,  0.,  0.,  0.,  0.,  0.])\u001b[0m\u001b[0;34m\n        \u001b[0m\u001b[0;36mglobal\u001b[0m \u001b[0;36margs\u001b[0m \u001b[0;34m= \u001b[0;36mundefined\u001b[0m\u001b[0m\n\u001b[1;32m    274\u001b[0m             \u001b[0mg\u001b[0m \u001b[1;33m=\u001b[0m \u001b[0m_approx_fprime_helper\u001b[0m\u001b[1;33m(\u001b[0m\u001b[0mx\u001b[0m\u001b[1;33m,\u001b[0m \u001b[0mfun\u001b[0m\u001b[1;33m,\u001b[0m \u001b[0mepsilon\u001b[0m\u001b[1;33m,\u001b[0m \u001b[0margs\u001b[0m\u001b[1;33m=\u001b[0m\u001b[0margs\u001b[0m\u001b[1;33m,\u001b[0m \u001b[0mf0\u001b[0m\u001b[1;33m=\u001b[0m\u001b[0mf\u001b[0m\u001b[1;33m)\u001b[0m\u001b[1;33m\u001b[0m\u001b[0m\n\u001b[1;32m    275\u001b[0m             \u001b[1;32mreturn\u001b[0m \u001b[0mf\u001b[0m\u001b[1;33m,\u001b[0m \u001b[0mg\u001b[0m\u001b[1;33m\u001b[0m\u001b[0m\n",
      "\u001b[0;32mC:\\Users\\Fabio\\Anaconda3\\lib\\site-packages\\scipy\\optimize\\optimize.py\u001b[0m in \u001b[0;36mfunction_wrapper\u001b[0;34m(*wrapper_args=(array([ 0.,  0.,  0.,  0.,  0.,  0.,  0.]), (<function calculate_ramp_profile>, (1.4, 0.0, 0.6))))\u001b[0m\n\u001b[1;32m    290\u001b[0m     \u001b[1;32mdef\u001b[0m \u001b[0mfunction_wrapper\u001b[0m\u001b[1;33m(\u001b[0m\u001b[1;33m*\u001b[0m\u001b[0mwrapper_args\u001b[0m\u001b[1;33m)\u001b[0m\u001b[1;33m:\u001b[0m\u001b[1;33m\u001b[0m\u001b[0m\n\u001b[1;32m    291\u001b[0m         \u001b[0mncalls\u001b[0m\u001b[1;33m[\u001b[0m\u001b[1;36m0\u001b[0m\u001b[1;33m]\u001b[0m \u001b[1;33m+=\u001b[0m \u001b[1;36m1\u001b[0m\u001b[1;33m\u001b[0m\u001b[0m\n\u001b[0;32m--> 292\u001b[0;31m         \u001b[1;32mreturn\u001b[0m \u001b[0mfunction\u001b[0m\u001b[1;33m(\u001b[0m\u001b[1;33m*\u001b[0m\u001b[1;33m(\u001b[0m\u001b[0mwrapper_args\u001b[0m \u001b[1;33m+\u001b[0m \u001b[0margs\u001b[0m\u001b[1;33m)\u001b[0m\u001b[1;33m)\u001b[0m\u001b[1;33m\u001b[0m\u001b[0m\n\u001b[0m        \u001b[0;36mglobal\u001b[0m \u001b[0;36mfunction\u001b[0m \u001b[0;34m= \u001b[0;36mundefined\u001b[0m\u001b[0m\u001b[0;34m\n        \u001b[0m\u001b[0;36mwrapper_args\u001b[0m \u001b[0;34m= (array([ 0.,  0.,  0.,  0.,  0.,  0.,  0.]), (<function calculate_ramp_profile at 0x00000268A3F49048>, (1.4, 0.0, 0.6)))\u001b[0m\u001b[0;34m\n        \u001b[0m\u001b[0;36mglobal\u001b[0m \u001b[0;36margs\u001b[0m \u001b[0;34m= \u001b[0;36mundefined\u001b[0m\u001b[0m\n\u001b[1;32m    293\u001b[0m \u001b[1;33m\u001b[0m\u001b[0m\n\u001b[1;32m    294\u001b[0m     \u001b[1;32mreturn\u001b[0m \u001b[0mncalls\u001b[0m\u001b[1;33m,\u001b[0m \u001b[0mfunction_wrapper\u001b[0m\u001b[1;33m\u001b[0m\u001b[0m\n",
      "\u001b[0;32mC:\\Users\\Fabio\\code\\TeslaMax\\teslamax\\__init__.py\u001b[0m in \u001b[0;36mcalculate_functional\u001b[0;34m(self=<teslamax.TeslaMaxPreDesign object>, alpha_B_rem=array([ 0.,  0.,  0.,  0.,  0.,  0.,  0.]), functional_args=(<function calculate_ramp_profile>, (1.4, 0.0, 0.6)))\u001b[0m\n\u001b[1;32m   1014\u001b[0m         return self.calculate_functional_target(alpha_B_rem,\n\u001b[1;32m   1015\u001b[0m                                                 \u001b[0mfunctional_args\u001b[0m\u001b[1;33m[\u001b[0m\u001b[1;36m0\u001b[0m\u001b[1;33m]\u001b[0m\u001b[1;33m,\u001b[0m\u001b[1;33m\u001b[0m\u001b[0m\n\u001b[0;32m-> 1016\u001b[0;31m                                                 functional_args[1])\n\u001b[0m        \u001b[0;36mfunctional_args\u001b[0m \u001b[0;34m= (<function calculate_ramp_profile at 0x00000268A3F49048>, (1.4, 0.0, 0.6))\u001b[0m\n\u001b[1;32m   1017\u001b[0m \u001b[1;33m\u001b[0m\u001b[0m\n\u001b[1;32m   1018\u001b[0m     def calculate_functional_derivative(self,\n",
      "\u001b[0;32mC:\\Users\\Fabio\\code\\TeslaMax\\teslamax\\__init__.py\u001b[0m in \u001b[0;36mcalculate_functional_target\u001b[0;34m(self=<teslamax.TeslaMaxPreDesign object>, alpha_B_rem=array([ 0.,  0.,  0.,  0.,  0.,  0.,  0.]), target_profile_function=<function calculate_ramp_profile>, target_profile_args=(1.4, 0.0, 0.6))\u001b[0m\n\u001b[1;32m    990\u001b[0m         \"\"\"\n\u001b[1;32m    991\u001b[0m \u001b[1;33m\u001b[0m\u001b[0m\n\u001b[0;32m--> 992\u001b[0;31m         \u001b[0mB_III_data\u001b[0m \u001b[1;33m=\u001b[0m \u001b[0mself\u001b[0m\u001b[1;33m.\u001b[0m\u001b[0msuperposition_B_III\u001b[0m\u001b[1;33m(\u001b[0m\u001b[0malpha_B_rem\u001b[0m\u001b[1;33m)\u001b[0m\u001b[1;33m\u001b[0m\u001b[0m\n\u001b[0m        \u001b[0;36mB_III_data\u001b[0m \u001b[0;34m= \u001b[0;36mundefined\u001b[0m\u001b[0m\u001b[0;34m\n        \u001b[0m\u001b[0;36mself.superposition_B_III\u001b[0m \u001b[0;34m= <bound method TeslaMaxPreDesign.superposition_B_III of <teslamax.TeslaMaxPreDesign object at 0x00000268A3F9BD68>>\u001b[0m\u001b[0;34m\n        \u001b[0m\u001b[0;36malpha_B_rem\u001b[0m \u001b[0;34m= array([ 0.,  0.,  0.,  0.,  0.,  0.,  0.])\u001b[0m\n\u001b[1;32m    993\u001b[0m \u001b[1;33m\u001b[0m\u001b[0m\n\u001b[1;32m    994\u001b[0m         \u001b[1;31m# the above statement will return [x,y,B_x,B_y]. We have to calculate the magnitude to pass it\u001b[0m\u001b[1;33m\u001b[0m\u001b[1;33m\u001b[0m\u001b[0m\n",
      "\u001b[0;32mC:\\Users\\Fabio\\code\\TeslaMax\\teslamax\\__init__.py\u001b[0m in \u001b[0;36msuperposition_B_III\u001b[0;34m(self=<teslamax.TeslaMaxPreDesign object>, alpha_B_rem=array([ 0.,  0.,  0.,  0.,  0.,  0.,  0.]))\u001b[0m\n\u001b[1;32m    919\u001b[0m         \u001b[0mB_III\u001b[0m \u001b[1;33m=\u001b[0m \u001b[1;36m0\u001b[0m\u001b[1;33m\u001b[0m\u001b[0m\n\u001b[1;32m    920\u001b[0m \u001b[1;33m\u001b[0m\u001b[0m\n\u001b[0;32m--> 921\u001b[0;31m         \u001b[0mpoints\u001b[0m \u001b[1;33m=\u001b[0m \u001b[0mself\u001b[0m\u001b[1;33m.\u001b[0m\u001b[0mget_points_F_operators\u001b[0m\u001b[1;33m(\u001b[0m\u001b[1;33m)\u001b[0m\u001b[1;33m\u001b[0m\u001b[0m\n\u001b[0m        \u001b[0;36mpoints\u001b[0m \u001b[0;34m= \u001b[0;36mundefined\u001b[0m\u001b[0m\u001b[0;34m\n        \u001b[0m\u001b[0;36mself.get_points_F_operators\u001b[0m \u001b[0;34m= <bound method TeslaMaxPreDesign.get_points_F_operators of <teslamax.TeslaMaxPreDesign object at 0x00000268A3F9BD68>>\u001b[0m\n\u001b[1;32m    922\u001b[0m         \u001b[0mF_II_x\u001b[0m\u001b[1;33m,\u001b[0m \u001b[0mF_II_y\u001b[0m\u001b[1;33m,\u001b[0m \u001b[0mF_IV_x\u001b[0m\u001b[1;33m,\u001b[0m \u001b[0mF_IV_y\u001b[0m \u001b[1;33m=\u001b[0m \u001b[0mself\u001b[0m\u001b[1;33m.\u001b[0m\u001b[0mget_F_operators\u001b[0m\u001b[1;33m(\u001b[0m\u001b[1;33m)\u001b[0m\u001b[1;33m\u001b[0m\u001b[0m\n\u001b[1;32m    923\u001b[0m \u001b[1;33m\u001b[0m\u001b[0m\n",
      "\u001b[0;32mC:\\Users\\Fabio\\code\\TeslaMax\\teslamax\\__init__.py\u001b[0m in \u001b[0;36mget_points_F_operators\u001b[0;34m(self=<teslamax.TeslaMaxPreDesign object>)\u001b[0m\n\u001b[1;32m    896\u001b[0m     \u001b[1;32mdef\u001b[0m \u001b[0mget_points_F_operators\u001b[0m\u001b[1;33m(\u001b[0m\u001b[0mself\u001b[0m\u001b[1;33m)\u001b[0m\u001b[1;33m:\u001b[0m\u001b[1;33m\u001b[0m\u001b[0m\n\u001b[1;32m    897\u001b[0m         \u001b[1;32mif\u001b[0m \u001b[0mself\u001b[0m\u001b[1;33m.\u001b[0m\u001b[0mpoints_F_operators\u001b[0m \u001b[1;32mis\u001b[0m \u001b[1;32mNone\u001b[0m\u001b[1;33m:\u001b[0m\u001b[1;33m\u001b[0m\u001b[0m\n\u001b[0;32m--> 898\u001b[0;31m             \u001b[0mself\u001b[0m\u001b[1;33m.\u001b[0m\u001b[0mcalculate_F_operators\u001b[0m\u001b[1;33m(\u001b[0m\u001b[1;33m)\u001b[0m\u001b[1;33m\u001b[0m\u001b[0m\n\u001b[0m        \u001b[0;36mself.calculate_F_operators\u001b[0m \u001b[0;34m= <bound method TeslaMaxPreDesign.calculate_F_operators of <teslamax.TeslaMaxPreDesign object at 0x00000268A3F9BD68>>\u001b[0m\n\u001b[1;32m    899\u001b[0m \u001b[1;33m\u001b[0m\u001b[0m\n\u001b[1;32m    900\u001b[0m         \u001b[1;32mreturn\u001b[0m \u001b[0mself\u001b[0m\u001b[1;33m.\u001b[0m\u001b[0mpoints_F_operators\u001b[0m\u001b[1;33m\u001b[0m\u001b[0m\n",
      "\u001b[0;32mC:\\Users\\Fabio\\code\\TeslaMax\\teslamax\\__init__.py\u001b[0m in \u001b[0;36mcalculate_F_operators\u001b[0;34m(self=<teslamax.TeslaMaxPreDesign object>)\u001b[0m\n\u001b[1;32m    869\u001b[0m                                                        \u001b[0mmagnet\u001b[0m\u001b[1;33m=\u001b[0m\u001b[1;34m'II'\u001b[0m\u001b[1;33m,\u001b[0m\u001b[1;33m\u001b[0m\u001b[0m\n\u001b[1;32m    870\u001b[0m                                                        \u001b[0mmagnitude\u001b[0m\u001b[1;33m=\u001b[0m\u001b[1;36m1.0\u001b[0m\u001b[1;33m,\u001b[0m\u001b[1;33m\u001b[0m\u001b[0m\n\u001b[0;32m--> 871\u001b[0;31m                                                         angle=0.0))\n\u001b[0m        \u001b[0;36mglobal\u001b[0m \u001b[0;36mangle\u001b[0m \u001b[0;34m= \u001b[0;36mundefined\u001b[0m\u001b[0m\n\u001b[1;32m    872\u001b[0m \u001b[1;33m\u001b[0m\u001b[0m\n\u001b[1;32m    873\u001b[0m \u001b[1;33m\u001b[0m\u001b[0m\n",
      "\u001b[0;32mC:\\Users\\Fabio\\code\\TeslaMax\\teslamax\\__init__.py\u001b[0m in \u001b[0;36mcalculate_B_III_from_single_block\u001b[0;34m(self=<teslamax.TeslaMaxPreDesign object>, point=array([[  6.00600000e-02,   0.00000000e+00],\n   ...4],\n       [ -8.29170000e-02,   1.01544039e-17]]), segment=1, magnet='II', magnitude=1.0, angle=0.0)\u001b[0m\n\u001b[1;32m    830\u001b[0m         \u001b[0mauxdir\u001b[0m\u001b[1;33m.\u001b[0m\u001b[0mmkdir\u001b[0m\u001b[1;33m(\u001b[0m\u001b[0mexist_ok\u001b[0m\u001b[1;33m=\u001b[0m\u001b[1;32mTrue\u001b[0m\u001b[1;33m)\u001b[0m\u001b[1;33m\u001b[0m\u001b[0m\n\u001b[1;32m    831\u001b[0m         \u001b[0mtmm\u001b[0m \u001b[1;33m=\u001b[0m \u001b[0mTeslaMaxModel\u001b[0m\u001b[1;33m(\u001b[0m\u001b[0mtmpd\u001b[0m\u001b[1;33m,\u001b[0m\u001b[0malpha_B_rem_vector\u001b[0m\u001b[1;33m,\u001b[0m\u001b[0mstr\u001b[0m\u001b[1;33m(\u001b[0m\u001b[0mauxdir\u001b[0m\u001b[1;33m)\u001b[0m\u001b[1;33m)\u001b[0m\u001b[1;33m\u001b[0m\u001b[0m\n\u001b[0;32m--> 832\u001b[0;31m         \u001b[0mtmm\u001b[0m\u001b[1;33m.\u001b[0m\u001b[0mrun\u001b[0m\u001b[1;33m(\u001b[0m\u001b[0mverbose\u001b[0m\u001b[1;33m=\u001b[0m\u001b[0mDEBUG\u001b[0m\u001b[1;33m)\u001b[0m\u001b[1;33m\u001b[0m\u001b[0m\n\u001b[0m        \u001b[0;36mtmm.run\u001b[0m \u001b[0;34m= <bound method TeslaMaxModel.run of <teslamax.TeslaMaxModel object at 0x00000268A3F72DD8>>\u001b[0m\u001b[0;34m\n        \u001b[0m\u001b[0;36mglobal\u001b[0m \u001b[0;36mverbose\u001b[0m \u001b[0;34m= \u001b[0;36mundefined\u001b[0m\u001b[0m\u001b[0;34m\n        \u001b[0m\u001b[0;36mglobal\u001b[0m \u001b[0;36mDEBUG\u001b[0m \u001b[0;34m= False\u001b[0m\n\u001b[1;32m    833\u001b[0m         \u001b[0mresult\u001b[0m \u001b[1;33m=\u001b[0m \u001b[0mtmm\u001b[0m\u001b[1;33m.\u001b[0m\u001b[0mcalculate_B_III_from_position\u001b[0m\u001b[1;33m(\u001b[0m\u001b[0mpoint\u001b[0m\u001b[1;33m)\u001b[0m\u001b[1;33m\u001b[0m\u001b[0m\n\u001b[1;32m    834\u001b[0m \u001b[1;33m\u001b[0m\u001b[0m\n",
      "\u001b[0;32mC:\\Users\\Fabio\\code\\TeslaMax\\teslamax\\__init__.py\u001b[0m in \u001b[0;36mrun\u001b[0;34m(self=<teslamax.TeslaMaxModel object>, verbose=False)\u001b[0m\n\u001b[1;32m   1175\u001b[0m         \u001b[0mcwd\u001b[0m \u001b[1;33m=\u001b[0m \u001b[0mos\u001b[0m\u001b[1;33m.\u001b[0m\u001b[0mgetcwd\u001b[0m\u001b[1;33m(\u001b[0m\u001b[1;33m)\u001b[0m\u001b[1;33m\u001b[0m\u001b[0m\n\u001b[1;32m   1176\u001b[0m         \u001b[0mos\u001b[0m\u001b[1;33m.\u001b[0m\u001b[0mchdir\u001b[0m\u001b[1;33m(\u001b[0m\u001b[0mstr\u001b[0m\u001b[1;33m(\u001b[0m\u001b[0mself\u001b[0m\u001b[1;33m.\u001b[0m\u001b[0mpath\u001b[0m\u001b[1;33m)\u001b[0m\u001b[1;33m)\u001b[0m\u001b[1;33m\u001b[0m\u001b[0m\n\u001b[0;32m-> 1177\u001b[0;31m         \u001b[0mrun_teslamax_from_params\u001b[0m\u001b[1;33m(\u001b[0m\u001b[0mself\u001b[0m\u001b[1;33m.\u001b[0m\u001b[0mparams\u001b[0m\u001b[1;33m,\u001b[0m\u001b[0mverbose\u001b[0m\u001b[1;33m)\u001b[0m\u001b[1;33m\u001b[0m\u001b[0m\n\u001b[0m        \u001b[0;36mglobal\u001b[0m \u001b[0;36mrun_teslamax_from_params\u001b[0m \u001b[0;34m= <function run_teslamax_from_params at 0x00000268A3F469D8>\u001b[0m\u001b[0;34m\n        \u001b[0m\u001b[0;36mself.params\u001b[0m \u001b[0;34m= {'R_i': 0.015, 'R_o': 0.06, 'h_gap': 0.023, 'R_s': 0.15, 'h_fc': 0.01, 'R_e': 2, 'n_IV': 4, 'phi_S_IV': 45, 'n_II': 3, 'phi_C_II': 15, 'phi_S_II': 45, 'mu_r_II': 1.05, 'mu_r_IV': 1.05, 'linear_iron': 1, 'mu_r_iron': 5000.0, 'B_rem_II_1': 1.0, 'B_rem_II_2': 0.0, 'B_rem_II_3': 0.0, 'B_rem_IV_1': 0.0, 'B_rem_IV_2': 0.0, 'B_rem_IV_3': 0.0, 'B_rem_IV_4': 0.0, 'R_g': 0.08299999999999999, 'alpha_rem_II_1': 0.0, 'alpha_rem_II_2': 0.0, 'alpha_rem_II_3': 0.0, 'alpha_rem_IV_1': 0.0, 'alpha_rem_IV_2': 0.0, 'alpha_rem_IV_3': 0.0, 'alpha_rem_IV_4': 0.0}\u001b[0m\u001b[0;34m\n        \u001b[0m\u001b[0;36mverbose\u001b[0m \u001b[0;34m= False\u001b[0m\n\u001b[1;32m   1178\u001b[0m         \u001b[0mos\u001b[0m\u001b[1;33m.\u001b[0m\u001b[0mchdir\u001b[0m\u001b[1;33m(\u001b[0m\u001b[0mcwd\u001b[0m\u001b[1;33m)\u001b[0m\u001b[1;33m\u001b[0m\u001b[0m\n\u001b[1;32m   1179\u001b[0m \u001b[1;33m\u001b[0m\u001b[0m\n",
      "\u001b[0;32mC:\\Users\\Fabio\\code\\TeslaMax\\teslamax\\__init__.py\u001b[0m in \u001b[0;36mrun_teslamax_from_params\u001b[0;34m(params={'B_rem_II_1': 1.0, 'B_rem_II_2': 0.0, 'B_rem_II_3': 0.0, 'B_rem_IV_1': 0.0, 'B_rem_IV_2': 0.0, 'B_rem_IV_3': 0.0, 'B_rem_IV_4': 0.0, 'R_e': 2, 'R_g': 0.08299999999999999, 'R_i': 0.015, ...}, verbose=False)\u001b[0m\n\u001b[1;32m    426\u001b[0m     directory (removing units if necessary) and run the teslamax process\"\"\"\n\u001b[1;32m    427\u001b[0m     \u001b[0mwrite_parameter_file_from_dict\u001b[0m\u001b[1;33m(\u001b[0m\u001b[0mparams\u001b[0m\u001b[1;33m)\u001b[0m\u001b[1;33m\u001b[0m\u001b[0m\n\u001b[0;32m--> 428\u001b[0;31m     \u001b[0mrun_teslamax\u001b[0m\u001b[1;33m(\u001b[0m\u001b[0mverbose\u001b[0m\u001b[1;33m)\u001b[0m\u001b[1;33m\u001b[0m\u001b[0m\n\u001b[0m        \u001b[0;36mglobal\u001b[0m \u001b[0;36mrun_teslamax\u001b[0m \u001b[0;34m= <function run_teslamax at 0x00000268A3F467B8>\u001b[0m\u001b[0;34m\n        \u001b[0m\u001b[0;36mverbose\u001b[0m \u001b[0;34m= False\u001b[0m\n\u001b[1;32m    429\u001b[0m \u001b[1;33m\u001b[0m\u001b[0m\n\u001b[1;32m    430\u001b[0m \u001b[1;32mdef\u001b[0m \u001b[0msave_and_close_figure\u001b[0m\u001b[1;33m(\u001b[0m\u001b[0mfig\u001b[0m\u001b[1;33m,\u001b[0m\u001b[0mname\u001b[0m\u001b[1;33m)\u001b[0m\u001b[1;33m:\u001b[0m\u001b[1;33m\u001b[0m\u001b[0m\n",
      "\u001b[0;32mC:\\Users\\Fabio\\code\\TeslaMax\\teslamax\\__init__.py\u001b[0m in \u001b[0;36mrun_teslamax\u001b[0;34m(verbose=False)\u001b[0m\n\u001b[1;32m    349\u001b[0m                                     universal_newlines=True)\n\u001b[1;32m    350\u001b[0m     \u001b[1;32mif\u001b[0m \u001b[0mverbose\u001b[0m\u001b[1;33m:\u001b[0m \u001b[0mprint\u001b[0m\u001b[1;33m(\u001b[0m\u001b[0mcomsol_process\u001b[0m\u001b[1;33m.\u001b[0m\u001b[0mstdout\u001b[0m\u001b[1;33m)\u001b[0m\u001b[1;33m\u001b[0m\u001b[0m\n\u001b[0;32m--> 351\u001b[0;31m     \u001b[0mprocess_main_results_file\u001b[0m\u001b[1;33m(\u001b[0m\u001b[1;33m)\u001b[0m\u001b[1;33m\u001b[0m\u001b[0m\n\u001b[0m        \u001b[0;36mglobal\u001b[0m \u001b[0;36mprocess_main_results_file\u001b[0m \u001b[0;34m= <function process_main_results_file at 0x00000268A3F46400>\u001b[0m\n\u001b[1;32m    352\u001b[0m     \u001b[0mwrite_magnetic_profile_file\u001b[0m\u001b[1;33m(\u001b[0m\u001b[1;33m)\u001b[0m\u001b[1;33m\u001b[0m\u001b[0m\n\u001b[1;32m    353\u001b[0m \u001b[1;33m\u001b[0m\u001b[0m\n",
      "\u001b[0;32mC:\\Users\\Fabio\\code\\TeslaMax\\teslamax\\__init__.py\u001b[0m in \u001b[0;36mprocess_main_results_file\u001b[0;34m()\u001b[0m\n\u001b[1;32m    117\u001b[0m                                    \u001b[1;34m\"A_magnet[m2]\"\u001b[0m\u001b[1;33m,\u001b[0m\u001b[1;33m\u001b[0m\u001b[0m\n\u001b[1;32m    118\u001b[0m                                    \u001b[1;34m\"-H_Brem_II_max[A/m]\"\u001b[0m\u001b[1;33m,\u001b[0m\u001b[1;33m\u001b[0m\u001b[0m\n\u001b[0;32m--> 119\u001b[0;31m                                    \"-H_Brem_IV_max[A/m]\"])\n\u001b[0m\u001b[1;32m    120\u001b[0m \u001b[1;33m\u001b[0m\u001b[0m\n\u001b[1;32m    121\u001b[0m     \u001b[0mresults_series\u001b[0m \u001b[1;33m=\u001b[0m \u001b[0mresults\u001b[0m\u001b[1;33m.\u001b[0m\u001b[0mix\u001b[0m\u001b[1;33m[\u001b[0m\u001b[1;36m0\u001b[0m\u001b[1;33m]\u001b[0m\u001b[1;33m\u001b[0m\u001b[0m\n",
      "\u001b[0;32mC:\\Users\\Fabio\\Anaconda3\\lib\\site-packages\\pandas\\io\\parsers.py\u001b[0m in \u001b[0;36mparser_f\u001b[0;34m(filepath_or_buffer='COMSOL Main Results.txt', sep=r'\\s+', delimiter=r'\\s+', header=None, names=['B_high[T]', 'B_low[T]', 'A_gap[m2]', 'A_magnet[m2]', '-H_Brem_II_max[A/m]', '-H_Brem_IV_max[A/m]'], index_col=None, usecols=None, squeeze=False, prefix=None, mangle_dupe_cols=True, dtype=None, engine='c', converters=None, true_values=None, false_values=None, skipinitialspace=False, skiprows=5, nrows=None, na_values=None, keep_default_na=True, na_filter=True, verbose=False, skip_blank_lines=True, parse_dates=False, infer_datetime_format=False, keep_date_col=False, date_parser=None, dayfirst=False, iterator=False, chunksize=None, compression='infer', thousands=None, decimal=b'.', lineterminator=None, quotechar='\"', quoting=0, escapechar=None, comment=None, encoding=None, dialect=None, tupleize_cols=False, error_bad_lines=True, warn_bad_lines=True, skipfooter=0, skip_footer=0, doublequote=True, delim_whitespace=False, as_recarray=False, compact_ints=False, use_unsigned=False, low_memory=True, buffer_lines=None, memory_map=False, float_precision=None)\u001b[0m\n\u001b[1;32m    653\u001b[0m                     skip_blank_lines=skip_blank_lines)\n\u001b[1;32m    654\u001b[0m \u001b[1;33m\u001b[0m\u001b[0m\n\u001b[0;32m--> 655\u001b[0;31m         \u001b[1;32mreturn\u001b[0m \u001b[0m_read\u001b[0m\u001b[1;33m(\u001b[0m\u001b[0mfilepath_or_buffer\u001b[0m\u001b[1;33m,\u001b[0m \u001b[0mkwds\u001b[0m\u001b[1;33m)\u001b[0m\u001b[1;33m\u001b[0m\u001b[0m\n\u001b[0m        \u001b[0;36mglobal\u001b[0m \u001b[0;36m_read\u001b[0m \u001b[0;34m= <function _read at 0x00000268A38C2840>\u001b[0m\u001b[0;34m\n        \u001b[0m\u001b[0;36mfilepath_or_buffer\u001b[0m \u001b[0;34m= 'COMSOL Main Results.txt'\u001b[0m\u001b[0;34m\n        \u001b[0m\u001b[0;36mkwds\u001b[0m \u001b[0;34m= {'delimiter': '\\\\s+', 'engine': 'c', 'dialect': None, 'compression': None, 'engine_specified': False, 'doublequote': True, 'escapechar': None, 'quotechar': '\"', 'quoting': 0, 'skipinitialspace': False, 'lineterminator': None, 'header': None, 'index_col': None, 'names': ['B_high[T]', 'B_low[T]', 'A_gap[m2]', 'A_magnet[m2]', '-H_Brem_II_max[A/m]', '-H_Brem_IV_max[A/m]'], 'prefix': None, 'skiprows': 5, 'na_values': None, 'true_values': None, 'false_values': None, 'keep_default_na': True, 'thousands': None, 'comment': None, 'decimal': b'.', 'parse_dates': False, 'keep_date_col': False, 'dayfirst': False, 'date_parser': None, 'nrows': None, 'iterator': False, 'chunksize': None, 'skipfooter': 0, 'converters': None, 'dtype': None, 'usecols': None, 'verbose': False, 'encoding': None, 'squeeze': False, 'memory_map': False, 'float_precision': None, 'na_filter': True, 'compact_ints': False, 'use_unsigned': False, 'delim_whitespace': False, 'as_recarray': False, 'warn_bad_lines': True, 'error_bad_lines': True, 'low_memory': True, 'buffer_lines': None, 'mangle_dupe_cols': True, 'tupleize_cols': False, 'infer_datetime_format': False, 'skip_blank_lines': True}\u001b[0m\n\u001b[1;32m    656\u001b[0m \u001b[1;33m\u001b[0m\u001b[0m\n\u001b[1;32m    657\u001b[0m     \u001b[0mparser_f\u001b[0m\u001b[1;33m.\u001b[0m\u001b[0m__name__\u001b[0m \u001b[1;33m=\u001b[0m \u001b[0mname\u001b[0m\u001b[1;33m\u001b[0m\u001b[0m\n",
      "\u001b[0;32mC:\\Users\\Fabio\\Anaconda3\\lib\\site-packages\\pandas\\io\\parsers.py\u001b[0m in \u001b[0;36m_read\u001b[0;34m(filepath_or_buffer='COMSOL Main Results.txt', kwds={'as_recarray': False, 'buffer_lines': None, 'chunksize': None, 'comment': None, 'compact_ints': False, 'compression': None, 'converters': None, 'date_parser': None, 'dayfirst': False, 'decimal': b'.', ...})\u001b[0m\n\u001b[1;32m    403\u001b[0m \u001b[1;33m\u001b[0m\u001b[0m\n\u001b[1;32m    404\u001b[0m     \u001b[1;31m# Create the parser.\u001b[0m\u001b[1;33m\u001b[0m\u001b[1;33m\u001b[0m\u001b[0m\n\u001b[0;32m--> 405\u001b[0;31m     \u001b[0mparser\u001b[0m \u001b[1;33m=\u001b[0m \u001b[0mTextFileReader\u001b[0m\u001b[1;33m(\u001b[0m\u001b[0mfilepath_or_buffer\u001b[0m\u001b[1;33m,\u001b[0m \u001b[1;33m**\u001b[0m\u001b[0mkwds\u001b[0m\u001b[1;33m)\u001b[0m\u001b[1;33m\u001b[0m\u001b[0m\n\u001b[0m        \u001b[0;36mparser\u001b[0m \u001b[0;34m= \u001b[0;36mundefined\u001b[0m\u001b[0m\u001b[0;34m\n        \u001b[0m\u001b[0;36mglobal\u001b[0m \u001b[0;36mTextFileReader\u001b[0m \u001b[0;34m= <class 'pandas.io.parsers.TextFileReader'>\u001b[0m\u001b[0;34m\n        \u001b[0m\u001b[0;36mfilepath_or_buffer\u001b[0m \u001b[0;34m= 'COMSOL Main Results.txt'\u001b[0m\u001b[0;34m\n        \u001b[0m\u001b[0;36mkwds\u001b[0m \u001b[0;34m= {'delimiter': '\\\\s+', 'engine': 'c', 'dialect': None, 'compression': None, 'engine_specified': False, 'doublequote': True, 'escapechar': None, 'quotechar': '\"', 'quoting': 0, 'skipinitialspace': False, 'lineterminator': None, 'header': None, 'index_col': None, 'names': ['B_high[T]', 'B_low[T]', 'A_gap[m2]', 'A_magnet[m2]', '-H_Brem_II_max[A/m]', '-H_Brem_IV_max[A/m]'], 'prefix': None, 'skiprows': 5, 'na_values': None, 'true_values': None, 'false_values': None, 'keep_default_na': True, 'thousands': None, 'comment': None, 'decimal': b'.', 'parse_dates': False, 'keep_date_col': False, 'dayfirst': False, 'date_parser': None, 'nrows': None, 'iterator': False, 'chunksize': None, 'skipfooter': 0, 'converters': None, 'dtype': None, 'usecols': None, 'verbose': False, 'encoding': None, 'squeeze': False, 'memory_map': False, 'float_precision': None, 'na_filter': True, 'compact_ints': False, 'use_unsigned': False, 'delim_whitespace': False, 'as_recarray': False, 'warn_bad_lines': True, 'error_bad_lines': True, 'low_memory': True, 'buffer_lines': None, 'mangle_dupe_cols': True, 'tupleize_cols': False, 'infer_datetime_format': False, 'skip_blank_lines': True}\u001b[0m\n\u001b[1;32m    406\u001b[0m \u001b[1;33m\u001b[0m\u001b[0m\n\u001b[1;32m    407\u001b[0m     \u001b[1;32mif\u001b[0m \u001b[0mchunksize\u001b[0m \u001b[1;32mor\u001b[0m \u001b[0miterator\u001b[0m\u001b[1;33m:\u001b[0m\u001b[1;33m\u001b[0m\u001b[0m\n",
      "\u001b[0;32mC:\\Users\\Fabio\\Anaconda3\\lib\\site-packages\\pandas\\io\\parsers.py\u001b[0m in \u001b[0;36m__init__\u001b[0;34m(self=<pandas.io.parsers.TextFileReader object>, f='COMSOL Main Results.txt', engine='c', **kwds={'as_recarray': False, 'buffer_lines': None, 'chunksize': None, 'comment': None, 'compact_ints': False, 'compression': None, 'converters': None, 'date_parser': None, 'dayfirst': False, 'decimal': b'.', ...})\u001b[0m\n\u001b[1;32m    762\u001b[0m             \u001b[0mself\u001b[0m\u001b[1;33m.\u001b[0m\u001b[0moptions\u001b[0m\u001b[1;33m[\u001b[0m\u001b[1;34m'has_index_names'\u001b[0m\u001b[1;33m]\u001b[0m \u001b[1;33m=\u001b[0m \u001b[0mkwds\u001b[0m\u001b[1;33m[\u001b[0m\u001b[1;34m'has_index_names'\u001b[0m\u001b[1;33m]\u001b[0m\u001b[1;33m\u001b[0m\u001b[0m\n\u001b[1;32m    763\u001b[0m \u001b[1;33m\u001b[0m\u001b[0m\n\u001b[0;32m--> 764\u001b[0;31m         \u001b[0mself\u001b[0m\u001b[1;33m.\u001b[0m\u001b[0m_make_engine\u001b[0m\u001b[1;33m(\u001b[0m\u001b[0mself\u001b[0m\u001b[1;33m.\u001b[0m\u001b[0mengine\u001b[0m\u001b[1;33m)\u001b[0m\u001b[1;33m\u001b[0m\u001b[0m\n\u001b[0m        \u001b[0;36mself._make_engine\u001b[0m \u001b[0;34m= <bound method TextFileReader._make_engine of <pandas.io.parsers.TextFileReader object at 0x00000268A3F9BC88>>\u001b[0m\u001b[0;34m\n        \u001b[0m\u001b[0;36mself.engine\u001b[0m \u001b[0;34m= 'c'\u001b[0m\n\u001b[1;32m    765\u001b[0m \u001b[1;33m\u001b[0m\u001b[0m\n\u001b[1;32m    766\u001b[0m     \u001b[1;32mdef\u001b[0m \u001b[0mclose\u001b[0m\u001b[1;33m(\u001b[0m\u001b[0mself\u001b[0m\u001b[1;33m)\u001b[0m\u001b[1;33m:\u001b[0m\u001b[1;33m\u001b[0m\u001b[0m\n",
      "\u001b[0;32mC:\\Users\\Fabio\\Anaconda3\\lib\\site-packages\\pandas\\io\\parsers.py\u001b[0m in \u001b[0;36m_make_engine\u001b[0;34m(self=<pandas.io.parsers.TextFileReader object>, engine='c')\u001b[0m\n\u001b[1;32m    983\u001b[0m     \u001b[1;32mdef\u001b[0m \u001b[0m_make_engine\u001b[0m\u001b[1;33m(\u001b[0m\u001b[0mself\u001b[0m\u001b[1;33m,\u001b[0m \u001b[0mengine\u001b[0m\u001b[1;33m=\u001b[0m\u001b[1;34m'c'\u001b[0m\u001b[1;33m)\u001b[0m\u001b[1;33m:\u001b[0m\u001b[1;33m\u001b[0m\u001b[0m\n\u001b[1;32m    984\u001b[0m         \u001b[1;32mif\u001b[0m \u001b[0mengine\u001b[0m \u001b[1;33m==\u001b[0m \u001b[1;34m'c'\u001b[0m\u001b[1;33m:\u001b[0m\u001b[1;33m\u001b[0m\u001b[0m\n\u001b[0;32m--> 985\u001b[0;31m             \u001b[0mself\u001b[0m\u001b[1;33m.\u001b[0m\u001b[0m_engine\u001b[0m \u001b[1;33m=\u001b[0m \u001b[0mCParserWrapper\u001b[0m\u001b[1;33m(\u001b[0m\u001b[0mself\u001b[0m\u001b[1;33m.\u001b[0m\u001b[0mf\u001b[0m\u001b[1;33m,\u001b[0m \u001b[1;33m**\u001b[0m\u001b[0mself\u001b[0m\u001b[1;33m.\u001b[0m\u001b[0moptions\u001b[0m\u001b[1;33m)\u001b[0m\u001b[1;33m\u001b[0m\u001b[0m\n\u001b[0m        \u001b[0;36mself._engine\u001b[0m \u001b[0;34m= None\u001b[0m\u001b[0;34m\n        \u001b[0m\u001b[0;36mglobal\u001b[0m \u001b[0;36mCParserWrapper\u001b[0m \u001b[0;34m= <class 'pandas.io.parsers.CParserWrapper'>\u001b[0m\u001b[0;34m\n        \u001b[0m\u001b[0;36mself.f\u001b[0m \u001b[0;34m= 'COMSOL Main Results.txt'\u001b[0m\u001b[0;34m\n        \u001b[0m\u001b[0;36mself.options\u001b[0m \u001b[0;34m= {'doublequote': True, 'escapechar': None, 'quotechar': '\"', 'quoting': 0, 'skipinitialspace': False, 'lineterminator': None, 'header': None, 'index_col': None, 'names': ['B_high[T]', 'B_low[T]', 'A_gap[m2]', 'A_magnet[m2]', '-H_Brem_II_max[A/m]', '-H_Brem_IV_max[A/m]'], 'prefix': None, 'skiprows': 5, 'na_values': {'nan', '', '-1.#QNAN', 'N/A', 'NaN', '1.#QNAN', '-1.#IND', '-nan', '#N/A N/A', 'NA', '#N/A', '#NA', 'NULL', '-NaN', '1.#IND'}, 'true_values': None, 'false_values': None, 'converters': {}, 'dtype': None, 'thousands': None, 'comment': None, 'decimal': b'.', 'parse_dates': False, 'keep_date_col': False, 'dayfirst': False, 'date_parser': None, 'usecols': None, 'verbose': False, 'encoding': None, 'compression': None, 'mangle_dupe_cols': True, 'tupleize_cols': False, 'infer_datetime_format': False, 'skip_blank_lines': True, 'delim_whitespace': True, 'as_recarray': False, 'na_filter': True, 'compact_ints': False, 'use_unsigned': False, 'low_memory': True, 'memory_map': False, 'buffer_lines': None, 'error_bad_lines': True, 'warn_bad_lines': True, 'float_precision': None, 'na_fvalues': set()}\u001b[0m\n\u001b[1;32m    986\u001b[0m         \u001b[1;32melse\u001b[0m\u001b[1;33m:\u001b[0m\u001b[1;33m\u001b[0m\u001b[0m\n\u001b[1;32m    987\u001b[0m             \u001b[1;32mif\u001b[0m \u001b[0mengine\u001b[0m \u001b[1;33m==\u001b[0m \u001b[1;34m'python'\u001b[0m\u001b[1;33m:\u001b[0m\u001b[1;33m\u001b[0m\u001b[0m\n",
      "\u001b[0;32mC:\\Users\\Fabio\\Anaconda3\\lib\\site-packages\\pandas\\io\\parsers.py\u001b[0m in \u001b[0;36m__init__\u001b[0;34m(self=<pandas.io.parsers.CParserWrapper object>, src='COMSOL Main Results.txt', **kwds={'allow_leading_cols': True, 'as_recarray': False, 'buffer_lines': None, 'comment': None, 'compact_ints': False, 'compression': None, 'converters': {}, 'decimal': b'.', 'delim_whitespace': True, 'doublequote': True, ...})\u001b[0m\n\u001b[1;32m   1603\u001b[0m         \u001b[0mkwds\u001b[0m\u001b[1;33m[\u001b[0m\u001b[1;34m'allow_leading_cols'\u001b[0m\u001b[1;33m]\u001b[0m \u001b[1;33m=\u001b[0m \u001b[0mself\u001b[0m\u001b[1;33m.\u001b[0m\u001b[0mindex_col\u001b[0m \u001b[1;32mis\u001b[0m \u001b[1;32mnot\u001b[0m \u001b[1;32mFalse\u001b[0m\u001b[1;33m\u001b[0m\u001b[0m\n\u001b[1;32m   1604\u001b[0m \u001b[1;33m\u001b[0m\u001b[0m\n\u001b[0;32m-> 1605\u001b[0;31m         \u001b[0mself\u001b[0m\u001b[1;33m.\u001b[0m\u001b[0m_reader\u001b[0m \u001b[1;33m=\u001b[0m \u001b[0mparsers\u001b[0m\u001b[1;33m.\u001b[0m\u001b[0mTextReader\u001b[0m\u001b[1;33m(\u001b[0m\u001b[0msrc\u001b[0m\u001b[1;33m,\u001b[0m \u001b[1;33m**\u001b[0m\u001b[0mkwds\u001b[0m\u001b[1;33m)\u001b[0m\u001b[1;33m\u001b[0m\u001b[0m\n\u001b[0m        \u001b[0;36mself._reader\u001b[0m \u001b[0;34m= \u001b[0;36mundefined\u001b[0m\u001b[0m\u001b[0;34m\n        \u001b[0m\u001b[0;36mglobal\u001b[0m \u001b[0;36mparsers.TextReader\u001b[0m \u001b[0;34m= <class 'pandas._libs.parsers.TextReader'>\u001b[0m\u001b[0;34m\n        \u001b[0m\u001b[0;36msrc\u001b[0m \u001b[0;34m= 'COMSOL Main Results.txt'\u001b[0m\u001b[0;34m\n        \u001b[0m\u001b[0;36mkwds\u001b[0m \u001b[0;34m= {'doublequote': True, 'escapechar': None, 'quotechar': '\"', 'quoting': 0, 'skipinitialspace': False, 'lineterminator': None, 'header': None, 'index_col': None, 'names': ['B_high[T]', 'B_low[T]', 'A_gap[m2]', 'A_magnet[m2]', '-H_Brem_II_max[A/m]', '-H_Brem_IV_max[A/m]'], 'skiprows': 5, 'na_values': {'nan', '', '-1.#QNAN', 'N/A', 'NaN', '1.#QNAN', '-1.#IND', '-nan', '#N/A N/A', 'NA', '#N/A', '#NA', 'NULL', '-NaN', '1.#IND'}, 'true_values': None, 'false_values': None, 'converters': {}, 'dtype': None, 'thousands': None, 'comment': None, 'decimal': b'.', 'usecols': None, 'verbose': False, 'encoding': None, 'compression': None, 'mangle_dupe_cols': True, 'tupleize_cols': False, 'skip_blank_lines': True, 'delim_whitespace': True, 'as_recarray': False, 'na_filter': True, 'compact_ints': False, 'use_unsigned': False, 'low_memory': True, 'memory_map': False, 'buffer_lines': None, 'error_bad_lines': True, 'warn_bad_lines': True, 'float_precision': None, 'na_fvalues': set(), 'allow_leading_cols': True}\u001b[0m\n\u001b[1;32m   1606\u001b[0m \u001b[1;33m\u001b[0m\u001b[0m\n\u001b[1;32m   1607\u001b[0m         \u001b[1;31m# XXX\u001b[0m\u001b[1;33m\u001b[0m\u001b[1;33m\u001b[0m\u001b[0m\n",
      "\u001b[0;32mpandas\\_libs\\parsers.pyx\u001b[0m in \u001b[0;36mpandas._libs.parsers.TextReader.__cinit__ (pandas\\_libs\\parsers.c:4209)\u001b[0;34m()\u001b[0m\n",
      "\u001b[0;32mpandas\\_libs\\parsers.pyx\u001b[0m in \u001b[0;36mpandas._libs.parsers.TextReader._setup_parser_source (pandas\\_libs\\parsers.c:8873)\u001b[0;34m()\u001b[0m\n",
      "\u001b[0;31mFileNotFoundError\u001b[0m: File b'COMSOL Main Results.txt' does not exist"
     ]
    }
   ],
   "source": [
    "%xmode verbose\n",
    "\n",
    "target_function = teslamax.calculate_ramp_profile\n",
    "\n",
    "B_high = 1.4\n",
    "B_low = 0.0\n",
    "field_fraction = 0.6\n",
    "target_args = (B_high,B_low,field_fraction)\n",
    "\n",
    "functional_args = (target_function,target_args)\n",
    "\n",
    "\n",
    "objfun = tmpd.calculate_functional\n",
    "\n",
    "bounds = [(0.0,360.0) for i in range(0,n)]\n",
    "\n",
    "# the subscript _g in the following variable names stands for 'gradient-based' optimization methods\n",
    "optres_g = minimize(objfun, \n",
    "                    alpha_B_rem_0, \n",
    "                    args=(functional_args,), \n",
    "                    bounds=bounds,\n",
    "                    options={'disp': True})"
   ]
  },
  {
   "cell_type": "code",
   "execution_count": null,
   "metadata": {
    "collapsed": false,
    "scrolled": true
   },
   "outputs": [],
   "source": [
    "alpha_B_rem_g = optres_g.x\n",
    "print(alpha_B_rem_g)"
   ]
  },
  {
   "cell_type": "code",
   "execution_count": null,
   "metadata": {
    "collapsed": false,
    "scrolled": true
   },
   "outputs": [],
   "source": [
    "%matplotlib inline\n",
    "plt.rc('font',size=FONTSIZE)\n",
    "\n",
    "profile_fig_g = plt.figure(figsize=(FIGSIZE_INCHES,FIGSIZE_INCHES))\n",
    "profile_axes_g = profile_fig_g.add_subplot(111)\n",
    "\n",
    "teslamax_playground = str(Path.home() / \"code\" / \"TeslaMax\" / \"teslamax-play\" )\n",
    "\n",
    "tmm_g = TeslaMaxModel(tmpd,\n",
    "                      alpha_B_rem_g,\n",
    "                      path=teslamax_playground)\n",
    "tmm_g.run()\n",
    "phi_vector_g, B_vector_g = tmm_g.get_profile_data().T\n",
    "\n",
    "profile_axes_g.plot(phi_vector_g,B_vector_g)\n",
    "profile_axes_g.set_xlim(0,np.max(phi_vector_g))\n",
    "profile_axes_g.set_xticks(np.linspace(0,np.max(phi_vector_g),9))\n",
    "profile_axes_g.xaxis.grid(True)\n",
    "profile_axes_g.set_ylim(0,B_high+0.1)\n",
    "profile_axes_g.set_yticks(np.arange(0,B_high+0.2,0.2))\n",
    "profile_axes_g.set_xlabel(r'$\\phi [\\si{\\degree}]$')\n",
    "profile_axes_g.set_ylabel(r'$B [\\si{\\tesla}]$')\n",
    "\n",
    "B_inst_vector = teslamax.calculate_ramp_profile(phi_vector_g,B_high,B_low,field_fraction)\n",
    "profile_axes_g.plot(phi_vector_g,B_inst_vector,'--')\n",
    "\n",
    "save_figure(profile_fig_g,\"profile_optimized_ramp_%d\" %(B_high*10))"
   ]
  },
  {
   "cell_type": "code",
   "execution_count": null,
   "metadata": {
    "collapsed": false
   },
   "outputs": [],
   "source": [
    "teslamax.calculate_average_high_field(tmm_g.get_profile_data())"
   ]
  },
  {
   "cell_type": "code",
   "execution_count": null,
   "metadata": {
    "collapsed": false
   },
   "outputs": [],
   "source": [
    "tmpd.calculate_functional_gradient(alpha_B_rem_g,functional_args)"
   ]
  },
  {
   "cell_type": "code",
   "execution_count": null,
   "metadata": {
    "collapsed": false
   },
   "outputs": [],
   "source": [
    "np.linalg.eigvals(tmpd.calculate_functional_hessian(alpha_B_rem_g,functional_args))"
   ]
  },
  {
   "cell_type": "markdown",
   "metadata": {
    "collapsed": true
   },
   "source": [
    "## Optimization using evolutionary algorithms"
   ]
  },
  {
   "cell_type": "code",
   "execution_count": null,
   "metadata": {
    "collapsed": true
   },
   "outputs": [],
   "source": [
    "from scipy.optimize import differential_evolution, basinhopping"
   ]
  },
  {
   "cell_type": "code",
   "execution_count": null,
   "metadata": {
    "collapsed": true
   },
   "outputs": [],
   "source": [
    "params_optimization = {\"R_i\": 0.015,\n",
    "                \"R_o\": 0.070,\n",
    "                \"h_gap\": 0.020,\n",
    "                \"R_s\": 0.140,\n",
    "                \"h_fc\": 0.010,\n",
    "                \"R_e\": 2,\n",
    "                \"n_IV\": 3,\n",
    "                \"phi_S_IV\": 45,\n",
    "                \"n_II\": 3,\n",
    "                \"phi_C_II\": 15,\n",
    "                \"phi_S_II\": 45,\n",
    "                \"B_rem_II_1\": 1.4,\n",
    "                \"B_rem_II_2\": 1.4,\n",
    "                \"B_rem_II_3\": 1.4,\n",
    "                \"mu_r_II\": 1.05,\n",
    "                \"B_rem_IV_1\": 1.4,\n",
    "                \"B_rem_IV_2\": 1.4,\n",
    "                \"B_rem_IV_3\": 1.4,\n",
    "                \"mu_r_IV\": 1.05,\n",
    "              \"linear_iron\": 1,\n",
    "              \"mu_r_iron\": 5e3,\n",
    "             }\n",
    "alpha_B_rem_0 = [15,30,45,15,45,135]\n",
    "\n",
    "n = len(alpha_B_rem_0)\n",
    "\n",
    "tmpd = TeslaMaxPreDesign(params_optimization)"
   ]
  },
  {
   "cell_type": "code",
   "execution_count": null,
   "metadata": {
    "collapsed": false
   },
   "outputs": [],
   "source": [
    "%%time \n",
    "## all this methods from the TeslaMaxPreDesign class accept as only arguments the design vector (with remanence angles)\n",
    "\n",
    "objective_function = tmpd.calculate_functional\n",
    "\n",
    "bounds = [(0.0, 360.0) for i in range(0,n)]\n",
    "\n",
    "res = differential_evolution(objective_function,bounds,disp=True)"
   ]
  },
  {
   "cell_type": "code",
   "execution_count": null,
   "metadata": {
    "collapsed": false
   },
   "outputs": [],
   "source": [
    "res.x"
   ]
  },
  {
   "cell_type": "code",
   "execution_count": null,
   "metadata": {
    "collapsed": false
   },
   "outputs": [],
   "source": [
    "%matplotlib inline\n",
    "plt.rc('font',size=FONTSIZE)\n",
    "\n",
    "profile_fig = plt.figure(figsize=(FIGSIZE_INCHES,FIGSIZE_INCHES))\n",
    "profile_axes = profile_fig.add_subplot(111)\n",
    "\n",
    "\n",
    "teslamax_playground = 'C:\\\\Users\\\\fabiofortkamp\\\\code\\\\TeslaMax\\\\teslamax-play'\n",
    "\n",
    "tmm_optimized = TeslaMaxModel(tmpd,res.x,\n",
    "                   path=teslamax_playground)\n",
    "tmm_optimized.run()\n",
    "phi_vector, B_vector = tmm_optimized.get_profile_data().T\n",
    "\n",
    "profile_axes.plot(phi_vector,B_vector)\n",
    "profile_axes.set_xlim(0,np.max(phi_vector))\n",
    "profile_axes.set_xticks(np.linspace(0,np.max(phi_vector),9))\n",
    "profile_axes.xaxis.grid(True)\n",
    "profile_axes.set_xlabel(r'$\\phi [\\si{\\degree}]$')\n",
    "profile_axes.set_ylabel(r'$B [\\si{\\tesla}]$')\n",
    "\n",
    "B_inst_vector = teslamax.calculate_instantaneous_profile(phi_vector,teslamax.TARGET_PROFILE)\n",
    "profile_axes.plot(phi_vector,B_inst_vector)\n",
    "\n",
    "save_figure(profile_fig,\"profile_optimized_genetic_B_13\")"
   ]
  },
  {
   "cell_type": "code",
   "execution_count": null,
   "metadata": {
    "collapsed": false
   },
   "outputs": [],
   "source": [
    "teslamax.calculate_average_high_field(tmm_optimized.get_profile_data())"
   ]
  },
  {
   "cell_type": "code",
   "execution_count": null,
   "metadata": {
    "collapsed": false
   },
   "outputs": [],
   "source": [
    "tmpd.calculate_functional_gradient(res.x)"
   ]
  },
  {
   "cell_type": "code",
   "execution_count": null,
   "metadata": {
    "collapsed": false
   },
   "outputs": [],
   "source": [
    "np.linalg.eigvals(tmpd.calculate_functional_hessian(res.x))"
   ]
  }
 ],
 "metadata": {
  "anaconda-cloud": {},
  "kernelspec": {
   "display_name": "Python 3",
   "language": "python",
   "name": "python3"
  },
  "language_info": {
   "codemirror_mode": {
    "name": "ipython",
    "version": 3
   },
   "file_extension": ".py",
   "mimetype": "text/x-python",
   "name": "python",
   "nbconvert_exporter": "python",
   "pygments_lexer": "ipython3",
   "version": "3.6.0"
  }
 },
 "nbformat": 4,
 "nbformat_minor": 1
}
