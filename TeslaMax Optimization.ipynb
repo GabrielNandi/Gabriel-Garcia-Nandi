{
 "cells": [
  {
   "cell_type": "markdown",
   "metadata": {},
   "source": [
    "$$\n",
    "\\newcommand{\\ped}[1]{_{\\mathrm{#1}}}\n",
    "\\newcommand{\\ap}[1]{^{\\mathrm{#1}}}\n",
    "\\newcommand{\\nvector}[1]{\\mathbf{#1}}\n",
    "\\newcommand{\\nmatrix}[1]{\\mathit{#1}}\n",
    "\\newcommand{\\unitvector}[1]{\\hat{\\nvector{e}}_{#1}}\n",
    "\\newcommand{\\volume}{\\mathcal{V}}\n",
    "\\newcommand{\\average}[1]{\\overline{#1}}\n",
    "\\newcommand{\\rate}[1]{\\dot{#1}}\n",
    "\\newcommand{\\flux}[1]{{#1}''}\n",
    "\\newcommand{\\curl}[1]{\\nabla\\times {#1}}\n",
    "\\newcommand{\\curlv}[1]{\\curl{\\nvector{#1}}}\n",
    "\\newcommand{\\divergent}[1]{\\nabla \\cdot #1}\n",
    "\\newcommand{\\divergentv}[1]{\\divergent{\\nvector{#1}}}\n",
    "\\newcommand{\\divergentpar}[1]{\\divergent{\\left( #1 \\right)}}\n",
    "\\newcommand{\\gradient}[1]{\\nabla {#1}}\n",
    "\\newcommand{\\gradientpar}[1]{\\gradient{\\left( {#1} \\right)}}\n",
    "\\newcommand{\\laplacian}[1]{\\nabla^2 #1}\n",
    "\\newcommand{\\laplacianpar}[1]{\\laplacian{\\left( #1 \\right)}}\n",
    "\\newcommand{\\vectornorm}[1]{\\left\\lVert #1 \\right\\rVert}\n",
    "\\newcommand{\\diffp}[2]{\\frac{\\partial {#1}}{\\partial {#2}}}\n",
    "\\newcommand{\\diffps}[2]{\\frac{\\partial^2 {#1}}{\\partial {#2}^2}}\n",
    "\\newcommand{\\rvec}{\\nvector{r}}\n",
    "\\newcommand{\\nvh}{\\nvector{H}}\n",
    "\\newcommand{\\nvb}{\\nvector{B}}\n",
    "\\newcommand{\\nvrem}{\\nvector{B}\\ped{rem}}\n",
    "\\newcommand{\\nvbrem}{\\nvrem}\n",
    "\\newcommand{\\nvm}{\\nvector{M}}\n",
    "\\newcommand{\\mur}{\\mu\\ped{r}}\n",
    "\\newcommand{\\nvbremhat}{\\hat{\\nvector{B}}\\ped{rem}}\n",
    "\\newcommand{\\acoef}[2]{a_{{#1},\\mathrm{#2}}}\n",
    "\\newcommand{\\bcoef}[2]{b_{{#1},\\mathrm{#2}}}\n",
    "\\newcommand{\\Azexpr}[1]{A_{\\mathrm{#1}\\, z}}\n",
    "\\newcommand{\\bremii}{B_{\\mathrm{rem,II}}}\n",
    "\\newcommand{\\bremiv}{B_{\\mathrm{rem,IV}}}\n",
    "\\newcommand{\\aIII}{\\acoef{1}{III}}\n",
    "\\newcommand{\\bIII}{\\bcoef{1}{III}}\n",
    "\\newcommand{\\nvbIII}{\\nvector{B}\\ped{III}}\n",
    "\\newcommand{\\BIII}{B\\ped{III}}\n",
    "\\newcommand{\\diffd}[1]{\\mathrm{d}\\,{#1}}\n",
    "$$"
   ]
  },
  {
   "cell_type": "markdown",
   "metadata": {},
   "source": [
    "# TeslaMax Optimization"
   ]
  },
  {
   "cell_type": "markdown",
   "metadata": {},
   "source": [
    "Teslamax model:\n",
    "\n",
    "<img src=\"figures/teslamax.png\" width=500>"
   ]
  },
  {
   "cell_type": "code",
   "execution_count": 1,
   "metadata": {
    "collapsed": false
   },
   "outputs": [],
   "source": [
    "from pathlib import Path\n",
    "import os\n",
    "import matplotlib\n",
    "import matplotlib.pyplot as plt\n",
    "import numpy as np\n",
    "import teslamax\n",
    "from teslamax import TeslaMaxModel\n",
    "\n",
    "\n",
    "\n",
    "mpl_params = {'text.usetex': True,\n",
    "              'font.family': 'serif',\n",
    "              'font.serif': 'Computer Modern',\n",
    "              'text.latex.preamble': [r'\\usepackage{engsymbols}',\n",
    "                                      r'\\usepackage{magref}',\n",
    "                                      r'\\usepackage{siunitx}']}\n",
    "matplotlib.rcParams.update(mpl_params)\n"
   ]
  },
  {
   "cell_type": "code",
   "execution_count": 47,
   "metadata": {
    "collapsed": true
   },
   "outputs": [],
   "source": [
    "FIGSIZE_CM = 20\n",
    "FIGSIZE_INCHES = FIGSIZE_CM / 2.54\n",
    "\n",
    "FONTSIZE = 20"
   ]
  },
  {
   "cell_type": "code",
   "execution_count": 8,
   "metadata": {
    "collapsed": true
   },
   "outputs": [],
   "source": [
    "os.chdir('C:\\\\Users\\\\fabiofortkamp\\\\code\\\\TeslaMax\\\\')"
   ]
  },
  {
   "cell_type": "code",
   "execution_count": 9,
   "metadata": {
    "collapsed": false
   },
   "outputs": [
    {
     "data": {
      "text/plain": [
       "'C:\\\\Users\\\\fabiofortkamp\\\\code\\\\TeslaMax'"
      ]
     },
     "execution_count": 9,
     "metadata": {},
     "output_type": "execute_result"
    }
   ],
   "source": [
    "os.getcwd()"
   ]
  },
  {
   "cell_type": "code",
   "execution_count": 44,
   "metadata": {
    "collapsed": false
   },
   "outputs": [
    {
     "data": {
      "text/plain": [
       "<module 'teslamax' from 'C:\\\\Users\\\\fabiofortkamp\\\\code\\\\TeslaMax\\\\teslamax\\\\__init__.py'>"
      ]
     },
     "execution_count": 44,
     "metadata": {},
     "output_type": "execute_result"
    }
   ],
   "source": [
    "import importlib\n",
    "importlib.reload(teslamax)"
   ]
  },
  {
   "cell_type": "markdown",
   "metadata": {
    "collapsed": true
   },
   "source": [
    "## Calculating functional"
   ]
  },
  {
   "cell_type": "code",
   "execution_count": 4,
   "metadata": {
    "collapsed": false
   },
   "outputs": [],
   "source": [
    "params_optimization = {\"R_i\": 0.015,\n",
    "                \"R_o\": 0.070,\n",
    "                \"h_gap\": 0.020,\n",
    "                \"R_s\": 0.140,\n",
    "                \"h_fc\": 0.010,\n",
    "                \"R_e\": 2,\n",
    "                \"n_IV\": 3,\n",
    "                \"phi_S_IV\": 45,\n",
    "                \"n_II\": 3,\n",
    "                \"phi_C_II\": 15,\n",
    "                \"phi_S_II\": 45,\n",
    "                \"B_rem_II_1\": 1.4,\n",
    "                \"B_rem_II_2\": 1.4,\n",
    "                \"B_rem_II_3\": 1.4,\n",
    "                \"mu_r_II\": 1.05,\n",
    "                \"B_rem_IV_1\": 1.4,\n",
    "                \"B_rem_IV_2\": 1.4,\n",
    "                \"B_rem_IV_3\": 1.4,\n",
    "                \"mu_r_IV\": 1.05,\n",
    "              \"linear_iron\": 1,\n",
    "              \"mu_r_iron\": 5e3,\n",
    "             }\n",
    "\n",
    "alpha_B_rem_0 = [15,30,45,15,45,135]\n",
    "\n",
    "params_optimization = teslamax.expand_parameters_from_remanence_array(alpha_B_rem_0, params_optimization)"
   ]
  },
  {
   "cell_type": "markdown",
   "metadata": {},
   "source": [
    "The code below calculate the individual contributions for each magnet block. For instance, the i-th element of the variable `F_II_x` is a list of points in the form $(B_x, B_y)$, calculated in a mesh in the air gap, where only the i-th segment in magnet II has a non-null remanence, with magnitude included in the above dictionary and oriented in the $x$ direction."
   ]
  },
  {
   "cell_type": "code",
   "execution_count": 5,
   "metadata": {
    "collapsed": false
   },
   "outputs": [],
   "source": [
    "def calculate_F_operators(points, params):\n",
    "    \"\"\"\n",
    "    Return (F_II_x, F_II_y, F_IV_x, F_IV_y), where each element is a list of the F-operators vector fields\n",
    "    calculated at points.\n",
    "    \n",
    "    For instance, F_II_x[0] is an array of (B_x, B_y), calculated when only the first segment of magnet II\n",
    "    is magnetized in the x-direction, with unit remanence\n",
    "    \"\"\"\n",
    "    \n",
    "    n_II = params['n_II']\n",
    "    n_IV = params['n_IV']\n",
    "        \n",
    "    F_II_x = []\n",
    "    F_II_y = []\n",
    "    \n",
    "    F_IV_x = []\n",
    "    F_IV_y = []\n",
    "    \n",
    "    for k in range(0,n_II):\n",
    "        F_II_x.append(teslamax.calculate_B_III_from_single_block(point=points, \n",
    "                                                   segment=k+1, \n",
    "                                                   magnet='II', \n",
    "                                                   magnitude=1.0, \n",
    "                                                    angle=0.0, \n",
    "                                                    params=params))\n",
    "        \n",
    "        \n",
    "        F_II_y.append(teslamax.calculate_B_III_from_single_block(point=points, \n",
    "                                                   segment=k+1,\n",
    "                                                   magnet='II', \n",
    "                                                   magnitude=1.0, \n",
    "                                                    angle=90.0, \n",
    "                                                    params=params))\n",
    "\n",
    "    for j in range(0,n_IV):\n",
    "        F_IV_x.append(teslamax.calculate_B_III_from_single_block(point=points, \n",
    "                                                   segment=j+1, \n",
    "                                                   magnet='IV', \n",
    "                                                   magnitude=1.0, \n",
    "                                                    angle=0.0, \n",
    "                                                    params=params))\n",
    "        \n",
    "        \n",
    "        F_IV_y.append(teslamax.calculate_B_III_from_single_block(point=points, \n",
    "                                                   segment=j+1,\n",
    "                                                   magnet='IV', \n",
    "                                                   magnitude=1.0, \n",
    "                                                    angle=90.0, \n",
    "                                                    params=params))\n",
    "        \n",
    "    return (F_II_x, F_II_y, F_IV_x, F_IV_y)"
   ]
  },
  {
   "cell_type": "code",
   "execution_count": 10,
   "metadata": {
    "collapsed": false
   },
   "outputs": [
    {
     "name": "stdout",
     "output_type": "stream",
     "text": [
      "Wall time: 6min 33s\n"
     ]
    }
   ],
   "source": [
    "%%time\n",
    "\n",
    "R_o = params_optimization[\"R_o\"]\n",
    "R_g = params_optimization[\"R_o\"] + params_optimization[\"h_gap\"]\n",
    "points_air_gap = teslamax.generate_sector_mesh_points(1.001*R_o,0.999*R_g,0.0,np.pi)\n",
    "\n",
    "F_II_x, F_II_y, F_IV_x, F_IV_y = calculate_F_operators(points_air_gap, params_optimization)"
   ]
  },
  {
   "cell_type": "code",
   "execution_count": 11,
   "metadata": {
    "collapsed": false
   },
   "outputs": [
    {
     "data": {
      "text/plain": [
       "array([[  5.61575250e-01,   1.05151475e-03],\n",
       "       [  5.60452185e-01,   5.04784509e-03],\n",
       "       [  5.59355059e-01,   9.24951490e-03],\n",
       "       ..., \n",
       "       [  5.55588761e-01,   3.03373059e-03],\n",
       "       [  5.55288376e-01,   1.46317942e-03],\n",
       "       [  5.55007843e-01,  -1.23864216e-04]])"
      ]
     },
     "execution_count": 11,
     "metadata": {},
     "output_type": "execute_result"
    }
   ],
   "source": [
    "F_IV_x[0]"
   ]
  },
  {
   "cell_type": "markdown",
   "metadata": {},
   "source": [
    "Next we apply the principle of superposition, combining the contributions calculated above and using the actual remanence magnitude and angle as specified by the dictionary `params_optimization` and by the array `alpha_B_rem`."
   ]
  },
  {
   "cell_type": "code",
   "execution_count": 12,
   "metadata": {
    "collapsed": true
   },
   "outputs": [],
   "source": [
    "def superposition_B_III(points, F_II_x, F_II_y, F_IV_x, F_IV_y, alpha_B_rem, params):\n",
    "    \"\"\"\n",
    "    Return (x, y, B_x, B_y) based on the lists of F-operators and a vector of remanence angles.\n",
    "    \n",
    "    - 'points' is a list of (x,y) points where all of the F-operators are calculated.\n",
    "    - Each element of 'F_{magnet}_{direction}' is an array of (B_x, B_y) vectors calculated at 'points', \n",
    "    considering only the effect of that segment\n",
    "    - 'alpha_B_rem' is a vector of (n_II + n_IV) remanences, where the first n_II represent magnet II and\n",
    "    the remaining elements represent magnet IV\n",
    "    - 'params' is a dictionary of parameters\n",
    "    \n",
    "    \"\"\"\n",
    "    \n",
    "    B_III = 0\n",
    "\n",
    "    n_II = params[\"n_II\"]\n",
    "    for k in range(0,n_II):\n",
    "        B_rem = params[\"B_rem_II_%d\" %(k+1)]\n",
    "        alpha = np.deg2rad(alpha_B_rem[k])\n",
    "    \n",
    "        B = B_rem * (np.cos(alpha) * F_II_x[k] + np.sin(alpha) * F_II_y[k])\n",
    "    \n",
    "        B_III = B_III + B\n",
    "    \n",
    "    n_IV = params[\"n_IV\"]\n",
    "    for j in range(0,n_IV):\n",
    "        B_rem = params[\"B_rem_IV_%d\" %(j+1)]\n",
    "        alpha = np.deg2rad(alpha_B_rem[n_II + j])\n",
    "        \n",
    "        B = B_rem * (np.cos(alpha) * F_IV_x[j] + np.sin(alpha) * F_IV_y[j])\n",
    "        \n",
    "        B_III = B_III + B\n",
    "        \n",
    "    B_III_grid = np.concatenate((points, B_III), axis=1)\n",
    "    \n",
    "    return B_III_grid"
   ]
  },
  {
   "cell_type": "code",
   "execution_count": 55,
   "metadata": {
    "collapsed": true
   },
   "outputs": [],
   "source": [
    "def calculate_funcional(points,F_II_x, F_II_y, F_IV_x, F_IV_y, alpha_B_rem, params):\n",
    "    \"\"\"\n",
    "    Return the funcional based on the lists of F-operators and a vector of remanence angles.\n",
    "    \n",
    "    - 'points' is a list of (x,y) points where all of the F-operators are calculated.\n",
    "    - Each element of 'F_{magnet}_{direction}' is an array of (B_x, B_y) vectors calculated at 'points', \n",
    "    considering only the effect of that segment\n",
    "    - 'alpha_B_rem' is a vector of (n_II + n_IV) remanences, where the first n_II represent magnet II and\n",
    "    the remaining elements represent magnet IV\n",
    "    - 'params' is a dictionary of parameters\n",
    "    \n",
    "    \"\"\"\n",
    "    \n",
    "    B_III_data = superposition_B_III(points, F_II_x, F_II_y, F_IV_x, F_IV_y, alpha_B_rem, params)\n",
    "    \n",
    "    # the above statement will return [x,y,B_x,B_y]. We have to calculate the magnitude to pass it\n",
    "    # to the magnetic profile data\n",
    "    B_III_data = teslamax.calculate_magnitude(B_III_data)\n",
    "    \n",
    "    B_profile_data = teslamax.calculate_magnetic_profile(B_III_data,params)\n",
    "    \n",
    "    S = teslamax.calculate_average_high_field(B_profile_data)\n",
    "    return S"
   ]
  },
  {
   "cell_type": "code",
   "execution_count": 58,
   "metadata": {
    "collapsed": false
   },
   "outputs": [
    {
     "name": "stdout",
     "output_type": "stream",
     "text": [
      "0.937901298419\n"
     ]
    }
   ],
   "source": [
    "S_0 = calculate_funcional(points_air_gap,F_II_x,F_II_y,F_IV_x, F_IV_y, alpha_B_rem_0,params_optimization)\n",
    "print(S_0)"
   ]
  },
  {
   "cell_type": "code",
   "execution_count": 67,
   "metadata": {
    "collapsed": true
   },
   "outputs": [],
   "source": [
    "def calculate_funcional_derivative(points,F_II_x, F_II_y, F_IV_x, F_IV_y, alpha_B_rem, i,params):\n",
    "    \"\"\"\n",
    "    Return the derivative of the funcional in respect to the i-th element of the remanence angles vector.\n",
    "    \n",
    "    - 'points' is a list of (x,y) points where all of the F-operators are calculated.\n",
    "    - Each element of 'F_{magnet}_{direction}' is an array of (B_x, B_y) vectors calculated at 'points', \n",
    "    considering only the effect of that segment\n",
    "    - 'alpha_B_rem' is a vector of (n_II + n_IV) remanences, where the first n_II represent magnet II and\n",
    "    the remaining elements represent magnet IV\n",
    "    - 'i' is the element (0-based) in respect to which the derivative is being evaluated\n",
    "    - 'params' is a dictionary of parameters\n",
    "    \n",
    "    \"\"\"\n",
    "    \n",
    "    S = calculate_funcional(points,F_II_x, F_II_y, F_IV_x, F_IV_y, alpha_B_rem, params)\n",
    "    \n",
    "    alpha_B_rem_plus = alpha_B_rem.copy()\n",
    "    delta = 1e-6\n",
    "    alpha_B_rem_plus[i]  = alpha_B_rem_plus[i] + delta\n",
    "    \n",
    "    S_plus = calculate_funcional(points,F_II_x, F_II_y, F_IV_x, F_IV_y, alpha_B_rem_plus, params)\n",
    "    \n",
    "    dS = (S_plus - S)/delta\n",
    "    \n",
    "    return dS"
   ]
  },
  {
   "cell_type": "code",
   "execution_count": 68,
   "metadata": {
    "collapsed": false
   },
   "outputs": [
    {
     "name": "stdout",
     "output_type": "stream",
     "text": [
      "-0.00154200641145\n"
     ]
    }
   ],
   "source": [
    "dS_0 = calculate_funcional_derivative(points_air_gap,F_II_x,F_II_y,F_IV_x, F_IV_y, alpha_B_rem_0, 2, params_optimization)\n",
    "print(dS_0)"
   ]
  },
  {
   "cell_type": "code",
   "execution_count": null,
   "metadata": {
    "collapsed": true
   },
   "outputs": [],
   "source": []
  }
 ],
 "metadata": {
  "anaconda-cloud": {},
  "kernelspec": {
   "display_name": "Python 3",
   "language": "python",
   "name": "python3"
  },
  "language_info": {
   "codemirror_mode": {
    "name": "ipython",
    "version": 3
   },
   "file_extension": ".py",
   "mimetype": "text/x-python",
   "name": "python",
   "nbconvert_exporter": "python",
   "pygments_lexer": "ipython3",
   "version": "3.6.0"
  }
 },
 "nbformat": 4,
 "nbformat_minor": 1
}
