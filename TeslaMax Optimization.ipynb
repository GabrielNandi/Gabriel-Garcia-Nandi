{
 "cells": [
  {
   "cell_type": "markdown",
   "metadata": {},
   "source": [
    "$$\n",
    "\\newcommand{\\ped}[1]{_{\\mathrm{#1}}}\n",
    "\\newcommand{\\ap}[1]{^{\\mathrm{#1}}}\n",
    "\\newcommand{\\nvector}[1]{\\mathbf{#1}}\n",
    "\\newcommand{\\nmatrix}[1]{\\mathit{#1}}\n",
    "\\newcommand{\\unitvector}[1]{\\hat{\\nvector{e}}_{#1}}\n",
    "\\newcommand{\\volume}{\\mathcal{V}}\n",
    "\\newcommand{\\average}[1]{\\overline{#1}}\n",
    "\\newcommand{\\rate}[1]{\\dot{#1}}\n",
    "\\newcommand{\\flux}[1]{{#1}''}\n",
    "\\newcommand{\\curl}[1]{\\nabla\\times {#1}}\n",
    "\\newcommand{\\curlv}[1]{\\curl{\\nvector{#1}}}\n",
    "\\newcommand{\\divergent}[1]{\\nabla \\cdot #1}\n",
    "\\newcommand{\\divergentv}[1]{\\divergent{\\nvector{#1}}}\n",
    "\\newcommand{\\divergentpar}[1]{\\divergent{\\left( #1 \\right)}}\n",
    "\\newcommand{\\gradient}[1]{\\nabla {#1}}\n",
    "\\newcommand{\\gradientpar}[1]{\\gradient{\\left( {#1} \\right)}}\n",
    "\\newcommand{\\laplacian}[1]{\\nabla^2 #1}\n",
    "\\newcommand{\\laplacianpar}[1]{\\laplacian{\\left( #1 \\right)}}\n",
    "\\newcommand{\\vectornorm}[1]{\\left\\lVert #1 \\right\\rVert}\n",
    "\\newcommand{\\diffp}[2]{\\frac{\\partial {#1}}{\\partial {#2}}}\n",
    "\\newcommand{\\diffps}[2]{\\frac{\\partial^2 {#1}}{\\partial {#2}^2}}\n",
    "\\newcommand{\\rvec}{\\nvector{r}}\n",
    "\\newcommand{\\nvh}{\\nvector{H}}\n",
    "\\newcommand{\\nvb}{\\nvector{B}}\n",
    "\\newcommand{\\nvrem}{\\nvector{B}\\ped{rem}}\n",
    "\\newcommand{\\nvbrem}{\\nvrem}\n",
    "\\newcommand{\\nvm}{\\nvector{M}}\n",
    "\\newcommand{\\mur}{\\mu\\ped{r}}\n",
    "\\newcommand{\\nvbremhat}{\\hat{\\nvector{B}}\\ped{rem}}\n",
    "\\newcommand{\\acoef}[2]{a_{{#1},\\mathrm{#2}}}\n",
    "\\newcommand{\\bcoef}[2]{b_{{#1},\\mathrm{#2}}}\n",
    "\\newcommand{\\Azexpr}[1]{A_{\\mathrm{#1}\\, z}}\n",
    "\\newcommand{\\bremii}{B_{\\mathrm{rem,II}}}\n",
    "\\newcommand{\\bremiv}{B_{\\mathrm{rem,IV}}}\n",
    "\\newcommand{\\aIII}{\\acoef{1}{III}}\n",
    "\\newcommand{\\bIII}{\\bcoef{1}{III}}\n",
    "\\newcommand{\\nvbIII}{\\nvector{B}\\ped{III}}\n",
    "\\newcommand{\\BIII}{B\\ped{III}}\n",
    "\\newcommand{\\diffd}[1]{\\mathrm{d}\\,{#1}}\n",
    "\\newcommand{\\cop}{\\mathrm{COP}}\n",
    "$$"
   ]
  },
  {
   "cell_type": "markdown",
   "metadata": {},
   "source": [
    "# TeslaMax Optimization"
   ]
  },
  {
   "cell_type": "markdown",
   "metadata": {},
   "source": [
    "Teslamax model:\n",
    "\n",
    "<img src=\"figures/teslamax.png\" width=500>"
   ]
  },
  {
   "cell_type": "markdown",
   "metadata": {},
   "source": [
    "We are intererested in finding the optimal set of remanence angles $\\alpha_{\\mathrm{rem},m,k}$ that will maximize some metric in the air gap."
   ]
  },
  {
   "cell_type": "code",
   "execution_count": 1,
   "metadata": {
    "collapsed": true
   },
   "outputs": [],
   "source": [
    "from pathlib import Path\n",
    "import os\n",
    "import matplotlib\n",
    "import matplotlib.pyplot as plt\n",
    "import numpy as np\n",
    "from scipy.optimize import minimize, differential_evolution, basinhopping\n",
    "import teslamax\n",
    "from teslamax import TeslaMaxGeometry, TeslaMaxPreDesign, TeslaMaxModel\n",
    "\n",
    "\n",
    "\n",
    "mpl_params = {'text.usetex': True,\n",
    "              'font.family': 'serif',\n",
    "              'font.serif': 'Computer Modern',\n",
    "              'text.latex.preamble': [r'\\usepackage{engsymbols}',\n",
    "                                      r'\\usepackage{magref}',\n",
    "                                      r'\\usepackage{siunitx}']}\n",
    "matplotlib.rcParams.update(mpl_params)"
   ]
  },
  {
   "cell_type": "code",
   "execution_count": 2,
   "metadata": {
    "collapsed": true
   },
   "outputs": [],
   "source": [
    "FIGSIZE_CM = 20\n",
    "FIGSIZE_INCHES = FIGSIZE_CM / 2.54\n",
    "\n",
    "FONTSIZE = 20\n",
    "\n",
    "\n",
    "\n",
    "PAPER_FILE_PATH = Path('.')\n",
    "FIGURES_DIR_NAME = \"figures\"\n",
    "FIG_FILE_PATH = PAPER_FILE_PATH / Path(FIGURES_DIR_NAME)\n",
    "\n",
    "\n",
    "PLOT_EXTENSION = \".png\"\n",
    "\n",
    "DPI = 800"
   ]
  },
  {
   "cell_type": "code",
   "execution_count": 3,
   "metadata": {
    "collapsed": true
   },
   "outputs": [],
   "source": [
    "os.chdir(str(Path.home() / \"code\" / \"TeslaMax\"))"
   ]
  },
  {
   "cell_type": "code",
   "execution_count": 4,
   "metadata": {
    "scrolled": false
   },
   "outputs": [
    {
     "data": {
      "text/plain": [
       "'C:\\\\Users\\\\fapfor\\\\code\\\\TeslaMax'"
      ]
     },
     "execution_count": 4,
     "metadata": {},
     "output_type": "execute_result"
    }
   ],
   "source": [
    "os.getcwd()"
   ]
  },
  {
   "cell_type": "code",
   "execution_count": 5,
   "metadata": {
    "collapsed": true
   },
   "outputs": [],
   "source": [
    "def save_figure(fig,name):\n",
    "    \"\"\"\n",
    "    Save the 'fig' Figure object as 'name' (with extension PLOT_EXTENSION), inside FIG_FILE_PATH,\n",
    "    and close the figure\"\"\"\n",
    "    \n",
    "    \n",
    "    file_path = str(FIG_FILE_PATH / (name + PLOT_EXTENSION))\n",
    "    fig.savefig(file_path,dpi=DPI,bbox_inches='tight')"
   ]
  },
  {
   "cell_type": "markdown",
   "metadata": {},
   "source": [
    "## AMR simulations"
   ]
  },
  {
   "cell_type": "markdown",
   "metadata": {},
   "source": [
    "To help determine the best magnetic profile for an AMR device, simulations using the AMR model from Trevizoli (2015) were performed, and can be found in [this repository](https://github.com/PoloMag/paper-magnetic-profiles). We wish then to design the magnet to be able to provide the desired profile.\n",
    "\n",
    "All simulations considered a ramp profile like this one:"
   ]
  },
  {
   "cell_type": "code",
   "execution_count": 6,
   "metadata": {},
   "outputs": [
    {
     "data": {
      "text/plain": [
       "<matplotlib.text.Text at 0x16035a25860>"
      ]
     },
     "execution_count": 6,
     "metadata": {},
     "output_type": "execute_result"
    },
    {
     "data": {
      "image/png": "[encoded data removed]",
      "text/plain": [
       "<matplotlib.figure.Figure at 0x1603408bb00>"
      ]
     },
     "metadata": {},
     "output_type": "display_data"
    }
   ],
   "source": [
    "%matplotlib inline\n",
    "plt.rc('font',size=FONTSIZE)\n",
    "\n",
    "ramp_profile_fig = plt.figure(figsize=(FIGSIZE_INCHES,FIGSIZE_INCHES))\n",
    "ramp_profile_axes = ramp_profile_fig.add_subplot(111)\n",
    "\n",
    "B_high = 1.2\n",
    "B_low = 0.0\n",
    "field_fraction = 0.3\n",
    "\n",
    "phi_vector = np.linspace(0,360,200)\n",
    "B_ramp_vector = teslamax.calculate_ramp_profile(phi_vector,B_high,B_low,field_fraction)\n",
    "\n",
    "ramp_profile_axes.plot(phi_vector,B_ramp_vector)\n",
    "ramp_profile_axes.set_xlim(0,np.max(phi_vector))\n",
    "ramp_profile_axes.set_xticks(np.linspace(0,np.max(phi_vector),9))\n",
    "ramp_profile_axes.xaxis.grid(True)\n",
    "ramp_profile_axes.set_ylim(0,B_high+0.1)\n",
    "ramp_profile_axes.set_yticks(np.arange(0,B_high+0.2,0.2))\n",
    "ramp_profile_axes.set_xlabel(r'$\\phi [\\si{\\degree}]$')\n",
    "ramp_profile_axes.set_ylabel(r'$B [\\si{\\tesla}]$')\n"
   ]
  },
  {
   "cell_type": "markdown",
   "metadata": {},
   "source": [
    "The following parameters were kept fixed in all simulations:"
   ]
  },
  {
   "cell_type": "code",
   "execution_count": 7,
   "metadata": {
    "collapsed": true
   },
   "outputs": [],
   "source": [
    "FIXED_PARAMETERS_AMR = {\n",
    "    \"D_p[m]\": 0.5e-3,\n",
    "    \"L[m]\": 100e-3,\n",
    "    \"W[m]\": 25e-3,\n",
    "    \"H[m]\": 20e-3,\n",
    "    \"N_r[]\": 11,\n",
    "    \"T_H[K]\": 298,\n",
    "    \"dT[K]\": 20,\n",
    "\"t_csg[m]\": 1e-3,\n",
    "\"t_air[m]\": 0.5e-3,\n",
    "\"casing_material\": \"G10\"\n",
    "}\n",
    "\n",
    "FIXED_PARAMETERS_AMR[\"hgap[m]\"] = FIXED_PARAMETERS_AMR[\"H[m]\"] + 2*(FIXED_PARAMETERS_AMR[\"t_csg[m]\"] + \n",
    "                                                                    FIXED_PARAMETERS_AMR[\"t_air[m]\"])"
   ]
  },
  {
   "cell_type": "markdown",
   "metadata": {},
   "source": [
    "Thermal losses were included in the simulations"
   ]
  },
  {
   "cell_type": "markdown",
   "metadata": {},
   "source": [
    "By varying the field fraction $F_M$ (the fraction of the cycle where the field is at the maximum level) and the maximum magnetic field, the following map can be generated, for a combination of frequency, utilization and blow fraction:\n",
    "\n",
    "<img src=\"figures/Qc_ramp_map_f_1_Phi_40_FB_70.png\" width=600> <img src=\"figures/COP_ramp_map_f_1_Phi_40_FB_70.png\" width=600>"
   ]
  },
  {
   "cell_type": "markdown",
   "metadata": {},
   "source": [
    "Notice how the results are sensitive to the magnitude of the field. It is more advantangeous to keep the field at 1.4 T during  30% of the cycle than keeping the field at 1.2 T for the entire cycle.\n",
    "\n",
    "Our current estimative for the cooling capacity for the wine cooler is 180 W @ 0 K and 100 W @ 25 K, with the highest possible COP. Since our simulations were made for a span of 20 K, let us define a virtual operating condition of 170 W @ 20 K, with COP > 1.5. From the above figure, we can select three pairs of $(B\\ped{max}, F\\ped{M})$:\n",
    "\n",
    "1. 1.275 T for 45% of the time\n",
    "2. 1.300 T for 35% of the time\n",
    "3. 1.400 T for 25% of the time"
   ]
  },
  {
   "cell_type": "markdown",
   "metadata": {},
   "source": [
    "## Objective function"
   ]
  },
  {
   "cell_type": "markdown",
   "metadata": {},
   "source": [
    "We consider that the magnetic profile is a good representation of what the regenerators experience, and it is what is used as an input to AMR models. Therefore, the optimization procedure that is developed here is denoted *profile matching*: we calculate the optimal remanence angles for each magnet segments, such that the deviation between the resulting profile and a *target* ramp profile is minimized:\n",
    "\n",
    "\\begin{equation}\n",
    "\\mathcal{K}(\\nvector{x}) = \\left(\\int_0^{2\\pi}\\left(\\average{B}(\\phi,\\nvector{x}) - \\average{B}\\ped{ramp} (\\phi,B\\ped{l},B\\ped{h},F\\ped{M})\\right)^{2}\\diffd{\\phi}\\right)\n",
    "\\end{equation}\n",
    "\n",
    "where $\\average{B}(\\phi,\\nvector{x})$ is the magnetic profile calculated at position $\\phi$ when the remanence angles are represented by $\\nvector{x}$, and $\\average{B}\\ped{ramp} \\left(\\phi,B\\ped{l},B\\ped{h},F\\ped{M})\\right)$ is the ramp profile at angle $\\phi$, between plateaus $B\\ped{l}$ and $B\\ped{h}$ for the low and high field regions, with a high field fraction $F\\ped{M}$ (the fraction of the entire cycle where the field is at the high level)."
   ]
  },
  {
   "cell_type": "markdown",
   "metadata": {},
   "source": [
    "## Optimization using Scipy"
   ]
  },
  {
   "cell_type": "code",
   "execution_count": 8,
   "metadata": {
    "collapsed": true
   },
   "outputs": [],
   "source": [
    "def optimize_and_plot_ramp(B_high,field_fraction,params):\n",
    "    \"\"\"\n",
    "    Run the TeslaMax optimization procedure, trying to match the profile\n",
    "    to a ramp profile between 0 and 'B_high' with 'field_fraction', using the\n",
    "    parameters in the dictionary 'params'.\n",
    "    \n",
    "    Plot and save the figures, and return the vector of optimal remanence directions\n",
    "    \"\"\"\n",
    "    \n",
    "    tmpd = TeslaMaxPreDesign(params)\n",
    "    \n",
    "    target_function = teslamax.calculate_ramp_profile\n",
    "    \n",
    "    B_low = 0.0\n",
    "    \n",
    "    target_args = (B_high,B_low,field_fraction)\n",
    "\n",
    "    alpha_B_rem_g = tmpd.get_optimal_remanence_angles(target_function,target_args)\n",
    "\n",
    "    # plot results   \n",
    "    plt.rc('font',size=FONTSIZE)\n",
    "\n",
    "    profile_fig_g = plt.figure(figsize=(FIGSIZE_INCHES,FIGSIZE_INCHES))\n",
    "    profile_axes_g = profile_fig_g.add_subplot(111)\n",
    "    \n",
    "    teslamax_playground = str(Path.home() / \"code\" / \"TeslaMax\" / \"teslamax-play\" )\n",
    "    \n",
    "    tmm_g = TeslaMaxModel(tmpd,\n",
    "                          alpha_B_rem_g,\n",
    "                          path=teslamax_playground)\n",
    "    tmm_g.run()\n",
    "    phi_vector_g, B_vector_g = tmm_g.get_profile_data().T\n",
    "    \n",
    "    profile_axes_g.plot(phi_vector_g,B_vector_g)\n",
    "    profile_axes_g.set_xlim(0,np.max(phi_vector_g))\n",
    "    profile_axes_g.set_xticks(np.linspace(0,np.max(phi_vector_g),9))\n",
    "    profile_axes_g.xaxis.grid(True)\n",
    "    profile_axes_g.set_ylim(0,B_high+0.1)\n",
    "    profile_axes_g.set_yticks(np.arange(0,B_high+0.2,0.2))\n",
    "    profile_axes_g.set_xlabel(r'$\\phi [\\si{\\degree}]$')\n",
    "    profile_axes_g.set_ylabel(r'$B [\\si{\\tesla}]$')\n",
    "    \n",
    "    B_inst_vector = teslamax.calculate_ramp_profile(phi_vector_g,B_high,B_low,field_fraction)\n",
    "    profile_axes_g.plot(phi_vector_g,B_inst_vector,'--')\n",
    "\n",
    "    save_figure(profile_fig_g,\"profile_optimized_B_%d_FM_%d\" %(B_high*1000,field_fraction*100))\n",
    "    \n",
    "    return alpha_B_rem_g\n",
    "    "
   ]
  },
  {
   "cell_type": "markdown",
   "metadata": {},
   "source": [
    "### 1. 1.275 T for 45% of the time"
   ]
  },
  {
   "cell_type": "code",
   "execution_count": 13,
   "metadata": {
    "collapsed": true
   },
   "outputs": [],
   "source": [
    "params_optimization_1 = {\"R_i\": 0.015,\n",
    "                \"R_o\": 0.060,\n",
    "                \"h_gap\": FIXED_PARAMETERS_AMR[\"hgap[m]\"],\n",
    "                \"R_s\": 0.150,\n",
    "                \"h_fc\": 0.010,\n",
    "                \"R_e\": 2,\n",
    "                \"n_IV\": 4,\n",
    "                \"phi_S_IV\": 45,\n",
    "                \"n_II\": 3,\n",
    "                \"phi_C_II\": 15,\n",
    "                \"phi_S_II\": 45,\n",
    "                \"mu_r_II\": 1.05,\n",
    "                \"mu_r_IV\": 1.05,\n",
    "              \"linear_iron\": 1,\n",
    "              \"mu_r_iron\": 5e3,\n",
    "             }\n",
    "\n",
    "n_II = params_optimization_1[\"n_II\"]\n",
    "n_IV = params_optimization_1[\"n_IV\"]\n",
    "\n",
    "n = n_II + n_IV\n",
    "\n",
    "B_rem = 1.4\n",
    "\n",
    "# expand parameters to include remanence magnitudes for each segment\n",
    "params_optimization_1 = teslamax.expand_parameters_from_remanence_array(B_rem*np.ones(n), \n",
    "                                                                      params_optimization_1, \n",
    "                                                                      \"B_rem\")\n",
    "\n",
    "\n"
   ]
  },
  {
   "cell_type": "code",
   "execution_count": 14,
   "metadata": {},
   "outputs": [
    {
     "name": "stdout",
     "output_type": "stream",
     "text": [
      "[  8.22482716  45.30151853   1.97084981   4.13993246  20.40098103\n",
      "  42.98376524  97.59889084]\n",
      "Wall time: 50min 7s\n"
     ]
    },
    {
     "data": {
      "image/png": "[encoded data removed]",
      "text/plain": [
       "<matplotlib.figure.Figure at 0x16035a400b8>"
      ]
     },
     "metadata": {},
     "output_type": "display_data"
    }
   ],
   "source": [
    "%%time\n",
    "%matplotlib inline\n",
    "\n",
    "B_high = 1.275\n",
    "field_fraction = 0.45\n",
    "\n",
    "alpha_B_rem_g_1 = optimize_and_plot_ramp(B_high,field_fraction,params_optimization_1)\n",
    "print(alpha_B_rem_g_1)"
   ]
  },
  {
   "cell_type": "markdown",
   "metadata": {},
   "source": [
    "### 2. 1.300 T for 35% of the time"
   ]
  },
  {
   "cell_type": "code",
   "execution_count": 9,
   "metadata": {
    "collapsed": true
   },
   "outputs": [],
   "source": [
    "params_optimization_2 = {\"R_i\": 0.015,\n",
    "                \"R_o\": 0.060,\n",
    "                \"h_gap\": FIXED_PARAMETERS_AMR[\"hgap[m]\"],\n",
    "                \"R_s\": 0.150,\n",
    "                \"h_fc\": 0.010,\n",
    "                \"R_e\": 2,\n",
    "                \"n_IV\": 4,\n",
    "                \"phi_S_IV\": 45,\n",
    "                \"n_II\": 3,\n",
    "                \"phi_C_II\": 15,\n",
    "                \"phi_S_II\": 45,\n",
    "                \"mu_r_II\": 1.05,\n",
    "                \"mu_r_IV\": 1.05,\n",
    "              \"linear_iron\": 1,\n",
    "              \"mu_r_iron\": 5e3,\n",
    "             }\n",
    "\n",
    "n_II = params_optimization_2[\"n_II\"]\n",
    "n_IV = params_optimization_2[\"n_IV\"]\n",
    "\n",
    "n = n_II + n_IV\n",
    "\n",
    "B_rem = 1.4\n",
    "\n",
    "# expand parameters to include remanence magnitudes for each segment\n",
    "params_optimization_2 = teslamax.expand_parameters_from_remanence_array(B_rem*np.ones(n), \n",
    "                                                                      params_optimization_2, \n",
    "                                                                      \"B_rem\")\n",
    "\n",
    "\n"
   ]
  },
  {
   "cell_type": "code",
   "execution_count": 11,
   "metadata": {},
   "outputs": [
    {
     "name": "stdout",
     "output_type": "stream",
     "text": [
      "[  2.56968995   8.18603207   0.           3.09856418  15.03873321\n",
      "  42.63185461  96.16964064]\n",
      "Wall time: 48min 6s\n"
     ]
    },
    {
     "data": {
      "image/png": "[encoded data removed]",
      "text/plain": [
       "<matplotlib.figure.Figure at 0x16033eb0438>"
      ]
     },
     "metadata": {},
     "output_type": "display_data"
    }
   ],
   "source": [
    "%%time\n",
    "%matplotlib inline\n",
    "\n",
    "B_high = 1.300\n",
    "field_fraction = 0.35\n",
    "\n",
    "alpha_B_rem_g_2 = optimize_and_plot_ramp(B_high,field_fraction,params_optimization_2)\n",
    "print(alpha_B_rem_g_2)"
   ]
  },
  {
   "cell_type": "markdown",
   "metadata": {
    "collapsed": true
   },
   "source": [
    "## Optimization using evolutionary algorithms"
   ]
  },
  {
   "cell_type": "code",
   "execution_count": null,
   "metadata": {
    "collapsed": true
   },
   "outputs": [],
   "source": [
    "from scipy.optimize import differential_evolution, basinhopping"
   ]
  },
  {
   "cell_type": "code",
   "execution_count": null,
   "metadata": {
    "collapsed": true
   },
   "outputs": [],
   "source": [
    "params_optimization = {\"R_i\": 0.015,\n",
    "                \"R_o\": 0.070,\n",
    "                \"h_gap\": 0.020,\n",
    "                \"R_s\": 0.140,\n",
    "                \"h_fc\": 0.010,\n",
    "                \"R_e\": 2,\n",
    "                \"n_IV\": 3,\n",
    "                \"phi_S_IV\": 45,\n",
    "                \"n_II\": 3,\n",
    "                \"phi_C_II\": 15,\n",
    "                \"phi_S_II\": 45,\n",
    "                \"B_rem_II_1\": 1.4,\n",
    "                \"B_rem_II_2\": 1.4,\n",
    "                \"B_rem_II_3\": 1.4,\n",
    "                \"mu_r_II\": 1.05,\n",
    "                \"B_rem_IV_1\": 1.4,\n",
    "                \"B_rem_IV_2\": 1.4,\n",
    "                \"B_rem_IV_3\": 1.4,\n",
    "                \"mu_r_IV\": 1.05,\n",
    "              \"linear_iron\": 1,\n",
    "              \"mu_r_iron\": 5e3,\n",
    "             }\n",
    "alpha_B_rem_0 = [15,30,45,15,45,135]\n",
    "\n",
    "n = len(alpha_B_rem_0)\n",
    "\n",
    "tmpd = TeslaMaxPreDesign(params_optimization)"
   ]
  },
  {
   "cell_type": "code",
   "execution_count": null,
   "metadata": {
    "collapsed": true
   },
   "outputs": [],
   "source": [
    "%%time \n",
    "## all this methods from the TeslaMaxPreDesign class accept as only arguments the design vector (with remanence angles)\n",
    "\n",
    "objective_function = tmpd.calculate_functional\n",
    "\n",
    "bounds = [(0.0, 360.0) for i in range(0,n)]\n",
    "\n",
    "res = differential_evolution(objective_function,bounds,disp=True)"
   ]
  },
  {
   "cell_type": "code",
   "execution_count": null,
   "metadata": {
    "collapsed": true
   },
   "outputs": [],
   "source": [
    "res.x"
   ]
  },
  {
   "cell_type": "code",
   "execution_count": null,
   "metadata": {
    "collapsed": true
   },
   "outputs": [],
   "source": [
    "%matplotlib inline\n",
    "plt.rc('font',size=FONTSIZE)\n",
    "\n",
    "profile_fig = plt.figure(figsize=(FIGSIZE_INCHES,FIGSIZE_INCHES))\n",
    "profile_axes = profile_fig.add_subplot(111)\n",
    "\n",
    "\n",
    "teslamax_playground = 'C:\\\\Users\\\\fabiofortkamp\\\\code\\\\TeslaMax\\\\teslamax-play'\n",
    "\n",
    "tmm_optimized = TeslaMaxModel(tmpd,res.x,\n",
    "                   path=teslamax_playground)\n",
    "tmm_optimized.run()\n",
    "phi_vector, B_vector = tmm_optimized.get_profile_data().T\n",
    "\n",
    "profile_axes.plot(phi_vector,B_vector)\n",
    "profile_axes.set_xlim(0,np.max(phi_vector))\n",
    "profile_axes.set_xticks(np.linspace(0,np.max(phi_vector),9))\n",
    "profile_axes.xaxis.grid(True)\n",
    "profile_axes.set_xlabel(r'$\\phi [\\si{\\degree}]$')\n",
    "profile_axes.set_ylabel(r'$B [\\si{\\tesla}]$')\n",
    "\n",
    "B_inst_vector = teslamax.calculate_instantaneous_profile(phi_vector,teslamax.TARGET_PROFILE)\n",
    "profile_axes.plot(phi_vector,B_inst_vector)\n",
    "\n",
    "save_figure(profile_fig,\"profile_optimized_genetic_B_13\")"
   ]
  },
  {
   "cell_type": "code",
   "execution_count": null,
   "metadata": {
    "collapsed": true
   },
   "outputs": [],
   "source": [
    "teslamax.calculate_average_high_field(tmm_optimized.get_profile_data())"
   ]
  },
  {
   "cell_type": "code",
   "execution_count": null,
   "metadata": {
    "collapsed": true
   },
   "outputs": [],
   "source": [
    "tmpd.calculate_functional_gradient(res.x)"
   ]
  },
  {
   "cell_type": "code",
   "execution_count": null,
   "metadata": {
    "collapsed": true
   },
   "outputs": [],
   "source": [
    "np.linalg.eigvals(tmpd.calculate_functional_hessian(res.x))"
   ]
  }
 ],
 "metadata": {
  "anaconda-cloud": {},
  "kernelspec": {
   "display_name": "Python 3",
   "language": "python",
   "name": "python3"
  },
  "language_info": {
   "codemirror_mode": {
    "name": "ipython",
    "version": 3
   },
   "file_extension": ".py",
   "mimetype": "text/x-python",
   "name": "python",
   "nbconvert_exporter": "python",
   "pygments_lexer": "ipython3",
   "version": "3.6.1"
  }
 },
 "nbformat": 4,
 "nbformat_minor": 1
}
