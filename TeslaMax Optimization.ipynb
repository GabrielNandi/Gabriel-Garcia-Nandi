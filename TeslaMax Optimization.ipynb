{
 "cells": [
  {
   "cell_type": "markdown",
   "metadata": {},
   "source": [
    "$$\n",
    "\\newcommand{\\ped}[1]{_{\\mathrm{#1}}}\n",
    "\\newcommand{\\ap}[1]{^{\\mathrm{#1}}}\n",
    "\\newcommand{\\nvector}[1]{\\mathbf{#1}}\n",
    "\\newcommand{\\nmatrix}[1]{\\mathit{#1}}\n",
    "\\newcommand{\\unitvector}[1]{\\hat{\\nvector{e}}_{#1}}\n",
    "\\newcommand{\\volume}{\\mathcal{V}}\n",
    "\\newcommand{\\average}[1]{\\overline{#1}}\n",
    "\\newcommand{\\rate}[1]{\\dot{#1}}\n",
    "\\newcommand{\\flux}[1]{{#1}''}\n",
    "\\newcommand{\\curl}[1]{\\nabla\\times {#1}}\n",
    "\\newcommand{\\curlv}[1]{\\curl{\\nvector{#1}}}\n",
    "\\newcommand{\\divergent}[1]{\\nabla \\cdot #1}\n",
    "\\newcommand{\\divergentv}[1]{\\divergent{\\nvector{#1}}}\n",
    "\\newcommand{\\divergentpar}[1]{\\divergent{\\left( #1 \\right)}}\n",
    "\\newcommand{\\gradient}[1]{\\nabla {#1}}\n",
    "\\newcommand{\\gradientpar}[1]{\\gradient{\\left( {#1} \\right)}}\n",
    "\\newcommand{\\laplacian}[1]{\\nabla^2 #1}\n",
    "\\newcommand{\\laplacianpar}[1]{\\laplacian{\\left( #1 \\right)}}\n",
    "\\newcommand{\\vectornorm}[1]{\\left\\lVert #1 \\right\\rVert}\n",
    "\\newcommand{\\diffp}[2]{\\frac{\\partial {#1}}{\\partial {#2}}}\n",
    "\\newcommand{\\diffps}[2]{\\frac{\\partial^2 {#1}}{\\partial {#2}^2}}\n",
    "\\newcommand{\\rvec}{\\nvector{r}}\n",
    "\\newcommand{\\nvh}{\\nvector{H}}\n",
    "\\newcommand{\\nvb}{\\nvector{B}}\n",
    "\\newcommand{\\nvrem}{\\nvector{B}\\ped{rem}}\n",
    "\\newcommand{\\nvbrem}{\\nvrem}\n",
    "\\newcommand{\\nvm}{\\nvector{M}}\n",
    "\\newcommand{\\mur}{\\mu\\ped{r}}\n",
    "\\newcommand{\\nvbremhat}{\\hat{\\nvector{B}}\\ped{rem}}\n",
    "\\newcommand{\\acoef}[2]{a_{{#1},\\mathrm{#2}}}\n",
    "\\newcommand{\\bcoef}[2]{b_{{#1},\\mathrm{#2}}}\n",
    "\\newcommand{\\Azexpr}[1]{A_{\\mathrm{#1}\\, z}}\n",
    "\\newcommand{\\bremii}{B_{\\mathrm{rem,II}}}\n",
    "\\newcommand{\\bremiv}{B_{\\mathrm{rem,IV}}}\n",
    "\\newcommand{\\aIII}{\\acoef{1}{III}}\n",
    "\\newcommand{\\bIII}{\\bcoef{1}{III}}\n",
    "\\newcommand{\\nvbIII}{\\nvector{B}\\ped{III}}\n",
    "\\newcommand{\\BIII}{B\\ped{III}}\n",
    "\\newcommand{\\diffd}[1]{\\mathrm{d}\\,{#1}}\n",
    "$$"
   ]
  },
  {
   "cell_type": "markdown",
   "metadata": {},
   "source": [
    "# TeslaMax Optimization"
   ]
  },
  {
   "cell_type": "markdown",
   "metadata": {},
   "source": [
    "Teslamax model:\n",
    "\n",
    "<img src=\"figures/teslamax.png\" width=500>"
   ]
  },
  {
   "cell_type": "markdown",
   "metadata": {},
   "source": [
    "We are intererested in finding the optimal set of remanence angles $\\alpha_{\\mathrm{rem},m,k}$ that will maximize some metric in the air gap."
   ]
  },
  {
   "cell_type": "code",
   "execution_count": 1,
   "metadata": {
    "collapsed": false
   },
   "outputs": [],
   "source": [
    "from pathlib import Path\n",
    "import os\n",
    "import matplotlib\n",
    "import matplotlib.pyplot as plt\n",
    "import numpy as np\n",
    "from scipy.optimize import minimize, differential_evolution, basinhopping\n",
    "import teslamax\n",
    "from teslamax import TeslaMaxGeometry, TeslaMaxPreDesign, TeslaMaxModel\n",
    "\n",
    "\n",
    "\n",
    "mpl_params = {'text.usetex': True,\n",
    "              'font.family': 'serif',\n",
    "              'font.serif': 'Computer Modern',\n",
    "              'text.latex.preamble': [r'\\usepackage{engsymbols}',\n",
    "                                      r'\\usepackage{magref}',\n",
    "                                      r'\\usepackage{siunitx}']}\n",
    "matplotlib.rcParams.update(mpl_params)"
   ]
  },
  {
   "cell_type": "code",
   "execution_count": 2,
   "metadata": {
    "collapsed": true
   },
   "outputs": [],
   "source": [
    "FIGSIZE_CM = 20\n",
    "FIGSIZE_INCHES = FIGSIZE_CM / 2.54\n",
    "\n",
    "FONTSIZE = 20\n",
    "\n",
    "\n",
    "\n",
    "PAPER_FILE_PATH = Path('.')\n",
    "FIGURES_DIR_NAME = \"figures\"\n",
    "FIG_FILE_PATH = PAPER_FILE_PATH / Path(FIGURES_DIR_NAME)\n",
    "\n",
    "\n",
    "PLOT_EXTENSION = \".png\"\n",
    "\n",
    "DPI = 800"
   ]
  },
  {
   "cell_type": "code",
   "execution_count": 3,
   "metadata": {
    "collapsed": false
   },
   "outputs": [],
   "source": [
    "os.chdir(str(Path.home() / \"code\" / \"TeslaMax\"))"
   ]
  },
  {
   "cell_type": "code",
   "execution_count": 4,
   "metadata": {
    "collapsed": false
   },
   "outputs": [
    {
     "data": {
      "text/plain": [
       "'C:\\\\Users\\\\Fabio\\\\code\\\\TeslaMax'"
      ]
     },
     "execution_count": 4,
     "metadata": {},
     "output_type": "execute_result"
    }
   ],
   "source": [
    "os.getcwd()"
   ]
  },
  {
   "cell_type": "code",
   "execution_count": 5,
   "metadata": {
    "collapsed": true
   },
   "outputs": [],
   "source": [
    "def save_figure(fig,name):\n",
    "    \"\"\"\n",
    "    Save the 'fig' Figure object as 'name' (with extension PLOT_EXTENSION), inside FIG_FILE_PATH,\n",
    "    and close the figure\"\"\"\n",
    "    \n",
    "    \n",
    "    file_path = str(FIG_FILE_PATH / (name + PLOT_EXTENSION))\n",
    "    fig.savefig(file_path,dpi=DPI,bbox_inches='tight')"
   ]
  },
  {
   "cell_type": "markdown",
   "metadata": {
    "collapsed": true
   },
   "source": [
    "## Parameters"
   ]
  },
  {
   "cell_type": "markdown",
   "metadata": {},
   "source": [
    "This is reference set of parameters that we use to test the optimization procedures:"
   ]
  },
  {
   "cell_type": "code",
   "execution_count": 6,
   "metadata": {
    "collapsed": false
   },
   "outputs": [],
   "source": [
    "params_optimization_reference = {\"R_i\": 0.015,\n",
    "                \"R_o\": 0.070,\n",
    "                \"h_gap\": 0.020,\n",
    "                \"R_s\": 0.140,\n",
    "                \"h_fc\": 0.010,\n",
    "                \"R_e\": 2,\n",
    "                \"n_IV\": 3,\n",
    "                \"phi_S_IV\": 45,\n",
    "                \"n_II\": 3,\n",
    "                \"phi_C_II\": 15,\n",
    "                \"phi_S_II\": 45,\n",
    "                \"B_rem_II_1\": 1.4,\n",
    "                \"B_rem_II_2\": 1.4,\n",
    "                \"B_rem_II_3\": 1.4,\n",
    "                \"mu_r_II\": 1.05,\n",
    "                \"B_rem_IV_1\": 1.4,\n",
    "                \"B_rem_IV_2\": 1.4,\n",
    "                \"B_rem_IV_3\": 1.4,\n",
    "                \"mu_r_IV\": 1.05,\n",
    "              \"linear_iron\": 1,\n",
    "              \"mu_r_iron\": 5e3,\n",
    "             }\n",
    "\n",
    "alpha_B_rem_reference = [15,30,45,15,45,135]\n"
   ]
  },
  {
   "cell_type": "markdown",
   "metadata": {},
   "source": [
    "## Principle of superposition and the contribution of each segment"
   ]
  },
  {
   "cell_type": "markdown",
   "metadata": {},
   "source": [
    "The code below calculate the individual contributions for each magnet block. For instance, the i-th element of the variable `F_II_x` is a list of points in the form $(B_x, B_y)$, calculated in a mesh in the air gap, where only the i-th segment in magnet II has a non-null remanence, with magnitude included in the above dictionary and oriented in the $x$ direction."
   ]
  },
  {
   "cell_type": "markdown",
   "metadata": {},
   "source": [
    "This code generates a \"mesh\" in the upper half-circle (corresponding to the model that is actually simulated by COMSOL), and calculate the $F$-operators in this mesh"
   ]
  },
  {
   "cell_type": "code",
   "execution_count": 7,
   "metadata": {
    "collapsed": false
   },
   "outputs": [
    {
     "name": "stdout",
     "output_type": "stream",
     "text": [
      "Automatic pdb calling has been turned OFF\n"
     ]
    }
   ],
   "source": [
    "%pdb off"
   ]
  },
  {
   "cell_type": "code",
   "execution_count": 8,
   "metadata": {
    "collapsed": false,
    "scrolled": true
   },
   "outputs": [
    {
     "name": "stdout",
     "output_type": "stream",
     "text": [
      "Exception reporting mode: Verbose\n"
     ]
    }
   ],
   "source": [
    "%xmode verbose\n",
    "\n",
    "tmpd_reference = TeslaMaxPreDesign(params_optimization_reference)\n",
    "\n",
    "F_II_x, F_II_y, F_IV_x, F_IV_y = tmpd_reference.get_F_operators()"
   ]
  },
  {
   "cell_type": "markdown",
   "metadata": {},
   "source": [
    "Each of of the $F$-operators is a list of points, corresponding to the vector field $\\nvb$ calculated at `points_air_gap`:"
   ]
  },
  {
   "cell_type": "code",
   "execution_count": 9,
   "metadata": {
    "collapsed": false
   },
   "outputs": [
    {
     "data": {
      "text/plain": [
       "array([[  5.60819423e-01,   1.05261672e-03],\n",
       "       [  5.59695104e-01,   5.04250098e-03],\n",
       "       [  5.58596650e-01,   9.23792906e-03],\n",
       "       ..., \n",
       "       [  5.55897722e-01,   3.02213587e-03],\n",
       "       [  5.55597798e-01,   1.45756286e-03],\n",
       "       [  5.55317769e-01,  -1.23420986e-04]])"
      ]
     },
     "execution_count": 9,
     "metadata": {},
     "output_type": "execute_result"
    }
   ],
   "source": [
    "F_IV_x[0]"
   ]
  },
  {
   "cell_type": "markdown",
   "metadata": {},
   "source": [
    "## Calculating the functional"
   ]
  },
  {
   "cell_type": "markdown",
   "metadata": {},
   "source": [
    "The basic computational implementation of optimization algorithms require evaluate an *objective functional*. In this formulation, the main optimization variables are the angles, which are always represented by the vector `alpha_B_rem`. Notice that, in order to efficiently calculate the functional, we have to pass the lists of $F$-operators that we calculated previously, the points where these operators are calculated, and the dictionary of parameters."
   ]
  },
  {
   "cell_type": "markdown",
   "metadata": {},
   "source": [
    "Our goal is to build an instantaneous profile. This function calculates it:"
   ]
  },
  {
   "cell_type": "code",
   "execution_count": 10,
   "metadata": {
    "collapsed": false
   },
   "outputs": [
    {
     "data": {
      "text/plain": [
       "<matplotlib.text.Text at 0x2d9cd67b668>"
      ]
     },
     "execution_count": 10,
     "metadata": {},
     "output_type": "execute_result"
    },
    {
     "data": {
      "image/png": "[encoded data removed]",
      "text/plain": [
       "<matplotlib.figure.Figure at 0x2d9cd2d2cc0>"
      ]
     },
     "metadata": {},
     "output_type": "display_data"
    }
   ],
   "source": [
    "%matplotlib inline\n",
    "plt.rc('font',size=FONTSIZE)\n",
    "\n",
    "profile_fig_inst = plt.figure(figsize=(FIGSIZE_INCHES,FIGSIZE_INCHES))\n",
    "profile_axes_inst = profile_fig_inst.add_subplot(111)\n",
    "\n",
    "phi_inst_vector = np.linspace(0,360)\n",
    "B_inst_vector = teslamax.calculate_instantaneous_profile(phi_inst_vector,1.0)\n",
    "\n",
    "\n",
    "profile_axes_inst.plot(phi_inst_vector,B_inst_vector)\n",
    "profile_axes_inst.set_xlim(0,np.max(phi_inst_vector))\n",
    "profile_axes_inst.set_xticks(np.linspace(0,np.max(phi_inst_vector),9))\n",
    "profile_axes_inst.xaxis.grid(True)\n",
    "profile_axes_inst.set_xlabel(r'$\\phi [\\si{\\degree}]$')\n",
    "profile_axes_inst.set_ylabel(r'$B [\\si{\\tesla}]$')\n",
    "\n",
    "\n"
   ]
  },
  {
   "cell_type": "markdown",
   "metadata": {},
   "source": [
    "An example of calculation:"
   ]
  },
  {
   "cell_type": "code",
   "execution_count": 11,
   "metadata": {
    "collapsed": false
   },
   "outputs": [],
   "source": [
    "phi_vector, B_profile = teslamax.calculate_magnetic_profile(teslamax.calculate_magnitude(tmpd_reference.superposition_B_III(alpha_B_rem_reference)),\n",
    "                                                            tmpd_reference.geometry_material_parameters).T"
   ]
  },
  {
   "cell_type": "code",
   "execution_count": 12,
   "metadata": {
    "collapsed": false
   },
   "outputs": [
    {
     "name": "stdout",
     "output_type": "stream",
     "text": [
      "36.8195026252\n"
     ]
    }
   ],
   "source": [
    "S_0 = tmpd_reference.calculate_functional(alpha_B_rem_reference)\n",
    "print(S_0)"
   ]
  },
  {
   "cell_type": "markdown",
   "metadata": {},
   "source": [
    "Another piece of optimization algorithm is a function to calculate the derivative of the funcional:"
   ]
  },
  {
   "cell_type": "code",
   "execution_count": 13,
   "metadata": {
    "collapsed": false
   },
   "outputs": [
    {
     "name": "stdout",
     "output_type": "stream",
     "text": [
      "0.108766663232\n"
     ]
    }
   ],
   "source": [
    "dS_0 = tmpd_reference.calculate_functional_derivative(alpha_B_rem_reference, 2)\n",
    "print(dS_0)"
   ]
  },
  {
   "cell_type": "markdown",
   "metadata": {},
   "source": [
    "## Optimization algorithm"
   ]
  },
  {
   "cell_type": "markdown",
   "metadata": {},
   "source": [
    "This is a prototype of an implementation of the gradient descent algorithm from Insinga (2016):"
   ]
  },
  {
   "cell_type": "code",
   "execution_count": null,
   "metadata": {
    "collapsed": false
   },
   "outputs": [],
   "source": [
    "params_optimization = {\"R_i\": 0.015,\n",
    "                \"R_o\": 0.060,\n",
    "                \"h_gap\": 0.030,\n",
    "                \"R_s\": 0.140,\n",
    "                \"h_fc\": 0.010,\n",
    "                \"R_e\": 2,\n",
    "                \"n_IV\": 3,\n",
    "                \"phi_S_IV\": 45,\n",
    "                \"n_II\": 3,\n",
    "                \"phi_C_II\": 15,\n",
    "                \"phi_S_II\": 45,\n",
    "                \"B_rem_II_1\": 1.4,\n",
    "                \"B_rem_II_2\": 1.4,\n",
    "                \"B_rem_II_3\": 1.4,\n",
    "                \"mu_r_II\": 1.05,\n",
    "                \"B_rem_IV_1\": 1.4,\n",
    "                \"B_rem_IV_2\": 1.4,\n",
    "                \"B_rem_IV_3\": 1.4,\n",
    "                \"mu_r_IV\": 1.05,\n",
    "              \"linear_iron\": 1,\n",
    "              \"mu_r_iron\": 5e3,\n",
    "             }\n",
    "alpha_B_rem_0 = [15,30,45,15,45,135]\n",
    "\n",
    "tmpd = TeslaMaxPreDesign(params_optimization)\n",
    "\n",
    "S_0 = tmpd.calculate_functional(alpha_B_rem_0)\n",
    "\n",
    "gamma = 1e5\n",
    "max_iter = 50\n",
    "tol = 1e-6\n",
    "\n",
    "i = 0\n",
    "alpha_B_rem = alpha_B_rem_0.copy()\n",
    "S_old = S_0\n",
    "\n",
    "for i in range(0,len(alpha_B_rem)):\n",
    "    \n",
    "    it_count = 0\n",
    "    \n",
    "    \n",
    "    while True:\n",
    "        \n",
    "        dSdalpha = tmpd.calculate_functional_derivative(alpha_B_rem, i)\n",
    "        \n",
    "        dalpha = gamma * dSdalpha\n",
    "        alpha_B_rem[i] = alpha_B_rem[i] + dalpha\n",
    "        \n",
    "        S = tmpd.calculate_functional(alpha_B_rem)\n",
    "        \n",
    "        dS_rel = abs((S - S_old)/S)\n",
    "        S_old = S\n",
    "        \n",
    "        \n",
    "        it_count = it_count + 1\n",
    "        \n",
    "        max_iter_reached = it_count >= max_iter\n",
    "        converged = dS_rel < tol\n",
    "        \n",
    "        if converged or max_iter_reached:\n",
    "            break\n",
    "            \n",
    "    print(\"alpha[%d] = %.2f, S = %.7f\" %(i, alpha_B_rem[i],S))\n"
   ]
  },
  {
   "cell_type": "markdown",
   "metadata": {
    "collapsed": false
   },
   "source": [
    "Checking optimality conditions:"
   ]
  },
  {
   "cell_type": "code",
   "execution_count": null,
   "metadata": {
    "collapsed": false
   },
   "outputs": [],
   "source": [
    "grad_alpha_optimal = tmpd.calculate_functional_gradient(alpha_B_rem)\n",
    "print(grad_alpha_optimal)"
   ]
  },
  {
   "cell_type": "code",
   "execution_count": null,
   "metadata": {
    "collapsed": false
   },
   "outputs": [],
   "source": [
    "hessian_alpha_optimal = tmpd.calculate_functional_hessian(alpha_B_rem)\n",
    "print(np.linalg.eigvals(hessian_alpha_optimal))\n"
   ]
  },
  {
   "cell_type": "markdown",
   "metadata": {},
   "source": [
    "We can see that the calculated point is far from optimal, because it is not a stationary point (its gradient is not null) and the hessian matrix is indefinite."
   ]
  },
  {
   "cell_type": "markdown",
   "metadata": {},
   "source": [
    "To compare, we plot the magnetic profiles before and after the optimization:"
   ]
  },
  {
   "cell_type": "code",
   "execution_count": null,
   "metadata": {
    "collapsed": false
   },
   "outputs": [],
   "source": [
    "%matplotlib inline\n",
    "plt.rc('font',size=FONTSIZE)\n",
    "\n",
    "profile_fig = plt.figure(figsize=(FIGSIZE_INCHES,FIGSIZE_INCHES))\n",
    "profile_axes = profile_fig.add_subplot(111)\n",
    "\n",
    "\n",
    "teslamax_playground = 'C:\\\\Users\\\\fabiofortkamp\\\\code\\\\TeslaMax\\\\teslamax-play'\n",
    "tmpd_reference = TeslaMaxPreDesign(params_optimization)\n",
    "\n",
    "tmm_reference = TeslaMaxModel(tmpd_reference,alpha_B_rem_0,\n",
    "                   path=teslamax_playground)\n",
    "tmm_reference.run()\n",
    "phi_vector, B_vector = tmm_reference.get_profile_data().T\n",
    "\n",
    "profile_axes.plot(phi_vector,B_vector)\n",
    "profile_axes.set_xlim(0,np.max(phi_vector))\n",
    "profile_axes.set_xticks(np.linspace(0,np.max(phi_vector),9))\n",
    "profile_axes.xaxis.grid(True)\n",
    "profile_axes.set_xlabel(r'$\\phi [\\si{\\degree}]$')\n",
    "profile_axes.set_ylabel(r'$B [\\si{\\tesla}]$')\n",
    "\n",
    "B_inst_vector = teslamax.calculate_instantaneous_profile(phi_vector,teslamax.TARGET_PROFILE)\n",
    "profile_axes.plot(phi_vector,B_inst_vector)"
   ]
  },
  {
   "cell_type": "code",
   "execution_count": null,
   "metadata": {
    "collapsed": false
   },
   "outputs": [],
   "source": [
    "teslamax.calculate_average_high_field(tmm_reference.get_profile_data())"
   ]
  },
  {
   "cell_type": "code",
   "execution_count": null,
   "metadata": {
    "collapsed": false
   },
   "outputs": [],
   "source": [
    "%matplotlib inline\n",
    "plt.rc('font',size=FONTSIZE)\n",
    "\n",
    "profile_fig = plt.figure(figsize=(FIGSIZE_INCHES,FIGSIZE_INCHES))\n",
    "profile_axes = profile_fig.add_subplot(111)\n",
    "\n",
    "\n",
    "teslamax_playground = 'C:\\\\Users\\\\fabiofortkamp\\\\code\\\\TeslaMax\\\\teslamax-play'\n",
    "\n",
    "tmm_optimized = TeslaMaxModel(tmpd_reference,alpha_B_rem,\n",
    "                   path=teslamax_playground)\n",
    "tmm_optimized.run()\n",
    "phi_vector, B_vector = tmm_optimized.get_profile_data().T\n",
    "\n",
    "profile_axes.plot(phi_vector,B_vector)\n",
    "profile_axes.set_xlim(0,np.max(phi_vector))\n",
    "profile_axes.set_xticks(np.linspace(0,np.max(phi_vector),9))\n",
    "profile_axes.xaxis.grid(True)\n",
    "profile_axes.set_xlabel(r'$\\phi [\\si{\\degree}]$')\n",
    "profile_axes.set_ylabel(r'$B [\\si{\\tesla}]$')\n",
    "\n",
    "B_inst_vector = teslamax.calculate_instantaneous_profile(phi_vector,teslamax.TARGET_PROFILE)\n",
    "profile_axes.plot(phi_vector,B_inst_vector)"
   ]
  },
  {
   "cell_type": "code",
   "execution_count": null,
   "metadata": {
    "collapsed": false
   },
   "outputs": [],
   "source": [
    "teslamax.calculate_average_high_field(tmm_optimized.get_profile_data())"
   ]
  },
  {
   "cell_type": "markdown",
   "metadata": {},
   "source": [
    "## Optimization using Scipy"
   ]
  },
  {
   "cell_type": "code",
   "execution_count": 66,
   "metadata": {
    "collapsed": true
   },
   "outputs": [],
   "source": [
    "params_optimization = {\"R_i\": 0.015,\n",
    "                \"R_o\": 0.060,\n",
    "                \"h_gap\": 0.025,\n",
    "                \"R_s\": 0.150,\n",
    "                \"h_fc\": 0.010,\n",
    "                \"R_e\": 2,\n",
    "                \"n_IV\": 3,\n",
    "                \"phi_S_IV\": 45,\n",
    "                \"n_II\": 3,\n",
    "                \"phi_C_II\": 15,\n",
    "                \"phi_S_II\": 45,\n",
    "                \"B_rem_II_1\": 1.4,\n",
    "                \"B_rem_II_2\": 1.4,\n",
    "                \"B_rem_II_3\": 1.4,\n",
    "                \"mu_r_II\": 1.05,\n",
    "                \"B_rem_IV_1\": 1.4,\n",
    "                \"B_rem_IV_2\": 1.4,\n",
    "                \"B_rem_IV_3\": 1.4,\n",
    "                \"mu_r_IV\": 1.05,\n",
    "              \"linear_iron\": 1,\n",
    "              \"mu_r_iron\": 5e3,\n",
    "             }\n",
    "alpha_B_rem_0 = [15,30,45,15,45,135]\n",
    "\n",
    "n = len(alpha_B_rem_0)\n",
    "\n",
    "tmpd = TeslaMaxPreDesign(params_optimization)"
   ]
  },
  {
   "cell_type": "code",
   "execution_count": 67,
   "metadata": {
    "collapsed": false
   },
   "outputs": [],
   "source": [
    "def calculate_ramp_profile(phi, B_high, B_low, field_fraction):\n",
    "    \"\"\"\n",
    "    Calculate the value of the two-pole instantaneous magnetic profile at\n",
    "    angular position 'phi' (in degrees), where the profile oscillates from\n",
    "    'B_low' to 'B_high' in a trapezoidal wave, with a duty cycle of \n",
    "    'field_fraction'\n",
    "    \n",
    "    \"\"\"\n",
    "    \n",
    "    # for two poles, we can replicate the results from 0 to 180\n",
    "    phi = np.mod(phi,180)\n",
    "    \n",
    "    angle_change = field_fraction * 45\n",
    "            \n",
    "    high_region = (phi < angle_change)\n",
    "    high_region = np.logical_or(high_region,(phi > (180 -angle_change )))\n",
    "    \n",
    "    descent_region = np.logical_and((phi >= angle_change ),(phi <= 90 - angle_change))\n",
    "    \n",
    "    ascent_region = np.logical_and((phi >= 90+angle_change ),(phi <= 180 - angle_change))\n",
    "\n",
    "                 \n",
    "    return np.where(high_region,\n",
    "                    B_high,\n",
    "                   np.where(descent_region,\n",
    "                           B_high + (B_low-B_high)*(phi-angle_change)/((1-field_fraction)*90),\n",
    "                           np.where(ascent_region,\n",
    "                                   B_low + (B_high-B_low)*(phi-(90+angle_change))/((1-field_fraction)*90),\n",
    "                                   B_low)))"
   ]
  },
  {
   "cell_type": "code",
   "execution_count": 92,
   "metadata": {
    "collapsed": false
   },
   "outputs": [
    {
     "name": "stdout",
     "output_type": "stream",
     "text": [
      "Wall time: 20.2 s\n"
     ]
    }
   ],
   "source": [
    "%%time \n",
    "\n",
    "\n",
    "target_function = calculate_ramp_profile\n",
    "\n",
    "B_high = 1.3\n",
    "B_low = 0.0\n",
    "field_fraction = 0.8\n",
    "target_args = (B_high,B_low,field_fraction)\n",
    "\n",
    "functional_args = (target_function,target_args)\n",
    "\n",
    "\n",
    "objfun = tmpd.calculate_functional\n",
    "\n",
    "bounds = [(0.0,360.0) for i in range(0,n)]\n",
    "\n",
    "# the subscript _g in the following variable names stands for 'gradient-based' optimization methods\n",
    "optres_g = minimize(objfun, \n",
    "                    alpha_B_rem_0, \n",
    "                    args=(functional_args,), \n",
    "                    bounds=bounds,\n",
    "                    options={'disp': True})"
   ]
  },
  {
   "cell_type": "code",
   "execution_count": 93,
   "metadata": {
    "collapsed": false,
    "scrolled": true
   },
   "outputs": [
    {
     "name": "stdout",
     "output_type": "stream",
     "text": [
      "[  8.63825678  25.36281609   0.           7.5995476   31.83041175\n",
      "  88.88828774]\n"
     ]
    }
   ],
   "source": [
    "alpha_B_rem_g = optres_g.x\n",
    "print(alpha_B_rem_g)"
   ]
  },
  {
   "cell_type": "code",
   "execution_count": 94,
   "metadata": {
    "collapsed": false,
    "scrolled": true
   },
   "outputs": [
    {
     "data": {
      "image/png": "[encoded data removed]",
      "text/plain": [
       "<matplotlib.figure.Figure at 0x1a89a9b1550>"
      ]
     },
     "metadata": {},
     "output_type": "display_data"
    }
   ],
   "source": [
    "%matplotlib inline\n",
    "plt.rc('font',size=FONTSIZE)\n",
    "\n",
    "profile_fig_g = plt.figure(figsize=(FIGSIZE_INCHES,FIGSIZE_INCHES))\n",
    "profile_axes_g = profile_fig_g.add_subplot(111)\n",
    "\n",
    "teslamax_playground = str(Path.home() / \"code\" / \"TeslaMax\" / \"teslamax-play\" )\n",
    "\n",
    "tmm_g = TeslaMaxModel(tmpd,\n",
    "                      alpha_B_rem_g,\n",
    "                      path=teslamax_playground)\n",
    "tmm_g.run()\n",
    "phi_vector_g, B_vector_g = tmm_g.get_profile_data().T\n",
    "\n",
    "profile_axes_g.plot(phi_vector_g,B_vector_g)\n",
    "profile_axes_g.set_xlim(0,np.max(phi_vector_g))\n",
    "profile_axes_g.set_xticks(np.linspace(0,np.max(phi_vector_g),9))\n",
    "profile_axes_g.xaxis.grid(True)\n",
    "profile_axes_g.set_xlabel(r'$\\phi [\\si{\\degree}]$')\n",
    "profile_axes_g.set_ylabel(r'$B [\\si{\\tesla}]$')\n",
    "\n",
    "B_inst_vector = calculate_ramp_profile(phi_vector_g,B_high,B_low,field_fraction)\n",
    "profile_axes_g.plot(phi_vector_g,B_inst_vector)\n",
    "\n",
    "save_figure(profile_fig_g,\"profile_optimized_ramp_%d\" %(B_high*10))"
   ]
  },
  {
   "cell_type": "code",
   "execution_count": 95,
   "metadata": {
    "collapsed": false
   },
   "outputs": [
    {
     "data": {
      "text/plain": [
       "1.1077785555555555"
      ]
     },
     "execution_count": 95,
     "metadata": {},
     "output_type": "execute_result"
    }
   ],
   "source": [
    "teslamax.calculate_average_high_field(tmm_g.get_profile_data())"
   ]
  },
  {
   "cell_type": "code",
   "execution_count": 96,
   "metadata": {
    "collapsed": false
   },
   "outputs": [
    {
     "data": {
      "text/plain": [
       "array([ -1.00408570e-06,  -8.33555447e-07,   1.59443450e-02,\n",
       "         2.12407869e-06,   2.86304314e-06,   1.30784272e-06])"
      ]
     },
     "execution_count": 96,
     "metadata": {},
     "output_type": "execute_result"
    }
   ],
   "source": [
    "tmpd.calculate_functional_gradient(alpha_B_rem_g,functional_args)"
   ]
  },
  {
   "cell_type": "code",
   "execution_count": 97,
   "metadata": {
    "collapsed": false
   },
   "outputs": [
    {
     "data": {
      "text/plain": [
       "array([ 0.01254408, -0.00072505,  0.00099284,  0.00747118,  0.00347971,\n",
       "        0.00554714])"
      ]
     },
     "execution_count": 97,
     "metadata": {},
     "output_type": "execute_result"
    }
   ],
   "source": [
    "np.linalg.eigvals(tmpd.calculate_functional_hessian(alpha_B_rem_g,functional_args))"
   ]
  },
  {
   "cell_type": "markdown",
   "metadata": {
    "collapsed": true
   },
   "source": [
    "## Optimization using evolutionary algorithms"
   ]
  },
  {
   "cell_type": "code",
   "execution_count": null,
   "metadata": {
    "collapsed": true
   },
   "outputs": [],
   "source": [
    "from scipy.optimize import differential_evolution, basinhopping"
   ]
  },
  {
   "cell_type": "code",
   "execution_count": null,
   "metadata": {
    "collapsed": true
   },
   "outputs": [],
   "source": [
    "params_optimization = {\"R_i\": 0.015,\n",
    "                \"R_o\": 0.070,\n",
    "                \"h_gap\": 0.020,\n",
    "                \"R_s\": 0.140,\n",
    "                \"h_fc\": 0.010,\n",
    "                \"R_e\": 2,\n",
    "                \"n_IV\": 3,\n",
    "                \"phi_S_IV\": 45,\n",
    "                \"n_II\": 3,\n",
    "                \"phi_C_II\": 15,\n",
    "                \"phi_S_II\": 45,\n",
    "                \"B_rem_II_1\": 1.4,\n",
    "                \"B_rem_II_2\": 1.4,\n",
    "                \"B_rem_II_3\": 1.4,\n",
    "                \"mu_r_II\": 1.05,\n",
    "                \"B_rem_IV_1\": 1.4,\n",
    "                \"B_rem_IV_2\": 1.4,\n",
    "                \"B_rem_IV_3\": 1.4,\n",
    "                \"mu_r_IV\": 1.05,\n",
    "              \"linear_iron\": 1,\n",
    "              \"mu_r_iron\": 5e3,\n",
    "             }\n",
    "alpha_B_rem_0 = [15,30,45,15,45,135]\n",
    "\n",
    "n = len(alpha_B_rem_0)\n",
    "\n",
    "tmpd = TeslaMaxPreDesign(params_optimization)"
   ]
  },
  {
   "cell_type": "code",
   "execution_count": null,
   "metadata": {
    "collapsed": false
   },
   "outputs": [],
   "source": [
    "%%time \n",
    "## all this methods from the TeslaMaxPreDesign class accept as only arguments the design vector (with remanence angles)\n",
    "\n",
    "objective_function = tmpd.calculate_functional\n",
    "\n",
    "bounds = [(0.0, 360.0) for i in range(0,n)]\n",
    "\n",
    "res = differential_evolution(objective_function,bounds,disp=True)"
   ]
  },
  {
   "cell_type": "code",
   "execution_count": null,
   "metadata": {
    "collapsed": false
   },
   "outputs": [],
   "source": [
    "res.x"
   ]
  },
  {
   "cell_type": "code",
   "execution_count": null,
   "metadata": {
    "collapsed": false
   },
   "outputs": [],
   "source": [
    "%matplotlib inline\n",
    "plt.rc('font',size=FONTSIZE)\n",
    "\n",
    "profile_fig = plt.figure(figsize=(FIGSIZE_INCHES,FIGSIZE_INCHES))\n",
    "profile_axes = profile_fig.add_subplot(111)\n",
    "\n",
    "\n",
    "teslamax_playground = 'C:\\\\Users\\\\fabiofortkamp\\\\code\\\\TeslaMax\\\\teslamax-play'\n",
    "\n",
    "tmm_optimized = TeslaMaxModel(tmpd,res.x,\n",
    "                   path=teslamax_playground)\n",
    "tmm_optimized.run()\n",
    "phi_vector, B_vector = tmm_optimized.get_profile_data().T\n",
    "\n",
    "profile_axes.plot(phi_vector,B_vector)\n",
    "profile_axes.set_xlim(0,np.max(phi_vector))\n",
    "profile_axes.set_xticks(np.linspace(0,np.max(phi_vector),9))\n",
    "profile_axes.xaxis.grid(True)\n",
    "profile_axes.set_xlabel(r'$\\phi [\\si{\\degree}]$')\n",
    "profile_axes.set_ylabel(r'$B [\\si{\\tesla}]$')\n",
    "\n",
    "B_inst_vector = teslamax.calculate_instantaneous_profile(phi_vector,teslamax.TARGET_PROFILE)\n",
    "profile_axes.plot(phi_vector,B_inst_vector)\n",
    "\n",
    "save_figure(profile_fig,\"profile_optimized_genetic_B_13\")"
   ]
  },
  {
   "cell_type": "code",
   "execution_count": null,
   "metadata": {
    "collapsed": false
   },
   "outputs": [],
   "source": [
    "teslamax.calculate_average_high_field(tmm_optimized.get_profile_data())"
   ]
  },
  {
   "cell_type": "code",
   "execution_count": null,
   "metadata": {
    "collapsed": false
   },
   "outputs": [],
   "source": [
    "tmpd.calculate_functional_gradient(res.x)"
   ]
  },
  {
   "cell_type": "code",
   "execution_count": null,
   "metadata": {
    "collapsed": false
   },
   "outputs": [],
   "source": [
    "np.linalg.eigvals(tmpd.calculate_functional_hessian(res.x))"
   ]
  },
  {
   "cell_type": "code",
   "execution_count": null,
   "metadata": {
    "collapsed": true
   },
   "outputs": [],
   "source": []
  }
 ],
 "metadata": {
  "anaconda-cloud": {},
  "kernelspec": {
   "display_name": "Python 3",
   "language": "python",
   "name": "python3"
  },
  "language_info": {
   "codemirror_mode": {
    "name": "ipython",
    "version": 3
   },
   "file_extension": ".py",
   "mimetype": "text/x-python",
   "name": "python",
   "nbconvert_exporter": "python",
   "pygments_lexer": "ipython3",
   "version": "3.6.0"
  }
 },
 "nbformat": 4,
 "nbformat_minor": 1
}
