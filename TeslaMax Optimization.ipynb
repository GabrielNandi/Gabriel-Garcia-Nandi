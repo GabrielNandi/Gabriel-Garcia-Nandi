{
 "cells": [
  {
   "cell_type": "markdown",
   "metadata": {},
   "source": [
    "$$\n",
    "\\newcommand{\\ped}[1]{_{\\mathrm{#1}}}\n",
    "\\newcommand{\\ap}[1]{^{\\mathrm{#1}}}\n",
    "\\newcommand{\\nvector}[1]{\\mathbf{#1}}\n",
    "\\newcommand{\\nmatrix}[1]{\\mathit{#1}}\n",
    "\\newcommand{\\unitvector}[1]{\\hat{\\nvector{e}}_{#1}}\n",
    "\\newcommand{\\volume}{\\mathcal{V}}\n",
    "\\newcommand{\\average}[1]{\\overline{#1}}\n",
    "\\newcommand{\\rate}[1]{\\dot{#1}}\n",
    "\\newcommand{\\flux}[1]{{#1}''}\n",
    "\\newcommand{\\curl}[1]{\\nabla\\times {#1}}\n",
    "\\newcommand{\\curlv}[1]{\\curl{\\nvector{#1}}}\n",
    "\\newcommand{\\divergent}[1]{\\nabla \\cdot #1}\n",
    "\\newcommand{\\divergentv}[1]{\\divergent{\\nvector{#1}}}\n",
    "\\newcommand{\\divergentpar}[1]{\\divergent{\\left( #1 \\right)}}\n",
    "\\newcommand{\\gradient}[1]{\\nabla {#1}}\n",
    "\\newcommand{\\gradientpar}[1]{\\gradient{\\left( {#1} \\right)}}\n",
    "\\newcommand{\\laplacian}[1]{\\nabla^2 #1}\n",
    "\\newcommand{\\laplacianpar}[1]{\\laplacian{\\left( #1 \\right)}}\n",
    "\\newcommand{\\vectornorm}[1]{\\left\\lVert #1 \\right\\rVert}\n",
    "\\newcommand{\\diffp}[2]{\\frac{\\partial {#1}}{\\partial {#2}}}\n",
    "\\newcommand{\\diffps}[2]{\\frac{\\partial^2 {#1}}{\\partial {#2}^2}}\n",
    "\\newcommand{\\rvec}{\\nvector{r}}\n",
    "\\newcommand{\\nvh}{\\nvector{H}}\n",
    "\\newcommand{\\nvb}{\\nvector{B}}\n",
    "\\newcommand{\\nvrem}{\\nvector{B}\\ped{rem}}\n",
    "\\newcommand{\\nvbrem}{\\nvrem}\n",
    "\\newcommand{\\nvm}{\\nvector{M}}\n",
    "\\newcommand{\\mur}{\\mu\\ped{r}}\n",
    "\\newcommand{\\nvbremhat}{\\hat{\\nvector{B}}\\ped{rem}}\n",
    "\\newcommand{\\acoef}[2]{a_{{#1},\\mathrm{#2}}}\n",
    "\\newcommand{\\bcoef}[2]{b_{{#1},\\mathrm{#2}}}\n",
    "\\newcommand{\\Azexpr}[1]{A_{\\mathrm{#1}\\, z}}\n",
    "\\newcommand{\\bremii}{B_{\\mathrm{rem,II}}}\n",
    "\\newcommand{\\bremiv}{B_{\\mathrm{rem,IV}}}\n",
    "\\newcommand{\\aIII}{\\acoef{1}{III}}\n",
    "\\newcommand{\\bIII}{\\bcoef{1}{III}}\n",
    "\\newcommand{\\nvbIII}{\\nvector{B}\\ped{III}}\n",
    "\\newcommand{\\BIII}{B\\ped{III}}\n",
    "\\newcommand{\\diffd}[1]{\\mathrm{d}\\,{#1}}\n",
    "$$"
   ]
  },
  {
   "cell_type": "markdown",
   "metadata": {},
   "source": [
    "# TeslaMax Optimization"
   ]
  },
  {
   "cell_type": "markdown",
   "metadata": {},
   "source": [
    "Teslamax model:\n",
    "\n",
    "<img src=\"figures/teslamax.png\" width=500>"
   ]
  },
  {
   "cell_type": "markdown",
   "metadata": {},
   "source": [
    "We are intererested in finding the optimal set of remanence angles $\\alpha_{\\mathrm{rem},m,k}$ that will maximize some metric in the air gap."
   ]
  },
  {
   "cell_type": "code",
   "execution_count": 1,
   "metadata": {
    "collapsed": false
   },
   "outputs": [],
   "source": [
    "from pathlib import Path\n",
    "import os\n",
    "import matplotlib\n",
    "import matplotlib.pyplot as plt\n",
    "import numpy as np\n",
    "from scipy.optimize import minimize, differential_evolution, basinhopping\n",
    "import teslamax\n",
    "from teslamax import TeslaMaxGeometry, TeslaMaxPreDesign, TeslaMaxModel\n",
    "\n",
    "\n",
    "\n",
    "mpl_params = {'text.usetex': True,\n",
    "              'font.family': 'serif',\n",
    "              'font.serif': 'Computer Modern',\n",
    "              'text.latex.preamble': [r'\\usepackage{engsymbols}',\n",
    "                                      r'\\usepackage{magref}',\n",
    "                                      r'\\usepackage{siunitx}']}\n",
    "matplotlib.rcParams.update(mpl_params)"
   ]
  },
  {
   "cell_type": "code",
   "execution_count": 2,
   "metadata": {
    "collapsed": true
   },
   "outputs": [],
   "source": [
    "FIGSIZE_CM = 20\n",
    "FIGSIZE_INCHES = FIGSIZE_CM / 2.54\n",
    "\n",
    "FONTSIZE = 20\n",
    "\n",
    "\n",
    "\n",
    "PAPER_FILE_PATH = Path('.')\n",
    "FIGURES_DIR_NAME = \"figures\"\n",
    "FIG_FILE_PATH = PAPER_FILE_PATH / Path(FIGURES_DIR_NAME)\n",
    "\n",
    "\n",
    "PLOT_EXTENSION = \".png\"\n",
    "\n",
    "DPI = 800"
   ]
  },
  {
   "cell_type": "code",
   "execution_count": 3,
   "metadata": {
    "collapsed": false
   },
   "outputs": [],
   "source": [
    "os.chdir('C:\\\\Users\\\\fabiofortkamp\\\\code\\\\TeslaMax\\\\')"
   ]
  },
  {
   "cell_type": "code",
   "execution_count": 4,
   "metadata": {
    "collapsed": false
   },
   "outputs": [
    {
     "data": {
      "text/plain": [
       "'C:\\\\Users\\\\fabiofortkamp\\\\code\\\\TeslaMax'"
      ]
     },
     "execution_count": 4,
     "metadata": {},
     "output_type": "execute_result"
    }
   ],
   "source": [
    "os.getcwd()"
   ]
  },
  {
   "cell_type": "code",
   "execution_count": 5,
   "metadata": {
    "collapsed": false,
    "scrolled": false
   },
   "outputs": [
    {
     "data": {
      "text/plain": [
       "<module 'teslamax' from 'C:\\\\Users\\\\fabiofortkamp\\\\code\\\\TeslaMax\\\\teslamax\\\\__init__.py'>"
      ]
     },
     "execution_count": 5,
     "metadata": {},
     "output_type": "execute_result"
    }
   ],
   "source": [
    "import importlib\n",
    "importlib.reload(teslamax)"
   ]
  },
  {
   "cell_type": "code",
   "execution_count": 6,
   "metadata": {
    "collapsed": true
   },
   "outputs": [],
   "source": [
    "def save_figure(fig,name):\n",
    "    \"\"\"\n",
    "    Save the 'fig' Figure object as 'name' (with extension PLOT_EXTENSION), inside FIG_FILE_PATH,\n",
    "    and close the figure\"\"\"\n",
    "    \n",
    "    \n",
    "    file_path = str(FIG_FILE_PATH / (name + PLOT_EXTENSION))\n",
    "    fig.savefig(file_path,dpi=DPI,bbox_inches='tight')"
   ]
  },
  {
   "cell_type": "markdown",
   "metadata": {
    "collapsed": true
   },
   "source": [
    "## Parameters"
   ]
  },
  {
   "cell_type": "markdown",
   "metadata": {},
   "source": [
    "This is reference set of parameters that we use to test the optimization procedures:"
   ]
  },
  {
   "cell_type": "code",
   "execution_count": 6,
   "metadata": {
    "collapsed": false
   },
   "outputs": [],
   "source": [
    "params_optimization = {\"R_i\": 0.015,\n",
    "                \"R_o\": 0.070,\n",
    "                \"h_gap\": 0.020,\n",
    "                \"R_s\": 0.140,\n",
    "                \"h_fc\": 0.010,\n",
    "                \"R_e\": 2,\n",
    "                \"n_IV\": 3,\n",
    "                \"phi_S_IV\": 45,\n",
    "                \"n_II\": 3,\n",
    "                \"phi_C_II\": 15,\n",
    "                \"phi_S_II\": 45,\n",
    "                \"B_rem_II_1\": 1.4,\n",
    "                \"B_rem_II_2\": 1.4,\n",
    "                \"B_rem_II_3\": 1.4,\n",
    "                \"mu_r_II\": 1.05,\n",
    "                \"B_rem_IV_1\": 1.4,\n",
    "                \"B_rem_IV_2\": 1.4,\n",
    "                \"B_rem_IV_3\": 1.4,\n",
    "                \"mu_r_IV\": 1.05,\n",
    "              \"linear_iron\": 1,\n",
    "              \"mu_r_iron\": 5e3,\n",
    "             }\n",
    "\n",
    "alpha_B_rem_0 = [15,30,45,15,45,135]\n"
   ]
  },
  {
   "cell_type": "markdown",
   "metadata": {},
   "source": [
    "## Principle of superposition and the contribution of each segment"
   ]
  },
  {
   "cell_type": "markdown",
   "metadata": {},
   "source": [
    "The code below calculate the individual contributions for each magnet block. For instance, the i-th element of the variable `F_II_x` is a list of points in the form $(B_x, B_y)$, calculated in a mesh in the air gap, where only the i-th segment in magnet II has a non-null remanence, with magnitude included in the above dictionary and oriented in the $x$ direction."
   ]
  },
  {
   "cell_type": "markdown",
   "metadata": {},
   "source": [
    "This code generates a \"mesh\" in the upper half-circle (corresponding to the model that is actually simulated by COMSOL), and calculate the $F$-operators in this mesh"
   ]
  },
  {
   "cell_type": "code",
   "execution_count": 7,
   "metadata": {
    "collapsed": false
   },
   "outputs": [
    {
     "name": "stdout",
     "output_type": "stream",
     "text": [
      "Exception reporting mode: Verbose\n"
     ]
    }
   ],
   "source": [
    "%xmode verbose\n",
    "\n",
    "tmpd = TeslaMaxPreDesign(params_optimization)\n",
    "\n",
    "F_II_x, F_II_y, F_IV_x, F_IV_y = tmpd.get_F_operators()"
   ]
  },
  {
   "cell_type": "markdown",
   "metadata": {},
   "source": [
    "Each of of the $F$-operators is a list of points, corresponding to the vector $\\nvb$ that calculated at `points_air_gap`:"
   ]
  },
  {
   "cell_type": "code",
   "execution_count": 8,
   "metadata": {
    "collapsed": false
   },
   "outputs": [
    {
     "data": {
      "text/plain": [
       "array([[  5.62015350e-01,   1.05083467e-03],\n",
       "       [  5.60893057e-01,   5.05093507e-03],\n",
       "       [  5.59796749e-01,   9.25624858e-03],\n",
       "       ..., \n",
       "       [  5.55450311e-01,   3.03997685e-03],\n",
       "       [  5.55149676e-01,   1.46620799e-03],\n",
       "       [  5.54868870e-01,  -1.24096240e-04]])"
      ]
     },
     "execution_count": 8,
     "metadata": {},
     "output_type": "execute_result"
    }
   ],
   "source": [
    "F_IV_x[0]"
   ]
  },
  {
   "cell_type": "markdown",
   "metadata": {},
   "source": [
    "## Calculating the functional"
   ]
  },
  {
   "cell_type": "markdown",
   "metadata": {},
   "source": [
    "The basic computational implementation of optimization algorithms require evaluate an *objective functional*. In this formulation, the main optimization variables are the angles, which are always represented by the vector `alpha_B_rem`. Notice that, in order to efficiently calculate the functional, we have to pass the lists of $F$-operators that we calculated previously, the points where these operators are calculated, and the dictionary of parameters."
   ]
  },
  {
   "cell_type": "markdown",
   "metadata": {},
   "source": [
    "Our goal is to build an instantaneous profile. This function calculates it:"
   ]
  },
  {
   "cell_type": "code",
   "execution_count": 9,
   "metadata": {
    "collapsed": false
   },
   "outputs": [
    {
     "data": {
      "text/plain": [
       "<matplotlib.text.Text at 0x265b0eb7320>"
      ]
     },
     "execution_count": 9,
     "metadata": {},
     "output_type": "execute_result"
    },
    {
     "data": {
      "image/png": "[encoded data removed]",
      "text/plain": [
       "<matplotlib.figure.Figure at 0x265af6256d8>"
      ]
     },
     "metadata": {},
     "output_type": "display_data"
    }
   ],
   "source": [
    "%matplotlib inline\n",
    "plt.rc('font',size=FONTSIZE)\n",
    "\n",
    "profile_fig = plt.figure(figsize=(FIGSIZE_INCHES,FIGSIZE_INCHES))\n",
    "profile_axes = profile_fig.add_subplot(111)\n",
    "\n",
    "phi_inst_vector = np.linspace(0,360)\n",
    "B_inst_vector = teslamax.calculate_instantaneous_profile(phi_inst_vector,1.0)\n",
    "\n",
    "\n",
    "profile_axes.plot(phi_inst_vector,B_inst_vector)\n",
    "profile_axes.set_xlim(0,np.max(phi_inst_vector))\n",
    "profile_axes.set_xticks(np.linspace(0,np.max(phi_inst_vector),9))\n",
    "profile_axes.xaxis.grid(True)\n",
    "profile_axes.set_xlabel(r'$\\phi [\\si{\\degree}]$')\n",
    "profile_axes.set_ylabel(r'$B [\\si{\\tesla}]$')\n",
    "\n",
    "\n"
   ]
  },
  {
   "cell_type": "markdown",
   "metadata": {},
   "source": [
    "An example of calculation:"
   ]
  },
  {
   "cell_type": "code",
   "execution_count": 10,
   "metadata": {
    "collapsed": false
   },
   "outputs": [
    {
     "name": "stdout",
     "output_type": "stream",
     "text": [
      "20.9162029699\n"
     ]
    }
   ],
   "source": [
    "S_0 = tmpd.calculate_functional(alpha_B_rem_0)\n",
    "print(S_0)"
   ]
  },
  {
   "cell_type": "markdown",
   "metadata": {},
   "source": [
    "Another piece of optimization algorithm is a function to calculate the derivative of the funcional:"
   ]
  },
  {
   "cell_type": "code",
   "execution_count": 11,
   "metadata": {
    "collapsed": false
   },
   "outputs": [
    {
     "name": "stdout",
     "output_type": "stream",
     "text": [
      "0.068704295586\n"
     ]
    }
   ],
   "source": [
    "dS_0 = tmpd.calculate_functional_derivative(alpha_B_rem_0, 2)\n",
    "print(dS_0)"
   ]
  },
  {
   "cell_type": "markdown",
   "metadata": {},
   "source": [
    "### Gradients and hessian"
   ]
  },
  {
   "cell_type": "code",
   "execution_count": 12,
   "metadata": {
    "collapsed": false
   },
   "outputs": [
    {
     "name": "stdout",
     "output_type": "stream",
     "text": [
      "[-0.00617534 -0.05236675  0.0687043   0.08475899  0.18841937  0.37188602]\n"
     ]
    }
   ],
   "source": [
    "grad_K = tmpd.calculate_functional_gradient(alpha_B_rem_0)\n",
    "print(grad_K)"
   ]
  },
  {
   "cell_type": "code",
   "execution_count": 13,
   "metadata": {
    "collapsed": false
   },
   "outputs": [
    {
     "name": "stdout",
     "output_type": "stream",
     "text": [
      "[[ 0.00355271 -0.00355271  0.          0.00355271 -0.00710543  0.00355271]\n",
      " [-0.00355271  0.         -0.00355271 -0.00355271 -0.01065814  0.        ]\n",
      " [ 0.         -0.00355271  0.         -0.00355271 -0.00710543  0.        ]\n",
      " [ 0.00355271 -0.00355271 -0.00355271  0.00355271  0.          0.        ]\n",
      " [-0.00710543 -0.01065814 -0.00710543  0.         -0.00355271  0.        ]\n",
      " [ 0.00355271  0.          0.          0.          0.          0.01065814]]\n"
     ]
    }
   ],
   "source": [
    "hessian_K = tmpd.calculate_functional_hessian(alpha_B_rem_0)\n",
    "print(hessian_K)"
   ]
  },
  {
   "cell_type": "code",
   "execution_count": 14,
   "metadata": {
    "collapsed": false
   },
   "outputs": [
    {
     "data": {
      "text/plain": [
       "array([-0.01880774, -0.00281457,  0.00399163,  0.00751516,  0.01319103,\n",
       "        0.01113534])"
      ]
     },
     "execution_count": 14,
     "metadata": {},
     "output_type": "execute_result"
    }
   ],
   "source": [
    "np.linalg.eigvals(hessian_K)"
   ]
  },
  {
   "cell_type": "markdown",
   "metadata": {},
   "source": [
    "## Optimization algorithm"
   ]
  },
  {
   "cell_type": "markdown",
   "metadata": {},
   "source": [
    "This is a prototype of an implementation of the gradient descent algorithm from Insinga (2016):"
   ]
  },
  {
   "cell_type": "code",
   "execution_count": 16,
   "metadata": {
    "collapsed": false
   },
   "outputs": [
    {
     "name": "stdout",
     "output_type": "stream",
     "text": [
      "alpha[0] = 20.02, S = 0.0478426\n",
      "alpha[1] = 70.85, S = 0.0502304\n",
      "alpha[2] = 5.52, S = 0.0553456\n",
      "alpha[3] = 45.06, S = 0.0423122\n",
      "alpha[4] = 43.37, S = 0.0426643\n",
      "alpha[5] = 110.38, S = 0.0591668\n"
     ]
    }
   ],
   "source": [
    "params_optimization = {\"R_i\": 0.015,\n",
    "                \"R_o\": 0.060,\n",
    "                \"h_gap\": 0.030,\n",
    "                \"R_s\": 0.140,\n",
    "                \"h_fc\": 0.010,\n",
    "                \"R_e\": 2,\n",
    "                \"n_IV\": 3,\n",
    "                \"phi_S_IV\": 45,\n",
    "                \"n_II\": 3,\n",
    "                \"phi_C_II\": 15,\n",
    "                \"phi_S_II\": 45,\n",
    "                \"B_rem_II_1\": 1.4,\n",
    "                \"B_rem_II_2\": 1.4,\n",
    "                \"B_rem_II_3\": 1.4,\n",
    "                \"mu_r_II\": 1.05,\n",
    "                \"B_rem_IV_1\": 1.4,\n",
    "                \"B_rem_IV_2\": 1.4,\n",
    "                \"B_rem_IV_3\": 1.4,\n",
    "                \"mu_r_IV\": 1.05,\n",
    "              \"linear_iron\": 1,\n",
    "              \"mu_r_iron\": 5e3,\n",
    "             }\n",
    "alpha_B_rem_0 = [15,30,45,15,45,135]\n",
    "\n",
    "tmpd = TeslaMaxPreDesign(params_optimization)\n",
    "\n",
    "S_0 = tmpd.calculate_functional(alpha_B_rem_0)\n",
    "\n",
    "gamma = 1e5\n",
    "max_iter = 50\n",
    "tol = 1e-6\n",
    "\n",
    "i = 0\n",
    "alpha_B_rem = alpha_B_rem_0.copy()\n",
    "S_old = S_0\n",
    "\n",
    "for i in range(0,len(alpha_B_rem)):\n",
    "    \n",
    "    it_count = 0\n",
    "    \n",
    "    \n",
    "    while True:\n",
    "        \n",
    "        dSdalpha = tmpd.calculate_functional_derivative(alpha_B_rem, i)\n",
    "        \n",
    "        dalpha = gamma * dSdalpha\n",
    "        alpha_B_rem[i] = alpha_B_rem[i] + dalpha\n",
    "        \n",
    "        S = tmpd.calculate_functional(alpha_B_rem)\n",
    "        \n",
    "        dS_rel = abs((S - S_old)/S)\n",
    "        S_old = S\n",
    "        \n",
    "        \n",
    "        it_count = it_count + 1\n",
    "        \n",
    "        max_iter_reached = it_count >= max_iter\n",
    "        converged = dS_rel < tol\n",
    "        \n",
    "        if converged or max_iter_reached:\n",
    "            break\n",
    "            \n",
    "    print(\"alpha[%d] = %.2f, S = %.7f\" %(i, alpha_B_rem[i],S))\n"
   ]
  },
  {
   "cell_type": "markdown",
   "metadata": {
    "collapsed": false
   },
   "source": [
    "Checking optimality conditions:"
   ]
  },
  {
   "cell_type": "code",
   "execution_count": 17,
   "metadata": {
    "collapsed": false
   },
   "outputs": [
    {
     "name": "stdout",
     "output_type": "stream",
     "text": [
      "[  9.37093458e-06  -1.46938871e-04  -1.13317668e-04  -9.67260876e-04\n",
      "  -2.51124795e-04  -5.99582217e-04]\n"
     ]
    }
   ],
   "source": [
    "grad_alpha_optimal = tmpd.calculate_functional_gradient(alpha_B_rem)\n",
    "print(grad_alpha_optimal)"
   ]
  },
  {
   "cell_type": "code",
   "execution_count": 18,
   "metadata": {
    "collapsed": false
   },
   "outputs": [
    {
     "name": "stdout",
     "output_type": "stream",
     "text": [
      "[ -1.23422732e-04   5.02900917e-05   1.41384317e-05  -4.51537145e-05\n",
      "  -1.01347036e-05  -2.44952511e-05]\n"
     ]
    }
   ],
   "source": [
    "hessian_alpha_optimal = tmpd.calculate_functional_hessian(alpha_B_rem)\n",
    "print(np.linalg.eigvals(hessian_alpha_optimal))\n"
   ]
  },
  {
   "cell_type": "markdown",
   "metadata": {},
   "source": [
    "We can see that the calculated point is far from optimal, because it is not a stationary point (its gradient is not null) and the hessian matrix is indefinite."
   ]
  },
  {
   "cell_type": "markdown",
   "metadata": {},
   "source": [
    "To compare, we plot the magnetic profiles before and after the optimization:"
   ]
  },
  {
   "cell_type": "code",
   "execution_count": 15,
   "metadata": {
    "collapsed": false
   },
   "outputs": [
    {
     "data": {
      "text/plain": [
       "[<matplotlib.lines.Line2D at 0x23559dd8d30>]"
      ]
     },
     "execution_count": 15,
     "metadata": {},
     "output_type": "execute_result"
    },
    {
     "data": {
      "image/png": "[encoded data removed]",
      "text/plain": [
       "<matplotlib.figure.Figure at 0x23559ef0860>"
      ]
     },
     "metadata": {},
     "output_type": "display_data"
    }
   ],
   "source": [
    "%matplotlib inline\n",
    "plt.rc('font',size=FONTSIZE)\n",
    "\n",
    "profile_fig = plt.figure(figsize=(FIGSIZE_INCHES,FIGSIZE_INCHES))\n",
    "profile_axes = profile_fig.add_subplot(111)\n",
    "\n",
    "\n",
    "teslamax_playground = 'C:\\\\Users\\\\fabiofortkamp\\\\code\\\\TeslaMax\\\\teslamax-play'\n",
    "tmpd_reference = TeslaMaxPreDesign(params_optimization)\n",
    "\n",
    "tmm_reference = TeslaMaxModel(tmpd_reference,alpha_B_rem_0,\n",
    "                   path=teslamax_playground)\n",
    "tmm_reference.run()\n",
    "phi_vector, B_vector = tmm_reference.get_profile_data().T\n",
    "\n",
    "profile_axes.plot(phi_vector,B_vector)\n",
    "profile_axes.set_xlim(0,np.max(phi_vector))\n",
    "profile_axes.set_xticks(np.linspace(0,np.max(phi_vector),9))\n",
    "profile_axes.xaxis.grid(True)\n",
    "profile_axes.set_xlabel(r'$\\phi [\\si{\\degree}]$')\n",
    "profile_axes.set_ylabel(r'$B [\\si{\\tesla}]$')\n",
    "\n",
    "B_inst_vector = teslamax.calculate_instantaneous_profile(phi_vector,teslamax.TARGET_PROFILE)\n",
    "profile_axes.plot(phi_vector,B_inst_vector)"
   ]
  },
  {
   "cell_type": "code",
   "execution_count": 16,
   "metadata": {
    "collapsed": false
   },
   "outputs": [
    {
     "data": {
      "text/plain": [
       "0.94677600222222191"
      ]
     },
     "execution_count": 16,
     "metadata": {},
     "output_type": "execute_result"
    }
   ],
   "source": [
    "teslamax.calculate_average_high_field(tmm_reference.get_profile_data())"
   ]
  },
  {
   "cell_type": "code",
   "execution_count": 17,
   "metadata": {
    "collapsed": false
   },
   "outputs": [
    {
     "data": {
      "text/plain": [
       "[<matplotlib.lines.Line2D at 0x23559e8b390>]"
      ]
     },
     "execution_count": 17,
     "metadata": {},
     "output_type": "execute_result"
    },
    {
     "data": {
      "image/png": "[encoded data removed]",
      "text/plain": [
       "<matplotlib.figure.Figure at 0x23559ef07f0>"
      ]
     },
     "metadata": {},
     "output_type": "display_data"
    }
   ],
   "source": [
    "%matplotlib inline\n",
    "plt.rc('font',size=FONTSIZE)\n",
    "\n",
    "profile_fig = plt.figure(figsize=(FIGSIZE_INCHES,FIGSIZE_INCHES))\n",
    "profile_axes = profile_fig.add_subplot(111)\n",
    "\n",
    "\n",
    "teslamax_playground = 'C:\\\\Users\\\\fabiofortkamp\\\\code\\\\TeslaMax\\\\teslamax-play'\n",
    "\n",
    "tmm_optimized = TeslaMaxModel(tmpd_reference,alpha_B_rem,\n",
    "                   path=teslamax_playground)\n",
    "tmm_optimized.run()\n",
    "phi_vector, B_vector = tmm_optimized.get_profile_data().T\n",
    "\n",
    "profile_axes.plot(phi_vector,B_vector)\n",
    "profile_axes.set_xlim(0,np.max(phi_vector))\n",
    "profile_axes.set_xticks(np.linspace(0,np.max(phi_vector),9))\n",
    "profile_axes.xaxis.grid(True)\n",
    "profile_axes.set_xlabel(r'$\\phi [\\si{\\degree}]$')\n",
    "profile_axes.set_ylabel(r'$B [\\si{\\tesla}]$')\n",
    "\n",
    "B_inst_vector = teslamax.calculate_instantaneous_profile(phi_vector,teslamax.TARGET_PROFILE)\n",
    "profile_axes.plot(phi_vector,B_inst_vector)"
   ]
  },
  {
   "cell_type": "code",
   "execution_count": 18,
   "metadata": {
    "collapsed": false
   },
   "outputs": [
    {
     "data": {
      "text/plain": [
       "0.95324014444444427"
      ]
     },
     "execution_count": 18,
     "metadata": {},
     "output_type": "execute_result"
    }
   ],
   "source": [
    "teslamax.calculate_average_high_field(tmm_optimized.get_profile_data())"
   ]
  },
  {
   "cell_type": "markdown",
   "metadata": {},
   "source": [
    "## Optimization using Scipy"
   ]
  },
  {
   "cell_type": "code",
   "execution_count": 7,
   "metadata": {
    "collapsed": true
   },
   "outputs": [],
   "source": [
    "params_optimization = {\"R_i\": 0.015,\n",
    "                \"R_o\": 0.060,\n",
    "                \"h_gap\": 0.030,\n",
    "                \"R_s\": 0.140,\n",
    "                \"h_fc\": 0.010,\n",
    "                \"R_e\": 2,\n",
    "                \"n_IV\": 3,\n",
    "                \"phi_S_IV\": 45,\n",
    "                \"n_II\": 3,\n",
    "                \"phi_C_II\": 15,\n",
    "                \"phi_S_II\": 45,\n",
    "                \"B_rem_II_1\": 1.4,\n",
    "                \"B_rem_II_2\": 1.4,\n",
    "                \"B_rem_II_3\": 1.4,\n",
    "                \"mu_r_II\": 1.05,\n",
    "                \"B_rem_IV_1\": 1.4,\n",
    "                \"B_rem_IV_2\": 1.4,\n",
    "                \"B_rem_IV_3\": 1.4,\n",
    "                \"mu_r_IV\": 1.05,\n",
    "              \"linear_iron\": 1,\n",
    "              \"mu_r_iron\": 5e3,\n",
    "             }\n",
    "alpha_B_rem_0 = [15,30,45,15,45,135]\n",
    "\n",
    "n = len(alpha_B_rem_0)\n",
    "\n",
    "tmpd = TeslaMaxPreDesign(params_optimization)"
   ]
  },
  {
   "cell_type": "code",
   "execution_count": 8,
   "metadata": {
    "collapsed": false
   },
   "outputs": [
    {
     "name": "stdout",
     "output_type": "stream",
     "text": [
      "Optimization terminated successfully.\n",
      "         Current function value: 25.566692\n",
      "         Iterations: 54\n",
      "         Function evaluations: 464\n",
      "         Gradient evaluations: 58\n",
      "Wall time: 6min 59s\n"
     ]
    }
   ],
   "source": [
    "%%time \n",
    "## all this methods from the TeslaMaxPreDesign class accept as only arguments the design vector (with remanence angles)\n",
    "\n",
    "objective_function = tmpd.calculate_functional\n",
    "\n",
    "jac = tmpd.calculate_functional_gradient\n",
    "\n",
    "hess = tmpd.calculate_functional_hessian\n",
    "\n",
    "#bounds = [(0.0, 360.0) for i in range(0,n)]\n",
    "\n",
    "res = minimize(objective_function, alpha_B_rem_0, options={'disp': True})"
   ]
  },
  {
   "cell_type": "code",
   "execution_count": 9,
   "metadata": {
    "collapsed": false
   },
   "outputs": [
    {
     "data": {
      "text/plain": [
       "array([ -3.72561783,   4.89731892, -15.79428618,   8.21148059,\n",
       "        30.85165973,  87.03828477])"
      ]
     },
     "execution_count": 9,
     "metadata": {},
     "output_type": "execute_result"
    }
   ],
   "source": [
    "res.x"
   ]
  },
  {
   "cell_type": "code",
   "execution_count": 10,
   "metadata": {
    "collapsed": false
   },
   "outputs": [
    {
     "data": {
      "image/png": "[encoded data removed]",
      "text/plain": [
       "<matplotlib.figure.Figure at 0x2c7e7aa4b00>"
      ]
     },
     "metadata": {},
     "output_type": "display_data"
    }
   ],
   "source": [
    "%matplotlib inline\n",
    "plt.rc('font',size=FONTSIZE)\n",
    "\n",
    "profile_fig = plt.figure(figsize=(FIGSIZE_INCHES,FIGSIZE_INCHES))\n",
    "profile_axes = profile_fig.add_subplot(111)\n",
    "\n",
    "\n",
    "teslamax_playground = 'C:\\\\Users\\\\fabiofortkamp\\\\code\\\\TeslaMax\\\\teslamax-play'\n",
    "\n",
    "tmm_optimized = TeslaMaxModel(tmpd,res.x,\n",
    "                   path=teslamax_playground)\n",
    "tmm_optimized.run()\n",
    "phi_vector, B_vector = tmm_optimized.get_profile_data().T\n",
    "\n",
    "profile_axes.plot(phi_vector,B_vector)\n",
    "profile_axes.set_xlim(0,np.max(phi_vector))\n",
    "profile_axes.set_xticks(np.linspace(0,np.max(phi_vector),9))\n",
    "profile_axes.xaxis.grid(True)\n",
    "profile_axes.set_xlabel(r'$\\phi [\\si{\\degree}]$')\n",
    "profile_axes.set_ylabel(r'$B [\\si{\\tesla}]$')\n",
    "\n",
    "B_inst_vector = teslamax.calculate_instantaneous_profile(phi_vector,teslamax.TARGET_PROFILE)\n",
    "profile_axes.plot(phi_vector,B_inst_vector)\n",
    "\n",
    "save_figure(profile_fig,\"profile_optimized_B_13\")"
   ]
  },
  {
   "cell_type": "code",
   "execution_count": 11,
   "metadata": {
    "collapsed": false
   },
   "outputs": [
    {
     "data": {
      "text/plain": [
       "0.96900752999999973"
      ]
     },
     "execution_count": 11,
     "metadata": {},
     "output_type": "execute_result"
    }
   ],
   "source": [
    "teslamax.calculate_average_high_field(tmm_optimized.get_profile_data())"
   ]
  },
  {
   "cell_type": "code",
   "execution_count": 12,
   "metadata": {
    "collapsed": false
   },
   "outputs": [
    {
     "data": {
      "text/plain": [
       "array([ -1.41398004e-06,  -1.77635684e-07,   1.70530257e-07,\n",
       "        -2.94875235e-06,   1.48148160e-06,  -1.56319402e-07])"
      ]
     },
     "execution_count": 12,
     "metadata": {},
     "output_type": "execute_result"
    }
   ],
   "source": [
    "tmpd.calculate_functional_gradient(res.x)"
   ]
  },
  {
   "cell_type": "code",
   "execution_count": 13,
   "metadata": {
    "collapsed": false
   },
   "outputs": [
    {
     "data": {
      "text/plain": [
       "array([-0.01436918,  0.02501274, -0.00365984,  0.01439269,  0.00799387,\n",
       "        0.00260413])"
      ]
     },
     "execution_count": 13,
     "metadata": {},
     "output_type": "execute_result"
    }
   ],
   "source": [
    "np.linalg.eigvals(tmpd.calculate_functional_hessian(res.x))"
   ]
  },
  {
   "cell_type": "code",
   "execution_count": 14,
   "metadata": {
    "collapsed": false
   },
   "outputs": [
    {
     "data": {
      "text/plain": [
       "'C:\\\\Users\\\\fabiofortkamp\\\\code\\\\TeslaMax'"
      ]
     },
     "execution_count": 14,
     "metadata": {},
     "output_type": "execute_result"
    }
   ],
   "source": [
    "os.getcwd()"
   ]
  },
  {
   "cell_type": "markdown",
   "metadata": {
    "collapsed": true
   },
   "source": [
    "## Optimization using evolutionary algorithms"
   ]
  },
  {
   "cell_type": "code",
   "execution_count": 7,
   "metadata": {
    "collapsed": true
   },
   "outputs": [],
   "source": [
    "from scipy.optimize import differential_evolution, basinhopping"
   ]
  },
  {
   "cell_type": "code",
   "execution_count": 8,
   "metadata": {
    "collapsed": true
   },
   "outputs": [],
   "source": [
    "params_optimization = {\"R_i\": 0.015,\n",
    "                \"R_o\": 0.070,\n",
    "                \"h_gap\": 0.020,\n",
    "                \"R_s\": 0.140,\n",
    "                \"h_fc\": 0.010,\n",
    "                \"R_e\": 2,\n",
    "                \"n_IV\": 3,\n",
    "                \"phi_S_IV\": 45,\n",
    "                \"n_II\": 3,\n",
    "                \"phi_C_II\": 15,\n",
    "                \"phi_S_II\": 45,\n",
    "                \"B_rem_II_1\": 1.4,\n",
    "                \"B_rem_II_2\": 1.4,\n",
    "                \"B_rem_II_3\": 1.4,\n",
    "                \"mu_r_II\": 1.05,\n",
    "                \"B_rem_IV_1\": 1.4,\n",
    "                \"B_rem_IV_2\": 1.4,\n",
    "                \"B_rem_IV_3\": 1.4,\n",
    "                \"mu_r_IV\": 1.05,\n",
    "              \"linear_iron\": 1,\n",
    "              \"mu_r_iron\": 5e3,\n",
    "             }\n",
    "alpha_B_rem_0 = [15,30,45,15,45,135]\n",
    "\n",
    "n = len(alpha_B_rem_0)\n",
    "\n",
    "tmpd = TeslaMaxPreDesign(params_optimization)"
   ]
  },
  {
   "cell_type": "code",
   "execution_count": 10,
   "metadata": {
    "collapsed": false
   },
   "outputs": [
    {
     "name": "stdout",
     "output_type": "stream",
     "text": [
      "differential_evolution step 1: f(x)= 41.7747\n",
      "differential_evolution step 2: f(x)= 32.0131\n",
      "differential_evolution step 3: f(x)= 32.0131\n",
      "differential_evolution step 4: f(x)= 25.6068\n",
      "differential_evolution step 5: f(x)= 25.2199\n",
      "differential_evolution step 6: f(x)= 23.1237\n",
      "differential_evolution step 7: f(x)= 23.1237\n",
      "differential_evolution step 8: f(x)= 23.1237\n",
      "differential_evolution step 9: f(x)= 23.1237\n",
      "differential_evolution step 10: f(x)= 23.1237\n",
      "differential_evolution step 11: f(x)= 17.4902\n",
      "differential_evolution step 12: f(x)= 17.4902\n",
      "differential_evolution step 13: f(x)= 17.4902\n",
      "differential_evolution step 14: f(x)= 17.4902\n",
      "differential_evolution step 15: f(x)= 17.4902\n",
      "differential_evolution step 16: f(x)= 16.5904\n",
      "differential_evolution step 17: f(x)= 15.9128\n",
      "differential_evolution step 18: f(x)= 15.8982\n",
      "differential_evolution step 19: f(x)= 15.3236\n",
      "differential_evolution step 20: f(x)= 15.3236\n",
      "differential_evolution step 21: f(x)= 15.3236\n",
      "differential_evolution step 22: f(x)= 15.3236\n",
      "differential_evolution step 23: f(x)= 14.7603\n",
      "differential_evolution step 24: f(x)= 14.7603\n",
      "differential_evolution step 25: f(x)= 14.7444\n",
      "differential_evolution step 26: f(x)= 14.7069\n",
      "differential_evolution step 27: f(x)= 14.5542\n",
      "differential_evolution step 28: f(x)= 14.5542\n",
      "differential_evolution step 29: f(x)= 14.5542\n",
      "differential_evolution step 30: f(x)= 14.5542\n",
      "differential_evolution step 31: f(x)= 14.5542\n",
      "differential_evolution step 32: f(x)= 14.543\n",
      "Wall time: 12min 6s\n"
     ]
    }
   ],
   "source": [
    "%%time \n",
    "## all this methods from the TeslaMaxPreDesign class accept as only arguments the design vector (with remanence angles)\n",
    "\n",
    "objective_function = tmpd.calculate_functional\n",
    "\n",
    "bounds = [(0.0, 360.0) for i in range(0,n)]\n",
    "\n",
    "res = differential_evolution(objective_function,bounds,disp=True)"
   ]
  },
  {
   "cell_type": "code",
   "execution_count": 13,
   "metadata": {
    "collapsed": false
   },
   "outputs": [
    {
     "data": {
      "text/plain": [
       "array([ 173.28273025,  194.4825884 ,  176.87603619,  186.30206755,\n",
       "        203.81412089,  258.53718731])"
      ]
     },
     "execution_count": 13,
     "metadata": {},
     "output_type": "execute_result"
    }
   ],
   "source": [
    "res.x"
   ]
  },
  {
   "cell_type": "code",
   "execution_count": 15,
   "metadata": {
    "collapsed": false
   },
   "outputs": [
    {
     "data": {
      "image/png": "[encoded data removed]",
      "text/plain": [
       "<matplotlib.figure.Figure at 0x1eb72685048>"
      ]
     },
     "metadata": {},
     "output_type": "display_data"
    }
   ],
   "source": [
    "%matplotlib inline\n",
    "plt.rc('font',size=FONTSIZE)\n",
    "\n",
    "profile_fig = plt.figure(figsize=(FIGSIZE_INCHES,FIGSIZE_INCHES))\n",
    "profile_axes = profile_fig.add_subplot(111)\n",
    "\n",
    "\n",
    "teslamax_playground = 'C:\\\\Users\\\\fabiofortkamp\\\\code\\\\TeslaMax\\\\teslamax-play'\n",
    "\n",
    "tmm_optimized = TeslaMaxModel(tmpd,res.x,\n",
    "                   path=teslamax_playground)\n",
    "tmm_optimized.run()\n",
    "phi_vector, B_vector = tmm_optimized.get_profile_data().T\n",
    "\n",
    "profile_axes.plot(phi_vector,B_vector)\n",
    "profile_axes.set_xlim(0,np.max(phi_vector))\n",
    "profile_axes.set_xticks(np.linspace(0,np.max(phi_vector),9))\n",
    "profile_axes.xaxis.grid(True)\n",
    "profile_axes.set_xlabel(r'$\\phi [\\si{\\degree}]$')\n",
    "profile_axes.set_ylabel(r'$B [\\si{\\tesla}]$')\n",
    "\n",
    "B_inst_vector = teslamax.calculate_instantaneous_profile(phi_vector,teslamax.TARGET_PROFILE)\n",
    "profile_axes.plot(phi_vector,B_inst_vector)\n",
    "\n",
    "save_figure(profile_fig,\"profile_optimized_genetic_B_13\")"
   ]
  },
  {
   "cell_type": "code",
   "execution_count": 16,
   "metadata": {
    "collapsed": false
   },
   "outputs": [
    {
     "data": {
      "text/plain": [
       "1.0797673144444442"
      ]
     },
     "execution_count": 16,
     "metadata": {},
     "output_type": "execute_result"
    }
   ],
   "source": [
    "teslamax.calculate_average_high_field(tmm_optimized.get_profile_data())"
   ]
  },
  {
   "cell_type": "code",
   "execution_count": 17,
   "metadata": {
    "collapsed": false
   },
   "outputs": [
    {
     "data": {
      "text/plain": [
       "array([  3.68931552e-04,   8.03979106e-05,   1.31567646e-04,\n",
       "        -3.09608339e-04,  -9.20538312e-04,  -7.93072275e-05])"
      ]
     },
     "execution_count": 17,
     "metadata": {},
     "output_type": "execute_result"
    }
   ],
   "source": [
    "tmpd.calculate_functional_gradient(res.x)"
   ]
  },
  {
   "cell_type": "code",
   "execution_count": 18,
   "metadata": {
    "collapsed": false
   },
   "outputs": [
    {
     "data": {
      "text/plain": [
       "array([ 0.01703353, -0.00148553,  0.00217259,  0.01196262,  0.00870582,\n",
       "        0.00601989])"
      ]
     },
     "execution_count": 18,
     "metadata": {},
     "output_type": "execute_result"
    }
   ],
   "source": [
    "np.linalg.eigvals(tmpd.calculate_functional_hessian(res.x))"
   ]
  },
  {
   "cell_type": "code",
   "execution_count": null,
   "metadata": {
    "collapsed": true
   },
   "outputs": [],
   "source": []
  }
 ],
 "metadata": {
  "anaconda-cloud": {},
  "kernelspec": {
   "display_name": "Python 3",
   "language": "python",
   "name": "python3"
  },
  "language_info": {
   "codemirror_mode": {
    "name": "ipython",
    "version": 3
   },
   "file_extension": ".py",
   "mimetype": "text/x-python",
   "name": "python",
   "nbconvert_exporter": "python",
   "pygments_lexer": "ipython3",
   "version": "3.6.0"
  }
 },
 "nbformat": 4,
 "nbformat_minor": 1
}
