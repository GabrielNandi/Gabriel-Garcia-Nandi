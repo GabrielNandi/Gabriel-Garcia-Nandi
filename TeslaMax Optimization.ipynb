{
 "cells": [
  {
   "cell_type": "markdown",
   "metadata": {},
   "source": [
    "$$\n",
    "\\newcommand{\\ped}[1]{_{\\mathrm{#1}}}\n",
    "\\newcommand{\\ap}[1]{^{\\mathrm{#1}}}\n",
    "\\newcommand{\\nvector}[1]{\\mathbf{#1}}\n",
    "\\newcommand{\\nmatrix}[1]{\\mathit{#1}}\n",
    "\\newcommand{\\unitvector}[1]{\\hat{\\nvector{e}}_{#1}}\n",
    "\\newcommand{\\volume}{\\mathcal{V}}\n",
    "\\newcommand{\\average}[1]{\\overline{#1}}\n",
    "\\newcommand{\\rate}[1]{\\dot{#1}}\n",
    "\\newcommand{\\flux}[1]{{#1}''}\n",
    "\\newcommand{\\curl}[1]{\\nabla\\times {#1}}\n",
    "\\newcommand{\\curlv}[1]{\\curl{\\nvector{#1}}}\n",
    "\\newcommand{\\divergent}[1]{\\nabla \\cdot #1}\n",
    "\\newcommand{\\divergentv}[1]{\\divergent{\\nvector{#1}}}\n",
    "\\newcommand{\\divergentpar}[1]{\\divergent{\\left( #1 \\right)}}\n",
    "\\newcommand{\\gradient}[1]{\\nabla {#1}}\n",
    "\\newcommand{\\gradientpar}[1]{\\gradient{\\left( {#1} \\right)}}\n",
    "\\newcommand{\\laplacian}[1]{\\nabla^2 #1}\n",
    "\\newcommand{\\laplacianpar}[1]{\\laplacian{\\left( #1 \\right)}}\n",
    "\\newcommand{\\vectornorm}[1]{\\left\\lVert #1 \\right\\rVert}\n",
    "\\newcommand{\\diffp}[2]{\\frac{\\partial {#1}}{\\partial {#2}}}\n",
    "\\newcommand{\\diffps}[2]{\\frac{\\partial^2 {#1}}{\\partial {#2}^2}}\n",
    "\\newcommand{\\rvec}{\\nvector{r}}\n",
    "\\newcommand{\\nvh}{\\nvector{H}}\n",
    "\\newcommand{\\nvb}{\\nvector{B}}\n",
    "\\newcommand{\\nvrem}{\\nvector{B}\\ped{rem}}\n",
    "\\newcommand{\\nvbrem}{\\nvrem}\n",
    "\\newcommand{\\nvm}{\\nvector{M}}\n",
    "\\newcommand{\\mur}{\\mu\\ped{r}}\n",
    "\\newcommand{\\nvbremhat}{\\hat{\\nvector{B}}\\ped{rem}}\n",
    "\\newcommand{\\acoef}[2]{a_{{#1},\\mathrm{#2}}}\n",
    "\\newcommand{\\bcoef}[2]{b_{{#1},\\mathrm{#2}}}\n",
    "\\newcommand{\\Azexpr}[1]{A_{\\mathrm{#1}\\, z}}\n",
    "\\newcommand{\\bremii}{B_{\\mathrm{rem,II}}}\n",
    "\\newcommand{\\bremiv}{B_{\\mathrm{rem,IV}}}\n",
    "\\newcommand{\\aIII}{\\acoef{1}{III}}\n",
    "\\newcommand{\\bIII}{\\bcoef{1}{III}}\n",
    "\\newcommand{\\nvbIII}{\\nvector{B}\\ped{III}}\n",
    "\\newcommand{\\BIII}{B\\ped{III}}\n",
    "\\newcommand{\\diffd}[1]{\\mathrm{d}\\,{#1}}\n",
    "$$"
   ]
  },
  {
   "cell_type": "markdown",
   "metadata": {},
   "source": [
    "# TeslaMax Optimization"
   ]
  },
  {
   "cell_type": "markdown",
   "metadata": {},
   "source": [
    "Teslamax model:\n",
    "\n",
    "<img src=\"figures/teslamax.png\" width=500>"
   ]
  },
  {
   "cell_type": "markdown",
   "metadata": {},
   "source": [
    "We are intererested in finding the optimal set of remanence angles $\\alpha_{\\mathrm{rem},m,k}$ that will maximize some metric in the air gap."
   ]
  },
  {
   "cell_type": "code",
   "execution_count": 1,
   "metadata": {
    "collapsed": false
   },
   "outputs": [],
   "source": [
    "from pathlib import Path\n",
    "import os\n",
    "import matplotlib\n",
    "import matplotlib.pyplot as plt\n",
    "import numpy as np\n",
    "import teslamax\n",
    "from teslamax import TeslaMaxModel\n",
    "\n",
    "\n",
    "\n",
    "mpl_params = {'text.usetex': True,\n",
    "              'font.family': 'serif',\n",
    "              'font.serif': 'Computer Modern',\n",
    "              'text.latex.preamble': [r'\\usepackage{engsymbols}',\n",
    "                                      r'\\usepackage{magref}',\n",
    "                                      r'\\usepackage{siunitx}']}\n",
    "matplotlib.rcParams.update(mpl_params)\n"
   ]
  },
  {
   "cell_type": "code",
   "execution_count": 86,
   "metadata": {
    "collapsed": true
   },
   "outputs": [],
   "source": [
    "FIGSIZE_CM = 20\n",
    "FIGSIZE_INCHES = FIGSIZE_CM / 2.54\n",
    "\n",
    "FONTSIZE = 20\n",
    "\n",
    "TARGET_PROFILE = 1.2"
   ]
  },
  {
   "cell_type": "code",
   "execution_count": 3,
   "metadata": {
    "collapsed": true
   },
   "outputs": [],
   "source": [
    "os.chdir('C:\\\\Users\\\\fabiofortkamp\\\\code\\\\TeslaMax\\\\')"
   ]
  },
  {
   "cell_type": "code",
   "execution_count": 4,
   "metadata": {
    "collapsed": false
   },
   "outputs": [
    {
     "data": {
      "text/plain": [
       "'C:\\\\Users\\\\fabiofortkamp\\\\code\\\\TeslaMax'"
      ]
     },
     "execution_count": 4,
     "metadata": {},
     "output_type": "execute_result"
    }
   ],
   "source": [
    "os.getcwd()"
   ]
  },
  {
   "cell_type": "code",
   "execution_count": null,
   "metadata": {
    "collapsed": false
   },
   "outputs": [],
   "source": [
    "import importlib\n",
    "importlib.reload(teslamax)"
   ]
  },
  {
   "cell_type": "markdown",
   "metadata": {
    "collapsed": true
   },
   "source": [
    "## Parameters"
   ]
  },
  {
   "cell_type": "markdown",
   "metadata": {},
   "source": [
    "This is reference set of parameters that we use to test the optimization procedures:"
   ]
  },
  {
   "cell_type": "code",
   "execution_count": 5,
   "metadata": {
    "collapsed": false
   },
   "outputs": [],
   "source": [
    "params_optimization = {\"R_i\": 0.015,\n",
    "                \"R_o\": 0.070,\n",
    "                \"h_gap\": 0.020,\n",
    "                \"R_s\": 0.140,\n",
    "                \"h_fc\": 0.010,\n",
    "                \"R_e\": 2,\n",
    "                \"n_IV\": 3,\n",
    "                \"phi_S_IV\": 45,\n",
    "                \"n_II\": 3,\n",
    "                \"phi_C_II\": 15,\n",
    "                \"phi_S_II\": 45,\n",
    "                \"B_rem_II_1\": 1.4,\n",
    "                \"B_rem_II_2\": 1.4,\n",
    "                \"B_rem_II_3\": 1.4,\n",
    "                \"mu_r_II\": 1.05,\n",
    "                \"B_rem_IV_1\": 1.4,\n",
    "                \"B_rem_IV_2\": 1.4,\n",
    "                \"B_rem_IV_3\": 1.4,\n",
    "                \"mu_r_IV\": 1.05,\n",
    "              \"linear_iron\": 1,\n",
    "              \"mu_r_iron\": 5e3,\n",
    "             }\n",
    "\n",
    "alpha_B_rem_0 = [15,30,45,15,45,135]\n",
    "\n",
    "params_optimization = teslamax.expand_parameters_from_remanence_array(alpha_B_rem_0, params_optimization)"
   ]
  },
  {
   "cell_type": "markdown",
   "metadata": {},
   "source": [
    "## Principle of superposition and the contribution of each segment"
   ]
  },
  {
   "cell_type": "markdown",
   "metadata": {},
   "source": [
    "The code below calculate the individual contributions for each magnet block. For instance, the i-th element of the variable `F_II_x` is a list of points in the form $(B_x, B_y)$, calculated in a mesh in the air gap, where only the i-th segment in magnet II has a non-null remanence, with magnitude included in the above dictionary and oriented in the $x$ direction."
   ]
  },
  {
   "cell_type": "code",
   "execution_count": 6,
   "metadata": {
    "collapsed": false
   },
   "outputs": [],
   "source": [
    "def calculate_F_operators(points, params):\n",
    "    \"\"\"\n",
    "    Return (F_II_x, F_II_y, F_IV_x, F_IV_y), where each element is a list of the F-operators vector fields\n",
    "    calculated at points.\n",
    "    \n",
    "    For instance, F_II_x[0] is an array of (B_x, B_y), calculated when only the first segment of magnet II\n",
    "    is magnetized in the x-direction, with unit remanence\n",
    "    \"\"\"\n",
    "    \n",
    "    n_II = params['n_II']\n",
    "    n_IV = params['n_IV']\n",
    "        \n",
    "    F_II_x = []\n",
    "    F_II_y = []\n",
    "    \n",
    "    F_IV_x = []\n",
    "    F_IV_y = []\n",
    "    \n",
    "    for k in range(0,n_II):\n",
    "        F_II_x.append(teslamax.calculate_B_III_from_single_block(point=points, \n",
    "                                                   segment=k+1, \n",
    "                                                   magnet='II', \n",
    "                                                   magnitude=1.0, \n",
    "                                                    angle=0.0, \n",
    "                                                    params=params))\n",
    "        \n",
    "        \n",
    "        F_II_y.append(teslamax.calculate_B_III_from_single_block(point=points, \n",
    "                                                   segment=k+1,\n",
    "                                                   magnet='II', \n",
    "                                                   magnitude=1.0, \n",
    "                                                    angle=90.0, \n",
    "                                                    params=params))\n",
    "\n",
    "    for j in range(0,n_IV):\n",
    "        F_IV_x.append(teslamax.calculate_B_III_from_single_block(point=points, \n",
    "                                                   segment=j+1, \n",
    "                                                   magnet='IV', \n",
    "                                                   magnitude=1.0, \n",
    "                                                    angle=0.0, \n",
    "                                                    params=params))\n",
    "        \n",
    "        \n",
    "        F_IV_y.append(teslamax.calculate_B_III_from_single_block(point=points, \n",
    "                                                   segment=j+1,\n",
    "                                                   magnet='IV', \n",
    "                                                   magnitude=1.0, \n",
    "                                                    angle=90.0, \n",
    "                                                    params=params))\n",
    "        \n",
    "    return (F_II_x, F_II_y, F_IV_x, F_IV_y)"
   ]
  },
  {
   "cell_type": "markdown",
   "metadata": {},
   "source": [
    "This code generates a \"mesh\" in the upper half-circle (corresponding to the model that is actually simulated by COMSOL), and calculate the $F$-operators in this mesh"
   ]
  },
  {
   "cell_type": "code",
   "execution_count": 7,
   "metadata": {
    "collapsed": false
   },
   "outputs": [
    {
     "name": "stdout",
     "output_type": "stream",
     "text": [
      "Exception reporting mode: Verbose\n"
     ]
    }
   ],
   "source": [
    "%xmode verbose\n",
    "\n",
    "R_o = params_optimization[\"R_o\"]\n",
    "R_g = params_optimization[\"R_o\"] + params_optimization[\"h_gap\"]\n",
    "points_air_gap = teslamax.generate_sector_mesh_points(1.001*R_o,0.999*R_g,0.0,np.pi)\n",
    "\n",
    "F_II_x, F_II_y, F_IV_x, F_IV_y = calculate_F_operators(points_air_gap, params_optimization)"
   ]
  },
  {
   "cell_type": "markdown",
   "metadata": {},
   "source": [
    "Each of of the $F$-operators is a list of points, corresponding to the vector $\\nvb$ that calculated at `points_air_gap`:"
   ]
  },
  {
   "cell_type": "code",
   "execution_count": 8,
   "metadata": {
    "collapsed": false
   },
   "outputs": [
    {
     "data": {
      "text/plain": [
       "array([[  5.61766885e-01,   1.05132945e-03],\n",
       "       [  5.60644033e-01,   5.04925417e-03],\n",
       "       [  5.59547137e-01,   9.25248433e-03],\n",
       "       ..., \n",
       "       [  5.55159683e-01,   3.04878873e-03],\n",
       "       [  5.54858756e-01,   1.47049716e-03],\n",
       "       [  5.54577625e-01,  -1.24382820e-04]])"
      ]
     },
     "execution_count": 8,
     "metadata": {},
     "output_type": "execute_result"
    }
   ],
   "source": [
    "F_IV_x[0]"
   ]
  },
  {
   "cell_type": "markdown",
   "metadata": {},
   "source": [
    "Next we apply the principle of superposition, combining the contributions calculated above and using the actual remanence magnitude and angle as specified by the dictionary `params_optimization` and by the array `alpha_B_rem`."
   ]
  },
  {
   "cell_type": "code",
   "execution_count": 9,
   "metadata": {
    "collapsed": true
   },
   "outputs": [],
   "source": [
    "def superposition_B_III(points, F_II_x, F_II_y, F_IV_x, F_IV_y, alpha_B_rem, params):\n",
    "    \"\"\"\n",
    "    Return (x, y, B_x, B_y) based on the lists of F-operators and a vector of remanence angles.\n",
    "    \n",
    "    - 'points' is a list of (x,y) points where all of the F-operators are calculated.\n",
    "    - Each element of 'F_{magnet}_{direction}' is an array of (B_x, B_y) vectors calculated at 'points', \n",
    "    considering only the effect of that segment\n",
    "    - 'alpha_B_rem' is a vector of (n_II + n_IV) remanences, where the first n_II represent magnet II and\n",
    "    the remaining elements represent magnet IV\n",
    "    - 'params' is a dictionary of parameters\n",
    "    \n",
    "    \"\"\"\n",
    "    \n",
    "    B_III = 0\n",
    "\n",
    "    n_II = params[\"n_II\"]\n",
    "    for k in range(0,n_II):\n",
    "        B_rem = params[\"B_rem_II_%d\" %(k+1)]\n",
    "        alpha = np.deg2rad(alpha_B_rem[k])\n",
    "    \n",
    "        B = B_rem * (np.cos(alpha) * F_II_x[k] + np.sin(alpha) * F_II_y[k])\n",
    "    \n",
    "        B_III = B_III + B\n",
    "    \n",
    "    n_IV = params[\"n_IV\"]\n",
    "    for j in range(0,n_IV):\n",
    "        B_rem = params[\"B_rem_IV_%d\" %(j+1)]\n",
    "        alpha = np.deg2rad(alpha_B_rem[n_II + j])\n",
    "        \n",
    "        B = B_rem * (np.cos(alpha) * F_IV_x[j] + np.sin(alpha) * F_IV_y[j])\n",
    "        \n",
    "        B_III = B_III + B\n",
    "        \n",
    "    B_III_grid = np.concatenate((points, B_III), axis=1)\n",
    "    \n",
    "    return B_III_grid"
   ]
  },
  {
   "cell_type": "markdown",
   "metadata": {},
   "source": [
    "## Calculating the functional"
   ]
  },
  {
   "cell_type": "markdown",
   "metadata": {},
   "source": [
    "The basic computational implementation of optimization algorithms require evaluate an *objective functional*. In this formulation, the main optimization variables are the angles, which are always represented by the vector `alpha_B_rem`. Notice that, in order to efficiently calculate the functional, we have to pass the lists of $F$-operators that we calculated previously, the points where these operators are calculated, and the dictionary of parameters."
   ]
  },
  {
   "cell_type": "markdown",
   "metadata": {},
   "source": [
    "Our goal is to build an instantaneous profile. This function calculates it:"
   ]
  },
  {
   "cell_type": "code",
   "execution_count": 75,
   "metadata": {
    "collapsed": true
   },
   "outputs": [],
   "source": [
    "def calculate_instantaneous_profile(phi, B_high):\n",
    "    \"\"\"\n",
    "    Calculate the value of the two-pole instantaneous magnetic profile at angular position 'phi' (in degrees),\n",
    "    where the profile oscillates from 0 to 'B_high'\n",
    "    \n",
    "    \"\"\"\n",
    "    \n",
    "    high_region = (phi <= 45)\n",
    "    high_region = np.logical_or(high_region, np.logical_and((phi >= 135),(phi <= 225)))\n",
    "    high_region = np.logical_or(high_region, (phi >= 315))\n",
    "                 \n",
    "    return np.where(high_region,B_high,0.0)"
   ]
  },
  {
   "cell_type": "code",
   "execution_count": 77,
   "metadata": {
    "collapsed": false
   },
   "outputs": [
    {
     "data": {
      "text/plain": [
       "<matplotlib.text.Text at 0x19463515080>"
      ]
     },
     "execution_count": 77,
     "metadata": {},
     "output_type": "execute_result"
    },
    {
     "data": {
      "image/png": "[encoded data removed]",
      "text/plain": [
       "<matplotlib.figure.Figure at 0x19461a35780>"
      ]
     },
     "metadata": {},
     "output_type": "display_data"
    }
   ],
   "source": [
    "%matplotlib inline\n",
    "plt.rc('font',size=FONTSIZE)\n",
    "\n",
    "profile_fig = plt.figure(figsize=(FIGSIZE_INCHES,FIGSIZE_INCHES))\n",
    "profile_axes = profile_fig.add_subplot(111)\n",
    "\n",
    "phi_inst_vector = np.linspace(0,360)\n",
    "B_inst_vector = calculate_instantaneous_profile(phi_inst_vector,1.0)\n",
    "\n",
    "\n",
    "profile_axes.plot(phi_inst_vector,B_inst_vector)\n",
    "profile_axes.set_xlim(0,np.max(phi_vector))\n",
    "profile_axes.set_xticks(np.linspace(0,np.max(phi_vector),9))\n",
    "profile_axes.xaxis.grid(True)\n",
    "profile_axes.set_xlabel(r'$\\phi [\\si{\\degree}]$')\n",
    "profile_axes.set_ylabel(r'$B [\\si{\\tesla}]$')\n",
    "\n",
    "\n"
   ]
  },
  {
   "cell_type": "code",
   "execution_count": 96,
   "metadata": {
    "collapsed": true
   },
   "outputs": [],
   "source": [
    "def calculate_funcional_average(points,F_II_x, F_II_y, F_IV_x, F_IV_y, alpha_B_rem, params):\n",
    "    \"\"\"\n",
    "    Return the objective funcional based on the lists of F-operators and a vector of remanence angles.\n",
    "    The objective functional is defined as the average high field.\n",
    "    \n",
    "    - 'points' is a list of (x,y) points where all of the F-operators are calculated.\n",
    "    - Each element of 'F_{magnet}_{direction}' is an array of (B_x, B_y) vectors calculated at 'points', \n",
    "    considering only the effect of that segment\n",
    "    - 'alpha_B_rem' is a vector of (n_II + n_IV) remanences, where the first n_II represent magnet II and\n",
    "    the remaining elements represent magnet IV\n",
    "    - 'params' is a dictionary of parameters\n",
    "    \n",
    "    \"\"\"\n",
    "    \n",
    "    B_III_data = superposition_B_III(points, F_II_x, F_II_y, F_IV_x, F_IV_y, alpha_B_rem, params)\n",
    "    \n",
    "    # the above statement will return [x,y,B_x,B_y]. We have to calculate the magnitude to pass it\n",
    "    # to the magnetic profile data\n",
    "    B_III_data = teslamax.calculate_magnitude(B_III_data)\n",
    "    \n",
    "    B_profile_data = teslamax.calculate_magnetic_profile(B_III_data,params)\n",
    "    \n",
    "    S = teslamax.calculate_average_high_field(B_profile_data)\n",
    "    return S"
   ]
  },
  {
   "cell_type": "code",
   "execution_count": 97,
   "metadata": {
    "collapsed": true
   },
   "outputs": [],
   "source": [
    "def calculate_funcional(points,F_II_x, F_II_y, F_IV_x, F_IV_y, alpha_B_rem, params):\n",
    "    \"\"\"\n",
    "    Return the objective funcional based on the lists of F-operators and a vector of remanence angles.\n",
    "    The objective functional is defined as the difference between the profile and an instantaneous profile\n",
    "    of TARGET_PROFILE as the high level.\n",
    "    \n",
    "    - 'points' is a list of (x,y) points where all of the F-operators are calculated.\n",
    "    - Each element of 'F_{magnet}_{direction}' is an array of (B_x, B_y) vectors calculated at 'points', \n",
    "    considering only the effect of that segment\n",
    "    - 'alpha_B_rem' is a vector of (n_II + n_IV) remanences, where the first n_II represent magnet II and\n",
    "    the remaining elements represent magnet IV\n",
    "    - 'params' is a dictionary of parameters\n",
    "    \n",
    "    \"\"\"\n",
    "    \n",
    "    B_III_data = superposition_B_III(points, F_II_x, F_II_y, F_IV_x, F_IV_y, alpha_B_rem, params)\n",
    "    \n",
    "    # the above statement will return [x,y,B_x,B_y]. We have to calculate the magnitude to pass it\n",
    "    # to the magnetic profile data\n",
    "    B_III_data = teslamax.calculate_magnitude(B_III_data)\n",
    "    \n",
    "    phi_vector, B_profile = teslamax.calculate_magnetic_profile(B_III_data,params).T\n",
    "    \n",
    "    B_inst_profile = calculate_instantaneous_profile(phi_vector,TARGET_PROFILE)\n",
    "    \n",
    "    # use a \"least squares\" approach\n",
    "    B_lsq = (B_inst_profile - B_profile)**2\n",
    "    S = 1.0/np.trapz(B_lsq,phi_vector)\n",
    "    \n",
    "    return S"
   ]
  },
  {
   "cell_type": "markdown",
   "metadata": {},
   "source": [
    "An example of calculation:"
   ]
  },
  {
   "cell_type": "code",
   "execution_count": 93,
   "metadata": {
    "collapsed": false
   },
   "outputs": [
    {
     "name": "stdout",
     "output_type": "stream",
     "text": [
      "0.0478090417213\n"
     ]
    }
   ],
   "source": [
    "S_0 = calculate_funcional(points_air_gap,F_II_x,F_II_y,F_IV_x, F_IV_y, alpha_B_rem_0,params_optimization)\n",
    "print(S_0)"
   ]
  },
  {
   "cell_type": "markdown",
   "metadata": {},
   "source": [
    "Another piece of optimization algorithm is a function to calculate the derivative of the funcional:"
   ]
  },
  {
   "cell_type": "code",
   "execution_count": 12,
   "metadata": {
    "collapsed": true
   },
   "outputs": [],
   "source": [
    "def calculate_funcional_derivative(points,F_II_x, F_II_y, F_IV_x, F_IV_y, alpha_B_rem, i,params):\n",
    "    \"\"\"\n",
    "    Return the derivative of the funcional in respect to the i-th element of the remanence angles vector.\n",
    "    \n",
    "    - 'points' is a list of (x,y) points where all of the F-operators are calculated.\n",
    "    - Each element of 'F_{magnet}_{direction}' is an array of (B_x, B_y) vectors calculated at 'points', \n",
    "    considering only the effect of that segment\n",
    "    - 'alpha_B_rem' is a vector of (n_II + n_IV) remanences, where the first n_II represent magnet II and\n",
    "    the remaining elements represent magnet IV\n",
    "    - 'i' is the element (0-based) in respect to which the derivative is being evaluated\n",
    "    - 'params' is a dictionary of parameters\n",
    "    \n",
    "    \"\"\"\n",
    "    \n",
    "    S = calculate_funcional(points,F_II_x, F_II_y, F_IV_x, F_IV_y, alpha_B_rem, params)\n",
    "    \n",
    "    alpha_B_rem_plus = alpha_B_rem.copy()\n",
    "    delta = 1e-6\n",
    "    alpha_B_rem_plus[i]  = alpha_B_rem_plus[i] + delta\n",
    "    \n",
    "    S_plus = calculate_funcional(points,F_II_x, F_II_y, F_IV_x, F_IV_y, alpha_B_rem_plus, params)\n",
    "    \n",
    "    dS = (S_plus - S)/delta\n",
    "    \n",
    "    return dS"
   ]
  },
  {
   "cell_type": "code",
   "execution_count": 91,
   "metadata": {
    "collapsed": false
   },
   "outputs": [
    {
     "name": "stdout",
     "output_type": "stream",
     "text": [
      "-0.0687268482125\n"
     ]
    }
   ],
   "source": [
    "dS_0 = calculate_funcional_derivative(points_air_gap,F_II_x,F_II_y,F_IV_x, F_IV_y, alpha_B_rem_0, 2, params_optimization)\n",
    "print(dS_0)"
   ]
  },
  {
   "cell_type": "markdown",
   "metadata": {},
   "source": [
    "## Optimization algorithm"
   ]
  },
  {
   "cell_type": "markdown",
   "metadata": {},
   "source": [
    "This is a prototype of an implementation of the gradient descent algorithm from Insinga (2016):"
   ]
  },
  {
   "cell_type": "code",
   "execution_count": 94,
   "metadata": {
    "collapsed": false
   },
   "outputs": [
    {
     "name": "stdout",
     "output_type": "stream",
     "text": [
      "alpha[0] = 18.33, S = 0.0478347\n",
      "alpha[1] = 60.89, S = 0.0500630\n",
      "alpha[2] = 7.43, S = 0.0548465\n",
      "alpha[3] = 7.34, S = 0.0556514\n",
      "alpha[4] = 30.71, S = 0.0585528\n",
      "alpha[5] = 82.65, S = 0.0993819\n"
     ]
    }
   ],
   "source": [
    "alpha_B_rem_0 = [15,30,45,15,45,135]\n",
    "S_0 = calculate_funcional(points_air_gap,F_II_x,F_II_y,F_IV_x, F_IV_y, alpha_B_rem_0,params_optimization)\n",
    "\n",
    "gamma = 1e4\n",
    "max_iter = 50\n",
    "tol = 1e-6\n",
    "\n",
    "i = 0\n",
    "alpha_B_rem = alpha_B_rem_0.copy()\n",
    "S_old = S_0\n",
    "\n",
    "for i in range(0,len(alpha_B_rem)):\n",
    "    \n",
    "    it_count = 0\n",
    "    \n",
    "    \n",
    "    while True:\n",
    "        \n",
    "        dSdalpha = calculate_funcional_derivative(points_air_gap,F_II_x,F_II_y,F_IV_x, F_IV_y, alpha_B_rem, i, params_optimization)\n",
    "        \n",
    "        dalpha = gamma * dSdalpha\n",
    "        alpha_B_rem[i] = alpha_B_rem[i] + dalpha\n",
    "        \n",
    "        S = calculate_funcional(points_air_gap,F_II_x,F_II_y,F_IV_x, F_IV_y, alpha_B_rem,params_optimization)\n",
    "        \n",
    "        dS_rel = abs((S - S_old)/S)\n",
    "        S_old = S\n",
    "        \n",
    "        \n",
    "        it_count = it_count + 1\n",
    "        \n",
    "        max_iter_reached = it_count >= max_iter\n",
    "        converged = dS_rel < tol\n",
    "        \n",
    "        if converged or max_iter_reached:\n",
    "            break\n",
    "            \n",
    "    print(\"alpha[%d] = %.2f, S = %.7f\" %(i, alpha_B_rem[i],S))\n"
   ]
  },
  {
   "cell_type": "markdown",
   "metadata": {},
   "source": [
    "To compare, we plot the magnetic profiles before and after the optimization:"
   ]
  },
  {
   "cell_type": "code",
   "execution_count": 52,
   "metadata": {
    "collapsed": false
   },
   "outputs": [
    {
     "data": {
      "text/plain": [
       "<matplotlib.text.Text at 0x194619a7f60>"
      ]
     },
     "execution_count": 52,
     "metadata": {},
     "output_type": "execute_result"
    },
    {
     "data": {
      "image/png": "[encoded data removed]",
      "text/plain": [
       "<matplotlib.figure.Figure at 0x19460a4e630>"
      ]
     },
     "metadata": {},
     "output_type": "display_data"
    }
   ],
   "source": [
    "%matplotlib inline\n",
    "plt.rc('font',size=FONTSIZE)\n",
    "\n",
    "profile_fig = plt.figure(figsize=(FIGSIZE_INCHES,FIGSIZE_INCHES))\n",
    "profile_axes = profile_fig.add_subplot(111)\n",
    "\n",
    "params_reference = teslamax.expand_parameters_from_remanence_array(alpha_B_rem_0, params_optimization)\n",
    "teslamax_playground = 'C:\\\\Users\\\\fabiofortkamp\\\\code\\\\TeslaMax\\\\teslamax-play'\n",
    "\n",
    "tmm = TeslaMaxModel(params=params_reference,\n",
    "                   path=teslamax_playground)\n",
    "tmm.run()\n",
    "phi_vector, B_vector = tmm.get_profile_data().T\n",
    "\n",
    "profile_axes.plot(phi_vector,B_vector)\n",
    "profile_axes.set_xlim(0,np.max(phi_vector))\n",
    "profile_axes.set_xticks(np.linspace(0,np.max(phi_vector),9))\n",
    "profile_axes.xaxis.grid(True)\n",
    "profile_axes.set_xlabel(r'$\\phi [\\si{\\degree}]$')\n",
    "profile_axes.set_ylabel(r'$B [\\si{\\tesla}]$')"
   ]
  },
  {
   "cell_type": "code",
   "execution_count": 95,
   "metadata": {
    "collapsed": false
   },
   "outputs": [
    {
     "data": {
      "text/plain": [
       "<matplotlib.text.Text at 0x194635f5e10>"
      ]
     },
     "execution_count": 95,
     "metadata": {},
     "output_type": "execute_result"
    },
    {
     "data": {
      "image/png": "[encoded data removed]",
      "text/plain": [
       "<matplotlib.figure.Figure at 0x19463546400>"
      ]
     },
     "metadata": {},
     "output_type": "display_data"
    }
   ],
   "source": [
    "%matplotlib inline\n",
    "plt.rc('font',size=FONTSIZE)\n",
    "\n",
    "profile_fig = plt.figure(figsize=(FIGSIZE_INCHES,FIGSIZE_INCHES))\n",
    "profile_axes = profile_fig.add_subplot(111)\n",
    "\n",
    "params_optimized = teslamax.expand_parameters_from_remanence_array(alpha_B_rem, params_optimization)\n",
    "teslamax_playground = 'C:\\\\Users\\\\fabiofortkamp\\\\code\\\\TeslaMax\\\\teslamax-play'\n",
    "\n",
    "tmm = TeslaMaxModel(params=params_optimized,\n",
    "                   path=teslamax_playground)\n",
    "tmm.run()\n",
    "phi_vector, B_vector = tmm.get_profile_data().T\n",
    "\n",
    "profile_axes.plot(phi_vector,B_vector)\n",
    "profile_axes.set_xlim(0,np.max(phi_vector))\n",
    "profile_axes.set_xticks(np.linspace(0,np.max(phi_vector),9))\n",
    "profile_axes.xaxis.grid(True)\n",
    "profile_axes.set_xlabel(r'$\\phi [\\si{\\degree}]$')\n",
    "profile_axes.set_ylabel(r'$B [\\si{\\tesla}]$')"
   ]
  },
  {
   "cell_type": "markdown",
   "metadata": {},
   "source": [
    "Notice that the optimized magnetic profile is not instantaneous, because the objective doesn't enforce that; we simply maximize the average high field. For this set of parameters, notice the high field region is always above 0.75 T and is reaches a peak of 1.8 T."
   ]
  }
 ],
 "metadata": {
  "anaconda-cloud": {},
  "kernelspec": {
   "display_name": "Python 3",
   "language": "python",
   "name": "python3"
  },
  "language_info": {
   "codemirror_mode": {
    "name": "ipython",
    "version": 3
   },
   "file_extension": ".py",
   "mimetype": "text/x-python",
   "name": "python",
   "nbconvert_exporter": "python",
   "pygments_lexer": "ipython3",
   "version": "3.6.0"
  }
 },
 "nbformat": 4,
 "nbformat_minor": 1
}
