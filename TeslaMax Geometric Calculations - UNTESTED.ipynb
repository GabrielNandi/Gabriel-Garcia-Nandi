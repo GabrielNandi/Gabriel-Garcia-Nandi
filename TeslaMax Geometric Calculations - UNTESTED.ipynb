{
 "cells": [
  {
   "cell_type": "markdown",
   "metadata": {},
   "source": [
    "$$\n",
    "\\newcommand{\\ped}[1]{_{\\mathrm{#1}}}\n",
    "\\newcommand{\\ap}[1]{^{\\mathrm{#1}}}\n",
    "\\newcommand{\\nvector}[1]{\\mathbf{#1}}\n",
    "\\newcommand{\\nmatrix}[1]{\\mathit{#1}}\n",
    "\\newcommand{\\unitvector}[1]{\\hat{\\nvector{e}}_{#1}}\n",
    "\\newcommand{\\volume}{\\mathcal{V}}\n",
    "\\newcommand{\\average}[1]{\\overline{#1}}\n",
    "\\newcommand{\\rate}[1]{\\dot{#1}}\n",
    "\\newcommand{\\flux}[1]{{#1}''}\n",
    "\\newcommand{\\curl}[1]{\\nabla\\times {#1}}\n",
    "\\newcommand{\\curlv}[1]{\\curl{\\nvector{#1}}}\n",
    "\\newcommand{\\divergent}[1]{\\nabla \\cdot #1}\n",
    "\\newcommand{\\divergentv}[1]{\\divergent{\\nvector{#1}}}\n",
    "\\newcommand{\\divergentpar}[1]{\\divergent{\\left( #1 \\right)}}\n",
    "\\newcommand{\\gradient}[1]{\\nabla {#1}}\n",
    "\\newcommand{\\gradientpar}[1]{\\gradient{\\left( {#1} \\right)}}\n",
    "\\newcommand{\\laplacian}[1]{\\nabla^2 #1}\n",
    "\\newcommand{\\laplacianpar}[1]{\\laplacian{\\left( #1 \\right)}}\n",
    "\\newcommand{\\vectornorm}[1]{\\left\\lVert #1 \\right\\rVert}\n",
    "\\newcommand{\\diffp}[2]{\\frac{\\partial {#1}}{\\partial {#2}}}\n",
    "\\newcommand{\\diffps}[2]{\\frac{\\partial^2 {#1}}{\\partial {#2}^2}}\n",
    "\\newcommand{\\rvec}{\\nvector{r}}\n",
    "\\newcommand{\\nvh}{\\nvector{H}}\n",
    "\\newcommand{\\nvb}{\\nvector{B}}\n",
    "\\newcommand{\\nvrem}{\\nvector{B}\\ped{rem}}\n",
    "\\newcommand{\\nvbrem}{\\nvrem}\n",
    "\\newcommand{\\nvm}{\\nvector{M}}\n",
    "\\newcommand{\\mur}{\\mu\\ped{r}}\n",
    "\\newcommand{\\nvbremhat}{\\hat{\\nvector{B}}\\ped{rem}}\n",
    "\\newcommand{\\acoef}[2]{a_{{#1},\\mathrm{#2}}}\n",
    "\\newcommand{\\bcoef}[2]{b_{{#1},\\mathrm{#2}}}\n",
    "\\newcommand{\\Azexpr}[1]{A_{\\mathrm{#1}\\, z}}\n",
    "\\newcommand{\\bremii}{B_{\\mathrm{rem,II}}}\n",
    "\\newcommand{\\bremiv}{B_{\\mathrm{rem,IV}}}\n",
    "\\newcommand{\\aIII}{\\acoef{1}{III}}\n",
    "\\newcommand{\\bIII}{\\bcoef{1}{III}}\n",
    "\\newcommand{\\nvbIII}{\\nvector{B}\\ped{III}}\n",
    "\\newcommand{\\BIII}{B\\ped{III}}\n",
    "\\newcommand{\\diffd}[1]{\\mathrm{d}\\,{#1}}\n",
    "$$"
   ]
  },
  {
   "cell_type": "markdown",
   "metadata": {},
   "source": [
    "# TeslaMax Sample Calculations"
   ]
  },
  {
   "cell_type": "markdown",
   "metadata": {},
   "source": [
    "Teslamax model:\n",
    "\n",
    "<img src=\"figures/teslamax.png\" width=500>"
   ]
  },
  {
   "cell_type": "markdown",
   "metadata": {},
   "source": [
    "Tell the location of the TeslaMax Java class file:"
   ]
  },
  {
   "cell_type": "code",
   "execution_count": 23,
   "metadata": {
    "collapsed": false
   },
   "outputs": [],
   "source": [
    "from pathlib import Path\n",
    "import os\n",
    "import matplotlib\n",
    "import matplotlib.pyplot as plt\n",
    "import numpy as np\n",
    "import teslamax\n",
    "from teslamax import TeslaMaxModel\n",
    "\n",
    "\n",
    "\n",
    "mpl_params = {'text.usetex': True,\n",
    "              'font.family': 'serif',\n",
    "              'font.serif': 'Computer Modern',\n",
    "              'text.latex.preamble': [r'\\usepackage{engsymbols}',\n",
    "                                      r'\\usepackage{magref}',\n",
    "                                      r'\\usepackage{siunitx}']}\n",
    "matplotlib.rcParams.update(mpl_params)\n"
   ]
  },
  {
   "cell_type": "code",
   "execution_count": 25,
   "metadata": {
    "collapsed": true
   },
   "outputs": [],
   "source": [
    "FIGSIZE_CM = 20\n",
    "FIGSIZE_INCHES = FIGSIZE_CM / 2.54\n",
    "\n",
    "FONTSIZE = 20"
   ]
  },
  {
   "cell_type": "markdown",
   "metadata": {},
   "source": [
    "## Playground"
   ]
  },
  {
   "cell_type": "code",
   "execution_count": 7,
   "metadata": {
    "collapsed": false,
    "scrolled": true
   },
   "outputs": [],
   "source": [
    "os.chdir('C:\\\\Users\\\\fabiofortkamp\\\\code\\\\TeslaMax\\\\')"
   ]
  },
  {
   "cell_type": "code",
   "execution_count": 13,
   "metadata": {
    "collapsed": false
   },
   "outputs": [],
   "source": [
    "teslamax_playground = \"teslamax-play\"\n"
   ]
  },
  {
   "cell_type": "code",
   "execution_count": 14,
   "metadata": {
    "collapsed": false
   },
   "outputs": [
    {
     "data": {
      "text/plain": [
       "'C:\\\\Users\\\\fabiofortkamp\\\\code\\\\TeslaMax'"
      ]
     },
     "execution_count": 14,
     "metadata": {},
     "output_type": "execute_result"
    }
   ],
   "source": [
    "os.getcwd()"
   ]
  },
  {
   "cell_type": "markdown",
   "metadata": {},
   "source": [
    "### Magnetic Profile"
   ]
  },
  {
   "cell_type": "code",
   "execution_count": 26,
   "metadata": {
    "collapsed": false
   },
   "outputs": [],
   "source": [
    "# these are the parameters that are found to produce a near-instantaneous profile\n",
    "param_dict = {\"R_i\": 0.015,\n",
    "                \"R_o\": 0.070,\n",
    "                \"h_gap\": 0.020,\n",
    "                \"R_s\": 0.140,\n",
    "                \"h_fc\": 0.010,\n",
    "                \"R_e\": 2,\n",
    "                \"n_IV\": 3,\n",
    "                \"alpha_rem_IV_1\": 15,\n",
    "                \"alpha_rem_IV_2\": 45,\n",
    "                \"alpha_rem_IV_3\": 135,\n",
    "                \"phi_S_IV\": 45,\n",
    "                \"n_II\": 3,\n",
    "                \"alpha_rem_II_1\": 15,\n",
    "                \"alpha_rem_II_2\": 30,\n",
    "                \"alpha_rem_II_3\": 45,\n",
    "                \"phi_C_II\": 15,\n",
    "                \"phi_S_II\": 45,\n",
    "                \"B_rem_II_1\": 1.4,\n",
    "                \"B_rem_II_2\": 1.4,\n",
    "                \"B_rem_II_3\": 1.4,\n",
    "                \"mu_r_II\": 1.05,\n",
    "                \"B_rem_IV_1\": 1.4,\n",
    "                \"B_rem_IV_2\": 1.4,\n",
    "                \"B_rem_IV_3\": 1.4,\n",
    "                \"mu_r_IV\": 1.05,\n",
    "              \"linear_iron\": 1,\n",
    "              \"mu_r_iron\": 5e3,\n",
    "             }\n"
   ]
  },
  {
   "cell_type": "code",
   "execution_count": 27,
   "metadata": {
    "collapsed": false,
    "scrolled": true
   },
   "outputs": [],
   "source": [
    "tmm = TeslaMaxModel(params=param_dict,\n",
    "                   path=teslamax_playground)"
   ]
  },
  {
   "cell_type": "code",
   "execution_count": 28,
   "metadata": {
    "collapsed": false
   },
   "outputs": [
    {
     "name": "stdout",
     "output_type": "stream",
     "text": [
      "*******************************************\n",
      "***COMSOL 5.2.1.229 progress output file***\n",
      "*******************************************\n",
      "Thu Feb 09 09:21:57 BRST 2017\n",
      "COMSOL 5.2a (Build: 229) starting in batch mode\n",
      "Running: C:\\Users\\fabiofortkamp\\code\\teslamax\\java\\TeslaMax.class\n",
      "           Current Progress:   0 % - Circle 1\n",
      "Memory: 379/380 576/577\n",
      "           Current Progress:   8 % - Circle 2\n",
      "Memory: 388/391 585/589\n",
      "-          Current Progress:  17 % - Difference 1\n",
      "---------  Current Progress:  93 % - Resolving domains\n",
      "Memory: 389/391 586/589\n",
      "           Current Progress:   0 % - Circle 1\n",
      "Memory: 390/391 586/589\n",
      "           Current Progress:   8 % - Circle 2\n",
      "-          Current Progress:  17 % - Difference 1\n",
      "---------  Current Progress:  93 % - Resolving domains\n",
      "           Current Progress:   0 % - Cylinder Block - Iron II Wedge 1Q\n",
      "Memory: 394/398 589/593\n",
      "           Current Progress:   0 % - Circle 1\n",
      "Memory: 395/398 587/593\n",
      "           Current Progress:   0 % - Circle 2\n",
      "Memory: 396/398 588/593\n",
      "           Current Progress:   1 % - Difference 1\n",
      "           Current Progress:   4 % - Resolving domains\n",
      "           Current Progress:   4 % - Cylinder Block - Iron II Wedge 2Q\n",
      "Memory: 397/398 588/593\n",
      "           Current Progress:   4 % - Circle 1\n",
      "Memory: 402/402 591/593\n",
      "           Current Progress:   5 % - Circle 2\n",
      "           Current Progress:   5 % - Difference 1\n",
      "           Current Progress:   8 % - Resolving domains\n",
      "           Current Progress:   9 % - Cylinder Block 1 - Magnet II - 1Q\n",
      "           Current Progress:   9 % - Circle 1\n",
      "Memory: 406/406 591/593\n",
      "           Current Progress:   9 % - Circle 2\n",
      "           Current Progress:   9 % - Difference 1\n",
      "Memory: 406/406 592/593\n",
      "-          Current Progress:  13 % - Resolving domains\n",
      "-          Current Progress:  13 % - Cylinder Block 1 - Magnet II - 2Q\n",
      "Memory: 407/407 592/593\n",
      "-          Current Progress:  13 % - Circle 1\n",
      "Memory: 411/411 592/593\n",
      "-          Current Progress:  13 % - Circle 2\n",
      "-          Current Progress:  14 % - Difference 1\n",
      "-          Current Progress:  17 % - Resolving domains\n",
      "-          Current Progress:  17 % - Cylinder Block 2 - Magnet II - 1Q\n",
      "Memory: 409/412 590/593\n",
      "-          Current Progress:  17 % - Circle 1\n",
      "Memory: 414/414 591/593\n",
      "-          Current Progress:  18 % - Circle 2\n",
      "-          Current Progress:  18 % - Difference 1\n",
      "--         Current Progress:  22 % - Resolving domains\n",
      "Memory: 406/414 582/593\n",
      "--         Current Progress:  22 % - Cylinder Block 2 - Magnet II - 2Q\n",
      "Memory: 407/414 583/593\n",
      "--         Current Progress:  22 % - Circle 1\n",
      "Memory: 414/414 587/593\n",
      "--         Current Progress:  22 % - Circle 2\n",
      "Memory: 414/415 588/593\n",
      "--         Current Progress:  23 % - Difference 1\n",
      "Memory: 415/415 588/593\n",
      "--         Current Progress:  26 % - Resolving domains\n",
      "--         Current Progress:  26 % - Cylinder Block 3 - Magnet II - 1Q\n",
      "Memory: 416/416 588/593\n",
      "--         Current Progress:  26 % - Circle 1\n",
      "Memory: 419/419 589/593\n",
      "--         Current Progress:  27 % - Circle 2\n",
      "Memory: 420/420 589/593\n",
      "--         Current Progress:  27 % - Difference 1\n",
      "---        Current Progress:  30 % - Resolving domains\n",
      "---        Current Progress:  31 % - Cylinder Block 3 - Magnet II - 2Q\n",
      "---        Current Progress:  31 % - Circle 1\n",
      "Memory: 424/425 589/593\n",
      "---        Current Progress:  31 % - Circle 2\n",
      "Memory: 425/425 589/593\n",
      "---        Current Progress:  31 % - Difference 1\n",
      "---        Current Progress:  35 % - Resolving domains\n",
      "---        Current Progress:  35 % - Cylinder Block - Iron II\n",
      "---        Current Progress:  35 % - Circle 1\n",
      "Memory: 430/430 590/593\n",
      "---        Current Progress:  35 % - Circle 2\n",
      "---        Current Progress:  36 % - Difference 1\n",
      "Memory: 431/431 590/593\n",
      "---        Current Progress:  39 % - Resolving domains\n",
      "---        Current Progress:  39 % - Cylinder Block 1 - Magnet IV - 1Q\n",
      "Memory: 432/432 590/593\n",
      "---        Current Progress:  39 % - Circle 1\n",
      "Memory: 436/436 591/593\n",
      "----       Current Progress:  40 % - Circle 2\n",
      "----       Current Progress:  40 % - Difference 1\n",
      "----       Current Progress:  43 % - Resolving domains\n",
      "----       Current Progress:  44 % - Cylinder Block 1 - Magnet IV - 2Q\n",
      "Memory: 437/437 591/593\n",
      "----       Current Progress:  44 % - Circle 1\n",
      "Memory: 441/441 591/593\n",
      "----       Current Progress:  44 % - Circle 2\n",
      "----       Current Progress:  44 % - Difference 1\n",
      "----       Current Progress:  48 % - Resolving domains\n",
      "Memory: 442/442 593/593\n",
      "----       Current Progress:  48 % - Cylinder Block 2 - Magnet IV - 1Q\n",
      "Memory: 441/442 591/593\n",
      "----       Current Progress:  48 % - Circle 1\n",
      "Memory: 445/446 591/593\n",
      "----       Current Progress:  48 % - Circle 2\n",
      "----       Current Progress:  49 % - Difference 1\n",
      "-----      Current Progress:  52 % - Resolving domains\n",
      "-----      Current Progress:  52 % - Cylinder Block 2 - Magnet IV - 2Q\n",
      "Memory: 446/446 591/593\n",
      "-----      Current Progress:  52 % - Circle 1\n",
      "Memory: 450/450 592/593\n",
      "-----      Current Progress:  53 % - Circle 2\n",
      "-----      Current Progress:  53 % - Difference 1\n",
      "-----      Current Progress:  56 % - Resolving domains\n",
      "-----      Current Progress:  57 % - Cylinder Block 3 - Magnet IV - 1Q\n",
      "-----      Current Progress:  57 % - Circle 1\n",
      "Memory: 452/452 593/593\n",
      "-----      Current Progress:  57 % - Circle 2\n",
      "-----      Current Progress:  57 % - Difference 1\n",
      "Memory: 453/453 594/594\n",
      "------     Current Progress:  61 % - Resolving domains\n",
      "------     Current Progress:  61 % - Cylinder Block 3 - Magnet IV - 2Q\n",
      "------     Current Progress:  61 % - Circle 1\n",
      "Memory: 455/455 596/596\n",
      "------     Current Progress:  61 % - Circle 2\n",
      "------     Current Progress:  62 % - Difference 1\n",
      "------     Current Progress:  65 % - Resolving domains\n",
      "------     Current Progress:  65 % - Cylinder Block - Iron IV\n",
      "------     Current Progress:  65 % - Circle 1\n",
      "Memory: 456/456 597/597\n",
      "------     Current Progress:  66 % - Circle 2\n",
      "------     Current Progress:  66 % - Difference 1\n",
      "Memory: 457/457 599/599\n",
      "-------    Current Progress:  70 % - Resolving domains\n",
      "Memory: 456/457 597/599\n",
      "-------    Current Progress:  70 % - Air Gap Cylinder Block High Field  1Q\n",
      "Memory: 456/458 598/600\n",
      "-------    Current Progress:  70 % - Circle 1\n",
      "Memory: 458/471 586/600\n",
      "-------    Current Progress:  70 % - Circle 2\n",
      "-------    Current Progress:  71 % - Difference 1\n",
      "-------    Current Progress:  74 % - Resolving domains\n",
      "-------    Current Progress:  74 % - Air Gap Cylinder Block Low Field  1Q\n",
      "-------    Current Progress:  74 % - Circle 1\n",
      "Memory: 459/471 588/600\n",
      "-------    Current Progress:  75 % - Circle 2\n",
      "-------    Current Progress:  75 % - Difference 1\n",
      "-------    Current Progress:  78 % - Resolving domains\n",
      "-------    Current Progress:  79 % - Air Gap Cylinder Block High Field  2Q\n",
      "Memory: 460/471 588/600\n",
      "-------    Current Progress:  79 % - Circle 1\n",
      "Memory: 463/471 591/600\n",
      "-------    Current Progress:  79 % - Circle 2\n",
      "-------    Current Progress:  79 % - Difference 1\n",
      "--------   Current Progress:  83 % - Resolving domains\n",
      "--------   Current Progress:  83 % - Air Gap Cylinder Block Low Field  2Q\n",
      "--------   Current Progress:  83 % - Circle 1\n",
      "Memory: 464/471 592/600\n",
      "--------   Current Progress:  83 % - Circle 2\n",
      "--------   Current Progress:  84 % - Difference 1\n",
      "--------   Current Progress:  87 % - Resolving domains\n",
      "--------   Current Progress:  87 % - Flux Concentrator Shell\n",
      "Memory: 465/471 593/600\n",
      "--------   Current Progress:  87 % - Circle 1\n",
      "Memory: 467/471 597/600\n",
      "--------   Current Progress:  88 % - Circle 2\n",
      "Memory: 469/471 597/600\n",
      "--------   Current Progress:  88 % - Difference 1\n",
      "---------  Current Progress:  91 % - Resolving domains\n",
      "---------  Current Progress:  92 % - Environment Cylinder Shell\n",
      "---------  Current Progress:  92 % - Circle 1\n",
      "---------  Current Progress:  92 % - Circle 2\n",
      "---------  Current Progress:  92 % - Difference 1\n",
      "---------  Current Progress:  96 % - Resolving domains\n",
      "Memory: 464/471 592/600\n",
      "---------  Current Progress:  96 % - Form Union\n",
      "Memory: 470/471 598/600\n",
      "---------  Current Progress:  99 % - Resolving domains\n",
      "Memory: 479/479 607/607\n",
      "---------- Current Progress: 100 % - Creating rendering mesh\n",
      "Memory: 470/482 597/610\n",
      "           Current Progress:   0 % - Free Triangular 1\n",
      "Memory: 524/546 625/652\n",
      "Number of vertex elements: 44\n",
      "Number of boundary elements: 967\n",
      "----       Current Progress:  44 % - Improving element quality\n",
      "Memory: 530/546 630/652\n",
      "Number of elements: 8673\n",
      "Minimum element quality: 0.7396\n",
      "-----      Current Progress:  59 % - Improving element quality\n",
      "Memory: 531/546 633/652\n",
      "-----      Current Progress:  59 % - Mapped 1\n",
      "Memory: 531/546 634/652\n",
      "Number of vertex elements: 47\n",
      "Number of boundary elements: 1157\n",
      "Number of elements: 9573\n",
      "Minimum element quality: 0.01933\n",
      "---------- Current Progress: 100 % - Creating mapped mesh\n",
      "Memory: 532/546 634/652\n",
      "Geometry shape order: Quadratic\n",
      "           Current Progress:   5 % - Compiling equations\n",
      "Memory: 587/593 676/679\n",
      "           Current Progress:   5 % - Dependent Variables 1\n",
      "Memory: 599/612 688/694\n",
      "Stationary Solver 1 in Study 1/Solution 1 (sol1) started at 9-fev-2017 09:22:16.\n",
      "Linear solver\n",
      "Number of degrees of freedom solved for: 21240.\n",
      "Symmetric matrices found.\n",
      "Format not changed since Incomplete LU uses nonsymmetric storage.\n",
      "Scales for dependent variables:\n",
      "Magnetic scalar potential (nhalbach_system.Vm): 1\n",
      "Orthonormal null-space function used.\n",
      "Iter      SolEst     Damping    Stepsize #Res #Jac #Sol LinIt   LinErr   LinRes\n",
      "-------    Current Progress:  73 % - Solving linear system\n",
      "Memory: 626/626 711/711\n",
      "--------   Current Progress:  86 % - Solving linear system\n",
      "Memory: 598/626 689/711\n",
      "--------   Current Progress:  84 % - Solving linear system\n",
      "Memory: 597/626 688/711\n",
      "--------   Current Progress:  89 % - Solving linear system\n",
      "---------  Current Progress:  92 % - Solving linear system\n",
      "--------   Current Progress:  89 % - Solving linear system\n",
      "--------   Current Progress:  86 % - Solving linear system\n",
      "---------  Current Progress:  92 % - Solving linear system\n",
      "---------  Current Progress:  94 % - Solving linear system\n",
      "---------  Current Progress:  96 % - Solving linear system\n",
      "---------  Current Progress:  95 % - Solving linear system\n",
      "--------   Current Progress:  87 % - Solving linear system\n",
      "---------  Current Progress:  98 % - Solving linear system\n",
      "---------  Current Progress:  97 % - Solving linear system\n",
      "   1        0.66   1.0000000        0.66    1    1    1   705  0.00067 3.2e-007\n",
      "---------- Current Progress: 100 % - Updating plots\n",
      "Memory: 580/626 668/711\n",
      "Stationary Solver 1 in Study 1/Solution 1 (sol1): Solution time: 5 s\n",
      "                                                  Physical memory: 626 MB\n",
      "                                                  Virtual memory: 711 MB\n",
      "-----      Current Progress:  55 % - Evaluating\n",
      "Memory: 615/626 687/711\n",
      "-          Current Progress:  10 % - Evaluating\n",
      "Memory: 616/626 687/711\n",
      "-----      Current Progress:  55 % - Evaluating\n",
      "Memory: 618/626 690/711\n",
      "Class run time: 25 s.\n",
      "Saving model: C:\\Users\\fabiofortkamp\\code\\teslamax\\java\\TeslaMax_Model.mph\n",
      "Save time: 0 s.\n",
      "Total time: 26 s.\n",
      "---------- Current Progress: 100 % - Done\n",
      "Memory: 598/626 668/711\n",
      "\n"
     ]
    }
   ],
   "source": [
    "tmm.run(verbose=True)"
   ]
  },
  {
   "cell_type": "code",
   "execution_count": 29,
   "metadata": {
    "collapsed": false
   },
   "outputs": [
    {
     "data": {
      "text/plain": [
       "<matplotlib.text.Text at 0x2661ac3d198>"
      ]
     },
     "execution_count": 29,
     "metadata": {},
     "output_type": "execute_result"
    },
    {
     "data": {
      "image/png": "[encoded data removed]",
      "text/plain": [
       "<matplotlib.figure.Figure at 0x2661aa0b978>"
      ]
     },
     "metadata": {},
     "output_type": "display_data"
    }
   ],
   "source": [
    "%matplotlib inline\n",
    "plt.rc('font',size=FONTSIZE)\n",
    "\n",
    "profile_fig = plt.figure(figsize=(FIGSIZE_INCHES,FIGSIZE_INCHES))\n",
    "profile_axes = profile_fig.add_subplot(111)\n",
    "\n",
    "phi_vector, B_vector = tmm.get_profile_data().T\n",
    "\n",
    "profile_axes.plot(phi_vector,B_vector)\n",
    "profile_axes.set_xlim(0,np.max(phi_vector))\n",
    "profile_axes.set_xticks(np.linspace(0,np.max(phi_vector),9))\n",
    "profile_axes.xaxis.grid(True)\n",
    "profile_axes.set_xlabel(r'$\\phi [\\si{\\degree}]$')\n",
    "profile_axes.set_ylabel(r'$B [\\si{\\tesla}]$')\n"
   ]
  },
  {
   "cell_type": "markdown",
   "metadata": {},
   "source": [
    "### Magnet profile - comparison between linear and non-linear iron regions"
   ]
  },
  {
   "cell_type": "code",
   "execution_count": 30,
   "metadata": {
    "collapsed": false
   },
   "outputs": [],
   "source": [
    "param_dict_linear_5000 = {\"R_i\": 0.015,\n",
    "                \"R_o\": 0.070,\n",
    "                \"h_gap\": 0.020,\n",
    "                \"R_s\": 0.140,\n",
    "                \"h_fc\": 0.010,\n",
    "                \"R_e\": 2,\n",
    "                \"n_IV\": 3,\n",
    "                \"alpha_rem_IV_1\": 15,\n",
    "                \"alpha_rem_IV_2\": 45,\n",
    "                \"alpha_rem_IV_3\": 135,\n",
    "                \"phi_S_IV\": 45,\n",
    "                \"n_II\": 3,\n",
    "                \"alpha_rem_II_1\": 15,\n",
    "                \"alpha_rem_II_2\": 30,\n",
    "                \"alpha_rem_II_3\": 45,\n",
    "                \"phi_C_II\": 15,\n",
    "                \"phi_S_II\": 45,\n",
    "                \"B_rem_II_1\": 1.4,\n",
    "                \"B_rem_II_2\": 1.4,\n",
    "                \"B_rem_II_3\": 1.4,\n",
    "                \"mu_r_II\": 1.05,\n",
    "                \"B_rem_IV_1\": 1.4,\n",
    "                \"B_rem_IV_2\": 1.4,\n",
    "                \"B_rem_IV_3\": 1.4,\n",
    "                \"mu_r_IV\": 1.05,\n",
    "              \"linear_iron\": 1,\n",
    "              \"mu_r_iron\": 5e3,\n",
    "             }\n",
    "\n",
    "param_dict_non_linear = param_dict_linear_5000.copy()\n",
    "param_dict_non_linear[\"linear_iron\"] = 0\n",
    "\n",
    "param_dict_linear_1000 = param_dict_linear_5000.copy()\n",
    "param_dict_linear_1000[\"mu_r_iron\"] = 1e3\n",
    "\n"
   ]
  },
  {
   "cell_type": "code",
   "execution_count": 31,
   "metadata": {
    "collapsed": false
   },
   "outputs": [],
   "source": [
    "tmm_linear_5000 = TeslaMaxModel(params=param_dict_linear_5000,\n",
    "                               path=teslamax_playground)\n",
    "tmm_linear_5000.run()\n",
    "\n",
    "phi_vector_linear_5000, B_vector_linear_5000 = tmm_linear_5000.get_profile_data().T\n"
   ]
  },
  {
   "cell_type": "code",
   "execution_count": 32,
   "metadata": {
    "collapsed": false
   },
   "outputs": [],
   "source": [
    "tmm_linear_1000 = TeslaMaxModel(params=param_dict_linear_1000,\n",
    "                               path=teslamax_playground)\n",
    "tmm_linear_1000.run()\n",
    "\n",
    "phi_vector_linear_1000, B_vector_linear_1000 = tmm_linear_1000.get_profile_data().T\n"
   ]
  },
  {
   "cell_type": "code",
   "execution_count": 33,
   "metadata": {
    "collapsed": false
   },
   "outputs": [],
   "source": [
    "tmm_non_linear = TeslaMaxModel(params=param_dict_non_linear,\n",
    "                               path=teslamax_playground)\n",
    "tmm_non_linear.run()\n",
    "\n",
    "phi_vector_non_linear, B_vector_non_linear = tmm_non_linear.get_profile_data().T\n"
   ]
  },
  {
   "cell_type": "code",
   "execution_count": 34,
   "metadata": {
    "collapsed": false
   },
   "outputs": [
    {
     "data": {
      "text/plain": [
       "<matplotlib.legend.Legend at 0x2661ae0fbe0>"
      ]
     },
     "execution_count": 34,
     "metadata": {},
     "output_type": "execute_result"
    },
    {
     "data": {
      "image/png": "[encoded data removed]",
      "text/plain": [
       "<matplotlib.figure.Figure at 0x2661ab0f390>"
      ]
     },
     "metadata": {},
     "output_type": "display_data"
    }
   ],
   "source": [
    "%matplotlib inline\n",
    "plt.rc('font',size=FONTSIZE)\n",
    "\n",
    "profile_fig = plt.figure(figsize=(FIGSIZE_INCHES,FIGSIZE_INCHES))\n",
    "profile_axes = profile_fig.add_subplot(111)\n",
    "\n",
    "profile_axes.plot(phi_vector_linear_5000,B_vector_linear_5000,label=\"Linear 5000\")\n",
    "profile_axes.plot(phi_vector_linear_1000,B_vector_linear_1000,label=\"Linear 1000\")\n",
    "profile_axes.plot(phi_vector_non_linear,B_vector_non_linear,label=\"Non-linear\")\n",
    "\n",
    "profile_axes.set_xlim(0,np.max(phi_vector))\n",
    "profile_axes.set_xticks(np.linspace(0,np.max(phi_vector),9))\n",
    "profile_axes.xaxis.grid(True)\n",
    "profile_axes.set_xlabel(r'$\\phi [\\si{\\degree}]$')\n",
    "profile_axes.set_ylabel(r'$B [\\si{\\tesla}]$')\n",
    "profile_axes.legend(loc='best')\n"
   ]
  },
  {
   "cell_type": "markdown",
   "metadata": {},
   "source": [
    "### Magnet profile - comparison between iron and magnet core"
   ]
  },
  {
   "cell_type": "code",
   "execution_count": 42,
   "metadata": {
    "collapsed": false
   },
   "outputs": [],
   "source": [
    "param_dict_magnet = {\"R_i\": 0.015,\n",
    "                \"R_o\": 0.070,\n",
    "                \"h_gap\": 0.020,\n",
    "                \"R_s\": 0.140,\n",
    "                \"h_fc\": 0.020,\n",
    "                \"R_e\": 2,\n",
    "                \"n_IV\": 3,\n",
    "                \"alpha_rem_IV_1\": 15,\n",
    "                \"alpha_rem_IV_2\": 45,\n",
    "                \"alpha_rem_IV_3\": 75,\n",
    "                \"phi_S_IV\": 45,\n",
    "                \"n_II\": 2,\n",
    "                \"alpha_rem_II_1\": -45,\n",
    "                \"alpha_rem_II_2\": -45,\n",
    "                \"phi_C_II\": 15,\n",
    "                \"phi_S_II\": 45,\n",
    "                 \"B_rem_II_1\": 1.4,\n",
    "                \"B_rem_II_2\": 1.4,\n",
    "                \"B_rem_II_3\": 1.4,\n",
    "                \"mu_r_II\": 1.05,\n",
    "                \"B_rem_IV_1\": 1.4,\n",
    "                \"B_rem_IV_2\": 1.4,\n",
    "                \"B_rem_IV_3\": 1.4,\n",
    "                \"mu_r_IV\": 1.05,\n",
    "                \"linear_iron\": 0\n",
    "             }\n",
    "\n",
    "param_dict_iron = param_dict_magnet.copy()\n",
    "param_dict_iron[\"n_II\"] = 0\n",
    "param_dict_iron[\"phi_C_II\"] = 0\n",
    "param_dict_iron[\"phi_S_II\"] = 0\n",
    "\n"
   ]
  },
  {
   "cell_type": "code",
   "execution_count": 43,
   "metadata": {
    "collapsed": false
   },
   "outputs": [
    {
     "name": "stdout",
     "output_type": "stream",
     "text": [
      "*******************************************\n",
      "***COMSOL 5.2.1.229 progress output file***\n",
      "*******************************************\n",
      "Thu Feb 09 09:32:46 BRST 2017\n",
      "COMSOL 5.2a (Build: 229) starting in batch mode\n",
      "Running: C:\\Users\\fabiofortkamp\\code\\teslamax\\java\\TeslaMax.class\n",
      "           Current Progress:   0 % - Circle 1\n",
      "Memory: 375/377 572/574\n",
      "           Current Progress:   8 % - Circle 2\n",
      "Memory: 367/385 565/584\n",
      "-          Current Progress:  17 % - Difference 1\n",
      "---------  Current Progress:  93 % - Resolving domains\n",
      "Memory: 370/385 566/584\n",
      "           Current Progress:   0 % - Circle 1\n",
      "Memory: 371/385 567/584\n",
      "           Current Progress:   8 % - Circle 2\n",
      "Memory: 371/385 568/584\n",
      "-          Current Progress:  17 % - Difference 1\n",
      "Memory: 372/385 568/584\n",
      "---------  Current Progress:  93 % - Resolving domains\n",
      "           Current Progress:   0 % - Cylinder Block - Iron II Wedge 1Q\n",
      "Memory: 389/391 584/585\n",
      "           Current Progress:   0 % - Circle 1\n",
      "Memory: 392/392 586/586\n",
      "           Current Progress:   0 % - Circle 2\n",
      "           Current Progress:   1 % - Difference 1\n",
      "           Current Progress:   4 % - Resolving domains\n",
      "           Current Progress:   5 % - Cylinder Block - Iron II Wedge 2Q\n",
      "           Current Progress:   5 % - Circle 1\n",
      "Memory: 393/393 586/586\n",
      "           Current Progress:   5 % - Circle 2\n",
      "           Current Progress:   6 % - Difference 1\n",
      "Memory: 391/393 586/586\n",
      "           Current Progress:   9 % - Resolving domains\n",
      "Memory: 390/393 583/586\n",
      "-          Current Progress:  10 % - Cylinder Block 1 - Magnet II - 1Q\n",
      "Memory: 384/393 577/586\n",
      "-          Current Progress:  10 % - Circle 1\n",
      "Memory: 388/393 579/586\n",
      "-          Current Progress:  10 % - Circle 2\n",
      "-          Current Progress:  10 % - Difference 1\n",
      "-          Current Progress:  14 % - Resolving domains\n",
      "-          Current Progress:  14 % - Cylinder Block 1 - Magnet II - 2Q\n",
      "-          Current Progress:  14 % - Circle 1\n",
      "Memory: 392/393 579/586\n",
      "-          Current Progress:  15 % - Circle 2\n",
      "-          Current Progress:  15 % - Difference 1\n",
      "-          Current Progress:  19 % - Resolving domains\n",
      "-          Current Progress:  19 % - Cylinder Block 2 - Magnet II - 1Q\n",
      "Memory: 393/393 580/586\n",
      "-          Current Progress:  19 % - Circle 1\n",
      "Memory: 397/397 581/586\n",
      "--         Current Progress:  20 % - Circle 2\n",
      "--         Current Progress:  20 % - Difference 1\n",
      "Memory: 398/398 581/586\n",
      "--         Current Progress:  24 % - Resolving domains\n",
      "--         Current Progress:  24 % - Cylinder Block 2 - Magnet II - 2Q\n",
      "--         Current Progress:  24 % - Circle 1\n",
      "Memory: 401/401 580/586\n",
      "--         Current Progress:  24 % - Circle 2\n",
      "--         Current Progress:  25 % - Difference 1\n",
      "--         Current Progress:  28 % - Resolving domains\n",
      "--         Current Progress:  29 % - Cylinder Block - Iron II\n",
      "Memory: 402/402 580/586\n",
      "--         Current Progress:  29 % - Circle 1\n",
      "Memory: 405/405 580/586\n",
      "--         Current Progress:  29 % - Circle 2\n",
      "--         Current Progress:  29 % - Difference 1\n",
      "---        Current Progress:  33 % - Resolving domains\n",
      "---        Current Progress:  33 % - Cylinder Block 1 - Magnet IV - 1Q\n",
      "Memory: 406/406 580/586\n",
      "---        Current Progress:  33 % - Circle 1\n",
      "Memory: 409/409 580/586\n",
      "---        Current Progress:  34 % - Circle 2\n",
      "---        Current Progress:  34 % - Difference 1\n",
      "---        Current Progress:  38 % - Resolving domains\n",
      "Memory: 410/410 580/586\n",
      "---        Current Progress:  38 % - Cylinder Block 1 - Magnet IV - 2Q\n",
      "---        Current Progress:  38 % - Circle 1\n",
      "Memory: 415/415 582/586\n",
      "---        Current Progress:  39 % - Circle 2\n",
      "---        Current Progress:  39 % - Difference 1\n",
      "----       Current Progress:  43 % - Resolving domains\n",
      "----       Current Progress:  43 % - Cylinder Block 2 - Magnet IV - 1Q\n",
      "----       Current Progress:  43 % - Circle 1\n",
      "Memory: 419/419 582/586\n",
      "----       Current Progress:  43 % - Circle 2\n",
      "----       Current Progress:  44 % - Difference 1\n",
      "----       Current Progress:  47 % - Resolving domains\n",
      "----       Current Progress:  48 % - Cylinder Block 2 - Magnet IV - 2Q\n",
      "Memory: 420/421 582/586\n",
      "----       Current Progress:  48 % - Circle 1\n",
      "Memory: 424/424 582/586\n",
      "----       Current Progress:  48 % - Circle 2\n",
      "----       Current Progress:  49 % - Difference 1\n",
      "-----      Current Progress:  52 % - Resolving domains\n",
      "-----      Current Progress:  53 % - Cylinder Block 3 - Magnet IV - 1Q\n",
      "Memory: 425/426 582/586\n",
      "-----      Current Progress:  53 % - Circle 1\n",
      "Memory: 429/429 583/586\n",
      "-----      Current Progress:  53 % - Circle 2\n",
      "-----      Current Progress:  53 % - Difference 1\n",
      "Memory: 430/430 584/586\n",
      "-----      Current Progress:  57 % - Resolving domains\n",
      "-----      Current Progress:  57 % - Cylinder Block 3 - Magnet IV - 2Q\n",
      "Memory: 434/434 588/588\n",
      "-----      Current Progress:  57 % - Circle 1\n",
      "Memory: 438/438 589/589\n",
      "-----      Current Progress:  58 % - Circle 2\n",
      "Memory: 439/439 589/589\n",
      "-----      Current Progress:  58 % - Difference 1\n",
      "------     Current Progress:  62 % - Resolving domains\n",
      "------     Current Progress:  62 % - Cylinder Block - Iron IV\n",
      "------     Current Progress:  62 % - Circle 1\n",
      "Memory: 444/444 590/590\n",
      "------     Current Progress:  63 % - Circle 2\n",
      "------     Current Progress:  63 % - Difference 1\n",
      "Memory: 444/444 592/592\n",
      "------     Current Progress:  67 % - Resolving domains\n",
      "Memory: 446/446 592/592\n",
      "------     Current Progress:  67 % - Air Gap Cylinder Block High Field  1Q\n",
      "Memory: 447/447 593/593\n",
      "------     Current Progress:  67 % - Circle 1\n",
      "Memory: 448/449 593/594\n",
      "------     Current Progress:  67 % - Circle 2\n",
      "------     Current Progress:  68 % - Difference 1\n",
      "Memory: 446/449 592/594\n",
      "-------    Current Progress:  71 % - Resolving domains\n",
      "Memory: 448/449 592/594\n",
      "-------    Current Progress:  72 % - Air Gap Cylinder Block Low Field  1Q\n",
      "-------    Current Progress:  72 % - Circle 1\n",
      "Memory: 445/449 590/594\n",
      "-------    Current Progress:  72 % - Circle 2\n",
      "-------    Current Progress:  73 % - Difference 1\n",
      "-------    Current Progress:  76 % - Resolving domains\n",
      "-------    Current Progress:  76 % - Air Gap Cylinder Block High Field  2Q\n",
      "-------    Current Progress:  76 % - Circle 1\n",
      "-------    Current Progress:  77 % - Circle 2\n",
      "Memory: 443/449 587/594\n",
      "-------    Current Progress:  77 % - Difference 1\n",
      "Memory: 444/449 589/594\n",
      "--------   Current Progress:  81 % - Resolving domains\n",
      "Memory: 443/449 587/594\n",
      "--------   Current Progress:  81 % - Air Gap Cylinder Block Low Field  2Q\n",
      "Memory: 436/449 580/594\n",
      "--------   Current Progress:  81 % - Circle 1\n",
      "Memory: 441/449 586/594\n",
      "--------   Current Progress:  82 % - Circle 2\n",
      "--------   Current Progress:  82 % - Difference 1\n",
      "--------   Current Progress:  86 % - Resolving domains\n",
      "--------   Current Progress:  86 % - Flux Concentrator Shell\n",
      "--------   Current Progress:  86 % - Circle 1\n",
      "Memory: 447/454 577/594\n",
      "--------   Current Progress:  86 % - Circle 2\n",
      "--------   Current Progress:  87 % - Difference 1\n",
      "---------  Current Progress:  91 % - Resolving domains\n",
      "---------  Current Progress:  91 % - Environment Cylinder Shell\n",
      "---------  Current Progress:  91 % - Circle 1\n",
      "Memory: 447/454 578/594\n",
      "---------  Current Progress:  91 % - Circle 2\n",
      "---------  Current Progress:  92 % - Difference 1\n",
      "---------  Current Progress:  95 % - Resolving domains\n",
      "---------  Current Progress:  96 % - Form Union\n",
      "---------  Current Progress:  99 % - Resolving domains\n",
      "Memory: 451/454 581/594\n",
      "---------- Current Progress: 100 % - Creating rendering mesh\n",
      "Memory: 462/462 592/594\n",
      "           Current Progress:   0 % - Free Triangular 1\n",
      "Memory: 509/547 608/647\n",
      "Number of vertex elements: 40\n",
      "Number of boundary elements: 622\n",
      "Number of elements: 5147\n",
      "Minimum element quality: 0.7152\n",
      "-----      Current Progress:  59 % - Improving element quality\n",
      "Memory: 513/547 612/647\n",
      "-----      Current Progress:  59 % - Mapped 1\n",
      "Memory: 514/547 612/647\n",
      "Number of vertex elements: 43\n",
      "Number of boundary elements: 726\n",
      "Number of elements: 5617\n",
      "Minimum element quality: 0.0393\n",
      "---------- Current Progress: 100 % - Creating mapped mesh\n",
      "Memory: 500/547 597/647\n",
      "Geometry shape order: Quadratic\n",
      "           Current Progress:   5 % - Compiling equations\n",
      "Memory: 583/584 670/675\n",
      "           Current Progress:   5 % - Creating rendering mesh\n",
      "Memory: 595/595 682/683\n",
      "           Current Progress:   5 % - Dependent Variables 1\n",
      "Memory: 600/600 687/687\n",
      "Stationary Solver 1 in Study 1/Solution 1 (sol1) started at 9-fev-2017 09:33:04.\n",
      "Nonlinear solver\n",
      "Number of degrees of freedom solved for: 12378.\n",
      "Symmetric matrices found.\n",
      "Format not changed since Incomplete LU uses nonsymmetric storage.\n",
      "Scales for dependent variables:\n",
      "Magnetic scalar potential (nhalbach_system.Vm): 1\n",
      "Orthonormal null-space function used.\n",
      "Iter      SolEst      ResEst     Damping    Stepsize #Res #Jac #Sol LinIt   LinErr   LinRes\n",
      "           Current Progress:   9 % - Solving linear system\n",
      "Memory: 633/633 717/717\n",
      "   1        0.54    1.7e+003   1.0000000        0.97    2    1    3   187    0.054 3.9e-005\n",
      "-          Current Progress:  18 % - Preconditioning\n",
      "Memory: 628/640 714/724\n",
      "-          Current Progress:  18 % - Solving linear system\n",
      "Memory: 629/640 716/724\n",
      "   2        0.55      2e+003   0.3553715        0.69    3    2    5   376     0.07 6.4e-005\n",
      "--         Current Progress:  27 % - Solving linear system\n",
      "Memory: 630/640 716/724\n",
      "   3        0.81    1.8e+003   0.1467916        0.93    4    3    7   544    0.088 8.3e-005\n",
      "--         Current Progress:  25 % - Solving linear system\n",
      "   4        0.75    1.4e+003   0.2417181        0.92    5    4    9   690    0.095  0.00014\n",
      "----       Current Progress:  48 % - Solving linear system\n",
      "Memory: 577/640 663/724\n",
      "   5         1.1    1.1e+003   0.2881598         1.4    6    5   11   845    0.096  0.00015\n",
      "----       Current Progress:  44 % - Solving linear system\n",
      "Memory: 573/640 657/724\n",
      "   6        0.37    6.6e+002   0.6969400        0.92    7    6   13  1033     0.09  0.00014\n",
      "-------    Current Progress:  78 % - Preconditioning\n",
      "-------    Current Progress:  78 % - Solving linear system\n",
      "Memory: 574/640 658/724\n",
      "   7       0.024    2.2e+002   1.0000000        0.45    8    7   16  1243    0.083 1.3e-005\n",
      "---------  Current Progress:  92 % - Solving linear system\n",
      "Memory: 573/640 657/724\n",
      "   8     0.00034          20   1.0000000       0.013    9    8   19  1415     0.09 2.8e-005\n",
      "---------- Current Progress: 100 % - Updating plots\n",
      "Memory: 587/640 672/724\n",
      "Stationary Solver 1 in Study 1/Solution 1 (sol1): Solution time: 6 s\n",
      "                                                  Physical memory: 634 MB\n",
      "                                                  Virtual memory: 718 MB\n",
      "-----      Current Progress:  55 % - Evaluating\n",
      "Memory: 609/640 694/724\n",
      "Class run time: 24 s.\n",
      "Saving model: C:\\Users\\fabiofortkamp\\code\\teslamax\\java\\TeslaMax_Model.mph\n",
      "Save time: 0 s.\n",
      "Total time: 25 s.\n",
      "---------- Current Progress: 100 % - Done\n",
      "Memory: 630/640 713/724\n",
      "\n"
     ]
    }
   ],
   "source": [
    "tmm_magnet = TeslaMaxModel(params=param_dict_magnet,\n",
    "                          path=teslamax_playground)\n",
    "tmm_magnet.run(verbose=True)"
   ]
  },
  {
   "cell_type": "code",
   "execution_count": 44,
   "metadata": {
    "collapsed": false
   },
   "outputs": [],
   "source": [
    "tmm_iron = TeslaMaxModel(params=param_dict_iron,\n",
    "                          path=teslamax_playground)\n",
    "tmm_iron.run()"
   ]
  },
  {
   "cell_type": "code",
   "execution_count": 46,
   "metadata": {
    "collapsed": false
   },
   "outputs": [],
   "source": [
    "phi_vector_magnet, B_vector_magnet = tmm_magnet.get_profile_data().T\n",
    "phi_vector_iron, B_vector_iron = tmm_iron.get_profile_data().T"
   ]
  },
  {
   "cell_type": "code",
   "execution_count": 50,
   "metadata": {
    "collapsed": false
   },
   "outputs": [
    {
     "data": {
      "text/plain": [
       "array([ 0.,  0.,  0.,  0.,  0.,  0.,  0.,  0.,  0.,  0.,  0.,  0.,  0.,\n",
       "        0.,  0.,  0.,  0.,  0.,  0.,  0.,  0.,  0.,  0.,  0.,  0.,  0.,\n",
       "        0.,  0.,  0.,  0.,  0.,  0.,  0.,  0.,  0.,  0.,  0.,  0.,  0.,\n",
       "        0.,  0.,  0.,  0.,  0.,  0.,  0.,  0.,  0.,  0.,  0.,  0.,  0.,\n",
       "        0.,  0.,  0.,  0.,  0.,  0.,  0.,  0.,  0.,  0.,  0.,  0.,  0.,\n",
       "        0.,  0.,  0.,  0.,  0.,  0.,  0.,  0.,  0.,  0.,  0.,  0.,  0.,\n",
       "        0.,  0.,  0.,  0.,  0.,  0.,  0.,  0.,  0.,  0.,  0.,  0.,  0.,\n",
       "        0.,  0.,  0.,  0.,  0.,  0.,  0.,  0.,  0.,  0.,  0.,  0.,  0.,\n",
       "        0.,  0.,  0.,  0.,  0.,  0.,  0.,  0.,  0.,  0.,  0.,  0.,  0.,\n",
       "        0.,  0.,  0.,  0.,  0.,  0.,  0.,  0.,  0.,  0.,  0.,  0.,  0.,\n",
       "        0.,  0.,  0.,  0.,  0.,  0.,  0.,  0.,  0.,  0.,  0.,  0.,  0.,\n",
       "        0.,  0.,  0.,  0.,  0.,  0.,  0.,  0.,  0.,  0.,  0.,  0.,  0.,\n",
       "        0.,  0.,  0.,  0.,  0.,  0.,  0.,  0.,  0.,  0.,  0.,  0.,  0.,\n",
       "        0.,  0.,  0.,  0.,  0.,  0.,  0.,  0.,  0.,  0.,  0.,  0.,  0.,\n",
       "        0.,  0.,  0.,  0.,  0.,  0.,  0.,  0.,  0.,  0.,  0.,  0.,  0.,\n",
       "        0.,  0.,  0.,  0.,  0.])"
      ]
     },
     "execution_count": 50,
     "metadata": {},
     "output_type": "execute_result"
    }
   ],
   "source": [
    "B_vector_iron - B_vector_iron"
   ]
  },
  {
   "cell_type": "code",
   "execution_count": 47,
   "metadata": {
    "collapsed": false
   },
   "outputs": [
    {
     "data": {
      "text/plain": [
       "<matplotlib.legend.Legend at 0x2661af24b00>"
      ]
     },
     "execution_count": 47,
     "metadata": {},
     "output_type": "execute_result"
    },
    {
     "data": {
      "image/png": "[encoded data removed]",
      "text/plain": [
       "<matplotlib.figure.Figure at 0x2661ae69470>"
      ]
     },
     "metadata": {},
     "output_type": "display_data"
    }
   ],
   "source": [
    "%matplotlib inline\n",
    "plt.rc('font',size=FONTSIZE)\n",
    "\n",
    "profile_fig = plt.figure(figsize=(FIGSIZE_INCHES,FIGSIZE_INCHES))\n",
    "profile_axes = profile_fig.add_subplot(111)\n",
    "\n",
    "profile_axes.plot(phi_vector_magnet,B_vector_magnet,label=\"Magnet\")\n",
    "profile_axes.plot(phi_vector_iron,B_vector_iron,label=\"Iron\")\n",
    "profile_axes.set_xlim(0,np.max(phi_vector))\n",
    "profile_axes.set_xticks(np.linspace(0,np.max(phi_vector),9))\n",
    "profile_axes.xaxis.grid(True)\n",
    "profile_axes.set_xlabel(r'$\\phi [\\si{\\degree}]$')\n",
    "profile_axes.set_ylabel(r'$B [\\si{\\tesla}]$')\n",
    "profile_axes.legend(loc='best')\n"
   ]
  },
  {
   "cell_type": "markdown",
   "metadata": {},
   "source": [
    "### Influence of the external radius"
   ]
  },
  {
   "cell_type": "markdown",
   "metadata": {},
   "source": [
    "In this code block, we run simulations for some values of $R\\ped{o}$, $h\\ped{gap}$ and $R\\ped{s}$. The innermost radius is fixed as $R\\ped{i} = 15 \\mathrm{mm}$. The material properties are fixed. \n",
    "\n",
    "We consider two cases:\n",
    "\n"
   ]
  },
  {
   "cell_type": "markdown",
   "metadata": {},
   "source": [
    "### Case 1: remanence from the analytical solution"
   ]
  },
  {
   "cell_type": "code",
   "execution_count": null,
   "metadata": {
    "collapsed": false
   },
   "outputs": [],
   "source": [
    "R_i = 15e-3\n",
    "\n",
    "R_o_values = np.array([40e-3,50e-3,60e-3])\n",
    "\n",
    "h_gap_values = np.array([20e-3,30e-3])\n",
    "\n",
    "params_base = {\"R_i\": R_i,\n",
    "                \"h_fc\": 0.020,\n",
    "                \"R_e\": 2,\n",
    "                \"n_IV\": 3,\n",
    "                \"phi_S_IV\": 45,\n",
    "                \"B_rem_IV\": 1.4,\n",
    "                \"mu_r_IV\": 1.05,\n",
    "               \"n_II\": 0, #iron core\n",
    "               \"phi_C_II\": 0,\n",
    "               \"phi_S_II\": 0,\n",
    "               \"linear_iron\": 1,\n",
    "               \"mu_r_iron\": 1e3,\n",
    "              }\n",
    "\n",
    "n_R_s_points = 10\n",
    "\n",
    "R_s_min = 100e-3\n",
    "R_s_max = 150e-3\n",
    "R_s_vector = np.linspace(R_s_min,R_s_max,n_R_s_points)\n",
    "\n",
    "i_sim = 0 #simulation index\n",
    "teslamax_table = DataFrame()\n",
    "for R_o in R_o_values:\n",
    "    \n",
    "    params_base[\"R_o\"] = R_o\n",
    "\n",
    "    for h_gap in h_gap_values:\n",
    "        \n",
    "        params_base[\"h_gap\"] = h_gap\n",
    "        \n",
    "        B_h_vector = np.empty(n_R_s_points)\n",
    "        B_l_vector = np.empty(n_R_s_points)\n",
    "        \n",
    "        i_R_s = 0 #innermost index to build the plot\n",
    "        for R_s in R_s_vector:\n",
    "            \n",
    "            params_base[\"R_s\"] = R_s\n",
    "            \n",
    "            # as a reference, we use the analytical model to determine\n",
    "            # the direction of remanence\n",
    "            \n",
    "            # for the outer magnet, it can be shown that, if a point is at an\n",
    "            # angular position \\phi from the horizontal, then the remanence\n",
    "            # is oriented with an angle 2\\phi\n",
    "            for k in range(0,params_base[\"n_IV\"]):\n",
    "                phi_segment_IV = (1.0/2 + k) * params_base[\"phi_S_IV\"]/params_base[\"n_IV\"]\n",
    "                params_base[\"alpha_rem_IV_%d\" %(k+1)] = 2*phi_segment_IV\n",
    "            \n",
    "            write_parameter_file_from_dict(params_base)\n",
    "                        \n",
    "            run_teslamax()\n",
    "            \n",
    "            results = read_main_results_file()\n",
    "            \n",
    "            B_high = results[\"B_high[T]\"]\n",
    "            B_h_vector[i_R_s] = B_high\n",
    "            \n",
    "            B_low = results[\"B_low[T]\"]\n",
    "            B_l_vector[i_R_s] = B_low\n",
    "            \n",
    "            parameters = get_comsol_parameters_series()\n",
    "            \n",
    "            simulation_row = DataFrame(pd.concat([parameters,results]).to_dict(),index=[i_sim,])\n",
    "            simulation_row.index.name = \"Case\"\n",
    "            simulation_row[\"n_IV\"] = simulation_row[\"n_IV\"].astype('int64')\n",
    "            i_sim = i_sim + 1\n",
    "            \n",
    "            teslamax_table = pd.concat([teslamax_table,simulation_row])\n",
    "            teslamax_table.to_csv(TESLAMAX_RESULTS_FILENAME,sep=' ')\n",
    "            \n",
    "            i_R_s = i_R_s+1"
   ]
  },
  {
   "cell_type": "markdown",
   "metadata": {},
   "source": [
    "## Case 2: random direction of remanence"
   ]
  },
  {
   "cell_type": "code",
   "execution_count": null,
   "metadata": {
    "collapsed": false
   },
   "outputs": [],
   "source": [
    "360*np.random.random()"
   ]
  },
  {
   "cell_type": "code",
   "execution_count": null,
   "metadata": {
    "collapsed": false
   },
   "outputs": [],
   "source": [
    "R_i = 15e-3\n",
    "\n",
    "R_o_values = np.array([70e-3,80e-3,90e-3])\n",
    "\n",
    "h_gap_values = np.array([15e-3,25e-3,35e-3])\n",
    "\n",
    "params_base = {\"R_i\": R_i,\n",
    "                \"h_fc\": 0.020,\n",
    "                \"R_e\": 2,\n",
    "                \"n_II\": 3,\n",
    "                \"n_IV\": 3,\n",
    "                \"phi_S_II\": 45,\n",
    "                \"phi_S_IV\": 45,\n",
    "                \"B_rem_II\": 1.47, #Bakker N52\n",
    "                \"mu_r_II\": 1.05,\n",
    "                \"H_c_II\": 850e3,\n",
    "                \"B_rem_IV\": 1.47,\n",
    "                \"mu_r_IV\": 1.05,\n",
    "                \"H_c_IV\": 850e3,\n",
    "              }\n",
    "\n",
    "n_R_s_points = 10\n",
    "\n",
    "R_s_min = 140e-3\n",
    "R_s_max = 200e-3\n",
    "R_s_vector = np.linspace(R_s_min,R_s_max,n_R_s_points)\n",
    "\n",
    "i_sim = 0 #simulation index\n",
    "teslamax_table_random = DataFrame()\n",
    "for R_o in R_o_values:\n",
    "    \n",
    "    params_base[\"R_o\"] = R_o\n",
    "\n",
    "    for h_gap in h_gap_values:\n",
    "        \n",
    "        params_base[\"h_gap\"] = h_gap\n",
    "        \n",
    "        B_h_vector = np.empty(n_R_s_points)\n",
    "        B_l_vector = np.empty(n_R_s_points)\n",
    "        \n",
    "        i_R_s = 0 #innermost index to build the plot\n",
    "        for R_s in R_s_vector:\n",
    "            \n",
    "            params_base[\"R_s\"] = R_s\n",
    "            \n",
    "            # in this analysis, we set a random direction of remanence\n",
    "            \n",
    "            # for the inner magnet, the remanence is always horizontal\n",
    "            for j in range(0,params_base[\"n_II\"]):\n",
    "                params_base[\"alpha_rem_II_%d\" %(j+1)] = 360*np.random.random()\n",
    "\n",
    "            for k in range(0,params_base[\"n_IV\"]):\n",
    "\n",
    "                params_base[\"alpha_rem_IV_%d\" %(k+1)] = 360*np.random.random()\n",
    "            \n",
    "            write_parameter_file_from_dict(params_base)\n",
    "                        \n",
    "            run_teslamax()\n",
    "            \n",
    "            results = read_main_results_file()\n",
    "            \n",
    "            B_high = results[\"B_high[T]\"]\n",
    "            B_h_vector[i_R_s] = B_high\n",
    "            \n",
    "            B_low = results[\"B_low[T]\"]\n",
    "            B_l_vector[i_R_s] = B_low\n",
    "            \n",
    "            parameters = get_comsol_parameters_series()\n",
    "            \n",
    "            simulation_row = DataFrame(pd.concat([parameters,results]).to_dict(),index=[i_sim,])\n",
    "            simulation_row.index.name = \"Case\"\n",
    "            simulation_row[\"n_II\"] = simulation_row[\"n_II\"].astype('int64')\n",
    "            simulation_row[\"n_IV\"] = simulation_row[\"n_IV\"].astype('int64')\n",
    "            i_sim = i_sim + 1\n",
    "            \n",
    "            teslamax_table_random = pd.concat([teslamax_table_random,simulation_row])\n",
    "            teslamax_table_random.to_csv(TESLAMAX_RESULTS_RANDOM_FILENAME,sep=' ')\n",
    "            \n",
    "            i_R_s = i_R_s+1"
   ]
  },
  {
   "cell_type": "markdown",
   "metadata": {},
   "source": [
    "### Process the results"
   ]
  },
  {
   "cell_type": "markdown",
   "metadata": {},
   "source": [
    "If desired, load the table from a file, instead of (re-)running the above code block:"
   ]
  },
  {
   "cell_type": "code",
   "execution_count": null,
   "metadata": {
    "collapsed": false
   },
   "outputs": [],
   "source": [
    "teslamax_table = pd.read_table(TESLAMAX_RESULTS_FILENAME,sep=\" \",index_col=0)\n",
    "#teslamax_table_random = pd.read_table(TESLAMAX_RESULTS_RANDOM_FILENAME,sep=\" \",index_col=0)"
   ]
  },
  {
   "cell_type": "code",
   "execution_count": null,
   "metadata": {
    "collapsed": false
   },
   "outputs": [],
   "source": [
    "teslamax_table"
   ]
  },
  {
   "cell_type": "markdown",
   "metadata": {},
   "source": [
    "Our first filter is to select only values where the low magnetic value is smaller than a \"critical value\" of $0.1 \\mathrm{T}$."
   ]
  },
  {
   "cell_type": "code",
   "execution_count": null,
   "metadata": {
    "collapsed": false
   },
   "outputs": [],
   "source": [
    "teslamax_table_valid = teslamax_table[teslamax_table[\"B_low[T]\"] < 0.1]\n",
    "teslamax_table_valid"
   ]
  },
  {
   "cell_type": "markdown",
   "metadata": {},
   "source": [
    "We will create one figure for each value of $R\\ped{o}$, with one curve for each value of $h\\ped{gap}$; the axes will represent $R\\ped{s}$ and $B\\ped{h}$."
   ]
  },
  {
   "cell_type": "code",
   "execution_count": null,
   "metadata": {
    "collapsed": false
   },
   "outputs": [],
   "source": [
    "%matplotlib inline\n",
    "\n",
    "plt.rc('font',size=FONTSIZE)\n",
    "\n",
    "R_o_values = teslamax_table_valid[\"R_o[m]\"].unique()\n",
    "\n",
    "markers = [\"ko\",\"ks\",\"kv\"]\n",
    "\n",
    "h_gap_values = teslamax_table_valid[\"h_gap[m]\"].unique()\n",
    "\n",
    "for R_o in R_o_values:\n",
    "\n",
    "    table_R_o = teslamax_table_valid[teslamax_table_valid[\"R_o[m]\"] == R_o]\n",
    "\n",
    "    R_o_figure = plt.figure(figsize=(FIGSIZE_INCHES,FIGSIZE_INCHES))\n",
    "    \n",
    "    R_o_axes = R_o_figure.add_subplot(111)\n",
    "\n",
    "    title_text = r\"$R\\ped{o} = \\SI{\" + \"%.0f\" %(1e3*R_o,) + r\"}{\\milli\\meter}$\"\n",
    "    R_o_axes.set_title(title_text)\n",
    "\n",
    "    R_o_axes.set_xlabel(r\"$R\\ped{s} [\\si{\\milli\\meter}]$\")\n",
    "    R_o_axes.set_ylabel(r\"$B\\ped{h} [\\si{\\tesla}]$\")\n",
    "    R_o_axes.set_xlim((1e3*(R_s_min-10e-3),1e3*(R_s_max+10e-3)))\n",
    "\n",
    "    i_h = 0\n",
    "    for h_gap in h_gap_values:\n",
    "\n",
    "        table_h_gap = table_R_o[table_R_o[\"h_gap[m]\"] == h_gap]\n",
    "\n",
    "        R_s_values = 1e3*table_h_gap[\"R_s[m]\"]\n",
    "        B_h_values = table_h_gap[\"B_high[T]\"]\n",
    "\n",
    "        legend_text = r\"$h\\ped{gap} = \\SI{\" + \"%.0f\" %(1e3*h_gap) + \"}{\\milli\\meter}$\"\n",
    "\n",
    "        R_o_axes.plot(R_s_values,\n",
    "                      B_h_values,\n",
    "                      markers[i_h],\n",
    "                      label=legend_text,\n",
    "                     markersize=MARKERSIZE)\n",
    "        i_h = i_h + 1\n",
    "\n",
    "    R_o_axes.legend(loc=\"upper left\",fontsize=FONTSIZE_SMALL)\n",
    "    \n",
    "    fig_path = \"Bh_Ro_%.0f\" %(1e3*R_o) + PLOT_EXTENSION\n",
    "    R_o_figure.savefig(fig_path,dpi=DPI,bbox_inches='tight')\n",
    "    \n"
   ]
  },
  {
   "cell_type": "markdown",
   "metadata": {},
   "source": [
    "### Analyzing one particular case"
   ]
  },
  {
   "cell_type": "markdown",
   "metadata": {},
   "source": [
    "It seems that, for all cases, at least one of the magnets is demagnetized. Surprinsigly, the problem seems to be on magnet IV:"
   ]
  },
  {
   "cell_type": "code",
   "execution_count": null,
   "metadata": {
    "collapsed": false,
    "scrolled": true
   },
   "outputs": [],
   "source": [
    "teslamax_table[\"-H_Brem_II_max[A/m]\"] <= 1000e3"
   ]
  },
  {
   "cell_type": "code",
   "execution_count": null,
   "metadata": {
    "collapsed": false
   },
   "outputs": [],
   "source": [
    "teslamax_table[\"-H_Brem_IV_max[A/m]\"] <= 1000e3"
   ]
  },
  {
   "cell_type": "markdown",
   "metadata": {},
   "source": [
    "To investigate even further, we plot the relevant fields for magnet IV, for a case of this table:"
   ]
  },
  {
   "cell_type": "code",
   "execution_count": null,
   "metadata": {
    "collapsed": false
   },
   "outputs": [],
   "source": [
    "table_case = teslamax_table.iloc[0]\n",
    "table_case"
   ]
  },
  {
   "cell_type": "code",
   "execution_count": null,
   "metadata": {
    "collapsed": false
   },
   "outputs": [],
   "source": [
    "run_teslamax_from_params(table_case,verbose=True)"
   ]
  },
  {
   "cell_type": "code",
   "execution_count": null,
   "metadata": {
    "collapsed": true
   },
   "outputs": [],
   "source": [
    "def normalize_vector(v):\n",
    "    \"\"\"\n",
    "    Return the normalized (dimensionless) form of vector (or list of vectors) v\"\"\"\n",
    "    \n",
    "    # v could be a single vector or a list of vectors, so we handle different cases\n",
    "    if v.ndim == 1:\n",
    "        return v/np.linalg.norm(v)\n",
    "    else:\n",
    "        v_norm = np.linalg.norm(v,axis=1)\n",
    "        v_norm_inv = np.reciprocal(v_norm).reshape(len(v),1)\n",
    "        return np.multiply(v,v_norm_inv)"
   ]
  },
  {
   "cell_type": "code",
   "execution_count": null,
   "metadata": {
    "collapsed": false
   },
   "outputs": [],
   "source": [
    "magnet_II_data = read_comsol_data_file(H_II_FILENAME)\n",
    "x_II, y_II, B_II_x, B_II_y, H_II_x, H_II_y, B_rem_II_x, B_rem_II_y = magnet_II_data.T\n",
    "\n",
    "H_II = np.array([H_II_x,H_II_y]).T\n",
    "B_II = np.array([B_II_x,B_II_y]).T\n",
    "B_rem_II = np.array([B_rem_II_x,B_rem_II_y]).T\n",
    "B_rem_hat_II = normalize_vector(B_rem_II)\n",
    "B_rem_hat_II_x, B_rem_hat_II_y = B_rem_hat_II.T\n",
    "\n",
    "# already using the sign notation for the quadrants\n",
    "Psi_II = -(H_II_x * B_rem_hat_II_x + H_II_y * B_rem_hat_II_y) * (B_II_x * B_rem_hat_II_x + B_II_y * B_rem_hat_II_y)\n",
    "\n",
    "magnet_IV_data = read_comsol_data_file(H_IV_FILENAME)\n",
    "x_IV, y_IV, B_IV_x, B_IV_y, H_IV_x, H_IV_y, B_rem_IV_x, B_rem_IV_y = magnet_IV_data.T\n",
    "\n",
    "H_IV = np.array([H_IV_x,H_IV_y]).T\n",
    "B_IV = np.array([B_IV_x,B_IV_y]).T\n",
    "B_rem_IV = np.array([B_rem_IV_x,B_rem_IV_y]).T\n",
    "B_rem_hat_IV = normalize_vector(B_rem_IV)\n",
    "B_rem_hat_IV_x, B_rem_hat_IV_y = B_rem_hat_IV.T\n",
    "\n",
    "Psi_IV = -(H_IV_x * B_rem_hat_IV_x + H_IV_y * B_rem_hat_IV_y) * (B_IV_x * B_rem_hat_IV_x + B_IV_y * B_rem_hat_IV_y)\n"
   ]
  },
  {
   "cell_type": "code",
   "execution_count": null,
   "metadata": {
    "collapsed": true
   },
   "outputs": [],
   "source": [
    "def create_quater_circle_figure_template(r_lim,params):\n",
    "    \"\"\"\n",
    "    Return (fig,axes) correspondent to a figure of the first quadrant, limited by r_lim. \n",
    "    Both magnets are also drawn.\n",
    "    \n",
    "    The size of the figure is controlled by FIGSIZE_INCHES\"\"\"\n",
    "    \n",
    "    fig = plt.figure(figsize=(FIGSIZE_INCHES,FIGSIZE_INCHES))\n",
    "    axes = fig.add_subplot(111,aspect='equal')\n",
    "    \n",
    "    axes.set_ylim(0,1e3*r_lim)\n",
    "    axes.set_xlim(0,1e3*r_lim)\n",
    "\n",
    "    axes.set_ylabel(r'$r\\ [\\si{\\mm}$]')\n",
    "    axes.set_xlabel(r'$r\\ [\\si{\\mm}$]')\n",
    "    \n",
    "    R_o = params['R_o[m]']\n",
    "    R_i = params['R_i[m]']\n",
    "    R_s = params['R_s[m]']\n",
    "    R_g = params['R_g[m]']\n",
    "    \n",
    "    magnet_II_outer=plt.Circle((0,0),1e3*R_o,color='k',fill=False)\n",
    "    magnet_II_inner=plt.Circle((0,0),1e3*R_i,color='k',fill=False)\n",
    "    axes.add_artist(magnet_II_outer)\n",
    "    axes.add_artist(magnet_II_inner)\n",
    "\n",
    "    magnet_IV_outer=plt.Circle((0,0),1e3*R_s,color='k',fill=False)\n",
    "    magnet_IV_inner=plt.Circle((0,0),1e3*R_g,color='k',fill=False)\n",
    "    axes.add_artist(magnet_IV_outer)\n",
    "    axes.add_artist(magnet_IV_inner)\n",
    "    \n",
    "    return fig, axes"
   ]
  },
  {
   "cell_type": "code",
   "execution_count": 84,
   "metadata": {
    "collapsed": true
   },
   "outputs": [],
   "source": [
    "def generate_sector_mesh_points(R1,R2,phi1,phi2):\n",
    "    \"\"\"\n",
    "    Return a list of points [X,Y] uniformily distributed in a circle between radii R1 and R2\n",
    "    and angular positions phi1 and phi2\n",
    "    \n",
    "    The number of points is controlled by N_POINTS_PER_AXIS.\n",
    "    \"\"\"\n",
    "    \n",
    "    phi_min = phi1\n",
    "    phi_max = phi2\n",
    "    \n",
    "    phi_vector = np.linspace(phi_min,phi_max,N_POINTS_PER_AXIS)\n",
    "    \n",
    "    r_vector = np.linspace(R1,R2,N_POINTS_PER_AXIS)\n",
    "    \n",
    "    phi_grid, r_grid = np.meshgrid(phi_vector,r_vector)\n",
    "    \n",
    "    X_vector = (r_grid*np.cos(phi_grid)).flatten()\n",
    "    Y_vector = (r_grid*np.sin(phi_grid)).flatten()\n",
    "    \n",
    "    return np.array([X_vector,Y_vector]).T\n",
    "\n",
    "\n",
    "    "
   ]
  },
  {
   "cell_type": "code",
   "execution_count": null,
   "metadata": {
    "collapsed": true
   },
   "outputs": [],
   "source": [
    "from matplotlib.patches import Wedge"
   ]
  },
  {
   "cell_type": "code",
   "execution_count": null,
   "metadata": {
    "collapsed": true
   },
   "outputs": [],
   "source": [
    "def create_magnet_IV_figure_template(params):\n",
    "    \"\"\"\n",
    "    Return (fig,axes) correspondent to a figure of the first quadrant of magnet IV. \n",
    "    \n",
    "    \n",
    "    The size of the figure is controlled by FIGSIZE_INCHES\"\"\"\n",
    "    \n",
    "    fig = plt.figure(figsize=(FIGSIZE_INCHES,FIGSIZE_INCHES))\n",
    "    axes = fig.add_subplot(111,aspect='equal')\n",
    "    \n",
    "    R_o = params['R_o[m]']\n",
    "    R_i = params['R_i[m]']\n",
    "    R_s = params['R_s[m]']\n",
    "    R_g = params['R_g[m]']\n",
    "    R_c = params['R_c[m]']\n",
    "    r_lim = R_c\n",
    "    \n",
    "    axes.set_ylim(0,1e3*r_lim)\n",
    "    axes.set_xlim(0,1e3*r_lim)\n",
    "\n",
    "    axes.set_ylabel(r'$r\\ [\\si{\\mm}$]')\n",
    "    axes.set_xlabel(r'$r\\ [\\si{\\mm}$]')\n",
    "    \n",
    "    width_IV = R_s - R_g\n",
    "    n_IV = int(params['n_IV'])\n",
    "    delta_phi_S_IV = params['delta_phi_S_IV[deg]']\n",
    "    for i in range(0,n_IV):\n",
    "        theta_0 = i*delta_phi_S_IV\n",
    "        theta_1 = (i+1)*delta_phi_S_IV\n",
    "        magnet_segment = Wedge((0,0),1e3*R_s,theta_0,theta_1,1e3*width_IV,color='k',fill=False)\n",
    "        axes.add_artist(magnet_segment)\n",
    "        \n",
    "    return fig, axes\n",
    "\n",
    "def create_magnets_figure_template(params):\n",
    "    \"\"\"\n",
    "    Return (fig,axes) correspondent to a figure of the first quadrant of both magnets. \n",
    "    \n",
    "    \n",
    "    The size of the figure is controlled by FIGSIZE_INCHES\"\"\"\n",
    "    \n",
    "    fig = plt.figure(figsize=(FIGSIZE_INCHES,FIGSIZE_INCHES))\n",
    "    axes = fig.add_subplot(111,aspect='equal')\n",
    "    \n",
    "    R_o = params['R_o[m]']\n",
    "    R_i = params['R_i[m]']\n",
    "    R_s = params['R_s[m]']\n",
    "    R_g = params['R_g[m]']\n",
    "    R_c = params['R_c[m]']\n",
    "    r_lim = R_c\n",
    "    \n",
    "    axes.set_ylim(0,1e3*r_lim)\n",
    "    axes.set_xlim(0,1e3*r_lim)\n",
    "\n",
    "    axes.set_ylabel(r'$r\\ [\\si{\\mm}$]')\n",
    "    axes.set_xlabel(r'$r\\ [\\si{\\mm}$]')\n",
    "    \n",
    "    width_II = R_o - R_i\n",
    "    n_II = int(params['n_II'])\n",
    "    delta_phi_S_II = params['delta_phi_S_II[deg]']\n",
    "    for i in range(0,n_II):\n",
    "        theta_0 = i*delta_phi_S_II\n",
    "        theta_1 = (i+1)*delta_phi_S_II\n",
    "        magnet_segment = Wedge((0,0),1e3*R_o,theta_0,theta_1,1e3*width_II,color='k',fill=False)\n",
    "        axes.add_artist(magnet_segment)\n",
    "        \n",
    "    width_IV = R_s - R_g\n",
    "    n_IV = int(params['n_IV'])\n",
    "    delta_phi_S_IV = params['delta_phi_S_IV[deg]']\n",
    "    for j in range(0,n_IV):\n",
    "        theta_0 = j*delta_phi_S_IV\n",
    "        theta_1 = (j+1)*delta_phi_S_IV\n",
    "        magnet_segment = Wedge((0,0),1e3*R_s,theta_0,theta_1,1e3*width_IV,color='k',fill=False)\n",
    "        axes.add_artist(magnet_segment)\n",
    "        \n",
    "    return fig, axes"
   ]
  },
  {
   "cell_type": "code",
   "execution_count": null,
   "metadata": {
    "collapsed": true
   },
   "outputs": [],
   "source": [
    "from scipy.constants import mu_0"
   ]
  },
  {
   "cell_type": "code",
   "execution_count": null,
   "metadata": {
    "collapsed": false
   },
   "outputs": [],
   "source": [
    "%matplotlib inline\n",
    "\n",
    "case_series = get_comsol_parameters_series()\n",
    "r_lim = case_series['R_c[m]']\n",
    "Hc_fig, Hc_axes = create_magnet_IV_figure_template(case_series)\n",
    "\n",
    "arrow_scale = 3.0\n",
    "arrow_width = 0.03\n",
    "head_axis_length = 3\n",
    "head_length = 3\n",
    "\n",
    "n_points = 30\n",
    "interval = int(len(x_IV)/n_points)\n",
    "B_rem_IV_vector_field = Hc_axes.quiver(1e3*x_IV[0:-1:interval],\n",
    "                                      1e3*y_IV[0:-1:interval],\n",
    "                                      B_rem_IV_x[0:-1:interval],\n",
    "                                      B_rem_IV_y[0:-1:interval],\n",
    "                                      units='inches',\n",
    "                                      pivot='middle',\n",
    "                                      headlength=head_length,\n",
    "                                      headaxislength=head_axis_length,\n",
    "                                      scale_units='inches',\n",
    "                                      scale=arrow_scale,\n",
    "                                      width=arrow_width)\n",
    "H_scale = arrow_scale\n",
    "\n",
    "\n",
    "H_IV_vector_field = Hc_axes.quiver(1e3*x_IV[0:-1:interval],\n",
    "                                  1e3*y_IV[0:-1:interval],\n",
    "                                  mu_0*H_IV_x[0:-1:interval],\n",
    "                                  mu_0*H_IV_y[0:-1:interval],\n",
    "                                  units='inches',\n",
    "                                  pivot='middle',\n",
    "                                  headlength=head_length,\n",
    "                                  headaxislength=head_axis_length,\n",
    "                                  scale_units='inches',\n",
    "                                  scale=H_scale,\n",
    "                                  width=arrow_width,\n",
    "                                  color='r')\n",
    "if SAVE_FIG_Q: save_and_close_figure(Hc_fig, \"Hc\")"
   ]
  },
  {
   "cell_type": "markdown",
   "metadata": {},
   "source": [
    "Plot the energy density:"
   ]
  },
  {
   "cell_type": "code",
   "execution_count": null,
   "metadata": {
    "collapsed": false,
    "scrolled": true
   },
   "outputs": [],
   "source": [
    "%matplotlib inline\n",
    "\n",
    "plt.rc('font',size=FONTSIZE)\n",
    "\n",
    "R_o = table_case['R_o[m]']\n",
    "R_i = table_case['R_i[m]']\n",
    "R_s = table_case['R_s[m]']\n",
    "R_g = table_case['R_g[m]']\n",
    "\n",
    "\n",
    "r_II_min = 1.001*R_i\n",
    "r_II_max = 0.999*R_o\n",
    "\n",
    "r_IV_min = 1.001*R_g\n",
    "r_IV_max = 0.999*R_s\n",
    "\n",
    "phi_II_min = 0.0\n",
    "phi_II_max = np.deg2rad(table_case['phi_S_II[deg]'])\n",
    "\n",
    "phi_IV_min = 0.0\n",
    "phi_IV_max = np.deg2rad(table_case['phi_S_IV[deg]'])\n",
    "\n",
    "# -----\n",
    "# GRID INITIALIZATION\n",
    "\n",
    "positions_II = generate_sector_mesh_points(r_II_min,r_II_max,phi_II_min,phi_II_max)\n",
    "positions_IV = generate_sector_mesh_points(r_IV_min,r_IV_max,phi_IV_min,phi_IV_max)\n",
    "\n",
    "X_II_vector, Y_II_vector = 1e3*positions_II.T\n",
    "X_IV_vector, Y_IV_vector = 1e3*positions_IV.T\n",
    "\n",
    "points_II_to_evaluate = np.array([X_II_vector,Y_II_vector]).T\n",
    "points_IV_to_evaluate = np.array([X_IV_vector,Y_IV_vector]).T\n",
    "\n",
    "# loading COMSOL data\n",
    "points_II_comsol = 1e3*np.array([x_II,y_II]).T\n",
    "points_IV_comsol = 1e3*np.array([x_IV,y_IV]).T\n",
    "\n",
    "Psi_II_comsol = griddata(points_II_comsol,Psi_II,points_II_to_evaluate,method='cubic')\n",
    "Psi_IV_comsol = griddata(points_IV_comsol,Psi_IV,points_IV_to_evaluate,method='cubic')\n",
    "\n",
    "Psi_II_masked = ma.masked_less(Psi_II_comsol,0.0)\n",
    "Psi_IV_masked = ma.masked_less(Psi_IV_comsol,0.0)\n",
    "\n",
    "cmap = matplotlib.cm.jet\n",
    "cmap.set_bad('w')\n",
    "\n",
    "Psi_concat = np.concatenate((Psi_II_comsol,Psi_IV_comsol))\n",
    "Psi_min = 1e-3*np.min(Psi_concat)\n",
    "Psi_max = 1e-3*np.max(Psi_concat)\n",
    "   \n",
    "\n",
    "# create the axes that represent this domain\n",
    "Psi_fig, Psi_axes = create_magnets_figure_template(table_case)\n",
    "\n",
    "# plot the color plot\n",
    "\n",
    "#pcolormesh deals with 2D arrays, so we reshape our vectors\n",
    "number_of_points_per_axes = int(math.sqrt(len(X_II_vector)))\n",
    "mesh_shape = ( number_of_points_per_axes, number_of_points_per_axes)\n",
    "\n",
    "Psi_II_mesh = Psi_axes.pcolormesh(X_II_vector.reshape(mesh_shape),\n",
    "                                  Y_II_vector.reshape(mesh_shape),\n",
    "                                  1e-3*Psi_II_masked.reshape(mesh_shape),\n",
    "                                  vmin=0,\n",
    "                                  vmax=Psi_max,\n",
    "                                 cmap=cmap)\n",
    "\n",
    "number_of_points_per_axes = int(math.sqrt(len(X_IV_vector)))\n",
    "mesh_shape = ( number_of_points_per_axes, number_of_points_per_axes)\n",
    "\n",
    "Psi_IV_mesh = Psi_axes.pcolormesh(X_IV_vector.reshape(mesh_shape),\n",
    "                                  Y_IV_vector.reshape(mesh_shape),\n",
    "                                  1e-3*Psi_IV_masked.reshape(mesh_shape),\n",
    "                                  vmin=0,\n",
    "                                  vmax=Psi_max,\n",
    "                                 cmap=cmap)\n",
    "\n",
    "#annotate the plot\n",
    "Psi_colorbar = Psi_fig.colorbar(Psi_II_mesh,orientation='horizontal')\n",
    "Psi_colorbar.set_label(r'$\\Psi\\ [\\si{\\kilo\\joule\\per\\meter^3}]$')\n",
    "\n",
    "if SAVE_FIG_Q: save_and_close_figure(Psi_fig, \"Psi\")\n"
   ]
  },
  {
   "cell_type": "markdown",
   "metadata": {
    "collapsed": true
   },
   "source": [
    "## Visualizing the distribution of coercivity"
   ]
  },
  {
   "cell_type": "code",
   "execution_count": null,
   "metadata": {
    "collapsed": false
   },
   "outputs": [],
   "source": [
    "coerc_data = teslamax_table_valid[[\"-H_Brem_II_max[A/m]\",\"-H_Brem_IV_max[A/m]\"]]\n",
    "print(coerc_data)"
   ]
  },
  {
   "cell_type": "code",
   "execution_count": null,
   "metadata": {
    "collapsed": true
   },
   "outputs": [],
   "source": [
    "# values of coercivity for Bakker classes with B_rem > 1.4\n",
    "\n",
    "bakker_coerc_data = 1e3*np.array([955,\n",
    "                                 875,\n",
    "                                 1114,\n",
    "                                 1080,\n",
    "                                 1353,\n",
    "                                 ])"
   ]
  },
  {
   "cell_type": "markdown",
   "metadata": {},
   "source": [
    "We want to visualize all the values of the maximum reverse magnetic field, and compare with Bakker data:"
   ]
  },
  {
   "cell_type": "code",
   "execution_count": null,
   "metadata": {
    "collapsed": false
   },
   "outputs": [],
   "source": [
    "%matplotlib inline\n",
    "\n",
    "plt.rc('font',size=FONTSIZE)\n",
    "\n",
    "coerc_hist_fig = plt.figure(figsize=(FIGSIZE_INCHES,FIGSIZE_INCHES))\n",
    "coerc_hist_axes = coerc_hist_fig.add_subplot(111)\n",
    "\n",
    "coerc_hist_axes.hist([1e-3*coerc_data.values.T[0],\n",
    "                      1e-3*coerc_data.values.T[1],\n",
    "                      1e-3*bakker_coerc_data.T],\n",
    "                    label=[\"Magnet II\",\"Magnet IV\",\"Bakker Data\"])\n",
    "coerc_hist_axes.set_title(r'$-\\nvh\\cdot\\nvbremhat[\\si{\\kilo\\ampere\\per\\meter}]$')\n",
    "coerc_hist_axes.legend()\n",
    "\n",
    "if SAVE_FIG_Q: save_and_close_figure(coerc_hist_fig, \"coercivity_histogram\")"
   ]
  },
  {
   "cell_type": "markdown",
   "metadata": {},
   "source": [
    "We can see that there are a range of parameters that produce values of reverse magnetic field smaller than some NdFeB classes. In other words, it should be possible to select a magnetic material with a high enough value of intrinsic coercivity."
   ]
  },
  {
   "cell_type": "markdown",
   "metadata": {
    "collapsed": true
   },
   "source": [
    "## Calculating functional"
   ]
  },
  {
   "cell_type": "markdown",
   "metadata": {},
   "source": [
    "A prototype class to help organize all the data:"
   ]
  },
  {
   "cell_type": "code",
   "execution_count": 34,
   "metadata": {
    "collapsed": false
   },
   "outputs": [],
   "source": [
    "class TeslaMaxModel():\n",
    "    \"\"\"\n",
    "    Class representing the TeslaMax model.\n",
    "    \n",
    "    To create an instance of the class, provide a dictionary with all parameters\n",
    "    and a path where to store the generated text files:\n",
    "    \n",
    "    >>> tmm = TeslaMaxModel({\"R_o\": 15e-3, \"B_rem_II\": 1.4, ...}.\n",
    "                            \"teslamax-results\")\n",
    "    \n",
    "    If the path already exists, it will be cleaned up to avoid confusion between different simulations. \n",
    "    If you want to preserve the data in 'path', set the argument 'clean' to False in the constructor\n",
    "    \n",
    "    \"\"\"\n",
    "    \n",
    "    def __init__(self,params,path,clean=True):\n",
    "        self.params = params\n",
    "        \n",
    "        self.path = Path(path)\n",
    "        if (self.path.exists() ) and (self.path.is_dir()) and clean:\n",
    "            shutil.rmtree(str(self.path))\n",
    "        \n",
    "        self.path.mkdir(exist_ok=True)\n",
    "        \n",
    "        self.profile_data = np.empty(2)\n",
    "        \n",
    "                \n",
    "    def run(self,verbose=False):\n",
    "        \"\"\"\n",
    "        Change the current directory temporarily to the object's path\n",
    "        and run the TeslaMax program in it.\n",
    "        \n",
    "        Also populates the appropriate fields with results from TeslaMax\n",
    "        \"\"\"\n",
    "        \n",
    "        cwd = os.getcwd()\n",
    "        os.chdir(str(self.path))\n",
    "        run_teslamax_from_params(self.params,verbose)\n",
    "        os.chdir(cwd)\n",
    "        \n",
    "        self.profile_data = self.get_profile_data()\n",
    "        self.fB_profile = interp1d(self.profile_data[:,0],self.profile_data[:,1],kind='linear')\n",
    "        \n",
    "    def get_B_III_data(self):\n",
    "        \"\"\"\n",
    "        Return an array [x, y, Bx, By] for the air gap region\n",
    "        \"\"\"\n",
    "        \n",
    "        B_III_file_path = self.path / B_III_FILENAME\n",
    "        B_III_full_data = read_comsol_data_file(str(B_III_file_path))\n",
    "        \n",
    "        B_III_data = B_III_full_data[:,:4]\n",
    "        return B_III_data\n",
    "    \n",
    "    def calculate_B_III_from_position(self,point_cartesian):\n",
    "        \"\"\"\n",
    "        Return B_III(x,y), where 'point_cartesian' = [x,y]\n",
    "        \"\"\"\n",
    "        \n",
    "        B_III_data = self.get_B_III_data()\n",
    "        \n",
    "        return griddata(B_III_data[:,:2],\n",
    "                       B_III_data[:,2:4],\n",
    "                       point_cartesian)\n",
    "        \n",
    "        \n",
    "    def get_profile_data(self):\n",
    "        \"\"\"\n",
    "        Return an array of the magnetic profile data, where the first column\n",
    "        is the angle in degrees [0,360] and the second is the average magnetic\n",
    "        flux density in tesla\n",
    "        \"\"\"\n",
    "        \n",
    "        profile_file_path = self.path / MAGNETIC_PROFILE_FILENAME\n",
    "        profile_data = np.loadtxt(str(profile_file_path),\n",
    "                         skiprows=1)\n",
    "        \n",
    "        return profile_data\n",
    "    \n",
    "    def calculate_B_profile(self,theta):\n",
    "        \"\"\"\n",
    "        Return average magnetic flux density at angular position 'theta' (as an array with the same length).\n",
    "        \"\"\"\n",
    "        \n",
    "        return self.fB_profile(theta)\n",
    "    \n",
    " \n",
    "        \n",
    "        \n",
    "    \n",
    "    \n",
    "        \n",
    "        \n",
    "        \n",
    "    "
   ]
  },
  {
   "cell_type": "code",
   "execution_count": 35,
   "metadata": {
    "collapsed": true
   },
   "outputs": [],
   "source": [
    "def expand_parameters_from_remanence_array(alpha_B_rem, params):\n",
    "    \"\"\"\n",
    "    Return a new parameters dict with the remanence angles from 'alpha_B_rem' and other parameters from 'params'.\n",
    "    The length of this array must equal to the sum of the number of segments in both cylinders. \n",
    "    The first n_II elements refer to the inner magnet, and the remaining elements to the outer magnet.\n",
    "    \"\"\"\n",
    "    \n",
    "    params_expanded = params.copy()\n",
    "    \n",
    "    n_II = params[\"n_II\"]\n",
    "    for i in range(0,n_II):\n",
    "        params_expanded[\"alpha_rem_II_%d\" %(i+1,)] = alpha_B_rem[i]\n",
    "        \n",
    "    n_IV = params[\"n_IV\"]\n",
    "    for j in range(0,n_IV):\n",
    "        k =  j + n_II #the first n_II elements refer to magnet II\n",
    "        params_expanded[\"alpha_rem_IV_%d\" %(j+1,)] = alpha_B_rem[k]\n",
    "        \n",
    "    return params_expanded\n",
    "    "
   ]
  },
  {
   "cell_type": "code",
   "execution_count": 36,
   "metadata": {
    "collapsed": true
   },
   "outputs": [],
   "source": [
    "def calculate_functional_from_remanence_array(alpha_B_rem, params):\n",
    "    \"\"\"\n",
    "    Returns the (scalar) objective functional  for the TeslaMax optimization.\n",
    "    The optimization variables are the remanence angles for the magnet segments, \n",
    "    specified in the array 'alpha_B_rem' (the first n_II elements refer to the inner magnet, and\n",
    "    the remaining n_IV elements refer to the outer one).\n",
    "    The other parameters are included in the dictionary 'params'.\n",
    "    \n",
    "    All simulation files are placed in a directory 'teslamax-optimization' in the current directory\n",
    "    \"\"\"\n",
    "    \n",
    "    \n",
    "    path_functional = \"teslamax-optimization\"\n",
    "\n",
    "    param_dict = expand_parameters_from_remanence_array(alpha_B_rem, params)\n",
    "    \n",
    "    teslamax_model = TeslaMaxModel(param_dict,path_functional)\n",
    "    teslamax_model.run(verbose=False)\n",
    "    \n",
    "    return -1*calculate_average_high_field(teslamax_model.get_profile_data())\n",
    "    "
   ]
  },
  {
   "cell_type": "code",
   "execution_count": 66,
   "metadata": {
    "collapsed": true
   },
   "outputs": [],
   "source": [
    "def calculate_derivative_functional_to_remanence(i,alpha_B_rem,params):\n",
    "    \"\"\"\n",
    "    Return the derivative of the objective functional with respect to the 'i'-th element of the\n",
    "    remanence angle array 'alpha_B_rem' (where the first n_II elements refer to the inner magnet, \n",
    "    and the remaining n_IV to the outer one).\n",
    "    Other parameters are taken from 'params'\n",
    "    \"\"\"\n",
    "    \n",
    "    delta_alpha = 1e-6\n",
    "\n",
    "    n_II = params['n_II']\n",
    "    n_IV = params['n_IV']\n",
    "    \n",
    "    F_II_x = np.empty(n_II)\n",
    "    F_II_y = np.empty(n_II)\n",
    "    \n",
    "    F_IV_x = np.empty(n_IV)\n",
    "    F_IV_y = np.empty(n_IV)\n",
    "    \n",
    "    R_o = params[\"R_o\"]\n",
    "    R_g = params[\"R_o\"] + params[\"h_gap\"]\n",
    "    points_air_gap = generate_sector_mesh_points(R_o,R_g,0.0,np.pi)\n",
    "    \n",
    "    for i in range(0,n_II):\n",
    "        F_II_x = calculate_B_III_from_single_block(point=points_air_gap, \n",
    "                                                   segment=i+1, \n",
    "                                                   quadrant='1Q', \n",
    "                                                   magnet='II', \n",
    "                                                   magnitude=params[\"B_rem_II_%d_1Q\" %(i+1)], \n",
    "                                                    angle=0.0, \n",
    "                                                    params=params)\n",
    "        \n",
    "        \n",
    "        F_II_x[i] = F_II_x_1Q + F_II_x_2Q\n",
    "        \n",
    "        F_II_y_1Q = calculate_B_III_from_single_block(point=points_air_gap, \n",
    "                                                   segment=i+1, \n",
    "                                                   quadrant='1Q', \n",
    "                                                   magnet='II', \n",
    "                                                   magnitude=params[\"B_rem_II_%d_1Q\" %(i+1)], \n",
    "                                                    angle=90.0, \n",
    "                                                    params=params)\n",
    "        \n",
    "        F_II_y_2Q = calculate_B_III_from_single_block(point=points_air_gap, \n",
    "                                                   segment=i+1, \n",
    "                                                   quadrant='2Q', \n",
    "                                                   magnet='II', \n",
    "                                                   magnitude=params[\"B_rem_II_%d_2Q\" %(i+1)], \n",
    "                                                    angle=90.0, \n",
    "                                                    params=params)\n",
    "        \n",
    "        F_II_y[i] = F_II_y_1Q + F_II_y_2Q\n",
    "        \n",
    "        \n",
    "    \n",
    "    \n",
    "    return d_functional"
   ]
  },
  {
   "cell_type": "code",
   "execution_count": 39,
   "metadata": {
    "collapsed": false
   },
   "outputs": [],
   "source": [
    "def calculate_B_III_from_single_block(point, segment, magnet, magnitude, angle, params):\n",
    "    \"\"\"\n",
    "    Return B_III(point) when 'segment' (1, 2, 3, ...)  of 'magnet' (either 'II' or 'IV') \n",
    "    has a remanence of 'magnitude' and 'angle', and all other segments have null remanence. \n",
    "    \n",
    "    Other parameters are taken from 'params'.\n",
    "    \"\"\"\n",
    "    \n",
    "    if magnet == 'II':\n",
    "        n = params['n_II']\n",
    "    elif magnet == 'IV':\n",
    "        n = params['n_IV']\n",
    "    \n",
    "    # first nullify all remanences\n",
    "    for m in ['II', 'IV']:\n",
    "            \n",
    "            for s in range(0,n):\n",
    "                \n",
    "                params[\"B_rem_%s_%d\" %(m,s+1)] = 0.0\n",
    "                \n",
    "    # set the desired elements\n",
    "    params[\"B_rem_%s_%d\" %(magnet,segment)] = magnitude\n",
    "    params[\"alpha_rem_%s_%d\" %(magnet,segment)] = angle\n",
    "    \n",
    "    tmm = TeslaMaxModel(params,'teslamax-play-functional')\n",
    "    tmm.run(verbose=False)\n",
    "    return tmm.calculate_B_III_from_position(point)\n",
    "    "
   ]
  },
  {
   "cell_type": "code",
   "execution_count": 43,
   "metadata": {
    "collapsed": false,
    "scrolled": true
   },
   "outputs": [],
   "source": [
    "os.chdir('C:\\\\Users\\\\fabiofortkamp\\\\code\\\\TeslaMax\\\\')"
   ]
  },
  {
   "cell_type": "code",
   "execution_count": 44,
   "metadata": {
    "collapsed": false
   },
   "outputs": [],
   "source": [
    "params_optimization = {\"R_i\": 0.015,\n",
    "                \"R_o\": 0.070,\n",
    "                \"h_gap\": 0.020,\n",
    "                \"R_s\": 0.140,\n",
    "                \"h_fc\": 0.010,\n",
    "                \"R_e\": 2,\n",
    "                \"n_IV\": 3,\n",
    "                \"alpha_rem_IV_1\": 15,\n",
    "                \"alpha_rem_IV_2\": 45,\n",
    "                \"alpha_rem_IV_3\": 135,\n",
    "                \"phi_S_IV\": 45,\n",
    "                \"n_II\": 3,\n",
    "                \"alpha_rem_II_1\": 15,\n",
    "                \"alpha_rem_II_2\": 30,\n",
    "                \"alpha_rem_II_3\": 45,\n",
    "                \"phi_C_II\": 15,\n",
    "                \"phi_S_II\": 45,\n",
    "                \"B_rem_II_1\": 1.4,\n",
    "                \"B_rem_II_2\": 1.4,\n",
    "                \"B_rem_II_3\": 1.4,\n",
    "                \"mu_r_II\": 1.05,\n",
    "                \"B_rem_IV_1\": 1.4,\n",
    "                \"B_rem_IV_2\": 1.4,\n",
    "                \"B_rem_IV_3\": 1.4,\n",
    "                \"mu_r_IV\": 1.05,\n",
    "              \"linear_iron\": 1,\n",
    "              \"mu_r_iron\": 5e3,\n",
    "             }"
   ]
  },
  {
   "cell_type": "code",
   "execution_count": 45,
   "metadata": {
    "collapsed": false
   },
   "outputs": [
    {
     "data": {
      "text/plain": [
       "-0.82751792222222187"
      ]
     },
     "execution_count": 45,
     "metadata": {},
     "output_type": "execute_result"
    }
   ],
   "source": [
    "alpha_B_rem_0 = np.array([15,45,135,14,30,45])\n",
    "calculate_functional_from_remanence_array(alpha_B_rem_0,params_optimization)"
   ]
  },
  {
   "cell_type": "code",
   "execution_count": 73,
   "metadata": {
    "collapsed": false
   },
   "outputs": [
    {
     "name": "stdout",
     "output_type": "stream",
     "text": [
      "-273\n",
      "-317\n",
      "-144\n",
      "-121\n",
      "-96\n",
      "-195\n",
      "-180\n",
      "-165\n",
      "-152\n",
      "-102\n"
     ]
    }
   ],
   "source": [
    "# basic and non-optimized implementation of gradient descent\n",
    "i_segment = 0\n",
    "n_it = 10\n",
    "\n",
    "gamma = -1e-1\n",
    "\n",
    "alpha_B_rem_0 = np.array([0,0,0,0,0,0])\n",
    "\n",
    "alpha_B_rem = alpha_B_rem_0.copy()\n",
    "for j in range(0,n_it):\n",
    "    dS = calculate_derivative_functional_to_remanence(i_segment,alpha_B_rem,params_optimization)\n",
    "    alpha_B_rem[i_segment] = alpha_B_rem[i_segment] + gamma * dS\n",
    "    print(alpha_B_rem[i_segment])\n",
    "    "
   ]
  },
  {
   "cell_type": "code",
   "execution_count": 46,
   "metadata": {
    "collapsed": false
   },
   "outputs": [
    {
     "data": {
      "text/plain": [
       "-0.82680030666666626"
      ]
     },
     "execution_count": 46,
     "metadata": {},
     "output_type": "execute_result"
    }
   ],
   "source": [
    "calculate_functional_from_remanence_array(alpha_B_rem_0,params_optimization)"
   ]
  },
  {
   "cell_type": "code",
   "execution_count": 47,
   "metadata": {
    "collapsed": false
   },
   "outputs": [
    {
     "data": {
      "text/plain": [
       "array([[  2.64779766e-02,  -2.98231642e-05],\n",
       "       [  3.17854040e-02,  -9.35320997e-03]])"
      ]
     },
     "execution_count": 47,
     "metadata": {},
     "output_type": "execute_result"
    }
   ],
   "source": [
    "calculate_B_III_from_single_block([[0.080,0],[0.080,0.01]], segment=1,  magnet='II', magnitude=1.4, angle=0, params=params_optimization)"
   ]
  }
 ],
 "metadata": {
  "anaconda-cloud": {},
  "kernelspec": {
   "display_name": "Python 3",
   "language": "python",
   "name": "python3"
  },
  "language_info": {
   "codemirror_mode": {
    "name": "ipython",
    "version": 3
   },
   "file_extension": ".py",
   "mimetype": "text/x-python",
   "name": "python",
   "nbconvert_exporter": "python",
   "pygments_lexer": "ipython3",
   "version": "3.6.0"
  }
 },
 "nbformat": 4,
 "nbformat_minor": 1
}
