{
 "cells": [
  {
   "cell_type": "markdown",
   "metadata": {},
   "source": [
    "# Magnet mass"
   ]
  },
  {
   "cell_type": "code",
   "execution_count": 1,
   "metadata": {
    "collapsed": false
   },
   "outputs": [],
   "source": [
    "import numpy as np\n",
    "\n",
    "import pint\n",
    "ureg = pint.UnitRegistry()"
   ]
  },
  {
   "cell_type": "markdown",
   "metadata": {},
   "source": [
    "Magnetocaloric material volume:"
   ]
  },
  {
   "cell_type": "code",
   "execution_count": 2,
   "metadata": {
    "collapsed": false
   },
   "outputs": [
    {
     "name": "stdout",
     "output_type": "stream",
     "text": [
      "V_MCM = 256000.0 millimeter ** 3\n"
     ]
    }
   ],
   "source": [
    "N_r = 8\n",
    "ɛ = 0.36\n",
    "H = 20 * ureg.mm\n",
    "W = 25 * ureg.mm\n",
    "L = 100 * ureg.mm\n",
    "\n",
    "V_MCM = N_r * (1 - ɛ) * H * W * L\n",
    "print (\"V_MCM = %s\" %(V_MCM))\n"
   ]
  },
  {
   "cell_type": "markdown",
   "metadata": {},
   "source": [
    "Critical magnet mass:"
   ]
  },
  {
   "cell_type": "code",
   "execution_count": 9,
   "metadata": {
    "collapsed": false
   },
   "outputs": [
    {
     "name": "stdout",
     "output_type": "stream",
     "text": [
      "V_M_star = 463542.85714285733 millimeter ** 3\n"
     ]
    }
   ],
   "source": [
    "μ_r_M = 1.05\n",
    "B_h = 1.3 * ureg.tesla\n",
    "B_rem = 1.4 * ureg.tesla\n",
    "\n",
    "V_M_star = 2 * μ_r_M * (B_h / B_rem)**2 * V_MCM\n",
    "print(\"V_M_star = %s\" %(V_M_star))"
   ]
  },
  {
   "cell_type": "markdown",
   "metadata": {},
   "source": [
    "Critical external radius"
   ]
  },
  {
   "cell_type": "code",
   "execution_count": 8,
   "metadata": {
    "collapsed": false
   },
   "outputs": [
    {
     "name": "stdout",
     "output_type": "stream",
     "text": [
      "R_s_star = 111.19562135933417 millimeter\n"
     ]
    }
   ],
   "source": [
    "R_g = 110 * ureg.mm\n",
    "ϕ_S_IV = 45*ureg.degree\n",
    "\n",
    "R_i = 15*ureg.mm\n",
    "R_o = 60*ureg.mm\n",
    "\n",
    "ϕ_S_II = 45*ureg.degree\n",
    "ϕ_C_II = 15*ureg.degree\n",
    "\n",
    "V_II_1Q =  1./2 * (ϕ_S_II - ϕ_C_II) * (R_o**2 - R_i**2) * L\n",
    "\n",
    "R_s_star = np.sqrt(R_g**2 + 1/ϕ_S_IV * (V_M_star/(2*L) - (2*V_II_1Q/L)))\n",
    "print(\"R_s_star = %s\" %(R_s_star))"
   ]
  },
  {
   "cell_type": "code",
   "execution_count": null,
   "metadata": {
    "collapsed": true
   },
   "outputs": [],
   "source": []
  }
 ],
 "metadata": {
  "kernelspec": {
   "display_name": "Python 3",
   "language": "python",
   "name": "python3"
  },
  "language_info": {
   "codemirror_mode": {
    "name": "ipython",
    "version": 3
   },
   "file_extension": ".py",
   "mimetype": "text/x-python",
   "name": "python",
   "nbconvert_exporter": "python",
   "pygments_lexer": "ipython3",
   "version": "3.6.0"
  }
 },
 "nbformat": 4,
 "nbformat_minor": 2
}
