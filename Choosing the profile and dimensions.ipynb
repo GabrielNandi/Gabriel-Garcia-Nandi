{
 "cells": [
  {
   "cell_type": "markdown",
   "metadata": {},
   "source": [
    "# Choosing the profile and dimensions"
   ]
  },
  {
   "cell_type": "code",
   "execution_count": 37,
   "metadata": {
    "collapsed": false
   },
   "outputs": [],
   "source": [
    "from pathlib import Path\n",
    "import os\n",
    "\n",
    "import matplotlib\n",
    "import matplotlib.pyplot as plt\n",
    "import numpy as np\n",
    "from scipy.optimize import minimize, differential_evolution, basinhopping\n",
    "from scipy.interpolate import interp1d\n",
    "from pandas import Series, DataFrame\n",
    "import pandas as pd\n",
    "\n",
    "import teslamax\n",
    "from teslamax import TeslaMaxGeometry, TeslaMaxPreDesign, TeslaMaxModel\n",
    "\n",
    "import nemplot\n",
    "from nemplot import nemplot_parameters\n",
    "\n",
    "from IPython.display import display, HTML"
   ]
  },
  {
   "cell_type": "code",
   "execution_count": 2,
   "metadata": {
    "collapsed": true
   },
   "outputs": [],
   "source": [
    "DICT_LINES = 19\n",
    "K_CRITIC = 0.002\n",
    "K_STEP = 0.001\n",
    "\n",
    "B_LABEL = r'$B\\ped{h}\\,[\\si{\\tesla}]$'\n",
    "Q_LABEL = r'$\\qc\\,[\\si{\\watt}]$'\n",
    "COP_LABEL = r'$\\cop$'\n",
    "PHI_LABEL = r'$\\Phi$'\n",
    "H_REG_LABEL = r'$H\\,[\\si{\\milli\\meter}]$'\n",
    "F_B_LABEL = r'$F\\ped{B}\\,[\\si{\\percent}]$'\n",
    "F_M_LABEL = r'$F\\ped{M}\\,[\\si{\\percent}]$'\n",
    "H_MAX_LABEL = r'$\\mu_0 H\\ped{max}\\,[\\si{\\tesla}]$'\n",
    "\n"
   ]
  },
  {
   "cell_type": "code",
   "execution_count": 3,
   "metadata": {
    "collapsed": true
   },
   "outputs": [],
   "source": [
    "os.chdir(str(Path.home() / \"code\" / \"TeslaMax\"))"
   ]
  },
  {
   "cell_type": "code",
   "execution_count": 4,
   "metadata": {
    "collapsed": false,
    "scrolled": false
   },
   "outputs": [
    {
     "data": {
      "text/plain": [
       "'C:\\\\Users\\\\fabiofortkamp\\\\code\\\\TeslaMax'"
      ]
     },
     "execution_count": 4,
     "metadata": {},
     "output_type": "execute_result"
    }
   ],
   "source": [
    "os.getcwd()"
   ]
  },
  {
   "cell_type": "code",
   "execution_count": 5,
   "metadata": {
    "collapsed": true
   },
   "outputs": [],
   "source": [
    "def filter_table_from_column(table,column,value):\n",
    "    \"\"\"\n",
    "    Return a view into the 'table' DataFrame, selecting only the rows where\n",
    "    'column' equals 'value'\n",
    "    \"\"\"\n",
    "    \n",
    "    return table[table[column] == value]"
   ]
  },
  {
   "cell_type": "code",
   "execution_count": 6,
   "metadata": {
    "collapsed": true
   },
   "outputs": [],
   "source": [
    "FIGSIZE_CM = 12\n",
    "FONTSIZE = 14\n",
    "\n",
    "nemplot.set_latex_font(\"Times New Roman\")\n",
    "nemplot.set_figsize_cm(FIGSIZE_CM)\n",
    "nemplot.set_fontsize(FONTSIZE)"
   ]
  },
  {
   "cell_type": "markdown",
   "metadata": {},
   "source": [
    "## 1 Results from AMR simulations"
   ]
  },
  {
   "cell_type": "markdown",
   "metadata": {},
   "source": [
    "To select the best profile and dimensions, we perform AMR simulations with the following parameters:"
   ]
  },
  {
   "cell_type": "code",
   "execution_count": 7,
   "metadata": {
    "collapsed": true
   },
   "outputs": [],
   "source": [
    "# Fixed parameters\n",
    "\n",
    "FIXED_PARAMETERS_AMR = {\n",
    "    \"D_p[m]\": 0.35e-3,\n",
    "    \"L[m]\": 85e-3,\n",
    "    \"W[m]\": 30e-3,\n",
    "    \"N_r[]\": 8,\n",
    "    \"T_H[K]\": 305.5,\n",
    "    \"dT[K]\": 35,\n",
    "    \"Casing material\": \"Stainless steel\",\n",
    "    \"t_casing[m]\": 0.5e-3,\n",
    "    \"t_air[m]\": 1e-3,\n",
    "    \"N_layers[]\": 3,\n",
    "    \"T_C_layers[K]\": np.array([273,283,290]),\n",
    "    \"Length_fraction_layers[%]\": np.array([20,20,60]),\n",
    "    \"B_min[T]\": 0.05,\n",
    "    \"F_M[%]\": 35}\n",
    "\n",
    "FIXED_PARAMETERS_MAGNET = {\"R_i\": 0.015,\n",
    "                \"R_o\": 0.040,\n",
    "                \"h_fc\": 0.005,\n",
    "                \"R_e\": 0.3,\n",
    "                \"n_II\": 2,\n",
    "                \"n_IV\": 4,\n",
    "                \"phi_C_II\": 15,\n",
    "                \"mu_r_II\": 1.05,\n",
    "                \"mu_r_IV\": 1.05,\n",
    "              \"linear_iron\": 1,\n",
    "              \"mu_r_iron\": 5e3,\n",
    "             }"
   ]
  },
  {
   "cell_type": "markdown",
   "metadata": {},
   "source": [
    "### 1.1 AMR maps for $B$ and $H$"
   ]
  },
  {
   "cell_type": "markdown",
   "metadata": {},
   "source": [
    "To couple with the magnet geometry, we vary the regenerator height, and the air gap height follows. The results are shown in the following figures, for several values of the high magnetic field and regenerator height:"
   ]
  },
  {
   "cell_type": "code",
   "execution_count": 8,
   "metadata": {
    "collapsed": false
   },
   "outputs": [
    {
     "data": {
      "text/html": [
       "<table><tr><td><img src='figures/Qc_H_regW30.png' width=500></td><td><img src='figures/COP_H_regW30.png' width=500></td></tr></table>"
      ],
      "text/plain": [
       "<IPython.core.display.HTML object>"
      ]
     },
     "metadata": {},
     "output_type": "display_data"
    }
   ],
   "source": [
    "display(HTML(\"<table><tr><td><img src='figures/Qc_H_regW30.png' width=500></td><td><img src='figures/COP_H_regW30.png' width=500></td></tr></table>\"))"
   ]
  },
  {
   "cell_type": "markdown",
   "metadata": {},
   "source": [
    "As a comparison, the figures below use the same parameters, for the system temperature span is kept at $\\Delta{}T_\\mathrm{sys} = 20\\,\\mathrm{K}$ and heat exchanger are used at both ends:"
   ]
  },
  {
   "cell_type": "code",
   "execution_count": 9,
   "metadata": {
    "collapsed": false
   },
   "outputs": [
    {
     "data": {
      "text/html": [
       "<table><tr><td><img src='figures/Qc_H_regW30 - with HEX.png' width=500></td><td><img src='figures/COP_H_regW30 - with HEX.png' width=500></td></tr></table>"
      ],
      "text/plain": [
       "<IPython.core.display.HTML object>"
      ]
     },
     "metadata": {},
     "output_type": "display_data"
    }
   ],
   "source": [
    "display(HTML(\"<table><tr><td><img src='figures/Qc_H_regW30 - with HEX.png' width=500></td><td><img src='figures/COP_H_regW30 - with HEX.png' width=500></td></tr></table>\"))"
   ]
  },
  {
   "cell_type": "markdown",
   "metadata": {},
   "source": [
    "### 1.2 Ability of the magnetic circuit to generate the profile"
   ]
  },
  {
   "cell_type": "markdown",
   "metadata": {},
   "source": [
    "Now, based on the previous AMR maps, we select an external radius of 100 mm and internal radius of 40 mm, and we vary the air gap height, to see the ability of the TeslaMax model to generate these magnetic profiles."
   ]
  },
  {
   "cell_type": "code",
   "execution_count": 10,
   "metadata": {
    "collapsed": true
   },
   "outputs": [],
   "source": [
    "def get_hgap_map_vectors(R_s,phi_S):\n",
    "    \"\"\"\n",
    "    Return (h_gap, B_max, K) as arrays to be plotted with contourf, \n",
    "    based on the magnet optimization maps for 'R_s' and 'phi_S'\n",
    "    \"\"\"\n",
    "    \n",
    "    filename = \"map_K_Rs_%d.txt\" %(R_s,)\n",
    "    \n",
    "    file_path = Path(filename)\n",
    "    \n",
    "    # read the parameters at the header of the file,\n",
    "    # to extract the number of segments and format the table\n",
    "    with open(file_path) as f:\n",
    "        flines = f.readlines()\n",
    "    \n",
    "    hgap_map_dict_lines = 14\n",
    "    \n",
    "    params = eval(\"\".join(flines[0:hgap_map_dict_lines]))\n",
    "    \n",
    "    # parse the results file\n",
    "    column_names = [\"phi_S[deg]\",\n",
    "                    \"h_gap[mm]\",\n",
    "                    \"B_max[T]\",\n",
    "                   \"K[]\"]\n",
    "    \n",
    "    map_table = pd.read_csv(filename,sep='\\t',skiprows=hgap_map_dict_lines,names=column_names,header=0)\n",
    "\n",
    "    map_table = filter_table_from_column(map_table,\"phi_S[deg]\",phi_S)\n",
    "    \n",
    "    # tip to use pivot from\n",
    "    # https://stackoverflow.com/questions/24032282/create-contour-plot-from-pandas-groupby-dataframe\n",
    "    mp = map_table.pivot('B_max[T]','h_gap[mm]','K[]')\n",
    "     \n",
    "    X=mp.columns.values\n",
    "    Y=mp.index.values\n",
    "    K=mp.values\n",
    "    h_gap, B_max =np.meshgrid(X, Y)\n",
    "    \n",
    "    return (h_gap,B_max,K)"
   ]
  },
  {
   "cell_type": "code",
   "execution_count": 11,
   "metadata": {
    "collapsed": false
   },
   "outputs": [],
   "source": [
    "def plot_K_maps(R_s,phi_S):\n",
    "    \n",
    "        \n",
    "    fig, ax = nemplot.create_plot(xlabel=H_REG_LABEL,\n",
    "                             ylabel=B_LABEL)\n",
    "\n",
    "    h_gap, B_max, K = get_hgap_map_vectors(R_s,phi_S)\n",
    "    \n",
    "    H_reg = h_gap - 2e3*(FIXED_PARAMETERS_AMR[\"t_air[m]\"] + FIXED_PARAMETERS_AMR[\"t_casing[m]\"] )\n",
    "    \n",
    "    K_min = np.min(K)\n",
    "    K_max = np.max(K)\n",
    "    \n",
    "    if K_min <= K_CRITIC:\n",
    "        \n",
    "        K_values = np.arange(0,K_max+K_STEP,K_STEP)\n",
    "    else:\n",
    "        K_values = None\n",
    "        \n",
    "    H_contour = ax.contourf(H_reg,B_max,K,\n",
    "                                levels=K_values,\n",
    "                                cmap='jet')\n",
    "        \n",
    "    H_colorbar = fig.colorbar(H_contour,\n",
    "                                  ax=ax,\n",
    "                                 format='%.3f',\n",
    "                                 ticks=K_values)\n",
    "    \n",
    "    H_colorbar.set_label(r'$K\\,[\\ ]$')\n",
    "\n",
    "    ax.set_xticks(np.linspace(np.min(H_reg),np.max(H_reg),11))\n",
    "    \n",
    "    nemplot.save_figure(fig,\"map_K_H_Rs_%d_phi_%d\" %(R_s,phi_S))"
   ]
  },
  {
   "cell_type": "markdown",
   "metadata": {},
   "source": [
    "Plotting for the iron-magnet dividing angles of 35°, 45° and 55°:"
   ]
  },
  {
   "cell_type": "code",
   "execution_count": 12,
   "metadata": {
    "collapsed": false
   },
   "outputs": [
    {
     "data": {
      "image/png": "[encoded data removed]",
      "text/plain": [
       "<matplotlib.figure.Figure at 0x28b41db8828>"
      ]
     },
     "metadata": {},
     "output_type": "display_data"
    }
   ],
   "source": [
    "%matplotlib inline\n",
    "plot_K_maps(100,35)"
   ]
  },
  {
   "cell_type": "code",
   "execution_count": 13,
   "metadata": {
    "collapsed": false
   },
   "outputs": [
    {
     "data": {
      "image/png": "[encoded data removed]",
      "text/plain": [
       "<matplotlib.figure.Figure at 0x28b41db8470>"
      ]
     },
     "metadata": {},
     "output_type": "display_data"
    }
   ],
   "source": [
    "plot_K_maps(100,45)"
   ]
  },
  {
   "cell_type": "code",
   "execution_count": 14,
   "metadata": {
    "collapsed": false
   },
   "outputs": [
    {
     "data": {
      "image/png": "[encoded data removed]",
      "text/plain": [
       "<matplotlib.figure.Figure at 0x28b41e4cd30>"
      ]
     },
     "metadata": {},
     "output_type": "display_data"
    }
   ],
   "source": [
    "plot_K_maps(100,55)"
   ]
  },
  {
   "cell_type": "markdown",
   "metadata": {
    "collapsed": true
   },
   "source": [
    "The critical value of the cost function is $K \\le 0.002$. See the **TeslaMax Optimization** notebook for examples."
   ]
  },
  {
   "cell_type": "markdown",
   "metadata": {},
   "source": [
    "## 2 The smallest magnet to generate the desired profile"
   ]
  },
  {
   "cell_type": "markdown",
   "metadata": {},
   "source": [
    "The above maps are helpful to understand the behaviour of the cost function, but they are tied to a particular value of the magnetic circuit.\n",
    "\n",
    "The AMR simulations do not take the magnet geometry into account. The challenge, from the point of view of magnet design, is fitting the regenerators into an appropriate gap, and then generating the desired profile over the gap."
   ]
  },
  {
   "cell_type": "markdown",
   "metadata": {},
   "source": [
    "The perimeter occupied by the regenerators is:"
   ]
  },
  {
   "cell_type": "code",
   "execution_count": 15,
   "metadata": {
    "collapsed": false
   },
   "outputs": [
    {
     "name": "stdout",
     "output_type": "stream",
     "text": [
      "Regenerator perimeter = 240.0 mm\n"
     ]
    }
   ],
   "source": [
    "P_regenerator = FIXED_PARAMETERS_AMR[\"N_r[]\"] * FIXED_PARAMETERS_AMR[\"W[m]\"]\n",
    "print(\"Regenerator perimeter = %.1f mm\" %(P_regenerator*1e3))"
   ]
  },
  {
   "cell_type": "markdown",
   "metadata": {},
   "source": [
    "From the magnet maps, the average regenerator height is 17 mm, and hence, the average gap height is 20 mm. The gap perimeter is then:"
   ]
  },
  {
   "cell_type": "code",
   "execution_count": 16,
   "metadata": {
    "collapsed": false
   },
   "outputs": [
    {
     "name": "stdout",
     "output_type": "stream",
     "text": [
      "Gap perimeter = 314.2 mm\n"
     ]
    }
   ],
   "source": [
    "h_gap_mean = 20e-3\n",
    "R_gap = FIXED_PARAMETERS_MAGNET[\"R_o\"] + h_gap_mean/2\n",
    "P_gap = 2*np.pi * R_gap\n",
    "print(\"Gap perimeter = %.1f mm\" %(P_gap*1e3))\n"
   ]
  },
  {
   "cell_type": "markdown",
   "metadata": {},
   "source": [
    "Which means that the gap usage is approximately:"
   ]
  },
  {
   "cell_type": "code",
   "execution_count": 17,
   "metadata": {
    "collapsed": false
   },
   "outputs": [
    {
     "name": "stdout",
     "output_type": "stream",
     "text": [
      "Gap usage = 76.4 %\n"
     ]
    }
   ],
   "source": [
    "gap_usage = P_regenerator / P_gap\n",
    "print(\"Gap usage = %.1f %%\" %(gap_usage*1e2,) )"
   ]
  },
  {
   "cell_type": "markdown",
   "metadata": {},
   "source": [
    "We can then plot the inverse question from the above maps: for all other parameters fixed, what is the minimum value of the external radius, for given values of the magnetic field and regenerator height, that can be optimized properly (i.e. the cost fucntion is below the critical value)?\n",
    "\n",
    "Beware that, in the maps below, the maximum radius is 150 mm to avoid too many simulations, so the points at this radius might have a cost function above the critical value:"
   ]
  },
  {
   "cell_type": "code",
   "execution_count": 18,
   "metadata": {
    "collapsed": false
   },
   "outputs": [],
   "source": [
    "def get_Rs_map_vectors(R_o,phi_S):\n",
    "    \"\"\"\n",
    "    Return (h_gap, B_max, R_s) as arrays to be plotted with contourf,\n",
    "    from the results file for 'R_o' (in mm), selecting only the rows\n",
    "    with dividing angle 'phi_S' [deg]\n",
    "    \"\"\"\n",
    "    \n",
    "    filename = \"map_Rs_Ro_%d.txt\" %(R_o,)\n",
    "    \n",
    "    file_path = Path(filename)\n",
    "    \n",
    "    # read the parameters at the header of the file,\n",
    "    # to extract the number of segments and format the table\n",
    "    with open(file_path) as f:\n",
    "        flines = f.readlines()\n",
    "        \n",
    "    params = eval(\"\".join(flines[0:DICT_LINES]))\n",
    "    \n",
    "    n = params[\"n_II\"] + params[\"n_IV\"]\n",
    "    \n",
    "    # parse the results file\n",
    "    column_names = [\"phi_S[deg]\",\n",
    "                   \"h_gap[mm]\",\n",
    "                   \"B_max[T]\",\n",
    "                    \"R_s[mm]\",\n",
    "                   \"K[]\"] \n",
    "    \n",
    "    map_table = pd.read_csv(filename,sep='\\t',skiprows=DICT_LINES,names=column_names,header=0)\n",
    "    \n",
    "    map_table = filter_table_from_column(map_table,'phi_S[deg]',phi_S)\n",
    "    \n",
    "    # tip to use pivot from\n",
    "    # https://stackoverflow.com/questions/24032282/create-contour-plot-from-pandas-groupby-dataframe\n",
    "    mp = map_table.pivot('B_max[T]','h_gap[mm]','R_s[mm]')\n",
    "    \n",
    "    X=mp.columns.values\n",
    "    Y=mp.index.values\n",
    "    R_s=mp.values\n",
    "    h_gap, B_max =np.meshgrid(X, Y)\n",
    "    \n",
    "    return (h_gap,B_max,R_s)"
   ]
  },
  {
   "cell_type": "markdown",
   "metadata": {},
   "source": [
    "Plotting for the iron-magnet angle of 45°:"
   ]
  },
  {
   "cell_type": "code",
   "execution_count": 19,
   "metadata": {
    "collapsed": false
   },
   "outputs": [
    {
     "data": {
      "image/png": "[encoded data removed]",
      "text/plain": [
       "<matplotlib.figure.Figure at 0x28b4081d208>"
      ]
     },
     "metadata": {},
     "output_type": "display_data"
    }
   ],
   "source": [
    "%matplotlib inline\n",
    "\n",
    "fig, ax = nemplot.create_plot(xlabel=H_REG_LABEL,\n",
    "                             ylabel=B_LABEL)\n",
    "\n",
    "h_gap, B_max, R_s = get_Rs_map_vectors(40,45)\n",
    "H = h_gap - 2e3*(FIXED_PARAMETERS_AMR[\"t_air[m]\"] + FIXED_PARAMETERS_AMR[\"t_casing[m]\"])\n",
    "\n",
    "R_s_contour = ax.contourf(H,B_max,R_s,cmap='jet')\n",
    "\n",
    "ax.set_xticks(np.linspace(np.min(H),np.max(H),11))\n",
    "\n",
    "R_s_colorbar = fig.colorbar(R_s_contour,ax=ax)\n",
    "R_s_colorbar.set_label(r'$R\\ped{s}\\,[\\si{\\mm}]$')"
   ]
  },
  {
   "cell_type": "markdown",
   "metadata": {},
   "source": [
    "Due to the computational cost of these simulations, the resolution for the axes are low, and hence these maps should only give loose indications of the required size of the magnet for a given profile. The actual shape of the profile should be checked with other simulations.\n",
    "\n",
    "It is interesting to see that the contours of constant radius are nearly vertical --- which means that, for a constant external radius, it is possible to achieve different profiles when the gap has a constant geometry (just by varying the remanence angles), making it worth to try to use the smallest gap possible."
   ]
  },
  {
   "cell_type": "markdown",
   "metadata": {},
   "source": [
    "## 3 Choosing the minimum radius for a given capacity"
   ]
  },
  {
   "cell_type": "markdown",
   "metadata": {},
   "source": [
    "### The estimated operating point"
   ]
  },
  {
   "cell_type": "markdown",
   "metadata": {},
   "source": [
    "The above maps can be checked across the AMR maps in Section 1 to then design a compact magnet than can achieve a given capacity.\n",
    "\n",
    "To define the target operating point, consider the refrigerated cabinet to be operated by the AMR system. The *cold source* is the refrigerated space inside the cabinet, and the *hot source* is the environment. In steady state, the cooling capacity must be high enough to maintain the interior at the cold temperature $T_{\\mathrm{C}}$, despite heat leakage to the environment.\n",
    "\n",
    "The experimental value of the thermal conductance of the cabinet between the interior and the environment is:"
   ]
  },
  {
   "cell_type": "code",
   "execution_count": 20,
   "metadata": {
    "collapsed": true
   },
   "outputs": [],
   "source": [
    "UA_CABINET_EXPERIMENTAL = 1.8 # W/K"
   ]
  },
  {
   "cell_type": "markdown",
   "metadata": {},
   "source": [
    "and the temperature span is:"
   ]
  },
  {
   "cell_type": "code",
   "execution_count": 21,
   "metadata": {
    "collapsed": true
   },
   "outputs": [],
   "source": [
    "TARGET_TEMPERATURE_SPAN_CABINET = 20 # K "
   ]
  },
  {
   "cell_type": "markdown",
   "metadata": {},
   "source": [
    "and hence the target cooling capacity is:"
   ]
  },
  {
   "cell_type": "code",
   "execution_count": 22,
   "metadata": {
    "collapsed": true
   },
   "outputs": [],
   "source": [
    "TARGET_COOLING_CAPACITY = UA_CABINET_EXPERIMENTAL * TARGET_TEMPERATURE_SPAN_CABINET"
   ]
  },
  {
   "cell_type": "markdown",
   "metadata": {},
   "source": [
    "For the heat exchangers that have been tested, a system temperature span of 20 K generate a regenerator temperature span of 35 K, so the maps of section 1 can be used.\n",
    "\n",
    "To account for numerical errors and for the uncertainty in selecting the heat exchanger, we use a safety factor when specifying the actual target cooling capacity:"
   ]
  },
  {
   "cell_type": "code",
   "execution_count": 23,
   "metadata": {
    "collapsed": true
   },
   "outputs": [],
   "source": [
    "SAFETY_FACTOR = 3\n",
    "Q_C_CRITICAL = TARGET_COOLING_CAPACITY * SAFETY_FACTOR"
   ]
  },
  {
   "cell_type": "markdown",
   "metadata": {},
   "source": [
    "### Combining maps for the external radius and cooling capacity\n",
    "\n",
    "This map shows how to select the minimum radius required to achieve a given cooling capacity, for various magnetic profiles and regenerator heights. The region above the critical cooling capacity is filled. **The radius values shown already account for the iron shell**"
   ]
  },
  {
   "cell_type": "code",
   "execution_count": 58,
   "metadata": {
    "collapsed": true
   },
   "outputs": [],
   "source": [
    "R_C_MIN = 100\n",
    "R_C_MAX = 140\n",
    "R_C_STEP = 5\n",
    "\n",
    "N_QC_LEVELS = 10\n",
    "\n",
    "B_MIN = 1.00\n",
    "B_MAX = 1.20\n",
    "\n",
    "# MAGNET DATA\n",
    "R_O = 1e3*FIXED_PARAMETERS_MAGNET[\"R_o\"] # [mm]\n",
    "PHI_S_IV = 45 # [degree]\n",
    "\n",
    "QC_MAPS_FILE = \"AMR_maps_Hreg_W30.txt\""
   ]
  },
  {
   "cell_type": "code",
   "execution_count": 59,
   "metadata": {
    "collapsed": true
   },
   "outputs": [],
   "source": [
    "def filter_span_to_20K(table):\n",
    "    \"\"\"\n",
    "    Interpolates the given DataFrame 'table' and return a pandas DataFrame, \n",
    "    where all the rows have dT_span = 20 K, \"\"\"\n",
    "    \n",
    "    DT = 20\n",
    "    \n",
    "    Teste_vector = table_slope_2D['Teste'].unique()\n",
    "    table = DataFrame()\n",
    "\n",
    "    sim_row = {}\n",
    "    \n",
    "    i_sim = 1\n",
    "    for teste in Teste_vector:\n",
    "        \n",
    "        table_teste = regsim.filter_table_from_column(table,'Teste',teste)\n",
    "\n",
    "        f_Qc = interpolate.interp1d(table_teste['Tspan [K]'],table_teste['Qc[W]'], fill_value='extrapolate')\n",
    "        f_COP = interpolate.interp1d(table_teste['Tspan [K]'],table_teste['COP[-]'], fill_value='extrapolate')\n",
    "\n",
    "        H = table_teste['H[mm]'].values[0]\n",
    "        Hmax = table_teste['Hmax[T]'].values[0]\n",
    "\n",
    "        sim_row[\"Teste\"] = teste\n",
    "        sim_row[\"H[mm]\"] = H\n",
    "        sim_row[\"Hmax[T]\"] = Hmax\n",
    "        sim_row[\"Qc[W]\"] = f_Qc(DT)\n",
    "        sim_row[\"COP[-]\"] = f_COP(DT)\n",
    "\n",
    "        sim_row_df = DataFrame(sim_row,index=[i_sim,])\n",
    "        sim_row_df.index.name = \"Case\"\n",
    "        table = pd.concat([table,sim_row_df])\n",
    "        i_sim = i_sim + 1\n",
    "                \n",
    "    return tablev"
   ]
  },
  {
   "cell_type": "code",
   "execution_count": 60,
   "metadata": {
    "collapsed": true
   },
   "outputs": [],
   "source": [
    "def get_Rs_map_vectors(R_o,phi_S):\n",
    "    \"\"\"\n",
    "    Return (h_gap, B_max, R_s, map_table) as arrays to be plotted with contourf,\n",
    "    from the results file for 'R_o' (in mm), selecting only the rows\n",
    "    with dividing angle 'phi_S' [deg]. \n",
    "    \n",
    "    The last element is a pandas DataFrame with the corresponding result.\n",
    "    \"\"\"\n",
    "    \n",
    "    filename = \"map_Rs_Ro_%d.txt\" %(R_o,)\n",
    "    \n",
    "    file_path = Path(filename)\n",
    "    \n",
    "    # read the parameters at the header of the file,\n",
    "    # to extract the number of segments and format the table\n",
    "    with file_path.open() as f:\n",
    "        flines = f.readlines()\n",
    "        \n",
    "    params = eval(\"\".join(flines[0:DICT_LINES]))\n",
    "    \n",
    "    n = params[\"n_II\"] + params[\"n_IV\"]\n",
    "    \n",
    "    # parse the results file\n",
    "    column_names = [\"phi_S[deg]\",\n",
    "                   \"h_gap[mm]\",\n",
    "                   \"B_max[T]\",\n",
    "                    \"R_s[mm]\",\n",
    "                   \"K[]\"] \n",
    "    \n",
    "    map_table = pd.read_csv(filename,sep='\\t',skiprows=DICT_LINES,names=column_names,header=0)\n",
    "    \n",
    "    map_table = filter_table_from_column(map_table,'phi_S[deg]',phi_S)\n",
    "    \n",
    "    # tip to use pivot from\n",
    "    # https://stackoverflow.com/questions/24032282/create-contour-plot-from-pandas-groupby-dataframe\n",
    "    mp = map_table.pivot('B_max[T]','h_gap[mm]','R_s[mm]')\n",
    "    \n",
    "    X=mp.columns.values\n",
    "    Y=mp.index.values\n",
    "    R_s=mp.values\n",
    "    h_gap, B_max =np.meshgrid(X, Y)\n",
    "    \n",
    "    return (h_gap,B_max,R_s,map_table)"
   ]
  },
  {
   "cell_type": "code",
   "execution_count": 61,
   "metadata": {
    "collapsed": false
   },
   "outputs": [],
   "source": [
    "(h_gap,B_max,R_s,map_table) = get_Rs_map_vectors(40,45)"
   ]
  },
  {
   "cell_type": "code",
   "execution_count": 62,
   "metadata": {
    "collapsed": false
   },
   "outputs": [
    {
     "data": {
      "text/plain": [
       "array([[  90.,   90.,   90.,   95.,   95.,   95.,  100.,  100.,  105.,\n",
       "         110.,  110.],\n",
       "       [  90.,   90.,   90.,   95.,   95.,   95.,  100.,  105.,  105.,\n",
       "         110.,  110.],\n",
       "       [  90.,   90.,   90.,   95.,   95.,  100.,  100.,  105.,  105.,\n",
       "         110.,  115.],\n",
       "       [  90.,   90.,   90.,   95.,   95.,  100.,  100.,  105.,  105.,\n",
       "         110.,  115.],\n",
       "       [  90.,   90.,   90.,   95.,  100.,  100.,  100.,  105.,  110.,\n",
       "         110.,  115.],\n",
       "       [  90.,   90.,   95.,   95.,  100.,  100.,  105.,  105.,  110.,\n",
       "         110.,  115.],\n",
       "       [  90.,   90.,   95.,   95.,  100.,  100.,  105.,  105.,  110.,\n",
       "         115.,  115.],\n",
       "       [  90.,   95.,   95.,  100.,  100.,  100.,  105.,  110.,  110.,\n",
       "         115.,  120.],\n",
       "       [  90.,   95.,   95.,  100.,  100.,  105.,  105.,  110.,  110.,\n",
       "         115.,  120.],\n",
       "       [  90.,   95.,   95.,  100.,  100.,  105.,  105.,  110.,  115.,\n",
       "         115.,  120.],\n",
       "       [  95.,   95.,   95.,  100.,  105.,  105.,  110.,  110.,  115.,\n",
       "         115.,  120.],\n",
       "       [  95.,   95.,  100.,  100.,  105.,  105.,  110.,  110.,  115.,\n",
       "         120.,  120.],\n",
       "       [  95.,   95.,  100.,  100.,  105.,  105.,  110.,  115.,  115.,\n",
       "         120.,  125.],\n",
       "       [  95.,  100.,  100.,  100.,  105.,  110.,  110.,  115.,  115.,\n",
       "         120.,  125.],\n",
       "       [  95.,  100.,  100.,  105.,  105.,  110.,  110.,  115.,  120.,\n",
       "         120.,  125.],\n",
       "       [  95.,  100.,  100.,  105.,  110.,  110.,  110.,  115.,  120.,\n",
       "         125.,  130.],\n",
       "       [  95.,  100.,  105.,  105.,  110.,  110.,  115.,  115.,  120.,\n",
       "         125.,  130.],\n",
       "       [ 100.,  100.,  105.,  105.,  110.,  110.,  115.,  120.,  120.,\n",
       "         125.,  130.],\n",
       "       [ 100.,  105.,  105.,  110.,  110.,  115.,  115.,  120.,  125.,\n",
       "         125.,  130.],\n",
       "       [ 100.,  105.,  105.,  110.,  110.,  115.,  115.,  120.,  125.,\n",
       "         130.,  135.],\n",
       "       [ 100.,  105.,  105.,  110.,  115.,  115.,  120.,  120.,  125.,\n",
       "         130.,  135.]])"
      ]
     },
     "execution_count": 62,
     "metadata": {},
     "output_type": "execute_result"
    }
   ],
   "source": [
    "R_s"
   ]
  },
  {
   "cell_type": "code",
   "execution_count": 63,
   "metadata": {
    "collapsed": true
   },
   "outputs": [],
   "source": [
    "def plot_Qc_and_Rs_contour():    \n",
    "    \n",
    "    table_Qc = pd.read_csv(QC_MAPS_FILE,sep='\\t')\n",
    "\n",
    "    HMax_vector = table_Qc['Hmax[T]'].unique()\n",
    "    H_reg_vector = table_Qc['H[mm]'].unique()\n",
    "\n",
    "    Qc_matrix = np.zeros((len(HMax_vector),len(H_reg_vector)))\n",
    "    COP_matrix = Qc_matrix.copy()\n",
    "    \n",
    "    fig_list = []\n",
    "    table_list = []\n",
    "    \n",
    "    fig_Qc, ax_Qc = nemplot.create_plot(title='',\n",
    "                                        xlabel=H_REG_LABEL,\n",
    "                                        ylabel=H_MAX_LABEL) \n",
    "\n",
    "    Qc_vector = table_Qc['Qc[W]'].values\n",
    "    COP_vector = table_Qc['COP[-]'].values\n",
    "    \n",
    "    #transformando o vetor Qc em matriz\n",
    "    cont = 0\n",
    "    for i in range(len(H_reg_vector)):\n",
    "        for j in range(len(HMax_vector)):                            \n",
    "            Qc_matrix[j,i] = Qc_vector[cont]\n",
    "            COP_matrix[j,i] = COP_vector[cont]\n",
    "            cont += 1\n",
    "    \n",
    "    H_reg_grid,B_max_grid = np.meshgrid(H_reg_vector,HMax_vector)\n",
    "    \n",
    "    Q_c_min = np.min(Qc_matrix)\n",
    "    Q_c_max = np.max(Qc_matrix)\n",
    "    \n",
    "    # build the Q_c_levels by partinioning the range below and above the critical value,\n",
    "    # making sure it is included in the list\n",
    "    Q_c_levels = np.append(np.linspace(Q_c_min,Q_C_CRITICAL,int(N_QC_LEVELS/2),endpoint=False),\n",
    "                           np.linspace(Q_C_CRITICAL,Q_c_max,int(N_QC_LEVELS/2)))\n",
    "    \n",
    "    p_Qc = ax_Qc.contour(H_reg_grid,B_max_grid,Qc_matrix,Q_c_levels,colors='b')\n",
    "    ax_Qc.clabel(p_Qc,fmt=\"%d\",fontsize=0.9*nemplot_parameters[\"FONTSIZE\"])\n",
    "    \n",
    "    # fill the contour between the critical and the maximum value of cooling capacity\n",
    "    p_Qc_fill = ax_Qc.contourf(H_reg_grid,\n",
    "                               B_max_grid,\n",
    "                               Qc_matrix,\n",
    "                               levels=[Q_C_CRITICAL,Q_c_max,],\n",
    "                              cmap='Blues')\n",
    "    \n",
    "    # load the magnet data\n",
    "    h_gap_magnet,B_max_magnet,R_s_magnet,_ = get_Rs_map_vectors(R_O,PHI_S_IV)\n",
    "    H_reg_magnet = h_gap_magnet - 2e3*(FIXED_PARAMETERS_AMR[\"t_casing[m]\"] + FIXED_PARAMETERS_AMR[\"t_air[m]\"])\n",
    "    R_c_magnet = R_s_magnet + 1e3*FIXED_PARAMETERS_MAGNET[\"h_fc\"]\n",
    "    \n",
    "    p_Rs = ax_Qc.contour(H_reg_magnet,\n",
    "                         B_max_magnet,\n",
    "                         R_c_magnet,\n",
    "                         levels=np.arange(R_C_MIN,R_C_MAX + R_C_STEP,R_C_STEP),\n",
    "                         colors='r')\n",
    "    ax_Qc.clabel(p_Rs,\n",
    "                 fmt=\"%d\",\n",
    "                 fontsize=0.9*nemplot_parameters[\"FONTSIZE\"],\n",
    "                rightside_up=False)\n",
    "    \n",
    "    \n",
    "    H_reg_min = np.min(H_reg_magnet)\n",
    "    H_reg_max = np.max(H_reg_magnet)\n",
    "    dH_reg = 2\n",
    "    \n",
    "    H_reg_ticks = np.arange(H_reg_min, H_reg_max + dH_reg, dH_reg)\n",
    "    \n",
    "    ax_Qc.set_xlim(np.min(H_reg_magnet),np.max(H_reg_magnet))\n",
    "    ax_Qc.set_xticks(H_reg_ticks)\n",
    "    nemplot.refine_xticks(ax_Qc,5)\n",
    "    \n",
    "    B_max_min = B_MIN\n",
    "    B_max_max = B_MAX\n",
    "    dB_max = 0.05\n",
    "    \n",
    "    ax_Qc.set_ylim(B_MIN,B_MAX)\n",
    "    B_max_ticks = np.arange(B_max_min,B_max_max + dB_max, dB_max)\n",
    "    ax_Qc.set_yticks(B_max_ticks)\n",
    "    nemplot.refine_yticks(ax_Qc,5)\n",
    "    \n",
    "    fig_list.append(fig_Qc)\n",
    "\n",
    "    \n",
    "    nemplot.save_figure(fig_Qc,\n",
    "                        name='contour_Qc_Rs_W30')\n",
    "\n",
    "    return fig_list, table_list"
   ]
  },
  {
   "cell_type": "code",
   "execution_count": 64,
   "metadata": {
    "collapsed": false
   },
   "outputs": [
    {
     "data": {
      "image/png": "[encoded data removed]",
      "text/plain": [
       "<matplotlib.figure.Figure at 0x28b4278c9e8>"
      ]
     },
     "metadata": {},
     "output_type": "display_data"
    }
   ],
   "source": [
    "fig_list_slope2D_35K = plot_Qc_and_Rs_contour()"
   ]
  },
  {
   "cell_type": "markdown",
   "metadata": {},
   "source": [
    "It seems that an external radius of 120 mm can easily satisfy the target cooling capacity. We can select three operating points for three values of the magnetic field:"
   ]
  },
  {
   "cell_type": "code",
   "execution_count": 31,
   "metadata": {
    "collapsed": false
   },
   "outputs": [],
   "source": [
    "R_s_target_mm = 120\n",
    "t_120 = filter_table_from_column(map_table,\"R_s[mm]\",R_s_target_mm)"
   ]
  },
  {
   "cell_type": "code",
   "execution_count": 32,
   "metadata": {
    "collapsed": false
   },
   "outputs": [],
   "source": [
    "B_h_values = np.array([1.1,1.15,1.20])"
   ]
  },
  {
   "cell_type": "code",
   "execution_count": 33,
   "metadata": {
    "collapsed": false
   },
   "outputs": [
    {
     "name": "stdout",
     "output_type": "stream",
     "text": [
      "For R_s = 120 mm, B_max = 1.10 T, the maximum regenerator height is 22 mm\n",
      "For R_s = 120 mm, B_max = 1.15 T, the maximum regenerator height is 20 mm\n",
      "For R_s = 120 mm, B_max = 1.20 T, the maximum regenerator height is 19 mm\n"
     ]
    }
   ],
   "source": [
    "for B_h in B_h_values:\n",
    "    \n",
    "    t = filter_table_from_column(t_120,\"B_max[T]\",B_h)\n",
    "    h_gap_max = np.max(t[\"h_gap[mm]\"].values)\n",
    "    H_reg_max = h_gap_max - 2e3*(FIXED_PARAMETERS_AMR[\"t_casing[m]\"] + FIXED_PARAMETERS_AMR[\"t_air[m]\"])\n",
    "    print(\"For R_s = %d mm, B_max = %.2f T, the maximum regenerator height is %d mm\" %(R_s_target_mm,B_h,H_reg_max))\n",
    "    "
   ]
  },
  {
   "cell_type": "markdown",
   "metadata": {},
   "source": [
    "For simulations of these points, comparing situations with and without the internal magnet (using an iron core instead), see the notebook `Comparison with and without the internal magnet.ipynb`."
   ]
  },
  {
   "cell_type": "markdown",
   "metadata": {},
   "source": [
    "To find the operating point for the point of $B_{\\mathrm{max}} = 1.20\\,\\mathrm{T}$, we load the AMR simulation results and interpolate the values:"
   ]
  },
  {
   "cell_type": "code",
   "execution_count": 41,
   "metadata": {
    "collapsed": false
   },
   "outputs": [
    {
     "data": {
      "text/html": [
       "<div>\n",
       "<style scoped>\n",
       "    .dataframe tbody tr th:only-of-type {\n",
       "        vertical-align: middle;\n",
       "    }\n",
       "\n",
       "    .dataframe tbody tr th {\n",
       "        vertical-align: top;\n",
       "    }\n",
       "\n",
       "    .dataframe thead th {\n",
       "        text-align: right;\n",
       "    }\n",
       "</style>\n",
       "<table border=\"1\" class=\"dataframe\">\n",
       "  <thead>\n",
       "    <tr style=\"text-align: right;\">\n",
       "      <th></th>\n",
       "      <th>H[mm]</th>\n",
       "      <th>Hmax[T]</th>\n",
       "      <th>Test</th>\n",
       "      <th>Re_w[-]</th>\n",
       "      <th>ReDp_CB[-]</th>\n",
       "      <th>ReDp_HB[-]</th>\n",
       "      <th>U_CB[-]</th>\n",
       "      <th>U_HB[-]</th>\n",
       "      <th>dPCB[kPa]</th>\n",
       "      <th>dPHB[kPa]</th>\n",
       "      <th>Tspan [K]</th>\n",
       "      <th>dT_reg[K]</th>\n",
       "      <th>Qc[W]</th>\n",
       "      <th>Qh[W]</th>\n",
       "      <th>Wpump[W]</th>\n",
       "      <th>Wasco[W]</th>\n",
       "      <th>Wmotor[W]</th>\n",
       "      <th>COP[-]</th>\n",
       "      <th>Q_wall-Loss[W]</th>\n",
       "    </tr>\n",
       "  </thead>\n",
       "  <tbody>\n",
       "    <tr>\n",
       "      <th>2</th>\n",
       "      <td>10</td>\n",
       "      <td>1.2</td>\n",
       "      <td>Test1</td>\n",
       "      <td>0.0585</td>\n",
       "      <td>8.0137</td>\n",
       "      <td>8.0137</td>\n",
       "      <td>0.3977</td>\n",
       "      <td>0.3977</td>\n",
       "      <td>85.23524</td>\n",
       "      <td>-85.23524</td>\n",
       "      <td>35</td>\n",
       "      <td>35.669664</td>\n",
       "      <td>49.077647</td>\n",
       "      <td>46.291060</td>\n",
       "      <td>6.016106</td>\n",
       "      <td>20.16</td>\n",
       "      <td>6.350158</td>\n",
       "      <td>1.508862</td>\n",
       "      <td>-591.675271</td>\n",
       "    </tr>\n",
       "    <tr>\n",
       "      <th>5</th>\n",
       "      <td>12</td>\n",
       "      <td>1.2</td>\n",
       "      <td>Test1</td>\n",
       "      <td>0.0585</td>\n",
       "      <td>8.0137</td>\n",
       "      <td>8.0137</td>\n",
       "      <td>0.3977</td>\n",
       "      <td>0.3977</td>\n",
       "      <td>85.23524</td>\n",
       "      <td>-85.23524</td>\n",
       "      <td>35</td>\n",
       "      <td>35.739557</td>\n",
       "      <td>63.806365</td>\n",
       "      <td>62.602843</td>\n",
       "      <td>7.219327</td>\n",
       "      <td>20.16</td>\n",
       "      <td>8.255907</td>\n",
       "      <td>1.790541</td>\n",
       "      <td>-633.778998</td>\n",
       "    </tr>\n",
       "    <tr>\n",
       "      <th>8</th>\n",
       "      <td>14</td>\n",
       "      <td>1.2</td>\n",
       "      <td>Test1</td>\n",
       "      <td>0.0585</td>\n",
       "      <td>8.0137</td>\n",
       "      <td>8.0137</td>\n",
       "      <td>0.3977</td>\n",
       "      <td>0.3977</td>\n",
       "      <td>85.23524</td>\n",
       "      <td>-85.23524</td>\n",
       "      <td>35</td>\n",
       "      <td>35.795899</td>\n",
       "      <td>79.134803</td>\n",
       "      <td>79.595724</td>\n",
       "      <td>8.422548</td>\n",
       "      <td>20.16</td>\n",
       "      <td>10.239254</td>\n",
       "      <td>2.038411</td>\n",
       "      <td>-675.789513</td>\n",
       "    </tr>\n",
       "    <tr>\n",
       "      <th>11</th>\n",
       "      <td>16</td>\n",
       "      <td>1.2</td>\n",
       "      <td>Test1</td>\n",
       "      <td>0.0585</td>\n",
       "      <td>8.0137</td>\n",
       "      <td>8.0137</td>\n",
       "      <td>0.3977</td>\n",
       "      <td>0.3977</td>\n",
       "      <td>85.23524</td>\n",
       "      <td>-85.23524</td>\n",
       "      <td>35</td>\n",
       "      <td>35.842590</td>\n",
       "      <td>94.937258</td>\n",
       "      <td>97.125818</td>\n",
       "      <td>9.625770</td>\n",
       "      <td>20.16</td>\n",
       "      <td>12.283934</td>\n",
       "      <td>2.256666</td>\n",
       "      <td>-717.801504</td>\n",
       "    </tr>\n",
       "    <tr>\n",
       "      <th>14</th>\n",
       "      <td>18</td>\n",
       "      <td>1.2</td>\n",
       "      <td>Test1</td>\n",
       "      <td>0.0585</td>\n",
       "      <td>8.0137</td>\n",
       "      <td>8.0137</td>\n",
       "      <td>0.3977</td>\n",
       "      <td>0.3977</td>\n",
       "      <td>85.23524</td>\n",
       "      <td>-85.23524</td>\n",
       "      <td>35</td>\n",
       "      <td>35.882094</td>\n",
       "      <td>111.121220</td>\n",
       "      <td>115.092414</td>\n",
       "      <td>10.828991</td>\n",
       "      <td>20.16</td>\n",
       "      <td>14.377977</td>\n",
       "      <td>2.449386</td>\n",
       "      <td>-759.854209</td>\n",
       "    </tr>\n",
       "    <tr>\n",
       "      <th>17</th>\n",
       "      <td>20</td>\n",
       "      <td>1.2</td>\n",
       "      <td>Test1</td>\n",
       "      <td>0.0585</td>\n",
       "      <td>8.0137</td>\n",
       "      <td>8.0137</td>\n",
       "      <td>0.3977</td>\n",
       "      <td>0.3977</td>\n",
       "      <td>85.23524</td>\n",
       "      <td>-85.23524</td>\n",
       "      <td>35</td>\n",
       "      <td>35.916054</td>\n",
       "      <td>127.619766</td>\n",
       "      <td>133.416110</td>\n",
       "      <td>12.032212</td>\n",
       "      <td>20.16</td>\n",
       "      <td>16.512724</td>\n",
       "      <td>2.620264</td>\n",
       "      <td>-801.930894</td>\n",
       "    </tr>\n",
       "    <tr>\n",
       "      <th>20</th>\n",
       "      <td>22</td>\n",
       "      <td>1.2</td>\n",
       "      <td>Test1</td>\n",
       "      <td>0.0585</td>\n",
       "      <td>8.0137</td>\n",
       "      <td>8.0137</td>\n",
       "      <td>0.3977</td>\n",
       "      <td>0.3977</td>\n",
       "      <td>85.23524</td>\n",
       "      <td>-85.23524</td>\n",
       "      <td>35</td>\n",
       "      <td>35.945613</td>\n",
       "      <td>144.375459</td>\n",
       "      <td>152.038865</td>\n",
       "      <td>13.235433</td>\n",
       "      <td>20.16</td>\n",
       "      <td>18.680743</td>\n",
       "      <td>2.772390</td>\n",
       "      <td>-844.021700</td>\n",
       "    </tr>\n",
       "  </tbody>\n",
       "</table>\n",
       "</div>"
      ],
      "text/plain": [
       "    H[mm]  Hmax[T]   Test  Re_w[-]  ReDp_CB[-]  ReDp_HB[-]  U_CB[-]  U_HB[-]  \\\n",
       "2      10      1.2  Test1   0.0585      8.0137      8.0137   0.3977   0.3977   \n",
       "5      12      1.2  Test1   0.0585      8.0137      8.0137   0.3977   0.3977   \n",
       "8      14      1.2  Test1   0.0585      8.0137      8.0137   0.3977   0.3977   \n",
       "11     16      1.2  Test1   0.0585      8.0137      8.0137   0.3977   0.3977   \n",
       "14     18      1.2  Test1   0.0585      8.0137      8.0137   0.3977   0.3977   \n",
       "17     20      1.2  Test1   0.0585      8.0137      8.0137   0.3977   0.3977   \n",
       "20     22      1.2  Test1   0.0585      8.0137      8.0137   0.3977   0.3977   \n",
       "\n",
       "    dPCB[kPa]  dPHB[kPa]  Tspan [K]  dT_reg[K]       Qc[W]       Qh[W]  \\\n",
       "2    85.23524  -85.23524         35  35.669664   49.077647   46.291060   \n",
       "5    85.23524  -85.23524         35  35.739557   63.806365   62.602843   \n",
       "8    85.23524  -85.23524         35  35.795899   79.134803   79.595724   \n",
       "11   85.23524  -85.23524         35  35.842590   94.937258   97.125818   \n",
       "14   85.23524  -85.23524         35  35.882094  111.121220  115.092414   \n",
       "17   85.23524  -85.23524         35  35.916054  127.619766  133.416110   \n",
       "20   85.23524  -85.23524         35  35.945613  144.375459  152.038865   \n",
       "\n",
       "     Wpump[W]  Wasco[W]  Wmotor[W]    COP[-]  Q_wall-Loss[W]  \n",
       "2    6.016106     20.16   6.350158  1.508862     -591.675271  \n",
       "5    7.219327     20.16   8.255907  1.790541     -633.778998  \n",
       "8    8.422548     20.16  10.239254  2.038411     -675.789513  \n",
       "11   9.625770     20.16  12.283934  2.256666     -717.801504  \n",
       "14  10.828991     20.16  14.377977  2.449386     -759.854209  \n",
       "17  12.032212     20.16  16.512724  2.620264     -801.930894  \n",
       "20  13.235433     20.16  18.680743  2.772390     -844.021700  "
      ]
     },
     "execution_count": 41,
     "metadata": {},
     "output_type": "execute_result"
    }
   ],
   "source": [
    "qc_map = pd.read_csv(QC_MAPS_FILE,sep='\\t')\n",
    "B_max_op_point = 1.20\n",
    "qc_map_B = filter_table_from_column(qc_map,\"Hmax[T]\",B_max_op_point)\n",
    "qc_map_B"
   ]
  },
  {
   "cell_type": "code",
   "execution_count": 45,
   "metadata": {
    "collapsed": false
   },
   "outputs": [
    {
     "name": "stdout",
     "output_type": "stream",
     "text": [
      "Operating point for the magnet:\n",
      "B_max = 1.20 T\n",
      "H_reg = 19 mm\n",
      "***\n",
      "Performance:\n",
      "Q_c = 119.4 W\n",
      "COP = 2.5\n",
      "Second-law efficienct: 32.8 %\n"
     ]
    }
   ],
   "source": [
    "H_reg_op_point = 19\n",
    "\n",
    "fQc = interp1d(qc_map_B_1200[\"H[mm]\"].values,qc_map_B_1200[\"Qc[W]\"])\n",
    "Qc_op_point = fQc(H_reg_op_point)\n",
    "\n",
    "fCOP = interp1d(qc_map_B_1200[\"H[mm]\"].values,qc_map_B_1200[\"COP[-]\"])\n",
    "COP_op_point = fCOP(H_reg_op_point)\n",
    "\n",
    "T_H = FIXED_PARAMETERS_AMR[\"T_H[K]\"]\n",
    "T_C = T_H - FIXED_PARAMETERS_AMR[\"dT[K]\"]\n",
    "\n",
    "COP_Carnot_op_point = T_C / (T_H - T_C)\n",
    "\n",
    "eta_2nd = COP_op_point / COP_Carnot_op_point\n",
    "\n",
    "print(\"Operating point for the magnet:\")\n",
    "print(\"B_max = %.2f T\" %(B_max_op_point))\n",
    "print(\"H_reg = %d mm\" %(H_reg_op_point))\n",
    "print(\"***\")\n",
    "print(\"Performance:\")\n",
    "print(\"Q_c = %.1f W\" %(Qc_op_point))\n",
    "print(\"COP = %.1f\" %(COP_op_point))\n",
    "print(\"Second-law efficienct: %.1f %%\" % (1e2*eta_2nd))\n",
    "\n"
   ]
  },
  {
   "cell_type": "markdown",
   "metadata": {},
   "source": [
    "### The case for smaller iron cores"
   ]
  },
  {
   "cell_type": "markdown",
   "metadata": {},
   "source": [
    "In the case of iron cores (with no magnet in the inner cylinder), we can investigate smaller cylinder to reduce cost, weight and footprint.\n",
    "\n",
    "We assume as constant 8 regenerators, as the development of the hydraulic circuit for this configuration has begun. The question is how these beds will fill out smaller gaps for some widths.\n"
   ]
  },
  {
   "cell_type": "code",
   "execution_count": 102,
   "metadata": {
    "collapsed": false
   },
   "outputs": [
    {
     "data": {
      "image/png": "[encoded data removed]",
      "text/plain": [
       "<matplotlib.figure.Figure at 0x282e132e748>"
      ]
     },
     "metadata": {},
     "output_type": "display_data"
    }
   ],
   "source": [
    "h_gap_mean = 20e-3\n",
    "N_r = FIXED_PARAMETERS_AMR[\"N_r[]\"] \n",
    "\n",
    "W_values = 1e-3*np.array([25,30])\n",
    "R_o_iron_core_values = 1e-3*np.linspace(25,40)\n",
    "\n",
    "fig_gap, ax_gap = nemplot.create_plot(xlabel=\"Inner cylinder external radius [mm]\",\n",
    "                                     ylabel=\"Gap usage for 8 regenerators of given width \\n[\\%]\")\n",
    "\n",
    "for W in W_values:\n",
    "    P_regenerator = N_r * W\n",
    "    gap_usage_iron_core_values = 1e2*P_regenerator / (2*np.pi*(R_o_iron_core_values + h_gap_mean/2))\n",
    "\n",
    "    ax_gap.plot(1e3*R_o_iron_core_values,gap_usage_iron_core_values,label=r'$W = \\SI{' + \"%d\" %(1e3*W,) + \"}{\\mm}$\" )\n",
    "\n",
    "ax_gap.grid(True)\n",
    "ax_gap.legend(loc='best')\n",
    "nemplot.save_figure(fig_gap,\"gap_usage\")"
   ]
  },
  {
   "cell_type": "code",
   "execution_count": null,
   "metadata": {
    "collapsed": true
   },
   "outputs": [],
   "source": []
  }
 ],
 "metadata": {
  "anaconda-cloud": {},
  "kernelspec": {
   "display_name": "Python 3",
   "language": "python",
   "name": "python3"
  },
  "language_info": {
   "codemirror_mode": {
    "name": "ipython",
    "version": 3
   },
   "file_extension": ".py",
   "mimetype": "text/x-python",
   "name": "python",
   "nbconvert_exporter": "python",
   "pygments_lexer": "ipython3",
   "version": "3.6.2"
  }
 },
 "nbformat": 4,
 "nbformat_minor": 1
}
