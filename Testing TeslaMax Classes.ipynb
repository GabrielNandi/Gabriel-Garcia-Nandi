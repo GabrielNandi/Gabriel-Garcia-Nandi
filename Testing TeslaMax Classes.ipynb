{
 "cells": [
  {
   "cell_type": "code",
   "execution_count": 1,
   "metadata": {
    "collapsed": true
   },
   "outputs": [],
   "source": [
    "from pathlib import Path\n",
    "import os\n",
    "import matplotlib\n",
    "import matplotlib.pyplot as plt\n",
    "import numpy as np\n",
    "import teslamax\n",
    "from teslamax import TeslaMaxModel, TeslaMaxGeometry\n",
    "\n",
    "\n",
    "\n",
    "mpl_params = {'text.usetex': True,\n",
    "              'font.family': 'serif',\n",
    "              'font.serif': 'Computer Modern',\n",
    "              'text.latex.preamble': [r'\\usepackage{engsymbols}',\n",
    "                                      r'\\usepackage{magref}',\n",
    "                                      r'\\usepackage{siunitx}']}\n",
    "matplotlib.rcParams.update(mpl_params)\n"
   ]
  },
  {
   "cell_type": "code",
   "execution_count": 2,
   "metadata": {
    "collapsed": false,
    "scrolled": true
   },
   "outputs": [
    {
     "data": {
      "text/plain": [
       "<module 'teslamax' from 'C:\\\\Users\\\\fabiofortkamp\\\\code\\\\TeslaMax\\\\teslamax\\\\__init__.py'>"
      ]
     },
     "execution_count": 2,
     "metadata": {},
     "output_type": "execute_result"
    }
   ],
   "source": [
    "import importlib\n",
    "importlib.reload(teslamax)"
   ]
  },
  {
   "cell_type": "markdown",
   "metadata": {},
   "source": [
    "## Testing completing the parameters"
   ]
  },
  {
   "cell_type": "code",
   "execution_count": 3,
   "metadata": {
    "collapsed": false
   },
   "outputs": [
    {
     "data": {
      "text/plain": [
       "{'R_e': 2,\n",
       " 'R_g': 0.09000000000000001,\n",
       " 'R_i': 0.015,\n",
       " 'R_o': 0.07,\n",
       " 'R_s': 0.14,\n",
       " 'h_fc': 0.01,\n",
       " 'h_gap': 0.02,\n",
       " 'n_II': 3,\n",
       " 'n_IV': 3,\n",
       " 'phi_C_II': 15,\n",
       " 'phi_S_II': 45,\n",
       " 'phi_S_IV': 45}"
      ]
     },
     "execution_count": 3,
     "metadata": {},
     "output_type": "execute_result"
    }
   ],
   "source": [
    "# providing 'R_o' and 'h_gap'\n",
    "\n",
    "params1 = {\"R_i\": 0.015,\n",
    "                \"R_o\": 0.070,\n",
    "                \"h_gap\": 0.020,\n",
    "                \"R_s\": 0.140,\n",
    "                \"h_fc\": 0.010,\n",
    "                \"R_e\": 2,\n",
    "                \"n_IV\": 3,\n",
    "                \"phi_S_IV\": 45,\n",
    "                \"n_II\": 3,\n",
    "                \"phi_C_II\": 15,\n",
    "                \"phi_S_II\": 45,\n",
    "             }\n",
    "\n",
    "tmg1 = TeslaMaxGeometry(params1)\n",
    "tmg1.geometric_parameters"
   ]
  },
  {
   "cell_type": "code",
   "execution_count": 4,
   "metadata": {
    "collapsed": false
   },
   "outputs": [
    {
     "data": {
      "text/plain": [
       "{'R_e': 2,\n",
       " 'R_g': 0.095,\n",
       " 'R_i': 0.015,\n",
       " 'R_o': 0.07,\n",
       " 'R_s': 0.14,\n",
       " 'h_fc': 0.01,\n",
       " 'h_gap': 0.024999999999999994,\n",
       " 'n_II': 3,\n",
       " 'n_IV': 3,\n",
       " 'phi_C_II': 15,\n",
       " 'phi_S_II': 45,\n",
       " 'phi_S_IV': 45}"
      ]
     },
     "execution_count": 4,
     "metadata": {},
     "output_type": "execute_result"
    }
   ],
   "source": [
    "# providing 'R_o' and 'R_g'\n",
    "\n",
    "params2 = {\"R_i\": 0.015,\n",
    "                \"R_o\": 0.070,\n",
    "                \"R_g\": 0.095,\n",
    "                \"R_s\": 0.140,\n",
    "                \"h_fc\": 0.010,\n",
    "                \"R_e\": 2,\n",
    "                \"n_IV\": 3,\n",
    "                \"phi_S_IV\": 45,\n",
    "                \"n_II\": 3,\n",
    "                \"phi_C_II\": 15,\n",
    "                \"phi_S_II\": 45,\n",
    "             }\n",
    "\n",
    "tmg2 = TeslaMaxGeometry(params2)\n",
    "tmg2.geometric_parameters"
   ]
  },
  {
   "cell_type": "code",
   "execution_count": 5,
   "metadata": {
    "collapsed": false
   },
   "outputs": [
    {
     "data": {
      "text/plain": [
       "{'R_e': 2,\n",
       " 'R_g': 0.095,\n",
       " 'R_i': 0.015,\n",
       " 'R_o': 0.085,\n",
       " 'R_s': 0.14,\n",
       " 'h_fc': 0.01,\n",
       " 'h_gap': 0.01,\n",
       " 'n_II': 3,\n",
       " 'n_IV': 3,\n",
       " 'phi_C_II': 15,\n",
       " 'phi_S_II': 45,\n",
       " 'phi_S_IV': 45}"
      ]
     },
     "execution_count": 5,
     "metadata": {},
     "output_type": "execute_result"
    }
   ],
   "source": [
    "# providing 'h_gap' and 'R_g'\n",
    "\n",
    "params3 = {\"R_i\": 0.015,\n",
    "                \"h_gap\": 0.010,\n",
    "                \"R_g\": 0.095,\n",
    "                \"R_s\": 0.140,\n",
    "                \"h_fc\": 0.010,\n",
    "                \"R_e\": 2,\n",
    "                \"n_IV\": 3,\n",
    "                \"phi_S_IV\": 45,\n",
    "                \"n_II\": 3,\n",
    "                \"phi_C_II\": 15,\n",
    "                \"phi_S_II\": 45,\n",
    "             }\n",
    "\n",
    "tmg3 = TeslaMaxGeometry(params3)\n",
    "tmg3.geometric_parameters"
   ]
  },
  {
   "cell_type": "code",
   "execution_count": 6,
   "metadata": {
    "collapsed": false
   },
   "outputs": [
    {
     "data": {
      "text/plain": [
       "{'R_e': 2,\n",
       " 'R_g': 0.09,\n",
       " 'R_i': 0.015,\n",
       " 'R_o': 0.07,\n",
       " 'R_s': 0.14,\n",
       " 'h_fc': 0.01,\n",
       " 'h_gap': 0.02,\n",
       " 'n_II': 3,\n",
       " 'n_IV': 3,\n",
       " 'phi_C_II': 15,\n",
       " 'phi_S_II': 45,\n",
       " 'phi_S_IV': 45}"
      ]
     },
     "execution_count": 6,
     "metadata": {},
     "output_type": "execute_result"
    }
   ],
   "source": [
    "# providing all three parameters\n",
    "\n",
    "params4 = {\"R_i\": 0.015,\n",
    "                \"h_gap\": 0.020,\n",
    "                \"R_g\": 0.090,\n",
    "               \"R_o\": 0.070,\n",
    "                \"R_s\": 0.140,\n",
    "                \"h_fc\": 0.010,\n",
    "                \"R_e\": 2,\n",
    "                \"n_IV\": 3,\n",
    "                \"phi_S_IV\": 45,\n",
    "                \"n_II\": 3,\n",
    "                \"phi_C_II\": 15,\n",
    "                \"phi_S_II\": 45,\n",
    "             }\n",
    "\n",
    "tmg4 = TeslaMaxGeometry(params4)\n",
    "tmg4.geometric_parameters"
   ]
  }
 ],
 "metadata": {
  "kernelspec": {
   "display_name": "Python 3",
   "language": "python",
   "name": "python3"
  },
  "language_info": {
   "codemirror_mode": {
    "name": "ipython",
    "version": 3
   },
   "file_extension": ".py",
   "mimetype": "text/x-python",
   "name": "python",
   "nbconvert_exporter": "python",
   "pygments_lexer": "ipython3",
   "version": "3.6.0"
  }
 },
 "nbformat": 4,
 "nbformat_minor": 2
}
