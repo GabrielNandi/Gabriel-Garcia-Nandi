{
 "cells": [
  {
   "cell_type": "markdown",
   "metadata": {},
   "source": [
    "$$\n",
    "\\newcommand{\\ped}[1]{_{\\mathrm{#1}}}\n",
    "\\newcommand{\\ap}[1]{^{\\mathrm{#1}}}\n",
    "\\newcommand{\\nvector}[1]{\\mathbf{#1}}\n",
    "\\newcommand{\\nmatrix}[1]{\\mathit{#1}}\n",
    "\\newcommand{\\unitvector}[1]{\\hat{\\nvector{e}}_{#1}}\n",
    "\\newcommand{\\volume}{\\mathcal{V}}\n",
    "\\newcommand{\\average}[1]{\\overline{#1}}\n",
    "\\newcommand{\\rate}[1]{\\dot{#1}}\n",
    "\\newcommand{\\flux}[1]{{#1}''}\n",
    "\\newcommand{\\curl}[1]{\\nabla\\times {#1}}\n",
    "\\newcommand{\\curlv}[1]{\\curl{\\nvector{#1}}}\n",
    "\\newcommand{\\divergent}[1]{\\nabla \\cdot #1}\n",
    "\\newcommand{\\divergentv}[1]{\\divergent{\\nvector{#1}}}\n",
    "\\newcommand{\\divergentpar}[1]{\\divergent{\\left( #1 \\right)}}\n",
    "\\newcommand{\\gradient}[1]{\\nabla {#1}}\n",
    "\\newcommand{\\gradientpar}[1]{\\gradient{\\left( {#1} \\right)}}\n",
    "\\newcommand{\\laplacian}[1]{\\nabla^2 #1}\n",
    "\\newcommand{\\laplacianpar}[1]{\\laplacian{\\left( #1 \\right)}}\n",
    "\\newcommand{\\vectornorm}[1]{\\left\\lVert #1 \\right\\rVert}\n",
    "\\newcommand{\\diffp}[2]{\\frac{\\partial {#1}}{\\partial {#2}}}\n",
    "\\newcommand{\\diffps}[2]{\\frac{\\partial^2 {#1}}{\\partial {#2}^2}}\n",
    "\\newcommand{\\rvec}{\\nvector{r}}\n",
    "\\newcommand{\\nvh}{\\nvector{H}}\n",
    "\\newcommand{\\nvb}{\\nvector{B}}\n",
    "\\newcommand{\\nvrem}{\\nvector{B}\\ped{rem}}\n",
    "\\newcommand{\\nvbrem}{\\nvrem}\n",
    "\\newcommand{\\nvm}{\\nvector{M}}\n",
    "\\newcommand{\\mur}{\\mu\\ped{r}}\n",
    "\\newcommand{\\nvbremhat}{\\hat{\\nvector{B}}\\ped{rem}}\n",
    "\\newcommand{\\acoef}[2]{a_{{#1},\\mathrm{#2}}}\n",
    "\\newcommand{\\bcoef}[2]{b_{{#1},\\mathrm{#2}}}\n",
    "\\newcommand{\\Azexpr}[1]{A_{\\mathrm{#1}\\, z}}\n",
    "\\newcommand{\\bremii}{B_{\\mathrm{rem,II}}}\n",
    "\\newcommand{\\bremiv}{B_{\\mathrm{rem,IV}}}\n",
    "\\newcommand{\\aIII}{\\acoef{1}{III}}\n",
    "\\newcommand{\\bIII}{\\bcoef{1}{III}}\n",
    "\\newcommand{\\nvbIII}{\\nvector{B}\\ped{III}}\n",
    "\\newcommand{\\BIII}{B\\ped{III}}\n",
    "\\newcommand{\\diffd}[1]{\\mathrm{d}\\,{#1}}\n",
    "$$"
   ]
  },
  {
   "cell_type": "markdown",
   "metadata": {},
   "source": [
    "# TeslaMax"
   ]
  },
  {
   "cell_type": "markdown",
   "metadata": {},
   "source": [
    "Teslamax model:\n",
    "\n",
    "![Teslamax Model](img/teslamax.png)"
   ]
  },
  {
   "cell_type": "markdown",
   "metadata": {},
   "source": [
    "Tell the location of the TeslaMax Java class file:"
   ]
  },
  {
   "cell_type": "code",
   "execution_count": 1,
   "metadata": {
    "collapsed": false
   },
   "outputs": [],
   "source": [
    "from pathlib import Path\n",
    "import os\n",
    "import subprocess\n",
    "import math\n",
    "from pandas import Series, DataFrame\n",
    "import pandas as pd\n",
    "import numpy as np\n",
    "import numpy.ma as ma\n",
    "import matplotlib\n",
    "matplotlib.use('nbagg')\n",
    "import matplotlib.pyplot as plt\n",
    "from scipy.interpolate import  NearestNDInterpolator, LinearNDInterpolator, CloughTocher2DInterpolator,griddata, interp1d\n",
    "from scipy.integrate import trapz, simps, quad\n",
    "\n",
    "\n",
    "\n",
    "mpl_params = {'text.usetex': True,\n",
    "              'font.family': 'serif',\n",
    "              'font.serif': 'Computer Modern',\n",
    "              'text.latex.preamble': [r'\\usepackage{engsymbols}',\n",
    "                                      r'\\usepackage{magref}',\n",
    "                                      r'\\usepackage{siunitx}']}\n",
    "matplotlib.rcParams.update(mpl_params)\n"
   ]
  },
  {
   "cell_type": "code",
   "execution_count": 2,
   "metadata": {
    "collapsed": true
   },
   "outputs": [],
   "source": [
    "SAVE_FIG_Q = False\n",
    "FIGURES_DIR_NAME = \"figures\"\n",
    "FIG_FILE_PATH = Path('.')\n",
    "\n",
    "FIGSIZE_CM = 20\n",
    "FIGSIZE_INCHES = FIGSIZE_CM/2.54\n",
    "\n",
    "FONTSIZE = 18\n",
    "\n",
    "\n",
    "FIGSIZE_CM_SMALL = 8\n",
    "FIGSIZE_INCHES_SMALL = FIGSIZE_CM_SMALL/2.54\n",
    "FONTSIZE_SMALL = 12\n",
    "\n",
    "MARKERSIZE = 8.0\n",
    "\n",
    "PLOT_EXTENSION = '.png'\n",
    "\n",
    "DPI = 650"
   ]
  },
  {
   "cell_type": "code",
   "execution_count": 4,
   "metadata": {
    "collapsed": false
   },
   "outputs": [
    {
     "name": "stdout",
     "output_type": "stream",
     "text": [
      "C:\\Users\\fabiofortkamp\\code\\teslamax\\java\\TeslaMax.class\n",
      "Does the above file exist: True\n"
     ]
    }
   ],
   "source": [
    "comsol_class_file = Path.home() / 'code' / 'teslamax' / 'java' / 'TeslaMax.class'\n",
    "print(comsol_class_file)\n",
    "print(\"Does the above file exist: %s\" %(str(comsol_class_file.exists())))"
   ]
  },
  {
   "cell_type": "markdown",
   "metadata": {},
   "source": [
    "Command to execute the COMSOL Java class file:"
   ]
  },
  {
   "cell_type": "code",
   "execution_count": 5,
   "metadata": {
    "collapsed": false
   },
   "outputs": [],
   "source": [
    "comsol_cmd = ['comsolbatch', '-inputfile', str(comsol_class_file)]"
   ]
  },
  {
   "cell_type": "markdown",
   "metadata": {},
   "source": [
    "These are some the key files that are processed during the COMSOL simulation:"
   ]
  },
  {
   "cell_type": "code",
   "execution_count": 6,
   "metadata": {
    "collapsed": true
   },
   "outputs": [],
   "source": [
    "B_HIGH_FILENAME = \"B_high.txt\"\n",
    "B_LOW_FILENAME = \"B_low.txt\"\n",
    "\n",
    "H_IV_FILENAME = \"H_IV_1Q.txt\"\n",
    "\n",
    "MAIN_RESULTS_FILENAME = \"COMSOL Main Results.txt\"\n",
    "\n",
    "MAGNETIC_PROFILE_FILENAME = \"COMSOL Magnetic Profile.txt\"\n",
    "\n",
    "COMSOL_PARAMETER_FILENAME = \"params.txt\"\n",
    "\n",
    "TESLAMAX_RESULTS_FILENAME = \"TeslaMax Main Results.txt\"\n",
    "TESLAMAX_RESULTS_RANDOM_FILENAME = \"TeslaMax Main Results (Random).txt\""
   ]
  },
  {
   "cell_type": "markdown",
   "metadata": {},
   "source": [
    "Other constants:"
   ]
  },
  {
   "cell_type": "code",
   "execution_count": 7,
   "metadata": {
    "collapsed": true
   },
   "outputs": [],
   "source": [
    "N_PROFILE_POINTS = 100\n",
    "\n",
    "N_POINTS_PER_AXIS = 400"
   ]
  },
  {
   "cell_type": "markdown",
   "metadata": {},
   "source": [
    "Some auxiliary functions to process the results:"
   ]
  },
  {
   "cell_type": "code",
   "execution_count": 8,
   "metadata": {
    "collapsed": true
   },
   "outputs": [],
   "source": [
    "def get_comsol_parameters_series():\n",
    "    \"\"\"Parse the COMSOL parameters file in the current directory and\n",
    "    return a pandas Series from it.\n",
    "    \n",
    "    \"\"\"\n",
    "    param_comsol_file = Path('.') / COMSOL_PARAMETER_FILENAME\n",
    "\n",
    "    param_comsol_series = pd.read_table(str(param_comsol_file),\n",
    "                                        squeeze=True,\n",
    "                                        sep=\" \",\n",
    "                                        index_col=0,\n",
    "                                        header=None)\n",
    "\n",
    "    param_comsol_series.name = \"COMSOL Parameters\"\n",
    "    param_comsol_series.index.name = None\n",
    "    \n",
    "    # append the units to the parameters names\n",
    "    names_with_units = {}\n",
    "    for name in param_comsol_series.keys():\n",
    "        if name.startswith(\"h_\") or name.startswith(\"R_\"):\n",
    "            names_with_units[name] = name+\"[m]\"\n",
    "        if name.startswith(\"alpha\") or name.startswith(\"phi\") or name.startswith(\"delta_phi\"):\n",
    "            names_with_units[name] = name + \"[deg]\"\n",
    "        if name.startswith(\"B_\"):\n",
    "            names_with_units[name] = name + \"[T]\"\n",
    "        if name.startswith(\"H_c\"):\n",
    "            names_with_units[name] = name + \"[A/m]\"\n",
    "\n",
    "    param_comsol_series = param_comsol_series.rename(names_with_units)\n",
    "    return param_comsol_series"
   ]
  },
  {
   "cell_type": "code",
   "execution_count": 9,
   "metadata": {
    "collapsed": true
   },
   "outputs": [],
   "source": [
    "def read_comsol_data_file(filename):\n",
    "    \"\"\"Read and parse 'filename' as exported by COMSOL.\n",
    "    Export the numerical data as a numpy array containing only the numerical\n",
    "    data; the first two columns are x and y values. All values are in SI.\n",
    "    \n",
    "    Keyword Arguments:\n",
    "    filename -- str\n",
    "    \"\"\"\n",
    "\n",
    "    return np.loadtxt(filename,skiprows=9)"
   ]
  },
  {
   "cell_type": "code",
   "execution_count": 10,
   "metadata": {
    "collapsed": true
   },
   "outputs": [],
   "source": [
    "def process_main_results_file():\n",
    "    \"\"\"Take the file \"COMSOL Main Results.txt\" as exported by COMSOL and\n",
    "    clean the header data.\n",
    "    \n",
    "    \"\"\"\n",
    "    \n",
    "    p = Path('.') / MAIN_RESULTS_FILENAME\n",
    "\n",
    "    param_comsol_series = get_comsol_parameters_series()\n",
    "\n",
    "    results = pd.read_table(MAIN_RESULTS_FILENAME,\n",
    "                            sep=\"\\s+\",\n",
    "                            skiprows=5,\n",
    "                            index_col=None,\n",
    "                            header=None,\n",
    "                            names=[\"B_high[T]\",\n",
    "                                   \"B_low[T]\",\n",
    "                                   \"A_gap[m2]\",\n",
    "                                   \"A_magnet[m2]\",\n",
    "                                   \"-H_Brem_II_max[A/m]\",\n",
    "                                   \"-H_Brem_IV_max[A/m]\"])\n",
    "    \n",
    "    results_series = results.ix[0]\n",
    "       \n",
    "    results_series.to_csv(str(p),\n",
    "                       float_format=\"%.6f\",\n",
    "                       sep=\" \",\n",
    "                       index=True)"
   ]
  },
  {
   "cell_type": "code",
   "execution_count": 11,
   "metadata": {
    "collapsed": true
   },
   "outputs": [],
   "source": [
    "def read_main_results_file():\n",
    "    \"\"\"Return a Series where each row is one of the COMSOL Main results\"\"\"\n",
    "    \n",
    "    results_filepath = Path(MAIN_RESULTS_FILENAME)\n",
    "\n",
    "    results_series = pd.read_table(results_filepath,\n",
    "                              sep=\" \",\n",
    "                              squeeze=True,\n",
    "                              index_col=0,\n",
    "                              header=None)\n",
    "    results_series.index.name=None\n",
    "    results_series.name = \"COMSOL Main Results\"\n",
    "    return results_series"
   ]
  },
  {
   "cell_type": "code",
   "execution_count": 12,
   "metadata": {
    "collapsed": true
   },
   "outputs": [],
   "source": [
    "def calculate_magnitude(components_grid):\n",
    "    \"\"\"\n",
    "    Return an array [x, y, norm(V)] from [x, y, Vx, Vy]\n",
    "    \"\"\"\n",
    "    \n",
    "    x, y, Vx, Vy = components_grid.T\n",
    "    \n",
    "    V = np.sqrt(Vx*Vx + Vy+Vy)\n",
    "    \n",
    "    return np.array((x,y,V)).T"
   ]
  },
  {
   "cell_type": "code",
   "execution_count": 13,
   "metadata": {
    "collapsed": true
   },
   "outputs": [],
   "source": [
    "def calculate_magnetic_profile(B_data, params):\n",
    "    \"\"\"\n",
    "    Return the magnetic profile array [phi, B] based on data for the magnetic flux density [x, y, B]\n",
    "    and a dictionary of parameters\n",
    "    \"\"\"\n",
    "    \n",
    "    n_phi_points = 200\n",
    "    \n",
    "    R_g = params['R_g[m]']\n",
    "    R_o = params['R_o[m]']\n",
    "    \n",
    "    \n",
    "    # create ranges for phi and r\n",
    "    phi_min = 0.0\n",
    "    phi_max = np.pi/2\n",
    "    \n",
    "    phi_vector_1q = np.linspace(phi_min,phi_max,N_PROFILE_POINTS)\n",
    "    \n",
    "    # slightly offset the boundaries to avoid numerical problems at the interfaces\n",
    "    r_min = 1.001*R_o \n",
    "    r_max = 0.999*R_g\n",
    "    n_r_points = 5\n",
    "    \n",
    "    r_vector = np.linspace(r_min,r_max,n_r_points)\n",
    "    \n",
    "    r_grid, phi_grid = np.meshgrid(r_vector,phi_vector_1q)\n",
    "    \n",
    "    # calcualte the points (x,y) distributed along\n",
    "    # radial lines\n",
    "    x_grid = r_grid * np.cos(phi_grid)\n",
    "    y_grid = r_grid * np.sin(phi_grid)\n",
    "    \n",
    "    # create a interpolation function over the 1st quadrant grid\n",
    "    # we use the nearest interpolation to avoid negative values\n",
    "    # when fitting a spline near points where B = 0\n",
    "    \n",
    "    fB = CloughTocher2DInterpolator(B_data[:,0:2],B_data[:,2])\n",
    "\n",
    "    # because both x_grid and y_grid have shape (n_r_points, N_PROFILE_POINTS),\n",
    "    # when we apply the above created function we will get an array with the\n",
    "    # same shape. We then take the average value along each row,\n",
    "    # resuting in an array (N_PROFILE_POINTS)\n",
    "    B_profile_1q = np.mean(fB(x_grid,y_grid),axis=1)\n",
    "\n",
    "    # extrapolate data to the full circle\n",
    "    phi_vector = np.concatenate((phi_vector_1q,\n",
    "                                 phi_vector_1q+np.pi/2,\n",
    "                                 phi_vector_1q+np.pi,\n",
    "                                 phi_vector_1q+(3/2)*np.pi))\n",
    "\n",
    "    B_profile = np.concatenate((B_profile_1q,\n",
    "                                B_profile_1q[::-1],\n",
    "                                B_profile_1q,\n",
    "                                B_profile_1q[::-1]))\n",
    "    \n",
    "    profile_data = np.array((np.rad2deg(phi_vector),B_profile)).T\n",
    "    return profile_data\n",
    "    \n",
    "    "
   ]
  },
  {
   "cell_type": "code",
   "execution_count": 14,
   "metadata": {
    "collapsed": true
   },
   "outputs": [],
   "source": [
    "def write_magnetic_profile_file():\n",
    "    \"\"\"Create a file \"COMSOL Magnetic Profile.txt\" in the current directory,\n",
    "    assuming the teslamax command was already ran, and write the magnetic\n",
    "    profile data (average magnetic induction over radial chords).\n",
    "    \n",
    "    \"\"\"\n",
    "    \n",
    "    p = Path('.') / MAGNETIC_PROFILE_FILENAME\n",
    "    column_names = [\"phi[deg]\",\"B[T]\"]\n",
    "    column_header = \" \".join(column_names)\n",
    "    \n",
    "    # load data from the high and low field regions\n",
    "    B_h = read_comsol_data_file(B_HIGH_FILENAME)\n",
    "    B_l = read_comsol_data_file(B_LOW_FILENAME)\n",
    "    \n",
    "    B_1q = np.concatenate((B_h,B_l),axis=0)\n",
    "    \n",
    "    \n",
    "    case_series = get_comsol_parameters_series()\n",
    "    \n",
    "    profile_data = calculate_magnetic_profile(B_1q, case_series)\n",
    "    \n",
    "    np.savetxt(str(p),\n",
    "               profile_data,\n",
    "               fmt=(\"%.2f\",\"%.5f\"),\n",
    "               delimiter=\" \",\n",
    "               header=column_header,\n",
    "               comments='')\n",
    "    "
   ]
  },
  {
   "cell_type": "code",
   "execution_count": 15,
   "metadata": {
    "collapsed": true
   },
   "outputs": [],
   "source": [
    "def write_magnetic_profile_central_file():\n",
    "    \"\"\"Create a file \"COMSOL Magnetic Profile.txt\" in the current directory,\n",
    "    assuming the teslamax command was already ran, and write the magnetic\n",
    "    profile data (magnetic induction at central radial position).\n",
    "    \n",
    "    \"\"\"\n",
    "    \n",
    "    p = Path('.') / MAGNETIC_PROFILE_FILENAME\n",
    "    column_names = [\"phi[deg]\",\"B[T]\"]\n",
    "    column_header = \" \".join(column_names)\n",
    "    \n",
    "    # load data from the high and low field regions\n",
    "    B_h = read_comsol_data_file(B_HIGH_FILENAME)\n",
    "    B_l = read_comsol_data_file(B_LOW_FILENAME)\n",
    "    \n",
    "    B_1q = np.concatenate((B_h,B_l),axis=0)\n",
    "    \n",
    "    # calcualte vector of angles for the first quadrant\n",
    "    case_series = get_comsol_parameters_series()\n",
    "    \n",
    "    n_phi_points = 100\n",
    "    \n",
    "    R_g = case_series['R_g[m]']\n",
    "    R_o = case_series['R_o[m]']\n",
    "    \n",
    "    \n",
    "    # create ranges for phi and r\n",
    "    phi_min = 0.0\n",
    "    phi_max = np.pi/2\n",
    "    \n",
    "    phi_vector_1q = np.linspace(phi_min,phi_max,N_PROFILE_POINTS)\n",
    "    \n",
    "    r_min = R_o \n",
    "    r_max = R_g\n",
    "    \n",
    "    r_central = .5*(R_o + R_g)\n",
    "\n",
    "    \n",
    "    # calcualte the points (x,y) distributed along\n",
    "    # radial lines\n",
    "    x_grid = r_central * np.cos(phi_vector_1q)\n",
    "    y_grid = r_central * np.sin(phi_vector_1q)\n",
    "\n",
    "    B_profile_1q = griddata(B_1q[:,0:2],B_1q[:,2],np.array([x_grid,y_grid]).T)\n",
    "\n",
    "    # extrapolate data to the full circle\n",
    "    phi_vector = np.concatenate((phi_vector_1q,\n",
    "                                 phi_vector_1q+np.pi/2,\n",
    "                                 phi_vector_1q+np.pi,\n",
    "                                 phi_vector_1q+(3/2)*np.pi))\n",
    "\n",
    "    B_profile = np.concatenate((B_profile_1q,\n",
    "                                B_profile_1q[::-1],\n",
    "                                B_profile_1q,\n",
    "                                B_profile_1q[::-1]))\n",
    "\n",
    "    profile_data = np.array((np.rad2deg(phi_vector),B_profile)).T\n",
    "    \n",
    "    np.savetxt(str(p),\n",
    "               profile_data,\n",
    "               fmt=(\"%.2f\",\"%.5f\"),\n",
    "               delimiter=\" \",\n",
    "               header=column_header,\n",
    "               comments='')\n",
    "    "
   ]
  },
  {
   "cell_type": "code",
   "execution_count": 16,
   "metadata": {
    "collapsed": false
   },
   "outputs": [],
   "source": [
    "def run_teslamax(verbose=False):\n",
    "    \"\"\"Run the teslamax process in the current directory, clean the results file \n",
    "    and create a magnetic profile file.\n",
    "    \n",
    "    Assumes the parameters file is present in the current directory.\"\"\"\n",
    "    comsol_process = subprocess.run(comsol_cmd,shell=True,stdout=subprocess.PIPE,stderr=subprocess.STDOUT,universal_newlines=True)\n",
    "    if verbose: print(comsol_process.stdout)\n",
    "    process_main_results_file()\n",
    "    write_magnetic_profile_file()\n",
    "    #write_magnetic_profile_central_file()"
   ]
  },
  {
   "cell_type": "code",
   "execution_count": 17,
   "metadata": {
    "collapsed": true
   },
   "outputs": [],
   "source": [
    "def remove_units_from_dict_keys(dictionary):\n",
    "    \"\"\"Remove a string '[<anything>]' from every key of 'dictionary'\"\"\"\n",
    "    \n",
    "    new_dictionary = {}\n",
    "    \n",
    "    for key in dictionary.keys():\n",
    "        new_key = key.split('[')[0]\n",
    "        new_dictionary[new_key] = dictionary[key]\n",
    "        \n",
    "    return new_dictionary"
   ]
  },
  {
   "cell_type": "code",
   "execution_count": 18,
   "metadata": {
    "collapsed": false
   },
   "outputs": [],
   "source": [
    "def write_parameter_file_from_dict(param_dict):\n",
    "    \"\"\"From a basic 'param_dict', calculate the necessary other parameters \n",
    "    (e.g. magnet segment size from total size and number of segments) and write \n",
    "    the correct parameters file.\n",
    "    \n",
    "    If 'param_dict' contains units in the names, they are removed.\n",
    "    \"\"\"\n",
    "    \n",
    "    param_dict = remove_units_from_dict_keys(param_dict)\n",
    "    \n",
    "    # cast the number of segments to int, if necessary\n",
    "    param_dict[\"n_IV\"] = int(param_dict[\"n_IV\"])\n",
    "    \n",
    "    # remove some keys that are not necessary (and which may cause errors)\n",
    "    try:\n",
    "        del param_dict[\"-H_Brem_IV_max\"]\n",
    "    except:\n",
    "        pass\n",
    "    \n",
    "    # calculate magnet geometry\n",
    "    param_dict[\"R_g\"] = param_dict[\"R_o\"] + param_dict[\"h_gap\"]\n",
    "    param_dict[\"R_c\"] = param_dict[\"R_s\"] + param_dict[\"h_fc\"]\n",
    "    if param_dict[\"n_II\"] > 0:\n",
    "        param_dict[\"delta_phi_S_II\"] = (param_dict[\"phi_S_II\"] - param_dict[\"phi_C_II\"]) / param_dict[\"n_II\"]\n",
    "    if param_dict[\"n_IV\"] > 0:\n",
    "        param_dict[\"delta_phi_S_IV\"] = param_dict[\"phi_S_IV\"] / param_dict[\"n_IV\"]\n",
    "    \n",
    "    # write the dictionary file in the appropriate format that COMSOL can format\n",
    "    parameters_file_path = Path(\".\") / COMSOL_PARAMETER_FILENAME\n",
    "    \n",
    "    param_text = \"\"\n",
    "    \n",
    "    for (key, value) in param_dict.items():\n",
    "        param_text = param_text + \"%s %s\\n\" %(key,value)\n",
    "    \n",
    "    parameters_file_path.write_text(param_text)"
   ]
  },
  {
   "cell_type": "code",
   "execution_count": 19,
   "metadata": {
    "collapsed": true
   },
   "outputs": [],
   "source": [
    "def run_teslamax_from_params(params,verbose=False):\n",
    "    \"\"\"Write the 'params' dictionary in the apropriate format to the current directory\n",
    "    (removing units if necessary) and run the teslamax process\"\"\"\n",
    "    write_parameter_file_from_dict(params)\n",
    "    run_teslamax(verbose)"
   ]
  },
  {
   "cell_type": "code",
   "execution_count": 20,
   "metadata": {
    "collapsed": true
   },
   "outputs": [],
   "source": [
    "def save_and_close_figure(fig,name):\n",
    "    \"\"\"\n",
    "    Save the 'fig' Figure object as 'name' (with extension PLOT_EXTENSION), inside FIG_FILE_PATH,\n",
    "    and close the figure\"\"\"\n",
    "    \n",
    "    \n",
    "    file_path = str(FIG_FILE_PATH / (name + PLOT_EXTENSION))\n",
    "    fig.savefig(file_path,dpi=DPI,bbox_inches='tight')\n",
    "    plt.close(fig)"
   ]
  },
  {
   "cell_type": "markdown",
   "metadata": {},
   "source": [
    "A prototype class to help organize all the data:"
   ]
  },
  {
   "cell_type": "code",
   "execution_count": 21,
   "metadata": {
    "collapsed": false
   },
   "outputs": [],
   "source": [
    "class TeslaMaxModel():\n",
    "    \"\"\"\n",
    "    Class representing the TeslaMax model.\n",
    "    \n",
    "    To create an instance of the class, provide a dictionary with all parameters\n",
    "    and a path where to store the generated text files:\n",
    "    \n",
    "    >>> tmm = TeslaMaxModel({\"R_o\": 15e-3, \"B_rem_II\": 1.4, ...}.\n",
    "                            \"teslamax-results\")\n",
    "    \n",
    "    \"\"\"\n",
    "    \n",
    "    def __init__(self,params,path):\n",
    "        self.params = params\n",
    "        \n",
    "        self.path = Path(path)\n",
    "        self.path.mkdir(exist_ok=True)\n",
    "        \n",
    "        self.profile_data = np.empty(2)\n",
    "        \n",
    "                \n",
    "    def run(self,verbose=False):\n",
    "        \"\"\"\n",
    "        Change the current directory temporarily to the object's path\n",
    "        and run the TeslaMax program in it.\n",
    "        \n",
    "        Also populates the appropriate fields with results from TeslaMax\n",
    "        \"\"\"\n",
    "        \n",
    "        cwd = os.getcwd()\n",
    "        os.chdir(str(self.path))\n",
    "        run_teslamax_from_params(self.params,verbose)\n",
    "        os.chdir(cwd)\n",
    "        \n",
    "        self.profile_data = self.get_profile_data()\n",
    "        self.fB_profile = interp1d(self.profile_data[:,0],self.profile_data[:,1],kind='linear')\n",
    "        \n",
    "    def get_profile_data(self):\n",
    "        \"\"\"\n",
    "        Return an array of the magnetic profile data, where the first column\n",
    "        is the angle in degrees [0,360] and the second is the average magnetic\n",
    "        flux density in tesla\n",
    "        \"\"\"\n",
    "        \n",
    "        profile_file_path = self.path / MAGNETIC_PROFILE_FILENAME\n",
    "        profile_data = np.loadtxt(str(profile_file_path),\n",
    "                         skiprows=1)\n",
    "        \n",
    "        return profile_data\n",
    "    \n",
    "    def calculate_B_profile(self,theta):\n",
    "        \"\"\"\n",
    "        Return average magnetic flux density at angular position 'theta' (as an array with the same length).\n",
    "        \"\"\"\n",
    "        \n",
    "        return self.fB_profile(theta)\n",
    "    \n",
    "    def calculate_average_high_field(self):\n",
    "        \"\"\"\n",
    "        Return the average magnetic profile through the high field region\n",
    "        \"\"\"\n",
    "        \n",
    "        # in the present model, the high field region (equivalent to the cold blow in an AMR device) goes from -45° to +45°,\n",
    "        # and from 135° to 225°\n",
    "        \n",
    "        theta_min = 135.0\n",
    "        theta_max = 225.0\n",
    "        \n",
    "        theta_vector = self.profile_data[:,0]\n",
    "        B_profile_vector = self.profile_data[:,1]\n",
    "        \n",
    "        # select the values only where theta_vector falls within the high field region\n",
    "        # this will return an array with True only at those positions\n",
    "        region_filter = np.logical_and(theta_vector > theta_min, theta_vector < theta_max)\n",
    "        \n",
    "        \n",
    "        # now select the region of the magnetic profile that satisfy this condition\n",
    "        theta_high_field = theta_vector[region_filter]\n",
    "        B_profile_high_field = B_profile_vector[region_filter]\n",
    "        \n",
    "        # return the integral of these samples, divided by the range\n",
    "        B_integrated = trapz(B_profile_high_field,theta_high_field)\n",
    "        theta_range = theta_max - theta_min\n",
    "        \n",
    "        B_high_avg = B_integrated/theta_range\n",
    "        \n",
    "        return B_high_avg\n",
    "        \n",
    "        \n",
    "    \n",
    "    \n",
    "        \n",
    "        \n",
    "        \n",
    "    "
   ]
  },
  {
   "cell_type": "markdown",
   "metadata": {},
   "source": [
    "## Playground"
   ]
  },
  {
   "cell_type": "code",
   "execution_count": 22,
   "metadata": {
    "collapsed": false
   },
   "outputs": [],
   "source": [
    "teslamax_playground = Path(\"teslamax-play\")\n",
    "teslamax_playground.mkdir(exist_ok=True)\n",
    "os.chdir(str(teslamax_playground))"
   ]
  },
  {
   "cell_type": "code",
   "execution_count": 23,
   "metadata": {
    "collapsed": false
   },
   "outputs": [
    {
     "data": {
      "text/plain": [
       "'C:\\\\Users\\\\fabiofortkamp\\\\code\\\\TeslaMax\\\\teslamax-play'"
      ]
     },
     "execution_count": 23,
     "metadata": {},
     "output_type": "execute_result"
    }
   ],
   "source": [
    "os.getcwd()"
   ]
  },
  {
   "cell_type": "markdown",
   "metadata": {},
   "source": [
    "### Magnetic Profile"
   ]
  },
  {
   "cell_type": "code",
   "execution_count": 24,
   "metadata": {
    "collapsed": false
   },
   "outputs": [],
   "source": [
    "param_dict = {\"R_i\": 0.015,\n",
    "                \"R_o\": 0.070,\n",
    "                \"h_gap\": 0.020,\n",
    "                \"R_s\": 0.140,\n",
    "                \"h_fc\": 0.010,\n",
    "                \"R_e\": 2,\n",
    "                \"n_IV\": 3,\n",
    "                \"alpha_rem_IV_1\": 15,\n",
    "                \"alpha_rem_IV_2\": 45,\n",
    "                \"alpha_rem_IV_3\": 135,\n",
    "                \"phi_S_IV\": 45,\n",
    "                \"n_II\": 3,\n",
    "                \"alpha_rem_II_1\": 15,\n",
    "                \"alpha_rem_II_2\": 30,\n",
    "                \"alpha_rem_II_3\": 45,\n",
    "                \"phi_C_II\": 15,\n",
    "                \"phi_S_II\": 45,\n",
    "                \"B_rem_II\": 1.4,\n",
    "                \"mu_r_II\": 1.05,\n",
    "                \"B_rem_IV\": 1.4,\n",
    "                \"mu_r_IV\": 1.05,\n",
    "              \"linear_iron\": 1,\n",
    "              \"mu_r_iron\": 5e3,\n",
    "             }\n",
    "\n",
    "write_parameter_file_from_dict(param_dict)"
   ]
  },
  {
   "cell_type": "code",
   "execution_count": 25,
   "metadata": {
    "collapsed": false,
    "scrolled": true
   },
   "outputs": [
    {
     "name": "stdout",
     "output_type": "stream",
     "text": [
      "*******************************************\n",
      "***COMSOL 5.2.1.229 progress output file***\n",
      "*******************************************\n",
      "Thu Feb 02 09:39:44 BRST 2017\n",
      "COMSOL 5.2a (Build: 229) starting in batch mode\n",
      "Running: C:\\Users\\fabiofortkamp\\code\\teslamax\\java\\TeslaMax.class\n",
      "           Current Progress:   0 % - Circle 1\n",
      "Memory: 370/370 585/585\n",
      "           Current Progress:   8 % - Circle 2\n",
      "Memory: 402/402 617/619\n",
      "-          Current Progress:  17 % - Difference 1\n",
      "Memory: 400/402 618/619\n",
      "---------  Current Progress:  93 % - Resolving domains\n",
      "Memory: 404/404 619/619\n",
      "           Current Progress:   0 % - Circle 1\n",
      "Memory: 408/408 620/620\n",
      "           Current Progress:   8 % - Circle 2\n",
      "-          Current Progress:  17 % - Difference 1\n",
      "---------  Current Progress:  93 % - Resolving domains\n",
      "           Current Progress:   0 % - Cylinder Block - Iron II Wedge 1Q\n",
      "Memory: 448/448 629/630\n",
      "           Current Progress:   0 % - Circle 1\n",
      "Memory: 456/456 634/634\n",
      "           Current Progress:   0 % - Circle 2\n",
      "           Current Progress:   1 % - Difference 1\n",
      "           Current Progress:   4 % - Resolving domains\n",
      "Memory: 457/457 634/634\n",
      "           Current Progress:   4 % - Cylinder Block - Iron II Wedge 2Q\n",
      "Memory: 457/458 634/635\n",
      "           Current Progress:   4 % - Circle 1\n",
      "Memory: 461/461 634/635\n",
      "           Current Progress:   5 % - Circle 2\n",
      "           Current Progress:   5 % - Difference 1\n",
      "           Current Progress:   8 % - Resolving domains\n",
      "           Current Progress:   9 % - Cylinder Block 1 - Magnet II - 1Q\n",
      "Memory: 463/463 635/635\n",
      "           Current Progress:   9 % - Circle 1\n",
      "Memory: 467/468 635/636\n",
      "           Current Progress:   9 % - Circle 2\n",
      "           Current Progress:   9 % - Difference 1\n",
      "-          Current Progress:  13 % - Resolving domains\n",
      "-          Current Progress:  13 % - Cylinder Block 1 - Magnet II - 2Q\n",
      "-          Current Progress:  13 % - Circle 1\n",
      "Memory: 473/473 637/637\n",
      "-          Current Progress:  13 % - Circle 2\n",
      "-          Current Progress:  14 % - Difference 1\n",
      "-          Current Progress:  17 % - Resolving domains\n",
      "-          Current Progress:  17 % - Cylinder Block 2 - Magnet II - 1Q\n",
      "-          Current Progress:  17 % - Circle 1\n",
      "Memory: 474/475 633/637\n",
      "-          Current Progress:  18 % - Circle 2\n",
      "-          Current Progress:  18 % - Difference 1\n",
      "--         Current Progress:  22 % - Resolving domains\n",
      "Memory: 476/476 637/637\n",
      "--         Current Progress:  22 % - Cylinder Block 2 - Magnet II - 2Q\n",
      "Memory: 478/478 637/637\n",
      "--         Current Progress:  22 % - Circle 1\n",
      "Memory: 483/483 638/638\n",
      "--         Current Progress:  22 % - Circle 2\n",
      "--         Current Progress:  23 % - Difference 1\n",
      "--         Current Progress:  26 % - Resolving domains\n",
      "--         Current Progress:  26 % - Cylinder Block 3 - Magnet II - 1Q\n",
      "--         Current Progress:  26 % - Circle 1\n",
      "Memory: 487/487 638/638\n",
      "--         Current Progress:  27 % - Circle 2\n",
      "--         Current Progress:  27 % - Difference 1\n",
      "---        Current Progress:  30 % - Resolving domains\n",
      "---        Current Progress:  31 % - Cylinder Block 3 - Magnet II - 2Q\n",
      "Memory: 488/488 638/638\n",
      "---        Current Progress:  31 % - Circle 1\n",
      "Memory: 513/513 638/638\n",
      "---        Current Progress:  31 % - Circle 2\n",
      "---        Current Progress:  31 % - Difference 1\n",
      "---        Current Progress:  35 % - Resolving domains\n",
      "---        Current Progress:  35 % - Cylinder Block - Iron II\n",
      "---        Current Progress:  35 % - Circle 1\n",
      "Memory: 507/513 632/638\n",
      "---        Current Progress:  35 % - Circle 2\n",
      "---        Current Progress:  36 % - Difference 1\n",
      "---        Current Progress:  39 % - Resolving domains\n",
      "---        Current Progress:  39 % - Cylinder Block 1 - Magnet IV - 1Q\n",
      "Memory: 499/513 624/638\n",
      "---        Current Progress:  39 % - Circle 1\n",
      "Memory: 501/513 626/638\n",
      "----       Current Progress:  40 % - Circle 2\n",
      "----       Current Progress:  40 % - Difference 1\n",
      "----       Current Progress:  43 % - Resolving domains\n",
      "Memory: 501/513 627/638\n",
      "----       Current Progress:  44 % - Cylinder Block 1 - Magnet IV - 2Q\n",
      "Memory: 502/513 627/638\n",
      "----       Current Progress:  44 % - Circle 1\n",
      "Memory: 502/513 628/638\n",
      "----       Current Progress:  44 % - Circle 2\n",
      "----       Current Progress:  44 % - Difference 1\n",
      "----       Current Progress:  48 % - Resolving domains\n",
      "Memory: 503/513 628/638\n",
      "----       Current Progress:  48 % - Cylinder Block 2 - Magnet IV - 1Q\n",
      "----       Current Progress:  48 % - Circle 1\n",
      "Memory: 497/513 623/638\n",
      "----       Current Progress:  48 % - Circle 2\n",
      "----       Current Progress:  49 % - Difference 1\n",
      "-----      Current Progress:  52 % - Resolving domains\n",
      "-----      Current Progress:  52 % - Cylinder Block 2 - Magnet IV - 2Q\n",
      "Memory: 498/513 623/638\n",
      "-----      Current Progress:  52 % - Circle 1\n",
      "-----      Current Progress:  53 % - Circle 2\n",
      "-----      Current Progress:  53 % - Difference 1\n",
      "-----      Current Progress:  56 % - Resolving domains\n",
      "-----      Current Progress:  57 % - Cylinder Block 3 - Magnet IV - 1Q\n",
      "Memory: 499/513 624/638\n",
      "-----      Current Progress:  57 % - Circle 1\n",
      "Memory: 500/513 625/638\n",
      "-----      Current Progress:  57 % - Circle 2\n",
      "-----      Current Progress:  57 % - Difference 1\n",
      "------     Current Progress:  61 % - Resolving domains\n",
      "Memory: 501/513 626/638\n",
      "------     Current Progress:  61 % - Cylinder Block 3 - Magnet IV - 2Q\n",
      "Memory: 503/513 630/638\n",
      "------     Current Progress:  61 % - Circle 1\n",
      "Memory: 505/513 630/638\n",
      "------     Current Progress:  61 % - Circle 2\n",
      "------     Current Progress:  62 % - Difference 1\n",
      "------     Current Progress:  65 % - Resolving domains\n",
      "------     Current Progress:  65 % - Cylinder Block - Iron IV\n",
      "------     Current Progress:  65 % - Circle 1\n",
      "Memory: 506/513 631/638\n",
      "------     Current Progress:  66 % - Circle 2\n",
      "Memory: 507/513 632/638\n",
      "------     Current Progress:  66 % - Difference 1\n",
      "Memory: 508/513 633/638\n",
      "-------    Current Progress:  70 % - Resolving domains\n",
      "-------    Current Progress:  70 % - Air Gap Cylinder Block High Field  1Q\n",
      "-------    Current Progress:  70 % - Circle 1\n",
      "Memory: 509/513 634/638\n",
      "-------    Current Progress:  70 % - Circle 2\n",
      "-------    Current Progress:  71 % - Difference 1\n",
      "-------    Current Progress:  74 % - Resolving domains\n",
      "-------    Current Progress:  74 % - Air Gap Cylinder Block Low Field  1Q\n",
      "-------    Current Progress:  74 % - Circle 1\n",
      "Memory: 508/513 633/638\n",
      "-------    Current Progress:  75 % - Circle 2\n",
      "-------    Current Progress:  75 % - Difference 1\n",
      "-------    Current Progress:  78 % - Resolving domains\n",
      "-------    Current Progress:  79 % - Air Gap Cylinder Block High Field  2Q\n",
      "-------    Current Progress:  79 % - Circle 1\n",
      "Memory: 495/513 620/638\n",
      "-------    Current Progress:  79 % - Circle 2\n",
      "-------    Current Progress:  79 % - Difference 1\n",
      "--------   Current Progress:  83 % - Resolving domains\n",
      "--------   Current Progress:  83 % - Air Gap Cylinder Block Low Field  2Q\n",
      "Memory: 496/513 621/638\n",
      "--------   Current Progress:  83 % - Circle 1\n",
      "Memory: 498/513 624/638\n",
      "--------   Current Progress:  83 % - Circle 2\n",
      "--------   Current Progress:  84 % - Difference 1\n",
      "--------   Current Progress:  87 % - Resolving domains\n",
      "Memory: 501/513 626/638\n",
      "--------   Current Progress:  87 % - Flux Concentrator Shell\n",
      "Memory: 500/513 625/638\n",
      "--------   Current Progress:  87 % - Circle 1\n",
      "Memory: 500/513 626/638\n",
      "--------   Current Progress:  88 % - Circle 2\n",
      "--------   Current Progress:  88 % - Difference 1\n",
      "Memory: 501/513 626/638\n",
      "---------  Current Progress:  91 % - Resolving domains\n",
      "Memory: 502/513 628/638\n",
      "---------  Current Progress:  92 % - Environment Cylinder Shell\n",
      "Memory: 501/513 627/638\n",
      "---------  Current Progress:  92 % - Circle 1\n",
      "Memory: 504/513 629/638\n",
      "---------  Current Progress:  92 % - Circle 2\n",
      "---------  Current Progress:  92 % - Difference 1\n",
      "---------  Current Progress:  96 % - Resolving domains\n",
      "---------  Current Progress:  96 % - Form Union\n",
      "---------  Current Progress:  99 % - Resolving domains\n",
      "Memory: 506/513 631/638\n",
      "---------- Current Progress: 100 % - Creating rendering mesh\n",
      "Memory: 495/529 648/654\n",
      "           Current Progress:   0 % - Free Triangular 1\n",
      "Memory: 592/595 701/709\n",
      "Number of vertex elements: 44\n",
      "Number of boundary elements: 967\n",
      "---        Current Progress:  35 % - Improving element quality\n",
      "Memory: 600/600 709/709\n",
      "Number of elements: 8673\n",
      "Minimum element quality: 0.7396\n",
      "-----      Current Progress:  59 % - Improving element quality\n",
      "Memory: 602/604 711/712\n",
      "-----      Current Progress:  59 % - Mapped 1\n",
      "Number of vertex elements: 47\n",
      "Number of boundary elements: 1157\n",
      "Number of elements: 9573\n",
      "Minimum element quality: 0.01933\n",
      "---------- Current Progress: 100 % - Creating mapped mesh\n",
      "Memory: 605/605 712/712\n",
      "Geometry shape order: Quadratic\n",
      "           Current Progress:   5 % - Compiling equations\n",
      "Memory: 640/649 762/762\n",
      "           Current Progress:   5 % - Dependent Variables 1\n",
      "Memory: 669/671 771/774\n",
      "Stationary Solver 1 in Study 1/Solution 1 (sol1) started at 2-fev-2017 09:40:04.\n",
      "Linear solver\n",
      "Number of degrees of freedom solved for: 21240.\n",
      "Symmetric matrices found.\n",
      "Format not changed since Incomplete LU uses nonsymmetric storage.\n",
      "Scales for dependent variables:\n",
      "Magnetic scalar potential (nhalbach_system.Vm): 1\n",
      "Orthonormal null-space function used.\n",
      "Iter      SolEst     Damping    Stepsize #Res #Jac #Sol LinIt   LinErr   LinRes\n",
      "-------    Current Progress:  77 % - Solving linear system\n",
      "Memory: 701/703 801/804\n",
      "---------  Current Progress:  93 % - Solving linear system\n",
      "Memory: 702/707 802/807\n",
      "---------  Current Progress:  94 % - Solving linear system\n",
      "Memory: 698/707 798/807\n",
      "---------  Current Progress:  95 % - Solving linear system\n",
      "---------  Current Progress:  96 % - Solving linear system\n",
      "Memory: 661/707 762/807\n",
      "---------  Current Progress:  97 % - Solving linear system\n",
      "Memory: 662/707 770/807\n",
      "---------  Current Progress:  98 % - Solving linear system\n",
      "---------  Current Progress:  99 % - Solving linear system\n",
      "---------- Current Progress: 100 % - Solving linear system\n",
      "   1        0.66   1.0000000        0.66    1    1    1  4292    0.001 9.2e-007\n",
      "---------- Current Progress: 100 % - Updating plots\n",
      "Memory: 654/707 762/807\n",
      "Stationary Solver 1 in Study 1/Solution 1 (sol1): Solution time: 11 s\n",
      "                                                  Physical memory: 702 MB\n",
      "                                                  Virtual memory: 802 MB\n",
      "-----      Current Progress:  55 % - Evaluating\n",
      "Memory: 673/707 762/807\n",
      "-          Current Progress:  10 % - Evaluating\n",
      "Memory: 675/707 763/807\n",
      "-----      Current Progress:  55 % - Evaluating\n",
      "Class run time: 32 s.\n",
      "Saving model: C:\\Users\\fabiofortkamp\\code\\teslamax\\java\\TeslaMax_Model.mph\n",
      "Save time: 0 s.\n",
      "Total time: 32 s.\n",
      "---------- Current Progress: 100 % - Done\n",
      "Memory: 684/707 772/807\n",
      "\n"
     ]
    }
   ],
   "source": [
    "run_teslamax(verbose=True)"
   ]
  },
  {
   "cell_type": "code",
   "execution_count": 26,
   "metadata": {
    "collapsed": false
   },
   "outputs": [],
   "source": [
    "profile_file_path = Path(MAGNETIC_PROFILE_FILENAME)\n",
    "profile_data = np.loadtxt(str(profile_file_path),\n",
    "                         skiprows=1)"
   ]
  },
  {
   "cell_type": "code",
   "execution_count": 27,
   "metadata": {
    "collapsed": true
   },
   "outputs": [],
   "source": [
    "phi_vector = profile_data[:,0]\n",
    "B_vector = profile_data[:,1]"
   ]
  },
  {
   "cell_type": "code",
   "execution_count": 28,
   "metadata": {
    "collapsed": false
   },
   "outputs": [
    {
     "data": {
      "text/plain": [
       "<matplotlib.text.Text at 0x1ab0e3a6f60>"
      ]
     },
     "execution_count": 28,
     "metadata": {},
     "output_type": "execute_result"
    },
    {
     "data": {
      "image/png": "[encoded data removed]",
      "text/plain": [
       "<matplotlib.figure.Figure at 0x1ab0c75e4a8>"
      ]
     },
     "metadata": {},
     "output_type": "display_data"
    }
   ],
   "source": [
    "%matplotlib inline\n",
    "plt.rc('font',size=FONTSIZE)\n",
    "\n",
    "profile_fig = plt.figure(figsize=(FIGSIZE_INCHES,FIGSIZE_INCHES))\n",
    "profile_axes = profile_fig.add_subplot(111)\n",
    "\n",
    "profile_axes.plot(phi_vector,B_vector)\n",
    "profile_axes.set_xlim(0,np.max(phi_vector))\n",
    "profile_axes.set_xticks(np.linspace(0,np.max(phi_vector),9))\n",
    "profile_axes.xaxis.grid(True)\n",
    "profile_axes.set_xlabel(r'$\\phi [\\si{\\degree}]$')\n",
    "profile_axes.set_ylabel(r'$B [\\si{\\tesla}]$')\n"
   ]
  },
  {
   "cell_type": "markdown",
   "metadata": {},
   "source": [
    "### Magnet profile - comparison between linear and non-linear iron regions"
   ]
  },
  {
   "cell_type": "code",
   "execution_count": null,
   "metadata": {
    "collapsed": false
   },
   "outputs": [],
   "source": [
    "param_dict_linear_5000 = {\"R_i\": 0.015,\n",
    "                \"R_o\": 0.070,\n",
    "                \"h_gap\": 0.020,\n",
    "                \"R_s\": 0.140,\n",
    "                \"h_fc\": 0.010,\n",
    "                \"R_e\": 2,\n",
    "                \"n_IV\": 3,\n",
    "                \"alpha_rem_IV_1\": 15,\n",
    "                \"alpha_rem_IV_2\": 45,\n",
    "                \"alpha_rem_IV_3\": 135,\n",
    "                \"phi_S_IV\": 45,\n",
    "                \"n_II\": 3,\n",
    "                \"alpha_rem_II_1\": 15,\n",
    "                \"alpha_rem_II_2\": 30,\n",
    "                \"alpha_rem_II_3\": 45,\n",
    "                \"phi_C_II\": 15,\n",
    "                \"phi_S_II\": 45,\n",
    "                \"B_rem_II\": 1.4,\n",
    "                \"mu_r_II\": 1.05,\n",
    "                \"B_rem_IV\": 1.4,\n",
    "                \"mu_r_IV\": 1.05,\n",
    "              \"linear_iron\": 1,\n",
    "              \"mu_r_iron\": 5e3,\n",
    "             }\n",
    "\n",
    "param_dict_non_linear = param_dict_linear_5000.copy()\n",
    "param_dict_non_linear[\"linear_iron\"] = 0\n",
    "\n",
    "param_dict_linear_1000 = param_dict_linear_5000.copy()\n",
    "param_dict_linear_1000[\"mu_r_iron\"] = 1e3\n",
    "\n"
   ]
  },
  {
   "cell_type": "code",
   "execution_count": null,
   "metadata": {
    "collapsed": false
   },
   "outputs": [],
   "source": [
    "run_teslamax_from_params(param_dict_linear_5000,verbose=True)\n",
    "profile_file_path = Path(MAGNETIC_PROFILE_FILENAME)\n",
    "profile_data_linear_5000 = np.loadtxt(str(profile_file_path),\n",
    "                         skiprows=1)"
   ]
  },
  {
   "cell_type": "code",
   "execution_count": null,
   "metadata": {
    "collapsed": false
   },
   "outputs": [],
   "source": [
    "run_teslamax_from_params(param_dict_linear_1000,verbose=True)\n",
    "\n",
    "profile_data_linear_1000 = np.loadtxt(str(profile_file_path),\n",
    "                         skiprows=1)"
   ]
  },
  {
   "cell_type": "code",
   "execution_count": null,
   "metadata": {
    "collapsed": false
   },
   "outputs": [],
   "source": [
    "run_teslamax_from_params(param_dict_non_linear,verbose=True)\n",
    "\n",
    "profile_data_non_linear = np.loadtxt(str(profile_file_path),\n",
    "                         skiprows=1)"
   ]
  },
  {
   "cell_type": "code",
   "execution_count": null,
   "metadata": {
    "collapsed": true
   },
   "outputs": [],
   "source": [
    "phi_vector_linear_1000 = profile_data_linear_1000[:,0]\n",
    "B_vector_linear_1000 = profile_data_linear_1000[:,1]\n",
    "\n",
    "phi_vector_linear_5000 = profile_data_linear_5000[:,0]\n",
    "B_vector_linear_5000 = profile_data_linear_5000[:,1]\n",
    "\n",
    "phi_vector_non_linear = profile_data_non_linear[:,0]\n",
    "B_vector_non_linear = profile_data_non_linear[:,1]"
   ]
  },
  {
   "cell_type": "code",
   "execution_count": null,
   "metadata": {
    "collapsed": false
   },
   "outputs": [],
   "source": [
    "%matplotlib inline\n",
    "plt.rc('font',size=FONTSIZE)\n",
    "\n",
    "profile_fig = plt.figure(figsize=(FIGSIZE_INCHES,FIGSIZE_INCHES))\n",
    "profile_axes = profile_fig.add_subplot(111)\n",
    "\n",
    "profile_axes.plot(phi_vector_linear_5000,B_vector_linear_5000,label=\"Linear 5000\")\n",
    "profile_axes.plot(phi_vector_linear_1000,B_vector_linear_1000,label=\"Linear 1000\")\n",
    "profile_axes.plot(phi_vector_non_linear,B_vector_non_linear,label=\"Non-linear\")\n",
    "\n",
    "profile_axes.set_xlim(0,np.max(phi_vector))\n",
    "profile_axes.set_xticks(np.linspace(0,np.max(phi_vector),9))\n",
    "profile_axes.xaxis.grid(True)\n",
    "profile_axes.set_xlabel(r'$\\phi [\\si{\\degree}]$')\n",
    "profile_axes.set_ylabel(r'$B [\\si{\\tesla}]$')\n",
    "profile_axes.legend(loc='best')\n"
   ]
  },
  {
   "cell_type": "markdown",
   "metadata": {},
   "source": [
    "### Magnet profile - comparison"
   ]
  },
  {
   "cell_type": "code",
   "execution_count": null,
   "metadata": {
    "collapsed": false
   },
   "outputs": [],
   "source": [
    "param_dict_magnet = {\"R_i\": 0.015,\n",
    "                \"R_o\": 0.070,\n",
    "                \"h_gap\": 0.020,\n",
    "                \"R_s\": 0.140,\n",
    "                \"h_fc\": 0.020,\n",
    "                \"R_e\": 2,\n",
    "                \"n_IV\": 3,\n",
    "                \"alpha_rem_IV_1\": 15,\n",
    "                \"alpha_rem_IV_2\": 45,\n",
    "                \"alpha_rem_IV_3\": 75,\n",
    "                \"phi_S_IV\": 45,\n",
    "                \"n_II\": 2,\n",
    "                \"alpha_rem_II_1\": -45,\n",
    "                \"alpha_rem_II_2\": -45,\n",
    "                \"phi_C_II\": 15,\n",
    "                \"phi_S_II\": 45,\n",
    "                \"B_rem_II\": 1.4,\n",
    "                \"mu_r_II\": 1.05,\n",
    "                \"B_rem_IV\": 1.4,\n",
    "                \"mu_r_IV\": 1.05,              \n",
    "             }\n",
    "\n",
    "param_dict_iron = param_dict_magnet.copy()\n",
    "param_dict_iron[\"n_II\"] = 0\n",
    "param_dict_iron[\"phi_C_II\"] = 0\n",
    "param_dict_iron[\"phi_S_II\"] = 0\n",
    "\n"
   ]
  },
  {
   "cell_type": "code",
   "execution_count": null,
   "metadata": {
    "collapsed": false
   },
   "outputs": [],
   "source": [
    "run_teslamax_from_params(param_dict_magnet,verbose=True)"
   ]
  },
  {
   "cell_type": "code",
   "execution_count": null,
   "metadata": {
    "collapsed": false
   },
   "outputs": [],
   "source": [
    "profile_file_path = Path(MAGNETIC_PROFILE_FILENAME)\n",
    "profile_data_magnet = np.loadtxt(str(profile_file_path),\n",
    "                         skiprows=1)"
   ]
  },
  {
   "cell_type": "code",
   "execution_count": null,
   "metadata": {
    "collapsed": false
   },
   "outputs": [],
   "source": [
    "run_teslamax_from_params(param_dict_iron,verbose=True)\n",
    "profile_data_iron = np.loadtxt(str(profile_file_path),\n",
    "                         skiprows=1)"
   ]
  },
  {
   "cell_type": "code",
   "execution_count": null,
   "metadata": {
    "collapsed": true
   },
   "outputs": [],
   "source": [
    "phi_vector_magnet = profile_data_magnet[:,0]\n",
    "B_vector_magnet = profile_data_magnet[:,1]\n",
    "\n",
    "phi_vector_iron = profile_data_iron[:,0]\n",
    "B_vector_iron = profile_data_iron[:,1]"
   ]
  },
  {
   "cell_type": "code",
   "execution_count": null,
   "metadata": {
    "collapsed": false
   },
   "outputs": [],
   "source": [
    "%matplotlib inline\n",
    "plt.rc('font',size=FONTSIZE)\n",
    "\n",
    "profile_fig = plt.figure(figsize=(FIGSIZE_INCHES,FIGSIZE_INCHES))\n",
    "profile_axes = profile_fig.add_subplot(111)\n",
    "\n",
    "profile_axes.plot(phi_vector_magnet,B_vector_magnet,label=\"Magnet\")\n",
    "profile_axes.plot(phi_vector_iron,B_vector_iron,label=\"Iron\")\n",
    "profile_axes.set_xlim(0,np.max(phi_vector))\n",
    "profile_axes.set_xticks(np.linspace(0,np.max(phi_vector),9))\n",
    "profile_axes.xaxis.grid(True)\n",
    "profile_axes.set_xlabel(r'$\\phi [\\si{\\degree}]$')\n",
    "profile_axes.set_ylabel(r'$B [\\si{\\tesla}]$')\n",
    "profile_axes.legend(loc='best')\n"
   ]
  },
  {
   "cell_type": "markdown",
   "metadata": {},
   "source": [
    "### Influence of the external radius"
   ]
  },
  {
   "cell_type": "markdown",
   "metadata": {},
   "source": [
    "In this code block, we run simulations for some values of $R\\ped{o}$, $h\\ped{gap}$ and $R\\ped{s}$. The innermost radius is fixed as $R\\ped{i} = 15 \\mathrm{mm}$. The material properties are fixed. \n",
    "\n",
    "We consider two cases:\n",
    "\n"
   ]
  },
  {
   "cell_type": "markdown",
   "metadata": {},
   "source": [
    "### Case 1: remanence from the analytical solution"
   ]
  },
  {
   "cell_type": "code",
   "execution_count": null,
   "metadata": {
    "collapsed": false
   },
   "outputs": [],
   "source": [
    "R_i = 15e-3\n",
    "\n",
    "R_o_values = np.array([40e-3,50e-3,60e-3])\n",
    "\n",
    "h_gap_values = np.array([20e-3,30e-3])\n",
    "\n",
    "params_base = {\"R_i\": R_i,\n",
    "                \"h_fc\": 0.020,\n",
    "                \"R_e\": 2,\n",
    "                \"n_IV\": 3,\n",
    "                \"phi_S_IV\": 45,\n",
    "                \"B_rem_IV\": 1.4,\n",
    "                \"mu_r_IV\": 1.05,\n",
    "               \"n_II\": 0, #iron core\n",
    "               \"phi_C_II\": 0,\n",
    "               \"phi_S_II\": 0,\n",
    "               \"linear_iron\": 1,\n",
    "               \"mu_r_iron\": 1e3,\n",
    "              }\n",
    "\n",
    "n_R_s_points = 10\n",
    "\n",
    "R_s_min = 100e-3\n",
    "R_s_max = 150e-3\n",
    "R_s_vector = np.linspace(R_s_min,R_s_max,n_R_s_points)\n",
    "\n",
    "i_sim = 0 #simulation index\n",
    "teslamax_table = DataFrame()\n",
    "for R_o in R_o_values:\n",
    "    \n",
    "    params_base[\"R_o\"] = R_o\n",
    "\n",
    "    for h_gap in h_gap_values:\n",
    "        \n",
    "        params_base[\"h_gap\"] = h_gap\n",
    "        \n",
    "        B_h_vector = np.empty(n_R_s_points)\n",
    "        B_l_vector = np.empty(n_R_s_points)\n",
    "        \n",
    "        i_R_s = 0 #innermost index to build the plot\n",
    "        for R_s in R_s_vector:\n",
    "            \n",
    "            params_base[\"R_s\"] = R_s\n",
    "            \n",
    "            # as a reference, we use the analytical model to determine\n",
    "            # the direction of remanence\n",
    "            \n",
    "            # for the outer magnet, it can be shown that, if a point is at an\n",
    "            # angular position \\phi from the horizontal, then the remanence\n",
    "            # is oriented with an angle 2\\phi\n",
    "            for k in range(0,params_base[\"n_IV\"]):\n",
    "                phi_segment_IV = (1.0/2 + k) * params_base[\"phi_S_IV\"]/params_base[\"n_IV\"]\n",
    "                params_base[\"alpha_rem_IV_%d\" %(k+1)] = 2*phi_segment_IV\n",
    "            \n",
    "            write_parameter_file_from_dict(params_base)\n",
    "                        \n",
    "            run_teslamax()\n",
    "            \n",
    "            results = read_main_results_file()\n",
    "            \n",
    "            B_high = results[\"B_high[T]\"]\n",
    "            B_h_vector[i_R_s] = B_high\n",
    "            \n",
    "            B_low = results[\"B_low[T]\"]\n",
    "            B_l_vector[i_R_s] = B_low\n",
    "            \n",
    "            parameters = get_comsol_parameters_series()\n",
    "            \n",
    "            simulation_row = DataFrame(pd.concat([parameters,results]).to_dict(),index=[i_sim,])\n",
    "            simulation_row.index.name = \"Case\"\n",
    "            simulation_row[\"n_IV\"] = simulation_row[\"n_IV\"].astype('int64')\n",
    "            i_sim = i_sim + 1\n",
    "            \n",
    "            teslamax_table = pd.concat([teslamax_table,simulation_row])\n",
    "            teslamax_table.to_csv(TESLAMAX_RESULTS_FILENAME,sep=' ')\n",
    "            \n",
    "            i_R_s = i_R_s+1"
   ]
  },
  {
   "cell_type": "markdown",
   "metadata": {},
   "source": [
    "## Case 2: random direction of remanence"
   ]
  },
  {
   "cell_type": "code",
   "execution_count": null,
   "metadata": {
    "collapsed": false
   },
   "outputs": [],
   "source": [
    "360*np.random.random()"
   ]
  },
  {
   "cell_type": "code",
   "execution_count": null,
   "metadata": {
    "collapsed": false
   },
   "outputs": [],
   "source": [
    "R_i = 15e-3\n",
    "\n",
    "R_o_values = np.array([70e-3,80e-3,90e-3])\n",
    "\n",
    "h_gap_values = np.array([15e-3,25e-3,35e-3])\n",
    "\n",
    "params_base = {\"R_i\": R_i,\n",
    "                \"h_fc\": 0.020,\n",
    "                \"R_e\": 2,\n",
    "                \"n_II\": 3,\n",
    "                \"n_IV\": 3,\n",
    "                \"phi_S_II\": 45,\n",
    "                \"phi_S_IV\": 45,\n",
    "                \"B_rem_II\": 1.47, #Bakker N52\n",
    "                \"mu_r_II\": 1.05,\n",
    "                \"H_c_II\": 850e3,\n",
    "                \"B_rem_IV\": 1.47,\n",
    "                \"mu_r_IV\": 1.05,\n",
    "                \"H_c_IV\": 850e3,\n",
    "              }\n",
    "\n",
    "n_R_s_points = 10\n",
    "\n",
    "R_s_min = 140e-3\n",
    "R_s_max = 200e-3\n",
    "R_s_vector = np.linspace(R_s_min,R_s_max,n_R_s_points)\n",
    "\n",
    "i_sim = 0 #simulation index\n",
    "teslamax_table_random = DataFrame()\n",
    "for R_o in R_o_values:\n",
    "    \n",
    "    params_base[\"R_o\"] = R_o\n",
    "\n",
    "    for h_gap in h_gap_values:\n",
    "        \n",
    "        params_base[\"h_gap\"] = h_gap\n",
    "        \n",
    "        B_h_vector = np.empty(n_R_s_points)\n",
    "        B_l_vector = np.empty(n_R_s_points)\n",
    "        \n",
    "        i_R_s = 0 #innermost index to build the plot\n",
    "        for R_s in R_s_vector:\n",
    "            \n",
    "            params_base[\"R_s\"] = R_s\n",
    "            \n",
    "            # in this analysis, we set a random direction of remanence\n",
    "            \n",
    "            # for the inner magnet, the remanence is always horizontal\n",
    "            for j in range(0,params_base[\"n_II\"]):\n",
    "                params_base[\"alpha_rem_II_%d\" %(j+1)] = 360*np.random.random()\n",
    "\n",
    "            for k in range(0,params_base[\"n_IV\"]):\n",
    "\n",
    "                params_base[\"alpha_rem_IV_%d\" %(k+1)] = 360*np.random.random()\n",
    "            \n",
    "            write_parameter_file_from_dict(params_base)\n",
    "                        \n",
    "            run_teslamax()\n",
    "            \n",
    "            results = read_main_results_file()\n",
    "            \n",
    "            B_high = results[\"B_high[T]\"]\n",
    "            B_h_vector[i_R_s] = B_high\n",
    "            \n",
    "            B_low = results[\"B_low[T]\"]\n",
    "            B_l_vector[i_R_s] = B_low\n",
    "            \n",
    "            parameters = get_comsol_parameters_series()\n",
    "            \n",
    "            simulation_row = DataFrame(pd.concat([parameters,results]).to_dict(),index=[i_sim,])\n",
    "            simulation_row.index.name = \"Case\"\n",
    "            simulation_row[\"n_II\"] = simulation_row[\"n_II\"].astype('int64')\n",
    "            simulation_row[\"n_IV\"] = simulation_row[\"n_IV\"].astype('int64')\n",
    "            i_sim = i_sim + 1\n",
    "            \n",
    "            teslamax_table_random = pd.concat([teslamax_table_random,simulation_row])\n",
    "            teslamax_table_random.to_csv(TESLAMAX_RESULTS_RANDOM_FILENAME,sep=' ')\n",
    "            \n",
    "            i_R_s = i_R_s+1"
   ]
  },
  {
   "cell_type": "markdown",
   "metadata": {},
   "source": [
    "### Process the results"
   ]
  },
  {
   "cell_type": "markdown",
   "metadata": {},
   "source": [
    "If desired, load the table from a file, instead of (re-)running the above code block:"
   ]
  },
  {
   "cell_type": "code",
   "execution_count": null,
   "metadata": {
    "collapsed": false
   },
   "outputs": [],
   "source": [
    "teslamax_table = pd.read_table(TESLAMAX_RESULTS_FILENAME,sep=\" \",index_col=0)\n",
    "#teslamax_table_random = pd.read_table(TESLAMAX_RESULTS_RANDOM_FILENAME,sep=\" \",index_col=0)"
   ]
  },
  {
   "cell_type": "code",
   "execution_count": null,
   "metadata": {
    "collapsed": false
   },
   "outputs": [],
   "source": [
    "teslamax_table"
   ]
  },
  {
   "cell_type": "markdown",
   "metadata": {},
   "source": [
    "Our first filter is to select only values where the low magnetic value is smaller than a \"critical value\" of $0.1 \\mathrm{T}$."
   ]
  },
  {
   "cell_type": "code",
   "execution_count": null,
   "metadata": {
    "collapsed": false
   },
   "outputs": [],
   "source": [
    "teslamax_table_valid = teslamax_table[teslamax_table[\"B_low[T]\"] < 0.1]\n",
    "teslamax_table_valid"
   ]
  },
  {
   "cell_type": "markdown",
   "metadata": {},
   "source": [
    "We will create one figure for each value of $R\\ped{o}$, with one curve for each value of $h\\ped{gap}$; the axes will represent $R\\ped{s}$ and $B\\ped{h}$."
   ]
  },
  {
   "cell_type": "code",
   "execution_count": null,
   "metadata": {
    "collapsed": false
   },
   "outputs": [],
   "source": [
    "%matplotlib inline\n",
    "\n",
    "plt.rc('font',size=FONTSIZE)\n",
    "\n",
    "R_o_values = teslamax_table_valid[\"R_o[m]\"].unique()\n",
    "\n",
    "markers = [\"ko\",\"ks\",\"kv\"]\n",
    "\n",
    "h_gap_values = teslamax_table_valid[\"h_gap[m]\"].unique()\n",
    "\n",
    "for R_o in R_o_values:\n",
    "\n",
    "    table_R_o = teslamax_table_valid[teslamax_table_valid[\"R_o[m]\"] == R_o]\n",
    "\n",
    "    R_o_figure = plt.figure(figsize=(FIGSIZE_INCHES,FIGSIZE_INCHES))\n",
    "    \n",
    "    R_o_axes = R_o_figure.add_subplot(111)\n",
    "\n",
    "    title_text = r\"$R\\ped{o} = \\SI{\" + \"%.0f\" %(1e3*R_o,) + r\"}{\\milli\\meter}$\"\n",
    "    R_o_axes.set_title(title_text)\n",
    "\n",
    "    R_o_axes.set_xlabel(r\"$R\\ped{s} [\\si{\\milli\\meter}]$\")\n",
    "    R_o_axes.set_ylabel(r\"$B\\ped{h} [\\si{\\tesla}]$\")\n",
    "    R_o_axes.set_xlim((1e3*(R_s_min-10e-3),1e3*(R_s_max+10e-3)))\n",
    "\n",
    "    i_h = 0\n",
    "    for h_gap in h_gap_values:\n",
    "\n",
    "        table_h_gap = table_R_o[table_R_o[\"h_gap[m]\"] == h_gap]\n",
    "\n",
    "        R_s_values = 1e3*table_h_gap[\"R_s[m]\"]\n",
    "        B_h_values = table_h_gap[\"B_high[T]\"]\n",
    "\n",
    "        legend_text = r\"$h\\ped{gap} = \\SI{\" + \"%.0f\" %(1e3*h_gap) + \"}{\\milli\\meter}$\"\n",
    "\n",
    "        R_o_axes.plot(R_s_values,\n",
    "                      B_h_values,\n",
    "                      markers[i_h],\n",
    "                      label=legend_text,\n",
    "                     markersize=MARKERSIZE)\n",
    "        i_h = i_h + 1\n",
    "\n",
    "    R_o_axes.legend(loc=\"upper left\",fontsize=FONTSIZE_SMALL)\n",
    "    \n",
    "    fig_path = \"Bh_Ro_%.0f\" %(1e3*R_o) + PLOT_EXTENSION\n",
    "    R_o_figure.savefig(fig_path,dpi=DPI,bbox_inches='tight')\n",
    "    \n"
   ]
  },
  {
   "cell_type": "markdown",
   "metadata": {},
   "source": [
    "### Analyzing one particular case"
   ]
  },
  {
   "cell_type": "markdown",
   "metadata": {},
   "source": [
    "It seems that, for all cases, at least one of the magnets is demagnetized. Surprinsigly, the problem seems to be on magnet IV:"
   ]
  },
  {
   "cell_type": "code",
   "execution_count": null,
   "metadata": {
    "collapsed": false,
    "scrolled": true
   },
   "outputs": [],
   "source": [
    "teslamax_table[\"-H_Brem_II_max[A/m]\"] <= 1000e3"
   ]
  },
  {
   "cell_type": "code",
   "execution_count": null,
   "metadata": {
    "collapsed": false
   },
   "outputs": [],
   "source": [
    "teslamax_table[\"-H_Brem_IV_max[A/m]\"] <= 1000e3"
   ]
  },
  {
   "cell_type": "markdown",
   "metadata": {},
   "source": [
    "To investigate even further, we plot the relevant fields for magnet IV, for a case of this table:"
   ]
  },
  {
   "cell_type": "code",
   "execution_count": null,
   "metadata": {
    "collapsed": false
   },
   "outputs": [],
   "source": [
    "table_case = teslamax_table.iloc[0]\n",
    "table_case"
   ]
  },
  {
   "cell_type": "code",
   "execution_count": null,
   "metadata": {
    "collapsed": false
   },
   "outputs": [],
   "source": [
    "run_teslamax_from_params(table_case,verbose=True)"
   ]
  },
  {
   "cell_type": "code",
   "execution_count": null,
   "metadata": {
    "collapsed": true
   },
   "outputs": [],
   "source": [
    "def normalize_vector(v):\n",
    "    \"\"\"\n",
    "    Return the normalized (dimensionless) form of vector (or list of vectors) v\"\"\"\n",
    "    \n",
    "    # v could be a single vector or a list of vectors, so we handle different cases\n",
    "    if v.ndim == 1:\n",
    "        return v/np.linalg.norm(v)\n",
    "    else:\n",
    "        v_norm = np.linalg.norm(v,axis=1)\n",
    "        v_norm_inv = np.reciprocal(v_norm).reshape(len(v),1)\n",
    "        return np.multiply(v,v_norm_inv)"
   ]
  },
  {
   "cell_type": "code",
   "execution_count": null,
   "metadata": {
    "collapsed": false
   },
   "outputs": [],
   "source": [
    "magnet_II_data = read_comsol_data_file(H_II_FILENAME)\n",
    "x_II, y_II, B_II_x, B_II_y, H_II_x, H_II_y, B_rem_II_x, B_rem_II_y = magnet_II_data.T\n",
    "\n",
    "H_II = np.array([H_II_x,H_II_y]).T\n",
    "B_II = np.array([B_II_x,B_II_y]).T\n",
    "B_rem_II = np.array([B_rem_II_x,B_rem_II_y]).T\n",
    "B_rem_hat_II = normalize_vector(B_rem_II)\n",
    "B_rem_hat_II_x, B_rem_hat_II_y = B_rem_hat_II.T\n",
    "\n",
    "# already using the sign notation for the quadrants\n",
    "Psi_II = -(H_II_x * B_rem_hat_II_x + H_II_y * B_rem_hat_II_y) * (B_II_x * B_rem_hat_II_x + B_II_y * B_rem_hat_II_y)\n",
    "\n",
    "magnet_IV_data = read_comsol_data_file(H_IV_FILENAME)\n",
    "x_IV, y_IV, B_IV_x, B_IV_y, H_IV_x, H_IV_y, B_rem_IV_x, B_rem_IV_y = magnet_IV_data.T\n",
    "\n",
    "H_IV = np.array([H_IV_x,H_IV_y]).T\n",
    "B_IV = np.array([B_IV_x,B_IV_y]).T\n",
    "B_rem_IV = np.array([B_rem_IV_x,B_rem_IV_y]).T\n",
    "B_rem_hat_IV = normalize_vector(B_rem_IV)\n",
    "B_rem_hat_IV_x, B_rem_hat_IV_y = B_rem_hat_IV.T\n",
    "\n",
    "Psi_IV = -(H_IV_x * B_rem_hat_IV_x + H_IV_y * B_rem_hat_IV_y) * (B_IV_x * B_rem_hat_IV_x + B_IV_y * B_rem_hat_IV_y)\n"
   ]
  },
  {
   "cell_type": "code",
   "execution_count": null,
   "metadata": {
    "collapsed": true
   },
   "outputs": [],
   "source": [
    "def create_quater_circle_figure_template(r_lim,params):\n",
    "    \"\"\"\n",
    "    Return (fig,axes) correspondent to a figure of the first quadrant, limited by r_lim. \n",
    "    Both magnets are also drawn.\n",
    "    \n",
    "    The size of the figure is controlled by FIGSIZE_INCHES\"\"\"\n",
    "    \n",
    "    fig = plt.figure(figsize=(FIGSIZE_INCHES,FIGSIZE_INCHES))\n",
    "    axes = fig.add_subplot(111,aspect='equal')\n",
    "    \n",
    "    axes.set_ylim(0,1e3*r_lim)\n",
    "    axes.set_xlim(0,1e3*r_lim)\n",
    "\n",
    "    axes.set_ylabel(r'$r\\ [\\si{\\mm}$]')\n",
    "    axes.set_xlabel(r'$r\\ [\\si{\\mm}$]')\n",
    "    \n",
    "    R_o = params['R_o[m]']\n",
    "    R_i = params['R_i[m]']\n",
    "    R_s = params['R_s[m]']\n",
    "    R_g = params['R_g[m]']\n",
    "    \n",
    "    magnet_II_outer=plt.Circle((0,0),1e3*R_o,color='k',fill=False)\n",
    "    magnet_II_inner=plt.Circle((0,0),1e3*R_i,color='k',fill=False)\n",
    "    axes.add_artist(magnet_II_outer)\n",
    "    axes.add_artist(magnet_II_inner)\n",
    "\n",
    "    magnet_IV_outer=plt.Circle((0,0),1e3*R_s,color='k',fill=False)\n",
    "    magnet_IV_inner=plt.Circle((0,0),1e3*R_g,color='k',fill=False)\n",
    "    axes.add_artist(magnet_IV_outer)\n",
    "    axes.add_artist(magnet_IV_inner)\n",
    "    \n",
    "    return fig, axes"
   ]
  },
  {
   "cell_type": "code",
   "execution_count": null,
   "metadata": {
    "collapsed": true
   },
   "outputs": [],
   "source": [
    "def generate_sector_mesh_points(R1,R2,phi1,phi2):\n",
    "    \"\"\"\n",
    "    Return a list of points [X,Y] uniformily distributed in a circle between radii R1 and R2\n",
    "    and angular positions phi1 and phi2\n",
    "    \n",
    "    The number of points is controlled by N_POINTS_PER_AXIS.\n",
    "    \"\"\"\n",
    "    \n",
    "    phi_min = phi1\n",
    "    phi_max = phi2\n",
    "    \n",
    "    phi_vector = np.linspace(phi_min,phi_max,N_POINTS_PER_AXIS)\n",
    "    \n",
    "    r_vector = np.linspace(R1,R2,N_POINTS_PER_AXIS)\n",
    "    \n",
    "    phi_grid, r_grid = np.meshgrid(phi_vector,r_vector)\n",
    "    \n",
    "    X_vector = (r_grid*np.cos(phi_grid)).flatten()\n",
    "    Y_vector = (r_grid*np.sin(phi_grid)).flatten()\n",
    "    \n",
    "    return np.array([X_vector,Y_vector]).T\n",
    "\n",
    "\n",
    "    "
   ]
  },
  {
   "cell_type": "code",
   "execution_count": null,
   "metadata": {
    "collapsed": true
   },
   "outputs": [],
   "source": [
    "from matplotlib.patches import Wedge"
   ]
  },
  {
   "cell_type": "code",
   "execution_count": null,
   "metadata": {
    "collapsed": true
   },
   "outputs": [],
   "source": [
    "def create_magnet_IV_figure_template(params):\n",
    "    \"\"\"\n",
    "    Return (fig,axes) correspondent to a figure of the first quadrant of magnet IV. \n",
    "    \n",
    "    \n",
    "    The size of the figure is controlled by FIGSIZE_INCHES\"\"\"\n",
    "    \n",
    "    fig = plt.figure(figsize=(FIGSIZE_INCHES,FIGSIZE_INCHES))\n",
    "    axes = fig.add_subplot(111,aspect='equal')\n",
    "    \n",
    "    R_o = params['R_o[m]']\n",
    "    R_i = params['R_i[m]']\n",
    "    R_s = params['R_s[m]']\n",
    "    R_g = params['R_g[m]']\n",
    "    R_c = params['R_c[m]']\n",
    "    r_lim = R_c\n",
    "    \n",
    "    axes.set_ylim(0,1e3*r_lim)\n",
    "    axes.set_xlim(0,1e3*r_lim)\n",
    "\n",
    "    axes.set_ylabel(r'$r\\ [\\si{\\mm}$]')\n",
    "    axes.set_xlabel(r'$r\\ [\\si{\\mm}$]')\n",
    "    \n",
    "    width_IV = R_s - R_g\n",
    "    n_IV = int(params['n_IV'])\n",
    "    delta_phi_S_IV = params['delta_phi_S_IV[deg]']\n",
    "    for i in range(0,n_IV):\n",
    "        theta_0 = i*delta_phi_S_IV\n",
    "        theta_1 = (i+1)*delta_phi_S_IV\n",
    "        magnet_segment = Wedge((0,0),1e3*R_s,theta_0,theta_1,1e3*width_IV,color='k',fill=False)\n",
    "        axes.add_artist(magnet_segment)\n",
    "        \n",
    "    return fig, axes\n",
    "\n",
    "def create_magnets_figure_template(params):\n",
    "    \"\"\"\n",
    "    Return (fig,axes) correspondent to a figure of the first quadrant of both magnets. \n",
    "    \n",
    "    \n",
    "    The size of the figure is controlled by FIGSIZE_INCHES\"\"\"\n",
    "    \n",
    "    fig = plt.figure(figsize=(FIGSIZE_INCHES,FIGSIZE_INCHES))\n",
    "    axes = fig.add_subplot(111,aspect='equal')\n",
    "    \n",
    "    R_o = params['R_o[m]']\n",
    "    R_i = params['R_i[m]']\n",
    "    R_s = params['R_s[m]']\n",
    "    R_g = params['R_g[m]']\n",
    "    R_c = params['R_c[m]']\n",
    "    r_lim = R_c\n",
    "    \n",
    "    axes.set_ylim(0,1e3*r_lim)\n",
    "    axes.set_xlim(0,1e3*r_lim)\n",
    "\n",
    "    axes.set_ylabel(r'$r\\ [\\si{\\mm}$]')\n",
    "    axes.set_xlabel(r'$r\\ [\\si{\\mm}$]')\n",
    "    \n",
    "    width_II = R_o - R_i\n",
    "    n_II = int(params['n_II'])\n",
    "    delta_phi_S_II = params['delta_phi_S_II[deg]']\n",
    "    for i in range(0,n_II):\n",
    "        theta_0 = i*delta_phi_S_II\n",
    "        theta_1 = (i+1)*delta_phi_S_II\n",
    "        magnet_segment = Wedge((0,0),1e3*R_o,theta_0,theta_1,1e3*width_II,color='k',fill=False)\n",
    "        axes.add_artist(magnet_segment)\n",
    "        \n",
    "    width_IV = R_s - R_g\n",
    "    n_IV = int(params['n_IV'])\n",
    "    delta_phi_S_IV = params['delta_phi_S_IV[deg]']\n",
    "    for j in range(0,n_IV):\n",
    "        theta_0 = j*delta_phi_S_IV\n",
    "        theta_1 = (j+1)*delta_phi_S_IV\n",
    "        magnet_segment = Wedge((0,0),1e3*R_s,theta_0,theta_1,1e3*width_IV,color='k',fill=False)\n",
    "        axes.add_artist(magnet_segment)\n",
    "        \n",
    "    return fig, axes"
   ]
  },
  {
   "cell_type": "code",
   "execution_count": null,
   "metadata": {
    "collapsed": true
   },
   "outputs": [],
   "source": [
    "from scipy.constants import mu_0"
   ]
  },
  {
   "cell_type": "code",
   "execution_count": null,
   "metadata": {
    "collapsed": false
   },
   "outputs": [],
   "source": [
    "%matplotlib inline\n",
    "\n",
    "case_series = get_comsol_parameters_series()\n",
    "r_lim = case_series['R_c[m]']\n",
    "Hc_fig, Hc_axes = create_magnet_IV_figure_template(case_series)\n",
    "\n",
    "arrow_scale = 3.0\n",
    "arrow_width = 0.03\n",
    "head_axis_length = 3\n",
    "head_length = 3\n",
    "\n",
    "n_points = 30\n",
    "interval = int(len(x_IV)/n_points)\n",
    "B_rem_IV_vector_field = Hc_axes.quiver(1e3*x_IV[0:-1:interval],\n",
    "                                      1e3*y_IV[0:-1:interval],\n",
    "                                      B_rem_IV_x[0:-1:interval],\n",
    "                                      B_rem_IV_y[0:-1:interval],\n",
    "                                      units='inches',\n",
    "                                      pivot='middle',\n",
    "                                      headlength=head_length,\n",
    "                                      headaxislength=head_axis_length,\n",
    "                                      scale_units='inches',\n",
    "                                      scale=arrow_scale,\n",
    "                                      width=arrow_width)\n",
    "H_scale = arrow_scale\n",
    "\n",
    "\n",
    "H_IV_vector_field = Hc_axes.quiver(1e3*x_IV[0:-1:interval],\n",
    "                                  1e3*y_IV[0:-1:interval],\n",
    "                                  mu_0*H_IV_x[0:-1:interval],\n",
    "                                  mu_0*H_IV_y[0:-1:interval],\n",
    "                                  units='inches',\n",
    "                                  pivot='middle',\n",
    "                                  headlength=head_length,\n",
    "                                  headaxislength=head_axis_length,\n",
    "                                  scale_units='inches',\n",
    "                                  scale=H_scale,\n",
    "                                  width=arrow_width,\n",
    "                                  color='r')\n",
    "if SAVE_FIG_Q: save_and_close_figure(Hc_fig, \"Hc\")"
   ]
  },
  {
   "cell_type": "markdown",
   "metadata": {},
   "source": [
    "Plot the energy density:"
   ]
  },
  {
   "cell_type": "code",
   "execution_count": null,
   "metadata": {
    "collapsed": false,
    "scrolled": true
   },
   "outputs": [],
   "source": [
    "%matplotlib inline\n",
    "\n",
    "plt.rc('font',size=FONTSIZE)\n",
    "\n",
    "R_o = table_case['R_o[m]']\n",
    "R_i = table_case['R_i[m]']\n",
    "R_s = table_case['R_s[m]']\n",
    "R_g = table_case['R_g[m]']\n",
    "\n",
    "\n",
    "r_II_min = 1.001*R_i\n",
    "r_II_max = 0.999*R_o\n",
    "\n",
    "r_IV_min = 1.001*R_g\n",
    "r_IV_max = 0.999*R_s\n",
    "\n",
    "phi_II_min = 0.0\n",
    "phi_II_max = np.deg2rad(table_case['phi_S_II[deg]'])\n",
    "\n",
    "phi_IV_min = 0.0\n",
    "phi_IV_max = np.deg2rad(table_case['phi_S_IV[deg]'])\n",
    "\n",
    "# -----\n",
    "# GRID INITIALIZATION\n",
    "\n",
    "positions_II = generate_sector_mesh_points(r_II_min,r_II_max,phi_II_min,phi_II_max)\n",
    "positions_IV = generate_sector_mesh_points(r_IV_min,r_IV_max,phi_IV_min,phi_IV_max)\n",
    "\n",
    "X_II_vector, Y_II_vector = 1e3*positions_II.T\n",
    "X_IV_vector, Y_IV_vector = 1e3*positions_IV.T\n",
    "\n",
    "points_II_to_evaluate = np.array([X_II_vector,Y_II_vector]).T\n",
    "points_IV_to_evaluate = np.array([X_IV_vector,Y_IV_vector]).T\n",
    "\n",
    "# loading COMSOL data\n",
    "points_II_comsol = 1e3*np.array([x_II,y_II]).T\n",
    "points_IV_comsol = 1e3*np.array([x_IV,y_IV]).T\n",
    "\n",
    "Psi_II_comsol = griddata(points_II_comsol,Psi_II,points_II_to_evaluate,method='cubic')\n",
    "Psi_IV_comsol = griddata(points_IV_comsol,Psi_IV,points_IV_to_evaluate,method='cubic')\n",
    "\n",
    "Psi_II_masked = ma.masked_less(Psi_II_comsol,0.0)\n",
    "Psi_IV_masked = ma.masked_less(Psi_IV_comsol,0.0)\n",
    "\n",
    "cmap = matplotlib.cm.jet\n",
    "cmap.set_bad('w')\n",
    "\n",
    "Psi_concat = np.concatenate((Psi_II_comsol,Psi_IV_comsol))\n",
    "Psi_min = 1e-3*np.min(Psi_concat)\n",
    "Psi_max = 1e-3*np.max(Psi_concat)\n",
    "   \n",
    "\n",
    "# create the axes that represent this domain\n",
    "Psi_fig, Psi_axes = create_magnets_figure_template(table_case)\n",
    "\n",
    "# plot the color plot\n",
    "\n",
    "#pcolormesh deals with 2D arrays, so we reshape our vectors\n",
    "number_of_points_per_axes = int(math.sqrt(len(X_II_vector)))\n",
    "mesh_shape = ( number_of_points_per_axes, number_of_points_per_axes)\n",
    "\n",
    "Psi_II_mesh = Psi_axes.pcolormesh(X_II_vector.reshape(mesh_shape),\n",
    "                                  Y_II_vector.reshape(mesh_shape),\n",
    "                                  1e-3*Psi_II_masked.reshape(mesh_shape),\n",
    "                                  vmin=0,\n",
    "                                  vmax=Psi_max,\n",
    "                                 cmap=cmap)\n",
    "\n",
    "number_of_points_per_axes = int(math.sqrt(len(X_IV_vector)))\n",
    "mesh_shape = ( number_of_points_per_axes, number_of_points_per_axes)\n",
    "\n",
    "Psi_IV_mesh = Psi_axes.pcolormesh(X_IV_vector.reshape(mesh_shape),\n",
    "                                  Y_IV_vector.reshape(mesh_shape),\n",
    "                                  1e-3*Psi_IV_masked.reshape(mesh_shape),\n",
    "                                  vmin=0,\n",
    "                                  vmax=Psi_max,\n",
    "                                 cmap=cmap)\n",
    "\n",
    "#annotate the plot\n",
    "Psi_colorbar = Psi_fig.colorbar(Psi_II_mesh,orientation='horizontal')\n",
    "Psi_colorbar.set_label(r'$\\Psi\\ [\\si{\\kilo\\joule\\per\\meter^3}]$')\n",
    "\n",
    "if SAVE_FIG_Q: save_and_close_figure(Psi_fig, \"Psi\")\n"
   ]
  },
  {
   "cell_type": "markdown",
   "metadata": {
    "collapsed": true
   },
   "source": [
    "## Visualizing the distribution of coercivity"
   ]
  },
  {
   "cell_type": "code",
   "execution_count": null,
   "metadata": {
    "collapsed": false
   },
   "outputs": [],
   "source": [
    "coerc_data = teslamax_table_valid[[\"-H_Brem_II_max[A/m]\",\"-H_Brem_IV_max[A/m]\"]]\n",
    "print(coerc_data)"
   ]
  },
  {
   "cell_type": "code",
   "execution_count": null,
   "metadata": {
    "collapsed": true
   },
   "outputs": [],
   "source": [
    "# values of coercivity for Bakker classes with B_rem > 1.4\n",
    "\n",
    "bakker_coerc_data = 1e3*np.array([955,\n",
    "                                 875,\n",
    "                                 1114,\n",
    "                                 1080,\n",
    "                                 1353,\n",
    "                                 ])"
   ]
  },
  {
   "cell_type": "markdown",
   "metadata": {},
   "source": [
    "We want to visualize all the values of the maximum reverse magnetic field, and compare with Bakker data:"
   ]
  },
  {
   "cell_type": "code",
   "execution_count": null,
   "metadata": {
    "collapsed": false
   },
   "outputs": [],
   "source": [
    "%matplotlib inline\n",
    "\n",
    "plt.rc('font',size=FONTSIZE)\n",
    "\n",
    "coerc_hist_fig = plt.figure(figsize=(FIGSIZE_INCHES,FIGSIZE_INCHES))\n",
    "coerc_hist_axes = coerc_hist_fig.add_subplot(111)\n",
    "\n",
    "coerc_hist_axes.hist([1e-3*coerc_data.values.T[0],\n",
    "                      1e-3*coerc_data.values.T[1],\n",
    "                      1e-3*bakker_coerc_data.T],\n",
    "                    label=[\"Magnet II\",\"Magnet IV\",\"Bakker Data\"])\n",
    "coerc_hist_axes.set_title(r'$-\\nvh\\cdot\\nvbremhat[\\si{\\kilo\\ampere\\per\\meter}]$')\n",
    "coerc_hist_axes.legend()\n",
    "\n",
    "if SAVE_FIG_Q: save_and_close_figure(coerc_hist_fig, \"coercivity_histogram\")"
   ]
  },
  {
   "cell_type": "markdown",
   "metadata": {},
   "source": [
    "We can see that there are a range of parameters that produce values of reverse magnetic field smaller than some NdFeB classes. In other words, it should be possible to select a magnetic material with a high enough value of intrinsic coercivity."
   ]
  },
  {
   "cell_type": "markdown",
   "metadata": {
    "collapsed": true
   },
   "source": [
    "## Calculating functional"
   ]
  },
  {
   "cell_type": "code",
   "execution_count": null,
   "metadata": {
    "collapsed": true
   },
   "outputs": [],
   "source": [
    "def expand_parameters_from_remanence_array(alpha_B_rem, params):\n",
    "    \"\"\"\n",
    "    Return a new parameters dict with the remanence angles from 'alpha_B_rem' and other parameters from 'params'.\n",
    "    The length of this array must equal to the sum of the number of segments in both cylinders. \n",
    "    The first n_II elements refer to the inner magnet, and the remaining elements to the outer magnet.\n",
    "    \"\"\"\n",
    "    \n",
    "    params_expanded = params.copy()\n",
    "    \n",
    "    n_II = params[\"n_II\"]\n",
    "    for i in range(0,n_II):\n",
    "        params_expanded[\"alpha_rem_II_%d\" %(i+1,)] = alpha_B_rem[i]\n",
    "        \n",
    "    n_IV = params[\"n_IV\"]\n",
    "    for j in range(0,n_IV):\n",
    "        k =  j + n_II #the first n_II elements refer to magnet II\n",
    "        params_expanded[\"alpha_rem_IV_%d\" %(j+1,)] = alpha_B_rem[k]\n",
    "        \n",
    "    return params_expanded\n",
    "    "
   ]
  },
  {
   "cell_type": "code",
   "execution_count": null,
   "metadata": {
    "collapsed": false
   },
   "outputs": [],
   "source": [
    "param_dict = {\"R_i\": 0.015,\n",
    "                \"R_o\": 0.070,\n",
    "                \"h_gap\": 0.020,\n",
    "                \"R_s\": 0.140,\n",
    "                \"h_fc\": 0.010,\n",
    "                \"R_e\": 2,\n",
    "                \"n_IV\": 3,\n",
    "                \"alpha_rem_IV_1\": 15,\n",
    "                \"alpha_rem_IV_2\": 45,\n",
    "                \"alpha_rem_IV_3\": 135,\n",
    "                \"phi_S_IV\": 45,\n",
    "                \"n_II\": 3,\n",
    "                \"alpha_rem_II_1\": 15,\n",
    "                \"alpha_rem_II_2\": 30,\n",
    "                \"alpha_rem_II_3\": 45,\n",
    "                \"phi_C_II\": 15,\n",
    "                \"phi_S_II\": 45,\n",
    "                \"B_rem_II\": 1.4,\n",
    "                \"mu_r_II\": 1.05,\n",
    "                \"B_rem_IV\": 1.4,\n",
    "                \"mu_r_IV\": 1.05,\n",
    "              \"linear_iron\": 1,\n",
    "              \"mu_r_iron\": 5e3,\n",
    "             }\n",
    "\n",
    "path_functional = \"teslamax-play-functional\"\n",
    "\n",
    "teslamax_model = TeslaMaxModel(param_dict,path_functional)\n",
    "teslamax_model.run(verbose=True)"
   ]
  },
  {
   "cell_type": "code",
   "execution_count": null,
   "metadata": {
    "collapsed": false
   },
   "outputs": [],
   "source": [
    "teslamax_model.profile_data"
   ]
  },
  {
   "cell_type": "code",
   "execution_count": null,
   "metadata": {
    "collapsed": false
   },
   "outputs": [],
   "source": [
    "teslamax_model.calculate_B_profile(15.3)"
   ]
  },
  {
   "cell_type": "code",
   "execution_count": null,
   "metadata": {
    "collapsed": false
   },
   "outputs": [],
   "source": [
    "teslamax_model.calculate_average_high_field()"
   ]
  },
  {
   "cell_type": "code",
   "execution_count": null,
   "metadata": {
    "collapsed": true
   },
   "outputs": [],
   "source": []
  }
 ],
 "metadata": {
  "anaconda-cloud": {},
  "kernelspec": {
   "display_name": "Python 3",
   "language": "python",
   "name": "python3"
  },
  "language_info": {
   "codemirror_mode": {
    "name": "ipython",
    "version": 3
   },
   "file_extension": ".py",
   "mimetype": "text/x-python",
   "name": "python",
   "nbconvert_exporter": "python",
   "pygments_lexer": "ipython3",
   "version": "3.5.1"
  }
 },
 "nbformat": 4,
 "nbformat_minor": 1
}
