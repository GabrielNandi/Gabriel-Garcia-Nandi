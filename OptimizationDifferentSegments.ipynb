{
 "cells": [
  {
   "cell_type": "code",
   "execution_count": 1,
   "metadata": {
    "collapsed": true
   },
   "outputs": [],
   "source": [
    "from pathlib import Path\n",
    "import os\n",
    "import shutil\n",
    "import matplotlib\n",
    "import matplotlib.pyplot as plt\n",
    "import numpy as np\n",
    "import math\n",
    "from datetime import datetime\n",
    "from scipy.optimize import minimize, differential_evolution, basinhopping\n",
    "from scipy.interpolate import interp1d\n",
    "from pandas import Series, DataFrame\n",
    "import pandas as pd\n",
    "import teslamax\n",
    "from teslamax import TeslaMaxGeometry, TeslaMaxPreDesign, TeslaMaxModel"
   ]
  },
  {
   "cell_type": "code",
   "execution_count": 2,
   "metadata": {
    "collapsed": false
   },
   "outputs": [
    {
     "data": {
      "text/plain": [
       "<Figure size 432x288 with 0 Axes>"
      ]
     },
     "metadata": {},
     "output_type": "display_data"
    }
   ],
   "source": [
    "plt.set_cmap(cmap=\"Greys\")"
   ]
  },
  {
   "cell_type": "code",
   "execution_count": 3,
   "metadata": {
    "collapsed": true
   },
   "outputs": [],
   "source": [
    "import nemplot\n",
    "from nemplot import nemplot_parameters"
   ]
  },
  {
   "cell_type": "code",
   "execution_count": 4,
   "metadata": {
    "collapsed": true
   },
   "outputs": [],
   "source": [
    "nemplot.set_dpi(800)\n",
    "nemplot.set_figsize_cm(12)\n",
    "nemplot.set_fontsize(14)\n",
    "nemplot.set_latex_font(\"Palatino\")\n",
    "nemplot.set_plot_extension('.pdf')\n",
    "\n",
    "nemplot.set_main_path(\".\")\n",
    "nemplot.set_figures_dir('figures')"
   ]
  },
  {
   "cell_type": "code",
   "execution_count": 5,
   "metadata": {
    "collapsed": true
   },
   "outputs": [],
   "source": [
    "B_HIGH_LIMIT = 1.4\n",
    "\n",
    "TESLAMAX_PATH = Path.home() / \"code\" / \"TeslaMax\"\n",
    "\n",
    "PLAYGROUND_DIR = \"teslamax-play\"\n",
    "\n",
    "RAMP_RESULTS_DIR_FMT = \"ramp_Bh_%d_FM_%d\"\n",
    "\n",
    "TESLAMAX_MPH_DIR = TESLAMAX_PATH / \"java\"\n",
    "\n",
    "TESLAMAX_FILENAME = \"TeslaMax_Model\"\n",
    "TESLAMAX_FILE_EXT = \"mph\"\n",
    "\n",
    "TESLAMAX_FILE_STR = str(TESLAMAX_MPH_DIR / (TESLAMAX_FILENAME + \".\" + TESLAMAX_FILE_EXT))\n",
    "\n",
    "\n",
    "TESLAMAX_PLAYGROUND = TESLAMAX_PATH / PLAYGROUND_DIR"
   ]
  },
  {
   "cell_type": "code",
   "execution_count": 6,
   "metadata": {},
   "outputs": [],
   "source": [
    "DICT_LINES = 19\n",
    "K_CRITIC = 0.002\n",
    "K_STEP = 0.002\n",
    "\n",
    "# Default mesh parameters\n",
    "L_ELEMENT_MAX_DEFAULT = 0.0111  # [m]\n",
    "L_ELEMENT_MIN_DEFAULT = 3.75e-5  # [m]\n",
    "N_NARROW_DEFAULT = 5\n",
    "\n",
    "B_LABEL = r'$B\\ped{max}\\,[\\si{\\tesla}]$'\n",
    "Q_LABEL = r'$\\qc\\,[\\si{\\watt}]$'\n",
    "COP_LABEL = r'$\\cop$'\n",
    "PHI_LABEL = r'$\\Phi$'\n",
    "H_REG_LABEL = r'$H\\ped{r}\\,[\\si{\\milli\\meter}]$'\n",
    "H_GAP_LABEL = r'$h\\ped{gap}\\,[\\si{\\milli\\meter}]$'\n",
    "F_B_LABEL = r'$F\\ped{B}\\,[\\si{\\percent}]$'\n",
    "F_M_LABEL = r'$F\\ped{M}\\,[\\si{\\percent}]$'\n",
    "H_MAX_LABEL = r'$\\mu_0 H\\ped{max}\\,[\\si{\\tesla}]$'"
   ]
  },
  {
   "cell_type": "code",
   "execution_count": 7,
   "metadata": {
    "collapsed": false,
    "scrolled": true
   },
   "outputs": [
    {
     "data": {
      "text/plain": [
       "'C:\\\\Users\\\\fabiofortkamp\\\\code\\\\TeslaMax'"
      ]
     },
     "execution_count": 7,
     "metadata": {},
     "output_type": "execute_result"
    }
   ],
   "source": [
    "os.getcwd()"
   ]
  },
  {
   "cell_type": "code",
   "execution_count": 8,
   "metadata": {
    "collapsed": true
   },
   "outputs": [],
   "source": [
    "def optimize_ramp_with_timestamp(B_high,field_fraction,params,filename=None):\n",
    "    \"\"\"\n",
    "    Run the TeslaMax optimization procedure, trying to match the profile\n",
    "    to a ramp profile between 0 and 'B_high' with 'field_fraction', using the\n",
    "    parameters in the dictionary 'params'.\n",
    "    \n",
    "    Return a TeslaMaxModel object, representing the optimized magnet,\n",
    "    and the value of the cost function. The TeslaMaxModel object is already populated with simulation results.\n",
    "    \n",
    "    The simulation results are stored in directories inside PLAYGROUND_DIR.\n",
    "    The COMSOL model file is saved as 'filename' (with '.mph' extension) in TESLAMAX_MPH_DIR, \n",
    "    if provided.\n",
    "    \"\"\"\n",
    "    \n",
    "    tmpd = TeslaMaxPreDesign(params)\n",
    "    \n",
    "    target_function = teslamax.calculate_ramp_profile\n",
    "\n",
    "    \n",
    "    target_args = (B_high,B_LOW,field_fraction)\n",
    "\n",
    "    alpha_B_rem_g = tmpd.get_optimal_remanence_angles(target_function,target_args)\n",
    "    cost_function = tmpd.calculate_functional_target(alpha_B_rem_g,\n",
    "                                                    target_function,\n",
    "                                                    target_args)\n",
    "    \n",
    "    tstamp = datetime.now().strftime(\"%Y%m%d%H%M%S\")\n",
    "    \n",
    "    teslamax_playground = str(TESLAMAX_PATH / PLAYGROUND_DIR / tstamp  )\n",
    "    \n",
    "    tmm_g = TeslaMaxModel(tmpd,\n",
    "                          alpha_B_rem_g,\n",
    "                          path=teslamax_playground)\n",
    "    tmm_g.run()\n",
    "    \n",
    "    if filename:\n",
    "        shutil.copy(src=TESLAMAX_FILE_STR,\n",
    "                    dst=str(TESLAMAX_MPH_DIR / (filename + \".\" + TESLAMAX_FILE_EXT)))\n",
    "    \n",
    "    return (tmm_g,cost_function)\n",
    "    "
   ]
  },
  {
   "cell_type": "code",
   "execution_count": 9,
   "metadata": {
    "collapsed": true
   },
   "outputs": [],
   "source": [
    "FIXED_PARAMETERS_MAGNET = {\"R_i\": 0.030,\n",
    "                \"R_o\": 0.185,\n",
    "                \"h_fc\": 0.030,\n",
    "                \"R_s\": 300e-3,\n",
    "                \"h_gap\": 30e-3,\n",
    "                \"R_e\": 1.0,\n",
    "                \"n_II\": 0,\n",
    "                \"n_IV\": 4,\n",
    "                \"B_rem_IV_1\": 1.37,\n",
    "                \"B_rem_IV_2\": 1.37,\n",
    "                \"B_rem_IV_3\": 1.37,\n",
    "                \"B_rem_IV_4\": 1.26,\n",
    "                \"phi_C_II\": 0,\n",
    "                \"phi_S_IV\": 45,\n",
    "                \"phi_S_II\": 0,\n",
    "                \"mu_r_II\": 1.05,\n",
    "                \"mu_r_IV\": 1.05,\n",
    "              \"linear_iron\": 1,\n",
    "              \"mu_r_iron\": 5e3,\n",
    "                \"Hc_j\": 1000e3,\n",
    "              \"l_element_min\": L_ELEMENT_MIN_DEFAULT,\n",
    "              \"l_element_max\": L_ELEMENT_MAX_DEFAULT,\n",
    "              \"n_narrow\": N_NARROW_DEFAULT\n",
    "             }\n",
    "\n",
    "B_HIGH = 1.3\n",
    "B_LOW = 0.0\n",
    "F_M = 0.25\n",
    "\n",
    "n_II = FIXED_PARAMETERS_MAGNET[\"n_II\"]\n",
    "n_IV = FIXED_PARAMETERS_MAGNET[\"n_IV\"]\n",
    "n = n_II + n_IV"
   ]
  },
  {
   "cell_type": "code",
   "execution_count": 10,
   "metadata": {
    "collapsed": true
   },
   "outputs": [],
   "source": [
    "def refine_list(original_list, factor):\n",
    "    \"\"\"\n",
    "    Return a new list, inserting more elements between the number in 'original_list'.\n",
    "    \n",
    "    Assumes 'original_list' is evenly-spaced. The spacing between each element is divided by 'factor'\n",
    "    \n",
    "    >>>refine_list([1,2,3],factor=2)\n",
    "    [1.0,1.5,2.0,2.5,3.0]\n",
    "    \"\"\"\n",
    "    \n",
    "    # calculate the original spacing between elements and refine it\n",
    "    d = original_list[1] - original_list[0]\n",
    "    d_refined = d / factor\n",
    "        \n",
    "    max_value = max(original_list)\n",
    "    min_value = min(original_list)\n",
    "    \n",
    "    # the number of elements is the number of divisions between the limit values, plus one aditional\n",
    "    n_refined = ((max_value - min_value) / d_refined) + 1\n",
    "        \n",
    "    return np.linspace(min_value,max_value,int(n_refined))"
   ]
  },
  {
   "cell_type": "code",
   "execution_count": 11,
   "metadata": {},
   "outputs": [],
   "source": [
    "fractions_phi_S = [[25,25,25,25],\n",
    "                   [50,20,15,15],\n",
    "                   [50,30,15,5]]"
   ]
  },
  {
   "cell_type": "code",
   "execution_count": 12,
   "metadata": {
    "collapsed": false,
    "scrolled": true
   },
   "outputs": [],
   "source": [
    "os.chdir(TESLAMAX_PATH)\n",
    "\n",
    "p = FIXED_PARAMETERS_MAGNET.copy()\n",
    "    \n",
    "results_list = []\n",
    "\n",
    "for i, fractions in enumerate(fractions_phi_S):\n",
    "    \n",
    "    delta_phi_S_values = np.array(fractions)/100 * p[\"phi_S_IV\"]\n",
    "        \n",
    "    p.update(\n",
    "    {\n",
    "        \"delta_phi_S_IV_%d\" %(j+1): (delta_phi_S_values[j]) for j in range(n_IV)\n",
    "    }\n",
    "    )\n",
    "            \n",
    "    \n",
    "    tmm_magnet, K_magnet = optimize_ramp_with_timestamp(B_HIGH,F_M,p)\n",
    "        \n",
    "    results_list.append((tmm_magnet,K_magnet))"
   ]
  },
  {
   "cell_type": "code",
   "execution_count": 13,
   "metadata": {},
   "outputs": [
    {
     "name": "stderr",
     "output_type": "stream",
     "text": [
      "C:\\Users\\fabiofortkamp\\Anaconda3\\envs\\teslamax\\lib\\site-packages\\matplotlib\\font_manager.py:1241: UserWarning: findfont: Font family ['serif'] not found. Falling back to DejaVu Sans.\n",
      "  (prop.get_family(), self.defaultFamily[fontext]))\n"
     ]
    },
    {
     "data": {
      "image/png": "[encoded data removed]",
      "text/plain": [
       "<Figure size 340.157x340.157 with 1 Axes>"
      ]
     },
     "metadata": {
      "needs_background": "light"
     },
     "output_type": "display_data"
    }
   ],
   "source": [
    "profile_fig_g, profile_axes_g = nemplot.create_plot(xlabel=r'$\\phi [\\si{\\degree}]$',\n",
    "                                                       ylabel=r'$B [\\si{\\tesla}]$')\n",
    "lw = 2.0\n",
    "\n",
    "linestyles = ['-', ':', '-.']\n",
    "for i, fractions in enumerate(fractions_phi_S):\n",
    "\n",
    "    (tmm_magnet, K_magnet) = results_list[i]\n",
    "\n",
    "    phi_vector, B_vector = tmm_magnet.get_profile_data()\n",
    "\n",
    "    label_str = str(fractions)\n",
    "    profile_axes_g.plot(phi_vector,B_vector,\n",
    "                        color='gray',\n",
    "                        linestyle=linestyles[i],\n",
    "                        linewidth=lw,label=label_str)\n",
    "\n",
    "profile_axes_g.set_xlim(0,np.max(phi_vector))\n",
    "profile_axes_g.set_xticks(np.linspace(0,np.max(phi_vector),9))\n",
    "profile_axes_g.grid(True)\n",
    "profile_axes_g.set_ylim(0,B_HIGH_LIMIT)\n",
    "\n",
    "ticks = profile_axes_g.get_yticks()\n",
    "profile_axes_g.set_yticks(refine_list(ticks,4),minor=True)\n",
    "\n",
    "B_target_vector = teslamax.calculate_ramp_profile(phi_vector,B_HIGH,B_LOW,F_M)\n",
    "profile_axes_g.plot(phi_vector,B_target_vector,'--',color='k',linewidth=lw,label=\"Target\")\n",
    "\n",
    "profile_axes_g.legend(loc='upper left',bbox_to_anchor=(1.0,1.0))\n",
    "\n",
    "nemplot.save_figure(profile_fig_g,\"profile_comparison_fractions\")"
   ]
  },
  {
   "cell_type": "code",
   "execution_count": null,
   "metadata": {},
   "outputs": [],
   "source": []
  }
 ],
 "metadata": {
  "kernelspec": {
   "display_name": "Python 3",
   "language": "python",
   "name": "python3"
  },
  "language_info": {
   "codemirror_mode": {
    "name": "ipython",
    "version": 3
   },
   "file_extension": ".py",
   "mimetype": "text/x-python",
   "name": "python",
   "nbconvert_exporter": "python",
   "pygments_lexer": "ipython3",
   "version": "3.7.1"
  }
 },
 "nbformat": 4,
 "nbformat_minor": 2
}
