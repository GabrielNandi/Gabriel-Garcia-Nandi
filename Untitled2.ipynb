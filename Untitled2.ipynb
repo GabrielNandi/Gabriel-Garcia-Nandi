{
 "cells": [
  {
   "cell_type": "code",
   "execution_count": 1,
   "metadata": {},
   "outputs": [],
   "source": [
    "from numpy import *\n",
    "from matplotlib import *\n",
    "from pylab import *\n",
    "from scipy import *\n",
    "from numpy import*\n",
    "import csv\n",
    "import xlrd\n",
    "import matplotlib.pyplot as plt\n",
    "\n",
    "rc('text',usetex = True)\n",
    "rc('font', family='serif')\n",
    "\n",
    "from mpl_toolkits.mplot3d import Axes3D\n",
    "from scipy.optimize import curve_fit"
   ]
  },
  {
   "cell_type": "code",
   "execution_count": 2,
   "metadata": {},
   "outputs": [],
   "source": [
    "workbook = xlrd.open_workbook('Planejamento das simulações - Modelo Analítico - NOVO.xlsx')\n",
    "worksheet = workbook.sheet_by_name('Simulações_Modelo')"
   ]
  },
  {
   "cell_type": "code",
   "execution_count": 3,
   "metadata": {},
   "outputs": [],
   "source": [
    "N = 27\n",
    "R1 = array([])\n",
    "R2 = array([])\n",
    "R3 = array([])\n",
    "R4 = array([])\n",
    "B_rem = array([])\n",
    "Pi1 = array([])\n",
    "Pi2 = array([])\n",
    "B = array([])\n",
    "\n",
    "for i in range(3,N):\n",
    "    R1 = append(R1, float(worksheet.cell(i, 1).value))\n",
    "    R2 = append(R2, float(worksheet.cell(i, 2).value))\n",
    "    R3 = append(R3, float(worksheet.cell(i, 3).value))\n",
    "    R4 = append(R4, float(worksheet.cell(i, 11).value))\n",
    "    B_rem = append(B_rem,1.26)\n",
    "    B = append(B, float(worksheet.cell(i, 4).value))"
   ]
  },
  {
   "cell_type": "code",
   "execution_count": 7,
   "metadata": {},
   "outputs": [],
   "source": [
    "def eta(X,a,c,d,e): \n",
    "    P2,P3,P4 = X\n",
    "    #return (a*((np.log(P1**b))+(np.log(P2**c))+(np.log(P3**d))+(np.log(P4**e)))*(P5**f))\n",
    "    return (a*(P2**c)*(P3**d)*(P4**e))"
   ]
  },
  {
   "cell_type": "code",
   "execution_count": 8,
   "metadata": {},
   "outputs": [
    {
     "data": {
      "text/plain": [
       "array([ 0.85707127,  1.55028688, -2.66994072,  1.16395544])"
      ]
     },
     "execution_count": 8,
     "metadata": {},
     "output_type": "execute_result"
    }
   ],
   "source": [
    "M1 = curve_fit(eta,(R2,R3,R4),B)\n",
    "#M = curve_fit(eta,phi, Qc,bounds=([-100,-100], [100,100]))\n",
    "M1[0]"
   ]
  },
  {
   "cell_type": "code",
   "execution_count": 24,
   "metadata": {},
   "outputs": [
    {
     "data": {
      "image/png": "[encoded data removed]",
      "text/plain": [
       "<Figure size 432x288 with 1 Axes>"
      ]
     },
     "metadata": {
      "needs_background": "light"
     },
     "output_type": "display_data"
    }
   ],
   "source": [
    "plt.plot(R4,B,'o',label = 'Simulation')\n",
    "plt.plot(R4,eta((R2,R3,R4),M1[0][0],M1[0][1],M1[0][2],M1[0][3]),'--',label  = 'Fit')\n",
    "plt.grid()\n",
    "plt.legend()\n",
    "plt.xlabel('R4')\n",
    "plt.ylabel('B')\n",
    "plt.savefig('MagnetFit.png',format = 'png', dpi=1000,bbox_inches='tight')\n",
    "\n",
    "\n"
   ]
  },
  {
   "cell_type": "code",
   "execution_count": 11,
   "metadata": {},
   "outputs": [],
   "source": [
    "h = R3-R2\n",
    "V_magnet = (R4**2 - R3**2 + R2**2-R1**2)\n",
    "V_gap = (R3**2 - R2**2)\n",
    "eta_vol = (B/B_rem)*((R3**2-R2**2)/(R4**2 - R3**2 + R2**2-20**2-R1**2))**0.5\n",
    "V_in = R2**2 - R1**2\n",
    "V_out = R4**2 - R3**2\n",
    "V_t = R4**2 - R1**2"
   ]
  },
  {
   "cell_type": "code",
   "execution_count": 25,
   "metadata": {},
   "outputs": [
    {
     "data": {
      "image/png": "[encoded data removed]",
      "text/plain": [
       "<Figure size 432x288 with 1 Axes>"
      ]
     },
     "metadata": {
      "needs_background": "light"
     },
     "output_type": "display_data"
    }
   ],
   "source": [
    "plt.plot(V_gap/(V_out),B,'o',label = 'Simulation')\n",
    "plt.grid()\n",
    "plt.legend()\n",
    "plt.xlabel('V$_\\mathrm{gap}$/V$_\\mathrm{out}$ [-]')\n",
    "plt.ylabel('B/B$_\\mathrm{rem}$ [-]')\n",
    "plt.savefig('MagnetFit.png',format = 'png', dpi=1000,bbox_inches='tight')"
   ]
  },
  {
   "cell_type": "code",
   "execution_count": 15,
   "metadata": {},
   "outputs": [
    {
     "data": {
      "text/plain": [
       "[<matplotlib.lines.Line2D at 0xff914e0>]"
      ]
     },
     "execution_count": 15,
     "metadata": {},
     "output_type": "execute_result"
    },
    {
     "data": {
      "image/png": "[encoded data removed]",
      "text/plain": [
       "<Figure size 432x288 with 1 Axes>"
      ]
     },
     "metadata": {
      "needs_background": "light"
     },
     "output_type": "display_data"
    }
   ],
   "source": [
    "plt.plot(V_gap/V_out,B/B_rem,'o')"
   ]
  },
  {
   "cell_type": "code",
   "execution_count": 19,
   "metadata": {},
   "outputs": [
    {
     "data": {
      "text/plain": [
       "array([160. , 167. , 188. , 213. , 180.5, 189.5, 215.5, 250.5, 193. ,\n",
       "       210. , 246. , 297. , 184.5, 192. , 215. , 238. , 209. , 209.5,\n",
       "       237. , 270. , 220. , 230. , 260.5, 299.5])"
      ]
     },
     "execution_count": 19,
     "metadata": {},
     "output_type": "execute_result"
    }
   ],
   "source": [
    "R4"
   ]
  },
  {
   "cell_type": "code",
   "execution_count": null,
   "metadata": {},
   "outputs": [],
   "source": []
  }
 ],
 "metadata": {
  "kernelspec": {
   "display_name": "Python 3",
   "language": "python",
   "name": "python3"
  },
  "language_info": {
   "codemirror_mode": {
    "name": "ipython",
    "version": 3
   },
   "file_extension": ".py",
   "mimetype": "text/x-python",
   "name": "python",
   "nbconvert_exporter": "python",
   "pygments_lexer": "ipython3",
   "version": "3.7.1"
  }
 },
 "nbformat": 4,
 "nbformat_minor": 2
}
