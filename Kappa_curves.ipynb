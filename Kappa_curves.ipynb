{
 "cells": [
  {
   "cell_type": "code",
   "execution_count": 1,
   "metadata": {},
   "outputs": [],
   "source": [
    "from pathlib import Path\n",
    "import os\n",
    "import matplotlib\n",
    "import matplotlib.pyplot as plt\n",
    "import numpy as np\n",
    "from scipy.optimize import minimize, differential_evolution, basinhopping\n",
    "from pandas import Series, DataFrame\n",
    "import pandas as pd\n",
    "import teslamax\n",
    "from teslamax import TeslaMaxGeometry, TeslaMaxPreDesign, TeslaMaxModel"
   ]
  },
  {
   "cell_type": "code",
   "execution_count": 2,
   "metadata": {},
   "outputs": [],
   "source": [
    "TABLE_FILE = Path('analytical-fitting-points.csv')\n",
    "RESULTS_KAPPA_FILE_PREFIX = 'results_kappa'"
   ]
  },
  {
   "cell_type": "code",
   "execution_count": 3,
   "metadata": {},
   "outputs": [],
   "source": [
    "table = pd.read_csv(TABLE_FILE,index_col=0)"
   ]
  },
  {
   "cell_type": "code",
   "execution_count": 4,
   "metadata": {},
   "outputs": [],
   "source": [
    "nrows, ncolumns = table.shape"
   ]
  },
  {
   "cell_type": "code",
   "execution_count": 5,
   "metadata": {},
   "outputs": [],
   "source": [
    "FIXED_PARAMETERS = {\n",
    "        \"h_fc\": 0.025,\n",
    "        \"R_e\": 1,\n",
    "        \"n_II\": 5,\n",
    "        \"n_IV\": 5,\n",
    "        \"phi_C_II\": 0,\n",
    "        \"phi_S_II\": 60,\n",
    "        \"phi_S_IV\": 60,\n",
    "        \"mu_r_II\": 1.05,\n",
    "        \"mu_r_IV\": 1.05,\n",
    "        \"linear_iron\": 1,\n",
    "        \"mu_r_iron\": 5e2,\n",
    "        \"l_element_min\": 1e-3,\n",
    "        \"l_element_max\": 3e-2,\n",
    "        \"n_narrow\": 2,\n",
    "             }\n",
    "\n",
    "n_II = FIXED_PARAMETERS[\"n_II\"]\n",
    "n_IV = FIXED_PARAMETERS[\"n_IV\"]\n",
    "\n",
    "n = n_II + n_IV\n",
    "\n",
    "B_rem = 1.26\n",
    "\n",
    "# expand parameters to include remanence magnitudes for each segment\n",
    "FIXED_PARAMETERS = teslamax.expand_parameters_from_remanence_array(B_rem*np.ones(n), \n",
    "                                                        FIXED_PARAMETERS, \n",
    "                                                        \"B_rem\")"
   ]
  },
  {
   "cell_type": "code",
   "execution_count": 6,
   "metadata": {},
   "outputs": [],
   "source": [
    "parameters_list = []\n",
    "B_est_list = []\n",
    "for isimulation, row in table.iterrows():\n",
    "    parameters = FIXED_PARAMETERS.copy()\n",
    "    parameters[\"R_i\"] = 1e-3*row[\"R1  (Ri)\"]\n",
    "    parameters[\"R_o\"] = 1e-3*row[\"R2  (Ro)\"]\n",
    "    parameters[\"R_g\"] = 1e-3*row[\"R3  (Rg)\"]\n",
    "    parameters[\"R_s\"] = 1e-3*row[\"R4  (Rs)\"]\n",
    "    \n",
    "    parameters_list.append(parameters.copy())\n",
    "    \n",
    "    B_est_list.append(row[\"B_estimado\"])"
   ]
  },
  {
   "cell_type": "code",
   "execution_count": 7,
   "metadata": {},
   "outputs": [],
   "source": [
    "B_min = 0.5\n",
    "B_max = 1.5\n",
    "n_B_values = 3\n",
    "B_values = np.linspace(B_min,B_max,n_B_values)"
   ]
  },
  {
   "cell_type": "code",
   "execution_count": 8,
   "metadata": {},
   "outputs": [],
   "source": [
    "Kappa_data = np.zeros((nrows,n_B_values))"
   ]
  },
  {
   "cell_type": "code",
   "execution_count": 9,
   "metadata": {},
   "outputs": [],
   "source": [
    "target_function = teslamax.calculate_ramp_profile\n",
    "B_low = 0.0\n",
    "field_fraction = 0.35\n",
    "    \n",
    "for i in 0,:\n",
    "    \n",
    "    results_path = Path(RESULTS_KAPPA_FILE_PREFIX + \"_%s.txt\" %(i,))\n",
    "    results_path.write_text(\"B[T]\\tKappa[]\\n\")\n",
    "    \n",
    "    tmpd = TeslaMaxPreDesign(parameters_list[i])\n",
    "    \n",
    "    for j, B_high in enumerate(B_values):\n",
    "        \n",
    "        target_args = (B_high,B_low,field_fraction)\n",
    "        \n",
    "        \n",
    "        alpha_B_rem_g = tmpd.get_optimal_remanence_angles(target_function,target_args)\n",
    "        Kappa = tmpd.calculate_functional_target(alpha_B_rem_g,\n",
    "                                                    target_function,\n",
    "                                                    target_args)\n",
    "        Kappa_data[i,j] = Kappa\n",
    "            \n",
    "        results_str = \"%.2f\\t%.4f\\n\" %(B_high,Kappa,)\n",
    "        with results_path.open(mode='a',buffering=1) as f:\n",
    "                f.write(results_str)\n",
    "                f.flush()\n",
    "                os.fsync(f.fileno())"
   ]
  },
  {
   "cell_type": "code",
   "execution_count": 10,
   "metadata": {},
   "outputs": [
    {
     "data": {
      "text/plain": [
       "array([[0.04970835, 0.11908451, 0.20033356],\n",
       "       [0.        , 0.        , 0.        ],\n",
       "       [0.        , 0.        , 0.        ],\n",
       "       [0.        , 0.        , 0.        ],\n",
       "       [0.        , 0.        , 0.        ],\n",
       "       [0.        , 0.        , 0.        ],\n",
       "       [0.        , 0.        , 0.        ],\n",
       "       [0.        , 0.        , 0.        ],\n",
       "       [0.        , 0.        , 0.        ],\n",
       "       [0.        , 0.        , 0.        ],\n",
       "       [0.        , 0.        , 0.        ],\n",
       "       [0.        , 0.        , 0.        ],\n",
       "       [0.        , 0.        , 0.        ],\n",
       "       [0.        , 0.        , 0.        ],\n",
       "       [0.        , 0.        , 0.        ],\n",
       "       [0.        , 0.        , 0.        ],\n",
       "       [0.        , 0.        , 0.        ],\n",
       "       [0.        , 0.        , 0.        ],\n",
       "       [0.        , 0.        , 0.        ],\n",
       "       [0.        , 0.        , 0.        ],\n",
       "       [0.        , 0.        , 0.        ]])"
      ]
     },
     "execution_count": 10,
     "metadata": {},
     "output_type": "execute_result"
    }
   ],
   "source": [
    "Kappa_data"
   ]
  }
 ],
 "metadata": {
  "kernelspec": {
   "display_name": "Python 3",
   "language": "python",
   "name": "python3"
  },
  "language_info": {
   "codemirror_mode": {
    "name": "ipython",
    "version": 3
   },
   "file_extension": ".py",
   "mimetype": "text/x-python",
   "name": "python",
   "nbconvert_exporter": "python",
   "pygments_lexer": "ipython3",
   "version": "3.7.1"
  }
 },
 "nbformat": 4,
 "nbformat_minor": 2
}
