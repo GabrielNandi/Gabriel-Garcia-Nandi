{
 "cells": [
  {
   "cell_type": "code",
   "execution_count": 1,
   "metadata": {
    "collapsed": true
   },
   "outputs": [],
   "source": [
    "from pathlib import Path\n",
    "import os\n",
    "import shutil\n",
    "from datetime import datetime\n",
    "import matplotlib\n",
    "import matplotlib.pyplot as plt\n",
    "import numpy as np\n",
    "from scipy.optimize import minimize, differential_evolution, basinhopping\n",
    "from pandas import Series, DataFrame\n",
    "import teslamax\n",
    "from teslamax import TeslaMaxGeometry, TeslaMaxPreDesign, TeslaMaxModel"
   ]
  },
  {
   "cell_type": "code",
   "execution_count": 2,
   "metadata": {
    "collapsed": false
   },
   "outputs": [],
   "source": [
    "B_HIGH_LIMIT = 1.3\n",
    "\n",
    "B_MAX = 1.2\n",
    "FIELD_FRACTION = 0.35\n",
    "\n",
    "B_REM = 1.4\n",
    "\n",
    "TESLAMAX_PATH = Path.home() / \"code\" / \"TeslaMax\"\n",
    "\n",
    "TESLAMAX_MPH_DIR = TESLAMAX_PATH / \"java\"\n",
    "\n",
    "TESLAMAX_FILENAME = \"TeslaMax_Model\"\n",
    "TESLAMAX_FILE_EXT = \"mph\"\n",
    "\n",
    "TESLAMAX_FILE_STR = str(TESLAMAX_MPH_DIR / (TESLAMAX_FILENAME + \".\" + TESLAMAX_FILE_EXT))\n",
    "\n",
    "PLAYGROUND_DIR = \"teslamax-play\""
   ]
  },
  {
   "cell_type": "code",
   "execution_count": 3,
   "metadata": {
    "collapsed": false
   },
   "outputs": [
    {
     "data": {
      "text/plain": [
       "'C:\\\\Users\\\\fabiofortkamp\\\\code\\\\TeslaMax\\\\java\\\\TeslaMax_Model.mph'"
      ]
     },
     "execution_count": 3,
     "metadata": {},
     "output_type": "execute_result"
    }
   ],
   "source": [
    "TESLAMAX_FILE_STR"
   ]
  },
  {
   "cell_type": "code",
   "execution_count": 4,
   "metadata": {
    "collapsed": true
   },
   "outputs": [],
   "source": [
    "os.chdir(TESLAMAX_PATH)"
   ]
  },
  {
   "cell_type": "code",
   "execution_count": 5,
   "metadata": {
    "collapsed": false,
    "scrolled": true
   },
   "outputs": [
    {
     "data": {
      "text/plain": [
       "'C:\\\\Users\\\\fabiofortkamp\\\\code\\\\TeslaMax'"
      ]
     },
     "execution_count": 5,
     "metadata": {},
     "output_type": "execute_result"
    }
   ],
   "source": [
    "os.getcwd()"
   ]
  },
  {
   "cell_type": "markdown",
   "metadata": {},
   "source": [
    "## Optimization using Scipy"
   ]
  },
  {
   "cell_type": "code",
   "execution_count": 6,
   "metadata": {
    "collapsed": true
   },
   "outputs": [],
   "source": [
    "def optimize_ramp(B_high,field_fraction,params,filename=None):\n",
    "    \"\"\"\n",
    "    Run the TeslaMax optimization procedure, trying to match the profile\n",
    "    to a ramp profile between 0 and 'B_high' with 'field_fraction', using the\n",
    "    parameters in the dictionary 'params'.\n",
    "    \n",
    "    Return a TeslaMaxModel object, representing the optimized magnet,\n",
    "    and the value of the cost function. The TeslaMaxModel object is already populated with simulation results.\n",
    "    \n",
    "    The simulation results are stored in directories inside PLAYGROUND_DIR.\n",
    "    The COMSOL model file is saved as 'filename' (with '.mph' extension) in TESLAMAX_MPH_DIR, \n",
    "    if provided.\n",
    "    \"\"\"\n",
    "    \n",
    "    tmpd = TeslaMaxPreDesign(params)\n",
    "    \n",
    "    target_function = teslamax.calculate_ramp_profile\n",
    "    \n",
    "    B_low = 0.0\n",
    "    \n",
    "    target_args = (B_high,B_low,field_fraction)\n",
    "\n",
    "    alpha_B_rem_g = tmpd.get_optimal_remanence_angles(target_function,target_args)\n",
    "    cost_function = tmpd.calculate_functional_target(alpha_B_rem_g,\n",
    "                                                    target_function,\n",
    "                                                    target_args)\n",
    "    \n",
    "    tstamp = datetime.now().strftime(\"%Y%m%d%H%M%S\")\n",
    "    \n",
    "    teslamax_playground = str(TESLAMAX_PATH / PLAYGROUND_DIR / tstamp  )\n",
    "    \n",
    "    tmm_g = TeslaMaxModel(tmpd,\n",
    "                          alpha_B_rem_g,\n",
    "                          path=teslamax_playground)\n",
    "    tmm_g.run()\n",
    "    \n",
    "    if filename:\n",
    "        shutil.copy(src=TESLAMAX_FILE_STR,\n",
    "                    dst=str(TESLAMAX_MPH_DIR / (filename + \".\" + TESLAMAX_FILE_EXT)))\n",
    "    \n",
    "    return (tmm_g,cost_function)\n",
    "    "
   ]
  },
  {
   "cell_type": "code",
   "execution_count": 7,
   "metadata": {
    "collapsed": true
   },
   "outputs": [],
   "source": [
    "import nemplot\n",
    "from nemplot import nemplot_parameters"
   ]
  },
  {
   "cell_type": "code",
   "execution_count": 8,
   "metadata": {
    "collapsed": true
   },
   "outputs": [],
   "source": [
    "nemplot.set_dpi(600)\n",
    "nemplot.set_figsize_cm(10)\n",
    "nemplot.set_fontsize(12)\n",
    "nemplot.set_latex_font(\"Times New Roman\")"
   ]
  },
  {
   "cell_type": "code",
   "execution_count": 9,
   "metadata": {
    "collapsed": true
   },
   "outputs": [],
   "source": [
    "def refine_list(original_list, factor):\n",
    "    \"\"\"\n",
    "    Return a new list, inserting more elements between the number in 'original_list'.\n",
    "    \n",
    "    Assumes 'original_list' is evenly-spaced. The spacing between each element is divided by 'factor'\n",
    "    \n",
    "    >>>refine_list([1,2,3],factor=2)\n",
    "    [1.0,1.5,2.0,2.5,3.0]\n",
    "    \"\"\"\n",
    "    \n",
    "    # calculate the original spacing between elements and refine it\n",
    "    d = original_list[1] - original_list[0]\n",
    "    d_refined = d / factor\n",
    "        \n",
    "    max_value = max(original_list)\n",
    "    min_value = min(original_list)\n",
    "    \n",
    "    # the number of elements is the number of divisions between the limit values, plus one aditional\n",
    "    n_refined = ((max_value - min_value) / d_refined) + 1\n",
    "        \n",
    "    return np.linspace(min_value,max_value,int(n_refined))"
   ]
  },
  {
   "cell_type": "code",
   "execution_count": 10,
   "metadata": {
    "collapsed": false
   },
   "outputs": [],
   "source": [
    "def plot_optimized_ramp_comparison_angles(B_high,field_fraction,params,phi_S_values):\n",
    "    \"\"\"\n",
    "    Plot a comparison between the magnetic profile from the TeslaMax simulations,\n",
    "    and a ramp profile between 0 and 'B_high', with 'field_fraction', \n",
    "    for a situation without the internal magnet for the divisory angles in 'phi_S_values'. \n",
    "    \n",
    "    Common parameters for the case with the magnet are read from 'params', \n",
    "    \n",
    "    Save the figure with the appropriate naming inside the 'figures' directory.\n",
    "    Save the corresponding COMSOL models.\n",
    "    \"\"\"\n",
    "    \n",
    "    p = params.copy()\n",
    "    \n",
    "    profile_fig_g, profile_axes_g = nemplot.create_plot(xlabel=r'$\\phi [\\si{\\degree}]$',\n",
    "                                                       ylabel=r'$B [\\si{\\tesla}]$')\n",
    "    lw = 2.0\n",
    "    \n",
    "    results_list = []\n",
    "    for phi_S in phi_S_values:\n",
    "        \n",
    "        p[\"phi_S_IV\"] = phi_S\n",
    "            \n",
    "        tm_file_no_magnet = TESLAMAX_FILENAME + \"_phi_S_%d\" %(phi_S,)\n",
    "        tmm_no_magnet, K_no_magnet = optimize_ramp(B_high,field_fraction,p,tm_file_no_magnet)\n",
    "        \n",
    "        results_list.append((tmm_no_magnet,K_no_magnet))\n",
    "        phi_vector_no_magnet, B_vector_no_magnet = tmm_no_magnet.get_profile_data()\n",
    "        \n",
    "        label_str = r'$\\phi\\ped{S,IV} = \\SI{' + \"%d\" %(phi_S,) + r'}{\\degree}$'\n",
    "        profile_axes_g.plot(phi_vector_no_magnet,B_vector_no_magnet,linewidth=lw,label=label_str)\n",
    "    \n",
    "    profile_axes_g.set_xlim(0,np.max(phi_vector_no_magnet))\n",
    "    profile_axes_g.set_xticks(np.linspace(0,np.max(phi_vector_no_magnet),9))\n",
    "    profile_axes_g.grid(True)\n",
    "    profile_axes_g.set_ylim(0,B_HIGH_LIMIT)\n",
    "    \n",
    "    ticks = profile_axes_g.get_yticks()\n",
    "    profile_axes_g.set_yticks(refine_list(ticks,4),minor=True)\n",
    "    \n",
    "    B_low = 0.0\n",
    "    B_target_vector = teslamax.calculate_ramp_profile(phi_vector_no_magnet,B_high,B_low,field_fraction)\n",
    "    profile_axes_g.plot(phi_vector_no_magnet,B_target_vector,'--',linewidth=lw,label=\"Target\")\n",
    "    \n",
    "    profile_axes_g.legend(loc='upper left',bbox_to_anchor=(1.0,1.0))\n",
    "\n",
    "    nemplot.save_figure(profile_fig_g,\"profile_comparison_no_magnet_angles\")\n",
    "    \n",
    "    return results_list"
   ]
  },
  {
   "cell_type": "markdown",
   "metadata": {},
   "source": [
    "## Parameters for situation  without internal magnet"
   ]
  },
  {
   "cell_type": "markdown",
   "metadata": {},
   "source": [
    "To understand these parameters, check the notebook `Choosing the profile and dimensions.ipynb`."
   ]
  },
  {
   "cell_type": "code",
   "execution_count": 11,
   "metadata": {
    "collapsed": false
   },
   "outputs": [],
   "source": [
    "# Fixed parameters\n",
    "\n",
    "FIXED_PARAMETERS_AMR = {\n",
    "    \"D_p[m]\": 0.35e-3,\n",
    "    \"L[m]\": 85e-3, \n",
    "    \"W[m]\": 30e-3,\n",
    "    \"H[m]\": 19e-3,\n",
    "    \"N_r[]\": 8, \n",
    "    \"T_H[K]\": 305.5,\n",
    "    \"dT[K]\": 35,\n",
    "    \"Casing material\": \"Stainless steel\",\n",
    "    \"t_casing[m]\": 0.5e-3,\n",
    "    \"t_air[m]\": 1e-3,\n",
    "    \"N_layers[]\": 3,\n",
    "    \"T_C_layers[K]\": np.array([273,283,290]),\n",
    "    \"Length_fraction_layers[%]\": np.array([20,20,60]),\n",
    "    \"B_min[T]\": 0.05}\n",
    "\n",
    "FIXED_PARAMETERS_MAGNET = {\"R_i\": 0.015,\n",
    "                \"h_fc\": 10e-3,\n",
    "                \"R_e\": 0.3,\n",
    "                \"R_o\": 40e-3,\n",
    "                \"R_s\": 120e-3,\n",
    "                \"h_gap\": (FIXED_PARAMETERS_AMR[\"H[m]\"] + 2*(FIXED_PARAMETERS_AMR[\"t_casing[m]\"] + FIXED_PARAMETERS_AMR[\"t_air[m]\"])),\n",
    "                \"n_II\": 0,\n",
    "                \"n_IV\": 4,\n",
    "                \"phi_C_II\": 0,\n",
    "                \"phi_S_II\": 0,\n",
    "                \"mu_r_II\": 1.05,\n",
    "                \"mu_r_IV\": 1.05,\n",
    "              \"linear_iron\": 1,\n",
    "              \"mu_r_iron\": 5e3,\n",
    "             }\n",
    "\n",
    "    \n",
    "n_II = FIXED_PARAMETERS_MAGNET[\"n_II\"]\n",
    "n_IV = FIXED_PARAMETERS_MAGNET[\"n_IV\"]\n",
    "n = n_II + n_IV\n",
    "        \n",
    "# expand parameters to include remanence magnitudes for each segment\n",
    "FIXED_PARAMETERS_MAGNET.update(teslamax.expand_parameters_from_remanence_array(B_REM*np.ones(n), \n",
    "                                                                    FIXED_PARAMETERS_MAGNET, \n",
    "                                                                    \"B_rem\"))"
   ]
  },
  {
   "cell_type": "markdown",
   "metadata": {},
   "source": [
    "### Testing angles"
   ]
  },
  {
   "cell_type": "code",
   "execution_count": 12,
   "metadata": {
    "collapsed": false
   },
   "outputs": [
    {
     "name": "stdout",
     "output_type": "stream",
     "text": [
      "***\n",
      "For angle 45 °:\n",
      "Value of K without magnet: 0.002852\n",
      "\n",
      "Parameters:\n",
      "{'R_i': 0.015, 'h_fc': 0.01, 'R_e': 0.3, 'R_o': 0.04, 'R_s': 0.12, 'h_gap': 0.022, 'n_II': 0, 'n_IV': 4, 'phi_C_II': 0, 'phi_S_II': 0, 'mu_r_II': 1.05, 'mu_r_IV': 1.05, 'linear_iron': 1, 'mu_r_iron': 5000.0, 'B_rem_IV_1': 1.3999999999999999, 'B_rem_IV_2': 1.3999999999999999, 'B_rem_IV_3': 1.3999999999999999, 'B_rem_IV_4': 1.3999999999999999, 'phi_S_IV': 45, 'R_g': 0.062, 'alpha_rem_IV_1': 0.0, 'alpha_rem_IV_2': 0.88191421499066247, 'alpha_rem_IV_3': 38.347338726943363, 'alpha_rem_IV_4': 96.867090207288143}\n",
      "***\n",
      "For angle 55 °:\n",
      "Value of K without magnet: 0.006549\n",
      "\n",
      "Parameters:\n",
      "{'R_i': 0.015, 'h_fc': 0.01, 'R_e': 0.3, 'R_o': 0.04, 'R_s': 0.12, 'h_gap': 0.022, 'n_II': 0, 'n_IV': 4, 'phi_C_II': 0, 'phi_S_II': 0, 'mu_r_II': 1.05, 'mu_r_IV': 1.05, 'linear_iron': 1, 'mu_r_iron': 5000.0, 'B_rem_IV_1': 1.3999999999999999, 'B_rem_IV_2': 1.3999999999999999, 'B_rem_IV_3': 1.3999999999999999, 'B_rem_IV_4': 1.3999999999999999, 'phi_S_IV': 55, 'R_g': 0.062, 'alpha_rem_IV_1': 0.0, 'alpha_rem_IV_2': 10.600058590235468, 'alpha_rem_IV_3': 78.216228099016959, 'alpha_rem_IV_4': 30.734435765538599}\n",
      "***\n",
      "For angle 65 °:\n",
      "Value of K without magnet: 0.004459\n",
      "\n",
      "Parameters:\n",
      "{'R_i': 0.015, 'h_fc': 0.01, 'R_e': 0.3, 'R_o': 0.04, 'R_s': 0.12, 'h_gap': 0.022, 'n_II': 0, 'n_IV': 4, 'phi_C_II': 0, 'phi_S_II': 0, 'mu_r_II': 1.05, 'mu_r_IV': 1.05, 'linear_iron': 1, 'mu_r_iron': 5000.0, 'B_rem_IV_1': 1.3999999999999999, 'B_rem_IV_2': 1.3999999999999999, 'B_rem_IV_3': 1.3999999999999999, 'B_rem_IV_4': 1.3999999999999999, 'phi_S_IV': 65, 'R_g': 0.062, 'alpha_rem_IV_1': 0.0, 'alpha_rem_IV_2': 20.316124979813903, 'alpha_rem_IV_3': 103.99206774853396, 'alpha_rem_IV_4': 0.0}\n"
     ]
    },
    {
     "data": {
      "image/png": "[encoded data removed]",
      "text/plain": [
       "<matplotlib.figure.Figure at 0x223ba863a58>"
      ]
     },
     "metadata": {},
     "output_type": "display_data"
    }
   ],
   "source": [
    "%matplotlib inline\n",
    "\n",
    "phi_S_values = [45,55,65]\n",
    "\n",
    "results_list = plot_optimized_ramp_comparison_angles(B_MAX,\n",
    "                                                     FIELD_FRACTION,\n",
    "                                                     FIXED_PARAMETERS_MAGNET,\n",
    "                                                     phi_S_values)\n",
    "\n",
    "for i in range(0,len(phi_S_values)):\n",
    "    \n",
    "    (tmm_no_magnet, K_no_magnet) = results_list[i]\n",
    "    \n",
    "    print(\"***\")\n",
    "    print(\"For angle %d °:\" %(phi_S_values[i]))\n",
    "    print(\"Value of K without magnet: %.6f\" %(K_no_magnet))\n",
    "    print()\n",
    "    print(\"Parameters:\")\n",
    "    print(tmm_no_magnet.params)\n",
    "    "
   ]
  },
  {
   "cell_type": "code",
   "execution_count": null,
   "metadata": {
    "collapsed": true
   },
   "outputs": [],
   "source": []
  }
 ],
 "metadata": {
  "anaconda-cloud": {},
  "kernelspec": {
   "display_name": "Python 3",
   "language": "python",
   "name": "python3"
  },
  "language_info": {
   "codemirror_mode": {
    "name": "ipython",
    "version": 3
   },
   "file_extension": ".py",
   "mimetype": "text/x-python",
   "name": "python",
   "nbconvert_exporter": "python",
   "pygments_lexer": "ipython3",
   "version": "3.6.2"
  }
 },
 "nbformat": 4,
 "nbformat_minor": 1
}
