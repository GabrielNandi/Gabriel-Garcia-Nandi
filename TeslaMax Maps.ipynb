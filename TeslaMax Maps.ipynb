{
 "cells": [
  {
   "cell_type": "markdown",
   "metadata": {},
   "source": [
    "# TeslaMax Maps"
   ]
  },
  {
   "cell_type": "code",
   "execution_count": 1,
   "metadata": {
    "collapsed": true
   },
   "outputs": [],
   "source": [
    "from pathlib import Path\n",
    "import os\n",
    "\n",
    "import matplotlib\n",
    "import matplotlib.pyplot as plt\n",
    "import numpy as np\n",
    "from scipy.optimize import minimize, differential_evolution, basinhopping\n",
    "from pandas import Series, DataFrame\n",
    "import pandas as pd\n",
    "\n",
    "import teslamax\n",
    "from teslamax import TeslaMaxGeometry, TeslaMaxPreDesign, TeslaMaxModel\n"
   ]
  },
  {
   "cell_type": "code",
   "execution_count": 2,
   "metadata": {
    "collapsed": true
   },
   "outputs": [],
   "source": [
    "os.chdir(str(Path.home() / \"code\" / \"TeslaMax\"))"
   ]
  },
  {
   "cell_type": "code",
   "execution_count": 3,
   "metadata": {
    "scrolled": false
   },
   "outputs": [
    {
     "data": {
      "text/plain": [
       "'M:\\\\code\\\\TeslaMax'"
      ]
     },
     "execution_count": 3,
     "metadata": {},
     "output_type": "execute_result"
    }
   ],
   "source": [
    "os.getcwd()"
   ]
  },
  {
   "cell_type": "markdown",
   "metadata": {},
   "source": [
    "## Maps for R_s"
   ]
  },
  {
   "cell_type": "code",
   "execution_count": 4,
   "metadata": {
    "collapsed": true
   },
   "outputs": [],
   "source": [
    "DICT_LINES = 19"
   ]
  },
  {
   "cell_type": "code",
   "execution_count": 5,
   "metadata": {
    "collapsed": true
   },
   "outputs": [],
   "source": [
    "filename = \"map_Rs_Ro_50.txt\""
   ]
  },
  {
   "cell_type": "code",
   "execution_count": 6,
   "metadata": {
    "collapsed": true
   },
   "outputs": [],
   "source": [
    "file_path = Path(filename)"
   ]
  },
  {
   "cell_type": "code",
   "execution_count": 7,
   "metadata": {
    "collapsed": true
   },
   "outputs": [],
   "source": [
    "with open(file_path) as f:\n",
    "    flines = f.readlines()"
   ]
  },
  {
   "cell_type": "code",
   "execution_count": 8,
   "metadata": {
    "collapsed": true
   },
   "outputs": [],
   "source": [
    "params = eval(\"\".join(flines[0:DICT_LINES]))"
   ]
  },
  {
   "cell_type": "code",
   "execution_count": 9,
   "metadata": {},
   "outputs": [
    {
     "data": {
      "text/plain": [
       "{'B_rem_II_1': 1.4,\n",
       " 'B_rem_II_2': 1.4,\n",
       " 'B_rem_IV_1': 1.4,\n",
       " 'B_rem_IV_2': 1.4,\n",
       " 'B_rem_IV_3': 1.4,\n",
       " 'R_e': 0.3,\n",
       " 'R_i': 0.015,\n",
       " 'R_o': 0.05,\n",
       " 'h_fc': 0.01,\n",
       " 'h_gap': 0.025,\n",
       " 'linear_iron': 1,\n",
       " 'mu_r_II': 1.05,\n",
       " 'mu_r_IV': 1.05,\n",
       " 'mu_r_iron': 5000.0,\n",
       " 'n_II': 2,\n",
       " 'n_IV': 3,\n",
       " 'phi_C_II': 15,\n",
       " 'phi_S_II': 45,\n",
       " 'phi_S_IV': 45}"
      ]
     },
     "execution_count": 9,
     "metadata": {},
     "output_type": "execute_result"
    }
   ],
   "source": [
    "params"
   ]
  },
  {
   "cell_type": "code",
   "execution_count": 10,
   "metadata": {
    "collapsed": true
   },
   "outputs": [],
   "source": [
    "n = params[\"n_II\"] + params[\"n_IV\"]"
   ]
  },
  {
   "cell_type": "code",
   "execution_count": 11,
   "metadata": {},
   "outputs": [
    {
     "data": {
      "text/plain": [
       "['alpha_II_1', 'alpha_II_2']"
      ]
     },
     "execution_count": 11,
     "metadata": {},
     "output_type": "execute_result"
    }
   ],
   "source": [
    "[\"alpha_II_%d\" %(i+1) for i in range(0,params[\"n_II\"])]"
   ]
  },
  {
   "cell_type": "code",
   "execution_count": 12,
   "metadata": {
    "collapsed": true
   },
   "outputs": [],
   "source": [
    "column_names = [\"B_max[T]\",\n",
    "               \"F_M[%]\",\n",
    "               \"R_s[mm]\",\n",
    "               \"K[]\"] + (\n",
    "    [\"alpha_II_%d\" %(i+1) for i in range(0,params[\"n_II\"])] + \n",
    "    [\"alpha_IV_%d\" %(j+1) for j in range(0,params[\"n_IV\"])]) "
   ]
  },
  {
   "cell_type": "code",
   "execution_count": 13,
   "metadata": {},
   "outputs": [
    {
     "data": {
      "text/plain": [
       "['B_max[T]',\n",
       " 'F_M[%]',\n",
       " 'R_s[mm]',\n",
       " 'K[]',\n",
       " 'alpha_II_1',\n",
       " 'alpha_II_2',\n",
       " 'alpha_IV_1',\n",
       " 'alpha_IV_2',\n",
       " 'alpha_IV_3']"
      ]
     },
     "execution_count": 13,
     "metadata": {},
     "output_type": "execute_result"
    }
   ],
   "source": [
    "column_names"
   ]
  },
  {
   "cell_type": "code",
   "execution_count": 14,
   "metadata": {},
   "outputs": [
    {
     "data": {
      "text/html": [
       "<div>\n",
       "<style>\n",
       "    .dataframe thead tr:only-child th {\n",
       "        text-align: right;\n",
       "    }\n",
       "\n",
       "    .dataframe thead th {\n",
       "        text-align: left;\n",
       "    }\n",
       "\n",
       "    .dataframe tbody tr th {\n",
       "        vertical-align: top;\n",
       "    }\n",
       "</style>\n",
       "<table border=\"1\" class=\"dataframe\">\n",
       "  <thead>\n",
       "    <tr style=\"text-align: right;\">\n",
       "      <th></th>\n",
       "      <th>B_max[T]</th>\n",
       "      <th>F_M[%]</th>\n",
       "      <th>R_s[mm]</th>\n",
       "      <th>K[]</th>\n",
       "      <th>alpha_II_1</th>\n",
       "      <th>alpha_II_2</th>\n",
       "      <th>alpha_IV_1</th>\n",
       "      <th>alpha_IV_2</th>\n",
       "      <th>alpha_IV_3</th>\n",
       "    </tr>\n",
       "  </thead>\n",
       "  <tbody>\n",
       "    <tr>\n",
       "      <th>0</th>\n",
       "      <td>1.200</td>\n",
       "      <td>35.0</td>\n",
       "      <td>120.0</td>\n",
       "      <td>0.440</td>\n",
       "      <td>0.000</td>\n",
       "      <td>0.000</td>\n",
       "      <td>8.213</td>\n",
       "      <td>32.736</td>\n",
       "      <td>88.701</td>\n",
       "    </tr>\n",
       "    <tr>\n",
       "      <th>1</th>\n",
       "      <td>1.200</td>\n",
       "      <td>37.5</td>\n",
       "      <td>120.0</td>\n",
       "      <td>0.521</td>\n",
       "      <td>0.000</td>\n",
       "      <td>0.000</td>\n",
       "      <td>7.982</td>\n",
       "      <td>31.364</td>\n",
       "      <td>88.251</td>\n",
       "    </tr>\n",
       "    <tr>\n",
       "      <th>2</th>\n",
       "      <td>1.200</td>\n",
       "      <td>40.0</td>\n",
       "      <td>120.0</td>\n",
       "      <td>0.648</td>\n",
       "      <td>0.000</td>\n",
       "      <td>0.000</td>\n",
       "      <td>7.795</td>\n",
       "      <td>30.266</td>\n",
       "      <td>87.567</td>\n",
       "    </tr>\n",
       "    <tr>\n",
       "      <th>3</th>\n",
       "      <td>1.200</td>\n",
       "      <td>42.5</td>\n",
       "      <td>120.0</td>\n",
       "      <td>0.824</td>\n",
       "      <td>0.000</td>\n",
       "      <td>0.000</td>\n",
       "      <td>7.649</td>\n",
       "      <td>29.423</td>\n",
       "      <td>86.802</td>\n",
       "    </tr>\n",
       "    <tr>\n",
       "      <th>4</th>\n",
       "      <td>1.200</td>\n",
       "      <td>45.0</td>\n",
       "      <td>130.0</td>\n",
       "      <td>0.630</td>\n",
       "      <td>18.424</td>\n",
       "      <td>1.819</td>\n",
       "      <td>8.892</td>\n",
       "      <td>30.876</td>\n",
       "      <td>87.844</td>\n",
       "    </tr>\n",
       "    <tr>\n",
       "      <th>5</th>\n",
       "      <td>1.225</td>\n",
       "      <td>35.0</td>\n",
       "      <td>120.0</td>\n",
       "      <td>0.559</td>\n",
       "      <td>0.000</td>\n",
       "      <td>0.000</td>\n",
       "      <td>8.431</td>\n",
       "      <td>33.251</td>\n",
       "      <td>88.958</td>\n",
       "    </tr>\n",
       "    <tr>\n",
       "      <th>6</th>\n",
       "      <td>1.225</td>\n",
       "      <td>37.5</td>\n",
       "      <td>120.0</td>\n",
       "      <td>0.648</td>\n",
       "      <td>0.000</td>\n",
       "      <td>0.000</td>\n",
       "      <td>8.200</td>\n",
       "      <td>31.966</td>\n",
       "      <td>88.522</td>\n",
       "    </tr>\n",
       "    <tr>\n",
       "      <th>7</th>\n",
       "      <td>1.225</td>\n",
       "      <td>40.0</td>\n",
       "      <td>120.0</td>\n",
       "      <td>0.783</td>\n",
       "      <td>0.000</td>\n",
       "      <td>0.000</td>\n",
       "      <td>8.010</td>\n",
       "      <td>30.933</td>\n",
       "      <td>87.869</td>\n",
       "    </tr>\n",
       "    <tr>\n",
       "      <th>8</th>\n",
       "      <td>1.225</td>\n",
       "      <td>42.5</td>\n",
       "      <td>120.0</td>\n",
       "      <td>0.966</td>\n",
       "      <td>0.000</td>\n",
       "      <td>0.000</td>\n",
       "      <td>7.860</td>\n",
       "      <td>30.131</td>\n",
       "      <td>87.148</td>\n",
       "    </tr>\n",
       "    <tr>\n",
       "      <th>9</th>\n",
       "      <td>1.225</td>\n",
       "      <td>45.0</td>\n",
       "      <td>130.0</td>\n",
       "      <td>0.718</td>\n",
       "      <td>17.478</td>\n",
       "      <td>0.000</td>\n",
       "      <td>8.832</td>\n",
       "      <td>31.486</td>\n",
       "      <td>88.448</td>\n",
       "    </tr>\n",
       "    <tr>\n",
       "      <th>10</th>\n",
       "      <td>1.250</td>\n",
       "      <td>35.0</td>\n",
       "      <td>120.0</td>\n",
       "      <td>0.688</td>\n",
       "      <td>0.000</td>\n",
       "      <td>0.000</td>\n",
       "      <td>8.618</td>\n",
       "      <td>33.680</td>\n",
       "      <td>89.171</td>\n",
       "    </tr>\n",
       "    <tr>\n",
       "      <th>11</th>\n",
       "      <td>1.250</td>\n",
       "      <td>37.5</td>\n",
       "      <td>120.0</td>\n",
       "      <td>0.785</td>\n",
       "      <td>0.000</td>\n",
       "      <td>0.000</td>\n",
       "      <td>8.387</td>\n",
       "      <td>32.474</td>\n",
       "      <td>88.744</td>\n",
       "    </tr>\n",
       "    <tr>\n",
       "      <th>12</th>\n",
       "      <td>1.250</td>\n",
       "      <td>40.0</td>\n",
       "      <td>120.0</td>\n",
       "      <td>0.928</td>\n",
       "      <td>0.000</td>\n",
       "      <td>0.000</td>\n",
       "      <td>8.195</td>\n",
       "      <td>31.493</td>\n",
       "      <td>88.124</td>\n",
       "    </tr>\n",
       "    <tr>\n",
       "      <th>13</th>\n",
       "      <td>1.250</td>\n",
       "      <td>42.5</td>\n",
       "      <td>130.0</td>\n",
       "      <td>0.584</td>\n",
       "      <td>14.557</td>\n",
       "      <td>0.000</td>\n",
       "      <td>8.698</td>\n",
       "      <td>32.504</td>\n",
       "      <td>89.952</td>\n",
       "    </tr>\n",
       "    <tr>\n",
       "      <th>14</th>\n",
       "      <td>1.250</td>\n",
       "      <td>45.0</td>\n",
       "      <td>130.0</td>\n",
       "      <td>0.820</td>\n",
       "      <td>15.832</td>\n",
       "      <td>0.000</td>\n",
       "      <td>8.784</td>\n",
       "      <td>32.123</td>\n",
       "      <td>89.106</td>\n",
       "    </tr>\n",
       "    <tr>\n",
       "      <th>15</th>\n",
       "      <td>1.275</td>\n",
       "      <td>35.0</td>\n",
       "      <td>120.0</td>\n",
       "      <td>0.826</td>\n",
       "      <td>0.000</td>\n",
       "      <td>0.000</td>\n",
       "      <td>8.778</td>\n",
       "      <td>34.045</td>\n",
       "      <td>89.346</td>\n",
       "    </tr>\n",
       "    <tr>\n",
       "      <th>16</th>\n",
       "      <td>1.275</td>\n",
       "      <td>37.5</td>\n",
       "      <td>120.0</td>\n",
       "      <td>0.931</td>\n",
       "      <td>0.000</td>\n",
       "      <td>0.000</td>\n",
       "      <td>8.547</td>\n",
       "      <td>32.904</td>\n",
       "      <td>88.933</td>\n",
       "    </tr>\n",
       "    <tr>\n",
       "      <th>17</th>\n",
       "      <td>1.275</td>\n",
       "      <td>40.0</td>\n",
       "      <td>130.0</td>\n",
       "      <td>0.517</td>\n",
       "      <td>11.132</td>\n",
       "      <td>0.000</td>\n",
       "      <td>8.597</td>\n",
       "      <td>33.486</td>\n",
       "      <td>91.197</td>\n",
       "    </tr>\n",
       "    <tr>\n",
       "      <th>18</th>\n",
       "      <td>1.275</td>\n",
       "      <td>42.5</td>\n",
       "      <td>130.0</td>\n",
       "      <td>0.691</td>\n",
       "      <td>12.811</td>\n",
       "      <td>0.000</td>\n",
       "      <td>8.683</td>\n",
       "      <td>32.976</td>\n",
       "      <td>90.396</td>\n",
       "    </tr>\n",
       "    <tr>\n",
       "      <th>19</th>\n",
       "      <td>1.275</td>\n",
       "      <td>45.0</td>\n",
       "      <td>130.0</td>\n",
       "      <td>0.933</td>\n",
       "      <td>14.095</td>\n",
       "      <td>0.000</td>\n",
       "      <td>8.755</td>\n",
       "      <td>32.613</td>\n",
       "      <td>89.616</td>\n",
       "    </tr>\n",
       "    <tr>\n",
       "      <th>20</th>\n",
       "      <td>1.300</td>\n",
       "      <td>35.0</td>\n",
       "      <td>120.0</td>\n",
       "      <td>0.972</td>\n",
       "      <td>0.000</td>\n",
       "      <td>0.000</td>\n",
       "      <td>8.916</td>\n",
       "      <td>34.359</td>\n",
       "      <td>89.496</td>\n",
       "    </tr>\n",
       "    <tr>\n",
       "      <th>21</th>\n",
       "      <td>1.300</td>\n",
       "      <td>37.5</td>\n",
       "      <td>130.0</td>\n",
       "      <td>0.495</td>\n",
       "      <td>6.933</td>\n",
       "      <td>0.000</td>\n",
       "      <td>8.445</td>\n",
       "      <td>34.384</td>\n",
       "      <td>92.139</td>\n",
       "    </tr>\n",
       "    <tr>\n",
       "      <th>22</th>\n",
       "      <td>1.300</td>\n",
       "      <td>40.0</td>\n",
       "      <td>130.0</td>\n",
       "      <td>0.627</td>\n",
       "      <td>9.285</td>\n",
       "      <td>0.000</td>\n",
       "      <td>8.588</td>\n",
       "      <td>33.825</td>\n",
       "      <td>91.489</td>\n",
       "    </tr>\n",
       "    <tr>\n",
       "      <th>23</th>\n",
       "      <td>1.300</td>\n",
       "      <td>42.5</td>\n",
       "      <td>130.0</td>\n",
       "      <td>0.809</td>\n",
       "      <td>11.055</td>\n",
       "      <td>0.000</td>\n",
       "      <td>8.678</td>\n",
       "      <td>33.361</td>\n",
       "      <td>90.755</td>\n",
       "    </tr>\n",
       "    <tr>\n",
       "      <th>24</th>\n",
       "      <td>1.300</td>\n",
       "      <td>45.0</td>\n",
       "      <td>140.0</td>\n",
       "      <td>0.709</td>\n",
       "      <td>29.807</td>\n",
       "      <td>1.427</td>\n",
       "      <td>9.908</td>\n",
       "      <td>35.313</td>\n",
       "      <td>92.872</td>\n",
       "    </tr>\n",
       "  </tbody>\n",
       "</table>\n",
       "</div>"
      ],
      "text/plain": [
       "    B_max[T]  F_M[%]  R_s[mm]    K[]  alpha_II_1  alpha_II_2  alpha_IV_1  \\\n",
       "0      1.200    35.0    120.0  0.440       0.000       0.000       8.213   \n",
       "1      1.200    37.5    120.0  0.521       0.000       0.000       7.982   \n",
       "2      1.200    40.0    120.0  0.648       0.000       0.000       7.795   \n",
       "3      1.200    42.5    120.0  0.824       0.000       0.000       7.649   \n",
       "4      1.200    45.0    130.0  0.630      18.424       1.819       8.892   \n",
       "5      1.225    35.0    120.0  0.559       0.000       0.000       8.431   \n",
       "6      1.225    37.5    120.0  0.648       0.000       0.000       8.200   \n",
       "7      1.225    40.0    120.0  0.783       0.000       0.000       8.010   \n",
       "8      1.225    42.5    120.0  0.966       0.000       0.000       7.860   \n",
       "9      1.225    45.0    130.0  0.718      17.478       0.000       8.832   \n",
       "10     1.250    35.0    120.0  0.688       0.000       0.000       8.618   \n",
       "11     1.250    37.5    120.0  0.785       0.000       0.000       8.387   \n",
       "12     1.250    40.0    120.0  0.928       0.000       0.000       8.195   \n",
       "13     1.250    42.5    130.0  0.584      14.557       0.000       8.698   \n",
       "14     1.250    45.0    130.0  0.820      15.832       0.000       8.784   \n",
       "15     1.275    35.0    120.0  0.826       0.000       0.000       8.778   \n",
       "16     1.275    37.5    120.0  0.931       0.000       0.000       8.547   \n",
       "17     1.275    40.0    130.0  0.517      11.132       0.000       8.597   \n",
       "18     1.275    42.5    130.0  0.691      12.811       0.000       8.683   \n",
       "19     1.275    45.0    130.0  0.933      14.095       0.000       8.755   \n",
       "20     1.300    35.0    120.0  0.972       0.000       0.000       8.916   \n",
       "21     1.300    37.5    130.0  0.495       6.933       0.000       8.445   \n",
       "22     1.300    40.0    130.0  0.627       9.285       0.000       8.588   \n",
       "23     1.300    42.5    130.0  0.809      11.055       0.000       8.678   \n",
       "24     1.300    45.0    140.0  0.709      29.807       1.427       9.908   \n",
       "\n",
       "    alpha_IV_2  alpha_IV_3  \n",
       "0       32.736      88.701  \n",
       "1       31.364      88.251  \n",
       "2       30.266      87.567  \n",
       "3       29.423      86.802  \n",
       "4       30.876      87.844  \n",
       "5       33.251      88.958  \n",
       "6       31.966      88.522  \n",
       "7       30.933      87.869  \n",
       "8       30.131      87.148  \n",
       "9       31.486      88.448  \n",
       "10      33.680      89.171  \n",
       "11      32.474      88.744  \n",
       "12      31.493      88.124  \n",
       "13      32.504      89.952  \n",
       "14      32.123      89.106  \n",
       "15      34.045      89.346  \n",
       "16      32.904      88.933  \n",
       "17      33.486      91.197  \n",
       "18      32.976      90.396  \n",
       "19      32.613      89.616  \n",
       "20      34.359      89.496  \n",
       "21      34.384      92.139  \n",
       "22      33.825      91.489  \n",
       "23      33.361      90.755  \n",
       "24      35.313      92.872  "
      ]
     },
     "execution_count": 14,
     "metadata": {},
     "output_type": "execute_result"
    }
   ],
   "source": [
    "map_table = pd.read_csv(filename,sep='\\t',skiprows=20,names=column_names,header=0)\n",
    "map_table"
   ]
  },
  {
   "cell_type": "code",
   "execution_count": 15,
   "metadata": {
    "collapsed": true
   },
   "outputs": [],
   "source": [
    "B_max = map_table[\"B_max[T]\"]"
   ]
  },
  {
   "cell_type": "code",
   "execution_count": 16,
   "metadata": {},
   "outputs": [
    {
     "data": {
      "text/plain": [
       "0     1.200\n",
       "1     1.200\n",
       "2     1.200\n",
       "3     1.200\n",
       "4     1.200\n",
       "5     1.225\n",
       "6     1.225\n",
       "7     1.225\n",
       "8     1.225\n",
       "9     1.225\n",
       "10    1.250\n",
       "11    1.250\n",
       "12    1.250\n",
       "13    1.250\n",
       "14    1.250\n",
       "15    1.275\n",
       "16    1.275\n",
       "17    1.275\n",
       "18    1.275\n",
       "19    1.275\n",
       "20    1.300\n",
       "21    1.300\n",
       "22    1.300\n",
       "23    1.300\n",
       "24    1.300\n",
       "Name: B_max[T], dtype: float64"
      ]
     },
     "execution_count": 16,
     "metadata": {},
     "output_type": "execute_result"
    }
   ],
   "source": [
    "B_max"
   ]
  },
  {
   "cell_type": "code",
   "execution_count": 17,
   "metadata": {
    "collapsed": true
   },
   "outputs": [],
   "source": [
    "F_M = map_table[\"F_M[%]\"]"
   ]
  },
  {
   "cell_type": "code",
   "execution_count": 18,
   "metadata": {
    "collapsed": true
   },
   "outputs": [],
   "source": [
    "R_s = map_table[\"R_s[mm]\"]"
   ]
  }
 ],
 "metadata": {
  "anaconda-cloud": {},
  "kernelspec": {
   "display_name": "Python 3",
   "language": "python",
   "name": "python3"
  },
  "language_info": {
   "codemirror_mode": {
    "name": "ipython",
    "version": 3
   },
   "file_extension": ".py",
   "mimetype": "text/x-python",
   "name": "python",
   "nbconvert_exporter": "python",
   "pygments_lexer": "ipython3",
   "version": "3.6.1"
  }
 },
 "nbformat": 4,
 "nbformat_minor": 1
}
