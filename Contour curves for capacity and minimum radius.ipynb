{
 "cells": [
  {
   "cell_type": "code",
   "execution_count": 1,
   "metadata": {
    "collapsed": false
   },
   "outputs": [
    {
     "data": {
      "application/javascript": [
       "IPython.OutputArea.auto_scroll_threshold = 9999;"
      ],
      "text/plain": [
       "<IPython.core.display.Javascript object>"
      ]
     },
     "metadata": {},
     "output_type": "display_data"
    }
   ],
   "source": [
    "%%javascript\n",
    "IPython.OutputArea.auto_scroll_threshold = 9999;"
   ]
  },
  {
   "cell_type": "code",
   "execution_count": 2,
   "metadata": {
    "collapsed": false
   },
   "outputs": [],
   "source": [
    "from pathlib import Path\n",
    "\n",
    "import numpy as np\n",
    "import pandas as pd\n",
    "from pandas import DataFrame, Series\n",
    "import matplotlib.pyplot as plt\n",
    "from scipy import interpolate\n",
    "\n",
    "import nemplot\n",
    "from nemplot import nemplot_parameters\n",
    "import regsim\n",
    "\n"
   ]
  },
  {
   "cell_type": "code",
   "execution_count": 3,
   "metadata": {
    "collapsed": true
   },
   "outputs": [],
   "source": [
    "B_LABEL = r'$B\\ped{h}\\,[\\si{\\tesla}]$'\n",
    "Q_LABEL = r'$\\qc\\,[\\si{\\watt}]$'\n",
    "COP_LABEL = r'$\\cop$'\n",
    "PHI_LABEL = r'$\\Phi$'\n",
    "H_REG_LABEL = r'$H\\,[\\si{\\milli\\meter}]$'\n",
    "F_B_LABEL = r'$F\\ped{B}\\,[\\si{\\percent}]$'\n",
    "F_M_LABEL = r'$F\\ped{M}\\,[\\si{\\percent}]$'\n",
    "H_MAX_LABEL = r'$\\mu_0 H\\ped{max}\\,[\\si{\\tesla}]$'\n",
    "\n",
    "N_QC_LEVELS = 10\n",
    "\n",
    "R_S_MIN = 90\n",
    "R_S_MAX = 120\n",
    "R_S_STEP = 5\n",
    "\n",
    "Q_C_CRITICAL = 72\n",
    "\n",
    "B_MIN = 1.00\n",
    "B_MAX = 1.20\n",
    "\n",
    "# MAGNET DATA\n",
    "R_O = 40 # [mm]\n",
    "PHI_S_IV = 45 # [degree]\n",
    "\n",
    "DICT_LINES = 19\n",
    "\n",
    "QC_MAPS_FILE = \"Slope - Perdas - 35K - Varios H - Parte 2.txt\""
   ]
  },
  {
   "cell_type": "code",
   "execution_count": 4,
   "metadata": {
    "collapsed": true
   },
   "outputs": [],
   "source": [
    "FIGSIZE_CM = 15\n",
    "FONTSIZE = 1.25*FIGSIZE_CM\n",
    "\n",
    "nemplot.set_latex_font(\"Times New Roman\")\n",
    "nemplot.set_figsize_cm(FIGSIZE_CM)\n",
    "nemplot.set_fontsize(FONTSIZE)"
   ]
  },
  {
   "cell_type": "code",
   "execution_count": 5,
   "metadata": {
    "collapsed": true
   },
   "outputs": [],
   "source": [
    "def filter_span_to_20K(table):\n",
    "    \"\"\"\n",
    "    Interpolates the given DataFrame 'table' and return a pandas DataFrame, \n",
    "    where all the rows have dT_span = 20 K, \"\"\"\n",
    "    \n",
    "    DT = 20\n",
    "    \n",
    "    Teste_vector = table_slope_2D['Teste'].unique()\n",
    "    table = DataFrame()\n",
    "\n",
    "    sim_row = {}\n",
    "    \n",
    "    i_sim = 1\n",
    "    for teste in Teste_vector:\n",
    "        \n",
    "        table_teste = regsim.filter_table_from_column(table,'Teste',teste)\n",
    "\n",
    "        f_Qc = interpolate.interp1d(table_teste['Tspan [K]'],table_teste['Qc[W]'], fill_value='extrapolate')\n",
    "        f_COP = interpolate.interp1d(table_teste['Tspan [K]'],table_teste['COP[-]'], fill_value='extrapolate')\n",
    "\n",
    "        H = table_teste['H[mm]'].values[0]\n",
    "        Hmax = table_teste['Hmax[T]'].values[0]\n",
    "\n",
    "        sim_row[\"Teste\"] = teste\n",
    "        sim_row[\"H[mm]\"] = H\n",
    "        sim_row[\"Hmax[T]\"] = Hmax\n",
    "        sim_row[\"Qc[W]\"] = f_Qc(DT)\n",
    "        sim_row[\"COP[-]\"] = f_COP(DT)\n",
    "\n",
    "        sim_row_df = DataFrame(sim_row,index=[i_sim,])\n",
    "        sim_row_df.index.name = \"Case\"\n",
    "        table = pd.concat([table,sim_row_df])\n",
    "        i_sim = i_sim + 1\n",
    "                \n",
    "    return table"
   ]
  },
  {
   "cell_type": "code",
   "execution_count": 6,
   "metadata": {
    "collapsed": true
   },
   "outputs": [],
   "source": [
    "# Fixed parameters\n",
    "\n",
    "FIXED_PARAMETERS_AMR = {\n",
    "    \"D_p[m]\": 0.35e-3,\n",
    "    \"L[m]\": 85e-3,\n",
    "    \"W[m]\": 30e-3,\n",
    "    \"N_r[]\": 10,\n",
    "    \"T_H[K]\": 305.5,\n",
    "    \"dT[K]\": 35,\n",
    "    \"Casing material\": \"Stainless steel\",\n",
    "    \"t_casing[m]\": 0.5e-3,\n",
    "    \"t_air[m]\": 1e-3,\n",
    "    \"N_layers[]\": 3,\n",
    "    \"T_C_layers[K]\": np.array([273,283,290]),\n",
    "    \"Length_fraction_layers[%]\": np.array([20,20,60]),\n",
    "    \"B_min[T]\": 0.05}\n",
    "\n",
    "FIXED_PARAMETERS_MAGNET = {\"R_i\": 0.015,\n",
    "                \"R_o\": 0.040,\n",
    "                \"h_fc\": 0.005,\n",
    "                \"R_e\": 0.3,\n",
    "                \"n_II\": 2,\n",
    "                \"n_IV\": 4,\n",
    "                \"phi_C_II\": 15,\n",
    "                \"mu_r_II\": 1.05,\n",
    "                \"mu_r_IV\": 1.05,\n",
    "              \"linear_iron\": 1,\n",
    "              \"mu_r_iron\": 5e3,\n",
    "             }"
   ]
  },
  {
   "cell_type": "code",
   "execution_count": 7,
   "metadata": {
    "collapsed": true
   },
   "outputs": [],
   "source": [
    "def get_Rs_map_vectors(R_o,phi_S):\n",
    "    \"\"\"\n",
    "    Return (h_gap, B_max, R_s) as arrays to be plotted with contourf,\n",
    "    from the results file for 'R_o' (in mm), selecting only the rows\n",
    "    with dividing angle 'phi_S' [deg]\n",
    "    \"\"\"\n",
    "    \n",
    "    filename = \"map_Rs_Ro_%d.txt\" %(R_o,)\n",
    "    \n",
    "    file_path = Path(filename)\n",
    "    \n",
    "    # read the parameters at the header of the file,\n",
    "    # to extract the number of segments and format the table\n",
    "    with file_path.open() as f:\n",
    "        flines = f.readlines()\n",
    "        \n",
    "    params = eval(\"\".join(flines[0:DICT_LINES]))\n",
    "    \n",
    "    n = params[\"n_II\"] + params[\"n_IV\"]\n",
    "    \n",
    "    # parse the results file\n",
    "    column_names = [\"phi_S[deg]\",\n",
    "                   \"h_gap[mm]\",\n",
    "                   \"B_max[T]\",\n",
    "                    \"R_s[mm]\",\n",
    "                   \"K[]\"] \n",
    "    \n",
    "    map_table = pd.read_csv(filename,sep='\\t',skiprows=DICT_LINES,names=column_names,header=0)\n",
    "    \n",
    "    map_table = regsim.filter_table_from_column(map_table,'phi_S[deg]',phi_S)\n",
    "    \n",
    "    # tip to use pivot from\n",
    "    # https://stackoverflow.com/questions/24032282/create-contour-plot-from-pandas-groupby-dataframe\n",
    "    mp = map_table.pivot('B_max[T]','h_gap[mm]','R_s[mm]')\n",
    "    \n",
    "    X=mp.columns.values\n",
    "    Y=mp.index.values\n",
    "    R_s=mp.values\n",
    "    h_gap, B_max =np.meshgrid(X, Y)\n",
    "    \n",
    "    return (h_gap,B_max,R_s)"
   ]
  },
  {
   "cell_type": "code",
   "execution_count": 8,
   "metadata": {
    "collapsed": true
   },
   "outputs": [],
   "source": [
    "(h_gap,B_max,R_s) = get_Rs_map_vectors(40,45)"
   ]
  },
  {
   "cell_type": "code",
   "execution_count": 9,
   "metadata": {
    "collapsed": false
   },
   "outputs": [
    {
     "data": {
      "text/plain": [
       "array([[  90.,   90.,   90.,   95.,   95.,   95.,  100.,  100.,  105.,\n",
       "         110.,  110.],\n",
       "       [  90.,   90.,   90.,   95.,   95.,   95.,  100.,  105.,  105.,\n",
       "         110.,  110.],\n",
       "       [  90.,   90.,   90.,   95.,   95.,  100.,  100.,  105.,  105.,\n",
       "         110.,  115.],\n",
       "       [  90.,   90.,   90.,   95.,   95.,  100.,  100.,  105.,  105.,\n",
       "         110.,  115.],\n",
       "       [  90.,   90.,   90.,   95.,  100.,  100.,  100.,  105.,  110.,\n",
       "         110.,  115.],\n",
       "       [  90.,   90.,   95.,   95.,  100.,  100.,  105.,  105.,  110.,\n",
       "         110.,  115.],\n",
       "       [  90.,   90.,   95.,   95.,  100.,  100.,  105.,  105.,  110.,\n",
       "         115.,  115.],\n",
       "       [  90.,   95.,   95.,  100.,  100.,  100.,  105.,  110.,  110.,\n",
       "         115.,  120.],\n",
       "       [  90.,   95.,   95.,  100.,  100.,  105.,  105.,  110.,  110.,\n",
       "         115.,  120.],\n",
       "       [  90.,   95.,   95.,  100.,  100.,  105.,  105.,  110.,  115.,\n",
       "         115.,  120.],\n",
       "       [  95.,   95.,   95.,  100.,  105.,  105.,  110.,  110.,  115.,\n",
       "         115.,  120.],\n",
       "       [  95.,   95.,  100.,  100.,  105.,  105.,  110.,  110.,  115.,\n",
       "         120.,  120.],\n",
       "       [  95.,   95.,  100.,  100.,  105.,  105.,  110.,  115.,  115.,\n",
       "         120.,  125.],\n",
       "       [  95.,  100.,  100.,  100.,  105.,  110.,  110.,  115.,  115.,\n",
       "         120.,  125.],\n",
       "       [  95.,  100.,  100.,  105.,  105.,  110.,  110.,  115.,  120.,\n",
       "         120.,  125.],\n",
       "       [  95.,  100.,  100.,  105.,  110.,  110.,  110.,  115.,  120.,\n",
       "         125.,  130.],\n",
       "       [  95.,  100.,  105.,  105.,  110.,  110.,  115.,  115.,  120.,\n",
       "         125.,  130.],\n",
       "       [ 100.,  100.,  105.,  105.,  110.,  110.,  115.,  120.,  120.,\n",
       "         125.,  130.],\n",
       "       [ 100.,  105.,  105.,  110.,  110.,  115.,  115.,  120.,  125.,\n",
       "         125.,  130.],\n",
       "       [ 125.,  125.,  125.,  125.,  125.,  125.,  125.,  125.,  125.,\n",
       "         130.,  135.],\n",
       "       [ 125.,  125.,  125.,  125.,  125.,  125.,  125.,  125.,  125.,\n",
       "         130.,  135.],\n",
       "       [ 125.,  125.,  125.,  125.,  125.,  125.,  125.,  125.,  125.,\n",
       "         130.,  135.]])"
      ]
     },
     "execution_count": 9,
     "metadata": {},
     "output_type": "execute_result"
    }
   ],
   "source": [
    "R_s"
   ]
  },
  {
   "cell_type": "code",
   "execution_count": 10,
   "metadata": {
    "collapsed": false
   },
   "outputs": [],
   "source": [
    "def plot_Qc_and_Rs_contour():    \n",
    "    \n",
    "    table_Qc = pd.read_csv(QC_MAPS_FILE,sep='\\t')\n",
    "\n",
    "    HMax_vector = table_Qc['Hmax[T]'].unique()\n",
    "    H_reg_vector = table_Qc['H[mm]'].unique()\n",
    "\n",
    "    Qc_matrix = np.zeros((len(HMax_vector),len(H_reg_vector)))\n",
    "    COP_matrix = Qc_matrix.copy()\n",
    "    \n",
    "    fig_list = []\n",
    "    table_list = []\n",
    "    \n",
    "    fig_Qc, ax_Qc = nemplot.create_plot(title='',\n",
    "                                        xlabel=H_REG_LABEL,\n",
    "                                        ylabel=H_MAX_LABEL) \n",
    "\n",
    "    Qc_vector = table_Qc['Qc[W]'].values\n",
    "    COP_vector = table_Qc['COP[-]'].values\n",
    "    \n",
    "    #transformando o vetor Qc em matriz\n",
    "    cont = 0\n",
    "    for i in range(len(H_reg_vector)):\n",
    "        for j in range(len(HMax_vector)):                            \n",
    "            Qc_matrix[j,i] = Qc_vector[cont]\n",
    "            COP_matrix[j,i] = COP_vector[cont]\n",
    "            cont += 1\n",
    "    \n",
    "    H_reg_grid,B_max_grid = np.meshgrid(H_reg_vector,HMax_vector)\n",
    "    \n",
    "    Q_c_min = np.min(Qc_matrix)\n",
    "    Q_c_max = np.max(Qc_matrix)\n",
    "    \n",
    "    # build the Q_c_levels by partinioning the range below and above the critical value,\n",
    "    # making sure it is included in the list\n",
    "    Q_c_levels = np.append(np.linspace(Q_c_min,Q_C_CRITICAL,int(N_QC_LEVELS/2),endpoint=False),\n",
    "                           np.linspace(Q_C_CRITICAL,Q_c_max,int(N_QC_LEVELS/2)))\n",
    "    \n",
    "    p_Qc = ax_Qc.contour(H_reg_grid,B_max_grid,Qc_matrix,Q_c_levels,colors='b')\n",
    "    ax_Qc.clabel(p_Qc,fmt=\"%d\",fontsize=0.9*nemplot_parameters[\"FONTSIZE\"])\n",
    "    \n",
    "    # fill the contour between the critical and the maximum value of cooling capacity\n",
    "    p_Qc_fill = ax_Qc.contourf(H_reg_grid,\n",
    "                               B_max_grid,\n",
    "                               Qc_matrix,\n",
    "                               levels=[Q_C_CRITICAL,Q_c_max,],\n",
    "                              cmap='Blues')\n",
    "    \n",
    "    # load the magnet data\n",
    "    h_gap_magnet,B_max_magnet,R_s_magnet = get_Rs_map_vectors(R_O,PHI_S_IV)\n",
    "    H_reg_magnet = h_gap_magnet - 2e3*(FIXED_PARAMETERS_AMR[\"t_casing[m]\"] + FIXED_PARAMETERS_AMR[\"t_air[m]\"])\n",
    "    p_Rs = ax_Qc.contour(H_reg_magnet,\n",
    "                         B_max_magnet,\n",
    "                         R_s_magnet,\n",
    "                         levels=np.arange(R_S_MIN,R_S_MAX + R_S_STEP,R_S_STEP),\n",
    "                         colors='r')\n",
    "    ax_Qc.clabel(p_Rs,\n",
    "                 fmt=\"%d\",\n",
    "                 fontsize=0.9*nemplot_parameters[\"FONTSIZE\"],\n",
    "                rightside_up=False)\n",
    "    \n",
    "    \n",
    "    H_reg_min = np.min(H_reg_magnet)\n",
    "    H_reg_max = np.max(H_reg_magnet)\n",
    "    dH_reg = 2\n",
    "    \n",
    "    H_reg_ticks = np.arange(H_reg_min, H_reg_max + dH_reg, dH_reg)\n",
    "    \n",
    "    ax_Qc.set_xlim(np.min(H_reg_magnet),np.max(H_reg_magnet))\n",
    "    ax_Qc.set_xticks(H_reg_ticks)\n",
    "    nemplot.refine_xticks(ax_Qc,5)\n",
    "    \n",
    "    B_max_min = B_MIN\n",
    "    B_max_max = B_MAX\n",
    "    dB_max = 0.05\n",
    "    \n",
    "    ax_Qc.set_ylim(B_MIN,B_MAX)\n",
    "    B_max_ticks = np.arange(B_max_min,B_max_max + dB_max, dB_max)\n",
    "    ax_Qc.set_yticks(B_max_ticks)\n",
    "    nemplot.refine_yticks(ax_Qc,5)\n",
    "    \n",
    "    fig_list.append(fig_Qc)\n",
    "\n",
    "    \n",
    "    nemplot.save_figure(fig_Qc,\n",
    "                        name='contour_Qc_Rs_W30')\n",
    "\n",
    "    return fig_list, table_list"
   ]
  },
  {
   "cell_type": "code",
   "execution_count": 11,
   "metadata": {
    "collapsed": false,
    "scrolled": true
   },
   "outputs": [
    {
     "data": {
      "image/png": "[encoded data removed]",
      "text/plain": [
       "<matplotlib.figure.Figure at 0x23db3874c18>"
      ]
     },
     "metadata": {},
     "output_type": "display_data"
    }
   ],
   "source": [
    "%matplotlib inline\n",
    "\n",
    "fig_list_slope2D_35K = plot_Qc_and_Rs_contour()"
   ]
  },
  {
   "cell_type": "code",
   "execution_count": null,
   "metadata": {
    "collapsed": true
   },
   "outputs": [],
   "source": []
  }
 ],
 "metadata": {
  "kernelspec": {
   "display_name": "Python 3",
   "language": "python",
   "name": "python3"
  },
  "language_info": {
   "codemirror_mode": {
    "name": "ipython",
    "version": 3
   },
   "file_extension": ".py",
   "mimetype": "text/x-python",
   "name": "python",
   "nbconvert_exporter": "python",
   "pygments_lexer": "ipython3",
   "version": "3.6.2"
  }
 },
 "nbformat": 4,
 "nbformat_minor": 2
}
