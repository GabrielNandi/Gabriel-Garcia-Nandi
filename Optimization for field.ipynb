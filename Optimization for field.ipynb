{
 "cells": [
  {
   "cell_type": "code",
   "execution_count": 1,
   "metadata": {},
   "outputs": [],
   "source": [
    "from pathlib import Path\n",
    "import os\n",
    "import matplotlib\n",
    "import matplotlib.pyplot as plt\n",
    "import numpy as np\n",
    "from scipy.optimize import minimize, differential_evolution, basinhopping\n",
    "from pandas import Series, DataFrame\n",
    "import teslamax\n",
    "from teslamax import TeslaMaxGeometry, TeslaMaxPreDesign, TeslaMaxModel"
   ]
  },
  {
   "cell_type": "code",
   "execution_count": 2,
   "metadata": {},
   "outputs": [],
   "source": [
    "K_CRITICAL = 0.002\n",
    "\n",
    "def estimate_fitness_B(B, params):\n",
    "    \"\"\"Estimates how approximate is 'B' to the maximum field\n",
    "    that can be achieved by the geometry represented by 'params'\n",
    "    \"\"\"\n",
    "    \n",
    "    \n",
    "    tmpd = TeslaMaxPreDesign(params)\n",
    "    \n",
    "    target_function = teslamax.calculate_ramp_profile\n",
    "    \n",
    "    B_low = 0.0\n",
    "\n",
    "    B_high = B\n",
    "    field_fraction = 0.35\n",
    "    target_args = (B_high,B_low,field_fraction)\n",
    "\n",
    "\n",
    "    alpha_B_rem_g = tmpd.get_optimal_remanence_angles(target_function,target_args)\n",
    "    K = tmpd.calculate_functional_target(alpha_B_rem_g,\n",
    "                                                    target_function,\n",
    "                                                    target_args)\n",
    "    \n",
    "    return K-K_CRITICAL\n",
    "\n"
   ]
  },
  {
   "cell_type": "code",
   "execution_count": 3,
   "metadata": {},
   "outputs": [],
   "source": [
    "parameters = {\"R_i\": 0.030,\n",
    "        \"R_o\": 0.19471,\n",
    "        \"h_fc\": 0.025,\n",
    "        \"R_g\": 209.75e-3,\n",
    "        \"R_s\": 250e-3,\n",
    "        \"R_e\": 0.7,\n",
    "        \"n_II\": 5,\n",
    "        \"n_IV\": 5,\n",
    "        \"phi_C_II\": 0,\n",
    "        \"phi_S_II\": 60,\n",
    "        \"phi_S_IV\": 60,\n",
    "        \"mu_r_II\": 1.05,\n",
    "        \"mu_r_IV\": 1.05,\n",
    "        \"linear_iron\": 1,\n",
    "        \"mu_r_iron\": 5e2,\n",
    "             }\n",
    "\n",
    "n_II = parameters[\"n_II\"]\n",
    "n_IV = parameters[\"n_IV\"]\n",
    "\n",
    "n = n_II + n_IV\n",
    "\n",
    "B_rem = 1.26\n",
    "\n",
    "# expand parameters to include remanence magnitudes for each segment\n",
    "parameters = teslamax.expand_parameters_from_remanence_array(B_rem*np.ones(n), \n",
    "                                                        parameters, \n",
    "                                                        \"B_rem\")"
   ]
  },
  {
   "cell_type": "code",
   "execution_count": 4,
   "metadata": {},
   "outputs": [
    {
     "name": "stdout",
     "output_type": "stream",
     "text": [
      "Warning: Desired error not necessarily achieved due to precision loss.\n",
      "         Current function value: 0.021953\n",
      "         Iterations: 2\n",
      "         Function evaluations: 68\n",
      "         Gradient evaluations: 19\n",
      "Wall time: 12h 30min 17s\n"
     ]
    }
   ],
   "source": [
    "%%time\n",
    "\n",
    "B_0 = 2.0\n",
    "\n",
    "results = minimize(estimate_fitness_B,B_0,(parameters,),options={'disp':True})"
   ]
  },
  {
   "cell_type": "code",
   "execution_count": 5,
   "metadata": {},
   "outputs": [
    {
     "data": {
      "text/plain": [
       "      fun: 0.021953067564460124\n",
       " hess_inv: array([[1.92066876e-08]])\n",
       "      jac: array([-15.03129569])\n",
       "  message: 'Desired error not necessarily achieved due to precision loss.'\n",
       "     nfev: 68\n",
       "      nit: 2\n",
       "     njev: 19\n",
       "   status: 2\n",
       "  success: False\n",
       "        x: array([0.98999795])"
      ]
     },
     "execution_count": 5,
     "metadata": {},
     "output_type": "execute_result"
    }
   ],
   "source": [
    "results"
   ]
  },
  {
   "cell_type": "code",
   "execution_count": 6,
   "metadata": {
    "collapsed": true
   },
   "outputs": [],
   "source": [
    "def optimize_ramp(B_high,field_fraction,params):\n",
    "    \"\"\"\n",
    "    Run the TeslaMax optimization procedure, trying to match the profile\n",
    "    to a ramp profile between 0 and 'B_high' with 'field_fraction', using the\n",
    "    parameters in the dictionary 'params'.\n",
    "    \n",
    "    Return a TeslaMaxModel object, representing the optimized magnet,\n",
    "    and the value of the cost function. The TeslaMaxModel object is already populated with simulation results.\n",
    "    \n",
    "    The simulation results are stored in directories inside \"teslamax-play\".\n",
    "    \"\"\"\n",
    "    \n",
    "    tmpd = TeslaMaxPreDesign(params)\n",
    "    \n",
    "    target_function = teslamax.calculate_ramp_profile\n",
    "    \n",
    "    B_low = 0.0\n",
    "    \n",
    "    target_args = (B_high,B_low,field_fraction)\n",
    "\n",
    "    alpha_B_rem_g = tmpd.get_optimal_remanence_angles(target_function,target_args)\n",
    "    cost_function = tmpd.calculate_functional_target(alpha_B_rem_g,\n",
    "                                                    target_function,\n",
    "                                                    target_args)\n",
    "    \n",
    "    sdir = RAMP_RESULTS_DIR_FMT %(B_high*1e3, field_fraction*1e2) \n",
    "    \n",
    "    teslamax_playground = str(TESLAMAX_PATH / PLAYGROUND_DIR / sdir )\n",
    "    \n",
    "    tmm_g = TeslaMaxModel(tmpd,\n",
    "                          alpha_B_rem_g,\n",
    "                          path=teslamax_playground)\n",
    "    tmm_g.run()\n",
    "    \n",
    "    return (tmm_g,cost_function)\n",
    "    "
   ]
  },
  {
   "cell_type": "code",
   "execution_count": 7,
   "metadata": {
    "collapsed": true
   },
   "outputs": [],
   "source": [
    "import nemplot\n",
    "from nemplot import nemplot_parameters"
   ]
  },
  {
   "cell_type": "code",
   "execution_count": 8,
   "metadata": {
    "collapsed": true
   },
   "outputs": [],
   "source": [
    "nemplot.set_dpi(1500)\n",
    "nemplot.set_fontsize(22)\n",
    "nemplot.set_latex_font(\"Palatino\")"
   ]
  },
  {
   "cell_type": "code",
   "execution_count": 9,
   "metadata": {
    "collapsed": true
   },
   "outputs": [],
   "source": [
    "def refine_list(original_list, factor):\n",
    "    \"\"\"\n",
    "    Return a new list, inserting more elements between the number in 'original_list'.\n",
    "    \n",
    "    Assumes 'original_list' is evenly-spaced. The spacing between each element is divided by 'factor'\n",
    "    \n",
    "    >>>refine_list([1,2,3],factor=2)\n",
    "    [1.0,1.5,2.0,2.5,3.0]\n",
    "    \"\"\"\n",
    "    \n",
    "    # calculate the original spacing between elements and refine it\n",
    "    d = original_list[1] - original_list[0]\n",
    "    d_refined = d / factor\n",
    "        \n",
    "    max_value = max(original_list)\n",
    "    min_value = min(original_list)\n",
    "    \n",
    "    # the number of elements is the number of divisions between the limit values, plus one aditional\n",
    "    n_refined = ((max_value - min_value) / d_refined) + 1\n",
    "        \n",
    "    return np.linspace(min_value,max_value,int(n_refined))"
   ]
  },
  {
   "cell_type": "code",
   "execution_count": 10,
   "metadata": {
    "collapsed": true
   },
   "outputs": [],
   "source": [
    "def plot_optimized_ramp(B_high,field_fraction):\n",
    "    \"\"\"\n",
    "    Plot a comparison between the magnetic profile from the TeslaMax simulations\n",
    "    and a ramp profile between 0 and 'B_high', with 'field_fraction'. The TeslaMax\n",
    "    results are read from the appropriate files inside PLAYGROUND_DIR.\n",
    "    \n",
    "    Save the figure with the appropriate naming inside the 'figures' directory.\n",
    "    \"\"\"\n",
    " \n",
    "\n",
    "    sdir = RAMP_RESULTS_DIR_FMT %(B_high*1e3, field_fraction*1e2) \n",
    "    \n",
    "    teslamax_playground = TESLAMAX_PATH / PLAYGROUND_DIR / sdir\n",
    "    \n",
    "    profile_file = teslamax_playground / teslamax.MAGNETIC_PROFILE_FILENAME\n",
    "    \n",
    "    profile_fig_g, profile_axes_g = nemplot.create_plot(xlabel=r'$\\phi [\\si{\\degree}]$',\n",
    "                                                       ylabel=r'$B [\\si{\\tesla}]$')\n",
    "    \n",
    "    phi_vector_g, B_vector_g = teslamax.read_comsol_profile_data(str(profile_file))\n",
    "    \n",
    "    lw = 2.0\n",
    "    profile_axes_g.plot(phi_vector_g,B_vector_g,linewidth=lw)\n",
    "    profile_axes_g.set_xlim(0,np.max(phi_vector_g))\n",
    "    profile_axes_g.set_xticks(np.linspace(0,np.max(phi_vector_g),9))\n",
    "    profile_axes_g.grid(True)\n",
    "    profile_axes_g.set_ylim(0,B_HIGH_LIMIT)\n",
    "    \n",
    "    ticks = profile_axes_g.get_yticks()\n",
    "    profile_axes_g.set_yticks(refine_list(ticks,4),minor=True)\n",
    "        \n",
    "    #profile_axes_g.set_yticks(np.arange(0,B_HIGH_LIMIT+0.2,0.2),minor=True)\n",
    "    \n",
    "    B_low = 0.0\n",
    "    B_inst_vector = teslamax.calculate_ramp_profile(phi_vector_g,B_high,B_low,field_fraction)\n",
    "    profile_axes_g.plot(phi_vector_g,B_inst_vector,'--',linewidth=lw)\n",
    "\n",
    "    nemplot.save_figure(profile_fig_g,\"profile_optimized_B_%d_FM_%d\" %(B_high*1000,field_fraction*100))"
   ]
  },
  {
   "cell_type": "code",
   "execution_count": 11,
   "metadata": {},
   "outputs": [
    {
     "data": {
      "text/plain": [
       "array([0.98999795])"
      ]
     },
     "execution_count": 11,
     "metadata": {},
     "output_type": "execute_result"
    }
   ],
   "source": [
    "results.x"
   ]
  },
  {
   "cell_type": "code",
   "execution_count": 14,
   "metadata": {
    "collapsed": false
   },
   "outputs": [
    {
     "name": "stdout",
     "output_type": "stream",
     "text": [
      "Value of the objective function:\n",
      "0.023954275497772494\n",
      "Wall time: 10min 58s\n"
     ]
    }
   ],
   "source": [
    "%%time\n",
    "TESLAMAX_PATH = Path('.')\n",
    "\n",
    "PLAYGROUND_DIR = \"teslamax-play\"\n",
    "RAMP_RESULTS_DIR_FMT = \"ramp_Bh_%d_FM_%d\"\n",
    "\n",
    "B_high = results.x[0]\n",
    "field_fraction = 0.35\n",
    "\n",
    "tmm_g_2, K_2 = optimize_ramp(B_high,field_fraction,parameters)\n",
    "\n",
    "print(\"Value of the objective function:\")\n",
    "print(K_2)"
   ]
  },
  {
   "cell_type": "code",
   "execution_count": 15,
   "metadata": {
    "collapsed": false
   },
   "outputs": [
    {
     "ename": "NameError",
     "evalue": "name 'B_HIGH_LIMIT' is not defined",
     "output_type": "error",
     "traceback": [
      "\u001b[1;31m---------------------------------------------------------------------------\u001b[0m",
      "\u001b[1;31mNameError\u001b[0m                                 Traceback (most recent call last)",
      "\u001b[1;32m<ipython-input-15-eca358ee6fe1>\u001b[0m in \u001b[0;36m<module>\u001b[1;34m\u001b[0m\n\u001b[0;32m      1\u001b[0m \u001b[0mget_ipython\u001b[0m\u001b[1;33m(\u001b[0m\u001b[1;33m)\u001b[0m\u001b[1;33m.\u001b[0m\u001b[0mrun_line_magic\u001b[0m\u001b[1;33m(\u001b[0m\u001b[1;34m'matplotlib'\u001b[0m\u001b[1;33m,\u001b[0m \u001b[1;34m'inline'\u001b[0m\u001b[1;33m)\u001b[0m\u001b[1;33m\u001b[0m\u001b[1;33m\u001b[0m\u001b[0m\n\u001b[0;32m      2\u001b[0m \u001b[1;33m\u001b[0m\u001b[0m\n\u001b[1;32m----> 3\u001b[1;33m \u001b[0mplot_optimized_ramp\u001b[0m\u001b[1;33m(\u001b[0m\u001b[0mB_high\u001b[0m\u001b[1;33m,\u001b[0m\u001b[0mfield_fraction\u001b[0m\u001b[1;33m)\u001b[0m\u001b[1;33m\u001b[0m\u001b[1;33m\u001b[0m\u001b[0m\n\u001b[0m",
      "\u001b[1;32m<ipython-input-10-1444f6b2cbb9>\u001b[0m in \u001b[0;36mplot_optimized_ramp\u001b[1;34m(B_high, field_fraction)\u001b[0m\n\u001b[0;32m     25\u001b[0m     \u001b[0mprofile_axes_g\u001b[0m\u001b[1;33m.\u001b[0m\u001b[0mset_xticks\u001b[0m\u001b[1;33m(\u001b[0m\u001b[0mnp\u001b[0m\u001b[1;33m.\u001b[0m\u001b[0mlinspace\u001b[0m\u001b[1;33m(\u001b[0m\u001b[1;36m0\u001b[0m\u001b[1;33m,\u001b[0m\u001b[0mnp\u001b[0m\u001b[1;33m.\u001b[0m\u001b[0mmax\u001b[0m\u001b[1;33m(\u001b[0m\u001b[0mphi_vector_g\u001b[0m\u001b[1;33m)\u001b[0m\u001b[1;33m,\u001b[0m\u001b[1;36m9\u001b[0m\u001b[1;33m)\u001b[0m\u001b[1;33m)\u001b[0m\u001b[1;33m\u001b[0m\u001b[1;33m\u001b[0m\u001b[0m\n\u001b[0;32m     26\u001b[0m     \u001b[0mprofile_axes_g\u001b[0m\u001b[1;33m.\u001b[0m\u001b[0mgrid\u001b[0m\u001b[1;33m(\u001b[0m\u001b[1;32mTrue\u001b[0m\u001b[1;33m)\u001b[0m\u001b[1;33m\u001b[0m\u001b[1;33m\u001b[0m\u001b[0m\n\u001b[1;32m---> 27\u001b[1;33m     \u001b[0mprofile_axes_g\u001b[0m\u001b[1;33m.\u001b[0m\u001b[0mset_ylim\u001b[0m\u001b[1;33m(\u001b[0m\u001b[1;36m0\u001b[0m\u001b[1;33m,\u001b[0m\u001b[0mB_HIGH_LIMIT\u001b[0m\u001b[1;33m)\u001b[0m\u001b[1;33m\u001b[0m\u001b[1;33m\u001b[0m\u001b[0m\n\u001b[0m\u001b[0;32m     28\u001b[0m \u001b[1;33m\u001b[0m\u001b[0m\n\u001b[0;32m     29\u001b[0m     \u001b[0mticks\u001b[0m \u001b[1;33m=\u001b[0m \u001b[0mprofile_axes_g\u001b[0m\u001b[1;33m.\u001b[0m\u001b[0mget_yticks\u001b[0m\u001b[1;33m(\u001b[0m\u001b[1;33m)\u001b[0m\u001b[1;33m\u001b[0m\u001b[1;33m\u001b[0m\u001b[0m\n",
      "\u001b[1;31mNameError\u001b[0m: name 'B_HIGH_LIMIT' is not defined"
     ]
    },
    {
     "name": "stderr",
     "output_type": "stream",
     "text": [
      "C:\\Users\\fabiofortkamp\\Anaconda3\\lib\\site-packages\\matplotlib\\font_manager.py:1241: UserWarning: findfont: Font family ['serif'] not found. Falling back to DejaVu Sans.\n",
      "  (prop.get_family(), self.defaultFamily[fontext]))\n"
     ]
    },
    {
     "data": {
      "image/png": "[encoded data removed]",
      "text/plain": [
       "<Figure size 566.929x566.929 with 1 Axes>"
      ]
     },
     "metadata": {
      "needs_background": "light"
     },
     "output_type": "display_data"
    }
   ],
   "source": [
    "%matplotlib inline\n",
    "\n",
    "plot_optimized_ramp(B_high,field_fraction)"
   ]
  },
  {
   "cell_type": "code",
   "execution_count": null,
   "metadata": {},
   "outputs": [],
   "source": []
  }
 ],
 "metadata": {
  "kernelspec": {
   "display_name": "Python 3",
   "language": "python",
   "name": "python3"
  },
  "language_info": {
   "codemirror_mode": {
    "name": "ipython",
    "version": 3
   },
   "file_extension": ".py",
   "mimetype": "text/x-python",
   "name": "python",
   "nbconvert_exporter": "python",
   "pygments_lexer": "ipython3",
   "version": "3.7.1"
  }
 },
 "nbformat": 4,
 "nbformat_minor": 2
}
