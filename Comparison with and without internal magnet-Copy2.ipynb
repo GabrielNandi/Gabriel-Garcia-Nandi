{
 "cells": [
  {
   "cell_type": "code",
   "execution_count": 1,
   "metadata": {},
   "outputs": [],
   "source": [
    "from pathlib import Path\n",
    "import os\n",
    "import shutil\n",
    "from datetime import datetime\n",
    "import matplotlib\n",
    "import matplotlib.pyplot as plt\n",
    "import numpy as np\n",
    "from scipy.optimize import minimize, differential_evolution, basinhopping\n",
    "from pandas import Series, DataFrame\n",
    "import teslamax\n",
    "from teslamax import TeslaMaxGeometry, TeslaMaxPreDesign, TeslaMaxModel"
   ]
  },
  {
   "cell_type": "code",
   "execution_count": 2,
   "metadata": {},
   "outputs": [],
   "source": [
    "B_HIGH_LIMIT = 1.6\n",
    "\n",
    "FIELD_FRACTION = 0.3\n",
    "\n",
    "B_REM = 1.26\n",
    "\n",
    "\n",
    "TESLAMAX_PATH = Path(\".\")\n",
    "TESLAMAX_MPH_DIR = TESLAMAX_PATH / \"java\"\n",
    "\n",
    "TESLAMAX_FILENAME = \"TeslaMax_Model\"\n",
    "TESLAMAX_FILE_EXT = \"mph\"\n",
    "\n",
    "TESLAMAX_FILE_STR = str(TESLAMAX_MPH_DIR / (TESLAMAX_FILENAME + \".\" + TESLAMAX_FILE_EXT))\n",
    "\n",
    "PLAYGROUND_DIR = \"teslamax-play\""
   ]
  },
  {
   "cell_type": "code",
   "execution_count": 3,
   "metadata": {},
   "outputs": [
    {
     "data": {
      "text/plain": [
       "'java\\\\TeslaMax_Model.mph'"
      ]
     },
     "execution_count": 3,
     "metadata": {},
     "output_type": "execute_result"
    }
   ],
   "source": [
    "TESLAMAX_FILE_STR"
   ]
  },
  {
   "cell_type": "code",
   "execution_count": 4,
   "metadata": {},
   "outputs": [],
   "source": [
    "os.chdir(TESLAMAX_PATH)"
   ]
  },
  {
   "cell_type": "code",
   "execution_count": 5,
   "metadata": {
    "scrolled": true
   },
   "outputs": [
    {
     "data": {
      "text/plain": [
       "'C:\\\\Users\\\\Luis Felipe\\\\Documents\\\\GitHub\\\\TeslaMax'"
      ]
     },
     "execution_count": 5,
     "metadata": {},
     "output_type": "execute_result"
    }
   ],
   "source": [
    "os.getcwd()"
   ]
  },
  {
   "cell_type": "markdown",
   "metadata": {},
   "source": [
    "## Optimization using Scipy"
   ]
  },
  {
   "cell_type": "code",
   "execution_count": 6,
   "metadata": {},
   "outputs": [],
   "source": [
    "def optimize_ramp(B_high,field_fraction,params,filename=None):\n",
    "    \"\"\"\n",
    "    Run the TeslaMax optimization procedure, trying to match the profile\n",
    "    to a ramp profile between 0 and 'B_high' with 'field_fraction', using the\n",
    "    parameters in the dictionary 'params'.\n",
    "    \n",
    "    Return a TeslaMaxModel object, representing the optimized magnet,\n",
    "    and the value of the cost function. The TeslaMaxModel object is already populated with simulation results.\n",
    "    \n",
    "    The simulation results are stored in directories inside PLAYGROUND_DIR.\n",
    "    The COMSOL model file is saved as 'filename' (with '.mph' extension) in TESLAMAX_MPH_DIR, \n",
    "    if provided.\n",
    "    \"\"\"\n",
    "    \n",
    "    tmpd = TeslaMaxPreDesign(params)\n",
    "    \n",
    "    target_function = teslamax.calculate_ramp_profile\n",
    "    \n",
    "    B_low = 0.0\n",
    "    \n",
    "    target_args = (B_high,B_low,field_fraction)\n",
    "\n",
    "    alpha_B_rem_g = tmpd.get_optimal_remanence_angles(target_function,target_args)\n",
    "    cost_function = tmpd.calculate_functional_target(alpha_B_rem_g,\n",
    "                                                    target_function,\n",
    "                                                    target_args)\n",
    "    \n",
    "    tstamp = datetime.now().strftime(\"%Y%m%d%H%M%S\")\n",
    "    \n",
    "    teslamax_playground = str(TESLAMAX_PATH / PLAYGROUND_DIR / tstamp  )\n",
    "    \n",
    "    tmm_g = TeslaMaxModel(tmpd,\n",
    "                          alpha_B_rem_g,\n",
    "                          path=teslamax_playground)\n",
    "    tmm_g.run()\n",
    "    \n",
    "    if filename:\n",
    "        shutil.copy(src=TESLAMAX_FILE_STR,\n",
    "                    dst=str(TESLAMAX_MPH_DIR / (filename + \".\" + TESLAMAX_FILE_EXT)))\n",
    "    \n",
    "    return (tmm_g,cost_function)\n",
    "    "
   ]
  },
  {
   "cell_type": "code",
   "execution_count": 7,
   "metadata": {},
   "outputs": [],
   "source": [
    "import nemplot\n",
    "from nemplot import nemplot_parameters"
   ]
  },
  {
   "cell_type": "code",
   "execution_count": 8,
   "metadata": {},
   "outputs": [],
   "source": [
    "nemplot.set_dpi(600)\n",
    "nemplot.set_figsize_cm(10)\n",
    "nemplot.set_fontsize(12)\n",
    "nemplot.set_latex_font(\"Times New Roman\")"
   ]
  },
  {
   "cell_type": "code",
   "execution_count": 9,
   "metadata": {},
   "outputs": [],
   "source": [
    "def refine_list(original_list, factor):\n",
    "    \"\"\"\n",
    "    Return a new list, inserting more elements between the number in 'original_list'.\n",
    "    \n",
    "    Assumes 'original_list' is evenly-spaced. The spacing between each element is divided by 'factor'\n",
    "    \n",
    "    >>>refine_list([1,2,3],factor=2)\n",
    "    [1.0,1.5,2.0,2.5,3.0]\n",
    "    \"\"\"\n",
    "    \n",
    "    # calculate the original spacing between elements and refine it\n",
    "    d = original_list[1] - original_list[0]\n",
    "    d_refined = d / factor\n",
    "        \n",
    "    max_value = max(original_list)\n",
    "    min_value = min(original_list)\n",
    "    \n",
    "    # the number of elements is the number of divisions between the limit values, plus one aditional\n",
    "    n_refined = ((max_value - min_value) / d_refined) + 1\n",
    "        \n",
    "    return np.linspace(min_value,max_value,int(n_refined))"
   ]
  },
  {
   "cell_type": "code",
   "execution_count": 10,
   "metadata": {},
   "outputs": [],
   "source": [
    "def plot_optimized_ramp_comparison_internal_magnet(B_high,field_fraction,params,H_reg,R_s,R_o):\n",
    "    \"\"\"\n",
    "    Plot a comparison between the magnetic profile from the TeslaMax simulations,\n",
    "    and a ramp profile between 0 and 'B_high', with 'field_fraction', \n",
    "    for a situation with and without the internal magnet. \n",
    "    \n",
    "    Common parameters for the case with the magnet are read from 'params', \n",
    "    and regenerator height and external radii for both magnets are provided separately \n",
    "    for comparing different cases. This function calculates the parameters \n",
    "    for the case without magnet.\n",
    "    \n",
    "    Save the figure with the appropriate naming inside the 'figures' directory.\n",
    "    Save the corresponding COMSOL models.\n",
    "    \"\"\"\n",
    "\n",
    "    params_no_magnet = params.copy()\n",
    "    params_no_magnet[\"phi_C_II\"] = 0\n",
    "    params_no_magnet[\"phi_S_II\"] = 0\n",
    "    params_no_magnet[\"n_II\"] = 0\n",
    "    \n",
    "    for p in [params,params_no_magnet]:\n",
    "        \n",
    "        p[\"H[m]\"] = H_reg\n",
    "        p[\"R_s\"] = R_s\n",
    "        p[\"R_o\"] = R_o\n",
    "        p[\"R_g\"] = R_g \n",
    "        \n",
    "        n_II = p[\"n_II\"]\n",
    "        n_IV = p[\"n_IV\"]\n",
    "            \n",
    "        n = n_II + n_IV\n",
    "        \n",
    "        # expand parameters to include remanence magnitudes for each segment\n",
    "        p.update(teslamax.expand_parameters_from_remanence_array(B_REM*np.ones(n), \n",
    "                                                        p, \n",
    "                                                        \"B_rem\"))\n",
    "    \n",
    "    params_str = \"_B_%d_H_%d_Rs_%d_Ro_%d\" %(B_high*1000,H_reg*1e3,R_s*1e3,R_o*1e3)\n",
    "    \n",
    "    tm_file_magnet = TESLAMAX_FILENAME + \"_magnet\" + params_str\n",
    "    tmm_magnet, K_magnet = optimize_ramp(B_high,field_fraction,params,tm_file_magnet)\n",
    "    \n",
    "    tm_file_no_magnet = TESLAMAX_FILENAME + \"_no_magnet\" + params_str\n",
    "    tmm_no_magnet, K_no_magnet = optimize_ramp(B_high,field_fraction,params_no_magnet,tm_file_no_magnet)\n",
    "    \n",
    "    profile_fig_g, profile_axes_g = nemplot.create_plot(xlabel=r'$\\phi [\\si{\\degree}]$',\n",
    "                                                       ylabel=r'$B [\\si{\\tesla}]$')\n",
    "    \n",
    "    phi_vector_magnet, B_vector_magnet = tmm_magnet.get_profile_data()\n",
    "    phi_vector_no_magnet, B_vector_no_magnet = tmm_no_magnet.get_profile_data()\n",
    "    \n",
    "    lw = 2.0\n",
    "    profile_axes_g.plot(phi_vector_magnet,B_vector_magnet,linewidth=lw,label=\"With magnet\")\n",
    "    profile_axes_g.plot(phi_vector_no_magnet,B_vector_no_magnet,linewidth=lw,label='No magnet')\n",
    "    \n",
    "    profile_axes_g.set_xlim(0,np.max(phi_vector_magnet))\n",
    "    profile_axes_g.set_xticks(np.linspace(0,np.max(phi_vector_magnet),9))\n",
    "    profile_axes_g.grid(True)\n",
    "    profile_axes_g.set_ylim(0,B_HIGH_LIMIT)\n",
    "    \n",
    "    ticks = profile_axes_g.get_yticks()\n",
    "    profile_axes_g.set_yticks(refine_list(ticks,4),minor=True)\n",
    "        \n",
    "    #profile_axes_g.set_yticks(np.arange(0,B_HIGH_LIMIT+0.2,0.2),minor=True)\n",
    "    \n",
    "    B_low = 0.0\n",
    "    B_target_vector = teslamax.calculate_ramp_profile(phi_vector_magnet,B_high,B_low,field_fraction)\n",
    "    profile_axes_g.plot(phi_vector_magnet,B_target_vector,'--',linewidth=lw,label=\"Target\")\n",
    "    \n",
    "    profile_axes_g.legend(loc='upper left',bbox_to_anchor=(1.0,1.0))\n",
    "\n",
    "    nemplot.save_figure(profile_fig_g,\"profile_comparison_magnet\" + params_str)\n",
    "    \n",
    "    return (tmm_magnet, K_magnet, tmm_no_magnet, K_no_magnet)\n"
   ]
  },
  {
   "cell_type": "markdown",
   "metadata": {},
   "source": [
    "## Parameters for situation with and without internal magnet"
   ]
  },
  {
   "cell_type": "markdown",
   "metadata": {},
   "source": [
    "To understand these parameters, check the notebook `Choosing the profile and dimensions.ipynb`."
   ]
  },
  {
   "cell_type": "code",
   "execution_count": 11,
   "metadata": {},
   "outputs": [],
   "source": [
    "# Fixed parameters\n",
    "\n",
    "FIXED_PARAMETERS_AMR = {\n",
    "    \"D_p[m]\": 0.35e-3,\n",
    "    \"L[m]\": 85e-3, \n",
    "    \"W[m]\": 30e-3,\n",
    "    \"N_r[]\": 8, \n",
    "    \"T_H[K]\": 305.5,\n",
    "    \"dT[K]\": 35,\n",
    "    \"Casing material\": \"Stainless steel\",\n",
    "    \"t_casing[m]\": 0.5e-3,\n",
    "    \"t_air[m]\": 1e-3,\n",
    "    \"N_layers[]\": 3,\n",
    "    \"T_C_layers[K]\": np.array([273,283,290]),\n",
    "    \"Length_fraction_layers[%]\": np.array([20,20,60]),\n",
    "    \"B_min[T]\": 0.05}\n",
    "\n",
    "FIXED_PARAMETERS_MAGNET = {\"R_i\": 30e-3,\n",
    "                \"h_fc\": 0.25,\n",
    "                \"R_e\": 0.7,\n",
    "                \"n_II\": 5,\n",
    "                \"n_IV\": 5,\n",
    "                \"phi_C_II\": 0,\n",
    "                \"phi_S_II\": 60,\n",
    "                \"phi_S_IV\": 60,\n",
    "                \"mu_r_II\": 1.05,\n",
    "                \"mu_r_IV\": 1.05,\n",
    "              \"linear_iron\": 1,\n",
    "              \"mu_r_iron\": 1e3,\n",
    "             }"
   ]
  },
  {
   "cell_type": "markdown",
   "metadata": {},
   "source": [
    "### Testing 3 points for R_o = 40 mm"
   ]
  },
  {
   "cell_type": "markdown",
   "metadata": {},
   "source": [
    "This value for the external radius of the internal magnet has been used as a typical estimative, to fit 8 regenerators of 30 mm of width into a gap of 20 mm and use about 85% of the gap (leaving space for the walls and other structural elements, such as screws).\n",
    "\n",
    "We select three operating points from that curve and test the profiles, with and without the internal magnet"
   ]
  },
  {
   "cell_type": "code",
   "execution_count": 12,
   "metadata": {},
   "outputs": [
    {
     "ename": "PermissionError",
     "evalue": "[WinError 32] The process cannot access the file because it is being used by another process: 'teslamax-optimization\\\\teslamax-optimization'",
     "output_type": "error",
     "traceback": [
      "\u001b[1;31m---------------------------------------------------------------------------\u001b[0m",
      "\u001b[1;31mPermissionError\u001b[0m                           Traceback (most recent call last)",
      "\u001b[1;32m<ipython-input-12-ba774462e2ac>\u001b[0m in \u001b[0;36m<module>\u001b[1;34m\u001b[0m\n\u001b[0;32m     13\u001b[0m                                                                                                   \u001b[0mH_reg\u001b[0m\u001b[1;33m,\u001b[0m\u001b[1;33m\u001b[0m\u001b[1;33m\u001b[0m\u001b[0m\n\u001b[0;32m     14\u001b[0m                                                                                                   \u001b[0mR_s\u001b[0m\u001b[1;33m,\u001b[0m\u001b[1;33m\u001b[0m\u001b[1;33m\u001b[0m\u001b[0m\n\u001b[1;32m---> 15\u001b[1;33m                                                                                                   R_o)\n\u001b[0m\u001b[0;32m     16\u001b[0m \u001b[1;33m\u001b[0m\u001b[0m\n\u001b[0;32m     17\u001b[0m \u001b[0mprint\u001b[0m\u001b[1;33m(\u001b[0m\u001b[1;34m\"Value of K with magnet: %.6f\"\u001b[0m \u001b[1;33m%\u001b[0m\u001b[1;33m(\u001b[0m\u001b[0mK_magnet\u001b[0m\u001b[1;33m)\u001b[0m\u001b[1;33m)\u001b[0m\u001b[1;33m\u001b[0m\u001b[1;33m\u001b[0m\u001b[0m\n",
      "\u001b[1;32m<ipython-input-10-fb696b42e60c>\u001b[0m in \u001b[0;36mplot_optimized_ramp_comparison_internal_magnet\u001b[1;34m(B_high, field_fraction, params, H_reg, R_s, R_o)\u001b[0m\n\u001b[0;32m     39\u001b[0m \u001b[1;33m\u001b[0m\u001b[0m\n\u001b[0;32m     40\u001b[0m     \u001b[0mtm_file_magnet\u001b[0m \u001b[1;33m=\u001b[0m \u001b[0mTESLAMAX_FILENAME\u001b[0m \u001b[1;33m+\u001b[0m \u001b[1;34m\"_magnet\"\u001b[0m \u001b[1;33m+\u001b[0m \u001b[0mparams_str\u001b[0m\u001b[1;33m\u001b[0m\u001b[1;33m\u001b[0m\u001b[0m\n\u001b[1;32m---> 41\u001b[1;33m     \u001b[0mtmm_magnet\u001b[0m\u001b[1;33m,\u001b[0m \u001b[0mK_magnet\u001b[0m \u001b[1;33m=\u001b[0m \u001b[0moptimize_ramp\u001b[0m\u001b[1;33m(\u001b[0m\u001b[0mB_high\u001b[0m\u001b[1;33m,\u001b[0m\u001b[0mfield_fraction\u001b[0m\u001b[1;33m,\u001b[0m\u001b[0mparams\u001b[0m\u001b[1;33m,\u001b[0m\u001b[0mtm_file_magnet\u001b[0m\u001b[1;33m)\u001b[0m\u001b[1;33m\u001b[0m\u001b[1;33m\u001b[0m\u001b[0m\n\u001b[0m\u001b[0;32m     42\u001b[0m \u001b[1;33m\u001b[0m\u001b[0m\n\u001b[0;32m     43\u001b[0m     \u001b[0mtm_file_no_magnet\u001b[0m \u001b[1;33m=\u001b[0m \u001b[0mTESLAMAX_FILENAME\u001b[0m \u001b[1;33m+\u001b[0m \u001b[1;34m\"_no_magnet\"\u001b[0m \u001b[1;33m+\u001b[0m \u001b[0mparams_str\u001b[0m\u001b[1;33m\u001b[0m\u001b[1;33m\u001b[0m\u001b[0m\n",
      "\u001b[1;32m<ipython-input-6-8ccc1227ccef>\u001b[0m in \u001b[0;36moptimize_ramp\u001b[1;34m(B_high, field_fraction, params, filename)\u001b[0m\n\u001b[0;32m     21\u001b[0m     \u001b[0mtarget_args\u001b[0m \u001b[1;33m=\u001b[0m \u001b[1;33m(\u001b[0m\u001b[0mB_high\u001b[0m\u001b[1;33m,\u001b[0m\u001b[0mB_low\u001b[0m\u001b[1;33m,\u001b[0m\u001b[0mfield_fraction\u001b[0m\u001b[1;33m)\u001b[0m\u001b[1;33m\u001b[0m\u001b[1;33m\u001b[0m\u001b[0m\n\u001b[0;32m     22\u001b[0m \u001b[1;33m\u001b[0m\u001b[0m\n\u001b[1;32m---> 23\u001b[1;33m     \u001b[0malpha_B_rem_g\u001b[0m \u001b[1;33m=\u001b[0m \u001b[0mtmpd\u001b[0m\u001b[1;33m.\u001b[0m\u001b[0mget_optimal_remanence_angles\u001b[0m\u001b[1;33m(\u001b[0m\u001b[0mtarget_function\u001b[0m\u001b[1;33m,\u001b[0m\u001b[0mtarget_args\u001b[0m\u001b[1;33m)\u001b[0m\u001b[1;33m\u001b[0m\u001b[1;33m\u001b[0m\u001b[0m\n\u001b[0m\u001b[0;32m     24\u001b[0m     cost_function = tmpd.calculate_functional_target(alpha_B_rem_g,\n\u001b[0;32m     25\u001b[0m                                                     \u001b[0mtarget_function\u001b[0m\u001b[1;33m,\u001b[0m\u001b[1;33m\u001b[0m\u001b[1;33m\u001b[0m\u001b[0m\n",
      "\u001b[1;32m~\\Documents\\GitHub\\TeslaMax\\teslamax\\__init__.py\u001b[0m in \u001b[0;36mget_optimal_remanence_angles\u001b[1;34m(self, target_profile_function, target_profile_args)\u001b[0m\n\u001b[0;32m   1274\u001b[0m         \u001b[1;32mif\u001b[0m \u001b[0mself\u001b[0m\u001b[1;33m.\u001b[0m\u001b[0malpha_B_rem_optimal\u001b[0m \u001b[1;32mis\u001b[0m \u001b[1;32mNone\u001b[0m\u001b[1;33m:\u001b[0m\u001b[1;33m\u001b[0m\u001b[1;33m\u001b[0m\u001b[0m\n\u001b[0;32m   1275\u001b[0m             self._calculate_optimal_remanence_angles(target_profile_function,\n\u001b[1;32m-> 1276\u001b[1;33m                                                      target_profile_args)\n\u001b[0m\u001b[0;32m   1277\u001b[0m \u001b[1;33m\u001b[0m\u001b[0m\n\u001b[0;32m   1278\u001b[0m         \u001b[1;32mreturn\u001b[0m \u001b[0mself\u001b[0m\u001b[1;33m.\u001b[0m\u001b[0malpha_B_rem_optimal\u001b[0m\u001b[1;33m\u001b[0m\u001b[1;33m\u001b[0m\u001b[0m\n",
      "\u001b[1;32m~\\Documents\\GitHub\\TeslaMax\\teslamax\\__init__.py\u001b[0m in \u001b[0;36m_calculate_optimal_remanence_angles\u001b[1;34m(self, target_profile_function, target_profile_args)\u001b[0m\n\u001b[0;32m   1247\u001b[0m                             \u001b[0margs\u001b[0m\u001b[1;33m=\u001b[0m\u001b[1;33m(\u001b[0m\u001b[0mfunctional_args\u001b[0m\u001b[1;33m,\u001b[0m\u001b[1;33m)\u001b[0m\u001b[1;33m,\u001b[0m\u001b[1;33m\u001b[0m\u001b[1;33m\u001b[0m\u001b[0m\n\u001b[0;32m   1248\u001b[0m                             \u001b[0mbounds\u001b[0m\u001b[1;33m=\u001b[0m\u001b[0mbounds\u001b[0m\u001b[1;33m,\u001b[0m\u001b[1;33m\u001b[0m\u001b[1;33m\u001b[0m\u001b[0m\n\u001b[1;32m-> 1249\u001b[1;33m                             options={'disp': False})\n\u001b[0m\u001b[0;32m   1250\u001b[0m \u001b[1;33m\u001b[0m\u001b[0m\n\u001b[0;32m   1251\u001b[0m         \u001b[0mself\u001b[0m\u001b[1;33m.\u001b[0m\u001b[0moptimization_results\u001b[0m \u001b[1;33m=\u001b[0m \u001b[0moptres_g\u001b[0m\u001b[1;33m\u001b[0m\u001b[1;33m\u001b[0m\u001b[0m\n",
      "\u001b[1;32m~\\Anaconda3a\\lib\\site-packages\\scipy\\optimize\\_minimize.py\u001b[0m in \u001b[0;36mminimize\u001b[1;34m(fun, x0, args, method, jac, hess, hessp, bounds, constraints, tol, callback, options)\u001b[0m\n\u001b[0;32m    601\u001b[0m     \u001b[1;32melif\u001b[0m \u001b[0mmeth\u001b[0m \u001b[1;33m==\u001b[0m \u001b[1;34m'l-bfgs-b'\u001b[0m\u001b[1;33m:\u001b[0m\u001b[1;33m\u001b[0m\u001b[1;33m\u001b[0m\u001b[0m\n\u001b[0;32m    602\u001b[0m         return _minimize_lbfgsb(fun, x0, args, jac, bounds,\n\u001b[1;32m--> 603\u001b[1;33m                                 callback=callback, **options)\n\u001b[0m\u001b[0;32m    604\u001b[0m     \u001b[1;32melif\u001b[0m \u001b[0mmeth\u001b[0m \u001b[1;33m==\u001b[0m \u001b[1;34m'tnc'\u001b[0m\u001b[1;33m:\u001b[0m\u001b[1;33m\u001b[0m\u001b[1;33m\u001b[0m\u001b[0m\n\u001b[0;32m    605\u001b[0m         return _minimize_tnc(fun, x0, args, jac, bounds, callback=callback,\n",
      "\u001b[1;32m~\\Anaconda3a\\lib\\site-packages\\scipy\\optimize\\lbfgsb.py\u001b[0m in \u001b[0;36m_minimize_lbfgsb\u001b[1;34m(fun, x0, args, jac, bounds, disp, maxcor, ftol, gtol, eps, maxfun, maxiter, iprint, callback, maxls, **unknown_options)\u001b[0m\n\u001b[0;32m    333\u001b[0m             \u001b[1;31m# until the completion of the current minimization iteration.\u001b[0m\u001b[1;33m\u001b[0m\u001b[1;33m\u001b[0m\u001b[1;33m\u001b[0m\u001b[0m\n\u001b[0;32m    334\u001b[0m             \u001b[1;31m# Overwrite f and g:\u001b[0m\u001b[1;33m\u001b[0m\u001b[1;33m\u001b[0m\u001b[1;33m\u001b[0m\u001b[0m\n\u001b[1;32m--> 335\u001b[1;33m             \u001b[0mf\u001b[0m\u001b[1;33m,\u001b[0m \u001b[0mg\u001b[0m \u001b[1;33m=\u001b[0m \u001b[0mfunc_and_grad\u001b[0m\u001b[1;33m(\u001b[0m\u001b[0mx\u001b[0m\u001b[1;33m)\u001b[0m\u001b[1;33m\u001b[0m\u001b[1;33m\u001b[0m\u001b[0m\n\u001b[0m\u001b[0;32m    336\u001b[0m         \u001b[1;32melif\u001b[0m \u001b[0mtask_str\u001b[0m\u001b[1;33m.\u001b[0m\u001b[0mstartswith\u001b[0m\u001b[1;33m(\u001b[0m\u001b[1;34mb'NEW_X'\u001b[0m\u001b[1;33m)\u001b[0m\u001b[1;33m:\u001b[0m\u001b[1;33m\u001b[0m\u001b[1;33m\u001b[0m\u001b[0m\n\u001b[0;32m    337\u001b[0m             \u001b[1;31m# new iteration\u001b[0m\u001b[1;33m\u001b[0m\u001b[1;33m\u001b[0m\u001b[1;33m\u001b[0m\u001b[0m\n",
      "\u001b[1;32m~\\Anaconda3a\\lib\\site-packages\\scipy\\optimize\\lbfgsb.py\u001b[0m in \u001b[0;36mfunc_and_grad\u001b[1;34m(x)\u001b[0m\n\u001b[0;32m    278\u001b[0m     \u001b[1;32mif\u001b[0m \u001b[0mjac\u001b[0m \u001b[1;32mis\u001b[0m \u001b[1;32mNone\u001b[0m\u001b[1;33m:\u001b[0m\u001b[1;33m\u001b[0m\u001b[1;33m\u001b[0m\u001b[0m\n\u001b[0;32m    279\u001b[0m         \u001b[1;32mdef\u001b[0m \u001b[0mfunc_and_grad\u001b[0m\u001b[1;33m(\u001b[0m\u001b[0mx\u001b[0m\u001b[1;33m)\u001b[0m\u001b[1;33m:\u001b[0m\u001b[1;33m\u001b[0m\u001b[1;33m\u001b[0m\u001b[0m\n\u001b[1;32m--> 280\u001b[1;33m             \u001b[0mf\u001b[0m \u001b[1;33m=\u001b[0m \u001b[0mfun\u001b[0m\u001b[1;33m(\u001b[0m\u001b[0mx\u001b[0m\u001b[1;33m,\u001b[0m \u001b[1;33m*\u001b[0m\u001b[0margs\u001b[0m\u001b[1;33m)\u001b[0m\u001b[1;33m\u001b[0m\u001b[1;33m\u001b[0m\u001b[0m\n\u001b[0m\u001b[0;32m    281\u001b[0m             \u001b[0mg\u001b[0m \u001b[1;33m=\u001b[0m \u001b[0m_approx_fprime_helper\u001b[0m\u001b[1;33m(\u001b[0m\u001b[0mx\u001b[0m\u001b[1;33m,\u001b[0m \u001b[0mfun\u001b[0m\u001b[1;33m,\u001b[0m \u001b[0mepsilon\u001b[0m\u001b[1;33m,\u001b[0m \u001b[0margs\u001b[0m\u001b[1;33m=\u001b[0m\u001b[0margs\u001b[0m\u001b[1;33m,\u001b[0m \u001b[0mf0\u001b[0m\u001b[1;33m=\u001b[0m\u001b[0mf\u001b[0m\u001b[1;33m)\u001b[0m\u001b[1;33m\u001b[0m\u001b[1;33m\u001b[0m\u001b[0m\n\u001b[0;32m    282\u001b[0m             \u001b[1;32mreturn\u001b[0m \u001b[0mf\u001b[0m\u001b[1;33m,\u001b[0m \u001b[0mg\u001b[0m\u001b[1;33m\u001b[0m\u001b[1;33m\u001b[0m\u001b[0m\n",
      "\u001b[1;32m~\\Anaconda3a\\lib\\site-packages\\scipy\\optimize\\optimize.py\u001b[0m in \u001b[0;36mfunction_wrapper\u001b[1;34m(*wrapper_args)\u001b[0m\n\u001b[0;32m    291\u001b[0m     \u001b[1;32mdef\u001b[0m \u001b[0mfunction_wrapper\u001b[0m\u001b[1;33m(\u001b[0m\u001b[1;33m*\u001b[0m\u001b[0mwrapper_args\u001b[0m\u001b[1;33m)\u001b[0m\u001b[1;33m:\u001b[0m\u001b[1;33m\u001b[0m\u001b[1;33m\u001b[0m\u001b[0m\n\u001b[0;32m    292\u001b[0m         \u001b[0mncalls\u001b[0m\u001b[1;33m[\u001b[0m\u001b[1;36m0\u001b[0m\u001b[1;33m]\u001b[0m \u001b[1;33m+=\u001b[0m \u001b[1;36m1\u001b[0m\u001b[1;33m\u001b[0m\u001b[1;33m\u001b[0m\u001b[0m\n\u001b[1;32m--> 293\u001b[1;33m         \u001b[1;32mreturn\u001b[0m \u001b[0mfunction\u001b[0m\u001b[1;33m(\u001b[0m\u001b[1;33m*\u001b[0m\u001b[1;33m(\u001b[0m\u001b[0mwrapper_args\u001b[0m \u001b[1;33m+\u001b[0m \u001b[0margs\u001b[0m\u001b[1;33m)\u001b[0m\u001b[1;33m)\u001b[0m\u001b[1;33m\u001b[0m\u001b[1;33m\u001b[0m\u001b[0m\n\u001b[0m\u001b[0;32m    294\u001b[0m \u001b[1;33m\u001b[0m\u001b[0m\n\u001b[0;32m    295\u001b[0m     \u001b[1;32mreturn\u001b[0m \u001b[0mncalls\u001b[0m\u001b[1;33m,\u001b[0m \u001b[0mfunction_wrapper\u001b[0m\u001b[1;33m\u001b[0m\u001b[1;33m\u001b[0m\u001b[0m\n",
      "\u001b[1;32m~\\Documents\\GitHub\\TeslaMax\\teslamax\\__init__.py\u001b[0m in \u001b[0;36mcalculate_functional\u001b[1;34m(self, alpha_B_rem, functional_args)\u001b[0m\n\u001b[0;32m   1088\u001b[0m         return self.calculate_functional_target(alpha_B_rem,\n\u001b[0;32m   1089\u001b[0m                                                 \u001b[0mfunctional_args\u001b[0m\u001b[1;33m[\u001b[0m\u001b[1;36m0\u001b[0m\u001b[1;33m]\u001b[0m\u001b[1;33m,\u001b[0m\u001b[1;33m\u001b[0m\u001b[1;33m\u001b[0m\u001b[0m\n\u001b[1;32m-> 1090\u001b[1;33m                                                 functional_args[1])\n\u001b[0m\u001b[0;32m   1091\u001b[0m \u001b[1;33m\u001b[0m\u001b[0m\n\u001b[0;32m   1092\u001b[0m     def calculate_functional_derivative(self,\n",
      "\u001b[1;32m~\\Documents\\GitHub\\TeslaMax\\teslamax\\__init__.py\u001b[0m in \u001b[0;36mcalculate_functional_target\u001b[1;34m(self, alpha_B_rem, target_profile_function, target_profile_args)\u001b[0m\n\u001b[0;32m   1040\u001b[0m         \"\"\"\n\u001b[0;32m   1041\u001b[0m \u001b[1;33m\u001b[0m\u001b[0m\n\u001b[1;32m-> 1042\u001b[1;33m         \u001b[0mB_III_data\u001b[0m \u001b[1;33m=\u001b[0m \u001b[0mself\u001b[0m\u001b[1;33m.\u001b[0m\u001b[0msuperposition_B_III\u001b[0m\u001b[1;33m(\u001b[0m\u001b[0malpha_B_rem\u001b[0m\u001b[1;33m)\u001b[0m\u001b[1;33m\u001b[0m\u001b[1;33m\u001b[0m\u001b[0m\n\u001b[0m\u001b[0;32m   1043\u001b[0m \u001b[1;33m\u001b[0m\u001b[0m\n\u001b[0;32m   1044\u001b[0m         \u001b[1;31m# the above statement will return [x,y,B_x,B_y]. We have to calculate\u001b[0m\u001b[1;33m\u001b[0m\u001b[1;33m\u001b[0m\u001b[1;33m\u001b[0m\u001b[0m\n",
      "\u001b[1;32m~\\Documents\\GitHub\\TeslaMax\\teslamax\\__init__.py\u001b[0m in \u001b[0;36msuperposition_B_III\u001b[1;34m(self, alpha_B_rem)\u001b[0m\n\u001b[0;32m    968\u001b[0m         \u001b[0mB_III\u001b[0m \u001b[1;33m=\u001b[0m \u001b[1;36m0\u001b[0m\u001b[1;33m\u001b[0m\u001b[1;33m\u001b[0m\u001b[0m\n\u001b[0;32m    969\u001b[0m \u001b[1;33m\u001b[0m\u001b[0m\n\u001b[1;32m--> 970\u001b[1;33m         \u001b[0mpoints\u001b[0m \u001b[1;33m=\u001b[0m \u001b[0mself\u001b[0m\u001b[1;33m.\u001b[0m\u001b[0mget_points_F_operators\u001b[0m\u001b[1;33m(\u001b[0m\u001b[1;33m)\u001b[0m\u001b[1;33m\u001b[0m\u001b[1;33m\u001b[0m\u001b[0m\n\u001b[0m\u001b[0;32m    971\u001b[0m         \u001b[0mF_II_x\u001b[0m\u001b[1;33m,\u001b[0m \u001b[0mF_II_y\u001b[0m\u001b[1;33m,\u001b[0m \u001b[0mF_IV_x\u001b[0m\u001b[1;33m,\u001b[0m \u001b[0mF_IV_y\u001b[0m \u001b[1;33m=\u001b[0m \u001b[0mself\u001b[0m\u001b[1;33m.\u001b[0m\u001b[0mget_F_operators\u001b[0m\u001b[1;33m(\u001b[0m\u001b[1;33m)\u001b[0m\u001b[1;33m\u001b[0m\u001b[1;33m\u001b[0m\u001b[0m\n\u001b[0;32m    972\u001b[0m \u001b[1;33m\u001b[0m\u001b[0m\n",
      "\u001b[1;32m~\\Documents\\GitHub\\TeslaMax\\teslamax\\__init__.py\u001b[0m in \u001b[0;36mget_points_F_operators\u001b[1;34m(self)\u001b[0m\n\u001b[0;32m    945\u001b[0m     \u001b[1;32mdef\u001b[0m \u001b[0mget_points_F_operators\u001b[0m\u001b[1;33m(\u001b[0m\u001b[0mself\u001b[0m\u001b[1;33m)\u001b[0m\u001b[1;33m:\u001b[0m\u001b[1;33m\u001b[0m\u001b[1;33m\u001b[0m\u001b[0m\n\u001b[0;32m    946\u001b[0m         \u001b[1;32mif\u001b[0m \u001b[0mself\u001b[0m\u001b[1;33m.\u001b[0m\u001b[0mpoints_F_operators\u001b[0m \u001b[1;32mis\u001b[0m \u001b[1;32mNone\u001b[0m\u001b[1;33m:\u001b[0m\u001b[1;33m\u001b[0m\u001b[1;33m\u001b[0m\u001b[0m\n\u001b[1;32m--> 947\u001b[1;33m             \u001b[0mself\u001b[0m\u001b[1;33m.\u001b[0m\u001b[0mcalculate_F_operators\u001b[0m\u001b[1;33m(\u001b[0m\u001b[1;33m)\u001b[0m\u001b[1;33m\u001b[0m\u001b[1;33m\u001b[0m\u001b[0m\n\u001b[0m\u001b[0;32m    948\u001b[0m \u001b[1;33m\u001b[0m\u001b[0m\n\u001b[0;32m    949\u001b[0m         \u001b[1;32mreturn\u001b[0m \u001b[0mself\u001b[0m\u001b[1;33m.\u001b[0m\u001b[0mpoints_F_operators\u001b[0m\u001b[1;33m\u001b[0m\u001b[1;33m\u001b[0m\u001b[0m\n",
      "\u001b[1;32m~\\Documents\\GitHub\\TeslaMax\\teslamax\\__init__.py\u001b[0m in \u001b[0;36mcalculate_F_operators\u001b[1;34m(self)\u001b[0m\n\u001b[0;32m    920\u001b[0m                                                                  \u001b[0mmagnet\u001b[0m\u001b[1;33m=\u001b[0m\u001b[1;34m'II'\u001b[0m\u001b[1;33m,\u001b[0m\u001b[1;33m\u001b[0m\u001b[1;33m\u001b[0m\u001b[0m\n\u001b[0;32m    921\u001b[0m                                                                  \u001b[0mmagnitude\u001b[0m\u001b[1;33m=\u001b[0m\u001b[1;36m1.0\u001b[0m\u001b[1;33m,\u001b[0m\u001b[1;33m\u001b[0m\u001b[1;33m\u001b[0m\u001b[0m\n\u001b[1;32m--> 922\u001b[1;33m                                                                  angle=0.0))\n\u001b[0m\u001b[0;32m    923\u001b[0m \u001b[1;33m\u001b[0m\u001b[0m\n\u001b[0;32m    924\u001b[0m             F_II_y.append(self.calculate_B_III_from_single_block(point=points,\n",
      "\u001b[1;32m~\\Documents\\GitHub\\TeslaMax\\teslamax\\__init__.py\u001b[0m in \u001b[0;36mcalculate_B_III_from_single_block\u001b[1;34m(self, point, segment, magnet, magnitude, angle)\u001b[0m\n\u001b[0;32m    881\u001b[0m         \u001b[0mauxdir\u001b[0m \u001b[1;33m=\u001b[0m \u001b[0mPath\u001b[0m\u001b[1;33m(\u001b[0m\u001b[1;34m'.'\u001b[0m\u001b[1;33m)\u001b[0m \u001b[1;33m/\u001b[0m \u001b[1;34m'teslamax-optimization'\u001b[0m\u001b[1;33m\u001b[0m\u001b[1;33m\u001b[0m\u001b[0m\n\u001b[0;32m    882\u001b[0m         \u001b[0mauxdir\u001b[0m\u001b[1;33m.\u001b[0m\u001b[0mmkdir\u001b[0m\u001b[1;33m(\u001b[0m\u001b[0mexist_ok\u001b[0m\u001b[1;33m=\u001b[0m\u001b[1;32mTrue\u001b[0m\u001b[1;33m)\u001b[0m\u001b[1;33m\u001b[0m\u001b[1;33m\u001b[0m\u001b[0m\n\u001b[1;32m--> 883\u001b[1;33m         \u001b[0mtmm\u001b[0m \u001b[1;33m=\u001b[0m \u001b[0mTeslaMaxModel\u001b[0m\u001b[1;33m(\u001b[0m\u001b[0mtmpd\u001b[0m\u001b[1;33m,\u001b[0m \u001b[0malpha_B_rem_vector\u001b[0m\u001b[1;33m,\u001b[0m \u001b[0mstr\u001b[0m\u001b[1;33m(\u001b[0m\u001b[0mauxdir\u001b[0m\u001b[1;33m)\u001b[0m\u001b[1;33m)\u001b[0m\u001b[1;33m\u001b[0m\u001b[1;33m\u001b[0m\u001b[0m\n\u001b[0m\u001b[0;32m    884\u001b[0m         \u001b[0mtmm\u001b[0m\u001b[1;33m.\u001b[0m\u001b[0mrun\u001b[0m\u001b[1;33m(\u001b[0m\u001b[0mverbose\u001b[0m\u001b[1;33m=\u001b[0m\u001b[0mDEBUG\u001b[0m\u001b[1;33m)\u001b[0m\u001b[1;33m\u001b[0m\u001b[1;33m\u001b[0m\u001b[0m\n\u001b[0;32m    885\u001b[0m         \u001b[0mresult\u001b[0m \u001b[1;33m=\u001b[0m \u001b[0mtmm\u001b[0m\u001b[1;33m.\u001b[0m\u001b[0mcalculate_B_III_from_position\u001b[0m\u001b[1;33m(\u001b[0m\u001b[0mpoint\u001b[0m\u001b[1;33m)\u001b[0m\u001b[1;33m\u001b[0m\u001b[1;33m\u001b[0m\u001b[0m\n",
      "\u001b[1;32m~\\Documents\\GitHub\\TeslaMax\\teslamax\\__init__.py\u001b[0m in \u001b[0;36m__init__\u001b[1;34m(self, teslamax_predesign, alpha_vector, path, clean)\u001b[0m\n\u001b[0;32m   1309\u001b[0m         \u001b[0mself\u001b[0m\u001b[1;33m.\u001b[0m\u001b[0mpath\u001b[0m \u001b[1;33m=\u001b[0m \u001b[0mPath\u001b[0m\u001b[1;33m(\u001b[0m\u001b[0mpath\u001b[0m\u001b[1;33m)\u001b[0m\u001b[1;33m\u001b[0m\u001b[1;33m\u001b[0m\u001b[0m\n\u001b[0;32m   1310\u001b[0m         \u001b[1;32mif\u001b[0m \u001b[1;33m(\u001b[0m\u001b[0mself\u001b[0m\u001b[1;33m.\u001b[0m\u001b[0mpath\u001b[0m\u001b[1;33m.\u001b[0m\u001b[0mexists\u001b[0m\u001b[1;33m(\u001b[0m\u001b[1;33m)\u001b[0m\u001b[1;33m)\u001b[0m \u001b[1;32mand\u001b[0m \u001b[1;33m(\u001b[0m\u001b[0mself\u001b[0m\u001b[1;33m.\u001b[0m\u001b[0mpath\u001b[0m\u001b[1;33m.\u001b[0m\u001b[0mis_dir\u001b[0m\u001b[1;33m(\u001b[0m\u001b[1;33m)\u001b[0m\u001b[1;33m)\u001b[0m \u001b[1;32mand\u001b[0m \u001b[0mclean\u001b[0m\u001b[1;33m:\u001b[0m\u001b[1;33m\u001b[0m\u001b[1;33m\u001b[0m\u001b[0m\n\u001b[1;32m-> 1311\u001b[1;33m             \u001b[0mshutil\u001b[0m\u001b[1;33m.\u001b[0m\u001b[0mrmtree\u001b[0m\u001b[1;33m(\u001b[0m\u001b[0mstr\u001b[0m\u001b[1;33m(\u001b[0m\u001b[0mself\u001b[0m\u001b[1;33m.\u001b[0m\u001b[0mpath\u001b[0m\u001b[1;33m)\u001b[0m\u001b[1;33m)\u001b[0m\u001b[1;33m\u001b[0m\u001b[1;33m\u001b[0m\u001b[0m\n\u001b[0m\u001b[0;32m   1312\u001b[0m \u001b[1;33m\u001b[0m\u001b[0m\n\u001b[0;32m   1313\u001b[0m         \u001b[0mself\u001b[0m\u001b[1;33m.\u001b[0m\u001b[0mpath\u001b[0m\u001b[1;33m.\u001b[0m\u001b[0mmkdir\u001b[0m\u001b[1;33m(\u001b[0m\u001b[0mexist_ok\u001b[0m\u001b[1;33m=\u001b[0m\u001b[1;32mTrue\u001b[0m\u001b[1;33m)\u001b[0m\u001b[1;33m\u001b[0m\u001b[1;33m\u001b[0m\u001b[0m\n",
      "\u001b[1;32m~\\Anaconda3a\\lib\\shutil.py\u001b[0m in \u001b[0;36mrmtree\u001b[1;34m(path, ignore_errors, onerror)\u001b[0m\n\u001b[0;32m    505\u001b[0m             \u001b[1;31m# can't continue even if onerror hook returns\u001b[0m\u001b[1;33m\u001b[0m\u001b[1;33m\u001b[0m\u001b[1;33m\u001b[0m\u001b[0m\n\u001b[0;32m    506\u001b[0m             \u001b[1;32mreturn\u001b[0m\u001b[1;33m\u001b[0m\u001b[1;33m\u001b[0m\u001b[0m\n\u001b[1;32m--> 507\u001b[1;33m         \u001b[1;32mreturn\u001b[0m \u001b[0m_rmtree_unsafe\u001b[0m\u001b[1;33m(\u001b[0m\u001b[0mpath\u001b[0m\u001b[1;33m,\u001b[0m \u001b[0monerror\u001b[0m\u001b[1;33m)\u001b[0m\u001b[1;33m\u001b[0m\u001b[1;33m\u001b[0m\u001b[0m\n\u001b[0m\u001b[0;32m    508\u001b[0m \u001b[1;33m\u001b[0m\u001b[0m\n\u001b[0;32m    509\u001b[0m \u001b[1;31m# Allow introspection of whether or not the hardening against symlink\u001b[0m\u001b[1;33m\u001b[0m\u001b[1;33m\u001b[0m\u001b[1;33m\u001b[0m\u001b[0m\n",
      "\u001b[1;32m~\\Anaconda3a\\lib\\shutil.py\u001b[0m in \u001b[0;36m_rmtree_unsafe\u001b[1;34m(path, onerror)\u001b[0m\n\u001b[0;32m    384\u001b[0m                 \u001b[0monerror\u001b[0m\u001b[1;33m(\u001b[0m\u001b[0mos\u001b[0m\u001b[1;33m.\u001b[0m\u001b[0mpath\u001b[0m\u001b[1;33m.\u001b[0m\u001b[0mislink\u001b[0m\u001b[1;33m,\u001b[0m \u001b[0mfullname\u001b[0m\u001b[1;33m,\u001b[0m \u001b[0msys\u001b[0m\u001b[1;33m.\u001b[0m\u001b[0mexc_info\u001b[0m\u001b[1;33m(\u001b[0m\u001b[1;33m)\u001b[0m\u001b[1;33m)\u001b[0m\u001b[1;33m\u001b[0m\u001b[1;33m\u001b[0m\u001b[0m\n\u001b[0;32m    385\u001b[0m                 \u001b[1;32mcontinue\u001b[0m\u001b[1;33m\u001b[0m\u001b[1;33m\u001b[0m\u001b[0m\n\u001b[1;32m--> 386\u001b[1;33m             \u001b[0m_rmtree_unsafe\u001b[0m\u001b[1;33m(\u001b[0m\u001b[0mfullname\u001b[0m\u001b[1;33m,\u001b[0m \u001b[0monerror\u001b[0m\u001b[1;33m)\u001b[0m\u001b[1;33m\u001b[0m\u001b[1;33m\u001b[0m\u001b[0m\n\u001b[0m\u001b[0;32m    387\u001b[0m         \u001b[1;32melse\u001b[0m\u001b[1;33m:\u001b[0m\u001b[1;33m\u001b[0m\u001b[1;33m\u001b[0m\u001b[0m\n\u001b[0;32m    388\u001b[0m             \u001b[1;32mtry\u001b[0m\u001b[1;33m:\u001b[0m\u001b[1;33m\u001b[0m\u001b[1;33m\u001b[0m\u001b[0m\n",
      "\u001b[1;32m~\\Anaconda3a\\lib\\shutil.py\u001b[0m in \u001b[0;36m_rmtree_unsafe\u001b[1;34m(path, onerror)\u001b[0m\n\u001b[0;32m    393\u001b[0m         \u001b[0mos\u001b[0m\u001b[1;33m.\u001b[0m\u001b[0mrmdir\u001b[0m\u001b[1;33m(\u001b[0m\u001b[0mpath\u001b[0m\u001b[1;33m)\u001b[0m\u001b[1;33m\u001b[0m\u001b[1;33m\u001b[0m\u001b[0m\n\u001b[0;32m    394\u001b[0m     \u001b[1;32mexcept\u001b[0m \u001b[0mOSError\u001b[0m\u001b[1;33m:\u001b[0m\u001b[1;33m\u001b[0m\u001b[1;33m\u001b[0m\u001b[0m\n\u001b[1;32m--> 395\u001b[1;33m         \u001b[0monerror\u001b[0m\u001b[1;33m(\u001b[0m\u001b[0mos\u001b[0m\u001b[1;33m.\u001b[0m\u001b[0mrmdir\u001b[0m\u001b[1;33m,\u001b[0m \u001b[0mpath\u001b[0m\u001b[1;33m,\u001b[0m \u001b[0msys\u001b[0m\u001b[1;33m.\u001b[0m\u001b[0mexc_info\u001b[0m\u001b[1;33m(\u001b[0m\u001b[1;33m)\u001b[0m\u001b[1;33m)\u001b[0m\u001b[1;33m\u001b[0m\u001b[1;33m\u001b[0m\u001b[0m\n\u001b[0m\u001b[0;32m    396\u001b[0m \u001b[1;33m\u001b[0m\u001b[0m\n\u001b[0;32m    397\u001b[0m \u001b[1;31m# Version using fd-based APIs to protect against races\u001b[0m\u001b[1;33m\u001b[0m\u001b[1;33m\u001b[0m\u001b[1;33m\u001b[0m\u001b[0m\n",
      "\u001b[1;32m~\\Anaconda3a\\lib\\shutil.py\u001b[0m in \u001b[0;36m_rmtree_unsafe\u001b[1;34m(path, onerror)\u001b[0m\n\u001b[0;32m    391\u001b[0m                 \u001b[0monerror\u001b[0m\u001b[1;33m(\u001b[0m\u001b[0mos\u001b[0m\u001b[1;33m.\u001b[0m\u001b[0munlink\u001b[0m\u001b[1;33m,\u001b[0m \u001b[0mfullname\u001b[0m\u001b[1;33m,\u001b[0m \u001b[0msys\u001b[0m\u001b[1;33m.\u001b[0m\u001b[0mexc_info\u001b[0m\u001b[1;33m(\u001b[0m\u001b[1;33m)\u001b[0m\u001b[1;33m)\u001b[0m\u001b[1;33m\u001b[0m\u001b[1;33m\u001b[0m\u001b[0m\n\u001b[0;32m    392\u001b[0m     \u001b[1;32mtry\u001b[0m\u001b[1;33m:\u001b[0m\u001b[1;33m\u001b[0m\u001b[1;33m\u001b[0m\u001b[0m\n\u001b[1;32m--> 393\u001b[1;33m         \u001b[0mos\u001b[0m\u001b[1;33m.\u001b[0m\u001b[0mrmdir\u001b[0m\u001b[1;33m(\u001b[0m\u001b[0mpath\u001b[0m\u001b[1;33m)\u001b[0m\u001b[1;33m\u001b[0m\u001b[1;33m\u001b[0m\u001b[0m\n\u001b[0m\u001b[0;32m    394\u001b[0m     \u001b[1;32mexcept\u001b[0m \u001b[0mOSError\u001b[0m\u001b[1;33m:\u001b[0m\u001b[1;33m\u001b[0m\u001b[1;33m\u001b[0m\u001b[0m\n\u001b[0;32m    395\u001b[0m         \u001b[0monerror\u001b[0m\u001b[1;33m(\u001b[0m\u001b[0mos\u001b[0m\u001b[1;33m.\u001b[0m\u001b[0mrmdir\u001b[0m\u001b[1;33m,\u001b[0m \u001b[0mpath\u001b[0m\u001b[1;33m,\u001b[0m \u001b[0msys\u001b[0m\u001b[1;33m.\u001b[0m\u001b[0mexc_info\u001b[0m\u001b[1;33m(\u001b[0m\u001b[1;33m)\u001b[0m\u001b[1;33m)\u001b[0m\u001b[1;33m\u001b[0m\u001b[1;33m\u001b[0m\u001b[0m\n",
      "\u001b[1;31mPermissionError\u001b[0m: [WinError 32] The process cannot access the file because it is being used by another process: 'teslamax-optimization\\\\teslamax-optimization'"
     ]
    }
   ],
   "source": [
    "#R_v = 10\n",
    "R_s = 300e-3\n",
    "R_o = 90.38e-3\n",
    "R_g = 131.62e-3\n",
    "%matplotlib inline\n",
    "\n",
    "B_max = 1.31\n",
    "H_reg = 19e-3\n",
    "\n",
    "tmm_magnet, K_magnet, tmm_no_magnet, K_no_magnet = plot_optimized_ramp_comparison_internal_magnet(B_max,\n",
    "                                                                                                  FIELD_FRACTION,\n",
    "                                                                                                  FIXED_PARAMETERS_MAGNET,\n",
    "                                                                                                  H_reg,\n",
    "                                                                                                  R_s,\n",
    "                                                                                                  R_o)\n",
    "\n",
    "print(\"Value of K with magnet: %.6f\" %(K_magnet))\n",
    "print(\"Parameters:\")\n",
    "print(tmm_magnet.params)\n",
    "print(\"Value of K without magnet: %.6f\" %(K_no_magnet))\n",
    "print(\"Parameters:\")\n",
    "print(tmm_no_magnet.params)"
   ]
  },
  {
   "cell_type": "code",
   "execution_count": 55,
   "metadata": {},
   "outputs": [
    {
     "name": "stdout",
     "output_type": "stream",
     "text": [
      "Value of K with magnet: 0.000798\n",
      "Parameters:\n",
      "{'R_i': 0.03, 'h_fc': 0.25, 'R_e': 0.7, 'n_II': 5, 'n_IV': 5, 'phi_C_II': 0, 'phi_S_II': 60, 'phi_S_IV': 60, 'mu_r_II': 1.05, 'mu_r_IV': 1.05, 'linear_iron': 1, 'mu_r_iron': 1000.0, 'H[m]': 0.019, 'R_s': 0.25, 'R_o': 0.10076, 'R_g': 0.12742, 'B_rem_II_1': 1.26, 'B_rem_II_2': 1.26, 'B_rem_II_3': 1.26, 'B_rem_II_4': 1.26, 'B_rem_II_5': 1.26, 'B_rem_IV_1': 1.26, 'B_rem_IV_2': 1.26, 'B_rem_IV_3': 1.26, 'B_rem_IV_4': 1.26, 'B_rem_IV_5': 1.26, 'h_gap': 0.026660000000000003, 'alpha_rem_II_1': 0.8940961064755055, 'alpha_rem_II_2': 9.997491026294595, 'alpha_rem_II_3': 1.4163098571058472, 'alpha_rem_II_4': 0.12950146280387884, 'alpha_rem_II_5': 0.0, 'alpha_rem_IV_1': 8.685604521609052, 'alpha_rem_IV_2': 24.75976806043947, 'alpha_rem_IV_3': 62.769629304796474, 'alpha_rem_IV_4': 96.46441817199606, 'alpha_rem_IV_5': 25.96438438937894}\n",
      "Value of K without magnet: 0.000636\n",
      "Parameters:\n",
      "{'R_i': 0.03, 'h_fc': 0.25, 'R_e': 0.7, 'n_II': 0, 'n_IV': 5, 'phi_C_II': 0, 'phi_S_II': 0, 'phi_S_IV': 60, 'mu_r_II': 1.05, 'mu_r_IV': 1.05, 'linear_iron': 1, 'mu_r_iron': 1000.0, 'H[m]': 0.019, 'R_s': 0.25, 'R_o': 0.10076, 'R_g': 0.12742, 'B_rem_IV_1': 1.26, 'B_rem_IV_2': 1.26, 'B_rem_IV_3': 1.26, 'B_rem_IV_4': 1.26, 'B_rem_IV_5': 1.26, 'h_gap': 0.026660000000000003, 'alpha_rem_IV_1': 3.176967119872383, 'alpha_rem_IV_2': 9.365749950024405, 'alpha_rem_IV_3': 43.97175771819716, 'alpha_rem_IV_4': 62.50194719266543, 'alpha_rem_IV_5': 7.051654759899011}\n"
     ]
    },
    {
     "data": {
      "image/png": "[encoded data removed]",
      "text/plain": [
       "<Figure size 283.465x283.465 with 1 Axes>"
      ]
     },
     "metadata": {
      "needs_background": "light"
     },
     "output_type": "display_data"
    }
   ],
   "source": [
    "#R_v = 5\n",
    "R_s = 250e-3\n",
    "R_o = 100.76e-3\n",
    "R_g = 127.42e-3\n",
    "%matplotlib inline\n",
    "\n",
    "B_max = 1.35 #mudar para 1.43\n",
    "H_reg = 19e-3\n",
    "\n",
    "tmm_magnet, K_magnet, tmm_no_magnet, K_no_magnet = plot_optimized_ramp_comparison_internal_magnet(B_max,\n",
    "                                                                                                  FIELD_FRACTION,\n",
    "                                                                                                  FIXED_PARAMETERS_MAGNET,\n",
    "                                                                                                  H_reg,\n",
    "                                                                                                  R_s,\n",
    "                                                                                                  R_o)\n",
    "\n",
    "print(\"Value of K with magnet: %.6f\" %(K_magnet))\n",
    "print(\"Parameters:\")\n",
    "print(tmm_magnet.params)\n",
    "print(\"Value of K without magnet: %.6f\" %(K_no_magnet))\n",
    "print(\"Parameters:\")\n",
    "print(tmm_no_magnet.params)"
   ]
  },
  {
   "cell_type": "code",
   "execution_count": null,
   "metadata": {},
   "outputs": [
    {
     "name": "stdout",
     "output_type": "stream",
     "text": [
      "Value of K with magnet: 0.001951\n",
      "Parameters:\n",
      "{'R_i': 0.03, 'h_fc': 0.25, 'R_e': 0.7, 'n_II': 5, 'n_IV': 5, 'phi_C_II': 0, 'phi_S_II': 60, 'phi_S_IV': 60, 'mu_r_II': 1.05, 'mu_r_IV': 1.05, 'linear_iron': 1, 'mu_r_iron': 1000.0, 'H[m]': 0.02, 'R_s': 0.25, 'R_o': 0.12157, 'R_g': 0.14444, 'B_rem_II_1': 1.26, 'B_rem_II_2': 1.26, 'B_rem_II_3': 1.26, 'B_rem_II_4': 1.26, 'B_rem_II_5': 1.26, 'B_rem_IV_1': 1.26, 'B_rem_IV_2': 1.26, 'B_rem_IV_3': 1.26, 'B_rem_IV_4': 1.26, 'B_rem_IV_5': 1.26, 'h_gap': 0.022870000000000015, 'alpha_rem_II_1': 0.6420789750762278, 'alpha_rem_II_2': 2.945055542499265, 'alpha_rem_II_3': 0.0, 'alpha_rem_II_4': 0.0, 'alpha_rem_II_5': 0.0, 'alpha_rem_IV_1': 7.694550605902688, 'alpha_rem_IV_2': 26.087629447507943, 'alpha_rem_IV_3': 62.98621158121402, 'alpha_rem_IV_4': 95.38918497903313, 'alpha_rem_IV_5': 34.873296209879804}\n",
      "Value of K without magnet: 0.000584\n",
      "Parameters:\n",
      "{'R_i': 0.03, 'h_fc': 0.25, 'R_e': 0.7, 'n_II': 0, 'n_IV': 5, 'phi_C_II': 0, 'phi_S_II': 0, 'phi_S_IV': 60, 'mu_r_II': 1.05, 'mu_r_IV': 1.05, 'linear_iron': 1, 'mu_r_iron': 1000.0, 'H[m]': 0.02, 'R_s': 0.25, 'R_o': 0.12157, 'R_g': 0.14444, 'B_rem_II_1': 1.26, 'B_rem_II_2': 1.26, 'B_rem_II_3': 1.26, 'B_rem_II_4': 1.26, 'B_rem_II_5': 1.26, 'B_rem_IV_1': 1.26, 'B_rem_IV_2': 1.26, 'B_rem_IV_3': 1.26, 'B_rem_IV_4': 1.26, 'B_rem_IV_5': 1.26, 'h_gap': 0.022870000000000015, 'alpha_rem_IV_1': 5.2334659899953335, 'alpha_rem_IV_2': 14.871346040562972, 'alpha_rem_IV_3': 46.877863809900006, 'alpha_rem_IV_4': 64.18240467145421, 'alpha_rem_IV_5': 17.046119191305284}\n"
     ]
    },
    {
     "data": {
      "image/png": "[encoded data removed]",
      "text/plain": [
       "<Figure size 283.465x283.465 with 1 Axes>"
      ]
     },
     "metadata": {
      "needs_background": "light"
     },
     "output_type": "display_data"
    }
   ],
   "source": [
    "#R_v=3\n",
    "%matplotlib inline\n",
    "R_s = 250e-3\n",
    "R_o = 121.57e-3\n",
    "R_g = 144.44e-3\n",
    "B_max = 1.3 #era pra dar K=0.002 ???\n",
    "H_reg = 20e-3\n",
    "\n",
    "tmm_magnet, K_magnet, tmm_no_magnet, K_no_magnet = plot_optimized_ramp_comparison_internal_magnet(B_max,\n",
    "                                                                                                  FIELD_FRACTION,\n",
    "                                                                                                  FIXED_PARAMETERS_MAGNET,\n",
    "                                                                                                  H_reg,\n",
    "                                                                                                  R_s,\n",
    "                                                                                                  R_o)\n",
    "print(\"Value of K with magnet: %.6f\" %(K_magnet))\n",
    "print(\"Parameters:\")\n",
    "print(tmm_magnet.params)\n",
    "print(\"Value of K without magnet: %.6f\" %(K_no_magnet))\n",
    "print(\"Parameters:\")\n",
    "print(tmm_no_magnet.params)"
   ]
  },
  {
   "cell_type": "code",
   "execution_count": null,
   "metadata": {},
   "outputs": [],
   "source": [
    "#R_v = 7\n",
    "R_s = 250e-3\n",
    "R_o = 88.54e-3\n",
    "R_g = 117.99e-3\n",
    "%matplotlib inline\n",
    "\n",
    "B_max = 1.495\n",
    "H_reg = 19e-3\n",
    "\n",
    "tmm_magnet, K_magnet, tmm_no_magnet, K_no_magnet = plot_optimized_ramp_comparison_internal_magnet(B_max,\n",
    "                                                                                                  FIELD_FRACTION,\n",
    "                                                                                                  FIXED_PARAMETERS_MAGNET,\n",
    "                                                                                                  H_reg,\n",
    "                                                                                                  R_s,\n",
    "                                                                                                  R_o)\n",
    "\n",
    "print(\"Value of K with magnet: %.6f\" %(K_magnet))\n",
    "print(\"Parameters:\")\n",
    "print(tmm_magnet.params)\n",
    "print(\"Value of K without magnet: %.6f\" %(K_no_magnet))\n",
    "print(\"Parameters:\")\n",
    "print(tmm_no_magnet.params)"
   ]
  },
  {
   "cell_type": "markdown",
   "metadata": {},
   "source": [
    "### Testing smaller iron cylinders"
   ]
  },
  {
   "cell_type": "markdown",
   "metadata": {},
   "source": [
    "## Ímã Joana"
   ]
  },
  {
   "cell_type": "code",
   "execution_count": 57,
   "metadata": {},
   "outputs": [],
   "source": [
    "B_HIGH_LIMIT = 1.5"
   ]
  },
  {
   "cell_type": "code",
   "execution_count": 58,
   "metadata": {},
   "outputs": [],
   "source": [
    "# Fixed parameters\n",
    "\n",
    "FIXED_PARAMETERS_AMR = {\n",
    "    \"D_p[m]\": 0.35e-3,\n",
    "    \"L[m]\": 85e-3,\n",
    "    \"W[m]\": 30e-3,\n",
    "    \"N_r[]\": 10,\n",
    "    \"T_H[K]\": 305.5,\n",
    "    \"dT[K]\": 35,\n",
    "    \"Casing material\": \"Stainless steel\",\n",
    "    \"t_casing[m]\": 0.5e-3,\n",
    "    \"t_air[m]\": 1e-3,\n",
    "    \"N_layers[]\": 3,\n",
    "    \"T_C_layers[K]\": np.array([273,283,290]),\n",
    "    \"Length_fraction_layers[%]\": np.array([20,20,60]),\n",
    "    \"B_min[T]\": 0.05}\n",
    "\n",
    "FIXED_PARAMETERS_LARGE_MAGNET = {\"R_i\": 0.025,\n",
    "                \"R_o\": 0.153,\n",
    "                \"h_fc\": 0.025,\n",
    "                \"R_e\": 0.7,\n",
    "                \"n_II\": 5,\n",
    "                \"n_IV\": 5,\n",
    "                \"phi_C_II\": 0,\n",
    "                \"phi_S_II\": 60,\n",
    "                \"phi_S_IV\": 60,\n",
    "                \"mu_r_II\": 1.05,\n",
    "                \"mu_r_IV\": 1.05,\n",
    "              \"linear_iron\": 1,\n",
    "              \"mu_r_iron\": 5e3,\n",
    "             }"
   ]
  },
  {
   "cell_type": "code",
   "execution_count": null,
   "metadata": {},
   "outputs": [],
   "source": [
    "%matplotlib inline\n",
    "\n",
    "B_max = 1.3\n",
    "H_reg = 25e-3\n",
    "R_s = 320e-3\n",
    "R_o = 0.153\n",
    "R_g = 0.185\n",
    "\n",
    "\n",
    "tmm_magnet, K_magnet, tmm_no_magnet, K_no_magnet = plot_optimized_ramp_comparison_internal_magnet(B_max,\n",
    "                                                                                                  FIELD_FRACTION,\n",
    "                                                                                                  FIXED_PARAMETERS_LARGE_MAGNET,\n",
    "                                                                                                  H_reg,\n",
    "                                                                                                  R_s, R_o)\n",
    "\n",
    "print(\"Value of K with magnet: %.6f\" %(K_magnet))\n",
    "print(\"Parameters:\")\n",
    "print(tmm_magnet.params)\n",
    "print(\"Value of K without magnet: %.6f\" %(K_no_magnet))\n",
    "print(\"Parameters:\")\n",
    "print(tmm_no_magnet.params)"
   ]
  },
  {
   "cell_type": "code",
   "execution_count": 60,
   "metadata": {},
   "outputs": [],
   "source": [
    "tmm_magnet.run()"
   ]
  },
  {
   "cell_type": "code",
   "execution_count": null,
   "metadata": {},
   "outputs": [],
   "source": []
  }
 ],
 "metadata": {
  "anaconda-cloud": {},
  "kernelspec": {
   "display_name": "Python 3",
   "language": "python",
   "name": "python3"
  },
  "language_info": {
   "codemirror_mode": {
    "name": "ipython",
    "version": 3
   },
   "file_extension": ".py",
   "mimetype": "text/x-python",
   "name": "python",
   "nbconvert_exporter": "python",
   "pygments_lexer": "ipython3",
   "version": "3.7.1"
  }
 },
 "nbformat": 4,
 "nbformat_minor": 2
}
