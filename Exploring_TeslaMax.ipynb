{
 "cells": [
  {
   "cell_type": "markdown",
   "metadata": {},
   "source": [
    "Change the directory to a playground area:"
   ]
  },
  {
   "cell_type": "code",
   "execution_count": 9,
   "metadata": {
    "collapsed": true
   },
   "outputs": [],
   "source": [
    "from pathlib import Path\n",
    "import os\n",
    "\n",
    "COMSOL_PARAMETER_FILENAME = 'params.txt'"
   ]
  },
  {
   "cell_type": "code",
   "execution_count": 7,
   "metadata": {
    "collapsed": false
   },
   "outputs": [],
   "source": [
    "teslamax_playground = Path.home() / \"Desktop\" / \"teslamax-play\"\n",
    "teslamax_playground.mkdir(exist_ok=True)\n",
    "os.chdir(str(teslamax_playground))"
   ]
  },
  {
   "cell_type": "code",
   "execution_count": 8,
   "metadata": {
    "collapsed": false
   },
   "outputs": [
    {
     "data": {
      "text/plain": [
       "WindowsPath('C:/Users/fabiofortkamp/Desktop/teslamax-play')"
      ]
     },
     "execution_count": 8,
     "metadata": {},
     "output_type": "execute_result"
    }
   ],
   "source": [
    "teslamax_playground"
   ]
  },
  {
   "cell_type": "markdown",
   "metadata": {},
   "source": [
    "Write the parameters file to that directory:"
   ]
  },
  {
   "cell_type": "code",
   "execution_count": 10,
   "metadata": {
    "collapsed": false
   },
   "outputs": [
    {
     "data": {
      "text/plain": [
       "273"
      ]
     },
     "execution_count": 10,
     "metadata": {},
     "output_type": "execute_result"
    }
   ],
   "source": [
    "param_values = [\"R_i 0.015\",\n",
    "                \"R_o 0.050\",\n",
    "                \"h_gap 0.020\",\n",
    "                \"R_s 0.140\",\n",
    "                \"h_fc 0.020\",\n",
    "                \"R_e 2\",\n",
    "                \"n_II 3\",\n",
    "                \"n_IV 3\",\n",
    "                \"alpha_rem_II_1 30\",\n",
    "                \"alpha_rem_II_2 15\",\n",
    "                \"alpha_rem_II_3 -15\",\n",
    "                \"alpha_rem_IV_1 -15\",\n",
    "                \"alpha_rem_IV_2 15\",\n",
    "                \"alpha_rem_IV_3 45\",\n",
    "                \"R_g 0.070\",\n",
    "                \"phi_S_II 45\",\n",
    "                \"phi_S_IV 45\",\n",
    "                \"delta_phi_S_II 15\",\n",
    "                \"delta_phi_S_IV 15\",\n",
    "                \"B_rem 1.47\",\n",
    "                \"R_c 0.160\"]\n",
    "\n",
    "\n",
    "parameters_file_path = Path(\".\") / COMSOL_PARAMETER_FILENAME\n",
    "\n",
    "parameters_file_path.write_text(\"\\n\".join(param_values))"
   ]
  },
  {
   "cell_type": "code",
   "execution_count": 15,
   "metadata": {
    "collapsed": false
   },
   "outputs": [
    {
     "data": {
      "text/plain": [
       "'C:\\\\Users\\\\fabiofortkamp\\\\Desktop\\\\teslamax-play'"
      ]
     },
     "execution_count": 15,
     "metadata": {},
     "output_type": "execute_result"
    }
   ],
   "source": [
    "os.getcwd()"
   ]
  },
  {
   "cell_type": "markdown",
   "metadata": {},
   "source": [
    "Run the teslamax process in the playground:"
   ]
  },
  {
   "cell_type": "code",
   "execution_count": 12,
   "metadata": {
    "collapsed": true
   },
   "outputs": [],
   "source": [
    "import subprocess"
   ]
  },
  {
   "cell_type": "code",
   "execution_count": 14,
   "metadata": {
    "collapsed": false
   },
   "outputs": [
    {
     "data": {
      "text/plain": [
       "CompletedProcess(args='teslamax', returncode=1, stdout=b'\\r\\n/******************/\\r\\n/*****Error********/\\r\\n/******************/\\r\\nCannot open file for writing.\\r\\n\\r\\nERROR: Could not start COMSOL. See log file: C:\\\\Users\\\\fabiofortkamp\\\\.comsol\\\\v52a\\\\logs\\\\batch3.log\\r\\nERROR: Additional information: Cannot open file for writing.\\r\\n!SESSION 2016-10-11 10:46:48.019 -----------------------------------------------\\r\\neclipse.buildId=unknown\\r\\njava.version=1.8.0_102\\r\\njava.vendor=Oracle Corporation\\r\\nBootLoader constants: OS=win32, ARCH=x86_64, WS=win32, NL=pt_BR\\r\\nFramework arguments:  batch -install ../.. -inputfile C:\\\\Users\\\\fabiofortkamp\\\\Anaconda3\\\\lib\\\\site-packages\\\\java\\\\TeslaMax.class\\r\\nCommand-line arguments:  -os win32 -ws win32 -arch x86_64 batch -install ../.. -inputfile C:\\\\Users\\\\fabiofortkamp\\\\Anaconda3\\\\lib\\\\site-packages\\\\java\\\\TeslaMax.class\\r\\n\\r\\n!ENTRY com.comsol.util 4 0 2016-10-11 10:46:52.772\\r\\n!MESSAGE Could not start COMSOL. Error: Cannot open file for writing.\\r\\n!STACK 0\\r\\njava.lang.RuntimeException: Cannot open file for writing.\\r\\n\\tat com.comsol.batch.BatchApplication.a(SourceFile:472)\\r\\n\\tat com.comsol.batch.BatchApplication.doStart(SourceFile:454)\\r\\n\\tat com.comsol.util.application.ComsolApplication.doStart(SourceFile:194)\\r\\n\\tat com.comsol.util.application.CsBaseApplication.start(SourceFile:168)\\r\\n\\tat org.eclipse.equinox.internal.app.EclipseAppHandle.run(EclipseAppHandle.java:196)\\r\\n\\tat org.eclipse.core.runtime.internal.adaptor.EclipseAppLauncher.runApplication(EclipseAppLauncher.java:134)\\r\\n\\tat org.eclipse.core.runtime.internal.adaptor.EclipseAppLauncher.start(EclipseAppLauncher.java:104)\\r\\n\\tat org.eclipse.core.runtime.adaptor.EclipseStarter.run(EclipseStarter.java:380)\\r\\n\\tat org.eclipse.core.runtime.adaptor.EclipseStarter.run(EclipseStarter.java:235)\\r\\n\\tat sun.reflect.NativeMethodAccessorImpl.invoke0(Native Method)\\r\\n\\tat sun.reflect.NativeMethodAccessorImpl.invoke(NativeMethodAccessorImpl.java:62)\\r\\n\\tat sun.reflect.DelegatingMethodAccessorImpl.invoke(DelegatingMethodAccessorImpl.java:43)\\r\\n\\tat java.lang.reflect.Method.invoke(Method.java:498)\\r\\n\\tat org.eclipse.equinox.launcher.Main.invokeFramework(Main.java:669)\\r\\n\\tat org.eclipse.equinox.launcher.Main.basicRun(Main.java:608)\\r\\n\\tat org.eclipse.equinox.launcher.Main.run(Main.java:1515)\\r\\nTraceback (most recent call last):\\r\\n  File \"C:\\\\Users\\\\fabiofortkamp\\\\Anaconda3\\\\Scripts\\\\teslamax-script.py\", line 11, in <module>\\r\\n    load_entry_point(\\'teslamax==0.6\\', \\'console_scripts\\', \\'teslamax\\')()\\r\\n  File \"C:\\\\Users\\\\fabiofortkamp\\\\Anaconda3\\\\lib\\\\site-packages\\\\teslamax\\\\__main__.py\", line 225, in main\\r\\n    run_comsol_mode()\\r\\n  File \"C:\\\\Users\\\\fabiofortkamp\\\\Anaconda3\\\\lib\\\\site-packages\\\\teslamax\\\\__main__.py\", line 212, in run_comsol_mode\\r\\n    process_main_results_file()\\r\\n  File \"C:\\\\Users\\\\fabiofortkamp\\\\Anaconda3\\\\lib\\\\site-packages\\\\teslamax\\\\__main__.py\", line 105, in process_main_results_file\\r\\n    \"A_magnet[m2]\"])\\r\\n  File \"C:\\\\Users\\\\fabiofortkamp\\\\Anaconda3\\\\lib\\\\site-packages\\\\pandas\\\\io\\\\parsers.py\", line 562, in parser_f\\r\\n    return _read(filepath_or_buffer, kwds)\\r\\n  File \"C:\\\\Users\\\\fabiofortkamp\\\\Anaconda3\\\\lib\\\\site-packages\\\\pandas\\\\io\\\\parsers.py\", line 315, in _read\\r\\n    parser = TextFileReader(filepath_or_buffer, **kwds)\\r\\n  File \"C:\\\\Users\\\\fabiofortkamp\\\\Anaconda3\\\\lib\\\\site-packages\\\\pandas\\\\io\\\\parsers.py\", line 645, in __init__\\r\\n    self._make_engine(self.engine)\\r\\n  File \"C:\\\\Users\\\\fabiofortkamp\\\\Anaconda3\\\\lib\\\\site-packages\\\\pandas\\\\io\\\\parsers.py\", line 799, in _make_engine\\r\\n    self._engine = CParserWrapper(self.f, **self.options)\\r\\n  File \"C:\\\\Users\\\\fabiofortkamp\\\\Anaconda3\\\\lib\\\\site-packages\\\\pandas\\\\io\\\\parsers.py\", line 1213, in __init__\\r\\n    self._reader = _parser.TextReader(src, **kwds)\\r\\n  File \"pandas\\\\parser.pyx\", line 358, in pandas.parser.TextReader.__cinit__ (pandas\\\\parser.c:3427)\\r\\n  File \"pandas\\\\parser.pyx\", line 628, in pandas.parser.TextReader._setup_parser_source (pandas\\\\parser.c:6861)\\r\\nOSError: File b\\'COMSOL Main Results.txt\\' does not exist\\r\\n')"
      ]
     },
     "execution_count": 14,
     "metadata": {},
     "output_type": "execute_result"
    }
   ],
   "source": [
    "subprocess.run('teslamax',shell=True,stdout=subprocess.PIPE,stderr=subprocess.STDOUT)"
   ]
  },
  {
   "cell_type": "code",
   "execution_count": 16,
   "metadata": {
    "collapsed": false
   },
   "outputs": [
    {
     "name": "stdout",
     "output_type": "stream",
     "text": [
      " O volume na unidade C nÆo tem nome.\n",
      " O N£mero de S‚rie do Volume ‚ 742E-A641\n",
      "\n",
      " Pasta de C:\\Users\\fabiofortkamp\\Desktop\\teslamax-play\n",
      "\n",
      "11/10/2016  10:43    <DIR>          .\n",
      "11/10/2016  10:43    <DIR>          ..\n",
      "11/10/2016  10:43               293 params.txt\n",
      "               1 arquivo(s)            293 bytes\n",
      "               2 pasta(s)   424 101 937 152 bytes dispon¡veis\n"
     ]
    }
   ],
   "source": [
    "%ls"
   ]
  },
  {
   "cell_type": "code",
   "execution_count": 17,
   "metadata": {
    "collapsed": false
   },
   "outputs": [
    {
     "name": "stdout",
     "output_type": "stream",
     "text": [
      "\n",
      "/******************/\n",
      "/*****Error********/\n",
      "/******************/\n",
      "Cannot open file for writing.\n",
      "\n",
      "ERROR: Could not start COMSOL. See log file: C:\\Users\\fabiofortkamp\\.comsol\\v52a\\logs\\batch4.log\n",
      "ERROR: Additional information: Cannot open file for writing.\n",
      "!SESSION 2016-10-11 11:02:01.555 -----------------------------------------------\n",
      "eclipse.buildId=unknown\n",
      "java.version=1.8.0_102\n",
      "java.vendor=Oracle Corporation\n",
      "BootLoader constants: OS=win32, ARCH=x86_64, WS=win32, NL=pt_BR\n",
      "Framework arguments:  batch -install ../.. -inputfile C:\\Users\\fabiofortkamp\\Anaconda3\\lib\\site-packages\\java\\TeslaMax.class\n",
      "Command-line arguments:  -os win32 -ws win32 -arch x86_64 batch -install ../.. -inputfile C:\\Users\\fabiofortkamp\\Anaconda3\\lib\\site-packages\\java\\TeslaMax.class\n",
      "\n",
      "!ENTRY com.comsol.util 4 0 2016-10-11 11:02:06.461\n",
      "!MESSAGE Could not start COMSOL. Error: Cannot open file for writing.\n",
      "!STACK 0\n",
      "java.lang.RuntimeException: Cannot open file for writing.\n",
      "\tat com.comsol.batch.BatchApplication.a(SourceFile:472)\n",
      "\tat com.comsol.batch.BatchApplication.doStart(SourceFile:454)\n",
      "\tat com.comsol.util.application.ComsolApplication.doStart(SourceFile:194)\n",
      "\tat com.comsol.util.application.CsBaseApplication.start(SourceFile:168)\n",
      "\tat org.eclipse.equinox.internal.app.EclipseAppHandle.run(EclipseAppHandle.java:196)\n",
      "\tat org.eclipse.core.runtime.internal.adaptor.EclipseAppLauncher.runApplication(EclipseAppLauncher.java:134)\n",
      "\tat org.eclipse.core.runtime.internal.adaptor.EclipseAppLauncher.start(EclipseAppLauncher.java:104)\n",
      "\tat org.eclipse.core.runtime.adaptor.EclipseStarter.run(EclipseStarter.java:380)\n",
      "\tat org.eclipse.core.runtime.adaptor.EclipseStarter.run(EclipseStarter.java:235)\n",
      "\tat sun.reflect.NativeMethodAccessorImpl.invoke0(Native Method)\n",
      "\tat sun.reflect.NativeMethodAccessorImpl.invoke(NativeMethodAccessorImpl.java:62)\n",
      "\tat sun.reflect.DelegatingMethodAccessorImpl.invoke(DelegatingMethodAccessorImpl.java:43)\n",
      "\tat java.lang.reflect.Method.invoke(Method.java:498)\n",
      "\tat org.eclipse.equinox.launcher.Main.invokeFramework(Main.java:669)\n",
      "\tat org.eclipse.equinox.launcher.Main.basicRun(Main.java:608)\n",
      "\tat org.eclipse.equinox.launcher.Main.run(Main.java:1515)\n"
     ]
    },
    {
     "name": "stderr",
     "output_type": "stream",
     "text": [
      "Traceback (most recent call last):\n",
      "  File \"C:\\Users\\fabiofortkamp\\Anaconda3\\Scripts\\teslamax-script.py\", line 11, in <module>\n",
      "    load_entry_point('teslamax==0.6', 'console_scripts', 'teslamax')()\n",
      "  File \"C:\\Users\\fabiofortkamp\\Anaconda3\\lib\\site-packages\\teslamax\\__main__.py\", line 225, in main\n",
      "    run_comsol_mode()\n",
      "  File \"C:\\Users\\fabiofortkamp\\Anaconda3\\lib\\site-packages\\teslamax\\__main__.py\", line 212, in run_comsol_mode\n",
      "    process_main_results_file()\n",
      "  File \"C:\\Users\\fabiofortkamp\\Anaconda3\\lib\\site-packages\\teslamax\\__main__.py\", line 105, in process_main_results_file\n",
      "    \"A_magnet[m2]\"])\n",
      "  File \"C:\\Users\\fabiofortkamp\\Anaconda3\\lib\\site-packages\\pandas\\io\\parsers.py\", line 562, in parser_f\n",
      "    return _read(filepath_or_buffer, kwds)\n",
      "  File \"C:\\Users\\fabiofortkamp\\Anaconda3\\lib\\site-packages\\pandas\\io\\parsers.py\", line 315, in _read\n",
      "    parser = TextFileReader(filepath_or_buffer, **kwds)\n",
      "  File \"C:\\Users\\fabiofortkamp\\Anaconda3\\lib\\site-packages\\pandas\\io\\parsers.py\", line 645, in __init__\n",
      "    self._make_engine(self.engine)\n",
      "  File \"C:\\Users\\fabiofortkamp\\Anaconda3\\lib\\site-packages\\pandas\\io\\parsers.py\", line 799, in _make_engine\n",
      "    self._engine = CParserWrapper(self.f, **self.options)\n",
      "  File \"C:\\Users\\fabiofortkamp\\Anaconda3\\lib\\site-packages\\pandas\\io\\parsers.py\", line 1213, in __init__\n",
      "    self._reader = _parser.TextReader(src, **kwds)\n",
      "  File \"pandas\\parser.pyx\", line 358, in pandas.parser.TextReader.__cinit__ (pandas\\parser.c:3427)\n",
      "  File \"pandas\\parser.pyx\", line 628, in pandas.parser.TextReader._setup_parser_source (pandas\\parser.c:6861)\n",
      "OSError: File b'COMSOL Main Results.txt' does not exist\n"
     ]
    }
   ],
   "source": [
    "!teslamax"
   ]
  },
  {
   "cell_type": "code",
   "execution_count": null,
   "metadata": {
    "collapsed": true
   },
   "outputs": [],
   "source": []
  }
 ],
 "metadata": {
  "anaconda-cloud": {},
  "kernelspec": {
   "display_name": "Python [default]",
   "language": "python",
   "name": "python3"
  },
  "language_info": {
   "codemirror_mode": {
    "name": "ipython",
    "version": 3
   },
   "file_extension": ".py",
   "mimetype": "text/x-python",
   "name": "python",
   "nbconvert_exporter": "python",
   "pygments_lexer": "ipython3",
   "version": "3.5.1"
  }
 },
 "nbformat": 4,
 "nbformat_minor": 1
}
